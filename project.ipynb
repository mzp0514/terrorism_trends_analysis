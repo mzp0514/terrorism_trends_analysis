{
 "cells": [
  {
   "cell_type": "markdown",
   "metadata": {},
   "source": [
    "## Dataset Exploration"
   ]
  },
  {
   "cell_type": "code",
   "execution_count": 7,
   "metadata": {},
   "outputs": [],
   "source": [
    "import json\n",
    "\n",
    "def filter_json_by_keywords(keywords_file, json_files, output_file):\n",
    "    # Read keywords from the file\n",
    "    with open(keywords_file, 'r') as keywords_file:\n",
    "        keywords = set(map(str.strip, keywords_file.readlines()))\n",
    "\n",
    "    print(keywords)\n",
    "\n",
    "    filtered_cnt = 0\n",
    "\n",
    "    # Open output file for writing\n",
    "    with open(output_file, 'w') as output:\n",
    "        for json_file in json_files:\n",
    "            # Open input JSON file\n",
    "            with open(json_file, 'r') as json_file:\n",
    "                # Iterate over each line (JSON string) in the input file\n",
    "                for line in json_file:\n",
    "                    try:\n",
    "                        # Parse the JSON\n",
    "                        json_data = json.loads(line)\n",
    "                        # Check if 'text' field contains any of the keywords\n",
    "                        if any(keyword in json_data.get('text', '') for keyword in keywords):\n",
    "                            # Write the JSON string to the output file\n",
    "                            output.write(line)\n",
    "                            filtered_cnt += 1\n",
    "                            \n",
    "                    except json.JSONDecodeError:\n",
    "                        # Handle invalid JSON strings\n",
    "                        print(\"Invalid JSON:\", line)\n",
    "\n",
    "    print(\"output: %d lines\" % filtered_cnt)\n"
   ]
  },
  {
   "cell_type": "code",
   "execution_count": 8,
   "metadata": {},
   "outputs": [
    {
     "name": "stdout",
     "output_type": "stream",
     "text": [
      "{'finance'}\n",
      "output: 41054 lines\n"
     ]
    }
   ],
   "source": [
    "filter_json_by_keywords(\"keywords.txt\", [\"./data/test.jsonl\", \"./data/train.jsonl\"], \"./data/filtered_data.json\")"
   ]
  }
 ],
 "metadata": {
  "kernelspec": {
   "display_name": "Python 3",
   "language": "python",
   "name": "python3"
  },
  "language_info": {
   "codemirror_mode": {
    "name": "ipython",
    "version": 3
   },
   "file_extension": ".py",
   "mimetype": "text/x-python",
   "name": "python",
   "nbconvert_exporter": "python",
   "pygments_lexer": "ipython3",
   "version": "3.9.6"
  }
 },
 "nbformat": 4,
 "nbformat_minor": 2
}
