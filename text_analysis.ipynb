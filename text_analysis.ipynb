{
 "cells": [
  {
   "cell_type": "code",
   "execution_count": 1,
   "id": "initial_id",
   "metadata": {
    "collapsed": true,
    "ExecuteTime": {
     "end_time": "2024-05-23T09:00:17.746150Z",
     "start_time": "2024-05-23T09:00:17.448782Z"
    }
   },
   "outputs": [],
   "source": [
    "import pandas as pd\n",
    "import re\n",
    "import nltk\n",
    "import numpy as np\n",
    "from nltk.corpus import stopwords\n",
    "from nltk.tokenize import word_tokenize, sent_tokenize\n",
    "from nltk.stem import WordNetLemmatizer"
   ]
  },
  {
   "cell_type": "code",
   "outputs": [],
   "source": [
    "df = pd.read_csv('data/output.csv')"
   ],
   "metadata": {
    "collapsed": false,
    "ExecuteTime": {
     "end_time": "2024-05-23T09:00:21.403251Z",
     "start_time": "2024-05-23T09:00:19.261125Z"
    }
   },
   "id": "decd454f65c537b3",
   "execution_count": 2
  },
  {
   "cell_type": "code",
   "outputs": [],
   "source": [
    "df['countries']"
   ],
   "metadata": {
    "collapsed": false
   },
   "id": "5f922cf48527fd26",
   "execution_count": 3
  },
  {
   "cell_type": "markdown",
   "source": [
    "# Proprocessing"
   ],
   "metadata": {
    "collapsed": false
   },
   "id": "6c5b5238a8231a75"
  },
  {
   "cell_type": "code",
   "outputs": [
    {
     "name": "stderr",
     "output_type": "stream",
     "text": [
      "[nltk_data] Downloading package punkt to /Users/zmao/nltk_data...\n",
      "[nltk_data]   Package punkt is already up-to-date!\n",
      "[nltk_data] Downloading package stopwords to /Users/zmao/nltk_data...\n",
      "[nltk_data]   Package stopwords is already up-to-date!\n",
      "[nltk_data] Downloading package wordnet to /Users/zmao/nltk_data...\n",
      "[nltk_data]   Package wordnet is already up-to-date!\n",
      "[nltk_data] Downloading package averaged_perceptron_tagger to\n",
      "[nltk_data]     /Users/zmao/nltk_data...\n",
      "[nltk_data]   Package averaged_perceptron_tagger is already up-to-\n",
      "[nltk_data]       date!\n"
     ]
    },
    {
     "data": {
      "text/plain": "True"
     },
     "execution_count": 10,
     "metadata": {},
     "output_type": "execute_result"
    }
   ],
   "source": [
    "# download nltk data\n",
    "nltk.download('punkt')\n",
    "nltk.download('stopwords')\n",
    "nltk.download('wordnet')\n",
    "nltk.download('averaged_perceptron_tagger')\n",
    "nltk.downloader.download('maxent_ne_chunker')\n",
    "nltk.downloader.download('words')\n",
    "nltk.downloader.download('treebank')\n",
    "nltk.downloader.download('maxent_treebank_pos_tagger')\n"
   ],
   "metadata": {
    "collapsed": false,
    "ExecuteTime": {
     "end_time": "2024-05-18T18:22:10.351702Z",
     "start_time": "2024-05-18T18:22:10.134293Z"
    }
   },
   "id": "76db3a68e4c9130b",
   "execution_count": 10
  },
  {
   "cell_type": "code",
   "outputs": [
    {
     "name": "stdout",
     "output_type": "stream",
     "text": [
      "Defaulting to user installation because normal site-packages is not writeable\n",
      "Collecting en-core-web-sm==3.7.1\n",
      "  Downloading https://github.com/explosion/spacy-models/releases/download/en_core_web_sm-3.7.1/en_core_web_sm-3.7.1-py3-none-any.whl (12.8 MB)\n",
      "Requirement already satisfied: spacy<3.8.0,>=3.7.2 in /Users/zmao/Library/Python/3.9/lib/python/site-packages (from en-core-web-sm==3.7.1) (3.7.4)\n",
      "Requirement already satisfied: cymem<2.1.0,>=2.0.2 in /Users/zmao/Library/Python/3.9/lib/python/site-packages (from spacy<3.8.0,>=3.7.2->en-core-web-sm==3.7.1) (2.0.8)\n",
      "Requirement already satisfied: tqdm<5.0.0,>=4.38.0 in /Users/zmao/Library/Python/3.9/lib/python/site-packages (from spacy<3.8.0,>=3.7.2->en-core-web-sm==3.7.1) (4.66.2)\n",
      "Requirement already satisfied: requests<3.0.0,>=2.13.0 in /Users/zmao/Library/Python/3.9/lib/python/site-packages (from spacy<3.8.0,>=3.7.2->en-core-web-sm==3.7.1) (2.31.0)\n",
      "Requirement already satisfied: langcodes<4.0.0,>=3.2.0 in /Users/zmao/Library/Python/3.9/lib/python/site-packages (from spacy<3.8.0,>=3.7.2->en-core-web-sm==3.7.1) (3.4.0)\n",
      "Requirement already satisfied: numpy>=1.19.0 in /Users/zmao/Library/Python/3.9/lib/python/site-packages (from spacy<3.8.0,>=3.7.2->en-core-web-sm==3.7.1) (1.26.4)\n",
      "Requirement already satisfied: spacy-legacy<3.1.0,>=3.0.11 in /Users/zmao/Library/Python/3.9/lib/python/site-packages (from spacy<3.8.0,>=3.7.2->en-core-web-sm==3.7.1) (3.0.12)\n",
      "Requirement already satisfied: wasabi<1.2.0,>=0.9.1 in /Users/zmao/Library/Python/3.9/lib/python/site-packages (from spacy<3.8.0,>=3.7.2->en-core-web-sm==3.7.1) (1.1.2)\n",
      "Requirement already satisfied: setuptools in /Library/Developer/CommandLineTools/Library/Frameworks/Python3.framework/Versions/3.9/lib/python3.9/site-packages (from spacy<3.8.0,>=3.7.2->en-core-web-sm==3.7.1) (58.0.4)\n",
      "Requirement already satisfied: weasel<0.4.0,>=0.1.0 in /Users/zmao/Library/Python/3.9/lib/python/site-packages (from spacy<3.8.0,>=3.7.2->en-core-web-sm==3.7.1) (0.3.4)\n",
      "Requirement already satisfied: smart-open<7.0.0,>=5.2.1 in /Users/zmao/Library/Python/3.9/lib/python/site-packages (from spacy<3.8.0,>=3.7.2->en-core-web-sm==3.7.1) (6.4.0)\n",
      "Requirement already satisfied: preshed<3.1.0,>=3.0.2 in /Users/zmao/Library/Python/3.9/lib/python/site-packages (from spacy<3.8.0,>=3.7.2->en-core-web-sm==3.7.1) (3.0.9)\n",
      "Requirement already satisfied: thinc<8.3.0,>=8.2.2 in /Users/zmao/Library/Python/3.9/lib/python/site-packages (from spacy<3.8.0,>=3.7.2->en-core-web-sm==3.7.1) (8.2.3)\n",
      "Requirement already satisfied: typer<0.10.0,>=0.3.0 in /Users/zmao/Library/Python/3.9/lib/python/site-packages (from spacy<3.8.0,>=3.7.2->en-core-web-sm==3.7.1) (0.9.4)\n",
      "Requirement already satisfied: packaging>=20.0 in /Users/zmao/Library/Python/3.9/lib/python/site-packages (from spacy<3.8.0,>=3.7.2->en-core-web-sm==3.7.1) (23.2)\n",
      "Requirement already satisfied: jinja2 in /Users/zmao/Library/Python/3.9/lib/python/site-packages (from spacy<3.8.0,>=3.7.2->en-core-web-sm==3.7.1) (3.1.3)\n",
      "Requirement already satisfied: catalogue<2.1.0,>=2.0.6 in /Users/zmao/Library/Python/3.9/lib/python/site-packages (from spacy<3.8.0,>=3.7.2->en-core-web-sm==3.7.1) (2.0.10)\n",
      "Requirement already satisfied: pydantic!=1.8,!=1.8.1,<3.0.0,>=1.7.4 in /Users/zmao/Library/Python/3.9/lib/python/site-packages (from spacy<3.8.0,>=3.7.2->en-core-web-sm==3.7.1) (2.7.1)\n",
      "Requirement already satisfied: spacy-loggers<2.0.0,>=1.0.0 in /Users/zmao/Library/Python/3.9/lib/python/site-packages (from spacy<3.8.0,>=3.7.2->en-core-web-sm==3.7.1) (1.0.5)\n",
      "Requirement already satisfied: murmurhash<1.1.0,>=0.28.0 in /Users/zmao/Library/Python/3.9/lib/python/site-packages (from spacy<3.8.0,>=3.7.2->en-core-web-sm==3.7.1) (1.0.10)\n",
      "Requirement already satisfied: srsly<3.0.0,>=2.4.3 in /Users/zmao/Library/Python/3.9/lib/python/site-packages (from spacy<3.8.0,>=3.7.2->en-core-web-sm==3.7.1) (2.4.8)\n",
      "Requirement already satisfied: language-data>=1.2 in /Users/zmao/Library/Python/3.9/lib/python/site-packages (from langcodes<4.0.0,>=3.2.0->spacy<3.8.0,>=3.7.2->en-core-web-sm==3.7.1) (1.2.0)\n",
      "Requirement already satisfied: marisa-trie>=0.7.7 in /Users/zmao/Library/Python/3.9/lib/python/site-packages (from language-data>=1.2->langcodes<4.0.0,>=3.2.0->spacy<3.8.0,>=3.7.2->en-core-web-sm==3.7.1) (1.1.1)\n",
      "Requirement already satisfied: annotated-types>=0.4.0 in /Users/zmao/Library/Python/3.9/lib/python/site-packages (from pydantic!=1.8,!=1.8.1,<3.0.0,>=1.7.4->spacy<3.8.0,>=3.7.2->en-core-web-sm==3.7.1) (0.6.0)\n",
      "Requirement already satisfied: typing-extensions>=4.6.1 in /Users/zmao/Library/Python/3.9/lib/python/site-packages (from pydantic!=1.8,!=1.8.1,<3.0.0,>=1.7.4->spacy<3.8.0,>=3.7.2->en-core-web-sm==3.7.1) (4.10.0)\n",
      "Requirement already satisfied: pydantic-core==2.18.2 in /Users/zmao/Library/Python/3.9/lib/python/site-packages (from pydantic!=1.8,!=1.8.1,<3.0.0,>=1.7.4->spacy<3.8.0,>=3.7.2->en-core-web-sm==3.7.1) (2.18.2)\n",
      "Requirement already satisfied: charset-normalizer<4,>=2 in /Users/zmao/Library/Python/3.9/lib/python/site-packages (from requests<3.0.0,>=2.13.0->spacy<3.8.0,>=3.7.2->en-core-web-sm==3.7.1) (3.3.2)\n",
      "Requirement already satisfied: certifi>=2017.4.17 in /Users/zmao/Library/Python/3.9/lib/python/site-packages (from requests<3.0.0,>=2.13.0->spacy<3.8.0,>=3.7.2->en-core-web-sm==3.7.1) (2024.2.2)\n",
      "Requirement already satisfied: urllib3<3,>=1.21.1 in /Users/zmao/Library/Python/3.9/lib/python/site-packages (from requests<3.0.0,>=2.13.0->spacy<3.8.0,>=3.7.2->en-core-web-sm==3.7.1) (2.2.1)\n",
      "Requirement already satisfied: idna<4,>=2.5 in /Users/zmao/Library/Python/3.9/lib/python/site-packages (from requests<3.0.0,>=2.13.0->spacy<3.8.0,>=3.7.2->en-core-web-sm==3.7.1) (3.6)\n",
      "Requirement already satisfied: blis<0.8.0,>=0.7.8 in /Users/zmao/Library/Python/3.9/lib/python/site-packages (from thinc<8.3.0,>=8.2.2->spacy<3.8.0,>=3.7.2->en-core-web-sm==3.7.1) (0.7.11)\n",
      "Requirement already satisfied: confection<1.0.0,>=0.0.1 in /Users/zmao/Library/Python/3.9/lib/python/site-packages (from thinc<8.3.0,>=8.2.2->spacy<3.8.0,>=3.7.2->en-core-web-sm==3.7.1) (0.1.4)\n",
      "Requirement already satisfied: click<9.0.0,>=7.1.1 in /Library/Python/3.9/site-packages (from typer<0.10.0,>=0.3.0->spacy<3.8.0,>=3.7.2->en-core-web-sm==3.7.1) (8.1.7)\n",
      "Requirement already satisfied: cloudpathlib<0.17.0,>=0.7.0 in /Users/zmao/Library/Python/3.9/lib/python/site-packages (from weasel<0.4.0,>=0.1.0->spacy<3.8.0,>=3.7.2->en-core-web-sm==3.7.1) (0.16.0)\n",
      "Requirement already satisfied: MarkupSafe>=2.0 in /Users/zmao/Library/Python/3.9/lib/python/site-packages (from jinja2->spacy<3.8.0,>=3.7.2->en-core-web-sm==3.7.1) (2.1.5)\n",
      "Installing collected packages: en-core-web-sm\n",
      "Successfully installed en-core-web-sm-3.7.1\n",
      "\u001B[38;5;2m✔ Download and installation successful\u001B[0m\n",
      "You can now load the package via spacy.load('en_core_web_sm')\n",
      "\u001B[38;5;3m⚠ Restart to reload dependencies\u001B[0m\n",
      "If you are in a Jupyter or Colab notebook, you may need to restart Python in\n",
      "order to load all the package's dependencies. You can do this by selecting the\n",
      "'Restart kernel' or 'Restart runtime' option.\n"
     ]
    },
    {
     "name": "stderr",
     "output_type": "stream",
     "text": [
      "WARNING: You are using pip version 21.2.4; however, version 24.0 is available.\n",
      "You should consider upgrading via the '/Library/Developer/CommandLineTools/usr/bin/python3 -m pip install --upgrade pip' command.\n"
     ]
    },
    {
     "name": "stdout",
     "output_type": "stream",
     "text": [
      "[('Graves', 177, 183, 'ORG'), ('Graves', 316, 322, 'ORG'), ('first', 385, 390, 'ORDINAL'), ('Australian', 484, 494, 'NORP'), ('Caucasian', 495, 504, 'NORP'), ('265', 525, 528, 'CARDINAL'), ('Graves', 547, 553, 'PERSON'), ('147', 582, 585, 'CARDINAL')]\n"
     ]
    }
   ],
   "source": [
    "import spacy\n",
    "spacy.cli.download(\"en_core_web_sm\")\n",
    "nlp = spacy.load(\"en_core_web_sm\")\n",
    "doc = nlp(\"Thyroid-associated orbitopathy (TO) is an autoimmune-mediated orbital inflammation that can lead to disfigurement and blindness. Multiple genetic loci have been associated with Graves' disease, but the genetic basis for TO is largely unknown. This study aimed to identify loci associated with TO in individuals with Graves' disease, using a genome-wide association scan (GWAS) for the first time to our knowledge in TO.Genome-wide association scan was performed on pooled DNA from an Australian Caucasian discovery cohort of 265 participants with Graves' disease and TO (cases) and 147 patients with Graves disease without TO (controls).\")\n",
    "\n",
    "# document level\n",
    "ents = [(e.text, e.start_char, e.end_char, e.label_) for e in doc.ents]\n",
    "print(ents)"
   ],
   "metadata": {
    "collapsed": false,
    "ExecuteTime": {
     "end_time": "2024-05-18T21:02:23.347552Z",
     "start_time": "2024-05-18T21:02:19.716410Z"
    }
   },
   "id": "5a39c0b864c99575",
   "execution_count": 95
  },
  {
   "cell_type": "code",
   "outputs": [
    {
     "ename": "ModuleNotFoundError",
     "evalue": "No module named 'en_core_web_sm'",
     "output_type": "error",
     "traceback": [
      "\u001B[0;31m---------------------------------------------------------------------------\u001B[0m",
      "\u001B[0;31mModuleNotFoundError\u001B[0m                       Traceback (most recent call last)",
      "\u001B[0;32m/var/folders/dm/hs6ffqd576v39l4vtyx6rpg00000gn/T/ipykernel_12920/210667223.py\u001B[0m in \u001B[0;36m<cell line: 1>\u001B[0;34m()\u001B[0m\n\u001B[0;32m----> 1\u001B[0;31m \u001B[0;32mimport\u001B[0m \u001B[0men_core_web_sm\u001B[0m\u001B[0;34m\u001B[0m\u001B[0;34m\u001B[0m\u001B[0m\n\u001B[0m\u001B[1;32m      2\u001B[0m \u001B[0mnlp\u001B[0m \u001B[0;34m=\u001B[0m \u001B[0men_core_web_sm\u001B[0m\u001B[0;34m.\u001B[0m\u001B[0mload\u001B[0m\u001B[0;34m(\u001B[0m\u001B[0;34m)\u001B[0m\u001B[0;34m\u001B[0m\u001B[0;34m\u001B[0m\u001B[0m\n",
      "\u001B[0;31mModuleNotFoundError\u001B[0m: No module named 'en_core_web_sm'"
     ]
    }
   ],
   "source": [
    "import en_core_web_sm\n",
    "nlp = en_core_web_sm.load()"
   ],
   "metadata": {
    "collapsed": false,
    "ExecuteTime": {
     "end_time": "2024-05-18T21:00:35.579234Z",
     "start_time": "2024-05-18T21:00:35.546733Z"
    }
   },
   "id": "e6c92d94c2398bb0",
   "execution_count": 94
  },
  {
   "cell_type": "code",
   "outputs": [
    {
     "name": "stdout",
     "output_type": "stream",
     "text": [
      "Collecting en-core-web-sm==3.7.1\r\n",
      "  Downloading https://github.com/explosion/spacy-models/releases/download/en_core_web_sm-3.7.1/en_core_web_sm-3.7.1-py3-none-any.whl (12.8 MB)\r\n",
      "\u001B[2K     \u001B[90m━━━━━━━━━━━━━━━━━━━━━━━━━━━━━━━━━━━━━━━━\u001B[0m \u001B[32m12.8/12.8 MB\u001B[0m \u001B[31m16.2 MB/s\u001B[0m eta \u001B[36m0:00:00\u001B[0m00:01\u001B[0m00:01\u001B[0m\r\n",
      "\u001B[?25hRequirement already satisfied: spacy<3.8.0,>=3.7.2 in /Library/Frameworks/Python.framework/Versions/3.12/lib/python3.12/site-packages (from en-core-web-sm==3.7.1) (3.7.4)\r\n",
      "Requirement already satisfied: spacy-legacy<3.1.0,>=3.0.11 in /Library/Frameworks/Python.framework/Versions/3.12/lib/python3.12/site-packages (from spacy<3.8.0,>=3.7.2->en-core-web-sm==3.7.1) (3.0.12)\r\n",
      "Requirement already satisfied: spacy-loggers<2.0.0,>=1.0.0 in /Library/Frameworks/Python.framework/Versions/3.12/lib/python3.12/site-packages (from spacy<3.8.0,>=3.7.2->en-core-web-sm==3.7.1) (1.0.5)\r\n",
      "Requirement already satisfied: murmurhash<1.1.0,>=0.28.0 in /Library/Frameworks/Python.framework/Versions/3.12/lib/python3.12/site-packages (from spacy<3.8.0,>=3.7.2->en-core-web-sm==3.7.1) (1.0.10)\r\n",
      "Requirement already satisfied: cymem<2.1.0,>=2.0.2 in /Library/Frameworks/Python.framework/Versions/3.12/lib/python3.12/site-packages (from spacy<3.8.0,>=3.7.2->en-core-web-sm==3.7.1) (2.0.8)\r\n",
      "Requirement already satisfied: preshed<3.1.0,>=3.0.2 in /Library/Frameworks/Python.framework/Versions/3.12/lib/python3.12/site-packages (from spacy<3.8.0,>=3.7.2->en-core-web-sm==3.7.1) (3.0.9)\r\n",
      "Requirement already satisfied: thinc<8.3.0,>=8.2.2 in /Library/Frameworks/Python.framework/Versions/3.12/lib/python3.12/site-packages (from spacy<3.8.0,>=3.7.2->en-core-web-sm==3.7.1) (8.2.3)\r\n",
      "Requirement already satisfied: wasabi<1.2.0,>=0.9.1 in /Library/Frameworks/Python.framework/Versions/3.12/lib/python3.12/site-packages (from spacy<3.8.0,>=3.7.2->en-core-web-sm==3.7.1) (1.1.2)\r\n",
      "Requirement already satisfied: srsly<3.0.0,>=2.4.3 in /Library/Frameworks/Python.framework/Versions/3.12/lib/python3.12/site-packages (from spacy<3.8.0,>=3.7.2->en-core-web-sm==3.7.1) (2.4.8)\r\n",
      "Requirement already satisfied: catalogue<2.1.0,>=2.0.6 in /Library/Frameworks/Python.framework/Versions/3.12/lib/python3.12/site-packages (from spacy<3.8.0,>=3.7.2->en-core-web-sm==3.7.1) (2.0.10)\r\n",
      "Requirement already satisfied: weasel<0.4.0,>=0.1.0 in /Library/Frameworks/Python.framework/Versions/3.12/lib/python3.12/site-packages (from spacy<3.8.0,>=3.7.2->en-core-web-sm==3.7.1) (0.3.4)\r\n",
      "Requirement already satisfied: typer<0.10.0,>=0.3.0 in /Library/Frameworks/Python.framework/Versions/3.12/lib/python3.12/site-packages (from spacy<3.8.0,>=3.7.2->en-core-web-sm==3.7.1) (0.9.4)\r\n",
      "Requirement already satisfied: smart-open<7.0.0,>=5.2.1 in /Library/Frameworks/Python.framework/Versions/3.12/lib/python3.12/site-packages (from spacy<3.8.0,>=3.7.2->en-core-web-sm==3.7.1) (6.4.0)\r\n",
      "Requirement already satisfied: tqdm<5.0.0,>=4.38.0 in /Library/Frameworks/Python.framework/Versions/3.12/lib/python3.12/site-packages (from spacy<3.8.0,>=3.7.2->en-core-web-sm==3.7.1) (4.66.4)\r\n",
      "Requirement already satisfied: requests<3.0.0,>=2.13.0 in /Library/Frameworks/Python.framework/Versions/3.12/lib/python3.12/site-packages (from spacy<3.8.0,>=3.7.2->en-core-web-sm==3.7.1) (2.31.0)\r\n",
      "Requirement already satisfied: pydantic!=1.8,!=1.8.1,<3.0.0,>=1.7.4 in /Library/Frameworks/Python.framework/Versions/3.12/lib/python3.12/site-packages (from spacy<3.8.0,>=3.7.2->en-core-web-sm==3.7.1) (2.7.1)\r\n",
      "Requirement already satisfied: jinja2 in /Library/Frameworks/Python.framework/Versions/3.12/lib/python3.12/site-packages (from spacy<3.8.0,>=3.7.2->en-core-web-sm==3.7.1) (3.1.4)\r\n",
      "Requirement already satisfied: setuptools in /Library/Frameworks/Python.framework/Versions/3.12/lib/python3.12/site-packages (from spacy<3.8.0,>=3.7.2->en-core-web-sm==3.7.1) (69.5.1)\r\n",
      "Requirement already satisfied: packaging>=20.0 in /Library/Frameworks/Python.framework/Versions/3.12/lib/python3.12/site-packages (from spacy<3.8.0,>=3.7.2->en-core-web-sm==3.7.1) (24.0)\r\n",
      "Requirement already satisfied: langcodes<4.0.0,>=3.2.0 in /Library/Frameworks/Python.framework/Versions/3.12/lib/python3.12/site-packages (from spacy<3.8.0,>=3.7.2->en-core-web-sm==3.7.1) (3.4.0)\r\n",
      "Requirement already satisfied: numpy>=1.19.0 in /Library/Frameworks/Python.framework/Versions/3.12/lib/python3.12/site-packages (from spacy<3.8.0,>=3.7.2->en-core-web-sm==3.7.1) (1.26.4)\r\n",
      "Requirement already satisfied: language-data>=1.2 in /Library/Frameworks/Python.framework/Versions/3.12/lib/python3.12/site-packages (from langcodes<4.0.0,>=3.2.0->spacy<3.8.0,>=3.7.2->en-core-web-sm==3.7.1) (1.2.0)\r\n",
      "Requirement already satisfied: annotated-types>=0.4.0 in /Library/Frameworks/Python.framework/Versions/3.12/lib/python3.12/site-packages (from pydantic!=1.8,!=1.8.1,<3.0.0,>=1.7.4->spacy<3.8.0,>=3.7.2->en-core-web-sm==3.7.1) (0.6.0)\r\n",
      "Requirement already satisfied: pydantic-core==2.18.2 in /Library/Frameworks/Python.framework/Versions/3.12/lib/python3.12/site-packages (from pydantic!=1.8,!=1.8.1,<3.0.0,>=1.7.4->spacy<3.8.0,>=3.7.2->en-core-web-sm==3.7.1) (2.18.2)\r\n",
      "Requirement already satisfied: typing-extensions>=4.6.1 in /Library/Frameworks/Python.framework/Versions/3.12/lib/python3.12/site-packages (from pydantic!=1.8,!=1.8.1,<3.0.0,>=1.7.4->spacy<3.8.0,>=3.7.2->en-core-web-sm==3.7.1) (4.11.0)\r\n",
      "Requirement already satisfied: charset-normalizer<4,>=2 in /Library/Frameworks/Python.framework/Versions/3.12/lib/python3.12/site-packages (from requests<3.0.0,>=2.13.0->spacy<3.8.0,>=3.7.2->en-core-web-sm==3.7.1) (3.3.2)\r\n",
      "Requirement already satisfied: idna<4,>=2.5 in /Library/Frameworks/Python.framework/Versions/3.12/lib/python3.12/site-packages (from requests<3.0.0,>=2.13.0->spacy<3.8.0,>=3.7.2->en-core-web-sm==3.7.1) (3.7)\r\n",
      "Requirement already satisfied: urllib3<3,>=1.21.1 in /Library/Frameworks/Python.framework/Versions/3.12/lib/python3.12/site-packages (from requests<3.0.0,>=2.13.0->spacy<3.8.0,>=3.7.2->en-core-web-sm==3.7.1) (2.2.1)\r\n",
      "Requirement already satisfied: certifi>=2017.4.17 in /Library/Frameworks/Python.framework/Versions/3.12/lib/python3.12/site-packages (from requests<3.0.0,>=2.13.0->spacy<3.8.0,>=3.7.2->en-core-web-sm==3.7.1) (2024.2.2)\r\n",
      "Requirement already satisfied: blis<0.8.0,>=0.7.8 in /Library/Frameworks/Python.framework/Versions/3.12/lib/python3.12/site-packages (from thinc<8.3.0,>=8.2.2->spacy<3.8.0,>=3.7.2->en-core-web-sm==3.7.1) (0.7.11)\r\n",
      "Requirement already satisfied: confection<1.0.0,>=0.0.1 in /Library/Frameworks/Python.framework/Versions/3.12/lib/python3.12/site-packages (from thinc<8.3.0,>=8.2.2->spacy<3.8.0,>=3.7.2->en-core-web-sm==3.7.1) (0.1.4)\r\n",
      "Requirement already satisfied: click<9.0.0,>=7.1.1 in /Library/Frameworks/Python.framework/Versions/3.12/lib/python3.12/site-packages (from typer<0.10.0,>=0.3.0->spacy<3.8.0,>=3.7.2->en-core-web-sm==3.7.1) (8.1.7)\r\n",
      "Requirement already satisfied: cloudpathlib<0.17.0,>=0.7.0 in /Library/Frameworks/Python.framework/Versions/3.12/lib/python3.12/site-packages (from weasel<0.4.0,>=0.1.0->spacy<3.8.0,>=3.7.2->en-core-web-sm==3.7.1) (0.16.0)\r\n",
      "Requirement already satisfied: MarkupSafe>=2.0 in /Library/Frameworks/Python.framework/Versions/3.12/lib/python3.12/site-packages (from jinja2->spacy<3.8.0,>=3.7.2->en-core-web-sm==3.7.1) (2.1.5)\r\n",
      "Requirement already satisfied: marisa-trie>=0.7.7 in /Library/Frameworks/Python.framework/Versions/3.12/lib/python3.12/site-packages (from language-data>=1.2->langcodes<4.0.0,>=3.2.0->spacy<3.8.0,>=3.7.2->en-core-web-sm==3.7.1) (1.1.1)\r\n",
      "\r\n",
      "\u001B[1m[\u001B[0m\u001B[34;49mnotice\u001B[0m\u001B[1;39;49m]\u001B[0m\u001B[39;49m A new release of pip is available: \u001B[0m\u001B[31;49m23.2.1\u001B[0m\u001B[39;49m -> \u001B[0m\u001B[32;49m24.0\u001B[0m\r\n",
      "\u001B[1m[\u001B[0m\u001B[34;49mnotice\u001B[0m\u001B[1;39;49m]\u001B[0m\u001B[39;49m To update, run: \u001B[0m\u001B[32;49mpip3 install --upgrade pip\u001B[0m\r\n",
      "\u001B[38;5;2m✔ Download and installation successful\u001B[0m\r\n",
      "You can now load the package via spacy.load('en_core_web_sm')\r\n"
     ]
    }
   ],
   "source": [
    "!python3 -m spacy download en_core_web_sm"
   ],
   "metadata": {
    "collapsed": false,
    "ExecuteTime": {
     "end_time": "2024-05-18T20:59:36.217752Z",
     "start_time": "2024-05-18T20:59:32.288967Z"
    }
   },
   "id": "f2f28397c524a6ab",
   "execution_count": 92
  },
  {
   "cell_type": "code",
   "outputs": [],
   "source": [
    "from krovetzstemmer import Stemmer\n",
    "import pycountry\n",
    "lemmatizer = WordNetLemmatizer()\n",
    "stemmer = Stemmer() \n",
    "\n",
    "def is_adjective(word):\n",
    "    pos = nltk.pos_tag([word])[0][1]\n",
    "    return pos in ['JJ', 'JJR', 'JJS']\n",
    "\n",
    "# text data cleaning\n",
    "def clean_text_lem(text):\n",
    "    text = re.sub(r'[^a-zA-Z]', ' ', text)\n",
    "    text = text.lower()\n",
    "    text = word_tokenize(text)\n",
    "    lemmatized = [lemmatizer.lemmatize(word) for word in text if word not in stopwords.words('english')]\n",
    "    lemmatized = ' '.join(lemmatized)\n",
    "\n",
    "    return lemmatized\n",
    "\n",
    "def clean_text_stem(text):\n",
    "    text = re.sub(r'[^a-zA-Z]', ' ', text)\n",
    "    text = text.lower()\n",
    "    text = word_tokenize(text)\n",
    "    stemmed = [stemmer.stem(word) for word in text if word not in stopwords.words('english')]\n",
    "    stemmed = ' '.join(stemmed)\n",
    "    return stemmed\n",
    "\n",
    "def clean_text_adj(text):\n",
    "    text = re.sub(r'[^a-zA-Z]', ' ', text)\n",
    "    text = text.lower()\n",
    "    text = word_tokenize(text)\n",
    "    stemmed = [word for word in text if is_adjective(word) or word == 'terrorism' ]\n",
    "    stemmed = ' '.join(stemmed)\n",
    "    return stemmed\n",
    "\n",
    "# Get a list of all country names\n",
    "countries = [country.name.lower() for country in pycountry.countries]\n",
    "def get_countries(text):\n",
    "    text = re.sub(r'[^a-zA-Z]', ' ', text)\n",
    "    text = text.lower()\n",
    "    doc = nlp(text)\n",
    "    ents = [e.text for e in doc.ents if e.label_ in ['NORP', 'GPE']]\n",
    "\n",
    "    return ents\n",
    "\n",
    "\n",
    "df['cleaned_text_lem'] = df['full text'].apply(clean_text_lem)\n",
    "df['cleaned_text_stem'] = df['full text'].apply(clean_text_stem)\n",
    "df['cleaned_text_adj'] = df['full text'].apply(clean_text_adj)\n",
    "df['countries'] = df['full text'].apply(get_countries)\n",
    "df['countries'] = df['countries'].apply(lambda x: list(set([stemmer.stem(country) for country in x])))"
   ],
   "metadata": {
    "collapsed": false,
    "ExecuteTime": {
     "end_time": "2024-05-19T10:50:53.808929Z",
     "start_time": "2024-05-19T10:12:33.406129Z"
    }
   },
   "id": "3e6954d43fdc540c",
   "execution_count": 108
  },
  {
   "cell_type": "code",
   "outputs": [],
   "source": [
    "df.to_csv('data/output.csv', index=False)"
   ],
   "metadata": {
    "collapsed": false,
    "ExecuteTime": {
     "end_time": "2024-05-19T14:28:51.117988Z",
     "start_time": "2024-05-19T14:28:48.776572Z"
    }
   },
   "id": "a0230d8d505298a9",
   "execution_count": 136
  },
  {
   "cell_type": "markdown",
   "source": [
    "# Places"
   ],
   "metadata": {
    "collapsed": false
   },
   "id": "7566c9f7655b589e"
  },
  {
   "cell_type": "code",
   "outputs": [],
   "source": [
    "import ast\n",
    "\n",
    "def get_places_stat(df, label):\n",
    "    df['countries'] = df['countries'].apply(ast.literal_eval)\n",
    "    places = df['countries'].tolist()\n",
    "    # convert a list string to a list of strings\n",
    "    \n",
    "    places = [place for sublist in places for place in sublist]\n",
    "    # replace 'the united states' 'america' 'us' with 'united states'\n",
    "    places = [place if place not in ['the united states', 'america', 'us'] else 'united states' for place in places]\n",
    "    places = [place if place not in ['soviet', 'the soviet union'] else 'soviet union' for place in places]\n",
    "    places = [place if place not in ['lebanon', 'beirut'] else 'lebanon' for place in places]\n",
    "    # remove lines with places in 'oklahoma city' and 'arab' as they are not countries\n",
    "    places = [place for place in places if place not in ['oklahoma city', 'arab', 'muslim', 'islam', 'new york', 'washington']]\n",
    "    places = pd.Series(places)\n",
    "    places = places.value_counts().reset_index()\n",
    "    places.columns = ['place', 'count']\n",
    "    places['count_normalized'] = places['count'] / places['count'].sum()\n",
    "    places['label'] = label\n",
    "    places['place'] = places['place'].str.title()\n",
    "    return places"
   ],
   "metadata": {
    "collapsed": false,
    "ExecuteTime": {
     "end_time": "2024-05-23T13:54:35.965446Z",
     "start_time": "2024-05-23T13:54:35.953687Z"
    }
   },
   "id": "79cca7981776f83a",
   "execution_count": 42
  },
  {
   "cell_type": "code",
   "outputs": [],
   "source": [
    "date_range = [[1980, 1985], [1986, 1990], [1991, 1995], [1996, 2000], [2001, 2005], [2006, 2010], [2011, 2015], [2016, 2020]]"
   ],
   "metadata": {
    "collapsed": false,
    "ExecuteTime": {
     "end_time": "2024-05-23T13:54:37.359051Z",
     "start_time": "2024-05-23T13:54:37.356287Z"
    }
   },
   "id": "371a113f99fc1357",
   "execution_count": 43
  },
  {
   "cell_type": "code",
   "outputs": [],
   "source": [
    "# get the places for each date range\n",
    "for date in date_range:\n",
    "    df_date = df.loc[(df['year'] >= date[0]) & (df['year'] <= date[1])]\n",
    "    places = get_places_stat(df_date, f'{date[0]} - {date[1]}')\n",
    "    places.to_csv(f'output/places/places_{date[0]}_{date[1]}.csv', index=False)\n",
    "    \n",
    "# combine the results\n",
    "df_output_places = pd.concat([pd.read_csv(f'output/places/places_{date[0]}_{date[1]}.csv') for date in date_range])\n",
    "df_output_places.to_csv('output/places/places_by_years.csv', index=False)"
   ],
   "metadata": {
    "collapsed": false,
    "ExecuteTime": {
     "end_time": "2024-05-23T13:54:39.171693Z",
     "start_time": "2024-05-23T13:54:38.175723Z"
    }
   },
   "id": "e1621a40e33538a7",
   "execution_count": 44
  },
  {
   "cell_type": "code",
   "outputs": [
    {
     "data": {
      "text/plain": "                                place  count  count_normalized        label\n0                       United States   1437          0.143959  1980 - 1985\n1                             Lebanon    425          0.042577  1980 - 1985\n2                        Soviet Union    395          0.039571  1980 - 1985\n3                              Israel    335          0.033560  1980 - 1985\n4                              France    208          0.020838  1980 - 1985\n...                               ...    ...               ...          ...\n2165                      Brandenburg      1          0.000029  2016 - 2020\n2166                            Karim      1          0.000029  2016 - 2020\n2167  Elizabeth City State University      1          0.000029  2016 - 2020\n2168                   Lgbt Americans      1          0.000029  2016 - 2020\n2169                           Hornby      1          0.000029  2016 - 2020\n\n[11026 rows x 4 columns]",
      "text/html": "<div>\n<style scoped>\n    .dataframe tbody tr th:only-of-type {\n        vertical-align: middle;\n    }\n\n    .dataframe tbody tr th {\n        vertical-align: top;\n    }\n\n    .dataframe thead th {\n        text-align: right;\n    }\n</style>\n<table border=\"1\" class=\"dataframe\">\n  <thead>\n    <tr style=\"text-align: right;\">\n      <th></th>\n      <th>place</th>\n      <th>count</th>\n      <th>count_normalized</th>\n      <th>label</th>\n    </tr>\n  </thead>\n  <tbody>\n    <tr>\n      <th>0</th>\n      <td>United States</td>\n      <td>1437</td>\n      <td>0.143959</td>\n      <td>1980 - 1985</td>\n    </tr>\n    <tr>\n      <th>1</th>\n      <td>Lebanon</td>\n      <td>425</td>\n      <td>0.042577</td>\n      <td>1980 - 1985</td>\n    </tr>\n    <tr>\n      <th>2</th>\n      <td>Soviet Union</td>\n      <td>395</td>\n      <td>0.039571</td>\n      <td>1980 - 1985</td>\n    </tr>\n    <tr>\n      <th>3</th>\n      <td>Israel</td>\n      <td>335</td>\n      <td>0.033560</td>\n      <td>1980 - 1985</td>\n    </tr>\n    <tr>\n      <th>4</th>\n      <td>France</td>\n      <td>208</td>\n      <td>0.020838</td>\n      <td>1980 - 1985</td>\n    </tr>\n    <tr>\n      <th>...</th>\n      <td>...</td>\n      <td>...</td>\n      <td>...</td>\n      <td>...</td>\n    </tr>\n    <tr>\n      <th>2165</th>\n      <td>Brandenburg</td>\n      <td>1</td>\n      <td>0.000029</td>\n      <td>2016 - 2020</td>\n    </tr>\n    <tr>\n      <th>2166</th>\n      <td>Karim</td>\n      <td>1</td>\n      <td>0.000029</td>\n      <td>2016 - 2020</td>\n    </tr>\n    <tr>\n      <th>2167</th>\n      <td>Elizabeth City State University</td>\n      <td>1</td>\n      <td>0.000029</td>\n      <td>2016 - 2020</td>\n    </tr>\n    <tr>\n      <th>2168</th>\n      <td>Lgbt Americans</td>\n      <td>1</td>\n      <td>0.000029</td>\n      <td>2016 - 2020</td>\n    </tr>\n    <tr>\n      <th>2169</th>\n      <td>Hornby</td>\n      <td>1</td>\n      <td>0.000029</td>\n      <td>2016 - 2020</td>\n    </tr>\n  </tbody>\n</table>\n<p>11026 rows × 4 columns</p>\n</div>"
     },
     "execution_count": 45,
     "metadata": {},
     "output_type": "execute_result"
    }
   ],
   "source": [
    "df_output_places"
   ],
   "metadata": {
    "collapsed": false,
    "ExecuteTime": {
     "end_time": "2024-05-23T13:54:41.542584Z",
     "start_time": "2024-05-23T13:54:41.535641Z"
    }
   },
   "id": "e7c80e651912b016",
   "execution_count": 45
  },
  {
   "cell_type": "code",
   "outputs": [
    {
     "data": {
      "application/vnd.plotly.v1+json": {
       "data": [
        {
         "line": {
          "color": "rgba(0.8941176470588236, 0.10196078431372549, 0.10980392156862745, 1.0)"
         },
         "mode": "lines",
         "name": "United States",
         "x": [
          "1980 - 1985",
          "1986 - 1990",
          "1991 - 1995",
          "1996 - 2000",
          "2001 - 2005",
          "2006 - 2010",
          "2011 - 2015",
          "2016 - 2020"
         ],
         "y": [
          0.1439591264275696,
          0.1535632640890567,
          0.1303388147003642,
          0.1468611702999508,
          0.1607308863599935,
          0.151434378436011,
          0.142887825233186,
          0.1214240669609585
         ],
         "type": "scatter",
         "xaxis": "x",
         "yaxis": "y"
        },
        {
         "line": {
          "color": "rgba(0.8941176470588236, 0.10196078431372549, 0.10980392156862745, 1.0)"
         },
         "mode": "lines",
         "name": "United States",
         "showlegend": false,
         "x": [
          "1980 - 1985",
          "1986 - 1990",
          "1991 - 1995",
          "1996 - 2000",
          "2001 - 2005",
          "2006 - 2010",
          "2011 - 2015",
          "2016 - 2020"
         ],
         "y": [
          0.1439591264275696,
          0.1535632640890567,
          0.1303388147003642,
          0.1468611702999508,
          0.1607308863599935,
          0.151434378436011,
          0.142887825233186,
          0.1214240669609585
         ],
         "type": "scatter",
         "xaxis": "x2",
         "yaxis": "y2"
        },
        {
         "line": {
          "color": "rgba(0.8941176470588236, 0.10196078431372549, 0.10980392156862745, 1.0)"
         },
         "mode": "lines",
         "name": "Lebanon",
         "x": [
          "1980 - 1985",
          "1986 - 1990",
          "1991 - 1995",
          "1996 - 2000",
          "2001 - 2005",
          "2006 - 2010",
          "2011 - 2015",
          "2016 - 2020"
         ],
         "y": [
          0.0425766379483069,
          0.0374714243116986,
          0.0225140712945591,
          0.0128667431568595,
          0.0067639044718704,
          0.0072302002465598,
          0.0070569464899361,
          0.0062489250702287
         ],
         "type": "scatter",
         "xaxis": "x",
         "yaxis": "y"
        },
        {
         "line": {
          "color": "rgba(0.8941176470588236, 0.10196078431372549, 0.10980392156862745, 1.0)"
         },
         "mode": "lines",
         "name": "Lebanon",
         "showlegend": false,
         "x": [
          "1980 - 1985",
          "1986 - 1990",
          "1991 - 1995",
          "1996 - 2000",
          "2001 - 2005",
          "2006 - 2010",
          "2011 - 2015",
          "2016 - 2020"
         ],
         "y": [
          0.0425766379483069,
          0.0374714243116986,
          0.0225140712945591,
          0.0128667431568595,
          0.0067639044718704,
          0.0072302002465598,
          0.0070569464899361,
          0.0062489250702287
         ],
         "type": "scatter",
         "xaxis": "x2",
         "yaxis": "y2"
        },
        {
         "line": {
          "color": "rgba(0.21568627450980393, 0.49411764705882355, 0.7215686274509804, 1.0)"
         },
         "mode": "lines",
         "name": "Soviet Union",
         "x": [
          "1980 - 1985",
          "1986 - 1990",
          "1991 - 1995",
          "1996 - 2000",
          "2001 - 2005",
          "2006 - 2010",
          "2011 - 2015",
          "2016 - 2020"
         ],
         "y": [
          0.0395712282107794,
          0.0298181095318556,
          0.0130228451605783,
          0.0093427306998852,
          0.0078538227280012,
          0.0050311531669609,
          0.0039887088856161,
          0.0029524737717135
         ],
         "type": "scatter",
         "xaxis": "x",
         "yaxis": "y"
        },
        {
         "line": {
          "color": "rgba(0.21568627450980393, 0.49411764705882355, 0.7215686274509804, 1.0)"
         },
         "mode": "lines",
         "name": "Soviet Union",
         "showlegend": false,
         "x": [
          "1980 - 1985",
          "1986 - 1990",
          "1991 - 1995",
          "1996 - 2000",
          "2001 - 2005",
          "2006 - 2010",
          "2011 - 2015",
          "2016 - 2020"
         ],
         "y": [
          0.0395712282107794,
          0.0298181095318556,
          0.0130228451605783,
          0.0093427306998852,
          0.0078538227280012,
          0.0050311531669609,
          0.0039887088856161,
          0.0029524737717135
         ],
         "type": "scatter",
         "xaxis": "x2",
         "yaxis": "y2"
        },
        {
         "line": {
          "color": "rgba(0.30196078431372547, 0.6862745098039216, 0.2901960784313726, 1.0)"
         },
         "mode": "lines",
         "name": "Israel",
         "x": [
          "1980 - 1985",
          "1986 - 1990",
          "1991 - 1995",
          "1996 - 2000",
          "2001 - 2005",
          "2006 - 2010",
          "2011 - 2015",
          "2016 - 2020"
         ],
         "y": [
          0.0335604087357243,
          0.0390617234867309,
          0.0382959938196667,
          0.0351581707916734,
          0.0259336432120532,
          0.0173591443707726,
          0.0131013745704467,
          0.0120105486441552
         ],
         "type": "scatter",
         "xaxis": "x",
         "yaxis": "y"
        },
        {
         "line": {
          "color": "rgba(0.30196078431372547, 0.6862745098039216, 0.2901960784313726, 1.0)"
         },
         "mode": "lines",
         "name": "Israel",
         "showlegend": false,
         "x": [
          "1980 - 1985",
          "1986 - 1990",
          "1991 - 1995",
          "1996 - 2000",
          "2001 - 2005",
          "2006 - 2010",
          "2011 - 2015",
          "2016 - 2020"
         ],
         "y": [
          0.0335604087357243,
          0.0390617234867309,
          0.0382959938196667,
          0.0351581707916734,
          0.0259336432120532,
          0.0173591443707726,
          0.0131013745704467,
          0.0120105486441552
         ],
         "type": "scatter",
         "xaxis": "x2",
         "yaxis": "y2"
        },
        {
         "line": {
          "color": "rgba(0.596078431372549, 0.3058823529411765, 0.6392156862745098, 1.0)"
         },
         "mode": "lines",
         "name": "France",
         "x": [
          "1980 - 1985",
          "1986 - 1990",
          "1991 - 1995",
          "1996 - 2000",
          "2001 - 2005",
          "2006 - 2010",
          "2011 - 2015",
          "2016 - 2020"
         ],
         "y": [
          0.0208375075135243,
          0.0241526687208031,
          0.015450833241364,
          0.0109818062612686,
          0.0108350697227119,
          0.0075300703028687,
          0.0144820814923907,
          0.0184601272716849
         ],
         "type": "scatter",
         "xaxis": "x",
         "yaxis": "y"
        },
        {
         "line": {
          "color": "rgba(0.596078431372549, 0.3058823529411765, 0.6392156862745098, 1.0)"
         },
         "mode": "lines",
         "name": "France",
         "showlegend": false,
         "x": [
          "1980 - 1985",
          "1986 - 1990",
          "1991 - 1995",
          "1996 - 2000",
          "2001 - 2005",
          "2006 - 2010",
          "2011 - 2015",
          "2016 - 2020"
         ],
         "y": [
          0.0208375075135243,
          0.0241526687208031,
          0.015450833241364,
          0.0109818062612686,
          0.0108350697227119,
          0.0075300703028687,
          0.0144820814923907,
          0.0184601272716849
         ],
         "type": "scatter",
         "xaxis": "x2",
         "yaxis": "y2"
        },
        {
         "line": {
          "color": "rgba(0.596078431372549, 0.3058823529411765, 0.6392156862745098, 1.0)"
         },
         "mode": "lines",
         "name": "Italy",
         "x": [
          "1980 - 1985",
          "1986 - 1990",
          "1991 - 1995",
          "1996 - 2000",
          "2001 - 2005",
          "2006 - 2010",
          "2011 - 2015",
          "2016 - 2020"
         ],
         "y": [
          0.019134441995592,
          0.0170957161315972,
          0.0071736011477761,
          0.0056548106867726,
          0.005385478442058,
          0.0032985706193982,
          0.003221649484536,
          0.0038410823826176
         ],
         "type": "scatter",
         "xaxis": "x",
         "yaxis": "y"
        },
        {
         "line": {
          "color": "rgba(0.596078431372549, 0.3058823529411765, 0.6392156862745098, 1.0)"
         },
         "mode": "lines",
         "name": "Italy",
         "showlegend": false,
         "x": [
          "1980 - 1985",
          "1986 - 1990",
          "1991 - 1995",
          "1996 - 2000",
          "2001 - 2005",
          "2006 - 2010",
          "2011 - 2015",
          "2016 - 2020"
         ],
         "y": [
          0.019134441995592,
          0.0170957161315972,
          0.0071736011477761,
          0.0056548106867726,
          0.005385478442058,
          0.0032985706193982,
          0.003221649484536,
          0.0038410823826176
         ],
         "type": "scatter",
         "xaxis": "x2",
         "yaxis": "y2"
        },
        {
         "line": {
          "color": "rgba(1.0, 0.4980392156862745, 0.0, 1.0)"
         },
         "mode": "lines",
         "name": "Palestinian",
         "x": [
          "1980 - 1985",
          "1986 - 1990",
          "1991 - 1995",
          "1996 - 2000",
          "2001 - 2005",
          "2006 - 2010",
          "2011 - 2015",
          "2016 - 2020"
         ],
         "y": [
          0.0189340813464235,
          0.0277308418646257,
          0.0272596843615494,
          0.0238485494181281,
          0.0169578458086231,
          0.0114283810348848,
          0.0073330878743249,
          0.0054749756349251
         ],
         "type": "scatter",
         "xaxis": "x",
         "yaxis": "y"
        },
        {
         "line": {
          "color": "rgba(1.0, 0.4980392156862745, 0.0, 1.0)"
         },
         "mode": "lines",
         "name": "Palestinian",
         "showlegend": false,
         "x": [
          "1980 - 1985",
          "1986 - 1990",
          "1991 - 1995",
          "1996 - 2000",
          "2001 - 2005",
          "2006 - 2010",
          "2011 - 2015",
          "2016 - 2020"
         ],
         "y": [
          0.0189340813464235,
          0.0277308418646257,
          0.0272596843615494,
          0.0238485494181281,
          0.0169578458086231,
          0.0114283810348848,
          0.0073330878743249,
          0.0054749756349251
         ],
         "type": "scatter",
         "xaxis": "x2",
         "yaxis": "y2"
        },
        {
         "line": {
          "color": "rgba(1.0, 1.0, 0.2, 1.0)"
         },
         "mode": "lines",
         "name": "Iran",
         "x": [
          "1980 - 1985",
          "1986 - 1990",
          "1991 - 1995",
          "1996 - 2000",
          "2001 - 2005",
          "2006 - 2010",
          "2011 - 2015",
          "2016 - 2020"
         ],
         "y": [
          0.0178320977759967,
          0.0295199284365371,
          0.0231762498620461,
          0.0221275200786756,
          0.0096810386279852,
          0.0149935028154466,
          0.0131320569464899,
          0.0147623688585679
         ],
         "type": "scatter",
         "xaxis": "x",
         "yaxis": "y"
        },
        {
         "line": {
          "color": "rgba(1.0, 1.0, 0.2, 1.0)"
         },
         "mode": "lines",
         "name": "Iran",
         "showlegend": false,
         "x": [
          "1980 - 1985",
          "1986 - 1990",
          "1991 - 1995",
          "1996 - 2000",
          "2001 - 2005",
          "2006 - 2010",
          "2011 - 2015",
          "2016 - 2020"
         ],
         "y": [
          0.0178320977759967,
          0.0295199284365371,
          0.0231762498620461,
          0.0221275200786756,
          0.0096810386279852,
          0.0149935028154466,
          0.0131320569464899,
          0.0147623688585679
         ],
         "type": "scatter",
         "xaxis": "x2",
         "yaxis": "y2"
        },
        {
         "line": {
          "color": "rgba(0.6509803921568628, 0.33725490196078434, 0.1568627450980392, 1.0)"
         },
         "mode": "lines",
         "name": "Libya",
         "x": [
          "1980 - 1985",
          "1986 - 1990",
          "1991 - 1995",
          "1996 - 2000",
          "2001 - 2005",
          "2006 - 2010",
          "2011 - 2015",
          "2016 - 2020"
         ],
         "y": [
          0.0162292125826487,
          0.0376702117085776,
          0.0133539344443218,
          0.0159809867234879,
          0.0027889084789229,
          0.003131976143671,
          0.0099104074619538,
          0.0055036404288253
         ],
         "type": "scatter",
         "xaxis": "x",
         "yaxis": "y"
        },
        {
         "line": {
          "color": "rgba(0.6509803921568628, 0.33725490196078434, 0.1568627450980392, 1.0)"
         },
         "mode": "lines",
         "name": "Libya",
         "showlegend": false,
         "x": [
          "1980 - 1985",
          "1986 - 1990",
          "1991 - 1995",
          "1996 - 2000",
          "2001 - 2005",
          "2006 - 2010",
          "2011 - 2015",
          "2016 - 2020"
         ],
         "y": [
          0.0162292125826487,
          0.0376702117085776,
          0.0133539344443218,
          0.0159809867234879,
          0.0027889084789229,
          0.003131976143671,
          0.0099104074619538,
          0.0055036404288253
         ],
         "type": "scatter",
         "xaxis": "x2",
         "yaxis": "y2"
        },
        {
         "line": {
          "color": "rgba(0.6509803921568628, 0.33725490196078434, 0.1568627450980392, 1.0)"
         },
         "mode": "lines",
         "name": "Syria",
         "x": [
          "1980 - 1985",
          "1986 - 1990",
          "1991 - 1995",
          "1996 - 2000",
          "2001 - 2005",
          "2006 - 2010",
          "2011 - 2015",
          "2016 - 2020"
         ],
         "y": [
          0.0142256060909637,
          0.026438723784912,
          0.0172166427546628,
          0.0116374364858219,
          0.0073088635999358,
          0.0058641255455969,
          0.0251288659793814,
          0.025654990540618
         ],
         "type": "scatter",
         "xaxis": "x",
         "yaxis": "y"
        },
        {
         "line": {
          "color": "rgba(0.6509803921568628, 0.33725490196078434, 0.1568627450980392, 1.0)"
         },
         "mode": "lines",
         "name": "Syria",
         "showlegend": false,
         "x": [
          "1980 - 1985",
          "1986 - 1990",
          "1991 - 1995",
          "1996 - 2000",
          "2001 - 2005",
          "2006 - 2010",
          "2011 - 2015",
          "2016 - 2020"
         ],
         "y": [
          0.0142256060909637,
          0.026438723784912,
          0.0172166427546628,
          0.0116374364858219,
          0.0073088635999358,
          0.0058641255455969,
          0.0251288659793814,
          0.025654990540618
         ],
         "type": "scatter",
         "xaxis": "x2",
         "yaxis": "y2"
        },
        {
         "line": {
          "color": "rgba(0.9686274509803922, 0.5058823529411764, 0.7490196078431373, 1.0)"
         },
         "mode": "lines",
         "name": "Iraq",
         "x": [
          "1980 - 1985",
          "1986 - 1990",
          "1991 - 1995",
          "1996 - 2000",
          "2001 - 2005",
          "2006 - 2010",
          "2011 - 2015",
          "2016 - 2020"
         ],
         "y": [
          0.0082147866159086,
          0.0126229997018189,
          0.0239487915241143,
          0.0158170791673496,
          0.041384837313672,
          0.0359510878619264,
          0.0282584683357879,
          0.0199793613483919
         ],
         "type": "scatter",
         "xaxis": "x",
         "yaxis": "y"
        },
        {
         "line": {
          "color": "rgba(0.9686274509803922, 0.5058823529411764, 0.7490196078431373, 1.0)"
         },
         "mode": "lines",
         "name": "Iraq",
         "showlegend": false,
         "x": [
          "1980 - 1985",
          "1986 - 1990",
          "1991 - 1995",
          "1996 - 2000",
          "2001 - 2005",
          "2006 - 2010",
          "2011 - 2015",
          "2016 - 2020"
         ],
         "y": [
          0.0082147866159086,
          0.0126229997018189,
          0.0239487915241143,
          0.0158170791673496,
          0.041384837313672,
          0.0359510878619264,
          0.0282584683357879,
          0.0199793613483919
         ],
         "type": "scatter",
         "xaxis": "x2",
         "yaxis": "y2"
        },
        {
         "line": {
          "color": "rgba(0.6, 0.6, 0.6, 1.0)"
         },
         "mode": "lines",
         "name": "Afghanistan",
         "x": [
          "1980 - 1985",
          "1986 - 1990",
          "1991 - 1995",
          "1996 - 2000",
          "2001 - 2005",
          "2006 - 2010",
          "2011 - 2015",
          "2016 - 2020"
         ],
         "y": [
          0.0041073933079543,
          0.0042739290328993,
          0.0043041606886657,
          0.0195869529585313,
          0.0319602500400705,
          0.0362842768133808,
          0.0251595483554246,
          0.015020352003669
         ],
         "type": "scatter",
         "xaxis": "x",
         "yaxis": "y"
        },
        {
         "line": {
          "color": "rgba(0.6, 0.6, 0.6, 1.0)"
         },
         "mode": "lines",
         "name": "Afghanistan",
         "showlegend": false,
         "x": [
          "1980 - 1985",
          "1986 - 1990",
          "1991 - 1995",
          "1996 - 2000",
          "2001 - 2005",
          "2006 - 2010",
          "2011 - 2015",
          "2016 - 2020"
         ],
         "y": [
          0.0041073933079543,
          0.0042739290328993,
          0.0043041606886657,
          0.0195869529585313,
          0.0319602500400705,
          0.0362842768133808,
          0.0251595483554246,
          0.015020352003669
         ],
         "type": "scatter",
         "xaxis": "x2",
         "yaxis": "y2"
        },
        {
         "line": {
          "color": "rgba(0.6, 0.6, 0.6, 1.0)"
         },
         "mode": "lines",
         "name": "Pakistan",
         "x": [
          "1980 - 1985",
          "1986 - 1990",
          "1991 - 1995",
          "1996 - 2000",
          "2001 - 2005",
          "2006 - 2010",
          "2011 - 2015",
          "2016 - 2020"
         ],
         "y": [
          0.002003606491685,
          0.0023854487625484,
          0.0054077916344774,
          0.0111457138174069,
          0.0129828498156755,
          0.0308532969046746,
          0.0206799214531173,
          0.0127271684916585
         ],
         "type": "scatter",
         "xaxis": "x",
         "yaxis": "y"
        },
        {
         "line": {
          "color": "rgba(0.6, 0.6, 0.6, 1.0)"
         },
         "mode": "lines",
         "name": "Pakistan",
         "showlegend": false,
         "x": [
          "1980 - 1985",
          "1986 - 1990",
          "1991 - 1995",
          "1996 - 2000",
          "2001 - 2005",
          "2006 - 2010",
          "2011 - 2015",
          "2016 - 2020"
         ],
         "y": [
          0.002003606491685,
          0.0023854487625484,
          0.0054077916344774,
          0.0111457138174069,
          0.0129828498156755,
          0.0308532969046746,
          0.0206799214531173,
          0.0127271684916585
         ],
         "type": "scatter",
         "xaxis": "x2",
         "yaxis": "y2"
        }
       ],
       "layout": {
        "template": {
         "data": {
          "barpolar": [
           {
            "marker": {
             "line": {
              "color": "white",
              "width": 0.5
             },
             "pattern": {
              "fillmode": "overlay",
              "size": 10,
              "solidity": 0.2
             }
            },
            "type": "barpolar"
           }
          ],
          "bar": [
           {
            "error_x": {
             "color": "#2a3f5f"
            },
            "error_y": {
             "color": "#2a3f5f"
            },
            "marker": {
             "line": {
              "color": "white",
              "width": 0.5
             },
             "pattern": {
              "fillmode": "overlay",
              "size": 10,
              "solidity": 0.2
             }
            },
            "type": "bar"
           }
          ],
          "carpet": [
           {
            "aaxis": {
             "endlinecolor": "#2a3f5f",
             "gridcolor": "#C8D4E3",
             "linecolor": "#C8D4E3",
             "minorgridcolor": "#C8D4E3",
             "startlinecolor": "#2a3f5f"
            },
            "baxis": {
             "endlinecolor": "#2a3f5f",
             "gridcolor": "#C8D4E3",
             "linecolor": "#C8D4E3",
             "minorgridcolor": "#C8D4E3",
             "startlinecolor": "#2a3f5f"
            },
            "type": "carpet"
           }
          ],
          "choropleth": [
           {
            "colorbar": {
             "outlinewidth": 0,
             "ticks": ""
            },
            "type": "choropleth"
           }
          ],
          "contourcarpet": [
           {
            "colorbar": {
             "outlinewidth": 0,
             "ticks": ""
            },
            "type": "contourcarpet"
           }
          ],
          "contour": [
           {
            "colorbar": {
             "outlinewidth": 0,
             "ticks": ""
            },
            "colorscale": [
             [
              0.0,
              "#0d0887"
             ],
             [
              0.1111111111111111,
              "#46039f"
             ],
             [
              0.2222222222222222,
              "#7201a8"
             ],
             [
              0.3333333333333333,
              "#9c179e"
             ],
             [
              0.4444444444444444,
              "#bd3786"
             ],
             [
              0.5555555555555556,
              "#d8576b"
             ],
             [
              0.6666666666666666,
              "#ed7953"
             ],
             [
              0.7777777777777778,
              "#fb9f3a"
             ],
             [
              0.8888888888888888,
              "#fdca26"
             ],
             [
              1.0,
              "#f0f921"
             ]
            ],
            "type": "contour"
           }
          ],
          "heatmapgl": [
           {
            "colorbar": {
             "outlinewidth": 0,
             "ticks": ""
            },
            "colorscale": [
             [
              0.0,
              "#0d0887"
             ],
             [
              0.1111111111111111,
              "#46039f"
             ],
             [
              0.2222222222222222,
              "#7201a8"
             ],
             [
              0.3333333333333333,
              "#9c179e"
             ],
             [
              0.4444444444444444,
              "#bd3786"
             ],
             [
              0.5555555555555556,
              "#d8576b"
             ],
             [
              0.6666666666666666,
              "#ed7953"
             ],
             [
              0.7777777777777778,
              "#fb9f3a"
             ],
             [
              0.8888888888888888,
              "#fdca26"
             ],
             [
              1.0,
              "#f0f921"
             ]
            ],
            "type": "heatmapgl"
           }
          ],
          "heatmap": [
           {
            "colorbar": {
             "outlinewidth": 0,
             "ticks": ""
            },
            "colorscale": [
             [
              0.0,
              "#0d0887"
             ],
             [
              0.1111111111111111,
              "#46039f"
             ],
             [
              0.2222222222222222,
              "#7201a8"
             ],
             [
              0.3333333333333333,
              "#9c179e"
             ],
             [
              0.4444444444444444,
              "#bd3786"
             ],
             [
              0.5555555555555556,
              "#d8576b"
             ],
             [
              0.6666666666666666,
              "#ed7953"
             ],
             [
              0.7777777777777778,
              "#fb9f3a"
             ],
             [
              0.8888888888888888,
              "#fdca26"
             ],
             [
              1.0,
              "#f0f921"
             ]
            ],
            "type": "heatmap"
           }
          ],
          "histogram2dcontour": [
           {
            "colorbar": {
             "outlinewidth": 0,
             "ticks": ""
            },
            "colorscale": [
             [
              0.0,
              "#0d0887"
             ],
             [
              0.1111111111111111,
              "#46039f"
             ],
             [
              0.2222222222222222,
              "#7201a8"
             ],
             [
              0.3333333333333333,
              "#9c179e"
             ],
             [
              0.4444444444444444,
              "#bd3786"
             ],
             [
              0.5555555555555556,
              "#d8576b"
             ],
             [
              0.6666666666666666,
              "#ed7953"
             ],
             [
              0.7777777777777778,
              "#fb9f3a"
             ],
             [
              0.8888888888888888,
              "#fdca26"
             ],
             [
              1.0,
              "#f0f921"
             ]
            ],
            "type": "histogram2dcontour"
           }
          ],
          "histogram2d": [
           {
            "colorbar": {
             "outlinewidth": 0,
             "ticks": ""
            },
            "colorscale": [
             [
              0.0,
              "#0d0887"
             ],
             [
              0.1111111111111111,
              "#46039f"
             ],
             [
              0.2222222222222222,
              "#7201a8"
             ],
             [
              0.3333333333333333,
              "#9c179e"
             ],
             [
              0.4444444444444444,
              "#bd3786"
             ],
             [
              0.5555555555555556,
              "#d8576b"
             ],
             [
              0.6666666666666666,
              "#ed7953"
             ],
             [
              0.7777777777777778,
              "#fb9f3a"
             ],
             [
              0.8888888888888888,
              "#fdca26"
             ],
             [
              1.0,
              "#f0f921"
             ]
            ],
            "type": "histogram2d"
           }
          ],
          "histogram": [
           {
            "marker": {
             "pattern": {
              "fillmode": "overlay",
              "size": 10,
              "solidity": 0.2
             }
            },
            "type": "histogram"
           }
          ],
          "mesh3d": [
           {
            "colorbar": {
             "outlinewidth": 0,
             "ticks": ""
            },
            "type": "mesh3d"
           }
          ],
          "parcoords": [
           {
            "line": {
             "colorbar": {
              "outlinewidth": 0,
              "ticks": ""
             }
            },
            "type": "parcoords"
           }
          ],
          "pie": [
           {
            "automargin": true,
            "type": "pie"
           }
          ],
          "scatter3d": [
           {
            "line": {
             "colorbar": {
              "outlinewidth": 0,
              "ticks": ""
             }
            },
            "marker": {
             "colorbar": {
              "outlinewidth": 0,
              "ticks": ""
             }
            },
            "type": "scatter3d"
           }
          ],
          "scattercarpet": [
           {
            "marker": {
             "colorbar": {
              "outlinewidth": 0,
              "ticks": ""
             }
            },
            "type": "scattercarpet"
           }
          ],
          "scattergeo": [
           {
            "marker": {
             "colorbar": {
              "outlinewidth": 0,
              "ticks": ""
             }
            },
            "type": "scattergeo"
           }
          ],
          "scattergl": [
           {
            "marker": {
             "colorbar": {
              "outlinewidth": 0,
              "ticks": ""
             }
            },
            "type": "scattergl"
           }
          ],
          "scattermapbox": [
           {
            "marker": {
             "colorbar": {
              "outlinewidth": 0,
              "ticks": ""
             }
            },
            "type": "scattermapbox"
           }
          ],
          "scatterpolargl": [
           {
            "marker": {
             "colorbar": {
              "outlinewidth": 0,
              "ticks": ""
             }
            },
            "type": "scatterpolargl"
           }
          ],
          "scatterpolar": [
           {
            "marker": {
             "colorbar": {
              "outlinewidth": 0,
              "ticks": ""
             }
            },
            "type": "scatterpolar"
           }
          ],
          "scatter": [
           {
            "fillpattern": {
             "fillmode": "overlay",
             "size": 10,
             "solidity": 0.2
            },
            "type": "scatter"
           }
          ],
          "scatterternary": [
           {
            "marker": {
             "colorbar": {
              "outlinewidth": 0,
              "ticks": ""
             }
            },
            "type": "scatterternary"
           }
          ],
          "surface": [
           {
            "colorbar": {
             "outlinewidth": 0,
             "ticks": ""
            },
            "colorscale": [
             [
              0.0,
              "#0d0887"
             ],
             [
              0.1111111111111111,
              "#46039f"
             ],
             [
              0.2222222222222222,
              "#7201a8"
             ],
             [
              0.3333333333333333,
              "#9c179e"
             ],
             [
              0.4444444444444444,
              "#bd3786"
             ],
             [
              0.5555555555555556,
              "#d8576b"
             ],
             [
              0.6666666666666666,
              "#ed7953"
             ],
             [
              0.7777777777777778,
              "#fb9f3a"
             ],
             [
              0.8888888888888888,
              "#fdca26"
             ],
             [
              1.0,
              "#f0f921"
             ]
            ],
            "type": "surface"
           }
          ],
          "table": [
           {
            "cells": {
             "fill": {
              "color": "#EBF0F8"
             },
             "line": {
              "color": "white"
             }
            },
            "header": {
             "fill": {
              "color": "#C8D4E3"
             },
             "line": {
              "color": "white"
             }
            },
            "type": "table"
           }
          ]
         },
         "layout": {
          "annotationdefaults": {
           "arrowcolor": "#2a3f5f",
           "arrowhead": 0,
           "arrowwidth": 1
          },
          "autotypenumbers": "strict",
          "coloraxis": {
           "colorbar": {
            "outlinewidth": 0,
            "ticks": ""
           }
          },
          "colorscale": {
           "diverging": [
            [
             0,
             "#8e0152"
            ],
            [
             0.1,
             "#c51b7d"
            ],
            [
             0.2,
             "#de77ae"
            ],
            [
             0.3,
             "#f1b6da"
            ],
            [
             0.4,
             "#fde0ef"
            ],
            [
             0.5,
             "#f7f7f7"
            ],
            [
             0.6,
             "#e6f5d0"
            ],
            [
             0.7,
             "#b8e186"
            ],
            [
             0.8,
             "#7fbc41"
            ],
            [
             0.9,
             "#4d9221"
            ],
            [
             1,
             "#276419"
            ]
           ],
           "sequential": [
            [
             0.0,
             "#0d0887"
            ],
            [
             0.1111111111111111,
             "#46039f"
            ],
            [
             0.2222222222222222,
             "#7201a8"
            ],
            [
             0.3333333333333333,
             "#9c179e"
            ],
            [
             0.4444444444444444,
             "#bd3786"
            ],
            [
             0.5555555555555556,
             "#d8576b"
            ],
            [
             0.6666666666666666,
             "#ed7953"
            ],
            [
             0.7777777777777778,
             "#fb9f3a"
            ],
            [
             0.8888888888888888,
             "#fdca26"
            ],
            [
             1.0,
             "#f0f921"
            ]
           ],
           "sequentialminus": [
            [
             0.0,
             "#0d0887"
            ],
            [
             0.1111111111111111,
             "#46039f"
            ],
            [
             0.2222222222222222,
             "#7201a8"
            ],
            [
             0.3333333333333333,
             "#9c179e"
            ],
            [
             0.4444444444444444,
             "#bd3786"
            ],
            [
             0.5555555555555556,
             "#d8576b"
            ],
            [
             0.6666666666666666,
             "#ed7953"
            ],
            [
             0.7777777777777778,
             "#fb9f3a"
            ],
            [
             0.8888888888888888,
             "#fdca26"
            ],
            [
             1.0,
             "#f0f921"
            ]
           ]
          },
          "colorway": [
           "#636efa",
           "#EF553B",
           "#00cc96",
           "#ab63fa",
           "#FFA15A",
           "#19d3f3",
           "#FF6692",
           "#B6E880",
           "#FF97FF",
           "#FECB52"
          ],
          "font": {
           "color": "#2a3f5f"
          },
          "geo": {
           "bgcolor": "white",
           "lakecolor": "white",
           "landcolor": "white",
           "showlakes": true,
           "showland": true,
           "subunitcolor": "#C8D4E3"
          },
          "hoverlabel": {
           "align": "left"
          },
          "hovermode": "closest",
          "mapbox": {
           "style": "light"
          },
          "paper_bgcolor": "white",
          "plot_bgcolor": "white",
          "polar": {
           "angularaxis": {
            "gridcolor": "#EBF0F8",
            "linecolor": "#EBF0F8",
            "ticks": ""
           },
           "bgcolor": "white",
           "radialaxis": {
            "gridcolor": "#EBF0F8",
            "linecolor": "#EBF0F8",
            "ticks": ""
           }
          },
          "scene": {
           "xaxis": {
            "backgroundcolor": "white",
            "gridcolor": "#DFE8F3",
            "gridwidth": 2,
            "linecolor": "#EBF0F8",
            "showbackground": true,
            "ticks": "",
            "zerolinecolor": "#EBF0F8"
           },
           "yaxis": {
            "backgroundcolor": "white",
            "gridcolor": "#DFE8F3",
            "gridwidth": 2,
            "linecolor": "#EBF0F8",
            "showbackground": true,
            "ticks": "",
            "zerolinecolor": "#EBF0F8"
           },
           "zaxis": {
            "backgroundcolor": "white",
            "gridcolor": "#DFE8F3",
            "gridwidth": 2,
            "linecolor": "#EBF0F8",
            "showbackground": true,
            "ticks": "",
            "zerolinecolor": "#EBF0F8"
           }
          },
          "shapedefaults": {
           "line": {
            "color": "#2a3f5f"
           }
          },
          "ternary": {
           "aaxis": {
            "gridcolor": "#DFE8F3",
            "linecolor": "#A2B1C6",
            "ticks": ""
           },
           "baxis": {
            "gridcolor": "#DFE8F3",
            "linecolor": "#A2B1C6",
            "ticks": ""
           },
           "bgcolor": "white",
           "caxis": {
            "gridcolor": "#DFE8F3",
            "linecolor": "#A2B1C6",
            "ticks": ""
           }
          },
          "title": {
           "x": 0.05
          },
          "xaxis": {
           "automargin": true,
           "gridcolor": "#EBF0F8",
           "linecolor": "#EBF0F8",
           "ticks": "",
           "title": {
            "standoff": 15
           },
           "zerolinecolor": "#EBF0F8",
           "zerolinewidth": 2
          },
          "yaxis": {
           "automargin": true,
           "gridcolor": "#EBF0F8",
           "linecolor": "#EBF0F8",
           "ticks": "",
           "title": {
            "standoff": 15
           },
           "zerolinecolor": "#EBF0F8",
           "zerolinewidth": 2
          }
         }
        },
        "xaxis": {
         "anchor": "y",
         "domain": [
          0.0,
          1.0
         ],
         "matches": "x2",
         "showticklabels": false
        },
        "yaxis": {
         "anchor": "x",
         "domain": [
          0.575,
          1.0
         ],
         "title": {
          "text": "Frequency"
         },
         "range": [
          0.12,
          0.17
         ]
        },
        "xaxis2": {
         "anchor": "y2",
         "domain": [
          0.0,
          1.0
         ],
         "title": {
          "text": "Year Range"
         }
        },
        "yaxis2": {
         "anchor": "x2",
         "domain": [
          0.0,
          0.425
         ],
         "range": [
          0,
          0.05
         ],
         "title": {
          "text": "Frequency"
         }
        },
        "title": {
         "text": "Frequency change of mentioned countries across the years"
        },
        "width": 1200,
        "height": 800
       },
       "config": {
        "plotlyServerURL": "https://plot.ly"
       }
      },
      "text/html": "<div>                            <div id=\"b2a34f34-1934-4325-b9cf-fca3f0b9e1e4\" class=\"plotly-graph-div\" style=\"height:800px; width:1200px;\"></div>            <script type=\"text/javascript\">                require([\"plotly\"], function(Plotly) {                    window.PLOTLYENV=window.PLOTLYENV || {};                                    if (document.getElementById(\"b2a34f34-1934-4325-b9cf-fca3f0b9e1e4\")) {                    Plotly.newPlot(                        \"b2a34f34-1934-4325-b9cf-fca3f0b9e1e4\",                        [{\"line\":{\"color\":\"rgba(0.8941176470588236, 0.10196078431372549, 0.10980392156862745, 1.0)\"},\"mode\":\"lines\",\"name\":\"United States\",\"x\":[\"1980 - 1985\",\"1986 - 1990\",\"1991 - 1995\",\"1996 - 2000\",\"2001 - 2005\",\"2006 - 2010\",\"2011 - 2015\",\"2016 - 2020\"],\"y\":[0.1439591264275696,0.1535632640890567,0.1303388147003642,0.1468611702999508,0.1607308863599935,0.151434378436011,0.142887825233186,0.1214240669609585],\"type\":\"scatter\",\"xaxis\":\"x\",\"yaxis\":\"y\"},{\"line\":{\"color\":\"rgba(0.8941176470588236, 0.10196078431372549, 0.10980392156862745, 1.0)\"},\"mode\":\"lines\",\"name\":\"United States\",\"showlegend\":false,\"x\":[\"1980 - 1985\",\"1986 - 1990\",\"1991 - 1995\",\"1996 - 2000\",\"2001 - 2005\",\"2006 - 2010\",\"2011 - 2015\",\"2016 - 2020\"],\"y\":[0.1439591264275696,0.1535632640890567,0.1303388147003642,0.1468611702999508,0.1607308863599935,0.151434378436011,0.142887825233186,0.1214240669609585],\"type\":\"scatter\",\"xaxis\":\"x2\",\"yaxis\":\"y2\"},{\"line\":{\"color\":\"rgba(0.8941176470588236, 0.10196078431372549, 0.10980392156862745, 1.0)\"},\"mode\":\"lines\",\"name\":\"Lebanon\",\"x\":[\"1980 - 1985\",\"1986 - 1990\",\"1991 - 1995\",\"1996 - 2000\",\"2001 - 2005\",\"2006 - 2010\",\"2011 - 2015\",\"2016 - 2020\"],\"y\":[0.0425766379483069,0.0374714243116986,0.0225140712945591,0.0128667431568595,0.0067639044718704,0.0072302002465598,0.0070569464899361,0.0062489250702287],\"type\":\"scatter\",\"xaxis\":\"x\",\"yaxis\":\"y\"},{\"line\":{\"color\":\"rgba(0.8941176470588236, 0.10196078431372549, 0.10980392156862745, 1.0)\"},\"mode\":\"lines\",\"name\":\"Lebanon\",\"showlegend\":false,\"x\":[\"1980 - 1985\",\"1986 - 1990\",\"1991 - 1995\",\"1996 - 2000\",\"2001 - 2005\",\"2006 - 2010\",\"2011 - 2015\",\"2016 - 2020\"],\"y\":[0.0425766379483069,0.0374714243116986,0.0225140712945591,0.0128667431568595,0.0067639044718704,0.0072302002465598,0.0070569464899361,0.0062489250702287],\"type\":\"scatter\",\"xaxis\":\"x2\",\"yaxis\":\"y2\"},{\"line\":{\"color\":\"rgba(0.21568627450980393, 0.49411764705882355, 0.7215686274509804, 1.0)\"},\"mode\":\"lines\",\"name\":\"Soviet Union\",\"x\":[\"1980 - 1985\",\"1986 - 1990\",\"1991 - 1995\",\"1996 - 2000\",\"2001 - 2005\",\"2006 - 2010\",\"2011 - 2015\",\"2016 - 2020\"],\"y\":[0.0395712282107794,0.0298181095318556,0.0130228451605783,0.0093427306998852,0.0078538227280012,0.0050311531669609,0.0039887088856161,0.0029524737717135],\"type\":\"scatter\",\"xaxis\":\"x\",\"yaxis\":\"y\"},{\"line\":{\"color\":\"rgba(0.21568627450980393, 0.49411764705882355, 0.7215686274509804, 1.0)\"},\"mode\":\"lines\",\"name\":\"Soviet Union\",\"showlegend\":false,\"x\":[\"1980 - 1985\",\"1986 - 1990\",\"1991 - 1995\",\"1996 - 2000\",\"2001 - 2005\",\"2006 - 2010\",\"2011 - 2015\",\"2016 - 2020\"],\"y\":[0.0395712282107794,0.0298181095318556,0.0130228451605783,0.0093427306998852,0.0078538227280012,0.0050311531669609,0.0039887088856161,0.0029524737717135],\"type\":\"scatter\",\"xaxis\":\"x2\",\"yaxis\":\"y2\"},{\"line\":{\"color\":\"rgba(0.30196078431372547, 0.6862745098039216, 0.2901960784313726, 1.0)\"},\"mode\":\"lines\",\"name\":\"Israel\",\"x\":[\"1980 - 1985\",\"1986 - 1990\",\"1991 - 1995\",\"1996 - 2000\",\"2001 - 2005\",\"2006 - 2010\",\"2011 - 2015\",\"2016 - 2020\"],\"y\":[0.0335604087357243,0.0390617234867309,0.0382959938196667,0.0351581707916734,0.0259336432120532,0.0173591443707726,0.0131013745704467,0.0120105486441552],\"type\":\"scatter\",\"xaxis\":\"x\",\"yaxis\":\"y\"},{\"line\":{\"color\":\"rgba(0.30196078431372547, 0.6862745098039216, 0.2901960784313726, 1.0)\"},\"mode\":\"lines\",\"name\":\"Israel\",\"showlegend\":false,\"x\":[\"1980 - 1985\",\"1986 - 1990\",\"1991 - 1995\",\"1996 - 2000\",\"2001 - 2005\",\"2006 - 2010\",\"2011 - 2015\",\"2016 - 2020\"],\"y\":[0.0335604087357243,0.0390617234867309,0.0382959938196667,0.0351581707916734,0.0259336432120532,0.0173591443707726,0.0131013745704467,0.0120105486441552],\"type\":\"scatter\",\"xaxis\":\"x2\",\"yaxis\":\"y2\"},{\"line\":{\"color\":\"rgba(0.596078431372549, 0.3058823529411765, 0.6392156862745098, 1.0)\"},\"mode\":\"lines\",\"name\":\"France\",\"x\":[\"1980 - 1985\",\"1986 - 1990\",\"1991 - 1995\",\"1996 - 2000\",\"2001 - 2005\",\"2006 - 2010\",\"2011 - 2015\",\"2016 - 2020\"],\"y\":[0.0208375075135243,0.0241526687208031,0.015450833241364,0.0109818062612686,0.0108350697227119,0.0075300703028687,0.0144820814923907,0.0184601272716849],\"type\":\"scatter\",\"xaxis\":\"x\",\"yaxis\":\"y\"},{\"line\":{\"color\":\"rgba(0.596078431372549, 0.3058823529411765, 0.6392156862745098, 1.0)\"},\"mode\":\"lines\",\"name\":\"France\",\"showlegend\":false,\"x\":[\"1980 - 1985\",\"1986 - 1990\",\"1991 - 1995\",\"1996 - 2000\",\"2001 - 2005\",\"2006 - 2010\",\"2011 - 2015\",\"2016 - 2020\"],\"y\":[0.0208375075135243,0.0241526687208031,0.015450833241364,0.0109818062612686,0.0108350697227119,0.0075300703028687,0.0144820814923907,0.0184601272716849],\"type\":\"scatter\",\"xaxis\":\"x2\",\"yaxis\":\"y2\"},{\"line\":{\"color\":\"rgba(0.596078431372549, 0.3058823529411765, 0.6392156862745098, 1.0)\"},\"mode\":\"lines\",\"name\":\"Italy\",\"x\":[\"1980 - 1985\",\"1986 - 1990\",\"1991 - 1995\",\"1996 - 2000\",\"2001 - 2005\",\"2006 - 2010\",\"2011 - 2015\",\"2016 - 2020\"],\"y\":[0.019134441995592,0.0170957161315972,0.0071736011477761,0.0056548106867726,0.005385478442058,0.0032985706193982,0.003221649484536,0.0038410823826176],\"type\":\"scatter\",\"xaxis\":\"x\",\"yaxis\":\"y\"},{\"line\":{\"color\":\"rgba(0.596078431372549, 0.3058823529411765, 0.6392156862745098, 1.0)\"},\"mode\":\"lines\",\"name\":\"Italy\",\"showlegend\":false,\"x\":[\"1980 - 1985\",\"1986 - 1990\",\"1991 - 1995\",\"1996 - 2000\",\"2001 - 2005\",\"2006 - 2010\",\"2011 - 2015\",\"2016 - 2020\"],\"y\":[0.019134441995592,0.0170957161315972,0.0071736011477761,0.0056548106867726,0.005385478442058,0.0032985706193982,0.003221649484536,0.0038410823826176],\"type\":\"scatter\",\"xaxis\":\"x2\",\"yaxis\":\"y2\"},{\"line\":{\"color\":\"rgba(1.0, 0.4980392156862745, 0.0, 1.0)\"},\"mode\":\"lines\",\"name\":\"Palestinian\",\"x\":[\"1980 - 1985\",\"1986 - 1990\",\"1991 - 1995\",\"1996 - 2000\",\"2001 - 2005\",\"2006 - 2010\",\"2011 - 2015\",\"2016 - 2020\"],\"y\":[0.0189340813464235,0.0277308418646257,0.0272596843615494,0.0238485494181281,0.0169578458086231,0.0114283810348848,0.0073330878743249,0.0054749756349251],\"type\":\"scatter\",\"xaxis\":\"x\",\"yaxis\":\"y\"},{\"line\":{\"color\":\"rgba(1.0, 0.4980392156862745, 0.0, 1.0)\"},\"mode\":\"lines\",\"name\":\"Palestinian\",\"showlegend\":false,\"x\":[\"1980 - 1985\",\"1986 - 1990\",\"1991 - 1995\",\"1996 - 2000\",\"2001 - 2005\",\"2006 - 2010\",\"2011 - 2015\",\"2016 - 2020\"],\"y\":[0.0189340813464235,0.0277308418646257,0.0272596843615494,0.0238485494181281,0.0169578458086231,0.0114283810348848,0.0073330878743249,0.0054749756349251],\"type\":\"scatter\",\"xaxis\":\"x2\",\"yaxis\":\"y2\"},{\"line\":{\"color\":\"rgba(1.0, 1.0, 0.2, 1.0)\"},\"mode\":\"lines\",\"name\":\"Iran\",\"x\":[\"1980 - 1985\",\"1986 - 1990\",\"1991 - 1995\",\"1996 - 2000\",\"2001 - 2005\",\"2006 - 2010\",\"2011 - 2015\",\"2016 - 2020\"],\"y\":[0.0178320977759967,0.0295199284365371,0.0231762498620461,0.0221275200786756,0.0096810386279852,0.0149935028154466,0.0131320569464899,0.0147623688585679],\"type\":\"scatter\",\"xaxis\":\"x\",\"yaxis\":\"y\"},{\"line\":{\"color\":\"rgba(1.0, 1.0, 0.2, 1.0)\"},\"mode\":\"lines\",\"name\":\"Iran\",\"showlegend\":false,\"x\":[\"1980 - 1985\",\"1986 - 1990\",\"1991 - 1995\",\"1996 - 2000\",\"2001 - 2005\",\"2006 - 2010\",\"2011 - 2015\",\"2016 - 2020\"],\"y\":[0.0178320977759967,0.0295199284365371,0.0231762498620461,0.0221275200786756,0.0096810386279852,0.0149935028154466,0.0131320569464899,0.0147623688585679],\"type\":\"scatter\",\"xaxis\":\"x2\",\"yaxis\":\"y2\"},{\"line\":{\"color\":\"rgba(0.6509803921568628, 0.33725490196078434, 0.1568627450980392, 1.0)\"},\"mode\":\"lines\",\"name\":\"Libya\",\"x\":[\"1980 - 1985\",\"1986 - 1990\",\"1991 - 1995\",\"1996 - 2000\",\"2001 - 2005\",\"2006 - 2010\",\"2011 - 2015\",\"2016 - 2020\"],\"y\":[0.0162292125826487,0.0376702117085776,0.0133539344443218,0.0159809867234879,0.0027889084789229,0.003131976143671,0.0099104074619538,0.0055036404288253],\"type\":\"scatter\",\"xaxis\":\"x\",\"yaxis\":\"y\"},{\"line\":{\"color\":\"rgba(0.6509803921568628, 0.33725490196078434, 0.1568627450980392, 1.0)\"},\"mode\":\"lines\",\"name\":\"Libya\",\"showlegend\":false,\"x\":[\"1980 - 1985\",\"1986 - 1990\",\"1991 - 1995\",\"1996 - 2000\",\"2001 - 2005\",\"2006 - 2010\",\"2011 - 2015\",\"2016 - 2020\"],\"y\":[0.0162292125826487,0.0376702117085776,0.0133539344443218,0.0159809867234879,0.0027889084789229,0.003131976143671,0.0099104074619538,0.0055036404288253],\"type\":\"scatter\",\"xaxis\":\"x2\",\"yaxis\":\"y2\"},{\"line\":{\"color\":\"rgba(0.6509803921568628, 0.33725490196078434, 0.1568627450980392, 1.0)\"},\"mode\":\"lines\",\"name\":\"Syria\",\"x\":[\"1980 - 1985\",\"1986 - 1990\",\"1991 - 1995\",\"1996 - 2000\",\"2001 - 2005\",\"2006 - 2010\",\"2011 - 2015\",\"2016 - 2020\"],\"y\":[0.0142256060909637,0.026438723784912,0.0172166427546628,0.0116374364858219,0.0073088635999358,0.0058641255455969,0.0251288659793814,0.025654990540618],\"type\":\"scatter\",\"xaxis\":\"x\",\"yaxis\":\"y\"},{\"line\":{\"color\":\"rgba(0.6509803921568628, 0.33725490196078434, 0.1568627450980392, 1.0)\"},\"mode\":\"lines\",\"name\":\"Syria\",\"showlegend\":false,\"x\":[\"1980 - 1985\",\"1986 - 1990\",\"1991 - 1995\",\"1996 - 2000\",\"2001 - 2005\",\"2006 - 2010\",\"2011 - 2015\",\"2016 - 2020\"],\"y\":[0.0142256060909637,0.026438723784912,0.0172166427546628,0.0116374364858219,0.0073088635999358,0.0058641255455969,0.0251288659793814,0.025654990540618],\"type\":\"scatter\",\"xaxis\":\"x2\",\"yaxis\":\"y2\"},{\"line\":{\"color\":\"rgba(0.9686274509803922, 0.5058823529411764, 0.7490196078431373, 1.0)\"},\"mode\":\"lines\",\"name\":\"Iraq\",\"x\":[\"1980 - 1985\",\"1986 - 1990\",\"1991 - 1995\",\"1996 - 2000\",\"2001 - 2005\",\"2006 - 2010\",\"2011 - 2015\",\"2016 - 2020\"],\"y\":[0.0082147866159086,0.0126229997018189,0.0239487915241143,0.0158170791673496,0.041384837313672,0.0359510878619264,0.0282584683357879,0.0199793613483919],\"type\":\"scatter\",\"xaxis\":\"x\",\"yaxis\":\"y\"},{\"line\":{\"color\":\"rgba(0.9686274509803922, 0.5058823529411764, 0.7490196078431373, 1.0)\"},\"mode\":\"lines\",\"name\":\"Iraq\",\"showlegend\":false,\"x\":[\"1980 - 1985\",\"1986 - 1990\",\"1991 - 1995\",\"1996 - 2000\",\"2001 - 2005\",\"2006 - 2010\",\"2011 - 2015\",\"2016 - 2020\"],\"y\":[0.0082147866159086,0.0126229997018189,0.0239487915241143,0.0158170791673496,0.041384837313672,0.0359510878619264,0.0282584683357879,0.0199793613483919],\"type\":\"scatter\",\"xaxis\":\"x2\",\"yaxis\":\"y2\"},{\"line\":{\"color\":\"rgba(0.6, 0.6, 0.6, 1.0)\"},\"mode\":\"lines\",\"name\":\"Afghanistan\",\"x\":[\"1980 - 1985\",\"1986 - 1990\",\"1991 - 1995\",\"1996 - 2000\",\"2001 - 2005\",\"2006 - 2010\",\"2011 - 2015\",\"2016 - 2020\"],\"y\":[0.0041073933079543,0.0042739290328993,0.0043041606886657,0.0195869529585313,0.0319602500400705,0.0362842768133808,0.0251595483554246,0.015020352003669],\"type\":\"scatter\",\"xaxis\":\"x\",\"yaxis\":\"y\"},{\"line\":{\"color\":\"rgba(0.6, 0.6, 0.6, 1.0)\"},\"mode\":\"lines\",\"name\":\"Afghanistan\",\"showlegend\":false,\"x\":[\"1980 - 1985\",\"1986 - 1990\",\"1991 - 1995\",\"1996 - 2000\",\"2001 - 2005\",\"2006 - 2010\",\"2011 - 2015\",\"2016 - 2020\"],\"y\":[0.0041073933079543,0.0042739290328993,0.0043041606886657,0.0195869529585313,0.0319602500400705,0.0362842768133808,0.0251595483554246,0.015020352003669],\"type\":\"scatter\",\"xaxis\":\"x2\",\"yaxis\":\"y2\"},{\"line\":{\"color\":\"rgba(0.6, 0.6, 0.6, 1.0)\"},\"mode\":\"lines\",\"name\":\"Pakistan\",\"x\":[\"1980 - 1985\",\"1986 - 1990\",\"1991 - 1995\",\"1996 - 2000\",\"2001 - 2005\",\"2006 - 2010\",\"2011 - 2015\",\"2016 - 2020\"],\"y\":[0.002003606491685,0.0023854487625484,0.0054077916344774,0.0111457138174069,0.0129828498156755,0.0308532969046746,0.0206799214531173,0.0127271684916585],\"type\":\"scatter\",\"xaxis\":\"x\",\"yaxis\":\"y\"},{\"line\":{\"color\":\"rgba(0.6, 0.6, 0.6, 1.0)\"},\"mode\":\"lines\",\"name\":\"Pakistan\",\"showlegend\":false,\"x\":[\"1980 - 1985\",\"1986 - 1990\",\"1991 - 1995\",\"1996 - 2000\",\"2001 - 2005\",\"2006 - 2010\",\"2011 - 2015\",\"2016 - 2020\"],\"y\":[0.002003606491685,0.0023854487625484,0.0054077916344774,0.0111457138174069,0.0129828498156755,0.0308532969046746,0.0206799214531173,0.0127271684916585],\"type\":\"scatter\",\"xaxis\":\"x2\",\"yaxis\":\"y2\"}],                        {\"template\":{\"data\":{\"barpolar\":[{\"marker\":{\"line\":{\"color\":\"white\",\"width\":0.5},\"pattern\":{\"fillmode\":\"overlay\",\"size\":10,\"solidity\":0.2}},\"type\":\"barpolar\"}],\"bar\":[{\"error_x\":{\"color\":\"#2a3f5f\"},\"error_y\":{\"color\":\"#2a3f5f\"},\"marker\":{\"line\":{\"color\":\"white\",\"width\":0.5},\"pattern\":{\"fillmode\":\"overlay\",\"size\":10,\"solidity\":0.2}},\"type\":\"bar\"}],\"carpet\":[{\"aaxis\":{\"endlinecolor\":\"#2a3f5f\",\"gridcolor\":\"#C8D4E3\",\"linecolor\":\"#C8D4E3\",\"minorgridcolor\":\"#C8D4E3\",\"startlinecolor\":\"#2a3f5f\"},\"baxis\":{\"endlinecolor\":\"#2a3f5f\",\"gridcolor\":\"#C8D4E3\",\"linecolor\":\"#C8D4E3\",\"minorgridcolor\":\"#C8D4E3\",\"startlinecolor\":\"#2a3f5f\"},\"type\":\"carpet\"}],\"choropleth\":[{\"colorbar\":{\"outlinewidth\":0,\"ticks\":\"\"},\"type\":\"choropleth\"}],\"contourcarpet\":[{\"colorbar\":{\"outlinewidth\":0,\"ticks\":\"\"},\"type\":\"contourcarpet\"}],\"contour\":[{\"colorbar\":{\"outlinewidth\":0,\"ticks\":\"\"},\"colorscale\":[[0.0,\"#0d0887\"],[0.1111111111111111,\"#46039f\"],[0.2222222222222222,\"#7201a8\"],[0.3333333333333333,\"#9c179e\"],[0.4444444444444444,\"#bd3786\"],[0.5555555555555556,\"#d8576b\"],[0.6666666666666666,\"#ed7953\"],[0.7777777777777778,\"#fb9f3a\"],[0.8888888888888888,\"#fdca26\"],[1.0,\"#f0f921\"]],\"type\":\"contour\"}],\"heatmapgl\":[{\"colorbar\":{\"outlinewidth\":0,\"ticks\":\"\"},\"colorscale\":[[0.0,\"#0d0887\"],[0.1111111111111111,\"#46039f\"],[0.2222222222222222,\"#7201a8\"],[0.3333333333333333,\"#9c179e\"],[0.4444444444444444,\"#bd3786\"],[0.5555555555555556,\"#d8576b\"],[0.6666666666666666,\"#ed7953\"],[0.7777777777777778,\"#fb9f3a\"],[0.8888888888888888,\"#fdca26\"],[1.0,\"#f0f921\"]],\"type\":\"heatmapgl\"}],\"heatmap\":[{\"colorbar\":{\"outlinewidth\":0,\"ticks\":\"\"},\"colorscale\":[[0.0,\"#0d0887\"],[0.1111111111111111,\"#46039f\"],[0.2222222222222222,\"#7201a8\"],[0.3333333333333333,\"#9c179e\"],[0.4444444444444444,\"#bd3786\"],[0.5555555555555556,\"#d8576b\"],[0.6666666666666666,\"#ed7953\"],[0.7777777777777778,\"#fb9f3a\"],[0.8888888888888888,\"#fdca26\"],[1.0,\"#f0f921\"]],\"type\":\"heatmap\"}],\"histogram2dcontour\":[{\"colorbar\":{\"outlinewidth\":0,\"ticks\":\"\"},\"colorscale\":[[0.0,\"#0d0887\"],[0.1111111111111111,\"#46039f\"],[0.2222222222222222,\"#7201a8\"],[0.3333333333333333,\"#9c179e\"],[0.4444444444444444,\"#bd3786\"],[0.5555555555555556,\"#d8576b\"],[0.6666666666666666,\"#ed7953\"],[0.7777777777777778,\"#fb9f3a\"],[0.8888888888888888,\"#fdca26\"],[1.0,\"#f0f921\"]],\"type\":\"histogram2dcontour\"}],\"histogram2d\":[{\"colorbar\":{\"outlinewidth\":0,\"ticks\":\"\"},\"colorscale\":[[0.0,\"#0d0887\"],[0.1111111111111111,\"#46039f\"],[0.2222222222222222,\"#7201a8\"],[0.3333333333333333,\"#9c179e\"],[0.4444444444444444,\"#bd3786\"],[0.5555555555555556,\"#d8576b\"],[0.6666666666666666,\"#ed7953\"],[0.7777777777777778,\"#fb9f3a\"],[0.8888888888888888,\"#fdca26\"],[1.0,\"#f0f921\"]],\"type\":\"histogram2d\"}],\"histogram\":[{\"marker\":{\"pattern\":{\"fillmode\":\"overlay\",\"size\":10,\"solidity\":0.2}},\"type\":\"histogram\"}],\"mesh3d\":[{\"colorbar\":{\"outlinewidth\":0,\"ticks\":\"\"},\"type\":\"mesh3d\"}],\"parcoords\":[{\"line\":{\"colorbar\":{\"outlinewidth\":0,\"ticks\":\"\"}},\"type\":\"parcoords\"}],\"pie\":[{\"automargin\":true,\"type\":\"pie\"}],\"scatter3d\":[{\"line\":{\"colorbar\":{\"outlinewidth\":0,\"ticks\":\"\"}},\"marker\":{\"colorbar\":{\"outlinewidth\":0,\"ticks\":\"\"}},\"type\":\"scatter3d\"}],\"scattercarpet\":[{\"marker\":{\"colorbar\":{\"outlinewidth\":0,\"ticks\":\"\"}},\"type\":\"scattercarpet\"}],\"scattergeo\":[{\"marker\":{\"colorbar\":{\"outlinewidth\":0,\"ticks\":\"\"}},\"type\":\"scattergeo\"}],\"scattergl\":[{\"marker\":{\"colorbar\":{\"outlinewidth\":0,\"ticks\":\"\"}},\"type\":\"scattergl\"}],\"scattermapbox\":[{\"marker\":{\"colorbar\":{\"outlinewidth\":0,\"ticks\":\"\"}},\"type\":\"scattermapbox\"}],\"scatterpolargl\":[{\"marker\":{\"colorbar\":{\"outlinewidth\":0,\"ticks\":\"\"}},\"type\":\"scatterpolargl\"}],\"scatterpolar\":[{\"marker\":{\"colorbar\":{\"outlinewidth\":0,\"ticks\":\"\"}},\"type\":\"scatterpolar\"}],\"scatter\":[{\"fillpattern\":{\"fillmode\":\"overlay\",\"size\":10,\"solidity\":0.2},\"type\":\"scatter\"}],\"scatterternary\":[{\"marker\":{\"colorbar\":{\"outlinewidth\":0,\"ticks\":\"\"}},\"type\":\"scatterternary\"}],\"surface\":[{\"colorbar\":{\"outlinewidth\":0,\"ticks\":\"\"},\"colorscale\":[[0.0,\"#0d0887\"],[0.1111111111111111,\"#46039f\"],[0.2222222222222222,\"#7201a8\"],[0.3333333333333333,\"#9c179e\"],[0.4444444444444444,\"#bd3786\"],[0.5555555555555556,\"#d8576b\"],[0.6666666666666666,\"#ed7953\"],[0.7777777777777778,\"#fb9f3a\"],[0.8888888888888888,\"#fdca26\"],[1.0,\"#f0f921\"]],\"type\":\"surface\"}],\"table\":[{\"cells\":{\"fill\":{\"color\":\"#EBF0F8\"},\"line\":{\"color\":\"white\"}},\"header\":{\"fill\":{\"color\":\"#C8D4E3\"},\"line\":{\"color\":\"white\"}},\"type\":\"table\"}]},\"layout\":{\"annotationdefaults\":{\"arrowcolor\":\"#2a3f5f\",\"arrowhead\":0,\"arrowwidth\":1},\"autotypenumbers\":\"strict\",\"coloraxis\":{\"colorbar\":{\"outlinewidth\":0,\"ticks\":\"\"}},\"colorscale\":{\"diverging\":[[0,\"#8e0152\"],[0.1,\"#c51b7d\"],[0.2,\"#de77ae\"],[0.3,\"#f1b6da\"],[0.4,\"#fde0ef\"],[0.5,\"#f7f7f7\"],[0.6,\"#e6f5d0\"],[0.7,\"#b8e186\"],[0.8,\"#7fbc41\"],[0.9,\"#4d9221\"],[1,\"#276419\"]],\"sequential\":[[0.0,\"#0d0887\"],[0.1111111111111111,\"#46039f\"],[0.2222222222222222,\"#7201a8\"],[0.3333333333333333,\"#9c179e\"],[0.4444444444444444,\"#bd3786\"],[0.5555555555555556,\"#d8576b\"],[0.6666666666666666,\"#ed7953\"],[0.7777777777777778,\"#fb9f3a\"],[0.8888888888888888,\"#fdca26\"],[1.0,\"#f0f921\"]],\"sequentialminus\":[[0.0,\"#0d0887\"],[0.1111111111111111,\"#46039f\"],[0.2222222222222222,\"#7201a8\"],[0.3333333333333333,\"#9c179e\"],[0.4444444444444444,\"#bd3786\"],[0.5555555555555556,\"#d8576b\"],[0.6666666666666666,\"#ed7953\"],[0.7777777777777778,\"#fb9f3a\"],[0.8888888888888888,\"#fdca26\"],[1.0,\"#f0f921\"]]},\"colorway\":[\"#636efa\",\"#EF553B\",\"#00cc96\",\"#ab63fa\",\"#FFA15A\",\"#19d3f3\",\"#FF6692\",\"#B6E880\",\"#FF97FF\",\"#FECB52\"],\"font\":{\"color\":\"#2a3f5f\"},\"geo\":{\"bgcolor\":\"white\",\"lakecolor\":\"white\",\"landcolor\":\"white\",\"showlakes\":true,\"showland\":true,\"subunitcolor\":\"#C8D4E3\"},\"hoverlabel\":{\"align\":\"left\"},\"hovermode\":\"closest\",\"mapbox\":{\"style\":\"light\"},\"paper_bgcolor\":\"white\",\"plot_bgcolor\":\"white\",\"polar\":{\"angularaxis\":{\"gridcolor\":\"#EBF0F8\",\"linecolor\":\"#EBF0F8\",\"ticks\":\"\"},\"bgcolor\":\"white\",\"radialaxis\":{\"gridcolor\":\"#EBF0F8\",\"linecolor\":\"#EBF0F8\",\"ticks\":\"\"}},\"scene\":{\"xaxis\":{\"backgroundcolor\":\"white\",\"gridcolor\":\"#DFE8F3\",\"gridwidth\":2,\"linecolor\":\"#EBF0F8\",\"showbackground\":true,\"ticks\":\"\",\"zerolinecolor\":\"#EBF0F8\"},\"yaxis\":{\"backgroundcolor\":\"white\",\"gridcolor\":\"#DFE8F3\",\"gridwidth\":2,\"linecolor\":\"#EBF0F8\",\"showbackground\":true,\"ticks\":\"\",\"zerolinecolor\":\"#EBF0F8\"},\"zaxis\":{\"backgroundcolor\":\"white\",\"gridcolor\":\"#DFE8F3\",\"gridwidth\":2,\"linecolor\":\"#EBF0F8\",\"showbackground\":true,\"ticks\":\"\",\"zerolinecolor\":\"#EBF0F8\"}},\"shapedefaults\":{\"line\":{\"color\":\"#2a3f5f\"}},\"ternary\":{\"aaxis\":{\"gridcolor\":\"#DFE8F3\",\"linecolor\":\"#A2B1C6\",\"ticks\":\"\"},\"baxis\":{\"gridcolor\":\"#DFE8F3\",\"linecolor\":\"#A2B1C6\",\"ticks\":\"\"},\"bgcolor\":\"white\",\"caxis\":{\"gridcolor\":\"#DFE8F3\",\"linecolor\":\"#A2B1C6\",\"ticks\":\"\"}},\"title\":{\"x\":0.05},\"xaxis\":{\"automargin\":true,\"gridcolor\":\"#EBF0F8\",\"linecolor\":\"#EBF0F8\",\"ticks\":\"\",\"title\":{\"standoff\":15},\"zerolinecolor\":\"#EBF0F8\",\"zerolinewidth\":2},\"yaxis\":{\"automargin\":true,\"gridcolor\":\"#EBF0F8\",\"linecolor\":\"#EBF0F8\",\"ticks\":\"\",\"title\":{\"standoff\":15},\"zerolinecolor\":\"#EBF0F8\",\"zerolinewidth\":2}}},\"xaxis\":{\"anchor\":\"y\",\"domain\":[0.0,1.0],\"matches\":\"x2\",\"showticklabels\":false},\"yaxis\":{\"anchor\":\"x\",\"domain\":[0.575,1.0],\"title\":{\"text\":\"Frequency\"},\"range\":[0.12,0.17]},\"xaxis2\":{\"anchor\":\"y2\",\"domain\":[0.0,1.0],\"title\":{\"text\":\"Year Range\"}},\"yaxis2\":{\"anchor\":\"x2\",\"domain\":[0.0,0.425],\"range\":[0,0.05],\"title\":{\"text\":\"Frequency\"}},\"title\":{\"text\":\"Frequency change of mentioned countries across the years\"},\"width\":1200,\"height\":800},                        {\"responsive\": true}                    ).then(function(){\n                            \nvar gd = document.getElementById('b2a34f34-1934-4325-b9cf-fca3f0b9e1e4');\nvar x = new MutationObserver(function (mutations, observer) {{\n        var display = window.getComputedStyle(gd).display;\n        if (!display || display === 'none') {{\n            console.log([gd, 'removed!']);\n            Plotly.purge(gd);\n            observer.disconnect();\n        }}\n}});\n\n// Listen for the removal of the full notebook cells\nvar notebookContainer = gd.closest('#notebook-container');\nif (notebookContainer) {{\n    x.observe(notebookContainer, {childList: true});\n}}\n\n// Listen for the clearing of the current output cell\nvar outputEl = gd.closest('.output');\nif (outputEl) {{\n    x.observe(outputEl, {childList: true});\n}}\n\n                        })                };                });            </script>        </div>"
     },
     "metadata": {},
     "output_type": "display_data"
    }
   ],
   "source": [
    "import plotly.subplots as sp\n",
    "import plotly.graph_objects as go\n",
    "import plotly.io as py\n",
    "import matplotlib.cm as cm\n",
    "import matplotlib.pyplot as plt\n",
    "\n",
    "df_output_places_filtered = df_output_places.groupby('place').filter(lambda x:  np.std(x.count_normalized)  >= 0.005)\n",
    "\n",
    "cmap = plt.colormaps.get_cmap('Set1')\n",
    "\n",
    "norm = cm.colors.Normalize(vmin=0, vmax=len(df_output_places_filtered['place'].unique())-1)\n",
    "color_map = {place: 'rgba' + str(cmap(norm(i))) for i, place in enumerate(df_output_places_filtered['place'].unique())}\n",
    "\n",
    "# Create subplot\n",
    "fig = sp.make_subplots(rows=2, cols=1, shared_xaxes=True)\n",
    "\n",
    "for place in df_output_places_filtered['place'].unique():\n",
    "    df_filtered = df_output_places_filtered[df_output_places_filtered['place'] == place]\n",
    "\n",
    "    # Add traces to subplot 1\n",
    "    fig.add_trace(go.Scatter(x=df_filtered['label'], y=df_filtered['count_normalized'], mode='lines', name=place, line=dict(color=color_map[place])), row=1, col=1)\n",
    "\n",
    "    # Add traces to subplot 2\n",
    "    fig.add_trace(go.Scatter(x=df_filtered['label'], y=df_filtered['count_normalized'], mode='lines', name=place, showlegend=False, line=dict(color=color_map[place])), row=2, col=1)\n",
    "\n",
    "# Update layout for subplot 1\n",
    "fig.update_layout(\n",
    "    title='Frequency change of countries across the years(',\n",
    "    title_x=0.5,\n",
    "    yaxis_title=\"Frequency\",\n",
    "    yaxis=dict(range=[0.12, 0.17]),  # Set y-axis range for subplot 1\n",
    "    width=1200,\n",
    "    height=400,\n",
    "    template='plotly_white'\n",
    ")\n",
    "\n",
    "# Update layout for subplot 2\n",
    "fig.update_layout(\n",
    "    title='Frequency change of mentioned countries across the years',\n",
    "    title_x=0.5,\n",
    "    yaxis_title=\"Frequency\",\n",
    "    yaxis2=dict(range=[0, 0.05], title='Frequency'),  # Set y-axis range for subplot 2\n",
    "    xaxis2=dict(title=\"Year Range\"),  # Set x-axis title for subplot 2\n",
    "    width=1200,\n",
    "    height=800,\n",
    "    template='plotly_white'\n",
    ")\n",
    "\n",
    "py.write_image(fig, 'output/places/places_by_years.png')\n",
    "\n",
    "# Show the plots\n",
    "fig.show()"
   ],
   "metadata": {
    "collapsed": false,
    "ExecuteTime": {
     "end_time": "2024-05-23T13:54:49.302231Z",
     "start_time": "2024-05-23T13:54:48.740758Z"
    }
   },
   "id": "a8072c064f10ed9e",
   "execution_count": 46
  },
  {
   "cell_type": "markdown",
   "source": [
    "# Colocates"
   ],
   "metadata": {
    "collapsed": false
   },
   "id": "92a5952485297b96"
  },
  {
   "cell_type": "code",
   "outputs": [],
   "source": [
    "from nltk.collocations import *\n",
    "from nltk.tokenize import word_tokenize\n",
    "from gensim.utils import simple_preprocess\n",
    "\n",
    "def get_colocates(df, label):\n",
    "    data = df.values.tolist()\n",
    "    \n",
    "    data_words = [[word for word in simple_preprocess(str(doc))] for doc in data]\n",
    "    tokens = [i for j in data_words for i in j]\n",
    "    bigram_measures = nltk.collocations.BigramAssocMeasures()\n",
    "    \n",
    "    word = 'terrorism'\n",
    "    df_output_col = pd.DataFrame(columns=['rank', 'word_of_interest', 'colocate', 'score', 'score_normalized', 'label'])\n",
    "    word_filter = lambda *w: word not in w\n",
    "    \n",
    "    finder = BigramCollocationFinder.from_words(tokens)\n",
    "    finder.apply_freq_filter(3)\n",
    "    finder.apply_ngram_filter(word_filter)\n",
    "    counter = 0 \n",
    "    def get_word_in_tuple(tup):\n",
    "        if tup[0] == 'terrorism':\n",
    "            return tup[1]\n",
    "        elif tup[1] == 'terrorism':\n",
    "            return tup[0]\n",
    "        else:\n",
    "            return None\n",
    "    for i in finder.score_ngrams(bigram_measures.likelihood_ratio):\n",
    "        \n",
    "        df_output_col.loc[len(df_output_col.index)] = [counter, word, get_word_in_tuple(i[0]), i[1], i[1] / finder.N, label] \n",
    "        counter += 1\n",
    "    # remove colocates which have task, charge, case, joint, bill, commission, related, expert in it\n",
    "    df_output_filtered = df_output_col[~df_output_col['colocate'].str.contains('task|charge|case|joint|bill|commission|related|expert')]\n",
    "    # merge the colocates which have combat, anti, fight, counter in it into one word counter and sum up the normalized score\n",
    "    df_output_filtered.loc[df_output_filtered['colocate'].str.contains('combat|anti|fight|counter'), 'colocate'] = 'counter'\n",
    "    # merge the colocates which have sponsor, support in it into one word support and sum up the normalized score\n",
    "    df_output_filtered.loc[df_output_filtered['colocate'].str.contains('sponsor|support'), 'colocate'] = 'support'\n",
    "    # merge the colocates which have renunciation, renounce in it into one word renounce and sum up the normalized score\n",
    "    df_output_filtered.loc[df_output_filtered['colocate'].str.contains('renunciation|renounce'), 'colocate'] = 'renounce'\n",
    "    # merge the colocates which have bill, legislation in it into one word legislation and sum up the normalized score\n",
    "    df_output_filtered.loc[df_output_filtered['colocate'].str.contains('bill|legislation'), 'colocate'] = 'legislation'\n",
    "    # merge the colocates which have domestic, homegrown in it into one word domestic and sum up the normalized score\n",
    "    df_output_filtered.loc[df_output_filtered['colocate'].str.contains('domestic|homegrown'), 'colocate'] = 'domestic'\n",
    "    # merge the colocates which have international, global in it into one word international and sum up the normalized score\n",
    "    df_output_filtered.loc[df_output_filtered['colocate'].str.contains('international|global'), 'colocate'] = 'international'\n",
    "    # merge the colocates which have act, acts in it into one word act and sum up the normalized score\n",
    "    df_output_filtered.loc[df_output_filtered['colocate'].str.contains('act|acts'), 'colocate'] = 'act'\n",
    "    #  replace \n",
    "    df_output_col = df_output_filtered.groupby(['colocate', 'label']).agg({'score_normalized': 'sum', 'score': 'sum'}).reset_index()\n",
    "    return df_output_col"
   ],
   "metadata": {
    "collapsed": false,
    "ExecuteTime": {
     "end_time": "2024-05-23T13:55:23.617892Z",
     "start_time": "2024-05-23T13:55:23.526363Z"
    }
   },
   "id": "41009b5875a27484",
   "execution_count": 47
  },
  {
   "cell_type": "code",
   "outputs": [],
   "source": [
    "# get the colocates for each date range\n",
    "for date in date_range:\n",
    "    df_date = df.loc[(df['year'] >= date[0]) & (df['year'] <= date[1])]\n",
    "    res = get_colocates(df_date['cleaned_text_stem'], f'{date[0]} - {date[1]}')\n",
    "    res.to_csv(f'output/colocates/colocates_{date[0]}_{date[1]}.csv', index=False)\n",
    "\n",
    "# combine the results\n",
    "df_output = pd.concat([pd.read_csv(f'output/colocates/colocates_{date[0]}_{date[1]}.csv') for date in date_range])\n",
    "# df_output = df_output.groupby(['colocate', 'label']).agg({'score_normalized': 'sum', 'score': 'sum'}).reset_index()\n",
    "df_output.to_csv('output/colocates/colocates_by_years_stem.csv', index=False)"
   ],
   "metadata": {
    "collapsed": false,
    "ExecuteTime": {
     "end_time": "2024-05-23T13:55:53.890113Z",
     "start_time": "2024-05-23T13:55:26.790688Z"
    }
   },
   "id": "f8672364fdb795e5",
   "execution_count": 48
  },
  {
   "cell_type": "code",
   "outputs": [
    {
     "data": {
      "text/plain": "       colocate        label  score_normalized      score\n0          abet  1980 - 1985          0.000069  29.769743\n1        abroad  1980 - 1985          0.000034  14.505753\n2     according  1980 - 1985          0.000024  10.222210\n3       accused  1980 - 1985          0.000040  17.172277\n4        across  1980 - 1985          0.000009   3.806082\n...         ...          ...               ...        ...\n1598        yes  2016 - 2020          0.000001   2.698115\n1599        yet  2016 - 2020          0.000003   4.926823\n1600     yorker  2016 - 2020          0.000002   4.452952\n1601    zealand  2016 - 2020          0.000003   6.432913\n1602       zero  2016 - 2020          0.000008  16.586491\n\n[8644 rows x 4 columns]",
      "text/html": "<div>\n<style scoped>\n    .dataframe tbody tr th:only-of-type {\n        vertical-align: middle;\n    }\n\n    .dataframe tbody tr th {\n        vertical-align: top;\n    }\n\n    .dataframe thead th {\n        text-align: right;\n    }\n</style>\n<table border=\"1\" class=\"dataframe\">\n  <thead>\n    <tr style=\"text-align: right;\">\n      <th></th>\n      <th>colocate</th>\n      <th>label</th>\n      <th>score_normalized</th>\n      <th>score</th>\n    </tr>\n  </thead>\n  <tbody>\n    <tr>\n      <th>0</th>\n      <td>abet</td>\n      <td>1980 - 1985</td>\n      <td>0.000069</td>\n      <td>29.769743</td>\n    </tr>\n    <tr>\n      <th>1</th>\n      <td>abroad</td>\n      <td>1980 - 1985</td>\n      <td>0.000034</td>\n      <td>14.505753</td>\n    </tr>\n    <tr>\n      <th>2</th>\n      <td>according</td>\n      <td>1980 - 1985</td>\n      <td>0.000024</td>\n      <td>10.222210</td>\n    </tr>\n    <tr>\n      <th>3</th>\n      <td>accused</td>\n      <td>1980 - 1985</td>\n      <td>0.000040</td>\n      <td>17.172277</td>\n    </tr>\n    <tr>\n      <th>4</th>\n      <td>across</td>\n      <td>1980 - 1985</td>\n      <td>0.000009</td>\n      <td>3.806082</td>\n    </tr>\n    <tr>\n      <th>...</th>\n      <td>...</td>\n      <td>...</td>\n      <td>...</td>\n      <td>...</td>\n    </tr>\n    <tr>\n      <th>1598</th>\n      <td>yes</td>\n      <td>2016 - 2020</td>\n      <td>0.000001</td>\n      <td>2.698115</td>\n    </tr>\n    <tr>\n      <th>1599</th>\n      <td>yet</td>\n      <td>2016 - 2020</td>\n      <td>0.000003</td>\n      <td>4.926823</td>\n    </tr>\n    <tr>\n      <th>1600</th>\n      <td>yorker</td>\n      <td>2016 - 2020</td>\n      <td>0.000002</td>\n      <td>4.452952</td>\n    </tr>\n    <tr>\n      <th>1601</th>\n      <td>zealand</td>\n      <td>2016 - 2020</td>\n      <td>0.000003</td>\n      <td>6.432913</td>\n    </tr>\n    <tr>\n      <th>1602</th>\n      <td>zero</td>\n      <td>2016 - 2020</td>\n      <td>0.000008</td>\n      <td>16.586491</td>\n    </tr>\n  </tbody>\n</table>\n<p>8644 rows × 4 columns</p>\n</div>"
     },
     "execution_count": 49,
     "metadata": {},
     "output_type": "execute_result"
    }
   ],
   "source": [
    "df_output"
   ],
   "metadata": {
    "collapsed": false,
    "ExecuteTime": {
     "end_time": "2024-05-23T13:56:28.944991Z",
     "start_time": "2024-05-23T13:56:28.936940Z"
    }
   },
   "id": "fd3c85604f069c27",
   "execution_count": 49
  },
  {
   "cell_type": "code",
   "outputs": [
    {
     "name": "stdout",
     "output_type": "stream",
     "text": [
      "          colocate        label  score_normalized        score\n",
      "5              act  1980 - 1985      1.487192e-03   643.616352\n",
      "102        counter  1980 - 1985      3.602817e-03  1559.201944\n",
      "105       coverage  1980 - 1985      2.727997e-05    11.806034\n",
      "129       domestic  1980 - 1985      1.226358e-04    53.073483\n",
      "227  international  1980 - 1985      3.964224e-03  1715.609160\n",
      "377       renounce  1980 - 1985      1.487903e-04    64.392431\n",
      "459        support  1980 - 1985      1.468517e-03   635.534395\n",
      "462        suspect  1980 - 1985      6.837498e-07     0.295908\n",
      "499          urban  1980 - 1985      2.205828e-04    95.462260\n",
      "512            war  1980 - 1985      3.346512e-05    14.482799\n"
     ]
    },
    {
     "data": {
      "application/vnd.plotly.v1+json": {
       "data": [
        {
         "hovertemplate": "Colocate=act<br>Label=%{x}<br>Score Normalized=%{y}<extra></extra>",
         "legendgroup": "act",
         "line": {
          "color": "#636efa",
          "dash": "solid"
         },
         "marker": {
          "symbol": "circle"
         },
         "mode": "lines",
         "name": "act",
         "orientation": "v",
         "showlegend": true,
         "x": [
          "1980 - 1985",
          "1986 - 1990",
          "1991 - 1995",
          "1996 - 2000",
          "2001 - 2005",
          "2006 - 2010",
          "2011 - 2015",
          "2016 - 2020"
         ],
         "xaxis": "x",
         "y": [
          0.0014871915586482,
          0.0016827070958588,
          0.0019787361007111,
          0.0014845640703428,
          9.763959092026E-4,
          0.0012299787317745,
          0.0017426441662959,
          0.0018092407884825
         ],
         "yaxis": "y",
         "type": "scatter"
        },
        {
         "hovertemplate": "Colocate=counter<br>Label=%{x}<br>Score Normalized=%{y}<extra></extra>",
         "legendgroup": "counter",
         "line": {
          "color": "#EF553B",
          "dash": "solid"
         },
         "marker": {
          "symbol": "circle"
         },
         "mode": "lines",
         "name": "counter",
         "orientation": "v",
         "showlegend": true,
         "x": [
          "1980 - 1985",
          "1986 - 1990",
          "1991 - 1995",
          "1996 - 2000",
          "2001 - 2005",
          "2006 - 2010",
          "2011 - 2015",
          "2016 - 2020"
         ],
         "xaxis": "x",
         "y": [
          0.0036028170517477,
          0.0052206469061526,
          0.0062441606438482,
          0.0118519200430445,
          0.009318007825287,
          0.0067792675287756,
          0.0054970518208714,
          0.0045931235255636
         ],
         "yaxis": "y",
         "type": "scatter"
        },
        {
         "hovertemplate": "Colocate=coverage<br>Label=%{x}<br>Score Normalized=%{y}<extra></extra>",
         "legendgroup": "coverage",
         "line": {
          "color": "#00cc96",
          "dash": "solid"
         },
         "marker": {
          "symbol": "circle"
         },
         "mode": "lines",
         "name": "coverage",
         "orientation": "v",
         "showlegend": true,
         "x": [
          "1980 - 1985",
          "1986 - 1990",
          "1991 - 1995",
          "1996 - 2000",
          "2001 - 2005",
          "2006 - 2010",
          "2011 - 2015",
          "2016 - 2020"
         ],
         "xaxis": "x",
         "y": [
          2.7279968782347076E-5,
          1.2195908296535736E-5,
          3.888218881627E-4,
          2.047867729746E-4,
          0.001442533552368,
          2.63189973903E-4,
          1.905330867131E-4,
          4.9626419976939255E-5
         ],
         "yaxis": "y",
         "type": "scatter"
        },
        {
         "hovertemplate": "Colocate=domestic<br>Label=%{x}<br>Score Normalized=%{y}<extra></extra>",
         "legendgroup": "domestic",
         "line": {
          "color": "#ab63fa",
          "dash": "solid"
         },
         "marker": {
          "symbol": "circle"
         },
         "mode": "lines",
         "name": "domestic",
         "orientation": "v",
         "showlegend": true,
         "x": [
          "1980 - 1985",
          "1986 - 1990",
          "1991 - 1995",
          "1996 - 2000",
          "2001 - 2005",
          "2006 - 2010",
          "2011 - 2015",
          "2016 - 2020"
         ],
         "xaxis": "x",
         "y": [
          1.226358455497E-4,
          1.455921777898E-4,
          7.849840369875E-4,
          0.0021057589768159,
          4.241021111604E-4,
          8.988729452068E-4,
          0.0017107227766264,
          0.0050654580578493
         ],
         "yaxis": "y",
         "type": "scatter"
        },
        {
         "hovertemplate": "Colocate=international<br>Label=%{x}<br>Score Normalized=%{y}<extra></extra>",
         "legendgroup": "international",
         "line": {
          "color": "#FFA15A",
          "dash": "solid"
         },
         "marker": {
          "symbol": "circle"
         },
         "mode": "lines",
         "name": "international",
         "orientation": "v",
         "showlegend": true,
         "x": [
          "1980 - 1985",
          "1986 - 1990",
          "1991 - 1995",
          "1996 - 2000",
          "2001 - 2005",
          "2006 - 2010",
          "2011 - 2015",
          "2016 - 2020"
         ],
         "xaxis": "x",
         "y": [
          0.0039642241093843,
          0.0028509350789521,
          0.0018077819634832,
          0.0020495081238828,
          8.459106918085E-4,
          7.541523838146E-4,
          7.8595613028E-4,
          0.0011686593004037
         ],
         "yaxis": "y",
         "type": "scatter"
        },
        {
         "hovertemplate": "Colocate=renounce<br>Label=%{x}<br>Score Normalized=%{y}<extra></extra>",
         "legendgroup": "renounce",
         "line": {
          "color": "#19d3f3",
          "dash": "solid"
         },
         "marker": {
          "symbol": "circle"
         },
         "mode": "lines",
         "name": "renounce",
         "orientation": "v",
         "showlegend": true,
         "x": [
          "1980 - 1985",
          "1986 - 1990",
          "1991 - 1995",
          "1996 - 2000",
          "2001 - 2005",
          "2006 - 2010",
          "2011 - 2015",
          "2016 - 2020"
         ],
         "xaxis": "x",
         "y": [
          1.487903144965E-4,
          0.0024241158082121,
          7.823972762199E-4,
          4.8041726951664504E-5,
          3.1903403945922416E-5,
          1.095307907581E-4,
          1.6269927089718603E-5,
          1.165357213289286E-5
         ],
         "yaxis": "y",
         "type": "scatter"
        },
        {
         "hovertemplate": "Colocate=support<br>Label=%{x}<br>Score Normalized=%{y}<extra></extra>",
         "legendgroup": "support",
         "line": {
          "color": "#FF6692",
          "dash": "solid"
         },
         "marker": {
          "symbol": "circle"
         },
         "mode": "lines",
         "name": "support",
         "orientation": "v",
         "showlegend": true,
         "x": [
          "1980 - 1985",
          "1986 - 1990",
          "1991 - 1995",
          "1996 - 2000",
          "2001 - 2005",
          "2006 - 2010",
          "2011 - 2015",
          "2016 - 2020"
         ],
         "xaxis": "x",
         "y": [
          0.0014685167403093,
          0.0033663724882172,
          0.0032499294691293,
          0.0030667297715861,
          7.3381911243E-4,
          0.0014680070637071,
          0.0012817175519052,
          0.0019150805259575
         ],
         "yaxis": "y",
         "type": "scatter"
        },
        {
         "hovertemplate": "Colocate=suspect<br>Label=%{x}<br>Score Normalized=%{y}<extra></extra>",
         "legendgroup": "suspect",
         "line": {
          "color": "#B6E880",
          "dash": "solid"
         },
         "marker": {
          "symbol": "circle"
         },
         "mode": "lines",
         "name": "suspect",
         "orientation": "v",
         "showlegend": true,
         "x": [
          "1980 - 1985",
          "1986 - 1990",
          "1991 - 1995",
          "1996 - 2000",
          "2001 - 2005",
          "2006 - 2010",
          "2011 - 2015",
          "2016 - 2020"
         ],
         "xaxis": "x",
         "y": [
          6.837498048200675E-7,
          7.864777972195377E-7,
          9.93490039252596E-5,
          2.933828788047624E-5,
          4.187693274396E-4,
          0.0024707816596224,
          0.0011107080531185,
          5.071856361922E-4
         ],
         "yaxis": "y",
         "type": "scatter"
        },
        {
         "hovertemplate": "Colocate=urban<br>Label=%{x}<br>Score Normalized=%{y}<extra></extra>",
         "legendgroup": "urban",
         "line": {
          "color": "#FF97FF",
          "dash": "solid"
         },
         "marker": {
          "symbol": "circle"
         },
         "mode": "lines",
         "name": "urban",
         "orientation": "v",
         "showlegend": true,
         "x": [
          "1980 - 1985",
          "1986 - 1990",
          "1991 - 1995",
          "1996 - 2000",
          "2001 - 2005",
          "2006 - 2010",
          "2011 - 2015",
          "2016 - 2020"
         ],
         "xaxis": "x",
         "y": [
          2.205827537068E-4,
          5.30997884838079E-5,
          5.930872570968E-4,
          1.9501359492384915E-5,
          3.0991680464587224E-6,
          3.662253815193098E-6,
          3.0694310471622134E-6,
          1.3245895424791451E-6
         ],
         "yaxis": "y",
         "type": "scatter"
        },
        {
         "hovertemplate": "Colocate=war<br>Label=%{x}<br>Score Normalized=%{y}<extra></extra>",
         "legendgroup": "war",
         "line": {
          "color": "#FECB52",
          "dash": "solid"
         },
         "marker": {
          "symbol": "circle"
         },
         "mode": "lines",
         "name": "war",
         "orientation": "v",
         "showlegend": true,
         "x": [
          "1980 - 1985",
          "1986 - 1990",
          "1991 - 1995",
          "1996 - 2000",
          "2001 - 2005",
          "2006 - 2010",
          "2011 - 2015",
          "2016 - 2020"
         ],
         "xaxis": "x",
         "y": [
          3.3465116727013233E-5,
          1.34452260019E-4,
          6.953942240780231E-5,
          3.361361655017E-4,
          0.0049150273105505,
          0.0016987701086886,
          8.045755582307E-4,
          4.82876597947E-4
         ],
         "yaxis": "y",
         "type": "scatter"
        },
        {
         "hovertemplate": "Colocate=insurance<br>Label=%{x}<br>Score Normalized=%{y}<extra></extra>",
         "legendgroup": "insurance",
         "line": {
          "color": "#636efa",
          "dash": "solid"
         },
         "marker": {
          "symbol": "circle"
         },
         "mode": "lines",
         "name": "insurance",
         "orientation": "v",
         "showlegend": true,
         "x": [
          "1991 - 1995",
          "1996 - 2000",
          "2001 - 2005",
          "2006 - 2010",
          "2011 - 2015",
          "2016 - 2020"
         ],
         "xaxis": "x",
         "y": [
          4.012079928085056E-5,
          1.643932189618E-4,
          0.0017824535516759,
          0.0010465478386453,
          6.247755539145E-4,
          3.467425366211048E-5
         ],
         "yaxis": "y",
         "type": "scatter"
        },
        {
         "hovertemplate": "Colocate=legislation<br>Label=%{x}<br>Score Normalized=%{y}<extra></extra>",
         "legendgroup": "legislation",
         "line": {
          "color": "#EF553B",
          "dash": "solid"
         },
         "marker": {
          "symbol": "circle"
         },
         "mode": "lines",
         "name": "legislation",
         "orientation": "v",
         "showlegend": true,
         "x": [
          "1991 - 1995",
          "1996 - 2000",
          "2001 - 2005",
          "2006 - 2010",
          "2011 - 2015",
          "2016 - 2020"
         ],
         "xaxis": "x",
         "y": [
          4.440818565375E-4,
          3.75427777134E-4,
          1.114409128596E-4,
          1.1919535481214692E-5,
          5.1634038016158845E-5,
          1.0938437017997234E-5
         ],
         "yaxis": "y",
         "type": "scatter"
        },
        {
         "hovertemplate": "Colocate=risk<br>Label=%{x}<br>Score Normalized=%{y}<extra></extra>",
         "legendgroup": "risk",
         "line": {
          "color": "#00cc96",
          "dash": "solid"
         },
         "marker": {
          "symbol": "circle"
         },
         "mode": "lines",
         "name": "risk",
         "orientation": "v",
         "showlegend": true,
         "x": [
          "1991 - 1995",
          "1996 - 2000",
          "2001 - 2005",
          "2006 - 2010",
          "2011 - 2015",
          "2016 - 2020"
         ],
         "xaxis": "x",
         "y": [
          4.7439058914220864E-5,
          1.8636418825544056E-5,
          8.538365330313E-4,
          9.374551501647E-4,
          3.525854357958E-4,
          3.0019463031373895E-5
         ],
         "yaxis": "y",
         "type": "scatter"
        }
       ],
       "layout": {
        "template": {
         "data": {
          "barpolar": [
           {
            "marker": {
             "line": {
              "color": "white",
              "width": 0.5
             },
             "pattern": {
              "fillmode": "overlay",
              "size": 10,
              "solidity": 0.2
             }
            },
            "type": "barpolar"
           }
          ],
          "bar": [
           {
            "error_x": {
             "color": "#2a3f5f"
            },
            "error_y": {
             "color": "#2a3f5f"
            },
            "marker": {
             "line": {
              "color": "white",
              "width": 0.5
             },
             "pattern": {
              "fillmode": "overlay",
              "size": 10,
              "solidity": 0.2
             }
            },
            "type": "bar"
           }
          ],
          "carpet": [
           {
            "aaxis": {
             "endlinecolor": "#2a3f5f",
             "gridcolor": "#C8D4E3",
             "linecolor": "#C8D4E3",
             "minorgridcolor": "#C8D4E3",
             "startlinecolor": "#2a3f5f"
            },
            "baxis": {
             "endlinecolor": "#2a3f5f",
             "gridcolor": "#C8D4E3",
             "linecolor": "#C8D4E3",
             "minorgridcolor": "#C8D4E3",
             "startlinecolor": "#2a3f5f"
            },
            "type": "carpet"
           }
          ],
          "choropleth": [
           {
            "colorbar": {
             "outlinewidth": 0,
             "ticks": ""
            },
            "type": "choropleth"
           }
          ],
          "contourcarpet": [
           {
            "colorbar": {
             "outlinewidth": 0,
             "ticks": ""
            },
            "type": "contourcarpet"
           }
          ],
          "contour": [
           {
            "colorbar": {
             "outlinewidth": 0,
             "ticks": ""
            },
            "colorscale": [
             [
              0.0,
              "#0d0887"
             ],
             [
              0.1111111111111111,
              "#46039f"
             ],
             [
              0.2222222222222222,
              "#7201a8"
             ],
             [
              0.3333333333333333,
              "#9c179e"
             ],
             [
              0.4444444444444444,
              "#bd3786"
             ],
             [
              0.5555555555555556,
              "#d8576b"
             ],
             [
              0.6666666666666666,
              "#ed7953"
             ],
             [
              0.7777777777777778,
              "#fb9f3a"
             ],
             [
              0.8888888888888888,
              "#fdca26"
             ],
             [
              1.0,
              "#f0f921"
             ]
            ],
            "type": "contour"
           }
          ],
          "heatmapgl": [
           {
            "colorbar": {
             "outlinewidth": 0,
             "ticks": ""
            },
            "colorscale": [
             [
              0.0,
              "#0d0887"
             ],
             [
              0.1111111111111111,
              "#46039f"
             ],
             [
              0.2222222222222222,
              "#7201a8"
             ],
             [
              0.3333333333333333,
              "#9c179e"
             ],
             [
              0.4444444444444444,
              "#bd3786"
             ],
             [
              0.5555555555555556,
              "#d8576b"
             ],
             [
              0.6666666666666666,
              "#ed7953"
             ],
             [
              0.7777777777777778,
              "#fb9f3a"
             ],
             [
              0.8888888888888888,
              "#fdca26"
             ],
             [
              1.0,
              "#f0f921"
             ]
            ],
            "type": "heatmapgl"
           }
          ],
          "heatmap": [
           {
            "colorbar": {
             "outlinewidth": 0,
             "ticks": ""
            },
            "colorscale": [
             [
              0.0,
              "#0d0887"
             ],
             [
              0.1111111111111111,
              "#46039f"
             ],
             [
              0.2222222222222222,
              "#7201a8"
             ],
             [
              0.3333333333333333,
              "#9c179e"
             ],
             [
              0.4444444444444444,
              "#bd3786"
             ],
             [
              0.5555555555555556,
              "#d8576b"
             ],
             [
              0.6666666666666666,
              "#ed7953"
             ],
             [
              0.7777777777777778,
              "#fb9f3a"
             ],
             [
              0.8888888888888888,
              "#fdca26"
             ],
             [
              1.0,
              "#f0f921"
             ]
            ],
            "type": "heatmap"
           }
          ],
          "histogram2dcontour": [
           {
            "colorbar": {
             "outlinewidth": 0,
             "ticks": ""
            },
            "colorscale": [
             [
              0.0,
              "#0d0887"
             ],
             [
              0.1111111111111111,
              "#46039f"
             ],
             [
              0.2222222222222222,
              "#7201a8"
             ],
             [
              0.3333333333333333,
              "#9c179e"
             ],
             [
              0.4444444444444444,
              "#bd3786"
             ],
             [
              0.5555555555555556,
              "#d8576b"
             ],
             [
              0.6666666666666666,
              "#ed7953"
             ],
             [
              0.7777777777777778,
              "#fb9f3a"
             ],
             [
              0.8888888888888888,
              "#fdca26"
             ],
             [
              1.0,
              "#f0f921"
             ]
            ],
            "type": "histogram2dcontour"
           }
          ],
          "histogram2d": [
           {
            "colorbar": {
             "outlinewidth": 0,
             "ticks": ""
            },
            "colorscale": [
             [
              0.0,
              "#0d0887"
             ],
             [
              0.1111111111111111,
              "#46039f"
             ],
             [
              0.2222222222222222,
              "#7201a8"
             ],
             [
              0.3333333333333333,
              "#9c179e"
             ],
             [
              0.4444444444444444,
              "#bd3786"
             ],
             [
              0.5555555555555556,
              "#d8576b"
             ],
             [
              0.6666666666666666,
              "#ed7953"
             ],
             [
              0.7777777777777778,
              "#fb9f3a"
             ],
             [
              0.8888888888888888,
              "#fdca26"
             ],
             [
              1.0,
              "#f0f921"
             ]
            ],
            "type": "histogram2d"
           }
          ],
          "histogram": [
           {
            "marker": {
             "pattern": {
              "fillmode": "overlay",
              "size": 10,
              "solidity": 0.2
             }
            },
            "type": "histogram"
           }
          ],
          "mesh3d": [
           {
            "colorbar": {
             "outlinewidth": 0,
             "ticks": ""
            },
            "type": "mesh3d"
           }
          ],
          "parcoords": [
           {
            "line": {
             "colorbar": {
              "outlinewidth": 0,
              "ticks": ""
             }
            },
            "type": "parcoords"
           }
          ],
          "pie": [
           {
            "automargin": true,
            "type": "pie"
           }
          ],
          "scatter3d": [
           {
            "line": {
             "colorbar": {
              "outlinewidth": 0,
              "ticks": ""
             }
            },
            "marker": {
             "colorbar": {
              "outlinewidth": 0,
              "ticks": ""
             }
            },
            "type": "scatter3d"
           }
          ],
          "scattercarpet": [
           {
            "marker": {
             "colorbar": {
              "outlinewidth": 0,
              "ticks": ""
             }
            },
            "type": "scattercarpet"
           }
          ],
          "scattergeo": [
           {
            "marker": {
             "colorbar": {
              "outlinewidth": 0,
              "ticks": ""
             }
            },
            "type": "scattergeo"
           }
          ],
          "scattergl": [
           {
            "marker": {
             "colorbar": {
              "outlinewidth": 0,
              "ticks": ""
             }
            },
            "type": "scattergl"
           }
          ],
          "scattermapbox": [
           {
            "marker": {
             "colorbar": {
              "outlinewidth": 0,
              "ticks": ""
             }
            },
            "type": "scattermapbox"
           }
          ],
          "scatterpolargl": [
           {
            "marker": {
             "colorbar": {
              "outlinewidth": 0,
              "ticks": ""
             }
            },
            "type": "scatterpolargl"
           }
          ],
          "scatterpolar": [
           {
            "marker": {
             "colorbar": {
              "outlinewidth": 0,
              "ticks": ""
             }
            },
            "type": "scatterpolar"
           }
          ],
          "scatter": [
           {
            "fillpattern": {
             "fillmode": "overlay",
             "size": 10,
             "solidity": 0.2
            },
            "type": "scatter"
           }
          ],
          "scatterternary": [
           {
            "marker": {
             "colorbar": {
              "outlinewidth": 0,
              "ticks": ""
             }
            },
            "type": "scatterternary"
           }
          ],
          "surface": [
           {
            "colorbar": {
             "outlinewidth": 0,
             "ticks": ""
            },
            "colorscale": [
             [
              0.0,
              "#0d0887"
             ],
             [
              0.1111111111111111,
              "#46039f"
             ],
             [
              0.2222222222222222,
              "#7201a8"
             ],
             [
              0.3333333333333333,
              "#9c179e"
             ],
             [
              0.4444444444444444,
              "#bd3786"
             ],
             [
              0.5555555555555556,
              "#d8576b"
             ],
             [
              0.6666666666666666,
              "#ed7953"
             ],
             [
              0.7777777777777778,
              "#fb9f3a"
             ],
             [
              0.8888888888888888,
              "#fdca26"
             ],
             [
              1.0,
              "#f0f921"
             ]
            ],
            "type": "surface"
           }
          ],
          "table": [
           {
            "cells": {
             "fill": {
              "color": "#EBF0F8"
             },
             "line": {
              "color": "white"
             }
            },
            "header": {
             "fill": {
              "color": "#C8D4E3"
             },
             "line": {
              "color": "white"
             }
            },
            "type": "table"
           }
          ]
         },
         "layout": {
          "annotationdefaults": {
           "arrowcolor": "#2a3f5f",
           "arrowhead": 0,
           "arrowwidth": 1
          },
          "autotypenumbers": "strict",
          "coloraxis": {
           "colorbar": {
            "outlinewidth": 0,
            "ticks": ""
           }
          },
          "colorscale": {
           "diverging": [
            [
             0,
             "#8e0152"
            ],
            [
             0.1,
             "#c51b7d"
            ],
            [
             0.2,
             "#de77ae"
            ],
            [
             0.3,
             "#f1b6da"
            ],
            [
             0.4,
             "#fde0ef"
            ],
            [
             0.5,
             "#f7f7f7"
            ],
            [
             0.6,
             "#e6f5d0"
            ],
            [
             0.7,
             "#b8e186"
            ],
            [
             0.8,
             "#7fbc41"
            ],
            [
             0.9,
             "#4d9221"
            ],
            [
             1,
             "#276419"
            ]
           ],
           "sequential": [
            [
             0.0,
             "#0d0887"
            ],
            [
             0.1111111111111111,
             "#46039f"
            ],
            [
             0.2222222222222222,
             "#7201a8"
            ],
            [
             0.3333333333333333,
             "#9c179e"
            ],
            [
             0.4444444444444444,
             "#bd3786"
            ],
            [
             0.5555555555555556,
             "#d8576b"
            ],
            [
             0.6666666666666666,
             "#ed7953"
            ],
            [
             0.7777777777777778,
             "#fb9f3a"
            ],
            [
             0.8888888888888888,
             "#fdca26"
            ],
            [
             1.0,
             "#f0f921"
            ]
           ],
           "sequentialminus": [
            [
             0.0,
             "#0d0887"
            ],
            [
             0.1111111111111111,
             "#46039f"
            ],
            [
             0.2222222222222222,
             "#7201a8"
            ],
            [
             0.3333333333333333,
             "#9c179e"
            ],
            [
             0.4444444444444444,
             "#bd3786"
            ],
            [
             0.5555555555555556,
             "#d8576b"
            ],
            [
             0.6666666666666666,
             "#ed7953"
            ],
            [
             0.7777777777777778,
             "#fb9f3a"
            ],
            [
             0.8888888888888888,
             "#fdca26"
            ],
            [
             1.0,
             "#f0f921"
            ]
           ]
          },
          "colorway": [
           "#636efa",
           "#EF553B",
           "#00cc96",
           "#ab63fa",
           "#FFA15A",
           "#19d3f3",
           "#FF6692",
           "#B6E880",
           "#FF97FF",
           "#FECB52"
          ],
          "font": {
           "color": "#2a3f5f"
          },
          "geo": {
           "bgcolor": "white",
           "lakecolor": "white",
           "landcolor": "white",
           "showlakes": true,
           "showland": true,
           "subunitcolor": "#C8D4E3"
          },
          "hoverlabel": {
           "align": "left"
          },
          "hovermode": "closest",
          "mapbox": {
           "style": "light"
          },
          "paper_bgcolor": "white",
          "plot_bgcolor": "white",
          "polar": {
           "angularaxis": {
            "gridcolor": "#EBF0F8",
            "linecolor": "#EBF0F8",
            "ticks": ""
           },
           "bgcolor": "white",
           "radialaxis": {
            "gridcolor": "#EBF0F8",
            "linecolor": "#EBF0F8",
            "ticks": ""
           }
          },
          "scene": {
           "xaxis": {
            "backgroundcolor": "white",
            "gridcolor": "#DFE8F3",
            "gridwidth": 2,
            "linecolor": "#EBF0F8",
            "showbackground": true,
            "ticks": "",
            "zerolinecolor": "#EBF0F8"
           },
           "yaxis": {
            "backgroundcolor": "white",
            "gridcolor": "#DFE8F3",
            "gridwidth": 2,
            "linecolor": "#EBF0F8",
            "showbackground": true,
            "ticks": "",
            "zerolinecolor": "#EBF0F8"
           },
           "zaxis": {
            "backgroundcolor": "white",
            "gridcolor": "#DFE8F3",
            "gridwidth": 2,
            "linecolor": "#EBF0F8",
            "showbackground": true,
            "ticks": "",
            "zerolinecolor": "#EBF0F8"
           }
          },
          "shapedefaults": {
           "line": {
            "color": "#2a3f5f"
           }
          },
          "ternary": {
           "aaxis": {
            "gridcolor": "#DFE8F3",
            "linecolor": "#A2B1C6",
            "ticks": ""
           },
           "baxis": {
            "gridcolor": "#DFE8F3",
            "linecolor": "#A2B1C6",
            "ticks": ""
           },
           "bgcolor": "white",
           "caxis": {
            "gridcolor": "#DFE8F3",
            "linecolor": "#A2B1C6",
            "ticks": ""
           }
          },
          "title": {
           "x": 0.05
          },
          "xaxis": {
           "automargin": true,
           "gridcolor": "#EBF0F8",
           "linecolor": "#EBF0F8",
           "ticks": "",
           "title": {
            "standoff": 15
           },
           "zerolinecolor": "#EBF0F8",
           "zerolinewidth": 2
          },
          "yaxis": {
           "automargin": true,
           "gridcolor": "#EBF0F8",
           "linecolor": "#EBF0F8",
           "ticks": "",
           "title": {
            "standoff": 15
           },
           "zerolinecolor": "#EBF0F8",
           "zerolinewidth": 2
          }
         }
        },
        "xaxis": {
         "anchor": "y",
         "domain": [
          0.0,
          1.0
         ],
         "title": {
          "text": "Label"
         }
        },
        "yaxis": {
         "anchor": "x",
         "domain": [
          0.0,
          1.0
         ],
         "title": {
          "text": "Score Normalized"
         }
        },
        "legend": {
         "title": {
          "text": "Colocate"
         },
         "tracegroupgap": 0
        },
        "title": {
         "text": "Score change of colocates across the years"
        },
        "autosize": false,
        "width": 1200,
        "height": 800
       },
       "config": {
        "plotlyServerURL": "https://plot.ly"
       }
      },
      "text/html": "<div>                            <div id=\"3ed610f9-8228-433b-be35-b1f5b88ef1ec\" class=\"plotly-graph-div\" style=\"height:800px; width:1200px;\"></div>            <script type=\"text/javascript\">                require([\"plotly\"], function(Plotly) {                    window.PLOTLYENV=window.PLOTLYENV || {};                                    if (document.getElementById(\"3ed610f9-8228-433b-be35-b1f5b88ef1ec\")) {                    Plotly.newPlot(                        \"3ed610f9-8228-433b-be35-b1f5b88ef1ec\",                        [{\"hovertemplate\":\"Colocate=act\\u003cbr\\u003eLabel=%{x}\\u003cbr\\u003eScore Normalized=%{y}\\u003cextra\\u003e\\u003c\\u002fextra\\u003e\",\"legendgroup\":\"act\",\"line\":{\"color\":\"#636efa\",\"dash\":\"solid\"},\"marker\":{\"symbol\":\"circle\"},\"mode\":\"lines\",\"name\":\"act\",\"orientation\":\"v\",\"showlegend\":true,\"x\":[\"1980 - 1985\",\"1986 - 1990\",\"1991 - 1995\",\"1996 - 2000\",\"2001 - 2005\",\"2006 - 2010\",\"2011 - 2015\",\"2016 - 2020\"],\"xaxis\":\"x\",\"y\":[0.0014871915586482,0.0016827070958588,0.0019787361007111,0.0014845640703428,0.0009763959092026,0.0012299787317745,0.0017426441662959,0.0018092407884825],\"yaxis\":\"y\",\"type\":\"scatter\"},{\"hovertemplate\":\"Colocate=counter\\u003cbr\\u003eLabel=%{x}\\u003cbr\\u003eScore Normalized=%{y}\\u003cextra\\u003e\\u003c\\u002fextra\\u003e\",\"legendgroup\":\"counter\",\"line\":{\"color\":\"#EF553B\",\"dash\":\"solid\"},\"marker\":{\"symbol\":\"circle\"},\"mode\":\"lines\",\"name\":\"counter\",\"orientation\":\"v\",\"showlegend\":true,\"x\":[\"1980 - 1985\",\"1986 - 1990\",\"1991 - 1995\",\"1996 - 2000\",\"2001 - 2005\",\"2006 - 2010\",\"2011 - 2015\",\"2016 - 2020\"],\"xaxis\":\"x\",\"y\":[0.0036028170517477,0.0052206469061526,0.0062441606438482,0.0118519200430445,0.009318007825287,0.0067792675287756,0.0054970518208714,0.0045931235255636],\"yaxis\":\"y\",\"type\":\"scatter\"},{\"hovertemplate\":\"Colocate=coverage\\u003cbr\\u003eLabel=%{x}\\u003cbr\\u003eScore Normalized=%{y}\\u003cextra\\u003e\\u003c\\u002fextra\\u003e\",\"legendgroup\":\"coverage\",\"line\":{\"color\":\"#00cc96\",\"dash\":\"solid\"},\"marker\":{\"symbol\":\"circle\"},\"mode\":\"lines\",\"name\":\"coverage\",\"orientation\":\"v\",\"showlegend\":true,\"x\":[\"1980 - 1985\",\"1986 - 1990\",\"1991 - 1995\",\"1996 - 2000\",\"2001 - 2005\",\"2006 - 2010\",\"2011 - 2015\",\"2016 - 2020\"],\"xaxis\":\"x\",\"y\":[2.7279968782347076e-05,1.2195908296535736e-05,0.0003888218881627,0.0002047867729746,0.001442533552368,0.000263189973903,0.0001905330867131,4.9626419976939255e-05],\"yaxis\":\"y\",\"type\":\"scatter\"},{\"hovertemplate\":\"Colocate=domestic\\u003cbr\\u003eLabel=%{x}\\u003cbr\\u003eScore Normalized=%{y}\\u003cextra\\u003e\\u003c\\u002fextra\\u003e\",\"legendgroup\":\"domestic\",\"line\":{\"color\":\"#ab63fa\",\"dash\":\"solid\"},\"marker\":{\"symbol\":\"circle\"},\"mode\":\"lines\",\"name\":\"domestic\",\"orientation\":\"v\",\"showlegend\":true,\"x\":[\"1980 - 1985\",\"1986 - 1990\",\"1991 - 1995\",\"1996 - 2000\",\"2001 - 2005\",\"2006 - 2010\",\"2011 - 2015\",\"2016 - 2020\"],\"xaxis\":\"x\",\"y\":[0.0001226358455497,0.0001455921777898,0.0007849840369875,0.0021057589768159,0.0004241021111604,0.0008988729452068,0.0017107227766264,0.0050654580578493],\"yaxis\":\"y\",\"type\":\"scatter\"},{\"hovertemplate\":\"Colocate=international\\u003cbr\\u003eLabel=%{x}\\u003cbr\\u003eScore Normalized=%{y}\\u003cextra\\u003e\\u003c\\u002fextra\\u003e\",\"legendgroup\":\"international\",\"line\":{\"color\":\"#FFA15A\",\"dash\":\"solid\"},\"marker\":{\"symbol\":\"circle\"},\"mode\":\"lines\",\"name\":\"international\",\"orientation\":\"v\",\"showlegend\":true,\"x\":[\"1980 - 1985\",\"1986 - 1990\",\"1991 - 1995\",\"1996 - 2000\",\"2001 - 2005\",\"2006 - 2010\",\"2011 - 2015\",\"2016 - 2020\"],\"xaxis\":\"x\",\"y\":[0.0039642241093843,0.0028509350789521,0.0018077819634832,0.0020495081238828,0.0008459106918085,0.0007541523838146,0.00078595613028,0.0011686593004037],\"yaxis\":\"y\",\"type\":\"scatter\"},{\"hovertemplate\":\"Colocate=renounce\\u003cbr\\u003eLabel=%{x}\\u003cbr\\u003eScore Normalized=%{y}\\u003cextra\\u003e\\u003c\\u002fextra\\u003e\",\"legendgroup\":\"renounce\",\"line\":{\"color\":\"#19d3f3\",\"dash\":\"solid\"},\"marker\":{\"symbol\":\"circle\"},\"mode\":\"lines\",\"name\":\"renounce\",\"orientation\":\"v\",\"showlegend\":true,\"x\":[\"1980 - 1985\",\"1986 - 1990\",\"1991 - 1995\",\"1996 - 2000\",\"2001 - 2005\",\"2006 - 2010\",\"2011 - 2015\",\"2016 - 2020\"],\"xaxis\":\"x\",\"y\":[0.0001487903144965,0.0024241158082121,0.0007823972762199,4.8041726951664504e-05,3.1903403945922416e-05,0.0001095307907581,1.6269927089718603e-05,1.165357213289286e-05],\"yaxis\":\"y\",\"type\":\"scatter\"},{\"hovertemplate\":\"Colocate=support\\u003cbr\\u003eLabel=%{x}\\u003cbr\\u003eScore Normalized=%{y}\\u003cextra\\u003e\\u003c\\u002fextra\\u003e\",\"legendgroup\":\"support\",\"line\":{\"color\":\"#FF6692\",\"dash\":\"solid\"},\"marker\":{\"symbol\":\"circle\"},\"mode\":\"lines\",\"name\":\"support\",\"orientation\":\"v\",\"showlegend\":true,\"x\":[\"1980 - 1985\",\"1986 - 1990\",\"1991 - 1995\",\"1996 - 2000\",\"2001 - 2005\",\"2006 - 2010\",\"2011 - 2015\",\"2016 - 2020\"],\"xaxis\":\"x\",\"y\":[0.0014685167403093,0.0033663724882172,0.0032499294691293,0.0030667297715861,0.00073381911243,0.0014680070637071,0.0012817175519052,0.0019150805259575],\"yaxis\":\"y\",\"type\":\"scatter\"},{\"hovertemplate\":\"Colocate=suspect\\u003cbr\\u003eLabel=%{x}\\u003cbr\\u003eScore Normalized=%{y}\\u003cextra\\u003e\\u003c\\u002fextra\\u003e\",\"legendgroup\":\"suspect\",\"line\":{\"color\":\"#B6E880\",\"dash\":\"solid\"},\"marker\":{\"symbol\":\"circle\"},\"mode\":\"lines\",\"name\":\"suspect\",\"orientation\":\"v\",\"showlegend\":true,\"x\":[\"1980 - 1985\",\"1986 - 1990\",\"1991 - 1995\",\"1996 - 2000\",\"2001 - 2005\",\"2006 - 2010\",\"2011 - 2015\",\"2016 - 2020\"],\"xaxis\":\"x\",\"y\":[6.837498048200675e-07,7.864777972195377e-07,9.93490039252596e-05,2.933828788047624e-05,0.0004187693274396,0.0024707816596224,0.0011107080531185,0.0005071856361922],\"yaxis\":\"y\",\"type\":\"scatter\"},{\"hovertemplate\":\"Colocate=urban\\u003cbr\\u003eLabel=%{x}\\u003cbr\\u003eScore Normalized=%{y}\\u003cextra\\u003e\\u003c\\u002fextra\\u003e\",\"legendgroup\":\"urban\",\"line\":{\"color\":\"#FF97FF\",\"dash\":\"solid\"},\"marker\":{\"symbol\":\"circle\"},\"mode\":\"lines\",\"name\":\"urban\",\"orientation\":\"v\",\"showlegend\":true,\"x\":[\"1980 - 1985\",\"1986 - 1990\",\"1991 - 1995\",\"1996 - 2000\",\"2001 - 2005\",\"2006 - 2010\",\"2011 - 2015\",\"2016 - 2020\"],\"xaxis\":\"x\",\"y\":[0.0002205827537068,5.30997884838079e-05,0.0005930872570968,1.9501359492384915e-05,3.0991680464587224e-06,3.662253815193098e-06,3.0694310471622134e-06,1.3245895424791451e-06],\"yaxis\":\"y\",\"type\":\"scatter\"},{\"hovertemplate\":\"Colocate=war\\u003cbr\\u003eLabel=%{x}\\u003cbr\\u003eScore Normalized=%{y}\\u003cextra\\u003e\\u003c\\u002fextra\\u003e\",\"legendgroup\":\"war\",\"line\":{\"color\":\"#FECB52\",\"dash\":\"solid\"},\"marker\":{\"symbol\":\"circle\"},\"mode\":\"lines\",\"name\":\"war\",\"orientation\":\"v\",\"showlegend\":true,\"x\":[\"1980 - 1985\",\"1986 - 1990\",\"1991 - 1995\",\"1996 - 2000\",\"2001 - 2005\",\"2006 - 2010\",\"2011 - 2015\",\"2016 - 2020\"],\"xaxis\":\"x\",\"y\":[3.3465116727013233e-05,0.000134452260019,6.953942240780231e-05,0.0003361361655017,0.0049150273105505,0.0016987701086886,0.0008045755582307,0.000482876597947],\"yaxis\":\"y\",\"type\":\"scatter\"},{\"hovertemplate\":\"Colocate=insurance\\u003cbr\\u003eLabel=%{x}\\u003cbr\\u003eScore Normalized=%{y}\\u003cextra\\u003e\\u003c\\u002fextra\\u003e\",\"legendgroup\":\"insurance\",\"line\":{\"color\":\"#636efa\",\"dash\":\"solid\"},\"marker\":{\"symbol\":\"circle\"},\"mode\":\"lines\",\"name\":\"insurance\",\"orientation\":\"v\",\"showlegend\":true,\"x\":[\"1991 - 1995\",\"1996 - 2000\",\"2001 - 2005\",\"2006 - 2010\",\"2011 - 2015\",\"2016 - 2020\"],\"xaxis\":\"x\",\"y\":[4.012079928085056e-05,0.0001643932189618,0.0017824535516759,0.0010465478386453,0.0006247755539145,3.467425366211048e-05],\"yaxis\":\"y\",\"type\":\"scatter\"},{\"hovertemplate\":\"Colocate=legislation\\u003cbr\\u003eLabel=%{x}\\u003cbr\\u003eScore Normalized=%{y}\\u003cextra\\u003e\\u003c\\u002fextra\\u003e\",\"legendgroup\":\"legislation\",\"line\":{\"color\":\"#EF553B\",\"dash\":\"solid\"},\"marker\":{\"symbol\":\"circle\"},\"mode\":\"lines\",\"name\":\"legislation\",\"orientation\":\"v\",\"showlegend\":true,\"x\":[\"1991 - 1995\",\"1996 - 2000\",\"2001 - 2005\",\"2006 - 2010\",\"2011 - 2015\",\"2016 - 2020\"],\"xaxis\":\"x\",\"y\":[0.0004440818565375,0.000375427777134,0.0001114409128596,1.1919535481214692e-05,5.1634038016158845e-05,1.0938437017997234e-05],\"yaxis\":\"y\",\"type\":\"scatter\"},{\"hovertemplate\":\"Colocate=risk\\u003cbr\\u003eLabel=%{x}\\u003cbr\\u003eScore Normalized=%{y}\\u003cextra\\u003e\\u003c\\u002fextra\\u003e\",\"legendgroup\":\"risk\",\"line\":{\"color\":\"#00cc96\",\"dash\":\"solid\"},\"marker\":{\"symbol\":\"circle\"},\"mode\":\"lines\",\"name\":\"risk\",\"orientation\":\"v\",\"showlegend\":true,\"x\":[\"1991 - 1995\",\"1996 - 2000\",\"2001 - 2005\",\"2006 - 2010\",\"2011 - 2015\",\"2016 - 2020\"],\"xaxis\":\"x\",\"y\":[4.7439058914220864e-05,1.8636418825544056e-05,0.0008538365330313,0.0009374551501647,0.0003525854357958,3.0019463031373895e-05],\"yaxis\":\"y\",\"type\":\"scatter\"}],                        {\"template\":{\"data\":{\"barpolar\":[{\"marker\":{\"line\":{\"color\":\"white\",\"width\":0.5},\"pattern\":{\"fillmode\":\"overlay\",\"size\":10,\"solidity\":0.2}},\"type\":\"barpolar\"}],\"bar\":[{\"error_x\":{\"color\":\"#2a3f5f\"},\"error_y\":{\"color\":\"#2a3f5f\"},\"marker\":{\"line\":{\"color\":\"white\",\"width\":0.5},\"pattern\":{\"fillmode\":\"overlay\",\"size\":10,\"solidity\":0.2}},\"type\":\"bar\"}],\"carpet\":[{\"aaxis\":{\"endlinecolor\":\"#2a3f5f\",\"gridcolor\":\"#C8D4E3\",\"linecolor\":\"#C8D4E3\",\"minorgridcolor\":\"#C8D4E3\",\"startlinecolor\":\"#2a3f5f\"},\"baxis\":{\"endlinecolor\":\"#2a3f5f\",\"gridcolor\":\"#C8D4E3\",\"linecolor\":\"#C8D4E3\",\"minorgridcolor\":\"#C8D4E3\",\"startlinecolor\":\"#2a3f5f\"},\"type\":\"carpet\"}],\"choropleth\":[{\"colorbar\":{\"outlinewidth\":0,\"ticks\":\"\"},\"type\":\"choropleth\"}],\"contourcarpet\":[{\"colorbar\":{\"outlinewidth\":0,\"ticks\":\"\"},\"type\":\"contourcarpet\"}],\"contour\":[{\"colorbar\":{\"outlinewidth\":0,\"ticks\":\"\"},\"colorscale\":[[0.0,\"#0d0887\"],[0.1111111111111111,\"#46039f\"],[0.2222222222222222,\"#7201a8\"],[0.3333333333333333,\"#9c179e\"],[0.4444444444444444,\"#bd3786\"],[0.5555555555555556,\"#d8576b\"],[0.6666666666666666,\"#ed7953\"],[0.7777777777777778,\"#fb9f3a\"],[0.8888888888888888,\"#fdca26\"],[1.0,\"#f0f921\"]],\"type\":\"contour\"}],\"heatmapgl\":[{\"colorbar\":{\"outlinewidth\":0,\"ticks\":\"\"},\"colorscale\":[[0.0,\"#0d0887\"],[0.1111111111111111,\"#46039f\"],[0.2222222222222222,\"#7201a8\"],[0.3333333333333333,\"#9c179e\"],[0.4444444444444444,\"#bd3786\"],[0.5555555555555556,\"#d8576b\"],[0.6666666666666666,\"#ed7953\"],[0.7777777777777778,\"#fb9f3a\"],[0.8888888888888888,\"#fdca26\"],[1.0,\"#f0f921\"]],\"type\":\"heatmapgl\"}],\"heatmap\":[{\"colorbar\":{\"outlinewidth\":0,\"ticks\":\"\"},\"colorscale\":[[0.0,\"#0d0887\"],[0.1111111111111111,\"#46039f\"],[0.2222222222222222,\"#7201a8\"],[0.3333333333333333,\"#9c179e\"],[0.4444444444444444,\"#bd3786\"],[0.5555555555555556,\"#d8576b\"],[0.6666666666666666,\"#ed7953\"],[0.7777777777777778,\"#fb9f3a\"],[0.8888888888888888,\"#fdca26\"],[1.0,\"#f0f921\"]],\"type\":\"heatmap\"}],\"histogram2dcontour\":[{\"colorbar\":{\"outlinewidth\":0,\"ticks\":\"\"},\"colorscale\":[[0.0,\"#0d0887\"],[0.1111111111111111,\"#46039f\"],[0.2222222222222222,\"#7201a8\"],[0.3333333333333333,\"#9c179e\"],[0.4444444444444444,\"#bd3786\"],[0.5555555555555556,\"#d8576b\"],[0.6666666666666666,\"#ed7953\"],[0.7777777777777778,\"#fb9f3a\"],[0.8888888888888888,\"#fdca26\"],[1.0,\"#f0f921\"]],\"type\":\"histogram2dcontour\"}],\"histogram2d\":[{\"colorbar\":{\"outlinewidth\":0,\"ticks\":\"\"},\"colorscale\":[[0.0,\"#0d0887\"],[0.1111111111111111,\"#46039f\"],[0.2222222222222222,\"#7201a8\"],[0.3333333333333333,\"#9c179e\"],[0.4444444444444444,\"#bd3786\"],[0.5555555555555556,\"#d8576b\"],[0.6666666666666666,\"#ed7953\"],[0.7777777777777778,\"#fb9f3a\"],[0.8888888888888888,\"#fdca26\"],[1.0,\"#f0f921\"]],\"type\":\"histogram2d\"}],\"histogram\":[{\"marker\":{\"pattern\":{\"fillmode\":\"overlay\",\"size\":10,\"solidity\":0.2}},\"type\":\"histogram\"}],\"mesh3d\":[{\"colorbar\":{\"outlinewidth\":0,\"ticks\":\"\"},\"type\":\"mesh3d\"}],\"parcoords\":[{\"line\":{\"colorbar\":{\"outlinewidth\":0,\"ticks\":\"\"}},\"type\":\"parcoords\"}],\"pie\":[{\"automargin\":true,\"type\":\"pie\"}],\"scatter3d\":[{\"line\":{\"colorbar\":{\"outlinewidth\":0,\"ticks\":\"\"}},\"marker\":{\"colorbar\":{\"outlinewidth\":0,\"ticks\":\"\"}},\"type\":\"scatter3d\"}],\"scattercarpet\":[{\"marker\":{\"colorbar\":{\"outlinewidth\":0,\"ticks\":\"\"}},\"type\":\"scattercarpet\"}],\"scattergeo\":[{\"marker\":{\"colorbar\":{\"outlinewidth\":0,\"ticks\":\"\"}},\"type\":\"scattergeo\"}],\"scattergl\":[{\"marker\":{\"colorbar\":{\"outlinewidth\":0,\"ticks\":\"\"}},\"type\":\"scattergl\"}],\"scattermapbox\":[{\"marker\":{\"colorbar\":{\"outlinewidth\":0,\"ticks\":\"\"}},\"type\":\"scattermapbox\"}],\"scatterpolargl\":[{\"marker\":{\"colorbar\":{\"outlinewidth\":0,\"ticks\":\"\"}},\"type\":\"scatterpolargl\"}],\"scatterpolar\":[{\"marker\":{\"colorbar\":{\"outlinewidth\":0,\"ticks\":\"\"}},\"type\":\"scatterpolar\"}],\"scatter\":[{\"fillpattern\":{\"fillmode\":\"overlay\",\"size\":10,\"solidity\":0.2},\"type\":\"scatter\"}],\"scatterternary\":[{\"marker\":{\"colorbar\":{\"outlinewidth\":0,\"ticks\":\"\"}},\"type\":\"scatterternary\"}],\"surface\":[{\"colorbar\":{\"outlinewidth\":0,\"ticks\":\"\"},\"colorscale\":[[0.0,\"#0d0887\"],[0.1111111111111111,\"#46039f\"],[0.2222222222222222,\"#7201a8\"],[0.3333333333333333,\"#9c179e\"],[0.4444444444444444,\"#bd3786\"],[0.5555555555555556,\"#d8576b\"],[0.6666666666666666,\"#ed7953\"],[0.7777777777777778,\"#fb9f3a\"],[0.8888888888888888,\"#fdca26\"],[1.0,\"#f0f921\"]],\"type\":\"surface\"}],\"table\":[{\"cells\":{\"fill\":{\"color\":\"#EBF0F8\"},\"line\":{\"color\":\"white\"}},\"header\":{\"fill\":{\"color\":\"#C8D4E3\"},\"line\":{\"color\":\"white\"}},\"type\":\"table\"}]},\"layout\":{\"annotationdefaults\":{\"arrowcolor\":\"#2a3f5f\",\"arrowhead\":0,\"arrowwidth\":1},\"autotypenumbers\":\"strict\",\"coloraxis\":{\"colorbar\":{\"outlinewidth\":0,\"ticks\":\"\"}},\"colorscale\":{\"diverging\":[[0,\"#8e0152\"],[0.1,\"#c51b7d\"],[0.2,\"#de77ae\"],[0.3,\"#f1b6da\"],[0.4,\"#fde0ef\"],[0.5,\"#f7f7f7\"],[0.6,\"#e6f5d0\"],[0.7,\"#b8e186\"],[0.8,\"#7fbc41\"],[0.9,\"#4d9221\"],[1,\"#276419\"]],\"sequential\":[[0.0,\"#0d0887\"],[0.1111111111111111,\"#46039f\"],[0.2222222222222222,\"#7201a8\"],[0.3333333333333333,\"#9c179e\"],[0.4444444444444444,\"#bd3786\"],[0.5555555555555556,\"#d8576b\"],[0.6666666666666666,\"#ed7953\"],[0.7777777777777778,\"#fb9f3a\"],[0.8888888888888888,\"#fdca26\"],[1.0,\"#f0f921\"]],\"sequentialminus\":[[0.0,\"#0d0887\"],[0.1111111111111111,\"#46039f\"],[0.2222222222222222,\"#7201a8\"],[0.3333333333333333,\"#9c179e\"],[0.4444444444444444,\"#bd3786\"],[0.5555555555555556,\"#d8576b\"],[0.6666666666666666,\"#ed7953\"],[0.7777777777777778,\"#fb9f3a\"],[0.8888888888888888,\"#fdca26\"],[1.0,\"#f0f921\"]]},\"colorway\":[\"#636efa\",\"#EF553B\",\"#00cc96\",\"#ab63fa\",\"#FFA15A\",\"#19d3f3\",\"#FF6692\",\"#B6E880\",\"#FF97FF\",\"#FECB52\"],\"font\":{\"color\":\"#2a3f5f\"},\"geo\":{\"bgcolor\":\"white\",\"lakecolor\":\"white\",\"landcolor\":\"white\",\"showlakes\":true,\"showland\":true,\"subunitcolor\":\"#C8D4E3\"},\"hoverlabel\":{\"align\":\"left\"},\"hovermode\":\"closest\",\"mapbox\":{\"style\":\"light\"},\"paper_bgcolor\":\"white\",\"plot_bgcolor\":\"white\",\"polar\":{\"angularaxis\":{\"gridcolor\":\"#EBF0F8\",\"linecolor\":\"#EBF0F8\",\"ticks\":\"\"},\"bgcolor\":\"white\",\"radialaxis\":{\"gridcolor\":\"#EBF0F8\",\"linecolor\":\"#EBF0F8\",\"ticks\":\"\"}},\"scene\":{\"xaxis\":{\"backgroundcolor\":\"white\",\"gridcolor\":\"#DFE8F3\",\"gridwidth\":2,\"linecolor\":\"#EBF0F8\",\"showbackground\":true,\"ticks\":\"\",\"zerolinecolor\":\"#EBF0F8\"},\"yaxis\":{\"backgroundcolor\":\"white\",\"gridcolor\":\"#DFE8F3\",\"gridwidth\":2,\"linecolor\":\"#EBF0F8\",\"showbackground\":true,\"ticks\":\"\",\"zerolinecolor\":\"#EBF0F8\"},\"zaxis\":{\"backgroundcolor\":\"white\",\"gridcolor\":\"#DFE8F3\",\"gridwidth\":2,\"linecolor\":\"#EBF0F8\",\"showbackground\":true,\"ticks\":\"\",\"zerolinecolor\":\"#EBF0F8\"}},\"shapedefaults\":{\"line\":{\"color\":\"#2a3f5f\"}},\"ternary\":{\"aaxis\":{\"gridcolor\":\"#DFE8F3\",\"linecolor\":\"#A2B1C6\",\"ticks\":\"\"},\"baxis\":{\"gridcolor\":\"#DFE8F3\",\"linecolor\":\"#A2B1C6\",\"ticks\":\"\"},\"bgcolor\":\"white\",\"caxis\":{\"gridcolor\":\"#DFE8F3\",\"linecolor\":\"#A2B1C6\",\"ticks\":\"\"}},\"title\":{\"x\":0.05},\"xaxis\":{\"automargin\":true,\"gridcolor\":\"#EBF0F8\",\"linecolor\":\"#EBF0F8\",\"ticks\":\"\",\"title\":{\"standoff\":15},\"zerolinecolor\":\"#EBF0F8\",\"zerolinewidth\":2},\"yaxis\":{\"automargin\":true,\"gridcolor\":\"#EBF0F8\",\"linecolor\":\"#EBF0F8\",\"ticks\":\"\",\"title\":{\"standoff\":15},\"zerolinecolor\":\"#EBF0F8\",\"zerolinewidth\":2}}},\"xaxis\":{\"anchor\":\"y\",\"domain\":[0.0,1.0],\"title\":{\"text\":\"Label\"}},\"yaxis\":{\"anchor\":\"x\",\"domain\":[0.0,1.0],\"title\":{\"text\":\"Score Normalized\"}},\"legend\":{\"title\":{\"text\":\"Colocate\"},\"tracegroupgap\":0},\"title\":{\"text\":\"Score change of colocates across the years\"},\"autosize\":false,\"width\":1200,\"height\":800},                        {\"responsive\": true}                    ).then(function(){\n                            \nvar gd = document.getElementById('3ed610f9-8228-433b-be35-b1f5b88ef1ec');\nvar x = new MutationObserver(function (mutations, observer) {{\n        var display = window.getComputedStyle(gd).display;\n        if (!display || display === 'none') {{\n            console.log([gd, 'removed!']);\n            Plotly.purge(gd);\n            observer.disconnect();\n        }}\n}});\n\n// Listen for the removal of the full notebook cells\nvar notebookContainer = gd.closest('#notebook-container');\nif (notebookContainer) {{\n    x.observe(notebookContainer, {childList: true});\n}}\n\n// Listen for the clearing of the current output cell\nvar outputEl = gd.closest('.output');\nif (outputEl) {{\n    x.observe(outputEl, {childList: true});\n}}\n\n                        })                };                });            </script>        </div>"
     },
     "metadata": {},
     "output_type": "display_data"
    }
   ],
   "source": [
    "import numpy as np\n",
    "\n",
    "\n",
    "df_output_filtered = df_output.groupby('colocate').filter(lambda x:  np.std(x.score_normalized)  >= 0.00015)\n",
    "\n",
    "print(df_output_filtered[:10])\n",
    "\n",
    "import plotly.express as px\n",
    "\n",
    "fig = px.line(df_output_filtered, x='label', y='score_normalized', color='colocate', \n",
    "              title='Score change of colocates across the years', \n",
    "              labels={'label': 'Label', 'score_normalized': 'Score Normalized', 'colocate': 'Colocate'})\n",
    "\n",
    "fig.update_layout(autosize=False, width=1200, height=800, template='plotly_white')\n",
    "fig.write_image('output/colocates/colocates_by_years_stem.png')\n",
    "fig.show()"
   ],
   "metadata": {
    "collapsed": false,
    "ExecuteTime": {
     "end_time": "2024-05-23T13:57:10.322363Z",
     "start_time": "2024-05-23T13:57:09.918287Z"
    }
   },
   "id": "57e148b4dbb38aae",
   "execution_count": 50
  },
  {
   "cell_type": "code",
   "outputs": [
    {
     "data": {
      "text/plain": "        colocate label  score_normalized      score\n0        abandon   nyt      2.231927e-06   5.328839\n1           abet   nyt      2.612988e-05  62.386427\n2         abroad   nyt      1.950512e-05  46.569459\n3        absence   nyt      6.555202e-07   1.565088\n4            abu   nyt      2.172497e-07   0.518695\n...          ...   ...               ...        ...\n1796         yet   nyt      5.149965e-06  12.295803\n1797        york   nyt      2.175273e-05  51.935744\n1798       young   nyt      2.191058e-06   5.231263\n1799  yugoslavia   nyt      1.493042e-06   3.564713\n1800     zealand   nyt      7.924024e-07   1.891901\n\n[1801 rows x 4 columns]",
      "text/html": "<div>\n<style scoped>\n    .dataframe tbody tr th:only-of-type {\n        vertical-align: middle;\n    }\n\n    .dataframe tbody tr th {\n        vertical-align: top;\n    }\n\n    .dataframe thead th {\n        text-align: right;\n    }\n</style>\n<table border=\"1\" class=\"dataframe\">\n  <thead>\n    <tr style=\"text-align: right;\">\n      <th></th>\n      <th>colocate</th>\n      <th>label</th>\n      <th>score_normalized</th>\n      <th>score</th>\n    </tr>\n  </thead>\n  <tbody>\n    <tr>\n      <th>0</th>\n      <td>abandon</td>\n      <td>nyt</td>\n      <td>2.231927e-06</td>\n      <td>5.328839</td>\n    </tr>\n    <tr>\n      <th>1</th>\n      <td>abet</td>\n      <td>nyt</td>\n      <td>2.612988e-05</td>\n      <td>62.386427</td>\n    </tr>\n    <tr>\n      <th>2</th>\n      <td>abroad</td>\n      <td>nyt</td>\n      <td>1.950512e-05</td>\n      <td>46.569459</td>\n    </tr>\n    <tr>\n      <th>3</th>\n      <td>absence</td>\n      <td>nyt</td>\n      <td>6.555202e-07</td>\n      <td>1.565088</td>\n    </tr>\n    <tr>\n      <th>4</th>\n      <td>abu</td>\n      <td>nyt</td>\n      <td>2.172497e-07</td>\n      <td>0.518695</td>\n    </tr>\n    <tr>\n      <th>...</th>\n      <td>...</td>\n      <td>...</td>\n      <td>...</td>\n      <td>...</td>\n    </tr>\n    <tr>\n      <th>1796</th>\n      <td>yet</td>\n      <td>nyt</td>\n      <td>5.149965e-06</td>\n      <td>12.295803</td>\n    </tr>\n    <tr>\n      <th>1797</th>\n      <td>york</td>\n      <td>nyt</td>\n      <td>2.175273e-05</td>\n      <td>51.935744</td>\n    </tr>\n    <tr>\n      <th>1798</th>\n      <td>young</td>\n      <td>nyt</td>\n      <td>2.191058e-06</td>\n      <td>5.231263</td>\n    </tr>\n    <tr>\n      <th>1799</th>\n      <td>yugoslavia</td>\n      <td>nyt</td>\n      <td>1.493042e-06</td>\n      <td>3.564713</td>\n    </tr>\n    <tr>\n      <th>1800</th>\n      <td>zealand</td>\n      <td>nyt</td>\n      <td>7.924024e-07</td>\n      <td>1.891901</td>\n    </tr>\n  </tbody>\n</table>\n<p>1801 rows × 4 columns</p>\n</div>"
     },
     "execution_count": 51,
     "metadata": {},
     "output_type": "execute_result"
    }
   ],
   "source": [
    "df5 = df.loc[df['publisher'] == 'the new york times'] \n",
    "res5 = get_colocates(df5['cleaned_text_stem'], 'nyt')\n",
    "res5\n"
   ],
   "metadata": {
    "collapsed": false,
    "ExecuteTime": {
     "end_time": "2024-05-23T13:57:24.037625Z",
     "start_time": "2024-05-23T13:57:16.386955Z"
    }
   },
   "id": "79625afaba3acacf",
   "execution_count": 51
  },
  {
   "cell_type": "code",
   "outputs": [
    {
     "data": {
      "text/plain": "           colocate label  score_normalized       score\n0         according   ppg          0.000019    5.972492\n1               act   ppg          0.001505  463.576735\n2    administration   ppg          0.000007    2.161845\n3           adviser   ppg          0.000011    3.367004\n4       afghanistan   ppg          0.000003    0.977181\n..              ...   ...               ...         ...\n367           worry   ppg          0.000042   12.880542\n368           would   ppg          0.000011    3.475151\n369           years   ppg          0.000004    1.106956\n370       yesterday   ppg          0.000005    1.499528\n371             yet   ppg          0.000022    6.896935\n\n[372 rows x 4 columns]",
      "text/html": "<div>\n<style scoped>\n    .dataframe tbody tr th:only-of-type {\n        vertical-align: middle;\n    }\n\n    .dataframe tbody tr th {\n        vertical-align: top;\n    }\n\n    .dataframe thead th {\n        text-align: right;\n    }\n</style>\n<table border=\"1\" class=\"dataframe\">\n  <thead>\n    <tr style=\"text-align: right;\">\n      <th></th>\n      <th>colocate</th>\n      <th>label</th>\n      <th>score_normalized</th>\n      <th>score</th>\n    </tr>\n  </thead>\n  <tbody>\n    <tr>\n      <th>0</th>\n      <td>according</td>\n      <td>ppg</td>\n      <td>0.000019</td>\n      <td>5.972492</td>\n    </tr>\n    <tr>\n      <th>1</th>\n      <td>act</td>\n      <td>ppg</td>\n      <td>0.001505</td>\n      <td>463.576735</td>\n    </tr>\n    <tr>\n      <th>2</th>\n      <td>administration</td>\n      <td>ppg</td>\n      <td>0.000007</td>\n      <td>2.161845</td>\n    </tr>\n    <tr>\n      <th>3</th>\n      <td>adviser</td>\n      <td>ppg</td>\n      <td>0.000011</td>\n      <td>3.367004</td>\n    </tr>\n    <tr>\n      <th>4</th>\n      <td>afghanistan</td>\n      <td>ppg</td>\n      <td>0.000003</td>\n      <td>0.977181</td>\n    </tr>\n    <tr>\n      <th>...</th>\n      <td>...</td>\n      <td>...</td>\n      <td>...</td>\n      <td>...</td>\n    </tr>\n    <tr>\n      <th>367</th>\n      <td>worry</td>\n      <td>ppg</td>\n      <td>0.000042</td>\n      <td>12.880542</td>\n    </tr>\n    <tr>\n      <th>368</th>\n      <td>would</td>\n      <td>ppg</td>\n      <td>0.000011</td>\n      <td>3.475151</td>\n    </tr>\n    <tr>\n      <th>369</th>\n      <td>years</td>\n      <td>ppg</td>\n      <td>0.000004</td>\n      <td>1.106956</td>\n    </tr>\n    <tr>\n      <th>370</th>\n      <td>yesterday</td>\n      <td>ppg</td>\n      <td>0.000005</td>\n      <td>1.499528</td>\n    </tr>\n    <tr>\n      <th>371</th>\n      <td>yet</td>\n      <td>ppg</td>\n      <td>0.000022</td>\n      <td>6.896935</td>\n    </tr>\n  </tbody>\n</table>\n<p>372 rows × 4 columns</p>\n</div>"
     },
     "execution_count": 52,
     "metadata": {},
     "output_type": "execute_result"
    }
   ],
   "source": [
    "df6 = df.loc[df['publisher'] == 'pittsburgh post-gazette'] \n",
    "res6 = get_colocates(df6['cleaned_text_stem'], 'ppg')\n",
    "res6"
   ],
   "metadata": {
    "collapsed": false,
    "ExecuteTime": {
     "end_time": "2024-05-23T13:57:26.891071Z",
     "start_time": "2024-05-23T13:57:25.971904Z"
    }
   },
   "id": "2b2fdaebad7e163f",
   "execution_count": 52
  },
  {
   "cell_type": "code",
   "outputs": [],
   "source": [
    "\n",
    "df_output_by_media = pd.concat([res5, res6])\n",
    "df_output_by_media.to_csv('output/colocates/colocates_by_media_stem.csv', index=False)\n"
   ],
   "metadata": {
    "collapsed": false,
    "ExecuteTime": {
     "end_time": "2024-05-23T13:57:29.963861Z",
     "start_time": "2024-05-23T13:57:29.953221Z"
    }
   },
   "id": "c245b6560aa11f54",
   "execution_count": 53
  },
  {
   "cell_type": "code",
   "outputs": [
    {
     "data": {
      "application/vnd.plotly.v1+json": {
       "data": [
        {
         "name": "NYT",
         "x": [
          "counter",
          "domestic",
          "eco",
          "finance",
          "institute",
          "international",
          "legislation",
          "renounce",
          "research",
          "support",
          "suspect",
          "war"
         ],
         "y": [
          0.003661120384846942,
          0.0018087533577149993,
          1.1110950186397753E-5,
          2.8377226956598423E-4,
          4.696577939591755E-7,
          0.001771954580507545,
          1.0817417738282296E-5,
          2.8141604353604054E-4,
          5.0156253702205686E-5,
          0.0020373735240695958,
          0.0016537258981892632,
          4.698311968434061E-4
         ],
         "type": "bar"
        },
        {
         "name": "PPG",
         "x": [
          "counter",
          "domestic",
          "eco",
          "finance",
          "institute",
          "international",
          "legislation",
          "renounce",
          "research",
          "support",
          "suspect",
          "war"
         ],
         "y": [
          0.009954041279562098,
          0.0014516743672590836,
          3.050544443716074E-4,
          4.677100503878529E-5,
          2.1746949554523915E-4,
          0.0016111893766161708,
          2.3023238438229653E-4,
          1.0093795801474196E-4,
          2.515522003451938E-4,
          0.001281773094123623,
          8.137207941044773E-4,
          0.0016754502320972934
         ],
         "type": "bar"
        }
       ],
       "layout": {
        "template": {
         "data": {
          "barpolar": [
           {
            "marker": {
             "line": {
              "color": "white",
              "width": 0.5
             },
             "pattern": {
              "fillmode": "overlay",
              "size": 10,
              "solidity": 0.2
             }
            },
            "type": "barpolar"
           }
          ],
          "bar": [
           {
            "error_x": {
             "color": "#2a3f5f"
            },
            "error_y": {
             "color": "#2a3f5f"
            },
            "marker": {
             "line": {
              "color": "white",
              "width": 0.5
             },
             "pattern": {
              "fillmode": "overlay",
              "size": 10,
              "solidity": 0.2
             }
            },
            "type": "bar"
           }
          ],
          "carpet": [
           {
            "aaxis": {
             "endlinecolor": "#2a3f5f",
             "gridcolor": "#C8D4E3",
             "linecolor": "#C8D4E3",
             "minorgridcolor": "#C8D4E3",
             "startlinecolor": "#2a3f5f"
            },
            "baxis": {
             "endlinecolor": "#2a3f5f",
             "gridcolor": "#C8D4E3",
             "linecolor": "#C8D4E3",
             "minorgridcolor": "#C8D4E3",
             "startlinecolor": "#2a3f5f"
            },
            "type": "carpet"
           }
          ],
          "choropleth": [
           {
            "colorbar": {
             "outlinewidth": 0,
             "ticks": ""
            },
            "type": "choropleth"
           }
          ],
          "contourcarpet": [
           {
            "colorbar": {
             "outlinewidth": 0,
             "ticks": ""
            },
            "type": "contourcarpet"
           }
          ],
          "contour": [
           {
            "colorbar": {
             "outlinewidth": 0,
             "ticks": ""
            },
            "colorscale": [
             [
              0.0,
              "#0d0887"
             ],
             [
              0.1111111111111111,
              "#46039f"
             ],
             [
              0.2222222222222222,
              "#7201a8"
             ],
             [
              0.3333333333333333,
              "#9c179e"
             ],
             [
              0.4444444444444444,
              "#bd3786"
             ],
             [
              0.5555555555555556,
              "#d8576b"
             ],
             [
              0.6666666666666666,
              "#ed7953"
             ],
             [
              0.7777777777777778,
              "#fb9f3a"
             ],
             [
              0.8888888888888888,
              "#fdca26"
             ],
             [
              1.0,
              "#f0f921"
             ]
            ],
            "type": "contour"
           }
          ],
          "heatmapgl": [
           {
            "colorbar": {
             "outlinewidth": 0,
             "ticks": ""
            },
            "colorscale": [
             [
              0.0,
              "#0d0887"
             ],
             [
              0.1111111111111111,
              "#46039f"
             ],
             [
              0.2222222222222222,
              "#7201a8"
             ],
             [
              0.3333333333333333,
              "#9c179e"
             ],
             [
              0.4444444444444444,
              "#bd3786"
             ],
             [
              0.5555555555555556,
              "#d8576b"
             ],
             [
              0.6666666666666666,
              "#ed7953"
             ],
             [
              0.7777777777777778,
              "#fb9f3a"
             ],
             [
              0.8888888888888888,
              "#fdca26"
             ],
             [
              1.0,
              "#f0f921"
             ]
            ],
            "type": "heatmapgl"
           }
          ],
          "heatmap": [
           {
            "colorbar": {
             "outlinewidth": 0,
             "ticks": ""
            },
            "colorscale": [
             [
              0.0,
              "#0d0887"
             ],
             [
              0.1111111111111111,
              "#46039f"
             ],
             [
              0.2222222222222222,
              "#7201a8"
             ],
             [
              0.3333333333333333,
              "#9c179e"
             ],
             [
              0.4444444444444444,
              "#bd3786"
             ],
             [
              0.5555555555555556,
              "#d8576b"
             ],
             [
              0.6666666666666666,
              "#ed7953"
             ],
             [
              0.7777777777777778,
              "#fb9f3a"
             ],
             [
              0.8888888888888888,
              "#fdca26"
             ],
             [
              1.0,
              "#f0f921"
             ]
            ],
            "type": "heatmap"
           }
          ],
          "histogram2dcontour": [
           {
            "colorbar": {
             "outlinewidth": 0,
             "ticks": ""
            },
            "colorscale": [
             [
              0.0,
              "#0d0887"
             ],
             [
              0.1111111111111111,
              "#46039f"
             ],
             [
              0.2222222222222222,
              "#7201a8"
             ],
             [
              0.3333333333333333,
              "#9c179e"
             ],
             [
              0.4444444444444444,
              "#bd3786"
             ],
             [
              0.5555555555555556,
              "#d8576b"
             ],
             [
              0.6666666666666666,
              "#ed7953"
             ],
             [
              0.7777777777777778,
              "#fb9f3a"
             ],
             [
              0.8888888888888888,
              "#fdca26"
             ],
             [
              1.0,
              "#f0f921"
             ]
            ],
            "type": "histogram2dcontour"
           }
          ],
          "histogram2d": [
           {
            "colorbar": {
             "outlinewidth": 0,
             "ticks": ""
            },
            "colorscale": [
             [
              0.0,
              "#0d0887"
             ],
             [
              0.1111111111111111,
              "#46039f"
             ],
             [
              0.2222222222222222,
              "#7201a8"
             ],
             [
              0.3333333333333333,
              "#9c179e"
             ],
             [
              0.4444444444444444,
              "#bd3786"
             ],
             [
              0.5555555555555556,
              "#d8576b"
             ],
             [
              0.6666666666666666,
              "#ed7953"
             ],
             [
              0.7777777777777778,
              "#fb9f3a"
             ],
             [
              0.8888888888888888,
              "#fdca26"
             ],
             [
              1.0,
              "#f0f921"
             ]
            ],
            "type": "histogram2d"
           }
          ],
          "histogram": [
           {
            "marker": {
             "pattern": {
              "fillmode": "overlay",
              "size": 10,
              "solidity": 0.2
             }
            },
            "type": "histogram"
           }
          ],
          "mesh3d": [
           {
            "colorbar": {
             "outlinewidth": 0,
             "ticks": ""
            },
            "type": "mesh3d"
           }
          ],
          "parcoords": [
           {
            "line": {
             "colorbar": {
              "outlinewidth": 0,
              "ticks": ""
             }
            },
            "type": "parcoords"
           }
          ],
          "pie": [
           {
            "automargin": true,
            "type": "pie"
           }
          ],
          "scatter3d": [
           {
            "line": {
             "colorbar": {
              "outlinewidth": 0,
              "ticks": ""
             }
            },
            "marker": {
             "colorbar": {
              "outlinewidth": 0,
              "ticks": ""
             }
            },
            "type": "scatter3d"
           }
          ],
          "scattercarpet": [
           {
            "marker": {
             "colorbar": {
              "outlinewidth": 0,
              "ticks": ""
             }
            },
            "type": "scattercarpet"
           }
          ],
          "scattergeo": [
           {
            "marker": {
             "colorbar": {
              "outlinewidth": 0,
              "ticks": ""
             }
            },
            "type": "scattergeo"
           }
          ],
          "scattergl": [
           {
            "marker": {
             "colorbar": {
              "outlinewidth": 0,
              "ticks": ""
             }
            },
            "type": "scattergl"
           }
          ],
          "scattermapbox": [
           {
            "marker": {
             "colorbar": {
              "outlinewidth": 0,
              "ticks": ""
             }
            },
            "type": "scattermapbox"
           }
          ],
          "scatterpolargl": [
           {
            "marker": {
             "colorbar": {
              "outlinewidth": 0,
              "ticks": ""
             }
            },
            "type": "scatterpolargl"
           }
          ],
          "scatterpolar": [
           {
            "marker": {
             "colorbar": {
              "outlinewidth": 0,
              "ticks": ""
             }
            },
            "type": "scatterpolar"
           }
          ],
          "scatter": [
           {
            "fillpattern": {
             "fillmode": "overlay",
             "size": 10,
             "solidity": 0.2
            },
            "type": "scatter"
           }
          ],
          "scatterternary": [
           {
            "marker": {
             "colorbar": {
              "outlinewidth": 0,
              "ticks": ""
             }
            },
            "type": "scatterternary"
           }
          ],
          "surface": [
           {
            "colorbar": {
             "outlinewidth": 0,
             "ticks": ""
            },
            "colorscale": [
             [
              0.0,
              "#0d0887"
             ],
             [
              0.1111111111111111,
              "#46039f"
             ],
             [
              0.2222222222222222,
              "#7201a8"
             ],
             [
              0.3333333333333333,
              "#9c179e"
             ],
             [
              0.4444444444444444,
              "#bd3786"
             ],
             [
              0.5555555555555556,
              "#d8576b"
             ],
             [
              0.6666666666666666,
              "#ed7953"
             ],
             [
              0.7777777777777778,
              "#fb9f3a"
             ],
             [
              0.8888888888888888,
              "#fdca26"
             ],
             [
              1.0,
              "#f0f921"
             ]
            ],
            "type": "surface"
           }
          ],
          "table": [
           {
            "cells": {
             "fill": {
              "color": "#EBF0F8"
             },
             "line": {
              "color": "white"
             }
            },
            "header": {
             "fill": {
              "color": "#C8D4E3"
             },
             "line": {
              "color": "white"
             }
            },
            "type": "table"
           }
          ]
         },
         "layout": {
          "annotationdefaults": {
           "arrowcolor": "#2a3f5f",
           "arrowhead": 0,
           "arrowwidth": 1
          },
          "autotypenumbers": "strict",
          "coloraxis": {
           "colorbar": {
            "outlinewidth": 0,
            "ticks": ""
           }
          },
          "colorscale": {
           "diverging": [
            [
             0,
             "#8e0152"
            ],
            [
             0.1,
             "#c51b7d"
            ],
            [
             0.2,
             "#de77ae"
            ],
            [
             0.3,
             "#f1b6da"
            ],
            [
             0.4,
             "#fde0ef"
            ],
            [
             0.5,
             "#f7f7f7"
            ],
            [
             0.6,
             "#e6f5d0"
            ],
            [
             0.7,
             "#b8e186"
            ],
            [
             0.8,
             "#7fbc41"
            ],
            [
             0.9,
             "#4d9221"
            ],
            [
             1,
             "#276419"
            ]
           ],
           "sequential": [
            [
             0.0,
             "#0d0887"
            ],
            [
             0.1111111111111111,
             "#46039f"
            ],
            [
             0.2222222222222222,
             "#7201a8"
            ],
            [
             0.3333333333333333,
             "#9c179e"
            ],
            [
             0.4444444444444444,
             "#bd3786"
            ],
            [
             0.5555555555555556,
             "#d8576b"
            ],
            [
             0.6666666666666666,
             "#ed7953"
            ],
            [
             0.7777777777777778,
             "#fb9f3a"
            ],
            [
             0.8888888888888888,
             "#fdca26"
            ],
            [
             1.0,
             "#f0f921"
            ]
           ],
           "sequentialminus": [
            [
             0.0,
             "#0d0887"
            ],
            [
             0.1111111111111111,
             "#46039f"
            ],
            [
             0.2222222222222222,
             "#7201a8"
            ],
            [
             0.3333333333333333,
             "#9c179e"
            ],
            [
             0.4444444444444444,
             "#bd3786"
            ],
            [
             0.5555555555555556,
             "#d8576b"
            ],
            [
             0.6666666666666666,
             "#ed7953"
            ],
            [
             0.7777777777777778,
             "#fb9f3a"
            ],
            [
             0.8888888888888888,
             "#fdca26"
            ],
            [
             1.0,
             "#f0f921"
            ]
           ]
          },
          "colorway": [
           "#636efa",
           "#EF553B",
           "#00cc96",
           "#ab63fa",
           "#FFA15A",
           "#19d3f3",
           "#FF6692",
           "#B6E880",
           "#FF97FF",
           "#FECB52"
          ],
          "font": {
           "color": "#2a3f5f"
          },
          "geo": {
           "bgcolor": "white",
           "lakecolor": "white",
           "landcolor": "white",
           "showlakes": true,
           "showland": true,
           "subunitcolor": "#C8D4E3"
          },
          "hoverlabel": {
           "align": "left"
          },
          "hovermode": "closest",
          "mapbox": {
           "style": "light"
          },
          "paper_bgcolor": "white",
          "plot_bgcolor": "white",
          "polar": {
           "angularaxis": {
            "gridcolor": "#EBF0F8",
            "linecolor": "#EBF0F8",
            "ticks": ""
           },
           "bgcolor": "white",
           "radialaxis": {
            "gridcolor": "#EBF0F8",
            "linecolor": "#EBF0F8",
            "ticks": ""
           }
          },
          "scene": {
           "xaxis": {
            "backgroundcolor": "white",
            "gridcolor": "#DFE8F3",
            "gridwidth": 2,
            "linecolor": "#EBF0F8",
            "showbackground": true,
            "ticks": "",
            "zerolinecolor": "#EBF0F8"
           },
           "yaxis": {
            "backgroundcolor": "white",
            "gridcolor": "#DFE8F3",
            "gridwidth": 2,
            "linecolor": "#EBF0F8",
            "showbackground": true,
            "ticks": "",
            "zerolinecolor": "#EBF0F8"
           },
           "zaxis": {
            "backgroundcolor": "white",
            "gridcolor": "#DFE8F3",
            "gridwidth": 2,
            "linecolor": "#EBF0F8",
            "showbackground": true,
            "ticks": "",
            "zerolinecolor": "#EBF0F8"
           }
          },
          "shapedefaults": {
           "line": {
            "color": "#2a3f5f"
           }
          },
          "ternary": {
           "aaxis": {
            "gridcolor": "#DFE8F3",
            "linecolor": "#A2B1C6",
            "ticks": ""
           },
           "baxis": {
            "gridcolor": "#DFE8F3",
            "linecolor": "#A2B1C6",
            "ticks": ""
           },
           "bgcolor": "white",
           "caxis": {
            "gridcolor": "#DFE8F3",
            "linecolor": "#A2B1C6",
            "ticks": ""
           }
          },
          "title": {
           "x": 0.05
          },
          "xaxis": {
           "automargin": true,
           "gridcolor": "#EBF0F8",
           "linecolor": "#EBF0F8",
           "ticks": "",
           "title": {
            "standoff": 15
           },
           "zerolinecolor": "#EBF0F8",
           "zerolinewidth": 2
          },
          "yaxis": {
           "automargin": true,
           "gridcolor": "#EBF0F8",
           "linecolor": "#EBF0F8",
           "ticks": "",
           "title": {
            "standoff": 15
           },
           "zerolinecolor": "#EBF0F8",
           "zerolinewidth": 2
          }
         }
        },
        "barmode": "group",
        "width": 1200,
        "height": 800,
        "title": {
         "text": "Normalized Scores for Colocates (NYT vs PPG)"
        },
        "xaxis": {
         "title": {
          "text": "Colocate"
         }
        },
        "yaxis": {
         "title": {
          "text": "Normalized Score"
         }
        }
       },
       "config": {
        "plotlyServerURL": "https://plot.ly"
       }
      },
      "text/html": "<div>                            <div id=\"51637fcb-b12a-40fb-b57a-80bc4315cb20\" class=\"plotly-graph-div\" style=\"height:800px; width:1200px;\"></div>            <script type=\"text/javascript\">                require([\"plotly\"], function(Plotly) {                    window.PLOTLYENV=window.PLOTLYENV || {};                                    if (document.getElementById(\"51637fcb-b12a-40fb-b57a-80bc4315cb20\")) {                    Plotly.newPlot(                        \"51637fcb-b12a-40fb-b57a-80bc4315cb20\",                        [{\"name\":\"NYT\",\"x\":[\"counter\",\"domestic\",\"eco\",\"finance\",\"institute\",\"international\",\"legislation\",\"renounce\",\"research\",\"support\",\"suspect\",\"war\"],\"y\":[0.003661120384846942,0.0018087533577149993,1.1110950186397753e-05,0.00028377226956598423,4.696577939591755e-07,0.001771954580507545,1.0817417738282296e-05,0.00028141604353604054,5.0156253702205686e-05,0.0020373735240695958,0.0016537258981892632,0.0004698311968434061],\"type\":\"bar\"},{\"name\":\"PPG\",\"x\":[\"counter\",\"domestic\",\"eco\",\"finance\",\"institute\",\"international\",\"legislation\",\"renounce\",\"research\",\"support\",\"suspect\",\"war\"],\"y\":[0.009954041279562098,0.0014516743672590836,0.0003050544443716074,4.677100503878529e-05,0.00021746949554523915,0.0016111893766161708,0.00023023238438229653,0.00010093795801474196,0.0002515522003451938,0.001281773094123623,0.0008137207941044773,0.0016754502320972934],\"type\":\"bar\"}],                        {\"template\":{\"data\":{\"barpolar\":[{\"marker\":{\"line\":{\"color\":\"white\",\"width\":0.5},\"pattern\":{\"fillmode\":\"overlay\",\"size\":10,\"solidity\":0.2}},\"type\":\"barpolar\"}],\"bar\":[{\"error_x\":{\"color\":\"#2a3f5f\"},\"error_y\":{\"color\":\"#2a3f5f\"},\"marker\":{\"line\":{\"color\":\"white\",\"width\":0.5},\"pattern\":{\"fillmode\":\"overlay\",\"size\":10,\"solidity\":0.2}},\"type\":\"bar\"}],\"carpet\":[{\"aaxis\":{\"endlinecolor\":\"#2a3f5f\",\"gridcolor\":\"#C8D4E3\",\"linecolor\":\"#C8D4E3\",\"minorgridcolor\":\"#C8D4E3\",\"startlinecolor\":\"#2a3f5f\"},\"baxis\":{\"endlinecolor\":\"#2a3f5f\",\"gridcolor\":\"#C8D4E3\",\"linecolor\":\"#C8D4E3\",\"minorgridcolor\":\"#C8D4E3\",\"startlinecolor\":\"#2a3f5f\"},\"type\":\"carpet\"}],\"choropleth\":[{\"colorbar\":{\"outlinewidth\":0,\"ticks\":\"\"},\"type\":\"choropleth\"}],\"contourcarpet\":[{\"colorbar\":{\"outlinewidth\":0,\"ticks\":\"\"},\"type\":\"contourcarpet\"}],\"contour\":[{\"colorbar\":{\"outlinewidth\":0,\"ticks\":\"\"},\"colorscale\":[[0.0,\"#0d0887\"],[0.1111111111111111,\"#46039f\"],[0.2222222222222222,\"#7201a8\"],[0.3333333333333333,\"#9c179e\"],[0.4444444444444444,\"#bd3786\"],[0.5555555555555556,\"#d8576b\"],[0.6666666666666666,\"#ed7953\"],[0.7777777777777778,\"#fb9f3a\"],[0.8888888888888888,\"#fdca26\"],[1.0,\"#f0f921\"]],\"type\":\"contour\"}],\"heatmapgl\":[{\"colorbar\":{\"outlinewidth\":0,\"ticks\":\"\"},\"colorscale\":[[0.0,\"#0d0887\"],[0.1111111111111111,\"#46039f\"],[0.2222222222222222,\"#7201a8\"],[0.3333333333333333,\"#9c179e\"],[0.4444444444444444,\"#bd3786\"],[0.5555555555555556,\"#d8576b\"],[0.6666666666666666,\"#ed7953\"],[0.7777777777777778,\"#fb9f3a\"],[0.8888888888888888,\"#fdca26\"],[1.0,\"#f0f921\"]],\"type\":\"heatmapgl\"}],\"heatmap\":[{\"colorbar\":{\"outlinewidth\":0,\"ticks\":\"\"},\"colorscale\":[[0.0,\"#0d0887\"],[0.1111111111111111,\"#46039f\"],[0.2222222222222222,\"#7201a8\"],[0.3333333333333333,\"#9c179e\"],[0.4444444444444444,\"#bd3786\"],[0.5555555555555556,\"#d8576b\"],[0.6666666666666666,\"#ed7953\"],[0.7777777777777778,\"#fb9f3a\"],[0.8888888888888888,\"#fdca26\"],[1.0,\"#f0f921\"]],\"type\":\"heatmap\"}],\"histogram2dcontour\":[{\"colorbar\":{\"outlinewidth\":0,\"ticks\":\"\"},\"colorscale\":[[0.0,\"#0d0887\"],[0.1111111111111111,\"#46039f\"],[0.2222222222222222,\"#7201a8\"],[0.3333333333333333,\"#9c179e\"],[0.4444444444444444,\"#bd3786\"],[0.5555555555555556,\"#d8576b\"],[0.6666666666666666,\"#ed7953\"],[0.7777777777777778,\"#fb9f3a\"],[0.8888888888888888,\"#fdca26\"],[1.0,\"#f0f921\"]],\"type\":\"histogram2dcontour\"}],\"histogram2d\":[{\"colorbar\":{\"outlinewidth\":0,\"ticks\":\"\"},\"colorscale\":[[0.0,\"#0d0887\"],[0.1111111111111111,\"#46039f\"],[0.2222222222222222,\"#7201a8\"],[0.3333333333333333,\"#9c179e\"],[0.4444444444444444,\"#bd3786\"],[0.5555555555555556,\"#d8576b\"],[0.6666666666666666,\"#ed7953\"],[0.7777777777777778,\"#fb9f3a\"],[0.8888888888888888,\"#fdca26\"],[1.0,\"#f0f921\"]],\"type\":\"histogram2d\"}],\"histogram\":[{\"marker\":{\"pattern\":{\"fillmode\":\"overlay\",\"size\":10,\"solidity\":0.2}},\"type\":\"histogram\"}],\"mesh3d\":[{\"colorbar\":{\"outlinewidth\":0,\"ticks\":\"\"},\"type\":\"mesh3d\"}],\"parcoords\":[{\"line\":{\"colorbar\":{\"outlinewidth\":0,\"ticks\":\"\"}},\"type\":\"parcoords\"}],\"pie\":[{\"automargin\":true,\"type\":\"pie\"}],\"scatter3d\":[{\"line\":{\"colorbar\":{\"outlinewidth\":0,\"ticks\":\"\"}},\"marker\":{\"colorbar\":{\"outlinewidth\":0,\"ticks\":\"\"}},\"type\":\"scatter3d\"}],\"scattercarpet\":[{\"marker\":{\"colorbar\":{\"outlinewidth\":0,\"ticks\":\"\"}},\"type\":\"scattercarpet\"}],\"scattergeo\":[{\"marker\":{\"colorbar\":{\"outlinewidth\":0,\"ticks\":\"\"}},\"type\":\"scattergeo\"}],\"scattergl\":[{\"marker\":{\"colorbar\":{\"outlinewidth\":0,\"ticks\":\"\"}},\"type\":\"scattergl\"}],\"scattermapbox\":[{\"marker\":{\"colorbar\":{\"outlinewidth\":0,\"ticks\":\"\"}},\"type\":\"scattermapbox\"}],\"scatterpolargl\":[{\"marker\":{\"colorbar\":{\"outlinewidth\":0,\"ticks\":\"\"}},\"type\":\"scatterpolargl\"}],\"scatterpolar\":[{\"marker\":{\"colorbar\":{\"outlinewidth\":0,\"ticks\":\"\"}},\"type\":\"scatterpolar\"}],\"scatter\":[{\"fillpattern\":{\"fillmode\":\"overlay\",\"size\":10,\"solidity\":0.2},\"type\":\"scatter\"}],\"scatterternary\":[{\"marker\":{\"colorbar\":{\"outlinewidth\":0,\"ticks\":\"\"}},\"type\":\"scatterternary\"}],\"surface\":[{\"colorbar\":{\"outlinewidth\":0,\"ticks\":\"\"},\"colorscale\":[[0.0,\"#0d0887\"],[0.1111111111111111,\"#46039f\"],[0.2222222222222222,\"#7201a8\"],[0.3333333333333333,\"#9c179e\"],[0.4444444444444444,\"#bd3786\"],[0.5555555555555556,\"#d8576b\"],[0.6666666666666666,\"#ed7953\"],[0.7777777777777778,\"#fb9f3a\"],[0.8888888888888888,\"#fdca26\"],[1.0,\"#f0f921\"]],\"type\":\"surface\"}],\"table\":[{\"cells\":{\"fill\":{\"color\":\"#EBF0F8\"},\"line\":{\"color\":\"white\"}},\"header\":{\"fill\":{\"color\":\"#C8D4E3\"},\"line\":{\"color\":\"white\"}},\"type\":\"table\"}]},\"layout\":{\"annotationdefaults\":{\"arrowcolor\":\"#2a3f5f\",\"arrowhead\":0,\"arrowwidth\":1},\"autotypenumbers\":\"strict\",\"coloraxis\":{\"colorbar\":{\"outlinewidth\":0,\"ticks\":\"\"}},\"colorscale\":{\"diverging\":[[0,\"#8e0152\"],[0.1,\"#c51b7d\"],[0.2,\"#de77ae\"],[0.3,\"#f1b6da\"],[0.4,\"#fde0ef\"],[0.5,\"#f7f7f7\"],[0.6,\"#e6f5d0\"],[0.7,\"#b8e186\"],[0.8,\"#7fbc41\"],[0.9,\"#4d9221\"],[1,\"#276419\"]],\"sequential\":[[0.0,\"#0d0887\"],[0.1111111111111111,\"#46039f\"],[0.2222222222222222,\"#7201a8\"],[0.3333333333333333,\"#9c179e\"],[0.4444444444444444,\"#bd3786\"],[0.5555555555555556,\"#d8576b\"],[0.6666666666666666,\"#ed7953\"],[0.7777777777777778,\"#fb9f3a\"],[0.8888888888888888,\"#fdca26\"],[1.0,\"#f0f921\"]],\"sequentialminus\":[[0.0,\"#0d0887\"],[0.1111111111111111,\"#46039f\"],[0.2222222222222222,\"#7201a8\"],[0.3333333333333333,\"#9c179e\"],[0.4444444444444444,\"#bd3786\"],[0.5555555555555556,\"#d8576b\"],[0.6666666666666666,\"#ed7953\"],[0.7777777777777778,\"#fb9f3a\"],[0.8888888888888888,\"#fdca26\"],[1.0,\"#f0f921\"]]},\"colorway\":[\"#636efa\",\"#EF553B\",\"#00cc96\",\"#ab63fa\",\"#FFA15A\",\"#19d3f3\",\"#FF6692\",\"#B6E880\",\"#FF97FF\",\"#FECB52\"],\"font\":{\"color\":\"#2a3f5f\"},\"geo\":{\"bgcolor\":\"white\",\"lakecolor\":\"white\",\"landcolor\":\"white\",\"showlakes\":true,\"showland\":true,\"subunitcolor\":\"#C8D4E3\"},\"hoverlabel\":{\"align\":\"left\"},\"hovermode\":\"closest\",\"mapbox\":{\"style\":\"light\"},\"paper_bgcolor\":\"white\",\"plot_bgcolor\":\"white\",\"polar\":{\"angularaxis\":{\"gridcolor\":\"#EBF0F8\",\"linecolor\":\"#EBF0F8\",\"ticks\":\"\"},\"bgcolor\":\"white\",\"radialaxis\":{\"gridcolor\":\"#EBF0F8\",\"linecolor\":\"#EBF0F8\",\"ticks\":\"\"}},\"scene\":{\"xaxis\":{\"backgroundcolor\":\"white\",\"gridcolor\":\"#DFE8F3\",\"gridwidth\":2,\"linecolor\":\"#EBF0F8\",\"showbackground\":true,\"ticks\":\"\",\"zerolinecolor\":\"#EBF0F8\"},\"yaxis\":{\"backgroundcolor\":\"white\",\"gridcolor\":\"#DFE8F3\",\"gridwidth\":2,\"linecolor\":\"#EBF0F8\",\"showbackground\":true,\"ticks\":\"\",\"zerolinecolor\":\"#EBF0F8\"},\"zaxis\":{\"backgroundcolor\":\"white\",\"gridcolor\":\"#DFE8F3\",\"gridwidth\":2,\"linecolor\":\"#EBF0F8\",\"showbackground\":true,\"ticks\":\"\",\"zerolinecolor\":\"#EBF0F8\"}},\"shapedefaults\":{\"line\":{\"color\":\"#2a3f5f\"}},\"ternary\":{\"aaxis\":{\"gridcolor\":\"#DFE8F3\",\"linecolor\":\"#A2B1C6\",\"ticks\":\"\"},\"baxis\":{\"gridcolor\":\"#DFE8F3\",\"linecolor\":\"#A2B1C6\",\"ticks\":\"\"},\"bgcolor\":\"white\",\"caxis\":{\"gridcolor\":\"#DFE8F3\",\"linecolor\":\"#A2B1C6\",\"ticks\":\"\"}},\"title\":{\"x\":0.05},\"xaxis\":{\"automargin\":true,\"gridcolor\":\"#EBF0F8\",\"linecolor\":\"#EBF0F8\",\"ticks\":\"\",\"title\":{\"standoff\":15},\"zerolinecolor\":\"#EBF0F8\",\"zerolinewidth\":2},\"yaxis\":{\"automargin\":true,\"gridcolor\":\"#EBF0F8\",\"linecolor\":\"#EBF0F8\",\"ticks\":\"\",\"title\":{\"standoff\":15},\"zerolinecolor\":\"#EBF0F8\",\"zerolinewidth\":2}}},\"barmode\":\"group\",\"width\":1200,\"height\":800,\"title\":{\"text\":\"Normalized Scores for Colocates (NYT vs PPG)\"},\"xaxis\":{\"title\":{\"text\":\"Colocate\"}},\"yaxis\":{\"title\":{\"text\":\"Normalized Score\"}}},                        {\"responsive\": true}                    ).then(function(){\n                            \nvar gd = document.getElementById('51637fcb-b12a-40fb-b57a-80bc4315cb20');\nvar x = new MutationObserver(function (mutations, observer) {{\n        var display = window.getComputedStyle(gd).display;\n        if (!display || display === 'none') {{\n            console.log([gd, 'removed!']);\n            Plotly.purge(gd);\n            observer.disconnect();\n        }}\n}});\n\n// Listen for the removal of the full notebook cells\nvar notebookContainer = gd.closest('#notebook-container');\nif (notebookContainer) {{\n    x.observe(notebookContainer, {childList: true});\n}}\n\n// Listen for the clearing of the current output cell\nvar outputEl = gd.closest('.output');\nif (outputEl) {{\n    x.observe(outputEl, {childList: true});\n}}\n\n                        })                };                });            </script>        </div>"
     },
     "metadata": {},
     "output_type": "display_data"
    }
   ],
   "source": [
    "# filter out collates that appears in only one label\n",
    "df_output_by_media_filtered = df_output_by_media.groupby('colocate').filter(lambda x:  np.std(x.score_normalized)  > 0.00008)\n",
    "\n",
    "import plotly.graph_objects as go\n",
    "\n",
    "# Get unique colocates\n",
    "colocates = df_output_by_media_filtered['colocate'].unique()\n",
    "\n",
    "# Pivot the DataFrame\n",
    "df_pivot = df_output_by_media_filtered.pivot(index='colocate', columns='label', values='score_normalized').reset_index()\n",
    "\n",
    "# Create the plot\n",
    "fig = go.Figure()\n",
    "\n",
    "# Add NYT scores\n",
    "fig.add_trace(go.Bar(\n",
    "    x=df_pivot['colocate'],\n",
    "    y=df_pivot['nyt'],\n",
    "    name='NYT'\n",
    "))\n",
    "\n",
    "# Add PPG scores\n",
    "fig.add_trace(go.Bar(\n",
    "    x=df_pivot['colocate'],\n",
    "    y=df_pivot['ppg'],\n",
    "    name='PPG'\n",
    "))\n",
    "\n",
    "# Update layout for grouped bars\n",
    "fig.update_layout(\n",
    "    barmode='group',\n",
    "    width=1200, height=800, \n",
    "    title='Normalized Scores for Colocates (NYT vs PPG)',\n",
    "    xaxis_title='Colocate',\n",
    "    yaxis_title='Normalized Score',\n",
    "    template='plotly_white'\n",
    ")\n",
    "\n",
    "fig.write_image('output/colocates/colocates_by_media_stem.png')\n",
    "fig.show()"
   ],
   "metadata": {
    "collapsed": false,
    "ExecuteTime": {
     "end_time": "2024-05-23T13:57:50.005402Z",
     "start_time": "2024-05-23T13:57:49.752699Z"
    }
   },
   "id": "7ac9c1b288438f8f",
   "execution_count": 54
  },
  {
   "cell_type": "markdown",
   "source": [
    "## Adjectives"
   ],
   "metadata": {
    "collapsed": false
   },
   "id": "74c642ffd04ece66"
  },
  {
   "cell_type": "code",
   "outputs": [],
   "source": [
    "# get the colocates for each date range\n",
    "for date in date_range:\n",
    "    df_date = df.loc[(df['year'] >= date[0]) & (df['year'] <= date[1])]\n",
    "    res = get_colocates(df_date['cleaned_text_adj'], f'{date[0]} - {date[1]}')\n",
    "    res.to_csv(f'output/colocates/colocates_adj_{date[0]}_{date[1]}.csv', index=False)\n",
    "    \n",
    "# combine the results\n",
    "df_output = pd.concat([pd.read_csv(f'output/colocates/colocates_adj_{date[0]}_{date[1]}.csv') for date in date_range])\n",
    "df_output.to_csv('output/colocates/colocates_adj_by_years_stem.csv', index=False)"
   ],
   "metadata": {
    "collapsed": false,
    "ExecuteTime": {
     "end_time": "2024-05-23T13:58:07.123805Z",
     "start_time": "2024-05-23T13:58:01.995406Z"
    }
   },
   "id": "5400b577cc1f95ca",
   "execution_count": 55
  },
  {
   "cell_type": "code",
   "outputs": [
    {
     "data": {
      "application/vnd.plotly.v1+json": {
       "data": [
        {
         "mode": "lines",
         "name": "domestic",
         "x": [
          "1980 - 1985",
          "1986 - 1990",
          "1991 - 1995",
          "1996 - 2000",
          "2001 - 2005",
          "2006 - 2010",
          "2011 - 2015",
          "2016 - 2020"
         ],
         "y": [
          6.540267716537E-4,
          1.989920929506E-4,
          0.0024271634741717,
          0.0066828498104885,
          0.0011323612107189,
          0.0015466951101458,
          0.0050772078496481,
          0.0190110348147287
         ],
         "type": "scatter"
        },
        {
         "mode": "lines",
         "name": "effective",
         "x": [
          "1980 - 1985",
          "1986 - 1990",
          "1991 - 1995",
          "1996 - 2000",
          "2001 - 2005",
          "2006 - 2010",
          "2011 - 2015",
          "2016 - 2020"
         ],
         "y": [
          1.291083889791E-4,
          1.765422435954E-4,
          2.8160078342306365E-5,
          6.565899420214E-4,
          1.7584946447147264E-5,
          6.951279576277491E-5,
          1.077902870747E-4,
          5.063122123826304E-5
         ],
         "type": "scatter"
        },
        {
         "mode": "lines",
         "name": "federal",
         "x": [
          "1980 - 1985",
          "1986 - 1990",
          "1991 - 1995",
          "1996 - 2000",
          "2001 - 2005",
          "2006 - 2010",
          "2011 - 2015",
          "2016 - 2020"
         ],
         "y": [
          2.88854376026604E-5,
          5.23214100179764E-5,
          2.447097420869E-4,
          6.517648585654885E-6,
          4.279165515567E-4,
          7.545314581369E-4,
          7.080488030395E-4,
          6.394156860202678E-5
         ],
         "type": "scatter"
        },
        {
         "mode": "lines",
         "name": "international",
         "x": [
          "1980 - 1985",
          "1986 - 1990",
          "1991 - 1995",
          "1996 - 2000",
          "2001 - 2005",
          "2006 - 2010",
          "2011 - 2015",
          "2016 - 2020"
         ],
         "y": [
          0.0142957289635922,
          0.0107619732537211,
          0.005529896099464,
          0.0077180852664618,
          0.0043569061221793,
          0.0036630889358317,
          0.0037698125749512,
          0.0047384735415966
         ],
         "type": "scatter"
        },
        {
         "mode": "lines",
         "name": "islamic",
         "x": [
          "1980 - 1985",
          "1986 - 1990",
          "1991 - 1995",
          "1996 - 2000",
          "2001 - 2005",
          "2006 - 2010",
          "2011 - 2015",
          "2016 - 2020"
         ],
         "y": [
          3.206149127661298E-5,
          3.304368090898747E-5,
          5.039285195280828E-5,
          4.9625329127754784E-6,
          1.046982678197E-4,
          2.051412058959E-4,
          5.547619710801E-4,
          4.778705368403E-4
         ],
         "type": "scatter"
        },
        {
         "mode": "lines",
         "name": "recent",
         "x": [
          "1980 - 1985",
          "1986 - 1990",
          "1991 - 1995",
          "1996 - 2000",
          "2001 - 2005",
          "2006 - 2010",
          "2011 - 2015",
          "2016 - 2020"
         ],
         "y": [
          5.210011761659E-4,
          4.208409593566053E-5,
          1.004153064303074E-5,
          1.158502151879E-4,
          1.604693614549461E-5,
          1.4336171044516743E-6,
          6.265716501797794E-6,
          2.0114060143181577E-5
         ],
         "type": "scatter"
        },
        {
         "mode": "lines",
         "name": "united",
         "x": [
          "1980 - 1985",
          "1986 - 1990",
          "1991 - 1995",
          "1996 - 2000",
          "2001 - 2005",
          "2006 - 2010",
          "2011 - 2015",
          "2016 - 2020"
         ],
         "y": [
          1.085120056713E-4,
          6.405040861856323E-5,
          6.814267687912E-4,
          7.823818460112E-4,
          5.965520292401374E-5,
          9.4785133371777E-5,
          3.6173102072287675E-5,
          1.103493418338E-4
         ],
         "type": "scatter"
        },
        {
         "mode": "lines",
         "name": "urban",
         "x": [
          "1980 - 1985",
          "1986 - 1990",
          "1991 - 1995",
          "1996 - 2000",
          "2001 - 2005",
          "2006 - 2010",
          "2011 - 2015",
          "2016 - 2020"
         ],
         "y": [
          5.610977607846E-4,
          1.143815117258E-4,
          0.0019558230206745,
          1.7555085128385854E-5,
          6.028671397533787E-6,
          2.9262279442362394E-6,
          1.881750781011314E-5,
          1.8961450446688457E-5
         ],
         "type": "scatter"
        },
        {
         "mode": "lines",
         "name": "biological",
         "x": [
          "1991 - 1995",
          "1996 - 2000",
          "2001 - 2005",
          "2006 - 2010",
          "2011 - 2015"
         ],
         "y": [
          4.4911866652906446E-5,
          4.02499855386E-4,
          2.363970048356793E-5,
          2.9698691423464347E-5,
          4.820065867772512E-6
         ],
         "type": "scatter"
        },
        {
         "mode": "lines",
         "name": "permissible",
         "x": [
          "1991 - 1995",
          "2006 - 2010"
         ],
         "y": [
          7.379998027915E-4,
          1.1307626218075255E-5
         ],
         "type": "scatter"
        },
        {
         "mode": "lines",
         "name": "unmistakable",
         "x": [
          "1991 - 1995",
          "2001 - 2005",
          "2006 - 2010"
         ],
         "y": [
          4.066706061276E-4,
          2.0018272655007195E-5,
          1.6759342561388174E-5
         ],
         "type": "scatter"
        },
        {
         "mode": "lines",
         "name": "weakest",
         "x": [
          "1996 - 2000",
          "2016 - 2020"
         ],
         "y": [
          4.461774257092E-4,
          2.818989160629486E-5
         ],
         "type": "scatter"
        }
       ],
       "layout": {
        "template": {
         "data": {
          "barpolar": [
           {
            "marker": {
             "line": {
              "color": "white",
              "width": 0.5
             },
             "pattern": {
              "fillmode": "overlay",
              "size": 10,
              "solidity": 0.2
             }
            },
            "type": "barpolar"
           }
          ],
          "bar": [
           {
            "error_x": {
             "color": "#2a3f5f"
            },
            "error_y": {
             "color": "#2a3f5f"
            },
            "marker": {
             "line": {
              "color": "white",
              "width": 0.5
             },
             "pattern": {
              "fillmode": "overlay",
              "size": 10,
              "solidity": 0.2
             }
            },
            "type": "bar"
           }
          ],
          "carpet": [
           {
            "aaxis": {
             "endlinecolor": "#2a3f5f",
             "gridcolor": "#C8D4E3",
             "linecolor": "#C8D4E3",
             "minorgridcolor": "#C8D4E3",
             "startlinecolor": "#2a3f5f"
            },
            "baxis": {
             "endlinecolor": "#2a3f5f",
             "gridcolor": "#C8D4E3",
             "linecolor": "#C8D4E3",
             "minorgridcolor": "#C8D4E3",
             "startlinecolor": "#2a3f5f"
            },
            "type": "carpet"
           }
          ],
          "choropleth": [
           {
            "colorbar": {
             "outlinewidth": 0,
             "ticks": ""
            },
            "type": "choropleth"
           }
          ],
          "contourcarpet": [
           {
            "colorbar": {
             "outlinewidth": 0,
             "ticks": ""
            },
            "type": "contourcarpet"
           }
          ],
          "contour": [
           {
            "colorbar": {
             "outlinewidth": 0,
             "ticks": ""
            },
            "colorscale": [
             [
              0.0,
              "#0d0887"
             ],
             [
              0.1111111111111111,
              "#46039f"
             ],
             [
              0.2222222222222222,
              "#7201a8"
             ],
             [
              0.3333333333333333,
              "#9c179e"
             ],
             [
              0.4444444444444444,
              "#bd3786"
             ],
             [
              0.5555555555555556,
              "#d8576b"
             ],
             [
              0.6666666666666666,
              "#ed7953"
             ],
             [
              0.7777777777777778,
              "#fb9f3a"
             ],
             [
              0.8888888888888888,
              "#fdca26"
             ],
             [
              1.0,
              "#f0f921"
             ]
            ],
            "type": "contour"
           }
          ],
          "heatmapgl": [
           {
            "colorbar": {
             "outlinewidth": 0,
             "ticks": ""
            },
            "colorscale": [
             [
              0.0,
              "#0d0887"
             ],
             [
              0.1111111111111111,
              "#46039f"
             ],
             [
              0.2222222222222222,
              "#7201a8"
             ],
             [
              0.3333333333333333,
              "#9c179e"
             ],
             [
              0.4444444444444444,
              "#bd3786"
             ],
             [
              0.5555555555555556,
              "#d8576b"
             ],
             [
              0.6666666666666666,
              "#ed7953"
             ],
             [
              0.7777777777777778,
              "#fb9f3a"
             ],
             [
              0.8888888888888888,
              "#fdca26"
             ],
             [
              1.0,
              "#f0f921"
             ]
            ],
            "type": "heatmapgl"
           }
          ],
          "heatmap": [
           {
            "colorbar": {
             "outlinewidth": 0,
             "ticks": ""
            },
            "colorscale": [
             [
              0.0,
              "#0d0887"
             ],
             [
              0.1111111111111111,
              "#46039f"
             ],
             [
              0.2222222222222222,
              "#7201a8"
             ],
             [
              0.3333333333333333,
              "#9c179e"
             ],
             [
              0.4444444444444444,
              "#bd3786"
             ],
             [
              0.5555555555555556,
              "#d8576b"
             ],
             [
              0.6666666666666666,
              "#ed7953"
             ],
             [
              0.7777777777777778,
              "#fb9f3a"
             ],
             [
              0.8888888888888888,
              "#fdca26"
             ],
             [
              1.0,
              "#f0f921"
             ]
            ],
            "type": "heatmap"
           }
          ],
          "histogram2dcontour": [
           {
            "colorbar": {
             "outlinewidth": 0,
             "ticks": ""
            },
            "colorscale": [
             [
              0.0,
              "#0d0887"
             ],
             [
              0.1111111111111111,
              "#46039f"
             ],
             [
              0.2222222222222222,
              "#7201a8"
             ],
             [
              0.3333333333333333,
              "#9c179e"
             ],
             [
              0.4444444444444444,
              "#bd3786"
             ],
             [
              0.5555555555555556,
              "#d8576b"
             ],
             [
              0.6666666666666666,
              "#ed7953"
             ],
             [
              0.7777777777777778,
              "#fb9f3a"
             ],
             [
              0.8888888888888888,
              "#fdca26"
             ],
             [
              1.0,
              "#f0f921"
             ]
            ],
            "type": "histogram2dcontour"
           }
          ],
          "histogram2d": [
           {
            "colorbar": {
             "outlinewidth": 0,
             "ticks": ""
            },
            "colorscale": [
             [
              0.0,
              "#0d0887"
             ],
             [
              0.1111111111111111,
              "#46039f"
             ],
             [
              0.2222222222222222,
              "#7201a8"
             ],
             [
              0.3333333333333333,
              "#9c179e"
             ],
             [
              0.4444444444444444,
              "#bd3786"
             ],
             [
              0.5555555555555556,
              "#d8576b"
             ],
             [
              0.6666666666666666,
              "#ed7953"
             ],
             [
              0.7777777777777778,
              "#fb9f3a"
             ],
             [
              0.8888888888888888,
              "#fdca26"
             ],
             [
              1.0,
              "#f0f921"
             ]
            ],
            "type": "histogram2d"
           }
          ],
          "histogram": [
           {
            "marker": {
             "pattern": {
              "fillmode": "overlay",
              "size": 10,
              "solidity": 0.2
             }
            },
            "type": "histogram"
           }
          ],
          "mesh3d": [
           {
            "colorbar": {
             "outlinewidth": 0,
             "ticks": ""
            },
            "type": "mesh3d"
           }
          ],
          "parcoords": [
           {
            "line": {
             "colorbar": {
              "outlinewidth": 0,
              "ticks": ""
             }
            },
            "type": "parcoords"
           }
          ],
          "pie": [
           {
            "automargin": true,
            "type": "pie"
           }
          ],
          "scatter3d": [
           {
            "line": {
             "colorbar": {
              "outlinewidth": 0,
              "ticks": ""
             }
            },
            "marker": {
             "colorbar": {
              "outlinewidth": 0,
              "ticks": ""
             }
            },
            "type": "scatter3d"
           }
          ],
          "scattercarpet": [
           {
            "marker": {
             "colorbar": {
              "outlinewidth": 0,
              "ticks": ""
             }
            },
            "type": "scattercarpet"
           }
          ],
          "scattergeo": [
           {
            "marker": {
             "colorbar": {
              "outlinewidth": 0,
              "ticks": ""
             }
            },
            "type": "scattergeo"
           }
          ],
          "scattergl": [
           {
            "marker": {
             "colorbar": {
              "outlinewidth": 0,
              "ticks": ""
             }
            },
            "type": "scattergl"
           }
          ],
          "scattermapbox": [
           {
            "marker": {
             "colorbar": {
              "outlinewidth": 0,
              "ticks": ""
             }
            },
            "type": "scattermapbox"
           }
          ],
          "scatterpolargl": [
           {
            "marker": {
             "colorbar": {
              "outlinewidth": 0,
              "ticks": ""
             }
            },
            "type": "scatterpolargl"
           }
          ],
          "scatterpolar": [
           {
            "marker": {
             "colorbar": {
              "outlinewidth": 0,
              "ticks": ""
             }
            },
            "type": "scatterpolar"
           }
          ],
          "scatter": [
           {
            "fillpattern": {
             "fillmode": "overlay",
             "size": 10,
             "solidity": 0.2
            },
            "type": "scatter"
           }
          ],
          "scatterternary": [
           {
            "marker": {
             "colorbar": {
              "outlinewidth": 0,
              "ticks": ""
             }
            },
            "type": "scatterternary"
           }
          ],
          "surface": [
           {
            "colorbar": {
             "outlinewidth": 0,
             "ticks": ""
            },
            "colorscale": [
             [
              0.0,
              "#0d0887"
             ],
             [
              0.1111111111111111,
              "#46039f"
             ],
             [
              0.2222222222222222,
              "#7201a8"
             ],
             [
              0.3333333333333333,
              "#9c179e"
             ],
             [
              0.4444444444444444,
              "#bd3786"
             ],
             [
              0.5555555555555556,
              "#d8576b"
             ],
             [
              0.6666666666666666,
              "#ed7953"
             ],
             [
              0.7777777777777778,
              "#fb9f3a"
             ],
             [
              0.8888888888888888,
              "#fdca26"
             ],
             [
              1.0,
              "#f0f921"
             ]
            ],
            "type": "surface"
           }
          ],
          "table": [
           {
            "cells": {
             "fill": {
              "color": "#EBF0F8"
             },
             "line": {
              "color": "white"
             }
            },
            "header": {
             "fill": {
              "color": "#C8D4E3"
             },
             "line": {
              "color": "white"
             }
            },
            "type": "table"
           }
          ]
         },
         "layout": {
          "annotationdefaults": {
           "arrowcolor": "#2a3f5f",
           "arrowhead": 0,
           "arrowwidth": 1
          },
          "autotypenumbers": "strict",
          "coloraxis": {
           "colorbar": {
            "outlinewidth": 0,
            "ticks": ""
           }
          },
          "colorscale": {
           "diverging": [
            [
             0,
             "#8e0152"
            ],
            [
             0.1,
             "#c51b7d"
            ],
            [
             0.2,
             "#de77ae"
            ],
            [
             0.3,
             "#f1b6da"
            ],
            [
             0.4,
             "#fde0ef"
            ],
            [
             0.5,
             "#f7f7f7"
            ],
            [
             0.6,
             "#e6f5d0"
            ],
            [
             0.7,
             "#b8e186"
            ],
            [
             0.8,
             "#7fbc41"
            ],
            [
             0.9,
             "#4d9221"
            ],
            [
             1,
             "#276419"
            ]
           ],
           "sequential": [
            [
             0.0,
             "#0d0887"
            ],
            [
             0.1111111111111111,
             "#46039f"
            ],
            [
             0.2222222222222222,
             "#7201a8"
            ],
            [
             0.3333333333333333,
             "#9c179e"
            ],
            [
             0.4444444444444444,
             "#bd3786"
            ],
            [
             0.5555555555555556,
             "#d8576b"
            ],
            [
             0.6666666666666666,
             "#ed7953"
            ],
            [
             0.7777777777777778,
             "#fb9f3a"
            ],
            [
             0.8888888888888888,
             "#fdca26"
            ],
            [
             1.0,
             "#f0f921"
            ]
           ],
           "sequentialminus": [
            [
             0.0,
             "#0d0887"
            ],
            [
             0.1111111111111111,
             "#46039f"
            ],
            [
             0.2222222222222222,
             "#7201a8"
            ],
            [
             0.3333333333333333,
             "#9c179e"
            ],
            [
             0.4444444444444444,
             "#bd3786"
            ],
            [
             0.5555555555555556,
             "#d8576b"
            ],
            [
             0.6666666666666666,
             "#ed7953"
            ],
            [
             0.7777777777777778,
             "#fb9f3a"
            ],
            [
             0.8888888888888888,
             "#fdca26"
            ],
            [
             1.0,
             "#f0f921"
            ]
           ]
          },
          "colorway": [
           "#636efa",
           "#EF553B",
           "#00cc96",
           "#ab63fa",
           "#FFA15A",
           "#19d3f3",
           "#FF6692",
           "#B6E880",
           "#FF97FF",
           "#FECB52"
          ],
          "font": {
           "color": "#2a3f5f"
          },
          "geo": {
           "bgcolor": "white",
           "lakecolor": "white",
           "landcolor": "white",
           "showlakes": true,
           "showland": true,
           "subunitcolor": "#C8D4E3"
          },
          "hoverlabel": {
           "align": "left"
          },
          "hovermode": "closest",
          "mapbox": {
           "style": "light"
          },
          "paper_bgcolor": "white",
          "plot_bgcolor": "white",
          "polar": {
           "angularaxis": {
            "gridcolor": "#EBF0F8",
            "linecolor": "#EBF0F8",
            "ticks": ""
           },
           "bgcolor": "white",
           "radialaxis": {
            "gridcolor": "#EBF0F8",
            "linecolor": "#EBF0F8",
            "ticks": ""
           }
          },
          "scene": {
           "xaxis": {
            "backgroundcolor": "white",
            "gridcolor": "#DFE8F3",
            "gridwidth": 2,
            "linecolor": "#EBF0F8",
            "showbackground": true,
            "ticks": "",
            "zerolinecolor": "#EBF0F8"
           },
           "yaxis": {
            "backgroundcolor": "white",
            "gridcolor": "#DFE8F3",
            "gridwidth": 2,
            "linecolor": "#EBF0F8",
            "showbackground": true,
            "ticks": "",
            "zerolinecolor": "#EBF0F8"
           },
           "zaxis": {
            "backgroundcolor": "white",
            "gridcolor": "#DFE8F3",
            "gridwidth": 2,
            "linecolor": "#EBF0F8",
            "showbackground": true,
            "ticks": "",
            "zerolinecolor": "#EBF0F8"
           }
          },
          "shapedefaults": {
           "line": {
            "color": "#2a3f5f"
           }
          },
          "ternary": {
           "aaxis": {
            "gridcolor": "#DFE8F3",
            "linecolor": "#A2B1C6",
            "ticks": ""
           },
           "baxis": {
            "gridcolor": "#DFE8F3",
            "linecolor": "#A2B1C6",
            "ticks": ""
           },
           "bgcolor": "white",
           "caxis": {
            "gridcolor": "#DFE8F3",
            "linecolor": "#A2B1C6",
            "ticks": ""
           }
          },
          "title": {
           "x": 0.05
          },
          "xaxis": {
           "automargin": true,
           "gridcolor": "#EBF0F8",
           "linecolor": "#EBF0F8",
           "ticks": "",
           "title": {
            "standoff": 15
           },
           "zerolinecolor": "#EBF0F8",
           "zerolinewidth": 2
          },
          "yaxis": {
           "automargin": true,
           "gridcolor": "#EBF0F8",
           "linecolor": "#EBF0F8",
           "ticks": "",
           "title": {
            "standoff": 15
           },
           "zerolinecolor": "#EBF0F8",
           "zerolinewidth": 2
          }
         }
        },
        "autosize": false,
        "width": 1200,
        "height": 800,
        "title": {
         "text": "Score change of adjective colocates across the years"
        },
        "xaxis": {
         "title": {
          "text": "Label"
         }
        },
        "yaxis": {
         "title": {
          "text": "Score Normalized"
         }
        }
       },
       "config": {
        "plotlyServerURL": "https://plot.ly"
       }
      },
      "text/html": "<div>                            <div id=\"ef4892f7-b82c-46a5-875d-ff9ac444ca62\" class=\"plotly-graph-div\" style=\"height:800px; width:1200px;\"></div>            <script type=\"text/javascript\">                require([\"plotly\"], function(Plotly) {                    window.PLOTLYENV=window.PLOTLYENV || {};                                    if (document.getElementById(\"ef4892f7-b82c-46a5-875d-ff9ac444ca62\")) {                    Plotly.newPlot(                        \"ef4892f7-b82c-46a5-875d-ff9ac444ca62\",                        [{\"mode\":\"lines\",\"name\":\"domestic\",\"x\":[\"1980 - 1985\",\"1986 - 1990\",\"1991 - 1995\",\"1996 - 2000\",\"2001 - 2005\",\"2006 - 2010\",\"2011 - 2015\",\"2016 - 2020\"],\"y\":[0.0006540267716537,0.0001989920929506,0.0024271634741717,0.0066828498104885,0.0011323612107189,0.0015466951101458,0.0050772078496481,0.0190110348147287],\"type\":\"scatter\"},{\"mode\":\"lines\",\"name\":\"effective\",\"x\":[\"1980 - 1985\",\"1986 - 1990\",\"1991 - 1995\",\"1996 - 2000\",\"2001 - 2005\",\"2006 - 2010\",\"2011 - 2015\",\"2016 - 2020\"],\"y\":[0.0001291083889791,0.0001765422435954,2.8160078342306365e-05,0.0006565899420214,1.7584946447147264e-05,6.951279576277491e-05,0.0001077902870747,5.063122123826304e-05],\"type\":\"scatter\"},{\"mode\":\"lines\",\"name\":\"federal\",\"x\":[\"1980 - 1985\",\"1986 - 1990\",\"1991 - 1995\",\"1996 - 2000\",\"2001 - 2005\",\"2006 - 2010\",\"2011 - 2015\",\"2016 - 2020\"],\"y\":[2.88854376026604e-05,5.23214100179764e-05,0.0002447097420869,6.517648585654885e-06,0.0004279165515567,0.0007545314581369,0.0007080488030395,6.394156860202678e-05],\"type\":\"scatter\"},{\"mode\":\"lines\",\"name\":\"international\",\"x\":[\"1980 - 1985\",\"1986 - 1990\",\"1991 - 1995\",\"1996 - 2000\",\"2001 - 2005\",\"2006 - 2010\",\"2011 - 2015\",\"2016 - 2020\"],\"y\":[0.0142957289635922,0.0107619732537211,0.005529896099464,0.0077180852664618,0.0043569061221793,0.0036630889358317,0.0037698125749512,0.0047384735415966],\"type\":\"scatter\"},{\"mode\":\"lines\",\"name\":\"islamic\",\"x\":[\"1980 - 1985\",\"1986 - 1990\",\"1991 - 1995\",\"1996 - 2000\",\"2001 - 2005\",\"2006 - 2010\",\"2011 - 2015\",\"2016 - 2020\"],\"y\":[3.206149127661298e-05,3.304368090898747e-05,5.039285195280828e-05,4.9625329127754784e-06,0.0001046982678197,0.0002051412058959,0.0005547619710801,0.0004778705368403],\"type\":\"scatter\"},{\"mode\":\"lines\",\"name\":\"recent\",\"x\":[\"1980 - 1985\",\"1986 - 1990\",\"1991 - 1995\",\"1996 - 2000\",\"2001 - 2005\",\"2006 - 2010\",\"2011 - 2015\",\"2016 - 2020\"],\"y\":[0.0005210011761659,4.208409593566053e-05,1.004153064303074e-05,0.0001158502151879,1.604693614549461e-05,1.4336171044516743e-06,6.265716501797794e-06,2.0114060143181577e-05],\"type\":\"scatter\"},{\"mode\":\"lines\",\"name\":\"united\",\"x\":[\"1980 - 1985\",\"1986 - 1990\",\"1991 - 1995\",\"1996 - 2000\",\"2001 - 2005\",\"2006 - 2010\",\"2011 - 2015\",\"2016 - 2020\"],\"y\":[0.0001085120056713,6.405040861856323e-05,0.0006814267687912,0.0007823818460112,5.965520292401374e-05,9.4785133371777e-05,3.6173102072287675e-05,0.0001103493418338],\"type\":\"scatter\"},{\"mode\":\"lines\",\"name\":\"urban\",\"x\":[\"1980 - 1985\",\"1986 - 1990\",\"1991 - 1995\",\"1996 - 2000\",\"2001 - 2005\",\"2006 - 2010\",\"2011 - 2015\",\"2016 - 2020\"],\"y\":[0.0005610977607846,0.0001143815117258,0.0019558230206745,1.7555085128385854e-05,6.028671397533787e-06,2.9262279442362394e-06,1.881750781011314e-05,1.8961450446688457e-05],\"type\":\"scatter\"},{\"mode\":\"lines\",\"name\":\"biological\",\"x\":[\"1991 - 1995\",\"1996 - 2000\",\"2001 - 2005\",\"2006 - 2010\",\"2011 - 2015\"],\"y\":[4.4911866652906446e-05,0.000402499855386,2.363970048356793e-05,2.9698691423464347e-05,4.820065867772512e-06],\"type\":\"scatter\"},{\"mode\":\"lines\",\"name\":\"permissible\",\"x\":[\"1991 - 1995\",\"2006 - 2010\"],\"y\":[0.0007379998027915,1.1307626218075255e-05],\"type\":\"scatter\"},{\"mode\":\"lines\",\"name\":\"unmistakable\",\"x\":[\"1991 - 1995\",\"2001 - 2005\",\"2006 - 2010\"],\"y\":[0.0004066706061276,2.0018272655007195e-05,1.6759342561388174e-05],\"type\":\"scatter\"},{\"mode\":\"lines\",\"name\":\"weakest\",\"x\":[\"1996 - 2000\",\"2016 - 2020\"],\"y\":[0.0004461774257092,2.818989160629486e-05],\"type\":\"scatter\"}],                        {\"template\":{\"data\":{\"barpolar\":[{\"marker\":{\"line\":{\"color\":\"white\",\"width\":0.5},\"pattern\":{\"fillmode\":\"overlay\",\"size\":10,\"solidity\":0.2}},\"type\":\"barpolar\"}],\"bar\":[{\"error_x\":{\"color\":\"#2a3f5f\"},\"error_y\":{\"color\":\"#2a3f5f\"},\"marker\":{\"line\":{\"color\":\"white\",\"width\":0.5},\"pattern\":{\"fillmode\":\"overlay\",\"size\":10,\"solidity\":0.2}},\"type\":\"bar\"}],\"carpet\":[{\"aaxis\":{\"endlinecolor\":\"#2a3f5f\",\"gridcolor\":\"#C8D4E3\",\"linecolor\":\"#C8D4E3\",\"minorgridcolor\":\"#C8D4E3\",\"startlinecolor\":\"#2a3f5f\"},\"baxis\":{\"endlinecolor\":\"#2a3f5f\",\"gridcolor\":\"#C8D4E3\",\"linecolor\":\"#C8D4E3\",\"minorgridcolor\":\"#C8D4E3\",\"startlinecolor\":\"#2a3f5f\"},\"type\":\"carpet\"}],\"choropleth\":[{\"colorbar\":{\"outlinewidth\":0,\"ticks\":\"\"},\"type\":\"choropleth\"}],\"contourcarpet\":[{\"colorbar\":{\"outlinewidth\":0,\"ticks\":\"\"},\"type\":\"contourcarpet\"}],\"contour\":[{\"colorbar\":{\"outlinewidth\":0,\"ticks\":\"\"},\"colorscale\":[[0.0,\"#0d0887\"],[0.1111111111111111,\"#46039f\"],[0.2222222222222222,\"#7201a8\"],[0.3333333333333333,\"#9c179e\"],[0.4444444444444444,\"#bd3786\"],[0.5555555555555556,\"#d8576b\"],[0.6666666666666666,\"#ed7953\"],[0.7777777777777778,\"#fb9f3a\"],[0.8888888888888888,\"#fdca26\"],[1.0,\"#f0f921\"]],\"type\":\"contour\"}],\"heatmapgl\":[{\"colorbar\":{\"outlinewidth\":0,\"ticks\":\"\"},\"colorscale\":[[0.0,\"#0d0887\"],[0.1111111111111111,\"#46039f\"],[0.2222222222222222,\"#7201a8\"],[0.3333333333333333,\"#9c179e\"],[0.4444444444444444,\"#bd3786\"],[0.5555555555555556,\"#d8576b\"],[0.6666666666666666,\"#ed7953\"],[0.7777777777777778,\"#fb9f3a\"],[0.8888888888888888,\"#fdca26\"],[1.0,\"#f0f921\"]],\"type\":\"heatmapgl\"}],\"heatmap\":[{\"colorbar\":{\"outlinewidth\":0,\"ticks\":\"\"},\"colorscale\":[[0.0,\"#0d0887\"],[0.1111111111111111,\"#46039f\"],[0.2222222222222222,\"#7201a8\"],[0.3333333333333333,\"#9c179e\"],[0.4444444444444444,\"#bd3786\"],[0.5555555555555556,\"#d8576b\"],[0.6666666666666666,\"#ed7953\"],[0.7777777777777778,\"#fb9f3a\"],[0.8888888888888888,\"#fdca26\"],[1.0,\"#f0f921\"]],\"type\":\"heatmap\"}],\"histogram2dcontour\":[{\"colorbar\":{\"outlinewidth\":0,\"ticks\":\"\"},\"colorscale\":[[0.0,\"#0d0887\"],[0.1111111111111111,\"#46039f\"],[0.2222222222222222,\"#7201a8\"],[0.3333333333333333,\"#9c179e\"],[0.4444444444444444,\"#bd3786\"],[0.5555555555555556,\"#d8576b\"],[0.6666666666666666,\"#ed7953\"],[0.7777777777777778,\"#fb9f3a\"],[0.8888888888888888,\"#fdca26\"],[1.0,\"#f0f921\"]],\"type\":\"histogram2dcontour\"}],\"histogram2d\":[{\"colorbar\":{\"outlinewidth\":0,\"ticks\":\"\"},\"colorscale\":[[0.0,\"#0d0887\"],[0.1111111111111111,\"#46039f\"],[0.2222222222222222,\"#7201a8\"],[0.3333333333333333,\"#9c179e\"],[0.4444444444444444,\"#bd3786\"],[0.5555555555555556,\"#d8576b\"],[0.6666666666666666,\"#ed7953\"],[0.7777777777777778,\"#fb9f3a\"],[0.8888888888888888,\"#fdca26\"],[1.0,\"#f0f921\"]],\"type\":\"histogram2d\"}],\"histogram\":[{\"marker\":{\"pattern\":{\"fillmode\":\"overlay\",\"size\":10,\"solidity\":0.2}},\"type\":\"histogram\"}],\"mesh3d\":[{\"colorbar\":{\"outlinewidth\":0,\"ticks\":\"\"},\"type\":\"mesh3d\"}],\"parcoords\":[{\"line\":{\"colorbar\":{\"outlinewidth\":0,\"ticks\":\"\"}},\"type\":\"parcoords\"}],\"pie\":[{\"automargin\":true,\"type\":\"pie\"}],\"scatter3d\":[{\"line\":{\"colorbar\":{\"outlinewidth\":0,\"ticks\":\"\"}},\"marker\":{\"colorbar\":{\"outlinewidth\":0,\"ticks\":\"\"}},\"type\":\"scatter3d\"}],\"scattercarpet\":[{\"marker\":{\"colorbar\":{\"outlinewidth\":0,\"ticks\":\"\"}},\"type\":\"scattercarpet\"}],\"scattergeo\":[{\"marker\":{\"colorbar\":{\"outlinewidth\":0,\"ticks\":\"\"}},\"type\":\"scattergeo\"}],\"scattergl\":[{\"marker\":{\"colorbar\":{\"outlinewidth\":0,\"ticks\":\"\"}},\"type\":\"scattergl\"}],\"scattermapbox\":[{\"marker\":{\"colorbar\":{\"outlinewidth\":0,\"ticks\":\"\"}},\"type\":\"scattermapbox\"}],\"scatterpolargl\":[{\"marker\":{\"colorbar\":{\"outlinewidth\":0,\"ticks\":\"\"}},\"type\":\"scatterpolargl\"}],\"scatterpolar\":[{\"marker\":{\"colorbar\":{\"outlinewidth\":0,\"ticks\":\"\"}},\"type\":\"scatterpolar\"}],\"scatter\":[{\"fillpattern\":{\"fillmode\":\"overlay\",\"size\":10,\"solidity\":0.2},\"type\":\"scatter\"}],\"scatterternary\":[{\"marker\":{\"colorbar\":{\"outlinewidth\":0,\"ticks\":\"\"}},\"type\":\"scatterternary\"}],\"surface\":[{\"colorbar\":{\"outlinewidth\":0,\"ticks\":\"\"},\"colorscale\":[[0.0,\"#0d0887\"],[0.1111111111111111,\"#46039f\"],[0.2222222222222222,\"#7201a8\"],[0.3333333333333333,\"#9c179e\"],[0.4444444444444444,\"#bd3786\"],[0.5555555555555556,\"#d8576b\"],[0.6666666666666666,\"#ed7953\"],[0.7777777777777778,\"#fb9f3a\"],[0.8888888888888888,\"#fdca26\"],[1.0,\"#f0f921\"]],\"type\":\"surface\"}],\"table\":[{\"cells\":{\"fill\":{\"color\":\"#EBF0F8\"},\"line\":{\"color\":\"white\"}},\"header\":{\"fill\":{\"color\":\"#C8D4E3\"},\"line\":{\"color\":\"white\"}},\"type\":\"table\"}]},\"layout\":{\"annotationdefaults\":{\"arrowcolor\":\"#2a3f5f\",\"arrowhead\":0,\"arrowwidth\":1},\"autotypenumbers\":\"strict\",\"coloraxis\":{\"colorbar\":{\"outlinewidth\":0,\"ticks\":\"\"}},\"colorscale\":{\"diverging\":[[0,\"#8e0152\"],[0.1,\"#c51b7d\"],[0.2,\"#de77ae\"],[0.3,\"#f1b6da\"],[0.4,\"#fde0ef\"],[0.5,\"#f7f7f7\"],[0.6,\"#e6f5d0\"],[0.7,\"#b8e186\"],[0.8,\"#7fbc41\"],[0.9,\"#4d9221\"],[1,\"#276419\"]],\"sequential\":[[0.0,\"#0d0887\"],[0.1111111111111111,\"#46039f\"],[0.2222222222222222,\"#7201a8\"],[0.3333333333333333,\"#9c179e\"],[0.4444444444444444,\"#bd3786\"],[0.5555555555555556,\"#d8576b\"],[0.6666666666666666,\"#ed7953\"],[0.7777777777777778,\"#fb9f3a\"],[0.8888888888888888,\"#fdca26\"],[1.0,\"#f0f921\"]],\"sequentialminus\":[[0.0,\"#0d0887\"],[0.1111111111111111,\"#46039f\"],[0.2222222222222222,\"#7201a8\"],[0.3333333333333333,\"#9c179e\"],[0.4444444444444444,\"#bd3786\"],[0.5555555555555556,\"#d8576b\"],[0.6666666666666666,\"#ed7953\"],[0.7777777777777778,\"#fb9f3a\"],[0.8888888888888888,\"#fdca26\"],[1.0,\"#f0f921\"]]},\"colorway\":[\"#636efa\",\"#EF553B\",\"#00cc96\",\"#ab63fa\",\"#FFA15A\",\"#19d3f3\",\"#FF6692\",\"#B6E880\",\"#FF97FF\",\"#FECB52\"],\"font\":{\"color\":\"#2a3f5f\"},\"geo\":{\"bgcolor\":\"white\",\"lakecolor\":\"white\",\"landcolor\":\"white\",\"showlakes\":true,\"showland\":true,\"subunitcolor\":\"#C8D4E3\"},\"hoverlabel\":{\"align\":\"left\"},\"hovermode\":\"closest\",\"mapbox\":{\"style\":\"light\"},\"paper_bgcolor\":\"white\",\"plot_bgcolor\":\"white\",\"polar\":{\"angularaxis\":{\"gridcolor\":\"#EBF0F8\",\"linecolor\":\"#EBF0F8\",\"ticks\":\"\"},\"bgcolor\":\"white\",\"radialaxis\":{\"gridcolor\":\"#EBF0F8\",\"linecolor\":\"#EBF0F8\",\"ticks\":\"\"}},\"scene\":{\"xaxis\":{\"backgroundcolor\":\"white\",\"gridcolor\":\"#DFE8F3\",\"gridwidth\":2,\"linecolor\":\"#EBF0F8\",\"showbackground\":true,\"ticks\":\"\",\"zerolinecolor\":\"#EBF0F8\"},\"yaxis\":{\"backgroundcolor\":\"white\",\"gridcolor\":\"#DFE8F3\",\"gridwidth\":2,\"linecolor\":\"#EBF0F8\",\"showbackground\":true,\"ticks\":\"\",\"zerolinecolor\":\"#EBF0F8\"},\"zaxis\":{\"backgroundcolor\":\"white\",\"gridcolor\":\"#DFE8F3\",\"gridwidth\":2,\"linecolor\":\"#EBF0F8\",\"showbackground\":true,\"ticks\":\"\",\"zerolinecolor\":\"#EBF0F8\"}},\"shapedefaults\":{\"line\":{\"color\":\"#2a3f5f\"}},\"ternary\":{\"aaxis\":{\"gridcolor\":\"#DFE8F3\",\"linecolor\":\"#A2B1C6\",\"ticks\":\"\"},\"baxis\":{\"gridcolor\":\"#DFE8F3\",\"linecolor\":\"#A2B1C6\",\"ticks\":\"\"},\"bgcolor\":\"white\",\"caxis\":{\"gridcolor\":\"#DFE8F3\",\"linecolor\":\"#A2B1C6\",\"ticks\":\"\"}},\"title\":{\"x\":0.05},\"xaxis\":{\"automargin\":true,\"gridcolor\":\"#EBF0F8\",\"linecolor\":\"#EBF0F8\",\"ticks\":\"\",\"title\":{\"standoff\":15},\"zerolinecolor\":\"#EBF0F8\",\"zerolinewidth\":2},\"yaxis\":{\"automargin\":true,\"gridcolor\":\"#EBF0F8\",\"linecolor\":\"#EBF0F8\",\"ticks\":\"\",\"title\":{\"standoff\":15},\"zerolinecolor\":\"#EBF0F8\",\"zerolinewidth\":2}}},\"autosize\":false,\"width\":1200,\"height\":800,\"title\":{\"text\":\"Score change of adjective colocates across the years\"},\"xaxis\":{\"title\":{\"text\":\"Label\"}},\"yaxis\":{\"title\":{\"text\":\"Score Normalized\"}}},                        {\"responsive\": true}                    ).then(function(){\n                            \nvar gd = document.getElementById('ef4892f7-b82c-46a5-875d-ff9ac444ca62');\nvar x = new MutationObserver(function (mutations, observer) {{\n        var display = window.getComputedStyle(gd).display;\n        if (!display || display === 'none') {{\n            console.log([gd, 'removed!']);\n            Plotly.purge(gd);\n            observer.disconnect();\n        }}\n}});\n\n// Listen for the removal of the full notebook cells\nvar notebookContainer = gd.closest('#notebook-container');\nif (notebookContainer) {{\n    x.observe(notebookContainer, {childList: true});\n}}\n\n// Listen for the clearing of the current output cell\nvar outputEl = gd.closest('.output');\nif (outputEl) {{\n    x.observe(outputEl, {childList: true});\n}}\n\n                        })                };                });            </script>        </div>"
     },
     "metadata": {},
     "output_type": "display_data"
    }
   ],
   "source": [
    "df_output_filtered = df_output.groupby('colocate').filter(lambda x:  np.std(x.score_normalized)  >= 0.00015)\n",
    "\n",
    "# Create a new figure\n",
    "fig = go.Figure()\n",
    "\n",
    "# Add a trace for each unique 'colocate' in the DataFrame\n",
    "for colocate in df_output_filtered['colocate'].unique():\n",
    "    df_filtered = df_output_filtered[df_output_filtered['colocate'] == colocate]\n",
    "    fig.add_trace(go.Scatter(x=df_filtered['label'], y=df_filtered['score_normalized'], mode='lines', name=colocate))\n",
    "\n",
    "# Update layout\n",
    "fig.update_layout(autosize=False, width=1200, height=800,\n",
    "                  title='Score change of adjective colocates across the years',\n",
    "                  xaxis_title='Label',\n",
    "                  yaxis_title='Score Normalized',\n",
    "                  template='plotly_white'\n",
    "                  )\n",
    "\n",
    "# Save the figure as an image and display it\n",
    "fig.write_image('output/colocates/colocates_adj_by_years_stem.png')\n",
    "fig.show()"
   ],
   "metadata": {
    "collapsed": false,
    "ExecuteTime": {
     "end_time": "2024-05-23T13:59:00.263299Z",
     "start_time": "2024-05-23T13:59:00.078756Z"
    }
   },
   "id": "dba8a05c35c1a11b",
   "execution_count": 56
  },
  {
   "cell_type": "code",
   "outputs": [
    {
     "data": {
      "text/plain": "          colocate label  score_normalized        score\n278  international   nyt      6.122286e-03  1794.576812\n130       domestic   nyt      5.512556e-03  1615.851336\n222         guilty   nyt      2.548158e-04    74.692129\n216        graphic   nyt      1.865417e-04    54.679486\n328         modern   nyt      1.613610e-04    47.298459\n..             ...   ...               ...          ...\n337      municipal   nyt      1.039348e-08     0.003047\n181      fanatical   nyt      1.039348e-08     0.003047\n552  uncomfortable   nyt      9.507789e-09     0.002787\n416     productive   nyt      4.106974e-09     0.001204\n521  technological   nyt      1.424656e-09     0.000418\n\n[631 rows x 4 columns]",
      "text/html": "<div>\n<style scoped>\n    .dataframe tbody tr th:only-of-type {\n        vertical-align: middle;\n    }\n\n    .dataframe tbody tr th {\n        vertical-align: top;\n    }\n\n    .dataframe thead th {\n        text-align: right;\n    }\n</style>\n<table border=\"1\" class=\"dataframe\">\n  <thead>\n    <tr style=\"text-align: right;\">\n      <th></th>\n      <th>colocate</th>\n      <th>label</th>\n      <th>score_normalized</th>\n      <th>score</th>\n    </tr>\n  </thead>\n  <tbody>\n    <tr>\n      <th>278</th>\n      <td>international</td>\n      <td>nyt</td>\n      <td>6.122286e-03</td>\n      <td>1794.576812</td>\n    </tr>\n    <tr>\n      <th>130</th>\n      <td>domestic</td>\n      <td>nyt</td>\n      <td>5.512556e-03</td>\n      <td>1615.851336</td>\n    </tr>\n    <tr>\n      <th>222</th>\n      <td>guilty</td>\n      <td>nyt</td>\n      <td>2.548158e-04</td>\n      <td>74.692129</td>\n    </tr>\n    <tr>\n      <th>216</th>\n      <td>graphic</td>\n      <td>nyt</td>\n      <td>1.865417e-04</td>\n      <td>54.679486</td>\n    </tr>\n    <tr>\n      <th>328</th>\n      <td>modern</td>\n      <td>nyt</td>\n      <td>1.613610e-04</td>\n      <td>47.298459</td>\n    </tr>\n    <tr>\n      <th>...</th>\n      <td>...</td>\n      <td>...</td>\n      <td>...</td>\n      <td>...</td>\n    </tr>\n    <tr>\n      <th>337</th>\n      <td>municipal</td>\n      <td>nyt</td>\n      <td>1.039348e-08</td>\n      <td>0.003047</td>\n    </tr>\n    <tr>\n      <th>181</th>\n      <td>fanatical</td>\n      <td>nyt</td>\n      <td>1.039348e-08</td>\n      <td>0.003047</td>\n    </tr>\n    <tr>\n      <th>552</th>\n      <td>uncomfortable</td>\n      <td>nyt</td>\n      <td>9.507789e-09</td>\n      <td>0.002787</td>\n    </tr>\n    <tr>\n      <th>416</th>\n      <td>productive</td>\n      <td>nyt</td>\n      <td>4.106974e-09</td>\n      <td>0.001204</td>\n    </tr>\n    <tr>\n      <th>521</th>\n      <td>technological</td>\n      <td>nyt</td>\n      <td>1.424656e-09</td>\n      <td>0.000418</td>\n    </tr>\n  </tbody>\n</table>\n<p>631 rows × 4 columns</p>\n</div>"
     },
     "execution_count": 57,
     "metadata": {},
     "output_type": "execute_result"
    }
   ],
   "source": [
    "df5 = df.loc[df['publisher'] == 'the new york times'] \n",
    "res5 = get_colocates(df5['cleaned_text_adj'], 'nyt')\n",
    "res5 = res5.sort_values(by='score_normalized', ascending=False)\n",
    "res5"
   ],
   "metadata": {
    "collapsed": false,
    "ExecuteTime": {
     "end_time": "2024-05-23T13:59:04.478893Z",
     "start_time": "2024-05-23T13:59:02.651Z"
    }
   },
   "id": "ad996d729adb4d62",
   "execution_count": 57
  },
  {
   "cell_type": "code",
   "outputs": [
    {
     "data": {
      "text/plain": "          colocate label  score_normalized       score\n105  international   ppg      7.288690e-03  265.410374\n55        domestic   ppg      3.984872e-03  145.105120\n38   controversial   ppg      4.099391e-04   14.927521\n72         federal   ppg      3.706510e-04   13.496886\n240     vulnerable   ppg      3.535614e-04   12.874584\n..             ...   ...               ...         ...\n26      commercial   ppg      4.111544e-07    0.014972\n250          worst   ppg      2.660188e-07    0.009687\n53      diplomatic   ppg      6.226471e-08    0.002267\n164           poor   ppg      1.090156e-08    0.000397\n19           broad   ppg      3.597533e-11    0.000001\n\n[253 rows x 4 columns]",
      "text/html": "<div>\n<style scoped>\n    .dataframe tbody tr th:only-of-type {\n        vertical-align: middle;\n    }\n\n    .dataframe tbody tr th {\n        vertical-align: top;\n    }\n\n    .dataframe thead th {\n        text-align: right;\n    }\n</style>\n<table border=\"1\" class=\"dataframe\">\n  <thead>\n    <tr style=\"text-align: right;\">\n      <th></th>\n      <th>colocate</th>\n      <th>label</th>\n      <th>score_normalized</th>\n      <th>score</th>\n    </tr>\n  </thead>\n  <tbody>\n    <tr>\n      <th>105</th>\n      <td>international</td>\n      <td>ppg</td>\n      <td>7.288690e-03</td>\n      <td>265.410374</td>\n    </tr>\n    <tr>\n      <th>55</th>\n      <td>domestic</td>\n      <td>ppg</td>\n      <td>3.984872e-03</td>\n      <td>145.105120</td>\n    </tr>\n    <tr>\n      <th>38</th>\n      <td>controversial</td>\n      <td>ppg</td>\n      <td>4.099391e-04</td>\n      <td>14.927521</td>\n    </tr>\n    <tr>\n      <th>72</th>\n      <td>federal</td>\n      <td>ppg</td>\n      <td>3.706510e-04</td>\n      <td>13.496886</td>\n    </tr>\n    <tr>\n      <th>240</th>\n      <td>vulnerable</td>\n      <td>ppg</td>\n      <td>3.535614e-04</td>\n      <td>12.874584</td>\n    </tr>\n    <tr>\n      <th>...</th>\n      <td>...</td>\n      <td>...</td>\n      <td>...</td>\n      <td>...</td>\n    </tr>\n    <tr>\n      <th>26</th>\n      <td>commercial</td>\n      <td>ppg</td>\n      <td>4.111544e-07</td>\n      <td>0.014972</td>\n    </tr>\n    <tr>\n      <th>250</th>\n      <td>worst</td>\n      <td>ppg</td>\n      <td>2.660188e-07</td>\n      <td>0.009687</td>\n    </tr>\n    <tr>\n      <th>53</th>\n      <td>diplomatic</td>\n      <td>ppg</td>\n      <td>6.226471e-08</td>\n      <td>0.002267</td>\n    </tr>\n    <tr>\n      <th>164</th>\n      <td>poor</td>\n      <td>ppg</td>\n      <td>1.090156e-08</td>\n      <td>0.000397</td>\n    </tr>\n    <tr>\n      <th>19</th>\n      <td>broad</td>\n      <td>ppg</td>\n      <td>3.597533e-11</td>\n      <td>0.000001</td>\n    </tr>\n  </tbody>\n</table>\n<p>253 rows × 4 columns</p>\n</div>"
     },
     "execution_count": 58,
     "metadata": {},
     "output_type": "execute_result"
    }
   ],
   "source": [
    "df6 = df.loc[df['publisher'] == 'pittsburgh post-gazette'] \n",
    "res6 = get_colocates(df6['cleaned_text_adj'], 'ppg')\n",
    "res6 = res6.sort_values(by='score_normalized', ascending=False)\n",
    "res6"
   ],
   "metadata": {
    "collapsed": false,
    "ExecuteTime": {
     "end_time": "2024-05-23T13:59:26.688840Z",
     "start_time": "2024-05-23T13:59:26.428099Z"
    }
   },
   "id": "8f574708c450ea29",
   "execution_count": 58
  },
  {
   "cell_type": "code",
   "outputs": [],
   "source": [
    "\n",
    "df_output_by_media = pd.concat([res5, res6])\n",
    "df_output_by_media.to_csv('output/colocates/colocates_adj_by_media_stem.csv', index=False)\n"
   ],
   "metadata": {
    "collapsed": false,
    "ExecuteTime": {
     "end_time": "2024-05-23T13:59:36.305879Z",
     "start_time": "2024-05-23T13:59:36.292734Z"
    }
   },
   "id": "5c7a577ddf25a9a6",
   "execution_count": 59
  },
  {
   "cell_type": "code",
   "outputs": [
    {
     "data": {
      "text/plain": "          colocate label  score_normalized      score\n122     dictionary   nyt          0.000101  29.596669\n516     synonymous   nyt          0.000087  25.638688\n503    subnational   nyt          0.000072  21.160659\n248   incalculable   nyt          0.000071  20.766657\n207        gaseous   nyt          0.000071  20.706801\n62          bubble   nyt          0.000066  19.340740\n413       probable   nyt          0.000052  15.225488\n535  transnational   nyt          0.000050  14.768094\n573          unite   nyt          0.000046  13.485047\n212       glorious   nyt          0.000043  12.679201\n356         normal   nyt          0.000043  12.500320\n560    understated   nyt          0.000040  11.670975\n74      charitable   nyt          0.000039  11.415143\n331     moralistic   nyt          0.000038  11.231201\n375     oratorical   nyt          0.000038  11.231201\n47         average   nyt          0.000037  10.707842\n220          green   nyt          0.000036  10.511817\n487  sophisticated   nyt          0.000036  10.473834\n422     punishable   nyt          0.000035  10.405039\n179       familiar   nyt          0.000035  10.335344",
      "text/html": "<div>\n<style scoped>\n    .dataframe tbody tr th:only-of-type {\n        vertical-align: middle;\n    }\n\n    .dataframe tbody tr th {\n        vertical-align: top;\n    }\n\n    .dataframe thead th {\n        text-align: right;\n    }\n</style>\n<table border=\"1\" class=\"dataframe\">\n  <thead>\n    <tr style=\"text-align: right;\">\n      <th></th>\n      <th>colocate</th>\n      <th>label</th>\n      <th>score_normalized</th>\n      <th>score</th>\n    </tr>\n  </thead>\n  <tbody>\n    <tr>\n      <th>122</th>\n      <td>dictionary</td>\n      <td>nyt</td>\n      <td>0.000101</td>\n      <td>29.596669</td>\n    </tr>\n    <tr>\n      <th>516</th>\n      <td>synonymous</td>\n      <td>nyt</td>\n      <td>0.000087</td>\n      <td>25.638688</td>\n    </tr>\n    <tr>\n      <th>503</th>\n      <td>subnational</td>\n      <td>nyt</td>\n      <td>0.000072</td>\n      <td>21.160659</td>\n    </tr>\n    <tr>\n      <th>248</th>\n      <td>incalculable</td>\n      <td>nyt</td>\n      <td>0.000071</td>\n      <td>20.766657</td>\n    </tr>\n    <tr>\n      <th>207</th>\n      <td>gaseous</td>\n      <td>nyt</td>\n      <td>0.000071</td>\n      <td>20.706801</td>\n    </tr>\n    <tr>\n      <th>62</th>\n      <td>bubble</td>\n      <td>nyt</td>\n      <td>0.000066</td>\n      <td>19.340740</td>\n    </tr>\n    <tr>\n      <th>413</th>\n      <td>probable</td>\n      <td>nyt</td>\n      <td>0.000052</td>\n      <td>15.225488</td>\n    </tr>\n    <tr>\n      <th>535</th>\n      <td>transnational</td>\n      <td>nyt</td>\n      <td>0.000050</td>\n      <td>14.768094</td>\n    </tr>\n    <tr>\n      <th>573</th>\n      <td>unite</td>\n      <td>nyt</td>\n      <td>0.000046</td>\n      <td>13.485047</td>\n    </tr>\n    <tr>\n      <th>212</th>\n      <td>glorious</td>\n      <td>nyt</td>\n      <td>0.000043</td>\n      <td>12.679201</td>\n    </tr>\n    <tr>\n      <th>356</th>\n      <td>normal</td>\n      <td>nyt</td>\n      <td>0.000043</td>\n      <td>12.500320</td>\n    </tr>\n    <tr>\n      <th>560</th>\n      <td>understated</td>\n      <td>nyt</td>\n      <td>0.000040</td>\n      <td>11.670975</td>\n    </tr>\n    <tr>\n      <th>74</th>\n      <td>charitable</td>\n      <td>nyt</td>\n      <td>0.000039</td>\n      <td>11.415143</td>\n    </tr>\n    <tr>\n      <th>331</th>\n      <td>moralistic</td>\n      <td>nyt</td>\n      <td>0.000038</td>\n      <td>11.231201</td>\n    </tr>\n    <tr>\n      <th>375</th>\n      <td>oratorical</td>\n      <td>nyt</td>\n      <td>0.000038</td>\n      <td>11.231201</td>\n    </tr>\n    <tr>\n      <th>47</th>\n      <td>average</td>\n      <td>nyt</td>\n      <td>0.000037</td>\n      <td>10.707842</td>\n    </tr>\n    <tr>\n      <th>220</th>\n      <td>green</td>\n      <td>nyt</td>\n      <td>0.000036</td>\n      <td>10.511817</td>\n    </tr>\n    <tr>\n      <th>487</th>\n      <td>sophisticated</td>\n      <td>nyt</td>\n      <td>0.000036</td>\n      <td>10.473834</td>\n    </tr>\n    <tr>\n      <th>422</th>\n      <td>punishable</td>\n      <td>nyt</td>\n      <td>0.000035</td>\n      <td>10.405039</td>\n    </tr>\n    <tr>\n      <th>179</th>\n      <td>familiar</td>\n      <td>nyt</td>\n      <td>0.000035</td>\n      <td>10.335344</td>\n    </tr>\n  </tbody>\n</table>\n</div>"
     },
     "execution_count": 61,
     "metadata": {},
     "output_type": "execute_result"
    }
   ],
   "source": [
    "# list top 20 colocates that is unique to NYT \n",
    "df_output_by_media_unique_nyt = df_output_by_media.groupby('colocate').filter(lambda x:  len(x) == 1)\n",
    "df_output_by_media_unique_nyt = df_output_by_media_unique_nyt.loc[df_output_by_media_unique_nyt['label'] == 'nyt']\n",
    "df_output_by_media_unique_nyt = df_output_by_media_unique_nyt.sort_values(by='score_normalized', ascending=False)\n",
    "df_output_by_media_unique_nyt.to_csv('output/colocates/colocates_adj_by_media_unique_nyt_stem.csv', index=False)\n",
    "df_output_by_media_unique_nyt[:20]"
   ],
   "metadata": {
    "collapsed": false,
    "ExecuteTime": {
     "end_time": "2024-05-23T14:00:10.330091Z",
     "start_time": "2024-05-23T14:00:10.309269Z"
    }
   },
   "id": "e74451907acb092f",
   "execution_count": 61
  },
  {
   "cell_type": "code",
   "outputs": [
    {
     "data": {
      "text/plain": "           colocate label  score_normalized      score\n231       unethical   ppg          0.000288  10.487518\n188      ridiculous   ppg          0.000164   5.956542\n230  undersecretary   ppg          0.000121   4.414064\n236        unsealed   ppg          0.000070   2.534198\n57           duncan   ppg          0.000008   0.288870",
      "text/html": "<div>\n<style scoped>\n    .dataframe tbody tr th:only-of-type {\n        vertical-align: middle;\n    }\n\n    .dataframe tbody tr th {\n        vertical-align: top;\n    }\n\n    .dataframe thead th {\n        text-align: right;\n    }\n</style>\n<table border=\"1\" class=\"dataframe\">\n  <thead>\n    <tr style=\"text-align: right;\">\n      <th></th>\n      <th>colocate</th>\n      <th>label</th>\n      <th>score_normalized</th>\n      <th>score</th>\n    </tr>\n  </thead>\n  <tbody>\n    <tr>\n      <th>231</th>\n      <td>unethical</td>\n      <td>ppg</td>\n      <td>0.000288</td>\n      <td>10.487518</td>\n    </tr>\n    <tr>\n      <th>188</th>\n      <td>ridiculous</td>\n      <td>ppg</td>\n      <td>0.000164</td>\n      <td>5.956542</td>\n    </tr>\n    <tr>\n      <th>230</th>\n      <td>undersecretary</td>\n      <td>ppg</td>\n      <td>0.000121</td>\n      <td>4.414064</td>\n    </tr>\n    <tr>\n      <th>236</th>\n      <td>unsealed</td>\n      <td>ppg</td>\n      <td>0.000070</td>\n      <td>2.534198</td>\n    </tr>\n    <tr>\n      <th>57</th>\n      <td>duncan</td>\n      <td>ppg</td>\n      <td>0.000008</td>\n      <td>0.288870</td>\n    </tr>\n  </tbody>\n</table>\n</div>"
     },
     "execution_count": 62,
     "metadata": {},
     "output_type": "execute_result"
    }
   ],
   "source": [
    "# list top 20 colocates that is unique to PPG\n",
    "df_output_by_media_unique_ppg = df_output_by_media.groupby('colocate').filter(lambda x:  len(x) == 1)\n",
    "df_output_by_media_unique_ppg = df_output_by_media_unique_ppg.loc[df_output_by_media_unique_ppg['label'] == 'ppg']\n",
    "df_output_by_media_unique_ppg = df_output_by_media_unique_ppg.sort_values(by='score_normalized', ascending=False)\n",
    "df_output_by_media_unique_ppg.to_csv('output/colocates/colocates_adj_by_media_unique_ppg_stem.csv', index=False)\n",
    "df_output_by_media_unique_ppg[:20]"
   ],
   "metadata": {
    "collapsed": false,
    "ExecuteTime": {
     "end_time": "2024-05-23T14:00:20.171594Z",
     "start_time": "2024-05-23T14:00:20.155837Z"
    }
   },
   "id": "4cd4ac3037161fcf",
   "execution_count": 62
  },
  {
   "cell_type": "code",
   "outputs": [
    {
     "data": {
      "application/vnd.plotly.v1+json": {
       "data": [
        {
         "name": "NYT",
         "x": [
          "controversial",
          "domestic",
          "federal",
          "guilty",
          "international",
          "obvious",
          "pleased",
          "vulnerable"
         ],
         "y": [
          9.784718988683831E-6,
          0.005512555646965633,
          1.3828219829954393E-4,
          2.5481584116116604E-4,
          0.006122286322865445,
          1.1902730655356253E-5,
          3.5014263703263904E-6,
          9.880171768584023E-6
         ],
         "type": "bar"
        },
        {
         "name": "PPG",
         "x": [
          "controversial",
          "domestic",
          "federal",
          "guilty",
          "international",
          "obvious",
          "pleased",
          "vulnerable"
         ],
         "y": [
          4.099390709791404E-4,
          0.0039848717652287225,
          3.70651019690116E-4,
          4.6825173012473725E-5,
          0.007288690460398952,
          3.079121270819183E-4,
          2.3158939808768663E-4,
          3.5356136808606744E-4
         ],
         "type": "bar"
        }
       ],
       "layout": {
        "template": {
         "data": {
          "barpolar": [
           {
            "marker": {
             "line": {
              "color": "white",
              "width": 0.5
             },
             "pattern": {
              "fillmode": "overlay",
              "size": 10,
              "solidity": 0.2
             }
            },
            "type": "barpolar"
           }
          ],
          "bar": [
           {
            "error_x": {
             "color": "#2a3f5f"
            },
            "error_y": {
             "color": "#2a3f5f"
            },
            "marker": {
             "line": {
              "color": "white",
              "width": 0.5
             },
             "pattern": {
              "fillmode": "overlay",
              "size": 10,
              "solidity": 0.2
             }
            },
            "type": "bar"
           }
          ],
          "carpet": [
           {
            "aaxis": {
             "endlinecolor": "#2a3f5f",
             "gridcolor": "#C8D4E3",
             "linecolor": "#C8D4E3",
             "minorgridcolor": "#C8D4E3",
             "startlinecolor": "#2a3f5f"
            },
            "baxis": {
             "endlinecolor": "#2a3f5f",
             "gridcolor": "#C8D4E3",
             "linecolor": "#C8D4E3",
             "minorgridcolor": "#C8D4E3",
             "startlinecolor": "#2a3f5f"
            },
            "type": "carpet"
           }
          ],
          "choropleth": [
           {
            "colorbar": {
             "outlinewidth": 0,
             "ticks": ""
            },
            "type": "choropleth"
           }
          ],
          "contourcarpet": [
           {
            "colorbar": {
             "outlinewidth": 0,
             "ticks": ""
            },
            "type": "contourcarpet"
           }
          ],
          "contour": [
           {
            "colorbar": {
             "outlinewidth": 0,
             "ticks": ""
            },
            "colorscale": [
             [
              0.0,
              "#0d0887"
             ],
             [
              0.1111111111111111,
              "#46039f"
             ],
             [
              0.2222222222222222,
              "#7201a8"
             ],
             [
              0.3333333333333333,
              "#9c179e"
             ],
             [
              0.4444444444444444,
              "#bd3786"
             ],
             [
              0.5555555555555556,
              "#d8576b"
             ],
             [
              0.6666666666666666,
              "#ed7953"
             ],
             [
              0.7777777777777778,
              "#fb9f3a"
             ],
             [
              0.8888888888888888,
              "#fdca26"
             ],
             [
              1.0,
              "#f0f921"
             ]
            ],
            "type": "contour"
           }
          ],
          "heatmapgl": [
           {
            "colorbar": {
             "outlinewidth": 0,
             "ticks": ""
            },
            "colorscale": [
             [
              0.0,
              "#0d0887"
             ],
             [
              0.1111111111111111,
              "#46039f"
             ],
             [
              0.2222222222222222,
              "#7201a8"
             ],
             [
              0.3333333333333333,
              "#9c179e"
             ],
             [
              0.4444444444444444,
              "#bd3786"
             ],
             [
              0.5555555555555556,
              "#d8576b"
             ],
             [
              0.6666666666666666,
              "#ed7953"
             ],
             [
              0.7777777777777778,
              "#fb9f3a"
             ],
             [
              0.8888888888888888,
              "#fdca26"
             ],
             [
              1.0,
              "#f0f921"
             ]
            ],
            "type": "heatmapgl"
           }
          ],
          "heatmap": [
           {
            "colorbar": {
             "outlinewidth": 0,
             "ticks": ""
            },
            "colorscale": [
             [
              0.0,
              "#0d0887"
             ],
             [
              0.1111111111111111,
              "#46039f"
             ],
             [
              0.2222222222222222,
              "#7201a8"
             ],
             [
              0.3333333333333333,
              "#9c179e"
             ],
             [
              0.4444444444444444,
              "#bd3786"
             ],
             [
              0.5555555555555556,
              "#d8576b"
             ],
             [
              0.6666666666666666,
              "#ed7953"
             ],
             [
              0.7777777777777778,
              "#fb9f3a"
             ],
             [
              0.8888888888888888,
              "#fdca26"
             ],
             [
              1.0,
              "#f0f921"
             ]
            ],
            "type": "heatmap"
           }
          ],
          "histogram2dcontour": [
           {
            "colorbar": {
             "outlinewidth": 0,
             "ticks": ""
            },
            "colorscale": [
             [
              0.0,
              "#0d0887"
             ],
             [
              0.1111111111111111,
              "#46039f"
             ],
             [
              0.2222222222222222,
              "#7201a8"
             ],
             [
              0.3333333333333333,
              "#9c179e"
             ],
             [
              0.4444444444444444,
              "#bd3786"
             ],
             [
              0.5555555555555556,
              "#d8576b"
             ],
             [
              0.6666666666666666,
              "#ed7953"
             ],
             [
              0.7777777777777778,
              "#fb9f3a"
             ],
             [
              0.8888888888888888,
              "#fdca26"
             ],
             [
              1.0,
              "#f0f921"
             ]
            ],
            "type": "histogram2dcontour"
           }
          ],
          "histogram2d": [
           {
            "colorbar": {
             "outlinewidth": 0,
             "ticks": ""
            },
            "colorscale": [
             [
              0.0,
              "#0d0887"
             ],
             [
              0.1111111111111111,
              "#46039f"
             ],
             [
              0.2222222222222222,
              "#7201a8"
             ],
             [
              0.3333333333333333,
              "#9c179e"
             ],
             [
              0.4444444444444444,
              "#bd3786"
             ],
             [
              0.5555555555555556,
              "#d8576b"
             ],
             [
              0.6666666666666666,
              "#ed7953"
             ],
             [
              0.7777777777777778,
              "#fb9f3a"
             ],
             [
              0.8888888888888888,
              "#fdca26"
             ],
             [
              1.0,
              "#f0f921"
             ]
            ],
            "type": "histogram2d"
           }
          ],
          "histogram": [
           {
            "marker": {
             "pattern": {
              "fillmode": "overlay",
              "size": 10,
              "solidity": 0.2
             }
            },
            "type": "histogram"
           }
          ],
          "mesh3d": [
           {
            "colorbar": {
             "outlinewidth": 0,
             "ticks": ""
            },
            "type": "mesh3d"
           }
          ],
          "parcoords": [
           {
            "line": {
             "colorbar": {
              "outlinewidth": 0,
              "ticks": ""
             }
            },
            "type": "parcoords"
           }
          ],
          "pie": [
           {
            "automargin": true,
            "type": "pie"
           }
          ],
          "scatter3d": [
           {
            "line": {
             "colorbar": {
              "outlinewidth": 0,
              "ticks": ""
             }
            },
            "marker": {
             "colorbar": {
              "outlinewidth": 0,
              "ticks": ""
             }
            },
            "type": "scatter3d"
           }
          ],
          "scattercarpet": [
           {
            "marker": {
             "colorbar": {
              "outlinewidth": 0,
              "ticks": ""
             }
            },
            "type": "scattercarpet"
           }
          ],
          "scattergeo": [
           {
            "marker": {
             "colorbar": {
              "outlinewidth": 0,
              "ticks": ""
             }
            },
            "type": "scattergeo"
           }
          ],
          "scattergl": [
           {
            "marker": {
             "colorbar": {
              "outlinewidth": 0,
              "ticks": ""
             }
            },
            "type": "scattergl"
           }
          ],
          "scattermapbox": [
           {
            "marker": {
             "colorbar": {
              "outlinewidth": 0,
              "ticks": ""
             }
            },
            "type": "scattermapbox"
           }
          ],
          "scatterpolargl": [
           {
            "marker": {
             "colorbar": {
              "outlinewidth": 0,
              "ticks": ""
             }
            },
            "type": "scatterpolargl"
           }
          ],
          "scatterpolar": [
           {
            "marker": {
             "colorbar": {
              "outlinewidth": 0,
              "ticks": ""
             }
            },
            "type": "scatterpolar"
           }
          ],
          "scatter": [
           {
            "fillpattern": {
             "fillmode": "overlay",
             "size": 10,
             "solidity": 0.2
            },
            "type": "scatter"
           }
          ],
          "scatterternary": [
           {
            "marker": {
             "colorbar": {
              "outlinewidth": 0,
              "ticks": ""
             }
            },
            "type": "scatterternary"
           }
          ],
          "surface": [
           {
            "colorbar": {
             "outlinewidth": 0,
             "ticks": ""
            },
            "colorscale": [
             [
              0.0,
              "#0d0887"
             ],
             [
              0.1111111111111111,
              "#46039f"
             ],
             [
              0.2222222222222222,
              "#7201a8"
             ],
             [
              0.3333333333333333,
              "#9c179e"
             ],
             [
              0.4444444444444444,
              "#bd3786"
             ],
             [
              0.5555555555555556,
              "#d8576b"
             ],
             [
              0.6666666666666666,
              "#ed7953"
             ],
             [
              0.7777777777777778,
              "#fb9f3a"
             ],
             [
              0.8888888888888888,
              "#fdca26"
             ],
             [
              1.0,
              "#f0f921"
             ]
            ],
            "type": "surface"
           }
          ],
          "table": [
           {
            "cells": {
             "fill": {
              "color": "#EBF0F8"
             },
             "line": {
              "color": "white"
             }
            },
            "header": {
             "fill": {
              "color": "#C8D4E3"
             },
             "line": {
              "color": "white"
             }
            },
            "type": "table"
           }
          ]
         },
         "layout": {
          "annotationdefaults": {
           "arrowcolor": "#2a3f5f",
           "arrowhead": 0,
           "arrowwidth": 1
          },
          "autotypenumbers": "strict",
          "coloraxis": {
           "colorbar": {
            "outlinewidth": 0,
            "ticks": ""
           }
          },
          "colorscale": {
           "diverging": [
            [
             0,
             "#8e0152"
            ],
            [
             0.1,
             "#c51b7d"
            ],
            [
             0.2,
             "#de77ae"
            ],
            [
             0.3,
             "#f1b6da"
            ],
            [
             0.4,
             "#fde0ef"
            ],
            [
             0.5,
             "#f7f7f7"
            ],
            [
             0.6,
             "#e6f5d0"
            ],
            [
             0.7,
             "#b8e186"
            ],
            [
             0.8,
             "#7fbc41"
            ],
            [
             0.9,
             "#4d9221"
            ],
            [
             1,
             "#276419"
            ]
           ],
           "sequential": [
            [
             0.0,
             "#0d0887"
            ],
            [
             0.1111111111111111,
             "#46039f"
            ],
            [
             0.2222222222222222,
             "#7201a8"
            ],
            [
             0.3333333333333333,
             "#9c179e"
            ],
            [
             0.4444444444444444,
             "#bd3786"
            ],
            [
             0.5555555555555556,
             "#d8576b"
            ],
            [
             0.6666666666666666,
             "#ed7953"
            ],
            [
             0.7777777777777778,
             "#fb9f3a"
            ],
            [
             0.8888888888888888,
             "#fdca26"
            ],
            [
             1.0,
             "#f0f921"
            ]
           ],
           "sequentialminus": [
            [
             0.0,
             "#0d0887"
            ],
            [
             0.1111111111111111,
             "#46039f"
            ],
            [
             0.2222222222222222,
             "#7201a8"
            ],
            [
             0.3333333333333333,
             "#9c179e"
            ],
            [
             0.4444444444444444,
             "#bd3786"
            ],
            [
             0.5555555555555556,
             "#d8576b"
            ],
            [
             0.6666666666666666,
             "#ed7953"
            ],
            [
             0.7777777777777778,
             "#fb9f3a"
            ],
            [
             0.8888888888888888,
             "#fdca26"
            ],
            [
             1.0,
             "#f0f921"
            ]
           ]
          },
          "colorway": [
           "#636efa",
           "#EF553B",
           "#00cc96",
           "#ab63fa",
           "#FFA15A",
           "#19d3f3",
           "#FF6692",
           "#B6E880",
           "#FF97FF",
           "#FECB52"
          ],
          "font": {
           "color": "#2a3f5f"
          },
          "geo": {
           "bgcolor": "white",
           "lakecolor": "white",
           "landcolor": "white",
           "showlakes": true,
           "showland": true,
           "subunitcolor": "#C8D4E3"
          },
          "hoverlabel": {
           "align": "left"
          },
          "hovermode": "closest",
          "mapbox": {
           "style": "light"
          },
          "paper_bgcolor": "white",
          "plot_bgcolor": "white",
          "polar": {
           "angularaxis": {
            "gridcolor": "#EBF0F8",
            "linecolor": "#EBF0F8",
            "ticks": ""
           },
           "bgcolor": "white",
           "radialaxis": {
            "gridcolor": "#EBF0F8",
            "linecolor": "#EBF0F8",
            "ticks": ""
           }
          },
          "scene": {
           "xaxis": {
            "backgroundcolor": "white",
            "gridcolor": "#DFE8F3",
            "gridwidth": 2,
            "linecolor": "#EBF0F8",
            "showbackground": true,
            "ticks": "",
            "zerolinecolor": "#EBF0F8"
           },
           "yaxis": {
            "backgroundcolor": "white",
            "gridcolor": "#DFE8F3",
            "gridwidth": 2,
            "linecolor": "#EBF0F8",
            "showbackground": true,
            "ticks": "",
            "zerolinecolor": "#EBF0F8"
           },
           "zaxis": {
            "backgroundcolor": "white",
            "gridcolor": "#DFE8F3",
            "gridwidth": 2,
            "linecolor": "#EBF0F8",
            "showbackground": true,
            "ticks": "",
            "zerolinecolor": "#EBF0F8"
           }
          },
          "shapedefaults": {
           "line": {
            "color": "#2a3f5f"
           }
          },
          "ternary": {
           "aaxis": {
            "gridcolor": "#DFE8F3",
            "linecolor": "#A2B1C6",
            "ticks": ""
           },
           "baxis": {
            "gridcolor": "#DFE8F3",
            "linecolor": "#A2B1C6",
            "ticks": ""
           },
           "bgcolor": "white",
           "caxis": {
            "gridcolor": "#DFE8F3",
            "linecolor": "#A2B1C6",
            "ticks": ""
           }
          },
          "title": {
           "x": 0.05
          },
          "xaxis": {
           "automargin": true,
           "gridcolor": "#EBF0F8",
           "linecolor": "#EBF0F8",
           "ticks": "",
           "title": {
            "standoff": 15
           },
           "zerolinecolor": "#EBF0F8",
           "zerolinewidth": 2
          },
          "yaxis": {
           "automargin": true,
           "gridcolor": "#EBF0F8",
           "linecolor": "#EBF0F8",
           "ticks": "",
           "title": {
            "standoff": 15
           },
           "zerolinecolor": "#EBF0F8",
           "zerolinewidth": 2
          }
         }
        },
        "barmode": "group",
        "width": 1200,
        "height": 800,
        "title": {
         "text": "Normalized Scores for Adjective Colocates (NYT vs PPG)"
        },
        "xaxis": {
         "title": {
          "text": "Colocate"
         }
        },
        "yaxis": {
         "title": {
          "text": "Normalized Score"
         }
        }
       },
       "config": {
        "plotlyServerURL": "https://plot.ly"
       }
      },
      "text/html": "<div>                            <div id=\"5f7954bb-105c-47df-9ce1-18882c405909\" class=\"plotly-graph-div\" style=\"height:800px; width:1200px;\"></div>            <script type=\"text/javascript\">                require([\"plotly\"], function(Plotly) {                    window.PLOTLYENV=window.PLOTLYENV || {};                                    if (document.getElementById(\"5f7954bb-105c-47df-9ce1-18882c405909\")) {                    Plotly.newPlot(                        \"5f7954bb-105c-47df-9ce1-18882c405909\",                        [{\"name\":\"NYT\",\"x\":[\"controversial\",\"domestic\",\"federal\",\"guilty\",\"international\",\"obvious\",\"pleased\",\"vulnerable\"],\"y\":[9.784718988683831e-06,0.005512555646965633,0.00013828219829954393,0.00025481584116116604,0.006122286322865445,1.1902730655356253e-05,3.5014263703263904e-06,9.880171768584023e-06],\"type\":\"bar\"},{\"name\":\"PPG\",\"x\":[\"controversial\",\"domestic\",\"federal\",\"guilty\",\"international\",\"obvious\",\"pleased\",\"vulnerable\"],\"y\":[0.0004099390709791404,0.0039848717652287225,0.000370651019690116,4.6825173012473725e-05,0.007288690460398952,0.0003079121270819183,0.00023158939808768663,0.00035356136808606744],\"type\":\"bar\"}],                        {\"template\":{\"data\":{\"barpolar\":[{\"marker\":{\"line\":{\"color\":\"white\",\"width\":0.5},\"pattern\":{\"fillmode\":\"overlay\",\"size\":10,\"solidity\":0.2}},\"type\":\"barpolar\"}],\"bar\":[{\"error_x\":{\"color\":\"#2a3f5f\"},\"error_y\":{\"color\":\"#2a3f5f\"},\"marker\":{\"line\":{\"color\":\"white\",\"width\":0.5},\"pattern\":{\"fillmode\":\"overlay\",\"size\":10,\"solidity\":0.2}},\"type\":\"bar\"}],\"carpet\":[{\"aaxis\":{\"endlinecolor\":\"#2a3f5f\",\"gridcolor\":\"#C8D4E3\",\"linecolor\":\"#C8D4E3\",\"minorgridcolor\":\"#C8D4E3\",\"startlinecolor\":\"#2a3f5f\"},\"baxis\":{\"endlinecolor\":\"#2a3f5f\",\"gridcolor\":\"#C8D4E3\",\"linecolor\":\"#C8D4E3\",\"minorgridcolor\":\"#C8D4E3\",\"startlinecolor\":\"#2a3f5f\"},\"type\":\"carpet\"}],\"choropleth\":[{\"colorbar\":{\"outlinewidth\":0,\"ticks\":\"\"},\"type\":\"choropleth\"}],\"contourcarpet\":[{\"colorbar\":{\"outlinewidth\":0,\"ticks\":\"\"},\"type\":\"contourcarpet\"}],\"contour\":[{\"colorbar\":{\"outlinewidth\":0,\"ticks\":\"\"},\"colorscale\":[[0.0,\"#0d0887\"],[0.1111111111111111,\"#46039f\"],[0.2222222222222222,\"#7201a8\"],[0.3333333333333333,\"#9c179e\"],[0.4444444444444444,\"#bd3786\"],[0.5555555555555556,\"#d8576b\"],[0.6666666666666666,\"#ed7953\"],[0.7777777777777778,\"#fb9f3a\"],[0.8888888888888888,\"#fdca26\"],[1.0,\"#f0f921\"]],\"type\":\"contour\"}],\"heatmapgl\":[{\"colorbar\":{\"outlinewidth\":0,\"ticks\":\"\"},\"colorscale\":[[0.0,\"#0d0887\"],[0.1111111111111111,\"#46039f\"],[0.2222222222222222,\"#7201a8\"],[0.3333333333333333,\"#9c179e\"],[0.4444444444444444,\"#bd3786\"],[0.5555555555555556,\"#d8576b\"],[0.6666666666666666,\"#ed7953\"],[0.7777777777777778,\"#fb9f3a\"],[0.8888888888888888,\"#fdca26\"],[1.0,\"#f0f921\"]],\"type\":\"heatmapgl\"}],\"heatmap\":[{\"colorbar\":{\"outlinewidth\":0,\"ticks\":\"\"},\"colorscale\":[[0.0,\"#0d0887\"],[0.1111111111111111,\"#46039f\"],[0.2222222222222222,\"#7201a8\"],[0.3333333333333333,\"#9c179e\"],[0.4444444444444444,\"#bd3786\"],[0.5555555555555556,\"#d8576b\"],[0.6666666666666666,\"#ed7953\"],[0.7777777777777778,\"#fb9f3a\"],[0.8888888888888888,\"#fdca26\"],[1.0,\"#f0f921\"]],\"type\":\"heatmap\"}],\"histogram2dcontour\":[{\"colorbar\":{\"outlinewidth\":0,\"ticks\":\"\"},\"colorscale\":[[0.0,\"#0d0887\"],[0.1111111111111111,\"#46039f\"],[0.2222222222222222,\"#7201a8\"],[0.3333333333333333,\"#9c179e\"],[0.4444444444444444,\"#bd3786\"],[0.5555555555555556,\"#d8576b\"],[0.6666666666666666,\"#ed7953\"],[0.7777777777777778,\"#fb9f3a\"],[0.8888888888888888,\"#fdca26\"],[1.0,\"#f0f921\"]],\"type\":\"histogram2dcontour\"}],\"histogram2d\":[{\"colorbar\":{\"outlinewidth\":0,\"ticks\":\"\"},\"colorscale\":[[0.0,\"#0d0887\"],[0.1111111111111111,\"#46039f\"],[0.2222222222222222,\"#7201a8\"],[0.3333333333333333,\"#9c179e\"],[0.4444444444444444,\"#bd3786\"],[0.5555555555555556,\"#d8576b\"],[0.6666666666666666,\"#ed7953\"],[0.7777777777777778,\"#fb9f3a\"],[0.8888888888888888,\"#fdca26\"],[1.0,\"#f0f921\"]],\"type\":\"histogram2d\"}],\"histogram\":[{\"marker\":{\"pattern\":{\"fillmode\":\"overlay\",\"size\":10,\"solidity\":0.2}},\"type\":\"histogram\"}],\"mesh3d\":[{\"colorbar\":{\"outlinewidth\":0,\"ticks\":\"\"},\"type\":\"mesh3d\"}],\"parcoords\":[{\"line\":{\"colorbar\":{\"outlinewidth\":0,\"ticks\":\"\"}},\"type\":\"parcoords\"}],\"pie\":[{\"automargin\":true,\"type\":\"pie\"}],\"scatter3d\":[{\"line\":{\"colorbar\":{\"outlinewidth\":0,\"ticks\":\"\"}},\"marker\":{\"colorbar\":{\"outlinewidth\":0,\"ticks\":\"\"}},\"type\":\"scatter3d\"}],\"scattercarpet\":[{\"marker\":{\"colorbar\":{\"outlinewidth\":0,\"ticks\":\"\"}},\"type\":\"scattercarpet\"}],\"scattergeo\":[{\"marker\":{\"colorbar\":{\"outlinewidth\":0,\"ticks\":\"\"}},\"type\":\"scattergeo\"}],\"scattergl\":[{\"marker\":{\"colorbar\":{\"outlinewidth\":0,\"ticks\":\"\"}},\"type\":\"scattergl\"}],\"scattermapbox\":[{\"marker\":{\"colorbar\":{\"outlinewidth\":0,\"ticks\":\"\"}},\"type\":\"scattermapbox\"}],\"scatterpolargl\":[{\"marker\":{\"colorbar\":{\"outlinewidth\":0,\"ticks\":\"\"}},\"type\":\"scatterpolargl\"}],\"scatterpolar\":[{\"marker\":{\"colorbar\":{\"outlinewidth\":0,\"ticks\":\"\"}},\"type\":\"scatterpolar\"}],\"scatter\":[{\"fillpattern\":{\"fillmode\":\"overlay\",\"size\":10,\"solidity\":0.2},\"type\":\"scatter\"}],\"scatterternary\":[{\"marker\":{\"colorbar\":{\"outlinewidth\":0,\"ticks\":\"\"}},\"type\":\"scatterternary\"}],\"surface\":[{\"colorbar\":{\"outlinewidth\":0,\"ticks\":\"\"},\"colorscale\":[[0.0,\"#0d0887\"],[0.1111111111111111,\"#46039f\"],[0.2222222222222222,\"#7201a8\"],[0.3333333333333333,\"#9c179e\"],[0.4444444444444444,\"#bd3786\"],[0.5555555555555556,\"#d8576b\"],[0.6666666666666666,\"#ed7953\"],[0.7777777777777778,\"#fb9f3a\"],[0.8888888888888888,\"#fdca26\"],[1.0,\"#f0f921\"]],\"type\":\"surface\"}],\"table\":[{\"cells\":{\"fill\":{\"color\":\"#EBF0F8\"},\"line\":{\"color\":\"white\"}},\"header\":{\"fill\":{\"color\":\"#C8D4E3\"},\"line\":{\"color\":\"white\"}},\"type\":\"table\"}]},\"layout\":{\"annotationdefaults\":{\"arrowcolor\":\"#2a3f5f\",\"arrowhead\":0,\"arrowwidth\":1},\"autotypenumbers\":\"strict\",\"coloraxis\":{\"colorbar\":{\"outlinewidth\":0,\"ticks\":\"\"}},\"colorscale\":{\"diverging\":[[0,\"#8e0152\"],[0.1,\"#c51b7d\"],[0.2,\"#de77ae\"],[0.3,\"#f1b6da\"],[0.4,\"#fde0ef\"],[0.5,\"#f7f7f7\"],[0.6,\"#e6f5d0\"],[0.7,\"#b8e186\"],[0.8,\"#7fbc41\"],[0.9,\"#4d9221\"],[1,\"#276419\"]],\"sequential\":[[0.0,\"#0d0887\"],[0.1111111111111111,\"#46039f\"],[0.2222222222222222,\"#7201a8\"],[0.3333333333333333,\"#9c179e\"],[0.4444444444444444,\"#bd3786\"],[0.5555555555555556,\"#d8576b\"],[0.6666666666666666,\"#ed7953\"],[0.7777777777777778,\"#fb9f3a\"],[0.8888888888888888,\"#fdca26\"],[1.0,\"#f0f921\"]],\"sequentialminus\":[[0.0,\"#0d0887\"],[0.1111111111111111,\"#46039f\"],[0.2222222222222222,\"#7201a8\"],[0.3333333333333333,\"#9c179e\"],[0.4444444444444444,\"#bd3786\"],[0.5555555555555556,\"#d8576b\"],[0.6666666666666666,\"#ed7953\"],[0.7777777777777778,\"#fb9f3a\"],[0.8888888888888888,\"#fdca26\"],[1.0,\"#f0f921\"]]},\"colorway\":[\"#636efa\",\"#EF553B\",\"#00cc96\",\"#ab63fa\",\"#FFA15A\",\"#19d3f3\",\"#FF6692\",\"#B6E880\",\"#FF97FF\",\"#FECB52\"],\"font\":{\"color\":\"#2a3f5f\"},\"geo\":{\"bgcolor\":\"white\",\"lakecolor\":\"white\",\"landcolor\":\"white\",\"showlakes\":true,\"showland\":true,\"subunitcolor\":\"#C8D4E3\"},\"hoverlabel\":{\"align\":\"left\"},\"hovermode\":\"closest\",\"mapbox\":{\"style\":\"light\"},\"paper_bgcolor\":\"white\",\"plot_bgcolor\":\"white\",\"polar\":{\"angularaxis\":{\"gridcolor\":\"#EBF0F8\",\"linecolor\":\"#EBF0F8\",\"ticks\":\"\"},\"bgcolor\":\"white\",\"radialaxis\":{\"gridcolor\":\"#EBF0F8\",\"linecolor\":\"#EBF0F8\",\"ticks\":\"\"}},\"scene\":{\"xaxis\":{\"backgroundcolor\":\"white\",\"gridcolor\":\"#DFE8F3\",\"gridwidth\":2,\"linecolor\":\"#EBF0F8\",\"showbackground\":true,\"ticks\":\"\",\"zerolinecolor\":\"#EBF0F8\"},\"yaxis\":{\"backgroundcolor\":\"white\",\"gridcolor\":\"#DFE8F3\",\"gridwidth\":2,\"linecolor\":\"#EBF0F8\",\"showbackground\":true,\"ticks\":\"\",\"zerolinecolor\":\"#EBF0F8\"},\"zaxis\":{\"backgroundcolor\":\"white\",\"gridcolor\":\"#DFE8F3\",\"gridwidth\":2,\"linecolor\":\"#EBF0F8\",\"showbackground\":true,\"ticks\":\"\",\"zerolinecolor\":\"#EBF0F8\"}},\"shapedefaults\":{\"line\":{\"color\":\"#2a3f5f\"}},\"ternary\":{\"aaxis\":{\"gridcolor\":\"#DFE8F3\",\"linecolor\":\"#A2B1C6\",\"ticks\":\"\"},\"baxis\":{\"gridcolor\":\"#DFE8F3\",\"linecolor\":\"#A2B1C6\",\"ticks\":\"\"},\"bgcolor\":\"white\",\"caxis\":{\"gridcolor\":\"#DFE8F3\",\"linecolor\":\"#A2B1C6\",\"ticks\":\"\"}},\"title\":{\"x\":0.05},\"xaxis\":{\"automargin\":true,\"gridcolor\":\"#EBF0F8\",\"linecolor\":\"#EBF0F8\",\"ticks\":\"\",\"title\":{\"standoff\":15},\"zerolinecolor\":\"#EBF0F8\",\"zerolinewidth\":2},\"yaxis\":{\"automargin\":true,\"gridcolor\":\"#EBF0F8\",\"linecolor\":\"#EBF0F8\",\"ticks\":\"\",\"title\":{\"standoff\":15},\"zerolinecolor\":\"#EBF0F8\",\"zerolinewidth\":2}}},\"barmode\":\"group\",\"width\":1200,\"height\":800,\"title\":{\"text\":\"Normalized Scores for Adjective Colocates (NYT vs PPG)\"},\"xaxis\":{\"title\":{\"text\":\"Colocate\"}},\"yaxis\":{\"title\":{\"text\":\"Normalized Score\"}}},                        {\"responsive\": true}                    ).then(function(){\n                            \nvar gd = document.getElementById('5f7954bb-105c-47df-9ce1-18882c405909');\nvar x = new MutationObserver(function (mutations, observer) {{\n        var display = window.getComputedStyle(gd).display;\n        if (!display || display === 'none') {{\n            console.log([gd, 'removed!']);\n            Plotly.purge(gd);\n            observer.disconnect();\n        }}\n}});\n\n// Listen for the removal of the full notebook cells\nvar notebookContainer = gd.closest('#notebook-container');\nif (notebookContainer) {{\n    x.observe(notebookContainer, {childList: true});\n}}\n\n// Listen for the clearing of the current output cell\nvar outputEl = gd.closest('.output');\nif (outputEl) {{\n    x.observe(outputEl, {childList: true});\n}}\n\n                        })                };                });            </script>        </div>"
     },
     "metadata": {},
     "output_type": "display_data"
    }
   ],
   "source": [
    "df_output_by_media_filtered = df_output_by_media.groupby('colocate').filter(lambda x:  np.std(x.score_normalized)  > 0.0001)\n",
    "# remove many, new\n",
    "df_output_by_media_filtered = df_output_by_media_filtered.loc[~df_output_by_media_filtered['colocate'].isin(['many', 'new'])]\n",
    "\n",
    "# Pivot the DataFrame\n",
    "df_pivot = df_output_by_media_filtered.pivot(index='colocate', columns='label', values='score_normalized').reset_index()\n",
    "\n",
    "# Create the plot\n",
    "fig = go.Figure()\n",
    "\n",
    "# Add NYT scores\n",
    "fig.add_trace(go.Bar(\n",
    "    x=df_pivot['colocate'],\n",
    "    y=df_pivot['nyt'],\n",
    "    name='NYT'\n",
    "))\n",
    "\n",
    "# Add PPG scores\n",
    "fig.add_trace(go.Bar(\n",
    "    x=df_pivot['colocate'],\n",
    "    y=df_pivot['ppg'],\n",
    "    name='PPG'\n",
    "))\n",
    "\n",
    "# Update layout for grouped bars\n",
    "fig.update_layout(\n",
    "    barmode='group',\n",
    "    width=1200, height=800, \n",
    "    title='Normalized Scores for Adjective Colocates (NYT vs PPG)',\n",
    "    xaxis_title='Colocate',\n",
    "    yaxis_title='Normalized Score',\n",
    "    template='plotly_white'\n",
    ")\n",
    "\n",
    "fig.write_image('output/colocates/colocates_adj_by_media_stem.png')\n",
    "fig.show()\n",
    "\n"
   ],
   "metadata": {
    "collapsed": false,
    "ExecuteTime": {
     "end_time": "2024-05-23T14:00:36.616332Z",
     "start_time": "2024-05-23T14:00:36.446621Z"
    }
   },
   "id": "26a9fcf217215c0b",
   "execution_count": 63
  },
  {
   "cell_type": "markdown",
   "source": [
    "# Dynamic Topic Modeling by Years"
   ],
   "metadata": {
    "collapsed": false
   },
   "id": "98f6542b2494d7bb"
  },
  {
   "cell_type": "code",
   "outputs": [],
   "source": [
    "from bertopic import BERTopic\n",
    "\n",
    "def get_topics(df_news, topic_cnt = None):\n",
    "    news = df_news.loc[df_news['year'] >= 1980]['cleaned_text_stem'].tolist()\n",
    "    topic_model = BERTopic(verbose=True)\n",
    "    topics, probs = topic_model.fit_transform(news)\n",
    "    if topic_cnt is not None:\n",
    "        topic_model.reduce_topics(news, nr_topics=topic_cnt)\n",
    "    dates = df_news.loc[df_news['year'] >= 1980]['year'].tolist()\n",
    "    topics_over_time = topic_model.topics_over_time(news, dates, datetime_format='%Y', nr_bins=20)\n",
    "    topics_per_class_groupby = topics_over_time.groupby('Timestamp').apply(lambda x: x['Frequency'] / x['Timestamp'].sum())\n",
    "    topics_over_time['Frequency'] = topics_per_class_groupby.values\n",
    "    return topic_model, topics_over_time\n"
   ],
   "metadata": {
    "collapsed": false,
    "ExecuteTime": {
     "end_time": "2024-05-22T17:45:14.499367Z",
     "start_time": "2024-05-22T17:45:14.492787Z"
    }
   },
   "id": "ee52ef7595f380dc",
   "execution_count": 132
  },
  {
   "cell_type": "markdown",
   "source": [
    "# Without topic number reduction"
   ],
   "metadata": {
    "collapsed": false
   },
   "id": "4764baa0d575bf99"
  },
  {
   "cell_type": "code",
   "outputs": [
    {
     "name": "stderr",
     "output_type": "stream",
     "text": [
      "2024-05-22 19:45:16,300 - BERTopic - Embedding - Transforming documents to embeddings.\n"
     ]
    },
    {
     "data": {
      "text/plain": "Batches:   0%|          | 0/756 [00:00<?, ?it/s]",
      "application/vnd.jupyter.widget-view+json": {
       "version_major": 2,
       "version_minor": 0,
       "model_id": "8cb7df97370f4a4da9804b70c8eebcf4"
      }
     },
     "metadata": {},
     "output_type": "display_data"
    },
    {
     "name": "stderr",
     "output_type": "stream",
     "text": [
      "2024-05-22 19:47:09,494 - BERTopic - Embedding - Completed ✓\n",
      "2024-05-22 19:47:09,495 - BERTopic - Dimensionality - Fitting the dimensionality reduction algorithm\n",
      "2024-05-22 19:47:24,894 - BERTopic - Dimensionality - Completed ✓\n",
      "2024-05-22 19:47:24,895 - BERTopic - Cluster - Start clustering the reduced embeddings\n",
      "huggingface/tokenizers: The current process just got forked, after parallelism has already been used. Disabling parallelism to avoid deadlocks...\n",
      "To disable this warning, you can either:\n",
      "\t- Avoid using `tokenizers` before the fork if possible\n",
      "\t- Explicitly set the environment variable TOKENIZERS_PARALLELISM=(true | false)\n",
      "huggingface/tokenizers: The current process just got forked, after parallelism has already been used. Disabling parallelism to avoid deadlocks...\n",
      "To disable this warning, you can either:\n",
      "\t- Avoid using `tokenizers` before the fork if possible\n",
      "\t- Explicitly set the environment variable TOKENIZERS_PARALLELISM=(true | false)\n",
      "huggingface/tokenizers: The current process just got forked, after parallelism has already been used. Disabling parallelism to avoid deadlocks...\n",
      "To disable this warning, you can either:\n",
      "\t- Avoid using `tokenizers` before the fork if possible\n",
      "\t- Explicitly set the environment variable TOKENIZERS_PARALLELISM=(true | false)\n",
      "huggingface/tokenizers: The current process just got forked, after parallelism has already been used. Disabling parallelism to avoid deadlocks...\n",
      "To disable this warning, you can either:\n",
      "\t- Avoid using `tokenizers` before the fork if possible\n",
      "\t- Explicitly set the environment variable TOKENIZERS_PARALLELISM=(true | false)\n",
      "huggingface/tokenizers: The current process just got forked, after parallelism has already been used. Disabling parallelism to avoid deadlocks...\n",
      "To disable this warning, you can either:\n",
      "\t- Avoid using `tokenizers` before the fork if possible\n",
      "\t- Explicitly set the environment variable TOKENIZERS_PARALLELISM=(true | false)\n",
      "2024-05-22 19:47:26,202 - BERTopic - Cluster - Completed ✓\n",
      "2024-05-22 19:47:26,207 - BERTopic - Representation - Extracting topics from clusters using representation models.\n",
      "2024-05-22 19:47:31,989 - BERTopic - Representation - Completed ✓\n",
      "20it [00:18,  1.09it/s]\n",
      "/var/folders/dm/hs6ffqd576v39l4vtyx6rpg00000gn/T/ipykernel_34510/3973436959.py:11: DeprecationWarning:\n",
      "\n",
      "DataFrameGroupBy.apply operated on the grouping columns. This behavior is deprecated, and in a future version of pandas the grouping columns will be excluded from the operation. Either pass `include_groups=False` to exclude the groupings or explicitly select the grouping columns after groupby to silence this warning.\n",
      "\n"
     ]
    },
    {
     "data": {
      "text/plain": "     Topic  Count                                       Name  \\\n0       -1   8422        -1_terrorism_america_terrorist_said   \n1        0   1100          0_israel_palestinian_arafat_peace   \n2        1    567          1_insurance_insurer_coverage_risk   \n3        2    519               2_france_paris_charlie_hebdo   \n4        3    256               3_film_movie_character_novel   \n..     ...    ...                                        ...   \n306    305     10           305_shoot_hate_dandach_tomajczyk   \n307    306     10       306_ghailani_ghaith_guantanamo_trial   \n308    307     10      307_pape_suicide_fundamentalism_tiger   \n309    308     10  308_imaginary_patriotism_heinlein_patriot   \n310    309     10                309_gabbard_raese_byrd_gore   \n\n                                        Representation  \\\n0    [terrorism, america, terrorist, said, war, new...   \n1    [israel, palestinian, arafat, peace, hama, plo...   \n2    [insurance, insurer, coverage, risk, tria, bac...   \n3    [france, paris, charlie, hebdo, macron, europe...   \n4    [film, movie, character, novel, play, comedy, ...   \n..                                                 ...   \n306  [shoot, hate, dandach, tomajczyk, poem, chatta...   \n307  [ghailani, ghaith, guantanamo, trial, mohammed...   \n308  [pape, suicide, fundamentalism, tiger, bomber,...   \n309  [imaginary, patriotism, heinlein, patriot, ism...   \n310  [gabbard, raese, byrd, gore, presidential, can...   \n\n                                   Representative_Docs  \n0    [visitor national september memorial take view...  \n1    [israel palestine liberation organization whos...  \n2    [washington legislation would extend terrorism...  \n3    [man knife kill three people church nice assau...  \n4    [terrorism long dose harsh reality increase mo...  \n..                                                 ...  \n306  [four people charged connection violence polit...  \n307  [lawyer terrorism suspect spent nearly five ye...  \n308  [student faculty community member packed filen...  \n309  [washington words weapon nearly every new repo...  \n310  [voter worry terrorism cite instability throug...  \n\n[311 rows x 5 columns]",
      "text/html": "<div>\n<style scoped>\n    .dataframe tbody tr th:only-of-type {\n        vertical-align: middle;\n    }\n\n    .dataframe tbody tr th {\n        vertical-align: top;\n    }\n\n    .dataframe thead th {\n        text-align: right;\n    }\n</style>\n<table border=\"1\" class=\"dataframe\">\n  <thead>\n    <tr style=\"text-align: right;\">\n      <th></th>\n      <th>Topic</th>\n      <th>Count</th>\n      <th>Name</th>\n      <th>Representation</th>\n      <th>Representative_Docs</th>\n    </tr>\n  </thead>\n  <tbody>\n    <tr>\n      <th>0</th>\n      <td>-1</td>\n      <td>8422</td>\n      <td>-1_terrorism_america_terrorist_said</td>\n      <td>[terrorism, america, terrorist, said, war, new...</td>\n      <td>[visitor national september memorial take view...</td>\n    </tr>\n    <tr>\n      <th>1</th>\n      <td>0</td>\n      <td>1100</td>\n      <td>0_israel_palestinian_arafat_peace</td>\n      <td>[israel, palestinian, arafat, peace, hama, plo...</td>\n      <td>[israel palestine liberation organization whos...</td>\n    </tr>\n    <tr>\n      <th>2</th>\n      <td>1</td>\n      <td>567</td>\n      <td>1_insurance_insurer_coverage_risk</td>\n      <td>[insurance, insurer, coverage, risk, tria, bac...</td>\n      <td>[washington legislation would extend terrorism...</td>\n    </tr>\n    <tr>\n      <th>3</th>\n      <td>2</td>\n      <td>519</td>\n      <td>2_france_paris_charlie_hebdo</td>\n      <td>[france, paris, charlie, hebdo, macron, europe...</td>\n      <td>[man knife kill three people church nice assau...</td>\n    </tr>\n    <tr>\n      <th>4</th>\n      <td>3</td>\n      <td>256</td>\n      <td>3_film_movie_character_novel</td>\n      <td>[film, movie, character, novel, play, comedy, ...</td>\n      <td>[terrorism long dose harsh reality increase mo...</td>\n    </tr>\n    <tr>\n      <th>...</th>\n      <td>...</td>\n      <td>...</td>\n      <td>...</td>\n      <td>...</td>\n      <td>...</td>\n    </tr>\n    <tr>\n      <th>306</th>\n      <td>305</td>\n      <td>10</td>\n      <td>305_shoot_hate_dandach_tomajczyk</td>\n      <td>[shoot, hate, dandach, tomajczyk, poem, chatta...</td>\n      <td>[four people charged connection violence polit...</td>\n    </tr>\n    <tr>\n      <th>307</th>\n      <td>306</td>\n      <td>10</td>\n      <td>306_ghailani_ghaith_guantanamo_trial</td>\n      <td>[ghailani, ghaith, guantanamo, trial, mohammed...</td>\n      <td>[lawyer terrorism suspect spent nearly five ye...</td>\n    </tr>\n    <tr>\n      <th>308</th>\n      <td>307</td>\n      <td>10</td>\n      <td>307_pape_suicide_fundamentalism_tiger</td>\n      <td>[pape, suicide, fundamentalism, tiger, bomber,...</td>\n      <td>[student faculty community member packed filen...</td>\n    </tr>\n    <tr>\n      <th>309</th>\n      <td>308</td>\n      <td>10</td>\n      <td>308_imaginary_patriotism_heinlein_patriot</td>\n      <td>[imaginary, patriotism, heinlein, patriot, ism...</td>\n      <td>[washington words weapon nearly every new repo...</td>\n    </tr>\n    <tr>\n      <th>310</th>\n      <td>309</td>\n      <td>10</td>\n      <td>309_gabbard_raese_byrd_gore</td>\n      <td>[gabbard, raese, byrd, gore, presidential, can...</td>\n      <td>[voter worry terrorism cite instability throug...</td>\n    </tr>\n  </tbody>\n</table>\n<p>311 rows × 5 columns</p>\n</div>"
     },
     "execution_count": 133,
     "metadata": {},
     "output_type": "execute_result"
    }
   ],
   "source": [
    "topic_model, topics_over_time = get_topics(df)\n",
    "topic_model.get_topic_info().to_csv('output/dtm/topic_info.csv', index=False)\n",
    "topic_model.get_topic_info()"
   ],
   "metadata": {
    "collapsed": false,
    "ExecuteTime": {
     "end_time": "2024-05-22T17:47:53.347003Z",
     "start_time": "2024-05-22T17:45:16.045500Z"
    }
   },
   "id": "83ce97ea33d4eaae",
   "execution_count": 133
  },
  {
   "cell_type": "code",
   "outputs": [
    {
     "data": {
      "text/plain": "      Topic                                            Words  Frequency  \\\n0        -1  soviet, guatemala, subcommittee, reagan, denton   0.000946   \n1         0       israel, palestinian, lebanon, arab, arafat   0.000441   \n2         2           france, mitterrand, paris, jew, jewish   0.000192   \n3         3        desideria, film, fassbinder, novel, amble   0.000064   \n4         4             libya, qaddafi, colonel, reagan, oil   0.000273   \n...     ...                                              ...        ...   \n2543    299            jersey, kosher, anderson, grew, fulop   0.000026   \n2544    300   rwanda, rusesabagina, kagame, kigali, genocide   0.000029   \n2545    305                 hate, splc, shoot, crime, dayton   0.000003   \n2546    308                  ism, suffix, partisan, rac, ist   0.000013   \n2547    309             gabbard, houthi, tulsi, qaeda, saleh   0.000003   \n\n      Timestamp  \n0       1979.96  \n1       1979.96  \n2       1979.96  \n3       1979.96  \n4       1979.96  \n...         ...  \n2543    2018.00  \n2544    2018.00  \n2545    2018.00  \n2546    2018.00  \n2547    2018.00  \n\n[2548 rows x 4 columns]",
      "text/html": "<div>\n<style scoped>\n    .dataframe tbody tr th:only-of-type {\n        vertical-align: middle;\n    }\n\n    .dataframe tbody tr th {\n        vertical-align: top;\n    }\n\n    .dataframe thead th {\n        text-align: right;\n    }\n</style>\n<table border=\"1\" class=\"dataframe\">\n  <thead>\n    <tr style=\"text-align: right;\">\n      <th></th>\n      <th>Topic</th>\n      <th>Words</th>\n      <th>Frequency</th>\n      <th>Timestamp</th>\n    </tr>\n  </thead>\n  <tbody>\n    <tr>\n      <th>0</th>\n      <td>-1</td>\n      <td>soviet, guatemala, subcommittee, reagan, denton</td>\n      <td>0.000946</td>\n      <td>1979.96</td>\n    </tr>\n    <tr>\n      <th>1</th>\n      <td>0</td>\n      <td>israel, palestinian, lebanon, arab, arafat</td>\n      <td>0.000441</td>\n      <td>1979.96</td>\n    </tr>\n    <tr>\n      <th>2</th>\n      <td>2</td>\n      <td>france, mitterrand, paris, jew, jewish</td>\n      <td>0.000192</td>\n      <td>1979.96</td>\n    </tr>\n    <tr>\n      <th>3</th>\n      <td>3</td>\n      <td>desideria, film, fassbinder, novel, amble</td>\n      <td>0.000064</td>\n      <td>1979.96</td>\n    </tr>\n    <tr>\n      <th>4</th>\n      <td>4</td>\n      <td>libya, qaddafi, colonel, reagan, oil</td>\n      <td>0.000273</td>\n      <td>1979.96</td>\n    </tr>\n    <tr>\n      <th>...</th>\n      <td>...</td>\n      <td>...</td>\n      <td>...</td>\n      <td>...</td>\n    </tr>\n    <tr>\n      <th>2543</th>\n      <td>299</td>\n      <td>jersey, kosher, anderson, grew, fulop</td>\n      <td>0.000026</td>\n      <td>2018.00</td>\n    </tr>\n    <tr>\n      <th>2544</th>\n      <td>300</td>\n      <td>rwanda, rusesabagina, kagame, kigali, genocide</td>\n      <td>0.000029</td>\n      <td>2018.00</td>\n    </tr>\n    <tr>\n      <th>2545</th>\n      <td>305</td>\n      <td>hate, splc, shoot, crime, dayton</td>\n      <td>0.000003</td>\n      <td>2018.00</td>\n    </tr>\n    <tr>\n      <th>2546</th>\n      <td>308</td>\n      <td>ism, suffix, partisan, rac, ist</td>\n      <td>0.000013</td>\n      <td>2018.00</td>\n    </tr>\n    <tr>\n      <th>2547</th>\n      <td>309</td>\n      <td>gabbard, houthi, tulsi, qaeda, saleh</td>\n      <td>0.000003</td>\n      <td>2018.00</td>\n    </tr>\n  </tbody>\n</table>\n<p>2548 rows × 4 columns</p>\n</div>"
     },
     "execution_count": 134,
     "metadata": {},
     "output_type": "execute_result"
    }
   ],
   "source": [
    "topics_over_time.to_csv('output/dtm/topics_over_time.csv', index=False)\n",
    "topics_over_time\n"
   ],
   "metadata": {
    "collapsed": false,
    "ExecuteTime": {
     "end_time": "2024-05-22T17:48:34.132697Z",
     "start_time": "2024-05-22T17:48:34.110850Z"
    }
   },
   "id": "1f78280f1ea0d7f0",
   "execution_count": 134
  },
  {
   "cell_type": "code",
   "outputs": [
    {
     "data": {
      "application/vnd.plotly.v1+json": {
       "data": [
        {
         "hoverinfo": "text",
         "hovertext": [
          "<b>Topic 0</b><br>Words: israel, palestinian, lebanon, arab, arafat",
          "<b>Topic 0</b><br>Words: israel, arab, jewish, palestinian, settler",
          "<b>Topic 0</b><br>Words: israel, palestinian, arafat, arab, peace",
          "<b>Topic 0</b><br>Words: arafat, israel, palestinian, plo, shultz",
          "<b>Topic 0</b><br>Words: israel, plo, palestinian, arafat, palestine",
          "<b>Topic 0</b><br>Words: plo, israel, arafat, palestinian, palestine",
          "<b>Topic 0</b><br>Words: israel, palestinian, arafat, plo, rabin",
          "<b>Topic 0</b><br>Words: israel, palestinian, peace, arafat, hama",
          "<b>Topic 0</b><br>Words: israel, netanyahu, palestinian, arafat, peace",
          "<b>Topic 0</b><br>Words: israel, palestinian, arafat, barak, peace",
          "<b>Topic 0</b><br>Words: israel, palestinian, arafat, sharon, peace",
          "<b>Topic 0</b><br>Words: israel, palestinian, arafat, hama, peace",
          "<b>Topic 0</b><br>Words: israel, palestinian, hama, arafat, gaza",
          "<b>Topic 0</b><br>Words: israel, palestinian, hama, gaza, peace",
          "<b>Topic 0</b><br>Words: israel, palestinian, hama, gaza, arafat",
          "<b>Topic 0</b><br>Words: israel, palestinian, hama, peace, gaza",
          "<b>Topic 0</b><br>Words: israel, palestinian, hama, gaza, peace",
          "<b>Topic 0</b><br>Words: israel, palestinian, netanyahu, jewish, arafat",
          "<b>Topic 0</b><br>Words: israel, palestinian, hama, gaza, arafat",
          "<b>Topic 0</b><br>Words: palestinian, israel, uliel, jewish, ben"
         ],
         "marker": {
          "color": "#E69F00"
         },
         "mode": "lines",
         "name": "0_israel_palestinian_arafat_peace",
         "x": [
          1979.96,
          1982.0,
          1984.0,
          1986.0,
          1988.0,
          1990.0,
          1992.0,
          1994.0,
          1996.0,
          1998.0,
          2000.0,
          2002.0,
          2004.0,
          2006.0,
          2008.0,
          2010.0,
          2012.0,
          2014.0,
          2016.0,
          2018.0
         ],
         "y": [
          4.6297231593904253E-4,
          3.116281830592984E-4,
          2.4136756019990912E-4,
          4.7269663152269974E-4,
          7.877453399643141E-4,
          5.8262326123370475E-5,
          7.568736484399134E-4,
          6.858811729305563E-4,
          4.5823354025123416E-4,
          1.334668001334668E-4,
          3.1366459627329193E-4,
          2.0204514586537057E-4,
          2.4228998650098647E-4,
          1.2325660381492883E-4,
          8.003699487763233E-5,
          1.1754414739489367E-4,
          1.5435338280873765E-4,
          8.780003390897862E-5,
          1.1056129279020845E-4,
          5.56786672754201E-5
         ],
         "type": "scatter"
        },
        {
         "hoverinfo": "text",
         "hovertext": [
          "<b>Topic 1</b><br>Words: naxalite, zia, pakistan, landless, nadu",
          "<b>Topic 1</b><br>Words: sikh, punjab, gandhi, india, pakistan",
          "<b>Topic 1</b><br>Words: sikh, pakistan, gandhi, india, minister",
          "<b>Topic 1</b><br>Words: sikh, ribeiro, punjab, gandhi, pakistan",
          "<b>Topic 1</b><br>Words: sikh, punjab, hindu, singh, village",
          "<b>Topic 1</b><br>Words: gandhi, indian, assassinate, pakistan, punjab",
          "<b>Topic 1</b><br>Words: pakistan, india, fuqra, indian, islamabad",
          "<b>Topic 1</b><br>Words: pakistan, yousef, sandhu, bhutto, india",
          "<b>Topic 1</b><br>Words: pakistan, sharif, kasi, mir, india",
          "<b>Topic 1</b><br>Words: pakistan, india, kashmir, indian, musharraf",
          "<b>Topic 1</b><br>Words: pakistan, india, kashmir, musharraf, indian",
          "<b>Topic 1</b><br>Words: pakistan, musharraf, macedonia, india, boskovski",
          "<b>Topic 1</b><br>Words: pakistan, india, musharraf, indian, mumbai",
          "<b>Topic 1</b><br>Words: pakistan, india, musharraf, mumbai, indian",
          "<b>Topic 1</b><br>Words: pakistan, india, mumbai, indian, apo",
          "<b>Topic 1</b><br>Words: pakistan, india, indian, islamabad, afghanistan",
          "<b>Topic 1</b><br>Words: pakistan, india, sharif, taliban, indian",
          "<b>Topic 1</b><br>Words: pakistan, india, taliban, indian, sharif",
          "<b>Topic 1</b><br>Words: pakistan, india, indian, kashmir, modi",
          "<b>Topic 1</b><br>Words: pakistan, india, modi, indian, kashmir"
         ],
         "marker": {
          "color": "#56B4E9"
         },
         "mode": "lines",
         "name": "1_pakistan_india_indian_kashmir",
         "x": [
          1979.96,
          1982.0,
          1984.0,
          1986.0,
          1988.0,
          1990.0,
          1992.0,
          1994.0,
          1996.0,
          1998.0,
          2000.0,
          2002.0,
          2004.0,
          2006.0,
          2008.0,
          2010.0,
          2012.0,
          2014.0,
          2016.0,
          2018.0
         ],
         "y": [
          3.367071388647582E-5,
          1.1871549830830414E-4,
          3.549522944116311E-5,
          4.110405491501737E-5,
          2.8472723131240273E-5,
          7.282790765421309E-6,
          5.406240345999382E-5,
          3.68753318779869E-5,
          3.054890268341561E-5,
          1.7795573351128907E-4,
          1.3664596273291925E-4,
          4.7705103884879165E-5,
          9.518535183967326E-5,
          3.889430609271088E-4,
          4.742933029785619E-4,
          1.8861735279645728E-4,
          1.6670165343343665E-4,
          6.0551747523433524E-5,
          4.362688850640658E-4,
          3.8975067092794066E-4
         ],
         "type": "scatter"
        },
        {
         "hoverinfo": "text",
         "hovertext": [
          "<b>Topic 2</b><br>Words: insurance, grose, coverage, risk, manager",
          "<b>Topic 2</b><br>Words: exclusion, blythe, insurance, contained, clough",
          "<b>Topic 2</b><br>Words: insurance, coverage, trapnell, interrupt, business",
          "<b>Topic 2</b><br>Words: facultative, reinsure, adanio, loss, scor",
          "<b>Topic 2</b><br>Words: insurance, insurer, coverage, risk, loss",
          "<b>Topic 2</b><br>Words: insurance, coverage, insurer, tria, risk",
          "<b>Topic 2</b><br>Words: insurance, tria, insurer, risk, coverage",
          "<b>Topic 2</b><br>Words: insurance, insurer, risk, coverage, backstop",
          "<b>Topic 2</b><br>Words: insurance, backstop, insurer, risk, coverage",
          "<b>Topic 2</b><br>Words: insurance, risk, insurer, backstop, coverage",
          "<b>Topic 2</b><br>Words: insurance, tria, insurer, risk, backstop",
          "<b>Topic 2</b><br>Words: insurance, tria, coverage, risk, market",
          "<b>Topic 2</b><br>Words: insurance, coverage, insurer, art, loss",
          "<b>Topic 2</b><br>Words: insurance, insurer, business, risk, coverage"
         ],
         "marker": {
          "color": "#009E73"
         },
         "mode": "lines",
         "name": "2_insurance_insurer_coverage_risk",
         "x": [
          1988.0,
          1990.0,
          1992.0,
          1994.0,
          2000.0,
          2002.0,
          2004.0,
          2006.0,
          2008.0,
          2010.0,
          2012.0,
          2014.0,
          2016.0,
          2018.0
         ],
         "y": [
          2.8472723131240273E-5,
          2.1848372296263928E-5,
          2.3169601482854495E-5,
          7.375066375597381E-6,
          2.795031055900621E-4,
          2.7781207556488454E-4,
          3.8074140735869303E-4,
          2.2733995814753542E-4,
          4.446499715424018E-5,
          4.920452681646712E-5,
          2.346171418692812E-4,
          4.238622326640347E-5,
          1.1952572193536049E-5,
          3.897506709279407E-5
         ],
         "type": "scatter"
        },
        {
         "hoverinfo": "text",
         "hovertext": [
          "<b>Topic 3</b><br>Words: iraq, baghdad, hussein, azzawi, supplier",
          "<b>Topic 3</b><br>Words: iraq, resumption, formal, us, tie",
          "<b>Topic 3</b><br>Words: cronkite, iraq, documentary, demography, eagleburger",
          "<b>Topic 3</b><br>Words: saddam, iraq, bush, kuwait, hussein",
          "<b>Topic 3</b><br>Words: iraq, saddam, hussein, kuwait, bush",
          "<b>Topic 3</b><br>Words: iraq, saddam, kuwait, baghdad, bush",
          "<b>Topic 3</b><br>Words: iraq, pba, saddam, war, deutch",
          "<b>Topic 3</b><br>Words: feaver, casualty, iraq, mission, military",
          "<b>Topic 3</b><br>Words: iraq, saddam, bush, war, hussein",
          "<b>Topic 3</b><br>Words: iraq, bush, saddam, war, hussein",
          "<b>Topic 3</b><br>Words: iraq, bush, war, saddam, hussein",
          "<b>Topic 3</b><br>Words: iraq, saddam, war, bush, feith",
          "<b>Topic 3</b><br>Words: iraq, saddam, hussein, exile, bush",
          "<b>Topic 3</b><br>Words: democracy, war, iraq, america, perish",
          "<b>Topic 3</b><br>Words: iraq, isil, war, bush, saddam",
          "<b>Topic 3</b><br>Words: hussein, saddam, iraq, lahey, trump",
          "<b>Topic 3</b><br>Words: gallery, warp, gund, rug, exhibition",
          "<b>Topic 3</b><br>Words: iraq, hitler, war, bush, saddam"
         ],
         "marker": {
          "color": "#F0E442"
         },
         "mode": "lines",
         "name": "3_iraq_bush_saddam_war",
         "x": [
          1979.96,
          1982.0,
          1984.0,
          1988.0,
          1990.0,
          1992.0,
          1996.0,
          1998.0,
          2000.0,
          2002.0,
          2004.0,
          2006.0,
          2008.0,
          2010.0,
          2012.0,
          2014.0,
          2016.0,
          2018.0
         ],
         "y": [
          1.683535694323791E-5,
          7.419718644269009E-6,
          2.1297137664697865E-5,
          1.1389089252496109E-4,
          9.467627995047702E-5,
          5.406240345999382E-5,
          4.8878244293464976E-5,
          1.1122233344455567E-5,
          1.4285714285714287E-4,
          2.525564323317132E-4,
          2.5382760490579536E-4,
          6.573685536796204E-5,
          1.482166571808006E-5,
          2.1868678585096495E-5,
          4.939308249879604E-5,
          2.1193111633201735E-5,
          5.9762860967680245E-6,
          2.783933363771005E-5
         ],
         "type": "scatter"
        },
        {
         "hoverinfo": "text",
         "hovertext": [
          "<b>Topic 4</b><br>Words: france, mitterrand, paris, defferre, directe",
          "<b>Topic 4</b><br>Words: france, mitterrand, paris, chad, iran",
          "<b>Topic 4</b><br>Words: france, chirac, paris, abdallah, syria",
          "<b>Topic 4</b><br>Words: france, gordji, paris, iran, pasqua",
          "<b>Topic 4</b><br>Words: naccache, bakhtiar, verge, france, anis",
          "<b>Topic 4</b><br>Words: habash, nidal, france, seale, duma",
          "<b>Topic 4</b><br>Words: france, switzerland, balladur, bakhtiar, esfahani",
          "<b>Topic 4</b><br>Words: france, paris, algeria, debre, bruguiere",
          "<b>Topic 4</b><br>Words: france, cup, paris, raid, tournament",
          "<b>Topic 4</b><br>Words: naouar, lyon, france, tunisia, hassensrat",
          "<b>Topic 4</b><br>Words: france, bruguiere, gia, paris, ressam",
          "<b>Topic 4</b><br>Words: france, mirage, paris, air, warthog",
          "<b>Topic 4</b><br>Words: france, sarkozy, vimont, paris, store",
          "<b>Topic 4</b><br>Words: france, hicheur, paris, cern, pechenard",
          "<b>Topic 4</b><br>Words: france, merah, paris, toulouse, sarkozy",
          "<b>Topic 4</b><br>Words: france, mali, paris, syria, molin",
          "<b>Topic 4</b><br>Words: france, paris, hollande, molin, charlie",
          "<b>Topic 4</b><br>Words: france, paris, macron, knife, marseille",
          "<b>Topic 4</b><br>Words: france, macron, paris, hebdo, teacher"
         ],
         "marker": {
          "color": "#D55E00"
         },
         "mode": "lines",
         "name": "4_france_paris_macron_police",
         "x": [
          1979.96,
          1982.0,
          1984.0,
          1986.0,
          1988.0,
          1990.0,
          1992.0,
          1994.0,
          1996.0,
          2000.0,
          2002.0,
          2004.0,
          2006.0,
          2008.0,
          2010.0,
          2012.0,
          2014.0,
          2016.0,
          2018.0
         ],
         "y": [
          9.25944631878085E-5,
          5.935774915415207E-5,
          1.6327805542935028E-4,
          9.248412355878907E-5,
          9.490907710413424E-6,
          7.282790765421309E-6,
          2.3169601482854495E-5,
          4.4250398253584284E-5,
          2.4439122146732488E-5,
          3.1055900621118013E-6,
          5.612365162926961E-6,
          5.7688092024044395E-6,
          2.4651320762985768E-5,
          2.667899829254411E-5,
          6.833962057842655E-5,
          5.556721781114555E-5,
          1.7257248044178554E-4,
          1.0757314974182444E-4,
          1.5868420173494727E-4
         ],
         "type": "scatter"
        },
        {
         "hoverinfo": "text",
         "hovertext": [
          "<b>Topic 10</b><br>Words: amato, holtzman, crime, ahe, funds",
          "<b>Topic 10</b><br>Words: bill, senator, proposal, debate, thurmond",
          "<b>Topic 10</b><br>Words: taggant, gunpowder, nra, schumer, legislation",
          "<b>Topic 10</b><br>Words: bill, clinton, wiretap, oklahoma, legislation",
          "<b>Topic 10</b><br>Words: specter, subcommittee, jewell, committee, judiciary",
          "<b>Topic 10</b><br>Words: reepe, clinton, gore, dummy, sex",
          "<b>Topic 10</b><br>Words: bill, locke, baumgart, gregoire, keate",
          "<b>Topic 10</b><br>Words: darneille, bill, buck, mountlake, amendment",
          "<b>Topic 10</b><br>Words: bill, balkman, penalty, toure, provisions",
          "<b>Topic 10</b><br>Words: gun, vote, amendment, proposal, feinstein",
          "<b>Topic 10</b><br>Words: budd, bill, ohio, nra, portman"
         ],
         "marker": {
          "color": "#0072B2"
         },
         "mode": "lines",
         "name": "10_bill_clinton_wiretap_oklahoma",
         "x": [
          1979.96,
          1990.0,
          1992.0,
          1994.0,
          1996.0,
          1998.0,
          2000.0,
          2002.0,
          2004.0,
          2014.0,
          2016.0
         ],
         "y": [
          8.417678471618955E-6,
          1.4565581530842619E-5,
          1.5446400988569664E-5,
          0.0011431352882175939,
          3.054890268341561E-5,
          5.561116672227784E-6,
          1.8633540372670807E-5,
          2.8061825814634805E-6,
          8.65321380360666E-6,
          1.5137936880858381E-5,
          5.9762860967680245E-6
         ],
         "type": "scatter"
        },
        {
         "hoverinfo": "text",
         "hovertext": [
          "<b>Topic 11</b><br>Words: obama, barack, mccain, war, candidate",
          "<b>Topic 11</b><br>Words: obama, barack, president, muslim, afghanistan",
          "<b>Topic 11</b><br>Words: obama, romney, barack, president, syria",
          "<b>Topic 11</b><br>Words: obama, president, barack, war, iraq",
          "<b>Topic 11</b><br>Words: obama, islam, isil, president, bernardino",
          "<b>Topic 11</b><br>Words: lone, wolf, obama, gorka, gartenstein"
         ],
         "marker": {
          "color": "#CC79A7"
         },
         "mode": "lines",
         "name": "11_obama_president_barack_islam",
         "x": [
          2006.0,
          2008.0,
          2010.0,
          2012.0,
          2014.0,
          2016.0
         ],
         "y": [
          5.204167716630329E-5,
          1.0078732688294441E-4,
          3.0069433054507682E-5,
          1.6052751812108715E-4,
          1.786276551941289E-4,
          5.9762860967680245E-6
         ],
         "type": "scatter"
        },
        {
         "hoverinfo": "text",
         "hovertext": [
          "<b>Topic 13</b><br>Words: polisario, morocco, oau, mengistu, summit",
          "<b>Topic 13</b><br>Words: lago, nigeria, alake, ijewere, bola",
          "<b>Topic 13</b><br>Words: nigeria, imagedata, election, adua, yar",
          "<b>Topic 13</b><br>Words: nigeria, goodluck, rttnew, delegation, holl",
          "<b>Topic 13</b><br>Words: nigeria, colloquium, achebe, boko, haram",
          "<b>Topic 13</b><br>Words: nigeria, boko, haram, africa, girl",
          "<b>Topic 13</b><br>Words: nigeria, boko, haram, buhari, conflict",
          "<b>Topic 13</b><br>Words: nigeria, haram, boko, buhari, buratai",
          "<b>Topic 13</b><br>Words: nigeria, haram, boko, buhari, thewill"
         ],
         "marker": {
          "color": "#E69F00"
         },
         "mode": "lines",
         "name": "13_nigeria_haram_boko_buhari",
         "x": [
          1982.0,
          2002.0,
          2006.0,
          2008.0,
          2010.0,
          2012.0,
          2014.0,
          2016.0,
          2018.0
         ],
         "y": [
          7.419718644269009E-6,
          2.8061825814634805E-6,
          2.739035640331752E-6,
          2.964333143616012E-6,
          1.0934339292548247E-5,
          4.630601484262129E-5,
          3.6331048514060114E-5,
          1.225138649837445E-4,
          2.227146691016804E-4
         ],
         "type": "scatter"
        },
        {
         "hoverinfo": "text",
         "hovertext": [
          "<b>Topic 15</b><br>Words: turkey, ankara, demirel, evren, ecevit",
          "<b>Topic 15</b><br>Words: turkey, lab, jeri, evren, frightened",
          "<b>Topic 15</b><br>Words: turkey, rabin, shearith, istanbul, turkmen",
          "<b>Topic 15</b><br>Words: turkey, mongolia, ozal, turk, akbulut",
          "<b>Topic 15</b><br>Words: turkey, kurdish, csce, turk, ankara",
          "<b>Topic 15</b><br>Words: turkey, kurdish, kurd, baskaya, village",
          "<b>Topic 15</b><br>Words: turkey, territorial, integrity, nuzhet, kandemir",
          "<b>Topic 15</b><br>Words: ocalan, turkey, italy, sezgin, kurdish",
          "<b>Topic 15</b><br>Words: turkey, ocalan, pkk, istanbul, kurdish",
          "<b>Topic 15</b><br>Words: turkey, incirlik, wolfowitz, gaziantep, adana",
          "<b>Topic 15</b><br>Words: turkey, istanbul, ankara, erdogan, gosende",
          "<b>Topic 15</b><br>Words: turkey, pkk, ocalan, ankara, kurdistan",
          "<b>Topic 15</b><br>Words: turkey, kargin, kurdish, dogan, erdogan",
          "<b>Topic 15</b><br>Words: turkey, pkk, erdogan, germany, ipek",
          "<b>Topic 15</b><br>Words: turkey, kurdish, ankara, perry, nato",
          "<b>Topic 15</b><br>Words: turkey, ankara, sanli, dhkp, istanbul",
          "<b>Topic 15</b><br>Words: turkey, erdogan, ankara, istanbul, kurdish",
          "<b>Topic 15</b><br>Words: turkey, erdogan, cumhuriyet, brunson, istanbul",
          "<b>Topic 15</b><br>Words: turkey, altan, istanbul, journalist, coup"
         ],
         "marker": {
          "color": "#56B4E9"
         },
         "mode": "lines",
         "name": "15_turkey_ankara_istanbul_erdogan",
         "x": [
          1979.96,
          1982.0,
          1984.0,
          1988.0,
          1990.0,
          1992.0,
          1994.0,
          1996.0,
          1998.0,
          2000.0,
          2002.0,
          2004.0,
          2006.0,
          2008.0,
          2010.0,
          2012.0,
          2014.0,
          2016.0,
          2018.0
         ],
         "y": [
          3.70377852751234E-4,
          1.4839437288538018E-5,
          7.099045888232621E-6,
          1.898181542082685E-5,
          2.1848372296263928E-5,
          2.3169601482854495E-5,
          7.375066375597381E-6,
          1.2219561073366244E-5,
          1.668335001668335E-5,
          3.1055900621118013E-6,
          1.4030912907317401E-5,
          5.7688092024044395E-6,
          5.478071280663504E-6,
          1.1857332574464048E-5,
          1.366792411568531E-5,
          4.321894718644654E-5,
          8.174485915663526E-5,
          6.573914706444827E-5,
          1.9487533546397034E-5
         ],
         "type": "scatter"
        },
        {
         "hoverinfo": "text",
         "hovertext": [
          "<b>Topic 22</b><br>Words: libya, qaddafi, colonel, oil, tripoli",
          "<b>Topic 22</b><br>Words: libya, malta, qaddafi, mintoff, colonel",
          "<b>Topic 22</b><br>Words: libya, qaddafi, colonel, tripoli, sidra",
          "<b>Topic 22</b><br>Words: libya, qaddafi, chad, benin, colonel",
          "<b>Topic 22</b><br>Words: libya, gadhafi, qaddafi, tripoli, weapon",
          "<b>Topic 22</b><br>Words: libya, qaddafi, gadhafi, pan, tripoli",
          "<b>Topic 22</b><br>Words: libya, gadhafi, qaddafi, tripoli, sanction",
          "<b>Topic 22</b><br>Words: farrakhan, libya, embargo, treasury, gadhafi",
          "<b>Topic 22</b><br>Words: libya, qaddafi, tripoli, gadhafi, sanction",
          "<b>Topic 22</b><br>Words: libya, monetti, gadhafi, kusa, pan",
          "<b>Topic 22</b><br>Words: libya, gadhafi, sanction, lift, qaddafi",
          "<b>Topic 22</b><br>Words: libya, gadhafi, qaddafi, tripoli, oil",
          "<b>Topic 22</b><br>Words: libya, gadhafi, tripoli, qaddafi, lockerbie",
          "<b>Topic 22</b><br>Words: libya, gadhafi, qaddafi, brennan, tripoli",
          "<b>Topic 22</b><br>Words: libya, hifter, tripoli, gadhafi, militia",
          "<b>Topic 22</b><br>Words: libya, oil, gazzini, isi, april",
          "<b>Topic 22</b><br>Words: hifter, libya, tripoli, haftar, qaddafi"
         ],
         "marker": {
          "color": "#009E73"
         },
         "mode": "lines",
         "name": "22_libya_qaddafi_gadhafi_tripoli",
         "x": [
          1979.96,
          1982.0,
          1984.0,
          1986.0,
          1988.0,
          1990.0,
          1992.0,
          1994.0,
          1998.0,
          2000.0,
          2002.0,
          2004.0,
          2006.0,
          2010.0,
          2012.0,
          2014.0,
          2018.0
         ],
         "y": [
          1.85188926375617E-4,
          3.709859322134505E-5,
          1.4907996365288504E-4,
          4.110405491501737E-5,
          5.6945446262480546E-5,
          7.28279076542131E-5,
          6.178560395427866E-5,
          7.375066375597381E-6,
          3.33667000333667E-5,
          3.1055900621118013E-6,
          5.612365162926961E-6,
          2.88440460120222E-5,
          3.5607463324312774E-5,
          2.1868678585096495E-5,
          9.261202968524258E-6,
          3.027587376171676E-6,
          1.3919666818855024E-5
         ],
         "type": "scatter"
        },
        {
         "hoverinfo": "text",
         "hovertext": [
          "<b>Topic 23</b><br>Words: ireland, ira, northern, protestant, ulster",
          "<b>Topic 23</b><br>Words: ireland, northern, ira, britain, parade",
          "<b>Topic 23</b><br>Words: ireland, ira, tyrie, archbishop, northern",
          "<b>Topic 23</b><br>Words: ira, ireland, britain, northern, sinn",
          "<b>Topic 23</b><br>Words: ireland, northern, ira, aoh, ulster",
          "<b>Topic 23</b><br>Words: ireland, ira, northern, protestant, britain",
          "<b>Topic 23</b><br>Words: ireland, ira, northern, adams, protestant",
          "<b>Topic 23</b><br>Words: ireland, ira, sinn, fein, northern",
          "<b>Topic 23</b><br>Words: ireland, ira, northern, ahern, protestant",
          "<b>Topic 23</b><br>Words: ira, ireland, northern, dissident, protestant",
          "<b>Topic 23</b><br>Words: ireland, northern, ira, protestant, belfast",
          "<b>Topic 23</b><br>Words: mckevitt, ira, ireland, omagh, rupert",
          "<b>Topic 23</b><br>Words: ireland, ira, northern, sinn, fein",
          "<b>Topic 23</b><br>Words: ireland, northern, ira, belfast, leavey",
          "<b>Topic 23</b><br>Words: ireland, ira, northern, duffy, britain",
          "<b>Topic 23</b><br>Words: ireland, belfast, ira, northern, mabel",
          "<b>Topic 23</b><br>Words: mason, ireland, sasnett, chun, merylkornfield",
          "<b>Topic 23</b><br>Words: mckee, ireland, ira, northern, lyra"
         ],
         "marker": {
          "color": "#F0E442"
         },
         "mode": "lines",
         "name": "23_ireland_ira_northern_protestant",
         "x": [
          1979.96,
          1982.0,
          1984.0,
          1986.0,
          1988.0,
          1990.0,
          1992.0,
          1994.0,
          1996.0,
          1998.0,
          2000.0,
          2002.0,
          2004.0,
          2008.0,
          2010.0,
          2012.0,
          2014.0,
          2018.0
         ],
         "y": [
          2.1885964026209281E-4,
          1.1871549830830414E-4,
          3.549522944116311E-5,
          5.138006864377171E-5,
          3.79636308416537E-5,
          4.3696744592527856E-5,
          1.6991041087426628E-4,
          4.4250398253584284E-5,
          2.4439122146732488E-5,
          1.1122233344455567E-5,
          9.316770186335403E-6,
          2.8061825814634805E-6,
          2.0190832208415537E-5,
          5.928666287232024E-6,
          1.0934339292548247E-5,
          1.5435338280873762E-5,
          3.027587376171676E-6,
          1.1135733455084019E-5
         ],
         "type": "scatter"
        },
        {
         "hoverinfo": "text",
         "hovertext": [
          "<b>Topic 31</b><br>Words: reagan, soviet, haig, intelligence, carter",
          "<b>Topic 31</b><br>Words: reagan, soviet, nicaragua, administration, ireland",
          "<b>Topic 31</b><br>Words: reagan, iran, soviet, arms, administration",
          "<b>Topic 31</b><br>Words: reagan, ledeen, iran, spadolini, soviet",
          "<b>Topic 31</b><br>Words: yuni, reagan, extradite, bureau, hamadei",
          "<b>Topic 31</b><br>Words: reagan, iran, casey, turner, soviet",
          "<b>Topic 31</b><br>Words: fujimori, hostage, japan, bolshevik, reagan",
          "<b>Topic 31</b><br>Words: reagan, ronald, memo, papers, cruise",
          "<b>Topic 31</b><br>Words: environmental, efficiency, reagan, clean, automaker",
          "<b>Topic 31</b><br>Words: philpot, matheson, reagan, treaty, overreaction",
          "<b>Topic 31</b><br>Words: carter, reagan, romney, unpopular, decision",
          "<b>Topic 31</b><br>Words: reagan, history, trump, trip, futures",
          "<b>Topic 31</b><br>Words: reagan, endless, carter, donatelli, hostage"
         ],
         "marker": {
          "color": "#D55E00"
         },
         "mode": "lines",
         "name": "31_reagan_soviet_iran_administration",
         "x": [
          1979.96,
          1982.0,
          1984.0,
          1986.0,
          1988.0,
          1990.0,
          1996.0,
          2000.0,
          2002.0,
          2008.0,
          2010.0,
          2016.0,
          2018.0
         ],
         "y": [
          1.515182124891412E-4,
          1.483943728853802E-4,
          2.342685143116765E-4,
          8.220810983003474E-5,
          1.898181542082685E-5,
          4.3696744592527856E-5,
          6.109780536683122E-6,
          6.2111801242236025E-6,
          2.8061825814634805E-6,
          8.892999430848037E-6,
          5.467169646274124E-6,
          5.9762860967680245E-6,
          5.567866727542009E-6
         ],
         "type": "scatter"
        },
        {
         "hoverinfo": "text",
         "hovertext": [
          "<b>Topic 32</b><br>Words: salvador, nicaragua, honduras, costa, salvadoran",
          "<b>Topic 32</b><br>Words: nicaragua, salvador, salvadoran, el, honduras",
          "<b>Topic 32</b><br>Words: nicaragua, salvador, salvadoran, duarte, sandinista",
          "<b>Topic 32</b><br>Words: contra, nicaragua, sandinista, salvador, linder",
          "<b>Topic 32</b><br>Words: salvador, cristiani, arena, salvadoran, el",
          "<b>Topic 32</b><br>Words: menem, nicaragua, antonietti, dollar, salvador",
          "<b>Topic 32</b><br>Words: oas, venezuela, powell, barbados, reich",
          "<b>Topic 32</b><br>Words: honduras, salvador, reactor, putin, nicaragua",
          "<b>Topic 32</b><br>Words: nicaragua, missile, contra, sandinista, rivera",
          "<b>Topic 32</b><br>Words: salvador, salvadoran, suchitoto, saca, el",
          "<b>Topic 32</b><br>Words: platform, sonoran, knutson, graveyard, neighbor"
         ],
         "marker": {
          "color": "#0072B2"
         },
         "mode": "lines",
         "name": "32_nicaragua_salvador_salvadoran_el",
         "x": [
          1979.96,
          1982.0,
          1984.0,
          1986.0,
          1988.0,
          1992.0,
          2000.0,
          2002.0,
          2004.0,
          2006.0,
          2018.0
         ],
         "y": [
          2.777833895634255E-4,
          2.522704339051463E-4,
          7.808950477055884E-5,
          5.138006864377171E-5,
          1.898181542082685E-5,
          1.5446400988569664E-5,
          3.1055900621118013E-6,
          2.8061825814634805E-6,
          2.8844046012022197E-6,
          1.0956142561327008E-5,
          2.7839333637710047E-6
         ],
         "type": "scatter"
        },
        {
         "hoverinfo": "text",
         "hovertext": [
          "<b>Topic 36</b><br>Words: hostage, iran, honsowitz, kidnap, dr",
          "<b>Topic 36</b><br>Words: tamil, kidnap, allen, gold, jayewardene",
          "<b>Topic 36</b><br>Words: hostage, lebanon, hijack, iran, beirut",
          "<b>Topic 36</b><br>Words: hostage, iran, hamadei, lebanon, kidnap",
          "<b>Topic 36</b><br>Words: hostage, obeid, kidnap, higgin, iran",
          "<b>Topic 36</b><br>Words: hostage, iran, lebanon, turner, kidnap",
          "<b>Topic 36</b><br>Words: eslam, hostage, ol, iran, katzman",
          "<b>Topic 36</b><br>Words: hostage, bargain, kidnap, israel, lebanon",
          "<b>Topic 36</b><br>Words: hostage, lainie, philippine, sayyaf, drama",
          "<b>Topic 36</b><br>Words: hostage, iran, laingen, needham, kirtley",
          "<b>Topic 36</b><br>Words: hostage, sailor, iran, coincidence, pelosi",
          "<b>Topic 36</b><br>Words: hostage, kidnap, concession, aq, behead",
          "<b>Topic 36</b><br>Words: hostage, walton, restitution, niger, rescue"
         ],
         "marker": {
          "color": "#CC79A7"
         },
         "mode": "lines",
         "name": "36_hostage_iran_lebanon_kidnap",
         "x": [
          1979.96,
          1982.0,
          1984.0,
          1986.0,
          1988.0,
          1990.0,
          1992.0,
          1996.0,
          1998.0,
          2002.0,
          2006.0,
          2014.0,
          2018.0
         ],
         "y": [
          5.050607082971373E-5,
          7.419718644269009E-6,
          1.4907996365288504E-4,
          1.8496824711757815E-4,
          1.613454310770282E-4,
          9.467627995047702E-5,
          1.5446400988569664E-5,
          6.109780536683122E-6,
          1.1122233344455567E-5,
          8.418547744390441E-6,
          2.739035640331752E-6,
          3.027587376171676E-6,
          5.567866727542009E-6
         ],
         "type": "scatter"
        },
        {
         "hoverinfo": "text",
         "hovertext": [
          "<b>Topic 48</b><br>Words: italy, brigade, red, moro, rome",
          "<b>Topic 48</b><br>Words: italy, brigade, red, dozy, moro",
          "<b>Topic 48</b><br>Words: italy, brigade, tarantelli, eco, red",
          "<b>Topic 48</b><br>Words: italy, brigade, red, moro, priore",
          "<b>Topic 48</b><br>Words: italy, ustica, bologna, cossiga, occhetto",
          "<b>Topic 48</b><br>Words: curcio, brigade, italy, red, cossiga",
          "<b>Topic 48</b><br>Words: italy, mafia, florence, spadolini, brigade",
          "<b>Topic 48</b><br>Words: italy, brigade, red, antona, angeletti",
          "<b>Topic 48</b><br>Words: sembler, negri, italy, brigade, mel",
          "<b>Topic 48</b><br>Words: italy, chiara, moro, sgrena, bellocchio",
          "<b>Topic 48</b><br>Words: italy, petrella, brigade, sarkozy, red",
          "<b>Topic 48</b><br>Words: italy, anarchist, rome, fai, chile",
          "<b>Topic 48</b><br>Words: italy, brindisi, mafia, school, bassi",
          "<b>Topic 48</b><br>Words: italy, tyrol, germany, tyrolean, brunico",
          "<b>Topic 48</b><br>Words: ding, catania, italy, riley, junction"
         ],
         "marker": {
          "color": "#E69F00"
         },
         "mode": "lines",
         "name": "48_italy_brigade_red_moro",
         "x": [
          1979.96,
          1982.0,
          1984.0,
          1986.0,
          1988.0,
          1990.0,
          1992.0,
          2000.0,
          2002.0,
          2004.0,
          2006.0,
          2008.0,
          2010.0,
          2012.0,
          2016.0
         ],
         "y": [
          3.1145410344990133E-4,
          2.9678874577076036E-5,
          2.8396183552930485E-5,
          3.082804118626302E-5,
          9.490907710413424E-6,
          7.282790765421309E-6,
          3.861600247142416E-5,
          3.1055900621118013E-6,
          5.612365162926961E-6,
          5.7688092024044395E-6,
          5.478071280663504E-6,
          5.928666287232024E-6,
          1.0934339292548247E-5,
          3.0870676561747527E-6,
          2.9881430483840122E-6
         ],
         "type": "scatter"
        },
        {
         "hoverinfo": "text",
         "hovertext": [
          "<b>Topic 58</b><br>Words: dance, diversify, trump, platform, gerth",
          "<b>Topic 58</b><br>Words: giuliani, democrat, xiomara, plenty, conclave",
          "<b>Topic 58</b><br>Words: trump, clinton, candidate, presidential, donald",
          "<b>Topic 58</b><br>Words: trump, ban, muslim, clinton, republican"
         ],
         "marker": {
          "color": "#56B4E9"
         },
         "mode": "lines",
         "name": "58_trump_clinton_candidate_presidential",
         "x": [
          1994.0,
          2006.0,
          2014.0,
          2016.0
         ],
         "y": [
          7.375066375597381E-6,
          2.739035640331752E-6,
          1.544069561847555E-4,
          2.3905144387072098E-5
         ],
         "type": "scatter"
        },
        {
         "hoverinfo": "text",
         "hovertext": [
          "<b>Topic 76</b><br>Words: hashemi, ayatollah, montazeri, rahman, abdel",
          "<b>Topic 76</b><br>Words: rahman, abdel, sheik, nosair, salameh",
          "<b>Topic 76</b><br>Words: rahman, abdel, sheik, salem, conspiracy",
          "<b>Topic 76</b><br>Words: rashid, indict, interpreter, russell, walute",
          "<b>Topic 76</b><br>Words: farahat, guidi, weitz, hoffman, hotel",
          "<b>Topic 76</b><br>Words: mubarak, rahman, sheik, abdel, egypt",
          "<b>Topic 76</b><br>Words: rahman, abdel, egypt, blind, sadat",
          "<b>Topic 76</b><br>Words: shaabab, beaumont, ahme, inmate, rahman"
         ],
         "marker": {
          "color": "#009E73"
         },
         "mode": "lines",
         "name": "76_rahman_abdel_sheik_nosair",
         "x": [
          1986.0,
          1992.0,
          1994.0,
          1996.0,
          2002.0,
          2010.0,
          2016.0,
          2018.0
         ],
         "y": [
          2.0552027457508685E-5,
          2.625888168056843E-4,
          1.1062599563396071E-4,
          6.109780536683122E-6,
          2.8061825814634805E-6,
          2.733584823137062E-6,
          2.9881430483840122E-6,
          2.7839333637710047E-6
         ],
         "type": "scatter"
        },
        {
         "hoverinfo": "text",
         "hovertext": [
          "<b>Topic 84</b><br>Words: tsarnaev, tamerlan, boston, dzhokhar, brother",
          "<b>Topic 84</b><br>Words: tsarnaev, burke, boston, stith, marathon",
          "<b>Topic 84</b><br>Words: ciccolo, boston, tsarnaev, macinne, cooker",
          "<b>Topic 84</b><br>Words: tsarnaev, tamerlan, boston, brother, dzhokhar"
         ],
         "marker": {
          "color": "#F0E442"
         },
         "mode": "lines",
         "name": "84_tsarnaev_tamerlan_boston_dzhokhar",
         "x": [
          2012.0,
          2014.0,
          2016.0,
          2018.0
         ],
         "y": [
          1.5435338280873765E-4,
          3.027587376171676E-6,
          2.9881430483840122E-6,
          2.7839333637710047E-6
         ],
         "type": "scatter"
        },
        {
         "hoverinfo": "text",
         "hovertext": [
          "<b>Topic 94</b><br>Words: boston, turner, marketing, device, broadcasting",
          "<b>Topic 94</b><br>Words: boston, marathon, runner, krause, finish",
          "<b>Topic 94</b><br>Words: boston, bomber, marathon, stubben, penalty",
          "<b>Topic 94</b><br>Words: bauman, boston, marathon, gyllenhaal, film",
          "<b>Topic 94</b><br>Words: wray, boston, marathon, pose, domestic"
         ],
         "marker": {
          "color": "#D55E00"
         },
         "mode": "lines",
         "name": "94_boston_marathon_runner_krause",
         "x": [
          2006.0,
          2012.0,
          2014.0,
          2016.0,
          2018.0
         ],
         "y": [
          8.217106920995255E-6,
          1.2965684155933962E-4,
          3.027587376171676E-6,
          5.9762860967680245E-6,
          2.7839333637710047E-6
         ],
         "type": "scatter"
        },
        {
         "hoverinfo": "text",
         "hovertext": [
          "<b>Topic 97</b><br>Words: mahoney, ratshot, saudi, pasco, deputy",
          "<b>Topic 97</b><br>Words: kingsville, aransa, helicopter, fanto, cavazo",
          "<b>Topic 97</b><br>Words: dive, scuba, hurin, instructor, kolko",
          "<b>Topic 97</b><br>Words: pensacola, saudi, shoot, naval, alshamrani"
         ],
         "marker": {
          "color": "#0072B2"
         },
         "mode": "lines",
         "name": "97_pensacola_saudi_shoot_naval",
         "x": [
          1990.0,
          1998.0,
          2006.0,
          2018.0
         ],
         "y": [
          1.4565581530842619E-5,
          5.561116672227784E-6,
          2.739035640331752E-6,
          1.1970913464215321E-4
         ],
         "type": "scatter"
        },
        {
         "hoverinfo": "text",
         "hovertext": [
          "<b>Topic 119</b><br>Words: haig, syria, assad, israel, lebanon",
          "<b>Topic 119</b><br>Words: meridor, shamir, syria, bekaa, israel",
          "<b>Topic 119</b><br>Words: assad, papandreou, syria, greece, athens",
          "<b>Topic 119</b><br>Words: syria, assad, damascus, baker, peace",
          "<b>Topic 119</b><br>Words: assad, syria, clinton, peace, christopher",
          "<b>Topic 119</b><br>Words: sharaa, syria, restart, hammer, clinton"
         ],
         "marker": {
          "color": "#CC79A7"
         },
         "mode": "lines",
         "name": "119_assad_syria_clinton_peace",
         "x": [
          1979.96,
          1982.0,
          1984.0,
          1990.0,
          1992.0,
          1998.0
         ],
         "y": [
          8.417678471618955E-6,
          7.419718644269009E-6,
          7.099045888232621E-6,
          2.1848372296263928E-5,
          2.394192153228298E-4,
          5.561116672227784E-6
         ],
         "type": "scatter"
        },
        {
         "hoverinfo": "text",
         "hovertext": [
          "<b>Topic 129</b><br>Words: clinton, sudan, fundamentalist, mideastern, lazarte",
          "<b>Topic 129</b><br>Words: clinton, declaration, declare, deterrence, america",
          "<b>Topic 129</b><br>Words: clinton, berger, embassy, laden, strike",
          "<b>Topic 129</b><br>Words: clinton, embassy, sudan, missile, strike",
          "<b>Topic 129</b><br>Words: sheik, omar, yousef, clinton, irrelevant"
         ],
         "marker": {
          "color": "#E69F00"
         },
         "mode": "lines",
         "name": "129_clinton_berger_embassy_strike",
         "x": [
          1992.0,
          1994.0,
          1996.0,
          1998.0,
          2004.0
         ],
         "y": [
          3.089280197713933E-5,
          2.2125199126792142E-5,
          1.405249523437118E-4,
          2.2244466688911134E-5,
          2.8844046012022197E-6
         ],
         "type": "scatter"
        },
        {
         "hoverinfo": "text",
         "hovertext": [
          "<b>Topic 130</b><br>Words: marine, beirut, lebanon, commander, commission",
          "<b>Topic 130</b><br>Words: lebanon, beirut, marine, fadlallah, intelligence",
          "<b>Topic 130</b><br>Words: capture, obeid, lebanon, hizbullah, roots",
          "<b>Topic 130</b><br>Words: lebanon, albright, ban, lift, beirut",
          "<b>Topic 130</b><br>Words: lebanon, chabaan, chaaban, isf, visitor",
          "<b>Topic 130</b><br>Words: asgari, bird, lebanon, beirut, marine"
         ],
         "marker": {
          "color": "#56B4E9"
         },
         "mode": "lines",
         "name": "130_marine_lebanon_beirut_commander",
         "x": [
          1982.0,
          1984.0,
          1988.0,
          1996.0,
          2006.0,
          2012.0
         ],
         "y": [
          1.9291268475099424E-4,
          2.8396183552930485E-5,
          9.490907710413424E-6,
          6.109780536683122E-6,
          2.739035640331752E-6,
          3.0870676561747527E-6
         ],
         "type": "scatter"
        },
        {
         "hoverinfo": "text",
         "hovertext": [
          "<b>Topic 145</b><br>Words: contract, export, abrogate, trade, sanction",
          "<b>Topic 145</b><br>Words: clinton, summit, chirac, sanction, iran",
          "<b>Topic 145</b><br>Words: chirac, nuclear, france, jacque, interests"
         ],
         "marker": {
          "color": "#009E73"
         },
         "mode": "lines",
         "name": "145_clinton_summit_chirac_sanction",
         "x": [
          1982.0,
          1994.0,
          2004.0
         ],
         "y": [
          7.419718644269009E-6,
          1.9912679214112927E-4,
          2.8844046012022197E-6
         ],
         "type": "scatter"
        },
        {
         "hoverinfo": "text",
         "hovertext": [
          "<b>Topic 154</b><br>Words: abdallah, carlos, baechelin, kiejman, france",
          "<b>Topic 154</b><br>Words: hack, carlos, vienna, dr, hearst",
          "<b>Topic 154</b><br>Words: carlos, france, jackal, pasqua, sudan",
          "<b>Topic 154</b><br>Words: ramirez, carlos, necchi, france, jackal",
          "<b>Topic 154</b><br>Words: bruguiere, carlos, france, jackal, mccolgan",
          "<b>Topic 154</b><br>Words: morocco, carlos, robert, labrousse, bousquet",
          "<b>Topic 154</b><br>Words: carlos, ramirez, episode, opec, sanchez"
         ],
         "marker": {
          "color": "#F0E442"
         },
         "mode": "lines",
         "name": "154_carlos_france_ramirez_jackal",
         "x": [
          1986.0,
          1988.0,
          1992.0,
          1996.0,
          2000.0,
          2002.0,
          2010.0
         ],
         "y": [
          1.0276013728754342E-5,
          9.490907710413424E-6,
          1.5446400988569664E-4,
          1.8329341610049368E-5,
          3.1055900621118013E-6,
          2.8061825814634805E-6,
          2.733584823137062E-6
         ],
         "type": "scatter"
        },
        {
         "hoverinfo": "text",
         "hovertext": [
          "<b>Topic 178</b><br>Words: libya, qaddafi, reagan, colonel, reckless",
          "<b>Topic 178</b><br>Words: libya, reagan, qaddafi, europe, colonel",
          "<b>Topic 178</b><br>Words: libya, disagreement, qaddafi, reagan, acropol"
         ],
         "marker": {
          "color": "#D55E00"
         },
         "mode": "lines",
         "name": "178_libya_reagan_qaddafi_europe",
         "x": [
          1979.96,
          1984.0,
          1986.0
         ],
         "y": [
          8.417678471618955E-6,
          1.4198091776465243E-4,
          1.0276013728754342E-5
         ],
         "type": "scatter"
        },
        {
         "hoverinfo": "text",
         "hovertext": [
          "<b>Topic 204</b><br>Words: ressam, algeria, garofalo, holiday, customs",
          "<b>Topic 204</b><br>Words: lng, tanker, markey, boston, connection"
         ],
         "marker": {
          "color": "#0072B2"
         },
         "mode": "lines",
         "name": "204_ressam_algeria_garofalo_holiday",
         "x": [
          1998.0,
          2002.0
         ],
         "y": [
          1.001001001001001E-4,
          2.8061825814634805E-6
         ],
         "type": "scatter"
        },
        {
         "hoverinfo": "text",
         "hovertext": [
          "<b>Topic 206</b><br>Words: mirage, libya, return, aerospatiale, supersonic",
          "<b>Topic 206</b><br>Words: libya, council, resolution, pan, sanction",
          "<b>Topic 206</b><br>Words: kousa, libya, council, resolution, puri"
         ],
         "marker": {
          "color": "#CC79A7"
         },
         "mode": "lines",
         "name": "206_libya_council_resolution_pan",
         "x": [
          1988.0,
          1990.0,
          2010.0
         ],
         "y": [
          9.490907710413424E-6,
          1.1652465224674095E-4,
          2.733584823137062E-6
         ],
         "type": "scatter"
        }
       ],
       "layout": {
        "template": {
         "data": {
          "barpolar": [
           {
            "marker": {
             "line": {
              "color": "white",
              "width": 0.5
             },
             "pattern": {
              "fillmode": "overlay",
              "size": 10,
              "solidity": 0.2
             }
            },
            "type": "barpolar"
           }
          ],
          "bar": [
           {
            "error_x": {
             "color": "rgb(36,36,36)"
            },
            "error_y": {
             "color": "rgb(36,36,36)"
            },
            "marker": {
             "line": {
              "color": "white",
              "width": 0.5
             },
             "pattern": {
              "fillmode": "overlay",
              "size": 10,
              "solidity": 0.2
             }
            },
            "type": "bar"
           }
          ],
          "carpet": [
           {
            "aaxis": {
             "endlinecolor": "rgb(36,36,36)",
             "gridcolor": "white",
             "linecolor": "white",
             "minorgridcolor": "white",
             "startlinecolor": "rgb(36,36,36)"
            },
            "baxis": {
             "endlinecolor": "rgb(36,36,36)",
             "gridcolor": "white",
             "linecolor": "white",
             "minorgridcolor": "white",
             "startlinecolor": "rgb(36,36,36)"
            },
            "type": "carpet"
           }
          ],
          "choropleth": [
           {
            "colorbar": {
             "outlinewidth": 1,
             "tickcolor": "rgb(36,36,36)",
             "ticks": "outside"
            },
            "type": "choropleth"
           }
          ],
          "contourcarpet": [
           {
            "colorbar": {
             "outlinewidth": 1,
             "tickcolor": "rgb(36,36,36)",
             "ticks": "outside"
            },
            "type": "contourcarpet"
           }
          ],
          "contour": [
           {
            "colorbar": {
             "outlinewidth": 1,
             "tickcolor": "rgb(36,36,36)",
             "ticks": "outside"
            },
            "colorscale": [
             [
              0.0,
              "#440154"
             ],
             [
              0.1111111111111111,
              "#482878"
             ],
             [
              0.2222222222222222,
              "#3e4989"
             ],
             [
              0.3333333333333333,
              "#31688e"
             ],
             [
              0.4444444444444444,
              "#26828e"
             ],
             [
              0.5555555555555556,
              "#1f9e89"
             ],
             [
              0.6666666666666666,
              "#35b779"
             ],
             [
              0.7777777777777778,
              "#6ece58"
             ],
             [
              0.8888888888888888,
              "#b5de2b"
             ],
             [
              1.0,
              "#fde725"
             ]
            ],
            "type": "contour"
           }
          ],
          "heatmapgl": [
           {
            "colorbar": {
             "outlinewidth": 1,
             "tickcolor": "rgb(36,36,36)",
             "ticks": "outside"
            },
            "colorscale": [
             [
              0.0,
              "#440154"
             ],
             [
              0.1111111111111111,
              "#482878"
             ],
             [
              0.2222222222222222,
              "#3e4989"
             ],
             [
              0.3333333333333333,
              "#31688e"
             ],
             [
              0.4444444444444444,
              "#26828e"
             ],
             [
              0.5555555555555556,
              "#1f9e89"
             ],
             [
              0.6666666666666666,
              "#35b779"
             ],
             [
              0.7777777777777778,
              "#6ece58"
             ],
             [
              0.8888888888888888,
              "#b5de2b"
             ],
             [
              1.0,
              "#fde725"
             ]
            ],
            "type": "heatmapgl"
           }
          ],
          "heatmap": [
           {
            "colorbar": {
             "outlinewidth": 1,
             "tickcolor": "rgb(36,36,36)",
             "ticks": "outside"
            },
            "colorscale": [
             [
              0.0,
              "#440154"
             ],
             [
              0.1111111111111111,
              "#482878"
             ],
             [
              0.2222222222222222,
              "#3e4989"
             ],
             [
              0.3333333333333333,
              "#31688e"
             ],
             [
              0.4444444444444444,
              "#26828e"
             ],
             [
              0.5555555555555556,
              "#1f9e89"
             ],
             [
              0.6666666666666666,
              "#35b779"
             ],
             [
              0.7777777777777778,
              "#6ece58"
             ],
             [
              0.8888888888888888,
              "#b5de2b"
             ],
             [
              1.0,
              "#fde725"
             ]
            ],
            "type": "heatmap"
           }
          ],
          "histogram2dcontour": [
           {
            "colorbar": {
             "outlinewidth": 1,
             "tickcolor": "rgb(36,36,36)",
             "ticks": "outside"
            },
            "colorscale": [
             [
              0.0,
              "#440154"
             ],
             [
              0.1111111111111111,
              "#482878"
             ],
             [
              0.2222222222222222,
              "#3e4989"
             ],
             [
              0.3333333333333333,
              "#31688e"
             ],
             [
              0.4444444444444444,
              "#26828e"
             ],
             [
              0.5555555555555556,
              "#1f9e89"
             ],
             [
              0.6666666666666666,
              "#35b779"
             ],
             [
              0.7777777777777778,
              "#6ece58"
             ],
             [
              0.8888888888888888,
              "#b5de2b"
             ],
             [
              1.0,
              "#fde725"
             ]
            ],
            "type": "histogram2dcontour"
           }
          ],
          "histogram2d": [
           {
            "colorbar": {
             "outlinewidth": 1,
             "tickcolor": "rgb(36,36,36)",
             "ticks": "outside"
            },
            "colorscale": [
             [
              0.0,
              "#440154"
             ],
             [
              0.1111111111111111,
              "#482878"
             ],
             [
              0.2222222222222222,
              "#3e4989"
             ],
             [
              0.3333333333333333,
              "#31688e"
             ],
             [
              0.4444444444444444,
              "#26828e"
             ],
             [
              0.5555555555555556,
              "#1f9e89"
             ],
             [
              0.6666666666666666,
              "#35b779"
             ],
             [
              0.7777777777777778,
              "#6ece58"
             ],
             [
              0.8888888888888888,
              "#b5de2b"
             ],
             [
              1.0,
              "#fde725"
             ]
            ],
            "type": "histogram2d"
           }
          ],
          "histogram": [
           {
            "marker": {
             "line": {
              "color": "white",
              "width": 0.6
             }
            },
            "type": "histogram"
           }
          ],
          "mesh3d": [
           {
            "colorbar": {
             "outlinewidth": 1,
             "tickcolor": "rgb(36,36,36)",
             "ticks": "outside"
            },
            "type": "mesh3d"
           }
          ],
          "parcoords": [
           {
            "line": {
             "colorbar": {
              "outlinewidth": 1,
              "tickcolor": "rgb(36,36,36)",
              "ticks": "outside"
             }
            },
            "type": "parcoords"
           }
          ],
          "pie": [
           {
            "automargin": true,
            "type": "pie"
           }
          ],
          "scatter3d": [
           {
            "line": {
             "colorbar": {
              "outlinewidth": 1,
              "tickcolor": "rgb(36,36,36)",
              "ticks": "outside"
             }
            },
            "marker": {
             "colorbar": {
              "outlinewidth": 1,
              "tickcolor": "rgb(36,36,36)",
              "ticks": "outside"
             }
            },
            "type": "scatter3d"
           }
          ],
          "scattercarpet": [
           {
            "marker": {
             "colorbar": {
              "outlinewidth": 1,
              "tickcolor": "rgb(36,36,36)",
              "ticks": "outside"
             }
            },
            "type": "scattercarpet"
           }
          ],
          "scattergeo": [
           {
            "marker": {
             "colorbar": {
              "outlinewidth": 1,
              "tickcolor": "rgb(36,36,36)",
              "ticks": "outside"
             }
            },
            "type": "scattergeo"
           }
          ],
          "scattergl": [
           {
            "marker": {
             "colorbar": {
              "outlinewidth": 1,
              "tickcolor": "rgb(36,36,36)",
              "ticks": "outside"
             }
            },
            "type": "scattergl"
           }
          ],
          "scattermapbox": [
           {
            "marker": {
             "colorbar": {
              "outlinewidth": 1,
              "tickcolor": "rgb(36,36,36)",
              "ticks": "outside"
             }
            },
            "type": "scattermapbox"
           }
          ],
          "scatterpolargl": [
           {
            "marker": {
             "colorbar": {
              "outlinewidth": 1,
              "tickcolor": "rgb(36,36,36)",
              "ticks": "outside"
             }
            },
            "type": "scatterpolargl"
           }
          ],
          "scatterpolar": [
           {
            "marker": {
             "colorbar": {
              "outlinewidth": 1,
              "tickcolor": "rgb(36,36,36)",
              "ticks": "outside"
             }
            },
            "type": "scatterpolar"
           }
          ],
          "scatter": [
           {
            "fillpattern": {
             "fillmode": "overlay",
             "size": 10,
             "solidity": 0.2
            },
            "type": "scatter"
           }
          ],
          "scatterternary": [
           {
            "marker": {
             "colorbar": {
              "outlinewidth": 1,
              "tickcolor": "rgb(36,36,36)",
              "ticks": "outside"
             }
            },
            "type": "scatterternary"
           }
          ],
          "surface": [
           {
            "colorbar": {
             "outlinewidth": 1,
             "tickcolor": "rgb(36,36,36)",
             "ticks": "outside"
            },
            "colorscale": [
             [
              0.0,
              "#440154"
             ],
             [
              0.1111111111111111,
              "#482878"
             ],
             [
              0.2222222222222222,
              "#3e4989"
             ],
             [
              0.3333333333333333,
              "#31688e"
             ],
             [
              0.4444444444444444,
              "#26828e"
             ],
             [
              0.5555555555555556,
              "#1f9e89"
             ],
             [
              0.6666666666666666,
              "#35b779"
             ],
             [
              0.7777777777777778,
              "#6ece58"
             ],
             [
              0.8888888888888888,
              "#b5de2b"
             ],
             [
              1.0,
              "#fde725"
             ]
            ],
            "type": "surface"
           }
          ],
          "table": [
           {
            "cells": {
             "fill": {
              "color": "rgb(237,237,237)"
             },
             "line": {
              "color": "white"
             }
            },
            "header": {
             "fill": {
              "color": "rgb(217,217,217)"
             },
             "line": {
              "color": "white"
             }
            },
            "type": "table"
           }
          ]
         },
         "layout": {
          "annotationdefaults": {
           "arrowhead": 0,
           "arrowwidth": 1
          },
          "autotypenumbers": "strict",
          "coloraxis": {
           "colorbar": {
            "outlinewidth": 1,
            "tickcolor": "rgb(36,36,36)",
            "ticks": "outside"
           }
          },
          "colorscale": {
           "diverging": [
            [
             0.0,
             "rgb(103,0,31)"
            ],
            [
             0.1,
             "rgb(178,24,43)"
            ],
            [
             0.2,
             "rgb(214,96,77)"
            ],
            [
             0.3,
             "rgb(244,165,130)"
            ],
            [
             0.4,
             "rgb(253,219,199)"
            ],
            [
             0.5,
             "rgb(247,247,247)"
            ],
            [
             0.6,
             "rgb(209,229,240)"
            ],
            [
             0.7,
             "rgb(146,197,222)"
            ],
            [
             0.8,
             "rgb(67,147,195)"
            ],
            [
             0.9,
             "rgb(33,102,172)"
            ],
            [
             1.0,
             "rgb(5,48,97)"
            ]
           ],
           "sequential": [
            [
             0.0,
             "#440154"
            ],
            [
             0.1111111111111111,
             "#482878"
            ],
            [
             0.2222222222222222,
             "#3e4989"
            ],
            [
             0.3333333333333333,
             "#31688e"
            ],
            [
             0.4444444444444444,
             "#26828e"
            ],
            [
             0.5555555555555556,
             "#1f9e89"
            ],
            [
             0.6666666666666666,
             "#35b779"
            ],
            [
             0.7777777777777778,
             "#6ece58"
            ],
            [
             0.8888888888888888,
             "#b5de2b"
            ],
            [
             1.0,
             "#fde725"
            ]
           ],
           "sequentialminus": [
            [
             0.0,
             "#440154"
            ],
            [
             0.1111111111111111,
             "#482878"
            ],
            [
             0.2222222222222222,
             "#3e4989"
            ],
            [
             0.3333333333333333,
             "#31688e"
            ],
            [
             0.4444444444444444,
             "#26828e"
            ],
            [
             0.5555555555555556,
             "#1f9e89"
            ],
            [
             0.6666666666666666,
             "#35b779"
            ],
            [
             0.7777777777777778,
             "#6ece58"
            ],
            [
             0.8888888888888888,
             "#b5de2b"
            ],
            [
             1.0,
             "#fde725"
            ]
           ]
          },
          "colorway": [
           "#1F77B4",
           "#FF7F0E",
           "#2CA02C",
           "#D62728",
           "#9467BD",
           "#8C564B",
           "#E377C2",
           "#7F7F7F",
           "#BCBD22",
           "#17BECF"
          ],
          "font": {
           "color": "rgb(36,36,36)"
          },
          "geo": {
           "bgcolor": "white",
           "lakecolor": "white",
           "landcolor": "white",
           "showlakes": true,
           "showland": true,
           "subunitcolor": "white"
          },
          "hoverlabel": {
           "align": "left"
          },
          "hovermode": "closest",
          "mapbox": {
           "style": "light"
          },
          "paper_bgcolor": "white",
          "plot_bgcolor": "white",
          "polar": {
           "angularaxis": {
            "gridcolor": "rgb(232,232,232)",
            "linecolor": "rgb(36,36,36)",
            "showgrid": false,
            "showline": true,
            "ticks": "outside"
           },
           "bgcolor": "white",
           "radialaxis": {
            "gridcolor": "rgb(232,232,232)",
            "linecolor": "rgb(36,36,36)",
            "showgrid": false,
            "showline": true,
            "ticks": "outside"
           }
          },
          "scene": {
           "xaxis": {
            "backgroundcolor": "white",
            "gridcolor": "rgb(232,232,232)",
            "gridwidth": 2,
            "linecolor": "rgb(36,36,36)",
            "showbackground": true,
            "showgrid": false,
            "showline": true,
            "ticks": "outside",
            "zeroline": false,
            "zerolinecolor": "rgb(36,36,36)"
           },
           "yaxis": {
            "backgroundcolor": "white",
            "gridcolor": "rgb(232,232,232)",
            "gridwidth": 2,
            "linecolor": "rgb(36,36,36)",
            "showbackground": true,
            "showgrid": false,
            "showline": true,
            "ticks": "outside",
            "zeroline": false,
            "zerolinecolor": "rgb(36,36,36)"
           },
           "zaxis": {
            "backgroundcolor": "white",
            "gridcolor": "rgb(232,232,232)",
            "gridwidth": 2,
            "linecolor": "rgb(36,36,36)",
            "showbackground": true,
            "showgrid": false,
            "showline": true,
            "ticks": "outside",
            "zeroline": false,
            "zerolinecolor": "rgb(36,36,36)"
           }
          },
          "shapedefaults": {
           "fillcolor": "black",
           "line": {
            "width": 0
           },
           "opacity": 0.3
          },
          "ternary": {
           "aaxis": {
            "gridcolor": "rgb(232,232,232)",
            "linecolor": "rgb(36,36,36)",
            "showgrid": false,
            "showline": true,
            "ticks": "outside"
           },
           "baxis": {
            "gridcolor": "rgb(232,232,232)",
            "linecolor": "rgb(36,36,36)",
            "showgrid": false,
            "showline": true,
            "ticks": "outside"
           },
           "bgcolor": "white",
           "caxis": {
            "gridcolor": "rgb(232,232,232)",
            "linecolor": "rgb(36,36,36)",
            "showgrid": false,
            "showline": true,
            "ticks": "outside"
           }
          },
          "title": {
           "x": 0.05
          },
          "xaxis": {
           "automargin": true,
           "gridcolor": "rgb(232,232,232)",
           "linecolor": "rgb(36,36,36)",
           "showgrid": false,
           "showline": true,
           "ticks": "outside",
           "title": {
            "standoff": 15
           },
           "zeroline": false,
           "zerolinecolor": "rgb(36,36,36)"
          },
          "yaxis": {
           "automargin": true,
           "gridcolor": "rgb(232,232,232)",
           "linecolor": "rgb(36,36,36)",
           "showgrid": false,
           "showline": true,
           "ticks": "outside",
           "title": {
            "standoff": 15
           },
           "zeroline": false,
           "zerolinecolor": "rgb(36,36,36)"
          }
         }
        },
        "xaxis": {
         "showgrid": true
        },
        "yaxis": {
         "showgrid": true,
         "title": {
          "text": "Frequency"
         }
        },
        "title": {
         "font": {
          "size": 22,
          "color": "Black"
         },
         "text": "<b>Topics over Time</b>",
         "y": 0.95,
         "x": 0.4,
         "xanchor": "center",
         "yanchor": "top"
        },
        "hoverlabel": {
         "font": {
          "size": 16,
          "family": "Rockwell"
         },
         "bgcolor": "white"
        },
        "width": 1200,
        "height": 800,
        "legend": {
         "title": {
          "text": "<b>Global Topic Representation"
         }
        }
       },
       "config": {
        "plotlyServerURL": "https://plot.ly"
       }
      },
      "text/html": "<div>                            <div id=\"0c04e12e-6d70-43be-af9f-e34ccca0e406\" class=\"plotly-graph-div\" style=\"height:800px; width:1200px;\"></div>            <script type=\"text/javascript\">                require([\"plotly\"], function(Plotly) {                    window.PLOTLYENV=window.PLOTLYENV || {};                                    if (document.getElementById(\"0c04e12e-6d70-43be-af9f-e34ccca0e406\")) {                    Plotly.newPlot(                        \"0c04e12e-6d70-43be-af9f-e34ccca0e406\",                        [{\"hoverinfo\":\"text\",\"hovertext\":[\"\\u003cb\\u003eTopic 0\\u003c\\u002fb\\u003e\\u003cbr\\u003eWords: israel, palestinian, lebanon, arab, arafat\",\"\\u003cb\\u003eTopic 0\\u003c\\u002fb\\u003e\\u003cbr\\u003eWords: israel, arab, jewish, palestinian, settler\",\"\\u003cb\\u003eTopic 0\\u003c\\u002fb\\u003e\\u003cbr\\u003eWords: israel, palestinian, arafat, arab, peace\",\"\\u003cb\\u003eTopic 0\\u003c\\u002fb\\u003e\\u003cbr\\u003eWords: arafat, israel, palestinian, plo, shultz\",\"\\u003cb\\u003eTopic 0\\u003c\\u002fb\\u003e\\u003cbr\\u003eWords: israel, plo, palestinian, arafat, palestine\",\"\\u003cb\\u003eTopic 0\\u003c\\u002fb\\u003e\\u003cbr\\u003eWords: plo, israel, arafat, palestinian, palestine\",\"\\u003cb\\u003eTopic 0\\u003c\\u002fb\\u003e\\u003cbr\\u003eWords: israel, palestinian, arafat, plo, rabin\",\"\\u003cb\\u003eTopic 0\\u003c\\u002fb\\u003e\\u003cbr\\u003eWords: israel, palestinian, peace, arafat, hama\",\"\\u003cb\\u003eTopic 0\\u003c\\u002fb\\u003e\\u003cbr\\u003eWords: israel, netanyahu, palestinian, arafat, peace\",\"\\u003cb\\u003eTopic 0\\u003c\\u002fb\\u003e\\u003cbr\\u003eWords: israel, palestinian, arafat, barak, peace\",\"\\u003cb\\u003eTopic 0\\u003c\\u002fb\\u003e\\u003cbr\\u003eWords: israel, palestinian, arafat, sharon, peace\",\"\\u003cb\\u003eTopic 0\\u003c\\u002fb\\u003e\\u003cbr\\u003eWords: israel, palestinian, arafat, hama, peace\",\"\\u003cb\\u003eTopic 0\\u003c\\u002fb\\u003e\\u003cbr\\u003eWords: israel, palestinian, hama, arafat, gaza\",\"\\u003cb\\u003eTopic 0\\u003c\\u002fb\\u003e\\u003cbr\\u003eWords: israel, palestinian, hama, gaza, peace\",\"\\u003cb\\u003eTopic 0\\u003c\\u002fb\\u003e\\u003cbr\\u003eWords: israel, palestinian, hama, gaza, arafat\",\"\\u003cb\\u003eTopic 0\\u003c\\u002fb\\u003e\\u003cbr\\u003eWords: israel, palestinian, hama, peace, gaza\",\"\\u003cb\\u003eTopic 0\\u003c\\u002fb\\u003e\\u003cbr\\u003eWords: israel, palestinian, hama, gaza, peace\",\"\\u003cb\\u003eTopic 0\\u003c\\u002fb\\u003e\\u003cbr\\u003eWords: israel, palestinian, netanyahu, jewish, arafat\",\"\\u003cb\\u003eTopic 0\\u003c\\u002fb\\u003e\\u003cbr\\u003eWords: israel, palestinian, hama, gaza, arafat\",\"\\u003cb\\u003eTopic 0\\u003c\\u002fb\\u003e\\u003cbr\\u003eWords: palestinian, israel, uliel, jewish, ben\"],\"marker\":{\"color\":\"#E69F00\"},\"mode\":\"lines\",\"name\":\"0_israel_palestinian_arafat_peace\",\"x\":[1979.96,1982.0,1984.0,1986.0,1988.0,1990.0,1992.0,1994.0,1996.0,1998.0,2000.0,2002.0,2004.0,2006.0,2008.0,2010.0,2012.0,2014.0,2016.0,2018.0],\"y\":[0.00046297231593904253,0.0003116281830592984,0.00024136756019990912,0.00047269663152269974,0.0007877453399643141,5.8262326123370475e-05,0.0007568736484399134,0.0006858811729305563,0.00045823354025123416,0.0001334668001334668,0.00031366459627329193,0.00020204514586537057,0.00024228998650098647,0.00012325660381492883,8.003699487763233e-05,0.00011754414739489367,0.00015435338280873765,8.780003390897862e-05,0.00011056129279020845,5.56786672754201e-05],\"type\":\"scatter\"},{\"hoverinfo\":\"text\",\"hovertext\":[\"\\u003cb\\u003eTopic 1\\u003c\\u002fb\\u003e\\u003cbr\\u003eWords: naxalite, zia, pakistan, landless, nadu\",\"\\u003cb\\u003eTopic 1\\u003c\\u002fb\\u003e\\u003cbr\\u003eWords: sikh, punjab, gandhi, india, pakistan\",\"\\u003cb\\u003eTopic 1\\u003c\\u002fb\\u003e\\u003cbr\\u003eWords: sikh, pakistan, gandhi, india, minister\",\"\\u003cb\\u003eTopic 1\\u003c\\u002fb\\u003e\\u003cbr\\u003eWords: sikh, ribeiro, punjab, gandhi, pakistan\",\"\\u003cb\\u003eTopic 1\\u003c\\u002fb\\u003e\\u003cbr\\u003eWords: sikh, punjab, hindu, singh, village\",\"\\u003cb\\u003eTopic 1\\u003c\\u002fb\\u003e\\u003cbr\\u003eWords: gandhi, indian, assassinate, pakistan, punjab\",\"\\u003cb\\u003eTopic 1\\u003c\\u002fb\\u003e\\u003cbr\\u003eWords: pakistan, india, fuqra, indian, islamabad\",\"\\u003cb\\u003eTopic 1\\u003c\\u002fb\\u003e\\u003cbr\\u003eWords: pakistan, yousef, sandhu, bhutto, india\",\"\\u003cb\\u003eTopic 1\\u003c\\u002fb\\u003e\\u003cbr\\u003eWords: pakistan, sharif, kasi, mir, india\",\"\\u003cb\\u003eTopic 1\\u003c\\u002fb\\u003e\\u003cbr\\u003eWords: pakistan, india, kashmir, indian, musharraf\",\"\\u003cb\\u003eTopic 1\\u003c\\u002fb\\u003e\\u003cbr\\u003eWords: pakistan, india, kashmir, musharraf, indian\",\"\\u003cb\\u003eTopic 1\\u003c\\u002fb\\u003e\\u003cbr\\u003eWords: pakistan, musharraf, macedonia, india, boskovski\",\"\\u003cb\\u003eTopic 1\\u003c\\u002fb\\u003e\\u003cbr\\u003eWords: pakistan, india, musharraf, indian, mumbai\",\"\\u003cb\\u003eTopic 1\\u003c\\u002fb\\u003e\\u003cbr\\u003eWords: pakistan, india, musharraf, mumbai, indian\",\"\\u003cb\\u003eTopic 1\\u003c\\u002fb\\u003e\\u003cbr\\u003eWords: pakistan, india, mumbai, indian, apo\",\"\\u003cb\\u003eTopic 1\\u003c\\u002fb\\u003e\\u003cbr\\u003eWords: pakistan, india, indian, islamabad, afghanistan\",\"\\u003cb\\u003eTopic 1\\u003c\\u002fb\\u003e\\u003cbr\\u003eWords: pakistan, india, sharif, taliban, indian\",\"\\u003cb\\u003eTopic 1\\u003c\\u002fb\\u003e\\u003cbr\\u003eWords: pakistan, india, taliban, indian, sharif\",\"\\u003cb\\u003eTopic 1\\u003c\\u002fb\\u003e\\u003cbr\\u003eWords: pakistan, india, indian, kashmir, modi\",\"\\u003cb\\u003eTopic 1\\u003c\\u002fb\\u003e\\u003cbr\\u003eWords: pakistan, india, modi, indian, kashmir\"],\"marker\":{\"color\":\"#56B4E9\"},\"mode\":\"lines\",\"name\":\"1_pakistan_india_indian_kashmir\",\"x\":[1979.96,1982.0,1984.0,1986.0,1988.0,1990.0,1992.0,1994.0,1996.0,1998.0,2000.0,2002.0,2004.0,2006.0,2008.0,2010.0,2012.0,2014.0,2016.0,2018.0],\"y\":[3.367071388647582e-05,0.00011871549830830414,3.549522944116311e-05,4.110405491501737e-05,2.8472723131240273e-05,7.282790765421309e-06,5.406240345999382e-05,3.68753318779869e-05,3.054890268341561e-05,0.00017795573351128907,0.00013664596273291925,4.7705103884879165e-05,9.518535183967326e-05,0.0003889430609271088,0.0004742933029785619,0.00018861735279645728,0.00016670165343343665,6.0551747523433524e-05,0.0004362688850640658,0.00038975067092794066],\"type\":\"scatter\"},{\"hoverinfo\":\"text\",\"hovertext\":[\"\\u003cb\\u003eTopic 2\\u003c\\u002fb\\u003e\\u003cbr\\u003eWords: insurance, grose, coverage, risk, manager\",\"\\u003cb\\u003eTopic 2\\u003c\\u002fb\\u003e\\u003cbr\\u003eWords: exclusion, blythe, insurance, contained, clough\",\"\\u003cb\\u003eTopic 2\\u003c\\u002fb\\u003e\\u003cbr\\u003eWords: insurance, coverage, trapnell, interrupt, business\",\"\\u003cb\\u003eTopic 2\\u003c\\u002fb\\u003e\\u003cbr\\u003eWords: facultative, reinsure, adanio, loss, scor\",\"\\u003cb\\u003eTopic 2\\u003c\\u002fb\\u003e\\u003cbr\\u003eWords: insurance, insurer, coverage, risk, loss\",\"\\u003cb\\u003eTopic 2\\u003c\\u002fb\\u003e\\u003cbr\\u003eWords: insurance, coverage, insurer, tria, risk\",\"\\u003cb\\u003eTopic 2\\u003c\\u002fb\\u003e\\u003cbr\\u003eWords: insurance, tria, insurer, risk, coverage\",\"\\u003cb\\u003eTopic 2\\u003c\\u002fb\\u003e\\u003cbr\\u003eWords: insurance, insurer, risk, coverage, backstop\",\"\\u003cb\\u003eTopic 2\\u003c\\u002fb\\u003e\\u003cbr\\u003eWords: insurance, backstop, insurer, risk, coverage\",\"\\u003cb\\u003eTopic 2\\u003c\\u002fb\\u003e\\u003cbr\\u003eWords: insurance, risk, insurer, backstop, coverage\",\"\\u003cb\\u003eTopic 2\\u003c\\u002fb\\u003e\\u003cbr\\u003eWords: insurance, tria, insurer, risk, backstop\",\"\\u003cb\\u003eTopic 2\\u003c\\u002fb\\u003e\\u003cbr\\u003eWords: insurance, tria, coverage, risk, market\",\"\\u003cb\\u003eTopic 2\\u003c\\u002fb\\u003e\\u003cbr\\u003eWords: insurance, coverage, insurer, art, loss\",\"\\u003cb\\u003eTopic 2\\u003c\\u002fb\\u003e\\u003cbr\\u003eWords: insurance, insurer, business, risk, coverage\"],\"marker\":{\"color\":\"#009E73\"},\"mode\":\"lines\",\"name\":\"2_insurance_insurer_coverage_risk\",\"x\":[1988.0,1990.0,1992.0,1994.0,2000.0,2002.0,2004.0,2006.0,2008.0,2010.0,2012.0,2014.0,2016.0,2018.0],\"y\":[2.8472723131240273e-05,2.1848372296263928e-05,2.3169601482854495e-05,7.375066375597381e-06,0.0002795031055900621,0.00027781207556488454,0.00038074140735869303,0.00022733995814753542,4.446499715424018e-05,4.920452681646712e-05,0.0002346171418692812,4.238622326640347e-05,1.1952572193536049e-05,3.897506709279407e-05],\"type\":\"scatter\"},{\"hoverinfo\":\"text\",\"hovertext\":[\"\\u003cb\\u003eTopic 3\\u003c\\u002fb\\u003e\\u003cbr\\u003eWords: iraq, baghdad, hussein, azzawi, supplier\",\"\\u003cb\\u003eTopic 3\\u003c\\u002fb\\u003e\\u003cbr\\u003eWords: iraq, resumption, formal, us, tie\",\"\\u003cb\\u003eTopic 3\\u003c\\u002fb\\u003e\\u003cbr\\u003eWords: cronkite, iraq, documentary, demography, eagleburger\",\"\\u003cb\\u003eTopic 3\\u003c\\u002fb\\u003e\\u003cbr\\u003eWords: saddam, iraq, bush, kuwait, hussein\",\"\\u003cb\\u003eTopic 3\\u003c\\u002fb\\u003e\\u003cbr\\u003eWords: iraq, saddam, hussein, kuwait, bush\",\"\\u003cb\\u003eTopic 3\\u003c\\u002fb\\u003e\\u003cbr\\u003eWords: iraq, saddam, kuwait, baghdad, bush\",\"\\u003cb\\u003eTopic 3\\u003c\\u002fb\\u003e\\u003cbr\\u003eWords: iraq, pba, saddam, war, deutch\",\"\\u003cb\\u003eTopic 3\\u003c\\u002fb\\u003e\\u003cbr\\u003eWords: feaver, casualty, iraq, mission, military\",\"\\u003cb\\u003eTopic 3\\u003c\\u002fb\\u003e\\u003cbr\\u003eWords: iraq, saddam, bush, war, hussein\",\"\\u003cb\\u003eTopic 3\\u003c\\u002fb\\u003e\\u003cbr\\u003eWords: iraq, bush, saddam, war, hussein\",\"\\u003cb\\u003eTopic 3\\u003c\\u002fb\\u003e\\u003cbr\\u003eWords: iraq, bush, war, saddam, hussein\",\"\\u003cb\\u003eTopic 3\\u003c\\u002fb\\u003e\\u003cbr\\u003eWords: iraq, saddam, war, bush, feith\",\"\\u003cb\\u003eTopic 3\\u003c\\u002fb\\u003e\\u003cbr\\u003eWords: iraq, saddam, hussein, exile, bush\",\"\\u003cb\\u003eTopic 3\\u003c\\u002fb\\u003e\\u003cbr\\u003eWords: democracy, war, iraq, america, perish\",\"\\u003cb\\u003eTopic 3\\u003c\\u002fb\\u003e\\u003cbr\\u003eWords: iraq, isil, war, bush, saddam\",\"\\u003cb\\u003eTopic 3\\u003c\\u002fb\\u003e\\u003cbr\\u003eWords: hussein, saddam, iraq, lahey, trump\",\"\\u003cb\\u003eTopic 3\\u003c\\u002fb\\u003e\\u003cbr\\u003eWords: gallery, warp, gund, rug, exhibition\",\"\\u003cb\\u003eTopic 3\\u003c\\u002fb\\u003e\\u003cbr\\u003eWords: iraq, hitler, war, bush, saddam\"],\"marker\":{\"color\":\"#F0E442\"},\"mode\":\"lines\",\"name\":\"3_iraq_bush_saddam_war\",\"x\":[1979.96,1982.0,1984.0,1988.0,1990.0,1992.0,1996.0,1998.0,2000.0,2002.0,2004.0,2006.0,2008.0,2010.0,2012.0,2014.0,2016.0,2018.0],\"y\":[1.683535694323791e-05,7.419718644269009e-06,2.1297137664697865e-05,0.00011389089252496109,9.467627995047702e-05,5.406240345999382e-05,4.8878244293464976e-05,1.1122233344455567e-05,0.00014285714285714287,0.0002525564323317132,0.00025382760490579536,6.573685536796204e-05,1.482166571808006e-05,2.1868678585096495e-05,4.939308249879604e-05,2.1193111633201735e-05,5.9762860967680245e-06,2.783933363771005e-05],\"type\":\"scatter\"},{\"hoverinfo\":\"text\",\"hovertext\":[\"\\u003cb\\u003eTopic 4\\u003c\\u002fb\\u003e\\u003cbr\\u003eWords: france, mitterrand, paris, defferre, directe\",\"\\u003cb\\u003eTopic 4\\u003c\\u002fb\\u003e\\u003cbr\\u003eWords: france, mitterrand, paris, chad, iran\",\"\\u003cb\\u003eTopic 4\\u003c\\u002fb\\u003e\\u003cbr\\u003eWords: france, chirac, paris, abdallah, syria\",\"\\u003cb\\u003eTopic 4\\u003c\\u002fb\\u003e\\u003cbr\\u003eWords: france, gordji, paris, iran, pasqua\",\"\\u003cb\\u003eTopic 4\\u003c\\u002fb\\u003e\\u003cbr\\u003eWords: naccache, bakhtiar, verge, france, anis\",\"\\u003cb\\u003eTopic 4\\u003c\\u002fb\\u003e\\u003cbr\\u003eWords: habash, nidal, france, seale, duma\",\"\\u003cb\\u003eTopic 4\\u003c\\u002fb\\u003e\\u003cbr\\u003eWords: france, switzerland, balladur, bakhtiar, esfahani\",\"\\u003cb\\u003eTopic 4\\u003c\\u002fb\\u003e\\u003cbr\\u003eWords: france, paris, algeria, debre, bruguiere\",\"\\u003cb\\u003eTopic 4\\u003c\\u002fb\\u003e\\u003cbr\\u003eWords: france, cup, paris, raid, tournament\",\"\\u003cb\\u003eTopic 4\\u003c\\u002fb\\u003e\\u003cbr\\u003eWords: naouar, lyon, france, tunisia, hassensrat\",\"\\u003cb\\u003eTopic 4\\u003c\\u002fb\\u003e\\u003cbr\\u003eWords: france, bruguiere, gia, paris, ressam\",\"\\u003cb\\u003eTopic 4\\u003c\\u002fb\\u003e\\u003cbr\\u003eWords: france, mirage, paris, air, warthog\",\"\\u003cb\\u003eTopic 4\\u003c\\u002fb\\u003e\\u003cbr\\u003eWords: france, sarkozy, vimont, paris, store\",\"\\u003cb\\u003eTopic 4\\u003c\\u002fb\\u003e\\u003cbr\\u003eWords: france, hicheur, paris, cern, pechenard\",\"\\u003cb\\u003eTopic 4\\u003c\\u002fb\\u003e\\u003cbr\\u003eWords: france, merah, paris, toulouse, sarkozy\",\"\\u003cb\\u003eTopic 4\\u003c\\u002fb\\u003e\\u003cbr\\u003eWords: france, mali, paris, syria, molin\",\"\\u003cb\\u003eTopic 4\\u003c\\u002fb\\u003e\\u003cbr\\u003eWords: france, paris, hollande, molin, charlie\",\"\\u003cb\\u003eTopic 4\\u003c\\u002fb\\u003e\\u003cbr\\u003eWords: france, paris, macron, knife, marseille\",\"\\u003cb\\u003eTopic 4\\u003c\\u002fb\\u003e\\u003cbr\\u003eWords: france, macron, paris, hebdo, teacher\"],\"marker\":{\"color\":\"#D55E00\"},\"mode\":\"lines\",\"name\":\"4_france_paris_macron_police\",\"x\":[1979.96,1982.0,1984.0,1986.0,1988.0,1990.0,1992.0,1994.0,1996.0,2000.0,2002.0,2004.0,2006.0,2008.0,2010.0,2012.0,2014.0,2016.0,2018.0],\"y\":[9.25944631878085e-05,5.935774915415207e-05,0.00016327805542935028,9.248412355878907e-05,9.490907710413424e-06,7.282790765421309e-06,2.3169601482854495e-05,4.4250398253584284e-05,2.4439122146732488e-05,3.1055900621118013e-06,5.612365162926961e-06,5.7688092024044395e-06,2.4651320762985768e-05,2.667899829254411e-05,6.833962057842655e-05,5.556721781114555e-05,0.00017257248044178554,0.00010757314974182444,0.00015868420173494727],\"type\":\"scatter\"},{\"hoverinfo\":\"text\",\"hovertext\":[\"\\u003cb\\u003eTopic 10\\u003c\\u002fb\\u003e\\u003cbr\\u003eWords: amato, holtzman, crime, ahe, funds\",\"\\u003cb\\u003eTopic 10\\u003c\\u002fb\\u003e\\u003cbr\\u003eWords: bill, senator, proposal, debate, thurmond\",\"\\u003cb\\u003eTopic 10\\u003c\\u002fb\\u003e\\u003cbr\\u003eWords: taggant, gunpowder, nra, schumer, legislation\",\"\\u003cb\\u003eTopic 10\\u003c\\u002fb\\u003e\\u003cbr\\u003eWords: bill, clinton, wiretap, oklahoma, legislation\",\"\\u003cb\\u003eTopic 10\\u003c\\u002fb\\u003e\\u003cbr\\u003eWords: specter, subcommittee, jewell, committee, judiciary\",\"\\u003cb\\u003eTopic 10\\u003c\\u002fb\\u003e\\u003cbr\\u003eWords: reepe, clinton, gore, dummy, sex\",\"\\u003cb\\u003eTopic 10\\u003c\\u002fb\\u003e\\u003cbr\\u003eWords: bill, locke, baumgart, gregoire, keate\",\"\\u003cb\\u003eTopic 10\\u003c\\u002fb\\u003e\\u003cbr\\u003eWords: darneille, bill, buck, mountlake, amendment\",\"\\u003cb\\u003eTopic 10\\u003c\\u002fb\\u003e\\u003cbr\\u003eWords: bill, balkman, penalty, toure, provisions\",\"\\u003cb\\u003eTopic 10\\u003c\\u002fb\\u003e\\u003cbr\\u003eWords: gun, vote, amendment, proposal, feinstein\",\"\\u003cb\\u003eTopic 10\\u003c\\u002fb\\u003e\\u003cbr\\u003eWords: budd, bill, ohio, nra, portman\"],\"marker\":{\"color\":\"#0072B2\"},\"mode\":\"lines\",\"name\":\"10_bill_clinton_wiretap_oklahoma\",\"x\":[1979.96,1990.0,1992.0,1994.0,1996.0,1998.0,2000.0,2002.0,2004.0,2014.0,2016.0],\"y\":[8.417678471618955e-06,1.4565581530842619e-05,1.5446400988569664e-05,0.0011431352882175939,3.054890268341561e-05,5.561116672227784e-06,1.8633540372670807e-05,2.8061825814634805e-06,8.65321380360666e-06,1.5137936880858381e-05,5.9762860967680245e-06],\"type\":\"scatter\"},{\"hoverinfo\":\"text\",\"hovertext\":[\"\\u003cb\\u003eTopic 11\\u003c\\u002fb\\u003e\\u003cbr\\u003eWords: obama, barack, mccain, war, candidate\",\"\\u003cb\\u003eTopic 11\\u003c\\u002fb\\u003e\\u003cbr\\u003eWords: obama, barack, president, muslim, afghanistan\",\"\\u003cb\\u003eTopic 11\\u003c\\u002fb\\u003e\\u003cbr\\u003eWords: obama, romney, barack, president, syria\",\"\\u003cb\\u003eTopic 11\\u003c\\u002fb\\u003e\\u003cbr\\u003eWords: obama, president, barack, war, iraq\",\"\\u003cb\\u003eTopic 11\\u003c\\u002fb\\u003e\\u003cbr\\u003eWords: obama, islam, isil, president, bernardino\",\"\\u003cb\\u003eTopic 11\\u003c\\u002fb\\u003e\\u003cbr\\u003eWords: lone, wolf, obama, gorka, gartenstein\"],\"marker\":{\"color\":\"#CC79A7\"},\"mode\":\"lines\",\"name\":\"11_obama_president_barack_islam\",\"x\":[2006.0,2008.0,2010.0,2012.0,2014.0,2016.0],\"y\":[5.204167716630329e-05,0.00010078732688294441,3.0069433054507682e-05,0.00016052751812108715,0.0001786276551941289,5.9762860967680245e-06],\"type\":\"scatter\"},{\"hoverinfo\":\"text\",\"hovertext\":[\"\\u003cb\\u003eTopic 13\\u003c\\u002fb\\u003e\\u003cbr\\u003eWords: polisario, morocco, oau, mengistu, summit\",\"\\u003cb\\u003eTopic 13\\u003c\\u002fb\\u003e\\u003cbr\\u003eWords: lago, nigeria, alake, ijewere, bola\",\"\\u003cb\\u003eTopic 13\\u003c\\u002fb\\u003e\\u003cbr\\u003eWords: nigeria, imagedata, election, adua, yar\",\"\\u003cb\\u003eTopic 13\\u003c\\u002fb\\u003e\\u003cbr\\u003eWords: nigeria, goodluck, rttnew, delegation, holl\",\"\\u003cb\\u003eTopic 13\\u003c\\u002fb\\u003e\\u003cbr\\u003eWords: nigeria, colloquium, achebe, boko, haram\",\"\\u003cb\\u003eTopic 13\\u003c\\u002fb\\u003e\\u003cbr\\u003eWords: nigeria, boko, haram, africa, girl\",\"\\u003cb\\u003eTopic 13\\u003c\\u002fb\\u003e\\u003cbr\\u003eWords: nigeria, boko, haram, buhari, conflict\",\"\\u003cb\\u003eTopic 13\\u003c\\u002fb\\u003e\\u003cbr\\u003eWords: nigeria, haram, boko, buhari, buratai\",\"\\u003cb\\u003eTopic 13\\u003c\\u002fb\\u003e\\u003cbr\\u003eWords: nigeria, haram, boko, buhari, thewill\"],\"marker\":{\"color\":\"#E69F00\"},\"mode\":\"lines\",\"name\":\"13_nigeria_haram_boko_buhari\",\"x\":[1982.0,2002.0,2006.0,2008.0,2010.0,2012.0,2014.0,2016.0,2018.0],\"y\":[7.419718644269009e-06,2.8061825814634805e-06,2.739035640331752e-06,2.964333143616012e-06,1.0934339292548247e-05,4.630601484262129e-05,3.6331048514060114e-05,0.0001225138649837445,0.0002227146691016804],\"type\":\"scatter\"},{\"hoverinfo\":\"text\",\"hovertext\":[\"\\u003cb\\u003eTopic 15\\u003c\\u002fb\\u003e\\u003cbr\\u003eWords: turkey, ankara, demirel, evren, ecevit\",\"\\u003cb\\u003eTopic 15\\u003c\\u002fb\\u003e\\u003cbr\\u003eWords: turkey, lab, jeri, evren, frightened\",\"\\u003cb\\u003eTopic 15\\u003c\\u002fb\\u003e\\u003cbr\\u003eWords: turkey, rabin, shearith, istanbul, turkmen\",\"\\u003cb\\u003eTopic 15\\u003c\\u002fb\\u003e\\u003cbr\\u003eWords: turkey, mongolia, ozal, turk, akbulut\",\"\\u003cb\\u003eTopic 15\\u003c\\u002fb\\u003e\\u003cbr\\u003eWords: turkey, kurdish, csce, turk, ankara\",\"\\u003cb\\u003eTopic 15\\u003c\\u002fb\\u003e\\u003cbr\\u003eWords: turkey, kurdish, kurd, baskaya, village\",\"\\u003cb\\u003eTopic 15\\u003c\\u002fb\\u003e\\u003cbr\\u003eWords: turkey, territorial, integrity, nuzhet, kandemir\",\"\\u003cb\\u003eTopic 15\\u003c\\u002fb\\u003e\\u003cbr\\u003eWords: ocalan, turkey, italy, sezgin, kurdish\",\"\\u003cb\\u003eTopic 15\\u003c\\u002fb\\u003e\\u003cbr\\u003eWords: turkey, ocalan, pkk, istanbul, kurdish\",\"\\u003cb\\u003eTopic 15\\u003c\\u002fb\\u003e\\u003cbr\\u003eWords: turkey, incirlik, wolfowitz, gaziantep, adana\",\"\\u003cb\\u003eTopic 15\\u003c\\u002fb\\u003e\\u003cbr\\u003eWords: turkey, istanbul, ankara, erdogan, gosende\",\"\\u003cb\\u003eTopic 15\\u003c\\u002fb\\u003e\\u003cbr\\u003eWords: turkey, pkk, ocalan, ankara, kurdistan\",\"\\u003cb\\u003eTopic 15\\u003c\\u002fb\\u003e\\u003cbr\\u003eWords: turkey, kargin, kurdish, dogan, erdogan\",\"\\u003cb\\u003eTopic 15\\u003c\\u002fb\\u003e\\u003cbr\\u003eWords: turkey, pkk, erdogan, germany, ipek\",\"\\u003cb\\u003eTopic 15\\u003c\\u002fb\\u003e\\u003cbr\\u003eWords: turkey, kurdish, ankara, perry, nato\",\"\\u003cb\\u003eTopic 15\\u003c\\u002fb\\u003e\\u003cbr\\u003eWords: turkey, ankara, sanli, dhkp, istanbul\",\"\\u003cb\\u003eTopic 15\\u003c\\u002fb\\u003e\\u003cbr\\u003eWords: turkey, erdogan, ankara, istanbul, kurdish\",\"\\u003cb\\u003eTopic 15\\u003c\\u002fb\\u003e\\u003cbr\\u003eWords: turkey, erdogan, cumhuriyet, brunson, istanbul\",\"\\u003cb\\u003eTopic 15\\u003c\\u002fb\\u003e\\u003cbr\\u003eWords: turkey, altan, istanbul, journalist, coup\"],\"marker\":{\"color\":\"#56B4E9\"},\"mode\":\"lines\",\"name\":\"15_turkey_ankara_istanbul_erdogan\",\"x\":[1979.96,1982.0,1984.0,1988.0,1990.0,1992.0,1994.0,1996.0,1998.0,2000.0,2002.0,2004.0,2006.0,2008.0,2010.0,2012.0,2014.0,2016.0,2018.0],\"y\":[0.000370377852751234,1.4839437288538018e-05,7.099045888232621e-06,1.898181542082685e-05,2.1848372296263928e-05,2.3169601482854495e-05,7.375066375597381e-06,1.2219561073366244e-05,1.668335001668335e-05,3.1055900621118013e-06,1.4030912907317401e-05,5.7688092024044395e-06,5.478071280663504e-06,1.1857332574464048e-05,1.366792411568531e-05,4.321894718644654e-05,8.174485915663526e-05,6.573914706444827e-05,1.9487533546397034e-05],\"type\":\"scatter\"},{\"hoverinfo\":\"text\",\"hovertext\":[\"\\u003cb\\u003eTopic 22\\u003c\\u002fb\\u003e\\u003cbr\\u003eWords: libya, qaddafi, colonel, oil, tripoli\",\"\\u003cb\\u003eTopic 22\\u003c\\u002fb\\u003e\\u003cbr\\u003eWords: libya, malta, qaddafi, mintoff, colonel\",\"\\u003cb\\u003eTopic 22\\u003c\\u002fb\\u003e\\u003cbr\\u003eWords: libya, qaddafi, colonel, tripoli, sidra\",\"\\u003cb\\u003eTopic 22\\u003c\\u002fb\\u003e\\u003cbr\\u003eWords: libya, qaddafi, chad, benin, colonel\",\"\\u003cb\\u003eTopic 22\\u003c\\u002fb\\u003e\\u003cbr\\u003eWords: libya, gadhafi, qaddafi, tripoli, weapon\",\"\\u003cb\\u003eTopic 22\\u003c\\u002fb\\u003e\\u003cbr\\u003eWords: libya, qaddafi, gadhafi, pan, tripoli\",\"\\u003cb\\u003eTopic 22\\u003c\\u002fb\\u003e\\u003cbr\\u003eWords: libya, gadhafi, qaddafi, tripoli, sanction\",\"\\u003cb\\u003eTopic 22\\u003c\\u002fb\\u003e\\u003cbr\\u003eWords: farrakhan, libya, embargo, treasury, gadhafi\",\"\\u003cb\\u003eTopic 22\\u003c\\u002fb\\u003e\\u003cbr\\u003eWords: libya, qaddafi, tripoli, gadhafi, sanction\",\"\\u003cb\\u003eTopic 22\\u003c\\u002fb\\u003e\\u003cbr\\u003eWords: libya, monetti, gadhafi, kusa, pan\",\"\\u003cb\\u003eTopic 22\\u003c\\u002fb\\u003e\\u003cbr\\u003eWords: libya, gadhafi, sanction, lift, qaddafi\",\"\\u003cb\\u003eTopic 22\\u003c\\u002fb\\u003e\\u003cbr\\u003eWords: libya, gadhafi, qaddafi, tripoli, oil\",\"\\u003cb\\u003eTopic 22\\u003c\\u002fb\\u003e\\u003cbr\\u003eWords: libya, gadhafi, tripoli, qaddafi, lockerbie\",\"\\u003cb\\u003eTopic 22\\u003c\\u002fb\\u003e\\u003cbr\\u003eWords: libya, gadhafi, qaddafi, brennan, tripoli\",\"\\u003cb\\u003eTopic 22\\u003c\\u002fb\\u003e\\u003cbr\\u003eWords: libya, hifter, tripoli, gadhafi, militia\",\"\\u003cb\\u003eTopic 22\\u003c\\u002fb\\u003e\\u003cbr\\u003eWords: libya, oil, gazzini, isi, april\",\"\\u003cb\\u003eTopic 22\\u003c\\u002fb\\u003e\\u003cbr\\u003eWords: hifter, libya, tripoli, haftar, qaddafi\"],\"marker\":{\"color\":\"#009E73\"},\"mode\":\"lines\",\"name\":\"22_libya_qaddafi_gadhafi_tripoli\",\"x\":[1979.96,1982.0,1984.0,1986.0,1988.0,1990.0,1992.0,1994.0,1998.0,2000.0,2002.0,2004.0,2006.0,2010.0,2012.0,2014.0,2018.0],\"y\":[0.000185188926375617,3.709859322134505e-05,0.00014907996365288504,4.110405491501737e-05,5.6945446262480546e-05,7.28279076542131e-05,6.178560395427866e-05,7.375066375597381e-06,3.33667000333667e-05,3.1055900621118013e-06,5.612365162926961e-06,2.88440460120222e-05,3.5607463324312774e-05,2.1868678585096495e-05,9.261202968524258e-06,3.027587376171676e-06,1.3919666818855024e-05],\"type\":\"scatter\"},{\"hoverinfo\":\"text\",\"hovertext\":[\"\\u003cb\\u003eTopic 23\\u003c\\u002fb\\u003e\\u003cbr\\u003eWords: ireland, ira, northern, protestant, ulster\",\"\\u003cb\\u003eTopic 23\\u003c\\u002fb\\u003e\\u003cbr\\u003eWords: ireland, northern, ira, britain, parade\",\"\\u003cb\\u003eTopic 23\\u003c\\u002fb\\u003e\\u003cbr\\u003eWords: ireland, ira, tyrie, archbishop, northern\",\"\\u003cb\\u003eTopic 23\\u003c\\u002fb\\u003e\\u003cbr\\u003eWords: ira, ireland, britain, northern, sinn\",\"\\u003cb\\u003eTopic 23\\u003c\\u002fb\\u003e\\u003cbr\\u003eWords: ireland, northern, ira, aoh, ulster\",\"\\u003cb\\u003eTopic 23\\u003c\\u002fb\\u003e\\u003cbr\\u003eWords: ireland, ira, northern, protestant, britain\",\"\\u003cb\\u003eTopic 23\\u003c\\u002fb\\u003e\\u003cbr\\u003eWords: ireland, ira, northern, adams, protestant\",\"\\u003cb\\u003eTopic 23\\u003c\\u002fb\\u003e\\u003cbr\\u003eWords: ireland, ira, sinn, fein, northern\",\"\\u003cb\\u003eTopic 23\\u003c\\u002fb\\u003e\\u003cbr\\u003eWords: ireland, ira, northern, ahern, protestant\",\"\\u003cb\\u003eTopic 23\\u003c\\u002fb\\u003e\\u003cbr\\u003eWords: ira, ireland, northern, dissident, protestant\",\"\\u003cb\\u003eTopic 23\\u003c\\u002fb\\u003e\\u003cbr\\u003eWords: ireland, northern, ira, protestant, belfast\",\"\\u003cb\\u003eTopic 23\\u003c\\u002fb\\u003e\\u003cbr\\u003eWords: mckevitt, ira, ireland, omagh, rupert\",\"\\u003cb\\u003eTopic 23\\u003c\\u002fb\\u003e\\u003cbr\\u003eWords: ireland, ira, northern, sinn, fein\",\"\\u003cb\\u003eTopic 23\\u003c\\u002fb\\u003e\\u003cbr\\u003eWords: ireland, northern, ira, belfast, leavey\",\"\\u003cb\\u003eTopic 23\\u003c\\u002fb\\u003e\\u003cbr\\u003eWords: ireland, ira, northern, duffy, britain\",\"\\u003cb\\u003eTopic 23\\u003c\\u002fb\\u003e\\u003cbr\\u003eWords: ireland, belfast, ira, northern, mabel\",\"\\u003cb\\u003eTopic 23\\u003c\\u002fb\\u003e\\u003cbr\\u003eWords: mason, ireland, sasnett, chun, merylkornfield\",\"\\u003cb\\u003eTopic 23\\u003c\\u002fb\\u003e\\u003cbr\\u003eWords: mckee, ireland, ira, northern, lyra\"],\"marker\":{\"color\":\"#F0E442\"},\"mode\":\"lines\",\"name\":\"23_ireland_ira_northern_protestant\",\"x\":[1979.96,1982.0,1984.0,1986.0,1988.0,1990.0,1992.0,1994.0,1996.0,1998.0,2000.0,2002.0,2004.0,2008.0,2010.0,2012.0,2014.0,2018.0],\"y\":[0.00021885964026209281,0.00011871549830830414,3.549522944116311e-05,5.138006864377171e-05,3.79636308416537e-05,4.3696744592527856e-05,0.00016991041087426628,4.4250398253584284e-05,2.4439122146732488e-05,1.1122233344455567e-05,9.316770186335403e-06,2.8061825814634805e-06,2.0190832208415537e-05,5.928666287232024e-06,1.0934339292548247e-05,1.5435338280873762e-05,3.027587376171676e-06,1.1135733455084019e-05],\"type\":\"scatter\"},{\"hoverinfo\":\"text\",\"hovertext\":[\"\\u003cb\\u003eTopic 31\\u003c\\u002fb\\u003e\\u003cbr\\u003eWords: reagan, soviet, haig, intelligence, carter\",\"\\u003cb\\u003eTopic 31\\u003c\\u002fb\\u003e\\u003cbr\\u003eWords: reagan, soviet, nicaragua, administration, ireland\",\"\\u003cb\\u003eTopic 31\\u003c\\u002fb\\u003e\\u003cbr\\u003eWords: reagan, iran, soviet, arms, administration\",\"\\u003cb\\u003eTopic 31\\u003c\\u002fb\\u003e\\u003cbr\\u003eWords: reagan, ledeen, iran, spadolini, soviet\",\"\\u003cb\\u003eTopic 31\\u003c\\u002fb\\u003e\\u003cbr\\u003eWords: yuni, reagan, extradite, bureau, hamadei\",\"\\u003cb\\u003eTopic 31\\u003c\\u002fb\\u003e\\u003cbr\\u003eWords: reagan, iran, casey, turner, soviet\",\"\\u003cb\\u003eTopic 31\\u003c\\u002fb\\u003e\\u003cbr\\u003eWords: fujimori, hostage, japan, bolshevik, reagan\",\"\\u003cb\\u003eTopic 31\\u003c\\u002fb\\u003e\\u003cbr\\u003eWords: reagan, ronald, memo, papers, cruise\",\"\\u003cb\\u003eTopic 31\\u003c\\u002fb\\u003e\\u003cbr\\u003eWords: environmental, efficiency, reagan, clean, automaker\",\"\\u003cb\\u003eTopic 31\\u003c\\u002fb\\u003e\\u003cbr\\u003eWords: philpot, matheson, reagan, treaty, overreaction\",\"\\u003cb\\u003eTopic 31\\u003c\\u002fb\\u003e\\u003cbr\\u003eWords: carter, reagan, romney, unpopular, decision\",\"\\u003cb\\u003eTopic 31\\u003c\\u002fb\\u003e\\u003cbr\\u003eWords: reagan, history, trump, trip, futures\",\"\\u003cb\\u003eTopic 31\\u003c\\u002fb\\u003e\\u003cbr\\u003eWords: reagan, endless, carter, donatelli, hostage\"],\"marker\":{\"color\":\"#D55E00\"},\"mode\":\"lines\",\"name\":\"31_reagan_soviet_iran_administration\",\"x\":[1979.96,1982.0,1984.0,1986.0,1988.0,1990.0,1996.0,2000.0,2002.0,2008.0,2010.0,2016.0,2018.0],\"y\":[0.0001515182124891412,0.0001483943728853802,0.0002342685143116765,8.220810983003474e-05,1.898181542082685e-05,4.3696744592527856e-05,6.109780536683122e-06,6.2111801242236025e-06,2.8061825814634805e-06,8.892999430848037e-06,5.467169646274124e-06,5.9762860967680245e-06,5.567866727542009e-06],\"type\":\"scatter\"},{\"hoverinfo\":\"text\",\"hovertext\":[\"\\u003cb\\u003eTopic 32\\u003c\\u002fb\\u003e\\u003cbr\\u003eWords: salvador, nicaragua, honduras, costa, salvadoran\",\"\\u003cb\\u003eTopic 32\\u003c\\u002fb\\u003e\\u003cbr\\u003eWords: nicaragua, salvador, salvadoran, el, honduras\",\"\\u003cb\\u003eTopic 32\\u003c\\u002fb\\u003e\\u003cbr\\u003eWords: nicaragua, salvador, salvadoran, duarte, sandinista\",\"\\u003cb\\u003eTopic 32\\u003c\\u002fb\\u003e\\u003cbr\\u003eWords: contra, nicaragua, sandinista, salvador, linder\",\"\\u003cb\\u003eTopic 32\\u003c\\u002fb\\u003e\\u003cbr\\u003eWords: salvador, cristiani, arena, salvadoran, el\",\"\\u003cb\\u003eTopic 32\\u003c\\u002fb\\u003e\\u003cbr\\u003eWords: menem, nicaragua, antonietti, dollar, salvador\",\"\\u003cb\\u003eTopic 32\\u003c\\u002fb\\u003e\\u003cbr\\u003eWords: oas, venezuela, powell, barbados, reich\",\"\\u003cb\\u003eTopic 32\\u003c\\u002fb\\u003e\\u003cbr\\u003eWords: honduras, salvador, reactor, putin, nicaragua\",\"\\u003cb\\u003eTopic 32\\u003c\\u002fb\\u003e\\u003cbr\\u003eWords: nicaragua, missile, contra, sandinista, rivera\",\"\\u003cb\\u003eTopic 32\\u003c\\u002fb\\u003e\\u003cbr\\u003eWords: salvador, salvadoran, suchitoto, saca, el\",\"\\u003cb\\u003eTopic 32\\u003c\\u002fb\\u003e\\u003cbr\\u003eWords: platform, sonoran, knutson, graveyard, neighbor\"],\"marker\":{\"color\":\"#0072B2\"},\"mode\":\"lines\",\"name\":\"32_nicaragua_salvador_salvadoran_el\",\"x\":[1979.96,1982.0,1984.0,1986.0,1988.0,1992.0,2000.0,2002.0,2004.0,2006.0,2018.0],\"y\":[0.0002777833895634255,0.0002522704339051463,7.808950477055884e-05,5.138006864377171e-05,1.898181542082685e-05,1.5446400988569664e-05,3.1055900621118013e-06,2.8061825814634805e-06,2.8844046012022197e-06,1.0956142561327008e-05,2.7839333637710047e-06],\"type\":\"scatter\"},{\"hoverinfo\":\"text\",\"hovertext\":[\"\\u003cb\\u003eTopic 36\\u003c\\u002fb\\u003e\\u003cbr\\u003eWords: hostage, iran, honsowitz, kidnap, dr\",\"\\u003cb\\u003eTopic 36\\u003c\\u002fb\\u003e\\u003cbr\\u003eWords: tamil, kidnap, allen, gold, jayewardene\",\"\\u003cb\\u003eTopic 36\\u003c\\u002fb\\u003e\\u003cbr\\u003eWords: hostage, lebanon, hijack, iran, beirut\",\"\\u003cb\\u003eTopic 36\\u003c\\u002fb\\u003e\\u003cbr\\u003eWords: hostage, iran, hamadei, lebanon, kidnap\",\"\\u003cb\\u003eTopic 36\\u003c\\u002fb\\u003e\\u003cbr\\u003eWords: hostage, obeid, kidnap, higgin, iran\",\"\\u003cb\\u003eTopic 36\\u003c\\u002fb\\u003e\\u003cbr\\u003eWords: hostage, iran, lebanon, turner, kidnap\",\"\\u003cb\\u003eTopic 36\\u003c\\u002fb\\u003e\\u003cbr\\u003eWords: eslam, hostage, ol, iran, katzman\",\"\\u003cb\\u003eTopic 36\\u003c\\u002fb\\u003e\\u003cbr\\u003eWords: hostage, bargain, kidnap, israel, lebanon\",\"\\u003cb\\u003eTopic 36\\u003c\\u002fb\\u003e\\u003cbr\\u003eWords: hostage, lainie, philippine, sayyaf, drama\",\"\\u003cb\\u003eTopic 36\\u003c\\u002fb\\u003e\\u003cbr\\u003eWords: hostage, iran, laingen, needham, kirtley\",\"\\u003cb\\u003eTopic 36\\u003c\\u002fb\\u003e\\u003cbr\\u003eWords: hostage, sailor, iran, coincidence, pelosi\",\"\\u003cb\\u003eTopic 36\\u003c\\u002fb\\u003e\\u003cbr\\u003eWords: hostage, kidnap, concession, aq, behead\",\"\\u003cb\\u003eTopic 36\\u003c\\u002fb\\u003e\\u003cbr\\u003eWords: hostage, walton, restitution, niger, rescue\"],\"marker\":{\"color\":\"#CC79A7\"},\"mode\":\"lines\",\"name\":\"36_hostage_iran_lebanon_kidnap\",\"x\":[1979.96,1982.0,1984.0,1986.0,1988.0,1990.0,1992.0,1996.0,1998.0,2002.0,2006.0,2014.0,2018.0],\"y\":[5.050607082971373e-05,7.419718644269009e-06,0.00014907996365288504,0.00018496824711757815,0.0001613454310770282,9.467627995047702e-05,1.5446400988569664e-05,6.109780536683122e-06,1.1122233344455567e-05,8.418547744390441e-06,2.739035640331752e-06,3.027587376171676e-06,5.567866727542009e-06],\"type\":\"scatter\"},{\"hoverinfo\":\"text\",\"hovertext\":[\"\\u003cb\\u003eTopic 48\\u003c\\u002fb\\u003e\\u003cbr\\u003eWords: italy, brigade, red, moro, rome\",\"\\u003cb\\u003eTopic 48\\u003c\\u002fb\\u003e\\u003cbr\\u003eWords: italy, brigade, red, dozy, moro\",\"\\u003cb\\u003eTopic 48\\u003c\\u002fb\\u003e\\u003cbr\\u003eWords: italy, brigade, tarantelli, eco, red\",\"\\u003cb\\u003eTopic 48\\u003c\\u002fb\\u003e\\u003cbr\\u003eWords: italy, brigade, red, moro, priore\",\"\\u003cb\\u003eTopic 48\\u003c\\u002fb\\u003e\\u003cbr\\u003eWords: italy, ustica, bologna, cossiga, occhetto\",\"\\u003cb\\u003eTopic 48\\u003c\\u002fb\\u003e\\u003cbr\\u003eWords: curcio, brigade, italy, red, cossiga\",\"\\u003cb\\u003eTopic 48\\u003c\\u002fb\\u003e\\u003cbr\\u003eWords: italy, mafia, florence, spadolini, brigade\",\"\\u003cb\\u003eTopic 48\\u003c\\u002fb\\u003e\\u003cbr\\u003eWords: italy, brigade, red, antona, angeletti\",\"\\u003cb\\u003eTopic 48\\u003c\\u002fb\\u003e\\u003cbr\\u003eWords: sembler, negri, italy, brigade, mel\",\"\\u003cb\\u003eTopic 48\\u003c\\u002fb\\u003e\\u003cbr\\u003eWords: italy, chiara, moro, sgrena, bellocchio\",\"\\u003cb\\u003eTopic 48\\u003c\\u002fb\\u003e\\u003cbr\\u003eWords: italy, petrella, brigade, sarkozy, red\",\"\\u003cb\\u003eTopic 48\\u003c\\u002fb\\u003e\\u003cbr\\u003eWords: italy, anarchist, rome, fai, chile\",\"\\u003cb\\u003eTopic 48\\u003c\\u002fb\\u003e\\u003cbr\\u003eWords: italy, brindisi, mafia, school, bassi\",\"\\u003cb\\u003eTopic 48\\u003c\\u002fb\\u003e\\u003cbr\\u003eWords: italy, tyrol, germany, tyrolean, brunico\",\"\\u003cb\\u003eTopic 48\\u003c\\u002fb\\u003e\\u003cbr\\u003eWords: ding, catania, italy, riley, junction\"],\"marker\":{\"color\":\"#E69F00\"},\"mode\":\"lines\",\"name\":\"48_italy_brigade_red_moro\",\"x\":[1979.96,1982.0,1984.0,1986.0,1988.0,1990.0,1992.0,2000.0,2002.0,2004.0,2006.0,2008.0,2010.0,2012.0,2016.0],\"y\":[0.00031145410344990133,2.9678874577076036e-05,2.8396183552930485e-05,3.082804118626302e-05,9.490907710413424e-06,7.282790765421309e-06,3.861600247142416e-05,3.1055900621118013e-06,5.612365162926961e-06,5.7688092024044395e-06,5.478071280663504e-06,5.928666287232024e-06,1.0934339292548247e-05,3.0870676561747527e-06,2.9881430483840122e-06],\"type\":\"scatter\"},{\"hoverinfo\":\"text\",\"hovertext\":[\"\\u003cb\\u003eTopic 58\\u003c\\u002fb\\u003e\\u003cbr\\u003eWords: dance, diversify, trump, platform, gerth\",\"\\u003cb\\u003eTopic 58\\u003c\\u002fb\\u003e\\u003cbr\\u003eWords: giuliani, democrat, xiomara, plenty, conclave\",\"\\u003cb\\u003eTopic 58\\u003c\\u002fb\\u003e\\u003cbr\\u003eWords: trump, clinton, candidate, presidential, donald\",\"\\u003cb\\u003eTopic 58\\u003c\\u002fb\\u003e\\u003cbr\\u003eWords: trump, ban, muslim, clinton, republican\"],\"marker\":{\"color\":\"#56B4E9\"},\"mode\":\"lines\",\"name\":\"58_trump_clinton_candidate_presidential\",\"x\":[1994.0,2006.0,2014.0,2016.0],\"y\":[7.375066375597381e-06,2.739035640331752e-06,0.0001544069561847555,2.3905144387072098e-05],\"type\":\"scatter\"},{\"hoverinfo\":\"text\",\"hovertext\":[\"\\u003cb\\u003eTopic 76\\u003c\\u002fb\\u003e\\u003cbr\\u003eWords: hashemi, ayatollah, montazeri, rahman, abdel\",\"\\u003cb\\u003eTopic 76\\u003c\\u002fb\\u003e\\u003cbr\\u003eWords: rahman, abdel, sheik, nosair, salameh\",\"\\u003cb\\u003eTopic 76\\u003c\\u002fb\\u003e\\u003cbr\\u003eWords: rahman, abdel, sheik, salem, conspiracy\",\"\\u003cb\\u003eTopic 76\\u003c\\u002fb\\u003e\\u003cbr\\u003eWords: rashid, indict, interpreter, russell, walute\",\"\\u003cb\\u003eTopic 76\\u003c\\u002fb\\u003e\\u003cbr\\u003eWords: farahat, guidi, weitz, hoffman, hotel\",\"\\u003cb\\u003eTopic 76\\u003c\\u002fb\\u003e\\u003cbr\\u003eWords: mubarak, rahman, sheik, abdel, egypt\",\"\\u003cb\\u003eTopic 76\\u003c\\u002fb\\u003e\\u003cbr\\u003eWords: rahman, abdel, egypt, blind, sadat\",\"\\u003cb\\u003eTopic 76\\u003c\\u002fb\\u003e\\u003cbr\\u003eWords: shaabab, beaumont, ahme, inmate, rahman\"],\"marker\":{\"color\":\"#009E73\"},\"mode\":\"lines\",\"name\":\"76_rahman_abdel_sheik_nosair\",\"x\":[1986.0,1992.0,1994.0,1996.0,2002.0,2010.0,2016.0,2018.0],\"y\":[2.0552027457508685e-05,0.0002625888168056843,0.00011062599563396071,6.109780536683122e-06,2.8061825814634805e-06,2.733584823137062e-06,2.9881430483840122e-06,2.7839333637710047e-06],\"type\":\"scatter\"},{\"hoverinfo\":\"text\",\"hovertext\":[\"\\u003cb\\u003eTopic 84\\u003c\\u002fb\\u003e\\u003cbr\\u003eWords: tsarnaev, tamerlan, boston, dzhokhar, brother\",\"\\u003cb\\u003eTopic 84\\u003c\\u002fb\\u003e\\u003cbr\\u003eWords: tsarnaev, burke, boston, stith, marathon\",\"\\u003cb\\u003eTopic 84\\u003c\\u002fb\\u003e\\u003cbr\\u003eWords: ciccolo, boston, tsarnaev, macinne, cooker\",\"\\u003cb\\u003eTopic 84\\u003c\\u002fb\\u003e\\u003cbr\\u003eWords: tsarnaev, tamerlan, boston, brother, dzhokhar\"],\"marker\":{\"color\":\"#F0E442\"},\"mode\":\"lines\",\"name\":\"84_tsarnaev_tamerlan_boston_dzhokhar\",\"x\":[2012.0,2014.0,2016.0,2018.0],\"y\":[0.00015435338280873765,3.027587376171676e-06,2.9881430483840122e-06,2.7839333637710047e-06],\"type\":\"scatter\"},{\"hoverinfo\":\"text\",\"hovertext\":[\"\\u003cb\\u003eTopic 94\\u003c\\u002fb\\u003e\\u003cbr\\u003eWords: boston, turner, marketing, device, broadcasting\",\"\\u003cb\\u003eTopic 94\\u003c\\u002fb\\u003e\\u003cbr\\u003eWords: boston, marathon, runner, krause, finish\",\"\\u003cb\\u003eTopic 94\\u003c\\u002fb\\u003e\\u003cbr\\u003eWords: boston, bomber, marathon, stubben, penalty\",\"\\u003cb\\u003eTopic 94\\u003c\\u002fb\\u003e\\u003cbr\\u003eWords: bauman, boston, marathon, gyllenhaal, film\",\"\\u003cb\\u003eTopic 94\\u003c\\u002fb\\u003e\\u003cbr\\u003eWords: wray, boston, marathon, pose, domestic\"],\"marker\":{\"color\":\"#D55E00\"},\"mode\":\"lines\",\"name\":\"94_boston_marathon_runner_krause\",\"x\":[2006.0,2012.0,2014.0,2016.0,2018.0],\"y\":[8.217106920995255e-06,0.00012965684155933962,3.027587376171676e-06,5.9762860967680245e-06,2.7839333637710047e-06],\"type\":\"scatter\"},{\"hoverinfo\":\"text\",\"hovertext\":[\"\\u003cb\\u003eTopic 97\\u003c\\u002fb\\u003e\\u003cbr\\u003eWords: mahoney, ratshot, saudi, pasco, deputy\",\"\\u003cb\\u003eTopic 97\\u003c\\u002fb\\u003e\\u003cbr\\u003eWords: kingsville, aransa, helicopter, fanto, cavazo\",\"\\u003cb\\u003eTopic 97\\u003c\\u002fb\\u003e\\u003cbr\\u003eWords: dive, scuba, hurin, instructor, kolko\",\"\\u003cb\\u003eTopic 97\\u003c\\u002fb\\u003e\\u003cbr\\u003eWords: pensacola, saudi, shoot, naval, alshamrani\"],\"marker\":{\"color\":\"#0072B2\"},\"mode\":\"lines\",\"name\":\"97_pensacola_saudi_shoot_naval\",\"x\":[1990.0,1998.0,2006.0,2018.0],\"y\":[1.4565581530842619e-05,5.561116672227784e-06,2.739035640331752e-06,0.00011970913464215321],\"type\":\"scatter\"},{\"hoverinfo\":\"text\",\"hovertext\":[\"\\u003cb\\u003eTopic 119\\u003c\\u002fb\\u003e\\u003cbr\\u003eWords: haig, syria, assad, israel, lebanon\",\"\\u003cb\\u003eTopic 119\\u003c\\u002fb\\u003e\\u003cbr\\u003eWords: meridor, shamir, syria, bekaa, israel\",\"\\u003cb\\u003eTopic 119\\u003c\\u002fb\\u003e\\u003cbr\\u003eWords: assad, papandreou, syria, greece, athens\",\"\\u003cb\\u003eTopic 119\\u003c\\u002fb\\u003e\\u003cbr\\u003eWords: syria, assad, damascus, baker, peace\",\"\\u003cb\\u003eTopic 119\\u003c\\u002fb\\u003e\\u003cbr\\u003eWords: assad, syria, clinton, peace, christopher\",\"\\u003cb\\u003eTopic 119\\u003c\\u002fb\\u003e\\u003cbr\\u003eWords: sharaa, syria, restart, hammer, clinton\"],\"marker\":{\"color\":\"#CC79A7\"},\"mode\":\"lines\",\"name\":\"119_assad_syria_clinton_peace\",\"x\":[1979.96,1982.0,1984.0,1990.0,1992.0,1998.0],\"y\":[8.417678471618955e-06,7.419718644269009e-06,7.099045888232621e-06,2.1848372296263928e-05,0.0002394192153228298,5.561116672227784e-06],\"type\":\"scatter\"},{\"hoverinfo\":\"text\",\"hovertext\":[\"\\u003cb\\u003eTopic 129\\u003c\\u002fb\\u003e\\u003cbr\\u003eWords: clinton, sudan, fundamentalist, mideastern, lazarte\",\"\\u003cb\\u003eTopic 129\\u003c\\u002fb\\u003e\\u003cbr\\u003eWords: clinton, declaration, declare, deterrence, america\",\"\\u003cb\\u003eTopic 129\\u003c\\u002fb\\u003e\\u003cbr\\u003eWords: clinton, berger, embassy, laden, strike\",\"\\u003cb\\u003eTopic 129\\u003c\\u002fb\\u003e\\u003cbr\\u003eWords: clinton, embassy, sudan, missile, strike\",\"\\u003cb\\u003eTopic 129\\u003c\\u002fb\\u003e\\u003cbr\\u003eWords: sheik, omar, yousef, clinton, irrelevant\"],\"marker\":{\"color\":\"#E69F00\"},\"mode\":\"lines\",\"name\":\"129_clinton_berger_embassy_strike\",\"x\":[1992.0,1994.0,1996.0,1998.0,2004.0],\"y\":[3.089280197713933e-05,2.2125199126792142e-05,0.0001405249523437118,2.2244466688911134e-05,2.8844046012022197e-06],\"type\":\"scatter\"},{\"hoverinfo\":\"text\",\"hovertext\":[\"\\u003cb\\u003eTopic 130\\u003c\\u002fb\\u003e\\u003cbr\\u003eWords: marine, beirut, lebanon, commander, commission\",\"\\u003cb\\u003eTopic 130\\u003c\\u002fb\\u003e\\u003cbr\\u003eWords: lebanon, beirut, marine, fadlallah, intelligence\",\"\\u003cb\\u003eTopic 130\\u003c\\u002fb\\u003e\\u003cbr\\u003eWords: capture, obeid, lebanon, hizbullah, roots\",\"\\u003cb\\u003eTopic 130\\u003c\\u002fb\\u003e\\u003cbr\\u003eWords: lebanon, albright, ban, lift, beirut\",\"\\u003cb\\u003eTopic 130\\u003c\\u002fb\\u003e\\u003cbr\\u003eWords: lebanon, chabaan, chaaban, isf, visitor\",\"\\u003cb\\u003eTopic 130\\u003c\\u002fb\\u003e\\u003cbr\\u003eWords: asgari, bird, lebanon, beirut, marine\"],\"marker\":{\"color\":\"#56B4E9\"},\"mode\":\"lines\",\"name\":\"130_marine_lebanon_beirut_commander\",\"x\":[1982.0,1984.0,1988.0,1996.0,2006.0,2012.0],\"y\":[0.00019291268475099424,2.8396183552930485e-05,9.490907710413424e-06,6.109780536683122e-06,2.739035640331752e-06,3.0870676561747527e-06],\"type\":\"scatter\"},{\"hoverinfo\":\"text\",\"hovertext\":[\"\\u003cb\\u003eTopic 145\\u003c\\u002fb\\u003e\\u003cbr\\u003eWords: contract, export, abrogate, trade, sanction\",\"\\u003cb\\u003eTopic 145\\u003c\\u002fb\\u003e\\u003cbr\\u003eWords: clinton, summit, chirac, sanction, iran\",\"\\u003cb\\u003eTopic 145\\u003c\\u002fb\\u003e\\u003cbr\\u003eWords: chirac, nuclear, france, jacque, interests\"],\"marker\":{\"color\":\"#009E73\"},\"mode\":\"lines\",\"name\":\"145_clinton_summit_chirac_sanction\",\"x\":[1982.0,1994.0,2004.0],\"y\":[7.419718644269009e-06,0.00019912679214112927,2.8844046012022197e-06],\"type\":\"scatter\"},{\"hoverinfo\":\"text\",\"hovertext\":[\"\\u003cb\\u003eTopic 154\\u003c\\u002fb\\u003e\\u003cbr\\u003eWords: abdallah, carlos, baechelin, kiejman, france\",\"\\u003cb\\u003eTopic 154\\u003c\\u002fb\\u003e\\u003cbr\\u003eWords: hack, carlos, vienna, dr, hearst\",\"\\u003cb\\u003eTopic 154\\u003c\\u002fb\\u003e\\u003cbr\\u003eWords: carlos, france, jackal, pasqua, sudan\",\"\\u003cb\\u003eTopic 154\\u003c\\u002fb\\u003e\\u003cbr\\u003eWords: ramirez, carlos, necchi, france, jackal\",\"\\u003cb\\u003eTopic 154\\u003c\\u002fb\\u003e\\u003cbr\\u003eWords: bruguiere, carlos, france, jackal, mccolgan\",\"\\u003cb\\u003eTopic 154\\u003c\\u002fb\\u003e\\u003cbr\\u003eWords: morocco, carlos, robert, labrousse, bousquet\",\"\\u003cb\\u003eTopic 154\\u003c\\u002fb\\u003e\\u003cbr\\u003eWords: carlos, ramirez, episode, opec, sanchez\"],\"marker\":{\"color\":\"#F0E442\"},\"mode\":\"lines\",\"name\":\"154_carlos_france_ramirez_jackal\",\"x\":[1986.0,1988.0,1992.0,1996.0,2000.0,2002.0,2010.0],\"y\":[1.0276013728754342e-05,9.490907710413424e-06,0.00015446400988569664,1.8329341610049368e-05,3.1055900621118013e-06,2.8061825814634805e-06,2.733584823137062e-06],\"type\":\"scatter\"},{\"hoverinfo\":\"text\",\"hovertext\":[\"\\u003cb\\u003eTopic 178\\u003c\\u002fb\\u003e\\u003cbr\\u003eWords: libya, qaddafi, reagan, colonel, reckless\",\"\\u003cb\\u003eTopic 178\\u003c\\u002fb\\u003e\\u003cbr\\u003eWords: libya, reagan, qaddafi, europe, colonel\",\"\\u003cb\\u003eTopic 178\\u003c\\u002fb\\u003e\\u003cbr\\u003eWords: libya, disagreement, qaddafi, reagan, acropol\"],\"marker\":{\"color\":\"#D55E00\"},\"mode\":\"lines\",\"name\":\"178_libya_reagan_qaddafi_europe\",\"x\":[1979.96,1984.0,1986.0],\"y\":[8.417678471618955e-06,0.00014198091776465243,1.0276013728754342e-05],\"type\":\"scatter\"},{\"hoverinfo\":\"text\",\"hovertext\":[\"\\u003cb\\u003eTopic 204\\u003c\\u002fb\\u003e\\u003cbr\\u003eWords: ressam, algeria, garofalo, holiday, customs\",\"\\u003cb\\u003eTopic 204\\u003c\\u002fb\\u003e\\u003cbr\\u003eWords: lng, tanker, markey, boston, connection\"],\"marker\":{\"color\":\"#0072B2\"},\"mode\":\"lines\",\"name\":\"204_ressam_algeria_garofalo_holiday\",\"x\":[1998.0,2002.0],\"y\":[0.0001001001001001001,2.8061825814634805e-06],\"type\":\"scatter\"},{\"hoverinfo\":\"text\",\"hovertext\":[\"\\u003cb\\u003eTopic 206\\u003c\\u002fb\\u003e\\u003cbr\\u003eWords: mirage, libya, return, aerospatiale, supersonic\",\"\\u003cb\\u003eTopic 206\\u003c\\u002fb\\u003e\\u003cbr\\u003eWords: libya, council, resolution, pan, sanction\",\"\\u003cb\\u003eTopic 206\\u003c\\u002fb\\u003e\\u003cbr\\u003eWords: kousa, libya, council, resolution, puri\"],\"marker\":{\"color\":\"#CC79A7\"},\"mode\":\"lines\",\"name\":\"206_libya_council_resolution_pan\",\"x\":[1988.0,1990.0,2010.0],\"y\":[9.490907710413424e-06,0.00011652465224674095,2.733584823137062e-06],\"type\":\"scatter\"}],                        {\"template\":{\"data\":{\"barpolar\":[{\"marker\":{\"line\":{\"color\":\"white\",\"width\":0.5},\"pattern\":{\"fillmode\":\"overlay\",\"size\":10,\"solidity\":0.2}},\"type\":\"barpolar\"}],\"bar\":[{\"error_x\":{\"color\":\"rgb(36,36,36)\"},\"error_y\":{\"color\":\"rgb(36,36,36)\"},\"marker\":{\"line\":{\"color\":\"white\",\"width\":0.5},\"pattern\":{\"fillmode\":\"overlay\",\"size\":10,\"solidity\":0.2}},\"type\":\"bar\"}],\"carpet\":[{\"aaxis\":{\"endlinecolor\":\"rgb(36,36,36)\",\"gridcolor\":\"white\",\"linecolor\":\"white\",\"minorgridcolor\":\"white\",\"startlinecolor\":\"rgb(36,36,36)\"},\"baxis\":{\"endlinecolor\":\"rgb(36,36,36)\",\"gridcolor\":\"white\",\"linecolor\":\"white\",\"minorgridcolor\":\"white\",\"startlinecolor\":\"rgb(36,36,36)\"},\"type\":\"carpet\"}],\"choropleth\":[{\"colorbar\":{\"outlinewidth\":1,\"tickcolor\":\"rgb(36,36,36)\",\"ticks\":\"outside\"},\"type\":\"choropleth\"}],\"contourcarpet\":[{\"colorbar\":{\"outlinewidth\":1,\"tickcolor\":\"rgb(36,36,36)\",\"ticks\":\"outside\"},\"type\":\"contourcarpet\"}],\"contour\":[{\"colorbar\":{\"outlinewidth\":1,\"tickcolor\":\"rgb(36,36,36)\",\"ticks\":\"outside\"},\"colorscale\":[[0.0,\"#440154\"],[0.1111111111111111,\"#482878\"],[0.2222222222222222,\"#3e4989\"],[0.3333333333333333,\"#31688e\"],[0.4444444444444444,\"#26828e\"],[0.5555555555555556,\"#1f9e89\"],[0.6666666666666666,\"#35b779\"],[0.7777777777777778,\"#6ece58\"],[0.8888888888888888,\"#b5de2b\"],[1.0,\"#fde725\"]],\"type\":\"contour\"}],\"heatmapgl\":[{\"colorbar\":{\"outlinewidth\":1,\"tickcolor\":\"rgb(36,36,36)\",\"ticks\":\"outside\"},\"colorscale\":[[0.0,\"#440154\"],[0.1111111111111111,\"#482878\"],[0.2222222222222222,\"#3e4989\"],[0.3333333333333333,\"#31688e\"],[0.4444444444444444,\"#26828e\"],[0.5555555555555556,\"#1f9e89\"],[0.6666666666666666,\"#35b779\"],[0.7777777777777778,\"#6ece58\"],[0.8888888888888888,\"#b5de2b\"],[1.0,\"#fde725\"]],\"type\":\"heatmapgl\"}],\"heatmap\":[{\"colorbar\":{\"outlinewidth\":1,\"tickcolor\":\"rgb(36,36,36)\",\"ticks\":\"outside\"},\"colorscale\":[[0.0,\"#440154\"],[0.1111111111111111,\"#482878\"],[0.2222222222222222,\"#3e4989\"],[0.3333333333333333,\"#31688e\"],[0.4444444444444444,\"#26828e\"],[0.5555555555555556,\"#1f9e89\"],[0.6666666666666666,\"#35b779\"],[0.7777777777777778,\"#6ece58\"],[0.8888888888888888,\"#b5de2b\"],[1.0,\"#fde725\"]],\"type\":\"heatmap\"}],\"histogram2dcontour\":[{\"colorbar\":{\"outlinewidth\":1,\"tickcolor\":\"rgb(36,36,36)\",\"ticks\":\"outside\"},\"colorscale\":[[0.0,\"#440154\"],[0.1111111111111111,\"#482878\"],[0.2222222222222222,\"#3e4989\"],[0.3333333333333333,\"#31688e\"],[0.4444444444444444,\"#26828e\"],[0.5555555555555556,\"#1f9e89\"],[0.6666666666666666,\"#35b779\"],[0.7777777777777778,\"#6ece58\"],[0.8888888888888888,\"#b5de2b\"],[1.0,\"#fde725\"]],\"type\":\"histogram2dcontour\"}],\"histogram2d\":[{\"colorbar\":{\"outlinewidth\":1,\"tickcolor\":\"rgb(36,36,36)\",\"ticks\":\"outside\"},\"colorscale\":[[0.0,\"#440154\"],[0.1111111111111111,\"#482878\"],[0.2222222222222222,\"#3e4989\"],[0.3333333333333333,\"#31688e\"],[0.4444444444444444,\"#26828e\"],[0.5555555555555556,\"#1f9e89\"],[0.6666666666666666,\"#35b779\"],[0.7777777777777778,\"#6ece58\"],[0.8888888888888888,\"#b5de2b\"],[1.0,\"#fde725\"]],\"type\":\"histogram2d\"}],\"histogram\":[{\"marker\":{\"line\":{\"color\":\"white\",\"width\":0.6}},\"type\":\"histogram\"}],\"mesh3d\":[{\"colorbar\":{\"outlinewidth\":1,\"tickcolor\":\"rgb(36,36,36)\",\"ticks\":\"outside\"},\"type\":\"mesh3d\"}],\"parcoords\":[{\"line\":{\"colorbar\":{\"outlinewidth\":1,\"tickcolor\":\"rgb(36,36,36)\",\"ticks\":\"outside\"}},\"type\":\"parcoords\"}],\"pie\":[{\"automargin\":true,\"type\":\"pie\"}],\"scatter3d\":[{\"line\":{\"colorbar\":{\"outlinewidth\":1,\"tickcolor\":\"rgb(36,36,36)\",\"ticks\":\"outside\"}},\"marker\":{\"colorbar\":{\"outlinewidth\":1,\"tickcolor\":\"rgb(36,36,36)\",\"ticks\":\"outside\"}},\"type\":\"scatter3d\"}],\"scattercarpet\":[{\"marker\":{\"colorbar\":{\"outlinewidth\":1,\"tickcolor\":\"rgb(36,36,36)\",\"ticks\":\"outside\"}},\"type\":\"scattercarpet\"}],\"scattergeo\":[{\"marker\":{\"colorbar\":{\"outlinewidth\":1,\"tickcolor\":\"rgb(36,36,36)\",\"ticks\":\"outside\"}},\"type\":\"scattergeo\"}],\"scattergl\":[{\"marker\":{\"colorbar\":{\"outlinewidth\":1,\"tickcolor\":\"rgb(36,36,36)\",\"ticks\":\"outside\"}},\"type\":\"scattergl\"}],\"scattermapbox\":[{\"marker\":{\"colorbar\":{\"outlinewidth\":1,\"tickcolor\":\"rgb(36,36,36)\",\"ticks\":\"outside\"}},\"type\":\"scattermapbox\"}],\"scatterpolargl\":[{\"marker\":{\"colorbar\":{\"outlinewidth\":1,\"tickcolor\":\"rgb(36,36,36)\",\"ticks\":\"outside\"}},\"type\":\"scatterpolargl\"}],\"scatterpolar\":[{\"marker\":{\"colorbar\":{\"outlinewidth\":1,\"tickcolor\":\"rgb(36,36,36)\",\"ticks\":\"outside\"}},\"type\":\"scatterpolar\"}],\"scatter\":[{\"fillpattern\":{\"fillmode\":\"overlay\",\"size\":10,\"solidity\":0.2},\"type\":\"scatter\"}],\"scatterternary\":[{\"marker\":{\"colorbar\":{\"outlinewidth\":1,\"tickcolor\":\"rgb(36,36,36)\",\"ticks\":\"outside\"}},\"type\":\"scatterternary\"}],\"surface\":[{\"colorbar\":{\"outlinewidth\":1,\"tickcolor\":\"rgb(36,36,36)\",\"ticks\":\"outside\"},\"colorscale\":[[0.0,\"#440154\"],[0.1111111111111111,\"#482878\"],[0.2222222222222222,\"#3e4989\"],[0.3333333333333333,\"#31688e\"],[0.4444444444444444,\"#26828e\"],[0.5555555555555556,\"#1f9e89\"],[0.6666666666666666,\"#35b779\"],[0.7777777777777778,\"#6ece58\"],[0.8888888888888888,\"#b5de2b\"],[1.0,\"#fde725\"]],\"type\":\"surface\"}],\"table\":[{\"cells\":{\"fill\":{\"color\":\"rgb(237,237,237)\"},\"line\":{\"color\":\"white\"}},\"header\":{\"fill\":{\"color\":\"rgb(217,217,217)\"},\"line\":{\"color\":\"white\"}},\"type\":\"table\"}]},\"layout\":{\"annotationdefaults\":{\"arrowhead\":0,\"arrowwidth\":1},\"autotypenumbers\":\"strict\",\"coloraxis\":{\"colorbar\":{\"outlinewidth\":1,\"tickcolor\":\"rgb(36,36,36)\",\"ticks\":\"outside\"}},\"colorscale\":{\"diverging\":[[0.0,\"rgb(103,0,31)\"],[0.1,\"rgb(178,24,43)\"],[0.2,\"rgb(214,96,77)\"],[0.3,\"rgb(244,165,130)\"],[0.4,\"rgb(253,219,199)\"],[0.5,\"rgb(247,247,247)\"],[0.6,\"rgb(209,229,240)\"],[0.7,\"rgb(146,197,222)\"],[0.8,\"rgb(67,147,195)\"],[0.9,\"rgb(33,102,172)\"],[1.0,\"rgb(5,48,97)\"]],\"sequential\":[[0.0,\"#440154\"],[0.1111111111111111,\"#482878\"],[0.2222222222222222,\"#3e4989\"],[0.3333333333333333,\"#31688e\"],[0.4444444444444444,\"#26828e\"],[0.5555555555555556,\"#1f9e89\"],[0.6666666666666666,\"#35b779\"],[0.7777777777777778,\"#6ece58\"],[0.8888888888888888,\"#b5de2b\"],[1.0,\"#fde725\"]],\"sequentialminus\":[[0.0,\"#440154\"],[0.1111111111111111,\"#482878\"],[0.2222222222222222,\"#3e4989\"],[0.3333333333333333,\"#31688e\"],[0.4444444444444444,\"#26828e\"],[0.5555555555555556,\"#1f9e89\"],[0.6666666666666666,\"#35b779\"],[0.7777777777777778,\"#6ece58\"],[0.8888888888888888,\"#b5de2b\"],[1.0,\"#fde725\"]]},\"colorway\":[\"#1F77B4\",\"#FF7F0E\",\"#2CA02C\",\"#D62728\",\"#9467BD\",\"#8C564B\",\"#E377C2\",\"#7F7F7F\",\"#BCBD22\",\"#17BECF\"],\"font\":{\"color\":\"rgb(36,36,36)\"},\"geo\":{\"bgcolor\":\"white\",\"lakecolor\":\"white\",\"landcolor\":\"white\",\"showlakes\":true,\"showland\":true,\"subunitcolor\":\"white\"},\"hoverlabel\":{\"align\":\"left\"},\"hovermode\":\"closest\",\"mapbox\":{\"style\":\"light\"},\"paper_bgcolor\":\"white\",\"plot_bgcolor\":\"white\",\"polar\":{\"angularaxis\":{\"gridcolor\":\"rgb(232,232,232)\",\"linecolor\":\"rgb(36,36,36)\",\"showgrid\":false,\"showline\":true,\"ticks\":\"outside\"},\"bgcolor\":\"white\",\"radialaxis\":{\"gridcolor\":\"rgb(232,232,232)\",\"linecolor\":\"rgb(36,36,36)\",\"showgrid\":false,\"showline\":true,\"ticks\":\"outside\"}},\"scene\":{\"xaxis\":{\"backgroundcolor\":\"white\",\"gridcolor\":\"rgb(232,232,232)\",\"gridwidth\":2,\"linecolor\":\"rgb(36,36,36)\",\"showbackground\":true,\"showgrid\":false,\"showline\":true,\"ticks\":\"outside\",\"zeroline\":false,\"zerolinecolor\":\"rgb(36,36,36)\"},\"yaxis\":{\"backgroundcolor\":\"white\",\"gridcolor\":\"rgb(232,232,232)\",\"gridwidth\":2,\"linecolor\":\"rgb(36,36,36)\",\"showbackground\":true,\"showgrid\":false,\"showline\":true,\"ticks\":\"outside\",\"zeroline\":false,\"zerolinecolor\":\"rgb(36,36,36)\"},\"zaxis\":{\"backgroundcolor\":\"white\",\"gridcolor\":\"rgb(232,232,232)\",\"gridwidth\":2,\"linecolor\":\"rgb(36,36,36)\",\"showbackground\":true,\"showgrid\":false,\"showline\":true,\"ticks\":\"outside\",\"zeroline\":false,\"zerolinecolor\":\"rgb(36,36,36)\"}},\"shapedefaults\":{\"fillcolor\":\"black\",\"line\":{\"width\":0},\"opacity\":0.3},\"ternary\":{\"aaxis\":{\"gridcolor\":\"rgb(232,232,232)\",\"linecolor\":\"rgb(36,36,36)\",\"showgrid\":false,\"showline\":true,\"ticks\":\"outside\"},\"baxis\":{\"gridcolor\":\"rgb(232,232,232)\",\"linecolor\":\"rgb(36,36,36)\",\"showgrid\":false,\"showline\":true,\"ticks\":\"outside\"},\"bgcolor\":\"white\",\"caxis\":{\"gridcolor\":\"rgb(232,232,232)\",\"linecolor\":\"rgb(36,36,36)\",\"showgrid\":false,\"showline\":true,\"ticks\":\"outside\"}},\"title\":{\"x\":0.05},\"xaxis\":{\"automargin\":true,\"gridcolor\":\"rgb(232,232,232)\",\"linecolor\":\"rgb(36,36,36)\",\"showgrid\":false,\"showline\":true,\"ticks\":\"outside\",\"title\":{\"standoff\":15},\"zeroline\":false,\"zerolinecolor\":\"rgb(36,36,36)\"},\"yaxis\":{\"automargin\":true,\"gridcolor\":\"rgb(232,232,232)\",\"linecolor\":\"rgb(36,36,36)\",\"showgrid\":false,\"showline\":true,\"ticks\":\"outside\",\"title\":{\"standoff\":15},\"zeroline\":false,\"zerolinecolor\":\"rgb(36,36,36)\"}}},\"xaxis\":{\"showgrid\":true},\"yaxis\":{\"showgrid\":true,\"title\":{\"text\":\"Frequency\"}},\"title\":{\"font\":{\"size\":22,\"color\":\"Black\"},\"text\":\"\\u003cb\\u003eTopics over Time\\u003c\\u002fb\\u003e\",\"y\":0.95,\"x\":0.4,\"xanchor\":\"center\",\"yanchor\":\"top\"},\"hoverlabel\":{\"font\":{\"size\":16,\"family\":\"Rockwell\"},\"bgcolor\":\"white\"},\"width\":1200,\"height\":800,\"legend\":{\"title\":{\"text\":\"\\u003cb\\u003eGlobal Topic Representation\"}}},                        {\"responsive\": true}                    ).then(function(){\n                            \nvar gd = document.getElementById('0c04e12e-6d70-43be-af9f-e34ccca0e406');\nvar x = new MutationObserver(function (mutations, observer) {{\n        var display = window.getComputedStyle(gd).display;\n        if (!display || display === 'none') {{\n            console.log([gd, 'removed!']);\n            Plotly.purge(gd);\n            observer.disconnect();\n        }}\n}});\n\n// Listen for the removal of the full notebook cells\nvar notebookContainer = gd.closest('#notebook-container');\nif (notebookContainer) {{\n    x.observe(notebookContainer, {childList: true});\n}}\n\n// Listen for the clearing of the current output cell\nvar outputEl = gd.closest('.output');\nif (outputEl) {{\n    x.observe(outputEl, {childList: true});\n}}\n\n                        })                };                });            </script>        </div>"
     },
     "metadata": {},
     "output_type": "display_data"
    }
   ],
   "source": [
    "# 1 \n",
    "topics_over_time_filtered = topics_over_time.groupby('Topic').filter(lambda x:  np.std(x.Frequency)  > 0.000048)\n",
    "fig = topic_model.visualize_topics_over_time(topics_over_time_filtered)\n",
    "# enlarge the size of the plot\n",
    "fig.update_layout(width=1200, height=800)\n",
    "fig.write_image('output/dtm/topics_over_time.png', engine=\"orca\")\n",
    "fig.show()"
   ],
   "metadata": {
    "collapsed": false,
    "ExecuteTime": {
     "end_time": "2024-05-19T15:05:46.907708Z",
     "start_time": "2024-05-19T15:05:46.642438Z"
    }
   },
   "id": "c03cdae7bff00a2d",
   "execution_count": 179
  },
  {
   "cell_type": "markdown",
   "source": [
    "# Topic number 200"
   ],
   "metadata": {
    "collapsed": false
   },
   "id": "dc195fdc21c4d5d7"
  },
  {
   "cell_type": "code",
   "outputs": [
    {
     "name": "stderr",
     "output_type": "stream",
     "text": [
      "2024-05-23 10:32:38,830 - BERTopic - Embedding - Transforming documents to embeddings.\n"
     ]
    },
    {
     "data": {
      "text/plain": "Batches:   0%|          | 0/756 [00:00<?, ?it/s]",
      "application/vnd.jupyter.widget-view+json": {
       "version_major": 2,
       "version_minor": 0,
       "model_id": "4d2f3d3cb6ef4b1c9eb40cc329ac0d80"
      }
     },
     "metadata": {},
     "output_type": "display_data"
    },
    {
     "name": "stderr",
     "output_type": "stream",
     "text": [
      "2024-05-23 10:34:42,247 - BERTopic - Embedding - Completed ✓\n",
      "2024-05-23 10:34:42,248 - BERTopic - Dimensionality - Fitting the dimensionality reduction algorithm\n",
      "2024-05-23 10:34:50,310 - BERTopic - Dimensionality - Completed ✓\n",
      "2024-05-23 10:34:50,311 - BERTopic - Cluster - Start clustering the reduced embeddings\n",
      "huggingface/tokenizers: The current process just got forked, after parallelism has already been used. Disabling parallelism to avoid deadlocks...\n",
      "To disable this warning, you can either:\n",
      "\t- Avoid using `tokenizers` before the fork if possible\n",
      "\t- Explicitly set the environment variable TOKENIZERS_PARALLELISM=(true | false)\n",
      "huggingface/tokenizers: The current process just got forked, after parallelism has already been used. Disabling parallelism to avoid deadlocks...\n",
      "To disable this warning, you can either:\n",
      "\t- Avoid using `tokenizers` before the fork if possible\n",
      "\t- Explicitly set the environment variable TOKENIZERS_PARALLELISM=(true | false)\n",
      "huggingface/tokenizers: The current process just got forked, after parallelism has already been used. Disabling parallelism to avoid deadlocks...\n",
      "To disable this warning, you can either:\n",
      "\t- Avoid using `tokenizers` before the fork if possible\n",
      "\t- Explicitly set the environment variable TOKENIZERS_PARALLELISM=(true | false)\n",
      "huggingface/tokenizers: The current process just got forked, after parallelism has already been used. Disabling parallelism to avoid deadlocks...\n",
      "To disable this warning, you can either:\n",
      "\t- Avoid using `tokenizers` before the fork if possible\n",
      "\t- Explicitly set the environment variable TOKENIZERS_PARALLELISM=(true | false)\n",
      "2024-05-23 10:34:51,897 - BERTopic - Cluster - Completed ✓\n",
      "2024-05-23 10:34:51,904 - BERTopic - Representation - Extracting topics from clusters using representation models.\n",
      "2024-05-23 10:35:01,033 - BERTopic - Representation - Completed ✓\n",
      "2024-05-23 10:35:04,956 - BERTopic - Topic reduction - Reducing number of topics\n",
      "2024-05-23 10:35:13,454 - BERTopic - Topic reduction - Reduced number of topics from 308 to 200\n",
      "20it [00:25,  1.25s/it]\n",
      "/var/folders/dm/hs6ffqd576v39l4vtyx6rpg00000gn/T/ipykernel_34510/3973436959.py:11: DeprecationWarning:\n",
      "\n",
      "DataFrameGroupBy.apply operated on the grouping columns. This behavior is deprecated, and in a future version of pandas the grouping columns will be excluded from the operation. Either pass `include_groups=False` to exclude the groupings or explicitly select the grouping columns after groupby to silence this warning.\n",
      "\n"
     ]
    },
    {
     "data": {
      "text/plain": "     Topic  Count                                  Name  \\\n0       -1   8565   -1_terrorism_said_terrorist_america   \n1        0   1067     0_israel_palestinian_arafat_peace   \n2        1    689                1_iraq_obama_war_laden   \n3        2    670     2_insurance_coverage_risk_insurer   \n4        3    504            3_shoot_white_gun_domestic   \n..     ...    ...                                   ...   \n195    194     11  194_charity_nonprofit_treasury_donor   \n196    195     11     195_clinic_dear_colorado_domestic   \n197    196     10      196_austria_vienna_nehammer_kurz   \n198    197     10          197_air_medal_force_enduring   \n199    198     10        198_shoot_pulse_gunman_orlando   \n\n                                        Representation  \\\n0    [terrorism, said, terrorist, america, attack, ...   \n1    [israel, palestinian, arafat, peace, hama, ara...   \n2    [iraq, obama, war, laden, bin, bush, al, qaida...   \n3    [insurance, coverage, risk, insurer, tria, los...   \n4    [shoot, white, gun, domestic, supremacist, tru...   \n..                                                 ...   \n195  [charity, nonprofit, treasury, donor, organiza...   \n196  [clinic, dear, colorado, domestic, parenthood,...   \n197  [austria, vienna, nehammer, kurz, gunman, shoo...   \n198  [air, medal, force, enduring, deploy, mathew, ...   \n199  [shoot, pulse, gunman, orlando, club, bett, sa...   \n\n                                   Representative_Docs  \n0    [washington break forceful bush administration...  \n1    [sharm el sheik egypt dramatic show solidarity...  \n2    [announce osama bin laden death sunday night p...  \n3    [terrorism risk insurance act establish three ...  \n4    [washington law enforce official sound alarm m...  \n..                                                 ...  \n195  [group nonprofit organization pressing u treas...  \n196  [washington man accused killing three people c...  \n197  [philipp jenne frank jordan associate press vi...  \n198  [cheyenne troops left supply room f e warren a...  \n199  [san bernardino calif law enforce authority co...  \n\n[200 rows x 5 columns]",
      "text/html": "<div>\n<style scoped>\n    .dataframe tbody tr th:only-of-type {\n        vertical-align: middle;\n    }\n\n    .dataframe tbody tr th {\n        vertical-align: top;\n    }\n\n    .dataframe thead th {\n        text-align: right;\n    }\n</style>\n<table border=\"1\" class=\"dataframe\">\n  <thead>\n    <tr style=\"text-align: right;\">\n      <th></th>\n      <th>Topic</th>\n      <th>Count</th>\n      <th>Name</th>\n      <th>Representation</th>\n      <th>Representative_Docs</th>\n    </tr>\n  </thead>\n  <tbody>\n    <tr>\n      <th>0</th>\n      <td>-1</td>\n      <td>8565</td>\n      <td>-1_terrorism_said_terrorist_america</td>\n      <td>[terrorism, said, terrorist, america, attack, ...</td>\n      <td>[washington break forceful bush administration...</td>\n    </tr>\n    <tr>\n      <th>1</th>\n      <td>0</td>\n      <td>1067</td>\n      <td>0_israel_palestinian_arafat_peace</td>\n      <td>[israel, palestinian, arafat, peace, hama, ara...</td>\n      <td>[sharm el sheik egypt dramatic show solidarity...</td>\n    </tr>\n    <tr>\n      <th>2</th>\n      <td>1</td>\n      <td>689</td>\n      <td>1_iraq_obama_war_laden</td>\n      <td>[iraq, obama, war, laden, bin, bush, al, qaida...</td>\n      <td>[announce osama bin laden death sunday night p...</td>\n    </tr>\n    <tr>\n      <th>3</th>\n      <td>2</td>\n      <td>670</td>\n      <td>2_insurance_coverage_risk_insurer</td>\n      <td>[insurance, coverage, risk, insurer, tria, los...</td>\n      <td>[terrorism risk insurance act establish three ...</td>\n    </tr>\n    <tr>\n      <th>4</th>\n      <td>3</td>\n      <td>504</td>\n      <td>3_shoot_white_gun_domestic</td>\n      <td>[shoot, white, gun, domestic, supremacist, tru...</td>\n      <td>[washington law enforce official sound alarm m...</td>\n    </tr>\n    <tr>\n      <th>...</th>\n      <td>...</td>\n      <td>...</td>\n      <td>...</td>\n      <td>...</td>\n      <td>...</td>\n    </tr>\n    <tr>\n      <th>195</th>\n      <td>194</td>\n      <td>11</td>\n      <td>194_charity_nonprofit_treasury_donor</td>\n      <td>[charity, nonprofit, treasury, donor, organiza...</td>\n      <td>[group nonprofit organization pressing u treas...</td>\n    </tr>\n    <tr>\n      <th>196</th>\n      <td>195</td>\n      <td>11</td>\n      <td>195_clinic_dear_colorado_domestic</td>\n      <td>[clinic, dear, colorado, domestic, parenthood,...</td>\n      <td>[washington man accused killing three people c...</td>\n    </tr>\n    <tr>\n      <th>197</th>\n      <td>196</td>\n      <td>10</td>\n      <td>196_austria_vienna_nehammer_kurz</td>\n      <td>[austria, vienna, nehammer, kurz, gunman, shoo...</td>\n      <td>[philipp jenne frank jordan associate press vi...</td>\n    </tr>\n    <tr>\n      <th>198</th>\n      <td>197</td>\n      <td>10</td>\n      <td>197_air_medal_force_enduring</td>\n      <td>[air, medal, force, enduring, deploy, mathew, ...</td>\n      <td>[cheyenne troops left supply room f e warren a...</td>\n    </tr>\n    <tr>\n      <th>199</th>\n      <td>198</td>\n      <td>10</td>\n      <td>198_shoot_pulse_gunman_orlando</td>\n      <td>[shoot, pulse, gunman, orlando, club, bett, sa...</td>\n      <td>[san bernardino calif law enforce authority co...</td>\n    </tr>\n  </tbody>\n</table>\n<p>200 rows × 5 columns</p>\n</div>"
     },
     "execution_count": 150,
     "metadata": {},
     "output_type": "execute_result"
    }
   ],
   "source": [
    "topic_model, topics_over_time = get_topics(df, 200)\n",
    "topic_model.get_topic_info().to_csv('output/dtm/topic_info_200.csv', index=False)\n",
    "topic_model.get_topic_info()"
   ],
   "metadata": {
    "collapsed": false,
    "ExecuteTime": {
     "end_time": "2024-05-23T08:35:43.118969Z",
     "start_time": "2024-05-23T08:32:37.544648Z"
    }
   },
   "id": "9aa82396bbb7af3c",
   "execution_count": 150
  },
  {
   "cell_type": "code",
   "outputs": [
    {
     "data": {
      "text/plain": "      Topic                                           Words  Frequency  \\\n0        -1            turkey, soviet, france, politics, mr   0.001572   \n1         0      israel, palestinian, arab, lebanon, arafat   0.000496   \n2         3    klan, hine, spartacist, liverpool, wilkinson   0.000029   \n3         4                  zia, pakistan, haq, heroin, ul   0.000019   \n4         7            libya, qaddafi, colonel, reagan, oil   0.000324   \n...     ...                                             ...        ...   \n1847    188           jersey, kosher, anderson, grew, fulop   0.000037   \n1848    190         omar, trump, ilhan, venezuela, election   0.000018   \n1849    195  psilocybin, clinic, domestic, dear, injunction   0.000004   \n1850    196     austria, vienna, nehammer, kurz, restaurant   0.000026   \n1851    198               bett, paso, shoot, dayton, gunman   0.000004   \n\n      Timestamp  \n0       1979.96  \n1       1979.96  \n2       1979.96  \n3       1979.96  \n4       1979.96  \n...         ...  \n1847    2018.00  \n1848    2018.00  \n1849    2018.00  \n1850    2018.00  \n1851    2018.00  \n\n[1852 rows x 4 columns]",
      "text/html": "<div>\n<style scoped>\n    .dataframe tbody tr th:only-of-type {\n        vertical-align: middle;\n    }\n\n    .dataframe tbody tr th {\n        vertical-align: top;\n    }\n\n    .dataframe thead th {\n        text-align: right;\n    }\n</style>\n<table border=\"1\" class=\"dataframe\">\n  <thead>\n    <tr style=\"text-align: right;\">\n      <th></th>\n      <th>Topic</th>\n      <th>Words</th>\n      <th>Frequency</th>\n      <th>Timestamp</th>\n    </tr>\n  </thead>\n  <tbody>\n    <tr>\n      <th>0</th>\n      <td>-1</td>\n      <td>turkey, soviet, france, politics, mr</td>\n      <td>0.001572</td>\n      <td>1979.96</td>\n    </tr>\n    <tr>\n      <th>1</th>\n      <td>0</td>\n      <td>israel, palestinian, arab, lebanon, arafat</td>\n      <td>0.000496</td>\n      <td>1979.96</td>\n    </tr>\n    <tr>\n      <th>2</th>\n      <td>3</td>\n      <td>klan, hine, spartacist, liverpool, wilkinson</td>\n      <td>0.000029</td>\n      <td>1979.96</td>\n    </tr>\n    <tr>\n      <th>3</th>\n      <td>4</td>\n      <td>zia, pakistan, haq, heroin, ul</td>\n      <td>0.000019</td>\n      <td>1979.96</td>\n    </tr>\n    <tr>\n      <th>4</th>\n      <td>7</td>\n      <td>libya, qaddafi, colonel, reagan, oil</td>\n      <td>0.000324</td>\n      <td>1979.96</td>\n    </tr>\n    <tr>\n      <th>...</th>\n      <td>...</td>\n      <td>...</td>\n      <td>...</td>\n      <td>...</td>\n    </tr>\n    <tr>\n      <th>1847</th>\n      <td>188</td>\n      <td>jersey, kosher, anderson, grew, fulop</td>\n      <td>0.000037</td>\n      <td>2018.00</td>\n    </tr>\n    <tr>\n      <th>1848</th>\n      <td>190</td>\n      <td>omar, trump, ilhan, venezuela, election</td>\n      <td>0.000018</td>\n      <td>2018.00</td>\n    </tr>\n    <tr>\n      <th>1849</th>\n      <td>195</td>\n      <td>psilocybin, clinic, domestic, dear, injunction</td>\n      <td>0.000004</td>\n      <td>2018.00</td>\n    </tr>\n    <tr>\n      <th>1850</th>\n      <td>196</td>\n      <td>austria, vienna, nehammer, kurz, restaurant</td>\n      <td>0.000026</td>\n      <td>2018.00</td>\n    </tr>\n    <tr>\n      <th>1851</th>\n      <td>198</td>\n      <td>bett, paso, shoot, dayton, gunman</td>\n      <td>0.000004</td>\n      <td>2018.00</td>\n    </tr>\n  </tbody>\n</table>\n<p>1852 rows × 4 columns</p>\n</div>"
     },
     "execution_count": 151,
     "metadata": {},
     "output_type": "execute_result"
    }
   ],
   "source": [
    "topics_over_time.to_csv('output/dtm/topics_over_time_200.csv', index=False)\n",
    "topics_over_time"
   ],
   "metadata": {
    "collapsed": false,
    "ExecuteTime": {
     "end_time": "2024-05-23T08:35:48.912373Z",
     "start_time": "2024-05-23T08:35:48.897885Z"
    }
   },
   "id": "422174127b77d4c7",
   "execution_count": 151
  },
  {
   "cell_type": "code",
   "outputs": [
    {
     "data": {
      "application/vnd.plotly.v1+json": {
       "data": [
        {
         "hoverinfo": "text",
         "hovertext": [
          "<b>Topic 0</b><br>Words: israel, palestinian, arab, lebanon, arafat",
          "<b>Topic 0</b><br>Words: israel, arab, palestinian, jewish, bank",
          "<b>Topic 0</b><br>Words: israel, palestinian, arafat, arab, peace",
          "<b>Topic 0</b><br>Words: arafat, israel, palestinian, plo, shultz",
          "<b>Topic 0</b><br>Words: israel, plo, palestinian, arafat, palestine",
          "<b>Topic 0</b><br>Words: israel, plo, arab, palestinian, arafat",
          "<b>Topic 0</b><br>Words: israel, palestinian, arafat, plo, rabin",
          "<b>Topic 0</b><br>Words: israel, palestinian, peace, arafat, hama",
          "<b>Topic 0</b><br>Words: israel, palestinian, netanyahu, arafat, peace",
          "<b>Topic 0</b><br>Words: israel, palestinian, arafat, peace, barak",
          "<b>Topic 0</b><br>Words: israel, palestinian, arafat, sharon, peace",
          "<b>Topic 0</b><br>Words: israel, palestinian, arafat, peace, hama",
          "<b>Topic 0</b><br>Words: israel, palestinian, hama, arafat, peace",
          "<b>Topic 0</b><br>Words: israel, palestinian, hama, peace, gaza",
          "<b>Topic 0</b><br>Words: israel, palestinian, hama, gaza, jewish",
          "<b>Topic 0</b><br>Words: israel, palestinian, hama, peace, gaza",
          "<b>Topic 0</b><br>Words: israel, palestinian, hama, gaza, peace",
          "<b>Topic 0</b><br>Words: israel, palestinian, jewish, netanyahu, arab",
          "<b>Topic 0</b><br>Words: israel, palestinian, hama, gaza, peace",
          "<b>Topic 0</b><br>Words: israel, palestinian, uliel, hama, jewish"
         ],
         "marker": {
          "color": "#E69F00"
         },
         "mode": "lines",
         "name": "0_israel_palestinian_arafat_peace",
         "x": [
          1979.96,
          1982.0,
          1984.0,
          1986.0,
          1988.0,
          1990.0,
          1992.0,
          1994.0,
          1996.0,
          1998.0,
          2000.0,
          2002.0,
          2004.0,
          2006.0,
          2008.0,
          2010.0,
          2012.0,
          2014.0,
          2016.0,
          2018.0
         ],
         "y": [
          4.955312609707761E-4,
          3.556599559974194E-4,
          2.9546718576195773E-4,
          5.264121578320974E-4,
          8.966844545534074E-4,
          1.0963910461397899E-4,
          7.80043249922768E-4,
          8.107656302240053E-4,
          5.995597752882814E-4,
          1.7739258245587358E-4,
          3.991596638655462E-4,
          2.728041189579651E-4,
          3.3266799733865603E-4,
          1.864325722020929E-4,
          1.0115786852589642E-4,
          1.6960651289009497E-4,
          2.0117390892738805E-4,
          1.0777272272387858E-4,
          1.422726713424388E-4,
          7.396121473899088E-5
         ],
         "type": "scatter"
        },
        {
         "hoverinfo": "text",
         "hovertext": [
          "<b>Topic 1</b><br>Words: unjust, willkie, perpetuate, injustice, wendell",
          "<b>Topic 1</b><br>Words: iraq, saddam, kuwait, gulf, hussein",
          "<b>Topic 1</b><br>Words: iraq, saddam, hussein, kuwait, bush",
          "<b>Topic 1</b><br>Words: iraq, saddam, kuwait, bush, gay",
          "<b>Topic 1</b><br>Words: laden, bin, war, iraq, afghanistan",
          "<b>Topic 1</b><br>Words: laden, bin, uzbekistan, iran, bodansky",
          "<b>Topic 1</b><br>Words: laden, bin, bush, war, iraq",
          "<b>Topic 1</b><br>Words: iraq, bush, war, saddam, al",
          "<b>Topic 1</b><br>Words: iraq, war, bush, laden, bin",
          "<b>Topic 1</b><br>Words: iraq, obama, war, al, qaida",
          "<b>Topic 1</b><br>Words: obama, war, afghanistan, bush, al",
          "<b>Topic 1</b><br>Words: laden, bin, al, qaida, obama",
          "<b>Topic 1</b><br>Words: obama, iraq, war, al, qaida",
          "<b>Topic 1</b><br>Words: obama, iraq, islam, war, president",
          "<b>Topic 1</b><br>Words: drone, lone, wolf, iraq, soufan",
          "<b>Topic 1</b><br>Words: al, qaeda, masri, iraq, war"
         ],
         "marker": {
          "color": "#56B4E9"
         },
         "mode": "lines",
         "name": "1_iraq_obama_war_laden",
         "x": [
          1984.0,
          1988.0,
          1990.0,
          1992.0,
          1996.0,
          1998.0,
          2000.0,
          2002.0,
          2004.0,
          2006.0,
          2008.0,
          2010.0,
          2012.0,
          2014.0,
          2016.0,
          2018.0
         ],
         "y": [
          8.690211345939933E-6,
          8.748141020033243E-5,
          1.0050251256281407E-4,
          3.861600247142416E-5,
          1.9711554256053089E-4,
          4.4348145613968396E-5,
          3.4453781512605044E-4,
          3.842311534619227E-4,
          3.8672654690618765E-4,
          2.3912003825920613E-4,
          1.6340886454183266E-4,
          3.7313432835820896E-4,
          2.642872921202941E-4,
          2.463376519402939E-4,
          3.0761658668635414E-5,
          7.026315400204133E-5
         ],
         "type": "scatter"
        },
        {
         "hoverinfo": "text",
         "hovertext": [
          "<b>Topic 2</b><br>Words: survey, director, touche, bank, boards",
          "<b>Topic 2</b><br>Words: insurance, coverage, risk, kidnap, grose",
          "<b>Topic 2</b><br>Words: underwriter, coverage, risk, insurance, rate",
          "<b>Topic 2</b><br>Words: pool, insurance, coverage, insurer, risk",
          "<b>Topic 2</b><br>Words: reinsure, insurance, pool, coverage, risk",
          "<b>Topic 2</b><br>Words: pool, insurance, coverage, reinsure, risk",
          "<b>Topic 2</b><br>Words: risk, pool, insurance, coverage, rate",
          "<b>Topic 2</b><br>Words: insurance, insurer, coverage, risk, reinsure",
          "<b>Topic 2</b><br>Words: insurance, coverage, risk, insurer, tria",
          "<b>Topic 2</b><br>Words: insurance, tria, risk, insurer, coverage",
          "<b>Topic 2</b><br>Words: insurance, risk, coverage, insurer, backstop",
          "<b>Topic 2</b><br>Words: insurance, backstop, insurer, risk, coverage",
          "<b>Topic 2</b><br>Words: insurance, risk, coverage, insurer, backstop",
          "<b>Topic 2</b><br>Words: insurance, risk, insurer, tria, coverage",
          "<b>Topic 2</b><br>Words: insurance, coverage, risk, tria, insurer",
          "<b>Topic 2</b><br>Words: insurance, coverage, insurer, art, risk",
          "<b>Topic 2</b><br>Words: insurance, risk, business, insurer, coverage"
         ],
         "marker": {
          "color": "#009E73"
         },
         "mode": "lines",
         "name": "2_insurance_coverage_risk_insurer",
         "x": [
          1984.0,
          1988.0,
          1990.0,
          1992.0,
          1994.0,
          1996.0,
          1998.0,
          2000.0,
          2002.0,
          2004.0,
          2006.0,
          2008.0,
          2010.0,
          2012.0,
          2014.0,
          2016.0,
          2018.0
         ],
         "y": [
          8.690211345939933E-6,
          5.467588137520777E-5,
          1.187756966651439E-4,
          1.1584800741427248E-4,
          3.3433634236041456E-5,
          2.463944282006636E-5,
          1.2670898746848113E-5,
          4.7058823529411766E-4,
          4.5339276108506877E-4,
          5.863273453093812E-4,
          3.8097090841297246E-4,
          6.225099601593625E-5,
          8.291873963515754E-5,
          3.195115024140869E-4,
          6.928246460820767E-5,
          1.9226036667897134E-5,
          7.396121473899088E-5
         ],
         "type": "scatter"
        },
        {
         "hoverinfo": "text",
         "hovertext": [
          "<b>Topic 3</b><br>Words: klan, hine, spartacist, liverpool, wilkinson",
          "<b>Topic 3</b><br>Words: plastic, plastics, gun, meese, manufacturer",
          "<b>Topic 3</b><br>Words: hate, crime, victim, illinois, gay",
          "<b>Topic 3</b><br>Words: black, wing, bizarre, prominent, angeles",
          "<b>Topic 3</b><br>Words: asahara, militia, truth, crime, taggant",
          "<b>Topic 3</b><br>Words: viper, militia, hate, crime, schultz",
          "<b>Topic 3</b><br>Words: sebunya, lipke, grade, kalex, dutch",
          "<b>Topic 3</b><br>Words: gun, white, lynch, shoot, hate",
          "<b>Topic 3</b><br>Words: eldridge, elgin, women, violence, synagogue",
          "<b>Topic 3</b><br>Words: lynch, lincoln, klan, white, gun",
          "<b>Topic 3</b><br>Words: id, bond, till, black, myth",
          "<b>Topic 3</b><br>Words: hutaree, gun, shoot, enforce, hate",
          "<b>Topic 3</b><br>Words: loughner, gun, shoot, white, hate",
          "<b>Topic 3</b><br>Words: gun, shoot, gel, violence, domestic",
          "<b>Topic 3</b><br>Words: gun, shoot, white, mass, violence",
          "<b>Topic 3</b><br>Words: white, shoot, gun, trump, supremacist",
          "<b>Topic 3</b><br>Words: white, shoot, domestic, supremacist, gun"
         ],
         "marker": {
          "color": "#F0E442"
         },
         "mode": "lines",
         "name": "3_shoot_white_gun_domestic",
         "x": [
          1979.96,
          1986.0,
          1988.0,
          1992.0,
          1994.0,
          1996.0,
          1998.0,
          2000.0,
          2002.0,
          2004.0,
          2006.0,
          2008.0,
          2010.0,
          2012.0,
          2014.0,
          2016.0,
          2018.0
         ],
         "y": [
          2.858834197908324E-5,
          1.1443742561567335E-5,
          1.0935176275041553E-5,
          7.723200494284832E-6,
          5.0150451354062184E-5,
          4.927888564013272E-5,
          1.9006348120272173E-5,
          6.722689075630252E-5,
          1.152693460385768E-5,
          2.9108449767132402E-5,
          2.026441002196662E-5,
          2.3344123505976095E-5,
          8.668777325493744E-5,
          6.705796964246268E-5,
          3.8490258115670925E-4,
          5.806263073704934E-4,
          5.731994142271793E-4
         ],
         "type": "scatter"
        },
        {
         "hoverinfo": "text",
         "hovertext": [
          "<b>Topic 4</b><br>Words: zia, pakistan, haq, heroin, ul",
          "<b>Topic 4</b><br>Words: pakistan, yaqub, minister, cerezo, afghanistan",
          "<b>Topic 4</b><br>Words: pakistan, afghanistan, pravda, zia, crash",
          "<b>Topic 4</b><br>Words: pakistan, islamabad, kashmir, india, indian",
          "<b>Topic 4</b><br>Words: pakistan, yousef, bhutto, babar, mqm",
          "<b>Topic 4</b><br>Words: sharif, pakistan, laden, bin, sanction",
          "<b>Topic 4</b><br>Words: pakistan, musharraf, taliban, kashmir, sharif",
          "<b>Topic 4</b><br>Words: pakistan, india, kashmir, musharraf, afghanistan",
          "<b>Topic 4</b><br>Words: pakistan, musharraf, afghanistan, taliban, border",
          "<b>Topic 4</b><br>Words: pakistan, musharraf, india, kashmir, indian",
          "<b>Topic 4</b><br>Words: pakistan, musharraf, india, afghanistan, militant",
          "<b>Topic 4</b><br>Words: pakistan, india, taliban, militant, afghanistan",
          "<b>Topic 4</b><br>Words: pakistan, india, afghanistan, islamabad, taliban",
          "<b>Topic 4</b><br>Words: pakistan, sharif, taliban, militant, afghanistan",
          "<b>Topic 4</b><br>Words: pakistan, india, taliban, khanzada, militant",
          "<b>Topic 4</b><br>Words: pakistan, india, islamabad, afghanistan, kashmir",
          "<b>Topic 4</b><br>Words: pakistan, kashmir, india, indian, modi"
         ],
         "marker": {
          "color": "#D55E00"
         },
         "mode": "lines",
         "name": "4_pakistan_india_musharraf_afghanistan",
         "x": [
          1979.96,
          1984.0,
          1986.0,
          1992.0,
          1994.0,
          1996.0,
          1998.0,
          2000.0,
          2002.0,
          2004.0,
          2006.0,
          2008.0,
          2010.0,
          2012.0,
          2014.0,
          2016.0,
          2018.0
         ],
         "y": [
          1.905889465272216E-5,
          8.690211345939933E-6,
          1.1443742561567335E-5,
          2.3169601482854495E-5,
          3.3433634236041456E-5,
          1.6426295213377576E-5,
          1.2670898746848115E-4,
          7.983193277310924E-5,
          3.0738492276953816E-5,
          5.8216899534264804E-5,
          2.837017403075327E-4,
          3.0736429282868526E-4,
          1.35685210312076E-4,
          1.38060525734482E-4,
          4.233928392723802E-5,
          2.307124400147656E-4,
          9.245151842373859E-5
         ],
         "type": "scatter"
        },
        {
         "hoverinfo": "text",
         "hovertext": [
          "<b>Topic 5</b><br>Words: tribunal, pullin, military, moussaoui, justice",
          "<b>Topic 5</b><br>Words: guantanamo, detainee, interrogate, rita, di",
          "<b>Topic 5</b><br>Words: detainee, torture, interrogate, guantanamo, prisoner",
          "<b>Topic 5</b><br>Words: mukasey, detainee, guantanamo, interrogate, torture",
          "<b>Topic 5</b><br>Words: detainee, guantanamo, obama, interrogate, prison",
          "<b>Topic 5</b><br>Words: detainee, guantanamo, obama, interrogate, prison",
          "<b>Topic 5</b><br>Words: detainee, guantanamo, holder, interrogate, torture",
          "<b>Topic 5</b><br>Words: torture, detainee, passaro, guantanamo, prisoner",
          "<b>Topic 5</b><br>Words: detainee, guantanamo, haspel, guant, namo",
          "<b>Topic 5</b><br>Words: detainee, prisoner, guantanamo, impeach, turley"
         ],
         "marker": {
          "color": "#0072B2"
         },
         "mode": "lines",
         "name": "5_detainee_guantanamo_interrogate_obama",
         "x": [
          2000.0,
          2002.0,
          2004.0,
          2006.0,
          2008.0,
          2010.0,
          2012.0,
          2014.0,
          2016.0,
          2018.0
         ],
         "y": [
          1.2605042016806723E-5,
          1.9211557673096134E-5,
          1.7880904856952762E-4,
          1.5806239817133964E-4,
          3.384897908366534E-4,
          1.5076134479119553E-4,
          1.3017135283536875E-4,
          2.3094154869402553E-5,
          6.921373200442968E-5,
          2.9584485895596348E-5
         ],
         "type": "scatter"
        },
        {
         "hoverinfo": "text",
         "hovertext": [
          "<b>Topic 7</b><br>Words: libya, qaddafi, colonel, reagan, oil",
          "<b>Topic 7</b><br>Words: libya, qaddafi, malta, britain, colonel",
          "<b>Topic 7</b><br>Words: libya, qaddafi, reagan, colonel, us",
          "<b>Topic 7</b><br>Words: libya, qaddafi, chad, colonel, tripoli",
          "<b>Topic 7</b><br>Words: libya, qaddafi, gadhafi, weapon, chemical",
          "<b>Topic 7</b><br>Words: libya, qaddafi, pan, council, gadhafi",
          "<b>Topic 7</b><br>Words: libya, gadhafi, qaddafi, sanction, teicher",
          "<b>Topic 7</b><br>Words: farrakhan, libya, embargo, treasury, gadhafi",
          "<b>Topic 7</b><br>Words: libya, herman, pipes, gadhafi, qaddafi",
          "<b>Topic 7</b><br>Words: libya, qaddafi, tripoli, sanction, gadhafi",
          "<b>Topic 7</b><br>Words: libya, kusa, pan, gadhafi, monetti",
          "<b>Topic 7</b><br>Words: libya, gadhafi, sanction, lift, resolution",
          "<b>Topic 7</b><br>Words: libya, gadhafi, qaddafi, tripoli, diplomatic",
          "<b>Topic 7</b><br>Words: libya, qaddafi, gadhafi, tripoli, lockerbie",
          "<b>Topic 7</b><br>Words: libya, megrahi, brown, scotland, lockerbie",
          "<b>Topic 7</b><br>Words: libya, qaddafi, gadhafi, megrahi, colonel",
          "<b>Topic 7</b><br>Words: libya, hifter, tripoli, gadhafi, militia",
          "<b>Topic 7</b><br>Words: libya, oil, gazzini, isi, april",
          "<b>Topic 7</b><br>Words: libya, abedi, kreindler, salman, manchester",
          "<b>Topic 7</b><br>Words: libya, mas, ud, hifter, dornstein"
         ],
         "marker": {
          "color": "#CC79A7"
         },
         "mode": "lines",
         "name": "7_libya_qaddafi_reagan_colonel",
         "x": [
          1979.96,
          1982.0,
          1984.0,
          1986.0,
          1988.0,
          1990.0,
          1992.0,
          1994.0,
          1996.0,
          1998.0,
          2000.0,
          2002.0,
          2004.0,
          2006.0,
          2008.0,
          2010.0,
          2012.0,
          2014.0,
          2016.0,
          2018.0
         ],
         "y": [
          3.2400120909627673E-4,
          1.240674265107277E-4,
          6.865266963292547E-4,
          1.2588116817724068E-4,
          8.748141020033243E-5,
          3.1064412973960714E-4,
          6.178560395427866E-5,
          8.358408559010364E-6,
          3.285259042675515E-5,
          5.068359498739245E-5,
          1.2605042016806723E-5,
          7.684623069238454E-6,
          4.1583499667332004E-5,
          6.079323006589986E-5,
          1.945343625498008E-5,
          4.899743705713855E-5,
          1.9722932247783142E-5,
          3.849025811567092E-6,
          1.153562200073828E-5,
          3.698060736949544E-5
         ],
         "type": "scatter"
        },
        {
         "hoverinfo": "text",
         "hovertext": [
          "<b>Topic 9</b><br>Words: britain, yard, pertini, london, scotland",
          "<b>Topic 9</b><br>Words: whitelaw, viscount, howe, britain, geoffrey",
          "<b>Topic 9</b><br>Words: miasmic, remedial, theory, omnipresent, pall",
          "<b>Topic 9</b><br>Words: britain, london, ira, bae, ireland",
          "<b>Topic 9</b><br>Words: risk, business, control, foreign, russia",
          "<b>Topic 9</b><br>Words: gutteridge, britain, london, bomb, ireland",
          "<b>Topic 9</b><br>Words: blair, omagh, britain, ireland, northern",
          "<b>Topic 9</b><br>Words: london, wellington, perry, pool, hiscox",
          "<b>Topic 9</b><br>Words: blair, britain, london, tony, afghanistan",
          "<b>Topic 9</b><br>Words: blair, britain, london, chirac, iraq",
          "<b>Topic 9</b><br>Words: britain, blair, london, muslim, iraq",
          "<b>Topic 9</b><br>Words: britain, brown, blair, london, mi",
          "<b>Topic 9</b><br>Words: britain, manningham, bull, inquiry, london",
          "<b>Topic 9</b><br>Words: britain, london, multicultural, olympic, blair",
          "<b>Topic 9</b><br>Words: britain, cameron, london, begg, citizenship",
          "<b>Topic 9</b><br>Words: britain, london, blair, eu, europe",
          "<b>Topic 9</b><br>Words: britain, london, blair, choudary, manchester",
          "<b>Topic 9</b><br>Words: britain, london, extinction, khan, rebellion"
         ],
         "marker": {
          "color": "#E69F00"
         },
         "mode": "lines",
         "name": "9_britain_blair_london_brown",
         "x": [
          1979.96,
          1982.0,
          1986.0,
          1990.0,
          1992.0,
          1994.0,
          1996.0,
          1998.0,
          2000.0,
          2002.0,
          2004.0,
          2006.0,
          2008.0,
          2010.0,
          2012.0,
          2014.0,
          2016.0,
          2018.0
         ],
         "y": [
          9.52944732636108E-6,
          8.271161767381846E-6,
          1.1443742561567335E-5,
          3.654636820465966E-5,
          7.723200494284832E-6,
          3.3433634236041456E-5,
          3.285259042675515E-5,
          6.335449373424057E-6,
          2.100840336134454E-5,
          4.610773841543072E-5,
          4.1583499667332E-4,
          1.4995663416255298E-4,
          5.446962151394422E-5,
          3.769033619779888E-5,
          5.127962384423617E-5,
          5.00373355503722E-5,
          1.2689184200812107E-4,
          4.807478958034407E-5
         ],
         "type": "scatter"
        },
        {
         "hoverinfo": "text",
         "hovertext": [
          "<b>Topic 10</b><br>Words: amato, holtzman, crime, funds, ahe",
          "<b>Topic 10</b><br>Words: guidelines, bureau, rodino, compromise, infiltrate",
          "<b>Topic 10</b><br>Words: fence, capitol, constituent, representative, senator",
          "<b>Topic 10</b><br>Words: proposal, bill, control, democratic, senate",
          "<b>Topic 10</b><br>Words: taggant, gunpowder, nra, legislation, explosive",
          "<b>Topic 10</b><br>Words: bill, clinton, wiretap, senate, house",
          "<b>Topic 10</b><br>Words: specter, subcommittee, committee, jewell, judiciary",
          "<b>Topic 10</b><br>Words: reepe, clinton, gore, sex, dummy",
          "<b>Topic 10</b><br>Words: bill, senate, house, legislation, wiretap",
          "<b>Topic 10</b><br>Words: mail, postal, schwartz, bill, dreifuss",
          "<b>Topic 10</b><br>Words: patriot, bill, senate, provisions, house",
          "<b>Topic 10</b><br>Words: senate, immune, wiretap, bill, house",
          "<b>Topic 10</b><br>Words: firearm, provisions, person, act, senate",
          "<b>Topic 10</b><br>Words: senate, provisions, bill, wiretap, vote",
          "<b>Topic 10</b><br>Words: act, provisions, bill, senate, compromise",
          "<b>Topic 10</b><br>Words: bill, senate, fisa, surveillance, house"
         ],
         "marker": {
          "color": "#56B4E9"
         },
         "mode": "lines",
         "name": "10_bill_senate_wiretap_house",
         "x": [
          1979.96,
          1982.0,
          1984.0,
          1990.0,
          1992.0,
          1994.0,
          1996.0,
          1998.0,
          2000.0,
          2002.0,
          2004.0,
          2006.0,
          2008.0,
          2010.0,
          2014.0,
          2018.0
         ],
         "y": [
          9.52944732636108E-6,
          8.271161767381846E-6,
          8.690211345939933E-6,
          9.136592051164915E-6,
          1.5446400988569664E-5,
          0.0012203276496155133,
          4.106573803344394E-5,
          6.335449373424057E-6,
          1.134453781512605E-4,
          1.152693460385768E-5,
          7.48502994011976E-5,
          1.6211528017573296E-5,
          7.781374501992032E-6,
          3.015226895823911E-5,
          3.849025811567092E-6,
          3.328254663254589E-5
         ],
         "type": "scatter"
        },
        {
         "hoverinfo": "text",
         "hovertext": [
          "<b>Topic 12</b><br>Words: thatch, dallas, tenant, lunceford, mr",
          "<b>Topic 12</b><br>Words: hashemi, ayatollah, montazeri, trial, ajami",
          "<b>Topic 12</b><br>Words: rahman, abdel, sheik, defendant, indict",
          "<b>Topic 12</b><br>Words: rahman, abdel, salem, sheik, defendant",
          "<b>Topic 12</b><br>Words: rashid, tayyib, laden, source, bin",
          "<b>Topic 12</b><br>Words: mohame, laden, bin, sand, judge",
          "<b>Topic 12</b><br>Words: trial, laden, motassadeq, bin, fadl",
          "<b>Topic 12</b><br>Words: galab, vieque, alhajri, farahat, guidi",
          "<b>Topic 12</b><br>Words: plot, miami, zazi, case, suspect",
          "<b>Topic 12</b><br>Words: duka, shnewer, omar, dix, defendant",
          "<b>Topic 12</b><br>Words: zazi, denver, york, plot, prosecutor",
          "<b>Topic 12</b><br>Words: ferhani, zazi, mustafa, masri, mash",
          "<b>Topic 12</b><br>Words: mustafa, dratel, shehadeh, bary, mr",
          "<b>Topic 12</b><br>Words: abdulkader, ujaama, munir, sentence, prosecutor",
          "<b>Topic 12</b><br>Words: rahman, faisal, abdel, weinstein, prosecutor",
          "<b>Topic 12</b><br>Words: duffy, taheb, judge, trial, plot"
         ],
         "marker": {
          "color": "#009E73"
         },
         "mode": "lines",
         "name": "12_zazi_rahman_abdel_plot",
         "x": [
          1984.0,
          1986.0,
          1992.0,
          1994.0,
          1996.0,
          1998.0,
          2000.0,
          2002.0,
          2004.0,
          2006.0,
          2008.0,
          2010.0,
          2012.0,
          2014.0,
          2016.0,
          2018.0
         ],
         "y": [
          8.690211345939933E-6,
          2.288748512313467E-5,
          3.3209762125424775E-4,
          1.6716817118020728E-4,
          2.463944282006636E-5,
          1.9006348120272173E-5,
          1.2605042016806723E-5,
          1.5369246138476908E-5,
          4.5741849634065205E-5,
          4.8634584052719886E-5,
          2.0620642430278885E-4,
          1.2814714307251621E-4,
          5.52242102937928E-5,
          1.539610324626837E-5,
          2.307124400147656E-5,
          2.218836442169726E-5
         ],
         "type": "scatter"
        },
        {
         "hoverinfo": "text",
         "hovertext": [
          "<b>Topic 16</b><br>Words: assad, syria, moslem, brotherhood, haig",
          "<b>Topic 16</b><br>Words: syria, marine, assad, gemayel, vice",
          "<b>Topic 16</b><br>Words: syria, assad, hindawi, damascus, israel",
          "<b>Topic 16</b><br>Words: syria, assad, resolution, damascus, assembly",
          "<b>Topic 16</b><br>Words: syria, assad, damascus, jabril, baker",
          "<b>Topic 16</b><br>Words: syria, assad, damascus, baker, israel",
          "<b>Topic 16</b><br>Words: assad, syria, peace, clinton, christopher",
          "<b>Topic 16</b><br>Words: syria, weinstein, hama, assad, suit",
          "<b>Topic 16</b><br>Words: sharaa, syria, al, confirm, assad",
          "<b>Topic 16</b><br>Words: syria, assad, damascus, iraq, bashar",
          "<b>Topic 16</b><br>Words: syria, assad, bus, ambassador, bryza",
          "<b>Topic 16</b><br>Words: syria, assad, damascus, opposition, regime",
          "<b>Topic 16</b><br>Words: syria, assad, opposition, damascus, bashar",
          "<b>Topic 16</b><br>Words: syria, assad, aleppo, rebel, russia",
          "<b>Topic 16</b><br>Words: syria, assad, damascus, russia, forces",
          "<b>Topic 16</b><br>Words: syria, assad, refugee, kurd, turkey"
         ],
         "marker": {
          "color": "#F0E442"
         },
         "mode": "lines",
         "name": "16_syria_assad_damascus_aleppo",
         "x": [
          1979.96,
          1982.0,
          1984.0,
          1986.0,
          1988.0,
          1990.0,
          1992.0,
          1998.0,
          2000.0,
          2002.0,
          2008.0,
          2010.0,
          2012.0,
          2014.0,
          2016.0,
          2018.0
         ],
         "y": [
          1.905889465272216E-5,
          1.6542323534763693E-5,
          1.7380422691879867E-4,
          2.288748512313467E-5,
          1.421572915755402E-4,
          4.568296025582458E-5,
          2.471424158171146E-4,
          1.2670898746848113E-5,
          4.201680672268908E-6,
          3.4580803811573045E-5,
          1.1672061752988048E-5,
          1.319161766922961E-4,
          8.28363154406892E-5,
          9.622564528917731E-5,
          1.0766580534022394E-4,
          1.109418221084863E-5
         ],
         "type": "scatter"
        },
        {
         "hoverinfo": "text",
         "hovertext": [
          "<b>Topic 23</b><br>Words: polisario, morocco, oau, summit, mengistu",
          "<b>Topic 23</b><br>Words: afl, liberia, harbel, ecomog, monrovia",
          "<b>Topic 23</b><br>Words: lago, nigeria, alake, ijewere, building",
          "<b>Topic 23</b><br>Words: nigeria, imagedata, election, adua, yar",
          "<b>Topic 23</b><br>Words: nigeria, goodluck, rttnew, delegation, holl",
          "<b>Topic 23</b><br>Words: nigeria, colloquium, boko, haram, achebe",
          "<b>Topic 23</b><br>Words: nigeria, boko, haram, africa, girl",
          "<b>Topic 23</b><br>Words: nigeria, boko, haram, buhari, conflict",
          "<b>Topic 23</b><br>Words: nigeria, haram, boko, buhari, buratai",
          "<b>Topic 23</b><br>Words: nigeria, haram, boko, buhari, thewill"
         ],
         "marker": {
          "color": "#D55E00"
         },
         "mode": "lines",
         "name": "23_nigeria_haram_boko_buhari",
         "x": [
          1982.0,
          1992.0,
          2002.0,
          2006.0,
          2008.0,
          2010.0,
          2012.0,
          2014.0,
          2016.0,
          2018.0
         ],
         "y": [
          8.271161767381846E-6,
          7.723200494284832E-6,
          3.842311534619227E-6,
          4.052882004393324E-6,
          3.890687250996016E-6,
          1.5076134479119554E-5,
          5.916879674334943E-5,
          4.233928392723802E-5,
          1.5765350067675649E-4,
          2.9214679821901396E-4
         ],
         "type": "scatter"
        },
        {
         "hoverinfo": "text",
         "hovertext": [
          "<b>Topic 28</b><br>Words: yousef, reward, rewards, mccurry, department",
          "<b>Topic 28</b><br>Words: clarke, nsc, coordinate, clinton, blitz",
          "<b>Topic 28</b><br>Words: clarke, dick, cyberwar, abramowitz, department",
          "<b>Topic 28</b><br>Words: ridge, clarke, bush, clinton, house",
          "<b>Topic 28</b><br>Words: clarke, bush, rice, administration, clinton",
          "<b>Topic 28</b><br>Words: clarke, clinton, bush, administration, chertoff",
          "<b>Topic 28</b><br>Words: townsend, clarke, chertoff, bush, myers",
          "<b>Topic 28</b><br>Words: wilson, valerie, clapper, plame, clarke",
          "<b>Topic 28</b><br>Words: thompson, ridge, parri, rooney, clarke",
          "<b>Topic 28</b><br>Words: fsi, clinton, kourounioti, stanford, ogwuegbu",
          "<b>Topic 28</b><br>Words: gorka, mcmaster, clarke, baer, bannon"
         ],
         "marker": {
          "color": "#0072B2"
         },
         "mode": "lines",
         "name": "28_clarke_bush_ridge_rice",
         "x": [
          1992.0,
          1996.0,
          1998.0,
          2000.0,
          2002.0,
          2004.0,
          2006.0,
          2008.0,
          2010.0,
          2014.0,
          2016.0
         ],
         "y": [
          7.723200494284832E-6,
          1.6426295213377576E-5,
          6.335449373424057E-6,
          9.663865546218487E-5,
          2.574348728194882E-4,
          7.48502994011976E-5,
          4.052882004393324E-5,
          1.1672061752988048E-5,
          1.1307100859339666E-5,
          7.698051623134185E-6,
          3.0761658668635414E-5
         ],
         "type": "scatter"
        },
        {
         "hoverinfo": "text",
         "hovertext": [
          "<b>Topic 30</b><br>Words: ireland, northern, ira, britain, protestant",
          "<b>Topic 30</b><br>Words: ireland, northern, ira, britain, ulster",
          "<b>Topic 30</b><br>Words: ireland, ira, tyrie, northern, archbishop",
          "<b>Topic 30</b><br>Words: ira, ireland, northern, britain, sinn",
          "<b>Topic 30</b><br>Words: ireland, northern, ira, ulster, aoh",
          "<b>Topic 30</b><br>Words: ireland, ira, northern, britain, protestant",
          "<b>Topic 30</b><br>Words: ireland, ira, northern, adams, protestant",
          "<b>Topic 30</b><br>Words: ireland, ira, northern, sinn, fein",
          "<b>Topic 30</b><br>Words: ireland, ira, northern, protestant, ahern",
          "<b>Topic 30</b><br>Words: ireland, ira, northern, dissident, protestant",
          "<b>Topic 30</b><br>Words: ireland, northern, ira, protestant, belfast",
          "<b>Topic 30</b><br>Words: mckevitt, ira, ireland, omagh, rupert",
          "<b>Topic 30</b><br>Words: ireland, ira, northern, sinn, fein",
          "<b>Topic 30</b><br>Words: ireland, northern, ira, belfast, leavey",
          "<b>Topic 30</b><br>Words: ireland, ira, northern, king, britain",
          "<b>Topic 30</b><br>Words: ireland, belfast, ira, northern, mabel",
          "<b>Topic 30</b><br>Words: mason, ireland, sasnett, chun, identity",
          "<b>Topic 30</b><br>Words: catholic, ireland, unionist, nationalist, britain",
          "<b>Topic 30</b><br>Words: mckee, ireland, ira, northern, lyra"
         ],
         "marker": {
          "color": "#CC79A7"
         },
         "mode": "lines",
         "name": "30_ireland_ira_northern_britain",
         "x": [
          1979.96,
          1982.0,
          1984.0,
          1986.0,
          1988.0,
          1990.0,
          1992.0,
          1994.0,
          1996.0,
          1998.0,
          2000.0,
          2002.0,
          2004.0,
          2008.0,
          2010.0,
          2012.0,
          2014.0,
          2016.0,
          2018.0
         ],
         "y": [
          2.668245251381102E-4,
          1.4888091181287322E-4,
          4.345105672969967E-5,
          5.7218712807836675E-5,
          5.467588137520777E-5,
          5.4819552306989495E-5,
          1.6991041087426628E-4,
          5.0150451354062184E-5,
          4.106573803344394E-5,
          1.2670898746848113E-5,
          1.2605042016806723E-5,
          3.842311534619227E-6,
          3.32667997338656E-5,
          7.781374501992032E-6,
          7.538067239559777E-6,
          1.9722932247783142E-5,
          3.849025811567092E-6,
          3.845207333579427E-6,
          1.4792242947798174E-5
         ],
         "type": "scatter"
        },
        {
         "hoverinfo": "text",
         "hovertext": [
          "<b>Topic 41</b><br>Words: soviet, reagan, haig, intelligence, administration",
          "<b>Topic 41</b><br>Words: reagan, soviet, lebanon, administration, official",
          "<b>Topic 41</b><br>Words: reagan, soviet, administration, mr, shultz",
          "<b>Topic 41</b><br>Words: ledeen, reagan, soviet, mr, israel",
          "<b>Topic 41</b><br>Words: yuni, reagan, extradite, bureau, investigate",
          "<b>Topic 41</b><br>Words: reagan, turner, rashid, casey, emerson",
          "<b>Topic 41</b><br>Words: reagan, memo, ronald, papers, cruise",
          "<b>Topic 41</b><br>Words: environmental, reagan, efficiency, clean, automaker",
          "<b>Topic 41</b><br>Words: reagan, treaty, overreaction, overreact, nuclear",
          "<b>Topic 41</b><br>Words: reagan, credit, party, unseemly, flunk",
          "<b>Topic 41</b><br>Words: reagan, history, trump, trip, speech",
          "<b>Topic 41</b><br>Words: reagan, endless, carter, hostage, donatelli"
         ],
         "marker": {
          "color": "#E69F00"
         },
         "mode": "lines",
         "name": "41_reagan_soviet_administration_haig",
         "x": [
          1979.96,
          1982.0,
          1984.0,
          1986.0,
          1988.0,
          1990.0,
          2000.0,
          2002.0,
          2008.0,
          2010.0,
          2016.0,
          2018.0
         ],
         "y": [
          2.2870673583266592E-4,
          1.9023672064978246E-4,
          2.6939655172413793E-4,
          8.010619793097134E-5,
          2.1870352550083107E-5,
          3.654636820465966E-5,
          8.403361344537815E-6,
          3.842311534619227E-6,
          7.781374501992032E-6,
          3.7690336197798886E-6,
          7.690414667158853E-6,
          7.396121473899087E-6
         ],
         "type": "scatter"
        },
        {
         "hoverinfo": "text",
         "hovertext": [
          "<b>Topic 42</b><br>Words: scowcroft, chemical, proposal, ashcroft, weapon",
          "<b>Topic 42</b><br>Words: ashcroft, fbi, attorney, justice, general",
          "<b>Topic 42</b><br>Words: ashcroft, fbi, general, attorney, justice",
          "<b>Topic 42</b><br>Words: ashcroft, gonzale, patriot, attorney, general",
          "<b>Topic 42</b><br>Words: ashcroft, waterboard, gonzale, approve, mueller",
          "<b>Topic 42</b><br>Words: ashcroft, kidd, witness, ridge, material",
          "<b>Topic 42</b><br>Words: kidd, ashcroft, witness, material, hussayen"
         ],
         "marker": {
          "color": "#56B4E9"
         },
         "mode": "lines",
         "name": "42_ashcroft_kidd_fbi_attorney",
         "x": [
          1988.0,
          2000.0,
          2002.0,
          2004.0,
          2006.0,
          2008.0,
          2010.0
         ],
         "y": [
          1.0935176275041553E-5,
          2.0168067226890757E-4,
          1.4985014985014985E-4,
          2.0791749833666002E-5,
          4.052882004393324E-6,
          7.781374501992032E-6,
          1.884516809889944E-5
         ],
         "type": "scatter"
        },
        {
         "hoverinfo": "text",
         "hovertext": [
          "<b>Topic 44</b><br>Words: italy, brigade, red, rome, moro",
          "<b>Topic 44</b><br>Words: italy, brigade, red, dozy, rome",
          "<b>Topic 44</b><br>Words: italy, brigade, red, rome, eco",
          "<b>Topic 44</b><br>Words: italy, brigade, red, moro, priore",
          "<b>Topic 44</b><br>Words: italy, ustica, bologna, cossiga, occhetto",
          "<b>Topic 44</b><br>Words: curcio, italy, brigade, falcone, mafia",
          "<b>Topic 44</b><br>Words: italy, mafia, florence, spadolini, rome",
          "<b>Topic 44</b><br>Words: italy, brigade, red, antona, berlusconi",
          "<b>Topic 44</b><br>Words: sembler, italy, negri, brigade, berlusconi",
          "<b>Topic 44</b><br>Words: italy, milan, chiara, brigade, moro",
          "<b>Topic 44</b><br>Words: italy, nasr, milan, pollari, brigade",
          "<b>Topic 44</b><br>Words: italy, anarchist, rome, embassy, switzerland",
          "<b>Topic 44</b><br>Words: italy, brindisi, school, mafia, rome",
          "<b>Topic 44</b><br>Words: italy, panama, milan, tyrol, germany",
          "<b>Topic 44</b><br>Words: renzi, italy, europe, matteo, investment",
          "<b>Topic 44</b><br>Words: italy, ding, catania, riley, migrant"
         ],
         "marker": {
          "color": "#009E73"
         },
         "mode": "lines",
         "name": "44_italy_brigade_red_rome",
         "x": [
          1979.96,
          1982.0,
          1984.0,
          1986.0,
          1988.0,
          1990.0,
          1992.0,
          2000.0,
          2002.0,
          2004.0,
          2006.0,
          2008.0,
          2010.0,
          2012.0,
          2014.0,
          2016.0
         ],
         "y": [
          3.6211899840172103E-4,
          3.3084647069527385E-5,
          6.083147942157953E-5,
          3.4331227684702005E-5,
          1.0935176275041553E-5,
          1.827318410232983E-5,
          4.633920296570899E-5,
          4.201680672268908E-6,
          7.684623069238454E-6,
          3.74251497005988E-5,
          2.026441002196662E-5,
          3.112549800796813E-5,
          1.884516809889944E-5,
          1.1833759348669886E-5,
          3.849025811567092E-6,
          7.690414667158853E-6
         ],
         "type": "scatter"
        },
        {
         "hoverinfo": "text",
         "hovertext": [
          "<b>Topic 45</b><br>Words: hostage, iran, honsowitz, kidnap, us",
          "<b>Topic 45</b><br>Words: embassy, marine, hostage, beirut, haig",
          "<b>Topic 45</b><br>Words: hostage, lebanon, hijack, iran, us",
          "<b>Topic 45</b><br>Words: hostage, hamadei, iran, lebanon, germany",
          "<b>Topic 45</b><br>Words: hostage, obeid, higgin, kidnap, iran",
          "<b>Topic 45</b><br>Words: hostage, iran, lebanon, turner, kidnap",
          "<b>Topic 45</b><br>Words: eslam, ol, hostage, iran, katzman",
          "<b>Topic 45</b><br>Words: hostage, israel, bargain, kidnap, lebanon",
          "<b>Topic 45</b><br>Words: hostage, lainie, philippine, sayyaf, drama",
          "<b>Topic 45</b><br>Words: hostage, siege, peru, mrta, operation",
          "<b>Topic 45</b><br>Words: hostage, iran, laingen, needham, kirtley",
          "<b>Topic 45</b><br>Words: hostage, sailor, iran, coincidence, pelosi",
          "<b>Topic 45</b><br>Words: hostage, iran, roeder, compensate, captivity",
          "<b>Topic 45</b><br>Words: hostage, kidnap, concession, iran, aq",
          "<b>Topic 45</b><br>Words: hostage, walton, restitution, niger, rescue"
         ],
         "marker": {
          "color": "#F0E442"
         },
         "mode": "lines",
         "name": "45_hostage_iran_lebanon_kidnap",
         "x": [
          1979.96,
          1982.0,
          1984.0,
          1986.0,
          1988.0,
          1990.0,
          1992.0,
          1996.0,
          1998.0,
          2000.0,
          2002.0,
          2006.0,
          2012.0,
          2014.0,
          2018.0
         ],
         "y": [
          5.717668395816648E-5,
          8.271161767381846E-6,
          2.085650723025584E-4,
          2.0598736610821203E-4,
          1.858979966757064E-4,
          1.3704888076747373E-4,
          7.723200494284832E-6,
          8.213147606688788E-6,
          1.2670898746848113E-5,
          4.201680672268908E-6,
          1.152693460385768E-5,
          4.052882004393324E-6,
          3.944586449556628E-6,
          7.698051623134185E-6,
          7.396121473899087E-6
         ],
         "type": "scatter"
        },
        {
         "hoverinfo": "text",
         "hovertext": [
          "<b>Topic 56</b><br>Words: clinton, tomahawk, saddam, bomb, missile",
          "<b>Topic 56</b><br>Words: clinton, summit, iran, chirac, economic",
          "<b>Topic 56</b><br>Words: clinton, computer, president, strike, laden",
          "<b>Topic 56</b><br>Words: clinton, computer, chemical, biological, germ",
          "<b>Topic 56</b><br>Words: sheik, omar, chirac, clinton, nuclear"
         ],
         "marker": {
          "color": "#D55E00"
         },
         "mode": "lines",
         "name": "56_clinton_computer_president_chemical",
         "x": [
          1992.0,
          1994.0,
          1996.0,
          1998.0,
          2004.0
         ],
         "y": [
          4.633920296570899E-5,
          2.5075225677031093E-4,
          2.2175498538059727E-4,
          1.013671899747849E-4,
          8.3166999334664E-6
         ],
         "type": "scatter"
        },
        {
         "hoverinfo": "text",
         "hovertext": [
          "<b>Topic 61</b><br>Words: dole, clinton, porch, savoia, trump",
          "<b>Topic 61</b><br>Words: trump, clinton, candidate, cruz, republican",
          "<b>Topic 61</b><br>Words: trump, pershing, pig, historian, muslim",
          "<b>Topic 61</b><br>Words: trump, harris, lgbtq, republican, presidential"
         ],
         "marker": {
          "color": "#0072B2"
         },
         "mode": "lines",
         "name": "61_trump_clinton_cruz_candidate",
         "x": [
          1994.0,
          2014.0,
          2016.0,
          2018.0
         ],
         "y": [
          8.358408559010364E-6,
          2.50186677751861E-4,
          1.5380829334317707E-5,
          7.396121473899087E-6
         ],
         "type": "scatter"
        },
        {
         "hoverinfo": "text",
         "hovertext": [
          "<b>Topic 63</b><br>Words: salvador, chile, salvadoran, el, costa",
          "<b>Topic 63</b><br>Words: salvador, salvadoran, chile, el, pinochet",
          "<b>Topic 63</b><br>Words: duarte, salvador, salvadorean, chile, el",
          "<b>Topic 63</b><br>Words: chile, chelala, vicaria, hippocratic, gomez",
          "<b>Topic 63</b><br>Words: chile, salvador, risk, salvadoran, grape",
          "<b>Topic 63</b><br>Words: chile, pinochet, aylwin, salvador, guzman",
          "<b>Topic 63</b><br>Words: menem, antonietti, jaunarena, secretariat, argentina",
          "<b>Topic 63</b><br>Words: chile, mapuche, pinochet, garzon, spain",
          "<b>Topic 63</b><br>Words: suchitoto, salvador, salvadoran, saca, el",
          "<b>Topic 63</b><br>Words: chile, bg, khan, ips, salvador",
          "<b>Topic 63</b><br>Words: mapuche, chile, luchsinger, catrileo, pinera",
          "<b>Topic 63</b><br>Words: mapuche, chile, araucania, bachelet, indigenous"
         ],
         "marker": {
          "color": "#CC79A7"
         },
         "mode": "lines",
         "name": "63_chile_salvador_salvadoran_pinochet",
         "x": [
          1979.96,
          1982.0,
          1984.0,
          1986.0,
          1988.0,
          1990.0,
          1992.0,
          2002.0,
          2006.0,
          2008.0,
          2012.0,
          2016.0
         ],
         "y": [
          2.4776563048538807E-4,
          1.6542323534763693E-4,
          3.476084538375973E-5,
          1.1443742561567335E-5,
          3.280552882512466E-5,
          3.654636820465966E-5,
          7.723200494284832E-6,
          7.684623069238454E-6,
          1.2158646013179972E-5,
          1.1672061752988048E-5,
          3.944586449556628E-6,
          3.845207333579427E-6
         ],
         "type": "scatter"
        },
        {
         "hoverinfo": "text",
         "hovertext": [
          "<b>Topic 86</b><br>Words: tsarnaev, tamerlan, boston, brother, russia",
          "<b>Topic 86</b><br>Words: ciccolo, boston, tsarnaev, macinne, marathon",
          "<b>Topic 86</b><br>Words: tsarnaev, tamerlan, boston, brother, dzhokhar"
         ],
         "marker": {
          "color": "#E69F00"
         },
         "mode": "lines",
         "name": "86_tsarnaev_tamerlan_boston_brother",
         "x": [
          2012.0,
          2016.0,
          2018.0
         ],
         "y": [
          2.0117390892738805E-4,
          3.845207333579427E-6,
          3.6980607369495435E-6
         ],
         "type": "scatter"
        },
        {
         "hoverinfo": "text",
         "hovertext": [
          "<b>Topic 90</b><br>Words: marine, lebanon, beirut, commander, commission",
          "<b>Topic 90</b><br>Words: lebanon, suicide, marine, beirut, shiite",
          "<b>Topic 90</b><br>Words: hezbollah, lebanon, beirut, mau, shiite",
          "<b>Topic 90</b><br>Words: canada, hezbollah, husseini, lebanon, sayegh",
          "<b>Topic 90</b><br>Words: shelton, lebanon, concord, rifles, handwriting",
          "<b>Topic 90</b><br>Words: hezbollah, beirut, lebanon, marine, mugniyah",
          "<b>Topic 90</b><br>Words: rash, lebanon, hezbollah, beirut, marine",
          "<b>Topic 90</b><br>Words: hezbollah, lebanon, nasrallah, marine, beirut",
          "<b>Topic 90</b><br>Words: lebanon, eid, beirut, marine, fatah",
          "<b>Topic 90</b><br>Words: asgari, bird, lebanon, iran, hezbollah",
          "<b>Topic 90</b><br>Words: forum, cyberattack, climate, risk, global",
          "<b>Topic 90</b><br>Words: ammonium, nitrate, mossad, hezbollah, atri"
         ],
         "marker": {
          "color": "#56B4E9"
         },
         "mode": "lines",
         "name": "90_lebanon_marine_beirut_commander",
         "x": [
          1982.0,
          1984.0,
          1992.0,
          1996.0,
          1998.0,
          2000.0,
          2002.0,
          2004.0,
          2006.0,
          2012.0,
          2016.0,
          2018.0
         ],
         "y": [
          2.315925294866917E-4,
          3.476084538375973E-5,
          7.723200494284832E-6,
          1.6426295213377576E-5,
          6.335449373424057E-6,
          8.403361344537815E-6,
          7.684623069238454E-6,
          1.24750499001996E-5,
          1.6211528017573296E-5,
          7.889172899113257E-6,
          3.845207333579427E-6,
          3.6980607369495435E-6
         ],
         "type": "scatter"
        },
        {
         "hoverinfo": "text",
         "hovertext": [
          "<b>Topic 92</b><br>Words: embassy, kenya, tanzania, africa, bomb",
          "<b>Topic 92</b><br>Words: korea, embassy, kenya, tanzania, sponsor",
          "<b>Topic 92</b><br>Words: africa, embassy, kenya, diamond, nairobi",
          "<b>Topic 92</b><br>Words: rosemary, passport, patt, shilling, mcdonough",
          "<b>Topic 92</b><br>Words: list, korea, designate, cuba, venezuela",
          "<b>Topic 92</b><br>Words: africa, kenya, africom, jalloh, laden",
          "<b>Topic 92</b><br>Words: kenya, nairobi, africa, aqmi, embassy",
          "<b>Topic 92</b><br>Words: russia, travel, level, reality, advisory",
          "<b>Topic 92</b><br>Words: cyclone, monday, bolivia, icbm, migrant"
         ],
         "marker": {
          "color": "#009E73"
         },
         "mode": "lines",
         "name": "92_embassy_kenya_tanzania_africa",
         "x": [
          1996.0,
          1998.0,
          2000.0,
          2002.0,
          2006.0,
          2010.0,
          2012.0,
          2016.0,
          2018.0
         ],
         "y": [
          1.9711554256053089E-4,
          6.335449373424058E-5,
          2.9411764705882354E-5,
          7.684623069238454E-6,
          4.052882004393324E-6,
          3.7690336197798886E-6,
          3.944586449556628E-6,
          3.845207333579427E-6,
          7.396121473899087E-6
         ],
         "type": "scatter"
        },
        {
         "hoverinfo": "text",
         "hovertext": [
          "<b>Topic 93</b><br>Words: boston, turner, marketing, device, broadcasting",
          "<b>Topic 93</b><br>Words: boston, marathon, runner, krause, finish",
          "<b>Topic 93</b><br>Words: boston, bomber, marathon, stubben, penalty",
          "<b>Topic 93</b><br>Words: bauman, boston, marathon, gyllenhaal, film",
          "<b>Topic 93</b><br>Words: boston, wray, marathon, pose, domestic"
         ],
         "marker": {
          "color": "#F0E442"
         },
         "mode": "lines",
         "name": "93_boston_marathon_runner_krause",
         "x": [
          2006.0,
          2012.0,
          2014.0,
          2016.0,
          2018.0
         ],
         "y": [
          1.2158646013179972E-5,
          1.656726308813784E-4,
          3.849025811567092E-6,
          7.690414667158853E-6,
          3.6980607369495435E-6
         ],
         "type": "scatter"
        },
        {
         "hoverinfo": "text",
         "hovertext": [
          "<b>Topic 97</b><br>Words: ryan, penalty, illinois, governor, death",
          "<b>Topic 97</b><br>Words: illinois, ryan, grady, penalty, library",
          "<b>Topic 97</b><br>Words: veteran, terek, illinois, ryan, eligible",
          "<b>Topic 97</b><br>Words: penalty, punishment, death, connecticut, ryan",
          "<b>Topic 97</b><br>Words: illinois, cadigan, lang, ryan, skokie"
         ],
         "marker": {
          "color": "#D55E00"
         },
         "mode": "lines",
         "name": "97_ryan_penalty_illinois_governor",
         "x": [
          2000.0,
          2004.0,
          2008.0,
          2010.0,
          2016.0
         ],
         "y": [
          1.5966386554621849E-4,
          8.3166999334664E-6,
          3.890687250996016E-6,
          3.7690336197798886E-6,
          7.690414667158853E-6
         ],
         "type": "scatter"
        },
        {
         "hoverinfo": "text",
         "hovertext": [
          "<b>Topic 98</b><br>Words: kingsville, aransa, helicopter, cavazo, fanto",
          "<b>Topic 98</b><br>Words: dive, scuba, hurin, instructor, kolko",
          "<b>Topic 98</b><br>Words: pensacola, shoot, saudi, naval, alshamrani"
         ],
         "marker": {
          "color": "#0072B2"
         },
         "mode": "lines",
         "name": "98_pensacola_shoot_saudi_naval",
         "x": [
          1998.0,
          2006.0,
          2018.0
         ],
         "y": [
          6.335449373424057E-6,
          4.052882004393324E-6,
          1.5531855095188084E-4
         ],
         "type": "scatter"
        },
        {
         "hoverinfo": "text",
         "hovertext": [
          "<b>Topic 107</b><br>Words: neville, flint, michigan, whitmer, sheriff",
          "<b>Topic 107</b><br>Words: whitmer, michigan, kidnap, governor, plot"
         ],
         "marker": {
          "color": "#CC79A7"
         },
         "mode": "lines",
         "name": "107_whitmer_michigan_kidnap_governor",
         "x": [
          2016.0,
          2018.0
         ],
         "y": [
          7.690414667158853E-6,
          1.2943212579323403E-4
         ],
         "type": "scatter"
        }
       ],
       "layout": {
        "template": {
         "data": {
          "barpolar": [
           {
            "marker": {
             "line": {
              "color": "white",
              "width": 0.5
             },
             "pattern": {
              "fillmode": "overlay",
              "size": 10,
              "solidity": 0.2
             }
            },
            "type": "barpolar"
           }
          ],
          "bar": [
           {
            "error_x": {
             "color": "rgb(36,36,36)"
            },
            "error_y": {
             "color": "rgb(36,36,36)"
            },
            "marker": {
             "line": {
              "color": "white",
              "width": 0.5
             },
             "pattern": {
              "fillmode": "overlay",
              "size": 10,
              "solidity": 0.2
             }
            },
            "type": "bar"
           }
          ],
          "carpet": [
           {
            "aaxis": {
             "endlinecolor": "rgb(36,36,36)",
             "gridcolor": "white",
             "linecolor": "white",
             "minorgridcolor": "white",
             "startlinecolor": "rgb(36,36,36)"
            },
            "baxis": {
             "endlinecolor": "rgb(36,36,36)",
             "gridcolor": "white",
             "linecolor": "white",
             "minorgridcolor": "white",
             "startlinecolor": "rgb(36,36,36)"
            },
            "type": "carpet"
           }
          ],
          "choropleth": [
           {
            "colorbar": {
             "outlinewidth": 1,
             "tickcolor": "rgb(36,36,36)",
             "ticks": "outside"
            },
            "type": "choropleth"
           }
          ],
          "contourcarpet": [
           {
            "colorbar": {
             "outlinewidth": 1,
             "tickcolor": "rgb(36,36,36)",
             "ticks": "outside"
            },
            "type": "contourcarpet"
           }
          ],
          "contour": [
           {
            "colorbar": {
             "outlinewidth": 1,
             "tickcolor": "rgb(36,36,36)",
             "ticks": "outside"
            },
            "colorscale": [
             [
              0.0,
              "#440154"
             ],
             [
              0.1111111111111111,
              "#482878"
             ],
             [
              0.2222222222222222,
              "#3e4989"
             ],
             [
              0.3333333333333333,
              "#31688e"
             ],
             [
              0.4444444444444444,
              "#26828e"
             ],
             [
              0.5555555555555556,
              "#1f9e89"
             ],
             [
              0.6666666666666666,
              "#35b779"
             ],
             [
              0.7777777777777778,
              "#6ece58"
             ],
             [
              0.8888888888888888,
              "#b5de2b"
             ],
             [
              1.0,
              "#fde725"
             ]
            ],
            "type": "contour"
           }
          ],
          "heatmapgl": [
           {
            "colorbar": {
             "outlinewidth": 1,
             "tickcolor": "rgb(36,36,36)",
             "ticks": "outside"
            },
            "colorscale": [
             [
              0.0,
              "#440154"
             ],
             [
              0.1111111111111111,
              "#482878"
             ],
             [
              0.2222222222222222,
              "#3e4989"
             ],
             [
              0.3333333333333333,
              "#31688e"
             ],
             [
              0.4444444444444444,
              "#26828e"
             ],
             [
              0.5555555555555556,
              "#1f9e89"
             ],
             [
              0.6666666666666666,
              "#35b779"
             ],
             [
              0.7777777777777778,
              "#6ece58"
             ],
             [
              0.8888888888888888,
              "#b5de2b"
             ],
             [
              1.0,
              "#fde725"
             ]
            ],
            "type": "heatmapgl"
           }
          ],
          "heatmap": [
           {
            "colorbar": {
             "outlinewidth": 1,
             "tickcolor": "rgb(36,36,36)",
             "ticks": "outside"
            },
            "colorscale": [
             [
              0.0,
              "#440154"
             ],
             [
              0.1111111111111111,
              "#482878"
             ],
             [
              0.2222222222222222,
              "#3e4989"
             ],
             [
              0.3333333333333333,
              "#31688e"
             ],
             [
              0.4444444444444444,
              "#26828e"
             ],
             [
              0.5555555555555556,
              "#1f9e89"
             ],
             [
              0.6666666666666666,
              "#35b779"
             ],
             [
              0.7777777777777778,
              "#6ece58"
             ],
             [
              0.8888888888888888,
              "#b5de2b"
             ],
             [
              1.0,
              "#fde725"
             ]
            ],
            "type": "heatmap"
           }
          ],
          "histogram2dcontour": [
           {
            "colorbar": {
             "outlinewidth": 1,
             "tickcolor": "rgb(36,36,36)",
             "ticks": "outside"
            },
            "colorscale": [
             [
              0.0,
              "#440154"
             ],
             [
              0.1111111111111111,
              "#482878"
             ],
             [
              0.2222222222222222,
              "#3e4989"
             ],
             [
              0.3333333333333333,
              "#31688e"
             ],
             [
              0.4444444444444444,
              "#26828e"
             ],
             [
              0.5555555555555556,
              "#1f9e89"
             ],
             [
              0.6666666666666666,
              "#35b779"
             ],
             [
              0.7777777777777778,
              "#6ece58"
             ],
             [
              0.8888888888888888,
              "#b5de2b"
             ],
             [
              1.0,
              "#fde725"
             ]
            ],
            "type": "histogram2dcontour"
           }
          ],
          "histogram2d": [
           {
            "colorbar": {
             "outlinewidth": 1,
             "tickcolor": "rgb(36,36,36)",
             "ticks": "outside"
            },
            "colorscale": [
             [
              0.0,
              "#440154"
             ],
             [
              0.1111111111111111,
              "#482878"
             ],
             [
              0.2222222222222222,
              "#3e4989"
             ],
             [
              0.3333333333333333,
              "#31688e"
             ],
             [
              0.4444444444444444,
              "#26828e"
             ],
             [
              0.5555555555555556,
              "#1f9e89"
             ],
             [
              0.6666666666666666,
              "#35b779"
             ],
             [
              0.7777777777777778,
              "#6ece58"
             ],
             [
              0.8888888888888888,
              "#b5de2b"
             ],
             [
              1.0,
              "#fde725"
             ]
            ],
            "type": "histogram2d"
           }
          ],
          "histogram": [
           {
            "marker": {
             "line": {
              "color": "white",
              "width": 0.6
             }
            },
            "type": "histogram"
           }
          ],
          "mesh3d": [
           {
            "colorbar": {
             "outlinewidth": 1,
             "tickcolor": "rgb(36,36,36)",
             "ticks": "outside"
            },
            "type": "mesh3d"
           }
          ],
          "parcoords": [
           {
            "line": {
             "colorbar": {
              "outlinewidth": 1,
              "tickcolor": "rgb(36,36,36)",
              "ticks": "outside"
             }
            },
            "type": "parcoords"
           }
          ],
          "pie": [
           {
            "automargin": true,
            "type": "pie"
           }
          ],
          "scatter3d": [
           {
            "line": {
             "colorbar": {
              "outlinewidth": 1,
              "tickcolor": "rgb(36,36,36)",
              "ticks": "outside"
             }
            },
            "marker": {
             "colorbar": {
              "outlinewidth": 1,
              "tickcolor": "rgb(36,36,36)",
              "ticks": "outside"
             }
            },
            "type": "scatter3d"
           }
          ],
          "scattercarpet": [
           {
            "marker": {
             "colorbar": {
              "outlinewidth": 1,
              "tickcolor": "rgb(36,36,36)",
              "ticks": "outside"
             }
            },
            "type": "scattercarpet"
           }
          ],
          "scattergeo": [
           {
            "marker": {
             "colorbar": {
              "outlinewidth": 1,
              "tickcolor": "rgb(36,36,36)",
              "ticks": "outside"
             }
            },
            "type": "scattergeo"
           }
          ],
          "scattergl": [
           {
            "marker": {
             "colorbar": {
              "outlinewidth": 1,
              "tickcolor": "rgb(36,36,36)",
              "ticks": "outside"
             }
            },
            "type": "scattergl"
           }
          ],
          "scattermapbox": [
           {
            "marker": {
             "colorbar": {
              "outlinewidth": 1,
              "tickcolor": "rgb(36,36,36)",
              "ticks": "outside"
             }
            },
            "type": "scattermapbox"
           }
          ],
          "scatterpolargl": [
           {
            "marker": {
             "colorbar": {
              "outlinewidth": 1,
              "tickcolor": "rgb(36,36,36)",
              "ticks": "outside"
             }
            },
            "type": "scatterpolargl"
           }
          ],
          "scatterpolar": [
           {
            "marker": {
             "colorbar": {
              "outlinewidth": 1,
              "tickcolor": "rgb(36,36,36)",
              "ticks": "outside"
             }
            },
            "type": "scatterpolar"
           }
          ],
          "scatter": [
           {
            "fillpattern": {
             "fillmode": "overlay",
             "size": 10,
             "solidity": 0.2
            },
            "type": "scatter"
           }
          ],
          "scatterternary": [
           {
            "marker": {
             "colorbar": {
              "outlinewidth": 1,
              "tickcolor": "rgb(36,36,36)",
              "ticks": "outside"
             }
            },
            "type": "scatterternary"
           }
          ],
          "surface": [
           {
            "colorbar": {
             "outlinewidth": 1,
             "tickcolor": "rgb(36,36,36)",
             "ticks": "outside"
            },
            "colorscale": [
             [
              0.0,
              "#440154"
             ],
             [
              0.1111111111111111,
              "#482878"
             ],
             [
              0.2222222222222222,
              "#3e4989"
             ],
             [
              0.3333333333333333,
              "#31688e"
             ],
             [
              0.4444444444444444,
              "#26828e"
             ],
             [
              0.5555555555555556,
              "#1f9e89"
             ],
             [
              0.6666666666666666,
              "#35b779"
             ],
             [
              0.7777777777777778,
              "#6ece58"
             ],
             [
              0.8888888888888888,
              "#b5de2b"
             ],
             [
              1.0,
              "#fde725"
             ]
            ],
            "type": "surface"
           }
          ],
          "table": [
           {
            "cells": {
             "fill": {
              "color": "rgb(237,237,237)"
             },
             "line": {
              "color": "white"
             }
            },
            "header": {
             "fill": {
              "color": "rgb(217,217,217)"
             },
             "line": {
              "color": "white"
             }
            },
            "type": "table"
           }
          ]
         },
         "layout": {
          "annotationdefaults": {
           "arrowhead": 0,
           "arrowwidth": 1
          },
          "autotypenumbers": "strict",
          "coloraxis": {
           "colorbar": {
            "outlinewidth": 1,
            "tickcolor": "rgb(36,36,36)",
            "ticks": "outside"
           }
          },
          "colorscale": {
           "diverging": [
            [
             0.0,
             "rgb(103,0,31)"
            ],
            [
             0.1,
             "rgb(178,24,43)"
            ],
            [
             0.2,
             "rgb(214,96,77)"
            ],
            [
             0.3,
             "rgb(244,165,130)"
            ],
            [
             0.4,
             "rgb(253,219,199)"
            ],
            [
             0.5,
             "rgb(247,247,247)"
            ],
            [
             0.6,
             "rgb(209,229,240)"
            ],
            [
             0.7,
             "rgb(146,197,222)"
            ],
            [
             0.8,
             "rgb(67,147,195)"
            ],
            [
             0.9,
             "rgb(33,102,172)"
            ],
            [
             1.0,
             "rgb(5,48,97)"
            ]
           ],
           "sequential": [
            [
             0.0,
             "#440154"
            ],
            [
             0.1111111111111111,
             "#482878"
            ],
            [
             0.2222222222222222,
             "#3e4989"
            ],
            [
             0.3333333333333333,
             "#31688e"
            ],
            [
             0.4444444444444444,
             "#26828e"
            ],
            [
             0.5555555555555556,
             "#1f9e89"
            ],
            [
             0.6666666666666666,
             "#35b779"
            ],
            [
             0.7777777777777778,
             "#6ece58"
            ],
            [
             0.8888888888888888,
             "#b5de2b"
            ],
            [
             1.0,
             "#fde725"
            ]
           ],
           "sequentialminus": [
            [
             0.0,
             "#440154"
            ],
            [
             0.1111111111111111,
             "#482878"
            ],
            [
             0.2222222222222222,
             "#3e4989"
            ],
            [
             0.3333333333333333,
             "#31688e"
            ],
            [
             0.4444444444444444,
             "#26828e"
            ],
            [
             0.5555555555555556,
             "#1f9e89"
            ],
            [
             0.6666666666666666,
             "#35b779"
            ],
            [
             0.7777777777777778,
             "#6ece58"
            ],
            [
             0.8888888888888888,
             "#b5de2b"
            ],
            [
             1.0,
             "#fde725"
            ]
           ]
          },
          "colorway": [
           "#1F77B4",
           "#FF7F0E",
           "#2CA02C",
           "#D62728",
           "#9467BD",
           "#8C564B",
           "#E377C2",
           "#7F7F7F",
           "#BCBD22",
           "#17BECF"
          ],
          "font": {
           "color": "rgb(36,36,36)"
          },
          "geo": {
           "bgcolor": "white",
           "lakecolor": "white",
           "landcolor": "white",
           "showlakes": true,
           "showland": true,
           "subunitcolor": "white"
          },
          "hoverlabel": {
           "align": "left"
          },
          "hovermode": "closest",
          "mapbox": {
           "style": "light"
          },
          "paper_bgcolor": "white",
          "plot_bgcolor": "white",
          "polar": {
           "angularaxis": {
            "gridcolor": "rgb(232,232,232)",
            "linecolor": "rgb(36,36,36)",
            "showgrid": false,
            "showline": true,
            "ticks": "outside"
           },
           "bgcolor": "white",
           "radialaxis": {
            "gridcolor": "rgb(232,232,232)",
            "linecolor": "rgb(36,36,36)",
            "showgrid": false,
            "showline": true,
            "ticks": "outside"
           }
          },
          "scene": {
           "xaxis": {
            "backgroundcolor": "white",
            "gridcolor": "rgb(232,232,232)",
            "gridwidth": 2,
            "linecolor": "rgb(36,36,36)",
            "showbackground": true,
            "showgrid": false,
            "showline": true,
            "ticks": "outside",
            "zeroline": false,
            "zerolinecolor": "rgb(36,36,36)"
           },
           "yaxis": {
            "backgroundcolor": "white",
            "gridcolor": "rgb(232,232,232)",
            "gridwidth": 2,
            "linecolor": "rgb(36,36,36)",
            "showbackground": true,
            "showgrid": false,
            "showline": true,
            "ticks": "outside",
            "zeroline": false,
            "zerolinecolor": "rgb(36,36,36)"
           },
           "zaxis": {
            "backgroundcolor": "white",
            "gridcolor": "rgb(232,232,232)",
            "gridwidth": 2,
            "linecolor": "rgb(36,36,36)",
            "showbackground": true,
            "showgrid": false,
            "showline": true,
            "ticks": "outside",
            "zeroline": false,
            "zerolinecolor": "rgb(36,36,36)"
           }
          },
          "shapedefaults": {
           "fillcolor": "black",
           "line": {
            "width": 0
           },
           "opacity": 0.3
          },
          "ternary": {
           "aaxis": {
            "gridcolor": "rgb(232,232,232)",
            "linecolor": "rgb(36,36,36)",
            "showgrid": false,
            "showline": true,
            "ticks": "outside"
           },
           "baxis": {
            "gridcolor": "rgb(232,232,232)",
            "linecolor": "rgb(36,36,36)",
            "showgrid": false,
            "showline": true,
            "ticks": "outside"
           },
           "bgcolor": "white",
           "caxis": {
            "gridcolor": "rgb(232,232,232)",
            "linecolor": "rgb(36,36,36)",
            "showgrid": false,
            "showline": true,
            "ticks": "outside"
           }
          },
          "title": {
           "x": 0.05
          },
          "xaxis": {
           "automargin": true,
           "gridcolor": "rgb(232,232,232)",
           "linecolor": "rgb(36,36,36)",
           "showgrid": false,
           "showline": true,
           "ticks": "outside",
           "title": {
            "standoff": 15
           },
           "zeroline": false,
           "zerolinecolor": "rgb(36,36,36)"
          },
          "yaxis": {
           "automargin": true,
           "gridcolor": "rgb(232,232,232)",
           "linecolor": "rgb(36,36,36)",
           "showgrid": false,
           "showline": true,
           "ticks": "outside",
           "title": {
            "standoff": 15
           },
           "zeroline": false,
           "zerolinecolor": "rgb(36,36,36)"
          }
         }
        },
        "xaxis": {
         "showgrid": true
        },
        "yaxis": {
         "showgrid": true,
         "title": {
          "text": "Frequency"
         }
        },
        "title": {
         "font": {
          "size": 22,
          "color": "Black"
         },
         "text": "<b>Topics over Time</b>",
         "y": 0.95,
         "x": 0.4,
         "xanchor": "center",
         "yanchor": "top"
        },
        "hoverlabel": {
         "font": {
          "size": 16,
          "family": "Rockwell"
         },
         "bgcolor": "white"
        },
        "width": 1200,
        "height": 800,
        "legend": {
         "title": {
          "text": "<b>Global Topic Representation"
         }
        }
       },
       "config": {
        "plotlyServerURL": "https://plot.ly"
       }
      },
      "text/html": "<div>                            <div id=\"316d0703-37f0-4327-8291-dac4b3cfff71\" class=\"plotly-graph-div\" style=\"height:800px; width:1200px;\"></div>            <script type=\"text/javascript\">                require([\"plotly\"], function(Plotly) {                    window.PLOTLYENV=window.PLOTLYENV || {};                                    if (document.getElementById(\"316d0703-37f0-4327-8291-dac4b3cfff71\")) {                    Plotly.newPlot(                        \"316d0703-37f0-4327-8291-dac4b3cfff71\",                        [{\"hoverinfo\":\"text\",\"hovertext\":[\"\\u003cb\\u003eTopic 0\\u003c\\u002fb\\u003e\\u003cbr\\u003eWords: israel, palestinian, arab, lebanon, arafat\",\"\\u003cb\\u003eTopic 0\\u003c\\u002fb\\u003e\\u003cbr\\u003eWords: israel, arab, palestinian, jewish, bank\",\"\\u003cb\\u003eTopic 0\\u003c\\u002fb\\u003e\\u003cbr\\u003eWords: israel, palestinian, arafat, arab, peace\",\"\\u003cb\\u003eTopic 0\\u003c\\u002fb\\u003e\\u003cbr\\u003eWords: arafat, israel, palestinian, plo, shultz\",\"\\u003cb\\u003eTopic 0\\u003c\\u002fb\\u003e\\u003cbr\\u003eWords: israel, plo, palestinian, arafat, palestine\",\"\\u003cb\\u003eTopic 0\\u003c\\u002fb\\u003e\\u003cbr\\u003eWords: israel, plo, arab, palestinian, arafat\",\"\\u003cb\\u003eTopic 0\\u003c\\u002fb\\u003e\\u003cbr\\u003eWords: israel, palestinian, arafat, plo, rabin\",\"\\u003cb\\u003eTopic 0\\u003c\\u002fb\\u003e\\u003cbr\\u003eWords: israel, palestinian, peace, arafat, hama\",\"\\u003cb\\u003eTopic 0\\u003c\\u002fb\\u003e\\u003cbr\\u003eWords: israel, palestinian, netanyahu, arafat, peace\",\"\\u003cb\\u003eTopic 0\\u003c\\u002fb\\u003e\\u003cbr\\u003eWords: israel, palestinian, arafat, peace, barak\",\"\\u003cb\\u003eTopic 0\\u003c\\u002fb\\u003e\\u003cbr\\u003eWords: israel, palestinian, arafat, sharon, peace\",\"\\u003cb\\u003eTopic 0\\u003c\\u002fb\\u003e\\u003cbr\\u003eWords: israel, palestinian, arafat, peace, hama\",\"\\u003cb\\u003eTopic 0\\u003c\\u002fb\\u003e\\u003cbr\\u003eWords: israel, palestinian, hama, arafat, peace\",\"\\u003cb\\u003eTopic 0\\u003c\\u002fb\\u003e\\u003cbr\\u003eWords: israel, palestinian, hama, peace, gaza\",\"\\u003cb\\u003eTopic 0\\u003c\\u002fb\\u003e\\u003cbr\\u003eWords: israel, palestinian, hama, gaza, jewish\",\"\\u003cb\\u003eTopic 0\\u003c\\u002fb\\u003e\\u003cbr\\u003eWords: israel, palestinian, hama, peace, gaza\",\"\\u003cb\\u003eTopic 0\\u003c\\u002fb\\u003e\\u003cbr\\u003eWords: israel, palestinian, hama, gaza, peace\",\"\\u003cb\\u003eTopic 0\\u003c\\u002fb\\u003e\\u003cbr\\u003eWords: israel, palestinian, jewish, netanyahu, arab\",\"\\u003cb\\u003eTopic 0\\u003c\\u002fb\\u003e\\u003cbr\\u003eWords: israel, palestinian, hama, gaza, peace\",\"\\u003cb\\u003eTopic 0\\u003c\\u002fb\\u003e\\u003cbr\\u003eWords: israel, palestinian, uliel, hama, jewish\"],\"marker\":{\"color\":\"#E69F00\"},\"mode\":\"lines\",\"name\":\"0_israel_palestinian_arafat_peace\",\"x\":[1979.96,1982.0,1984.0,1986.0,1988.0,1990.0,1992.0,1994.0,1996.0,1998.0,2000.0,2002.0,2004.0,2006.0,2008.0,2010.0,2012.0,2014.0,2016.0,2018.0],\"y\":[0.0004955312609707761,0.0003556599559974194,0.00029546718576195773,0.0005264121578320974,0.0008966844545534074,0.00010963910461397899,0.000780043249922768,0.0008107656302240053,0.0005995597752882814,0.00017739258245587358,0.0003991596638655462,0.0002728041189579651,0.00033266799733865603,0.0001864325722020929,0.00010115786852589642,0.00016960651289009497,0.00020117390892738805,0.00010777272272387858,0.0001422726713424388,7.396121473899088e-05],\"type\":\"scatter\"},{\"hoverinfo\":\"text\",\"hovertext\":[\"\\u003cb\\u003eTopic 1\\u003c\\u002fb\\u003e\\u003cbr\\u003eWords: unjust, willkie, perpetuate, injustice, wendell\",\"\\u003cb\\u003eTopic 1\\u003c\\u002fb\\u003e\\u003cbr\\u003eWords: iraq, saddam, kuwait, gulf, hussein\",\"\\u003cb\\u003eTopic 1\\u003c\\u002fb\\u003e\\u003cbr\\u003eWords: iraq, saddam, hussein, kuwait, bush\",\"\\u003cb\\u003eTopic 1\\u003c\\u002fb\\u003e\\u003cbr\\u003eWords: iraq, saddam, kuwait, bush, gay\",\"\\u003cb\\u003eTopic 1\\u003c\\u002fb\\u003e\\u003cbr\\u003eWords: laden, bin, war, iraq, afghanistan\",\"\\u003cb\\u003eTopic 1\\u003c\\u002fb\\u003e\\u003cbr\\u003eWords: laden, bin, uzbekistan, iran, bodansky\",\"\\u003cb\\u003eTopic 1\\u003c\\u002fb\\u003e\\u003cbr\\u003eWords: laden, bin, bush, war, iraq\",\"\\u003cb\\u003eTopic 1\\u003c\\u002fb\\u003e\\u003cbr\\u003eWords: iraq, bush, war, saddam, al\",\"\\u003cb\\u003eTopic 1\\u003c\\u002fb\\u003e\\u003cbr\\u003eWords: iraq, war, bush, laden, bin\",\"\\u003cb\\u003eTopic 1\\u003c\\u002fb\\u003e\\u003cbr\\u003eWords: iraq, obama, war, al, qaida\",\"\\u003cb\\u003eTopic 1\\u003c\\u002fb\\u003e\\u003cbr\\u003eWords: obama, war, afghanistan, bush, al\",\"\\u003cb\\u003eTopic 1\\u003c\\u002fb\\u003e\\u003cbr\\u003eWords: laden, bin, al, qaida, obama\",\"\\u003cb\\u003eTopic 1\\u003c\\u002fb\\u003e\\u003cbr\\u003eWords: obama, iraq, war, al, qaida\",\"\\u003cb\\u003eTopic 1\\u003c\\u002fb\\u003e\\u003cbr\\u003eWords: obama, iraq, islam, war, president\",\"\\u003cb\\u003eTopic 1\\u003c\\u002fb\\u003e\\u003cbr\\u003eWords: drone, lone, wolf, iraq, soufan\",\"\\u003cb\\u003eTopic 1\\u003c\\u002fb\\u003e\\u003cbr\\u003eWords: al, qaeda, masri, iraq, war\"],\"marker\":{\"color\":\"#56B4E9\"},\"mode\":\"lines\",\"name\":\"1_iraq_obama_war_laden\",\"x\":[1984.0,1988.0,1990.0,1992.0,1996.0,1998.0,2000.0,2002.0,2004.0,2006.0,2008.0,2010.0,2012.0,2014.0,2016.0,2018.0],\"y\":[8.690211345939933e-06,8.748141020033243e-05,0.00010050251256281407,3.861600247142416e-05,0.00019711554256053089,4.4348145613968396e-05,0.00034453781512605044,0.0003842311534619227,0.00038672654690618765,0.00023912003825920613,0.00016340886454183266,0.00037313432835820896,0.0002642872921202941,0.0002463376519402939,3.0761658668635414e-05,7.026315400204133e-05],\"type\":\"scatter\"},{\"hoverinfo\":\"text\",\"hovertext\":[\"\\u003cb\\u003eTopic 2\\u003c\\u002fb\\u003e\\u003cbr\\u003eWords: survey, director, touche, bank, boards\",\"\\u003cb\\u003eTopic 2\\u003c\\u002fb\\u003e\\u003cbr\\u003eWords: insurance, coverage, risk, kidnap, grose\",\"\\u003cb\\u003eTopic 2\\u003c\\u002fb\\u003e\\u003cbr\\u003eWords: underwriter, coverage, risk, insurance, rate\",\"\\u003cb\\u003eTopic 2\\u003c\\u002fb\\u003e\\u003cbr\\u003eWords: pool, insurance, coverage, insurer, risk\",\"\\u003cb\\u003eTopic 2\\u003c\\u002fb\\u003e\\u003cbr\\u003eWords: reinsure, insurance, pool, coverage, risk\",\"\\u003cb\\u003eTopic 2\\u003c\\u002fb\\u003e\\u003cbr\\u003eWords: pool, insurance, coverage, reinsure, risk\",\"\\u003cb\\u003eTopic 2\\u003c\\u002fb\\u003e\\u003cbr\\u003eWords: risk, pool, insurance, coverage, rate\",\"\\u003cb\\u003eTopic 2\\u003c\\u002fb\\u003e\\u003cbr\\u003eWords: insurance, insurer, coverage, risk, reinsure\",\"\\u003cb\\u003eTopic 2\\u003c\\u002fb\\u003e\\u003cbr\\u003eWords: insurance, coverage, risk, insurer, tria\",\"\\u003cb\\u003eTopic 2\\u003c\\u002fb\\u003e\\u003cbr\\u003eWords: insurance, tria, risk, insurer, coverage\",\"\\u003cb\\u003eTopic 2\\u003c\\u002fb\\u003e\\u003cbr\\u003eWords: insurance, risk, coverage, insurer, backstop\",\"\\u003cb\\u003eTopic 2\\u003c\\u002fb\\u003e\\u003cbr\\u003eWords: insurance, backstop, insurer, risk, coverage\",\"\\u003cb\\u003eTopic 2\\u003c\\u002fb\\u003e\\u003cbr\\u003eWords: insurance, risk, coverage, insurer, backstop\",\"\\u003cb\\u003eTopic 2\\u003c\\u002fb\\u003e\\u003cbr\\u003eWords: insurance, risk, insurer, tria, coverage\",\"\\u003cb\\u003eTopic 2\\u003c\\u002fb\\u003e\\u003cbr\\u003eWords: insurance, coverage, risk, tria, insurer\",\"\\u003cb\\u003eTopic 2\\u003c\\u002fb\\u003e\\u003cbr\\u003eWords: insurance, coverage, insurer, art, risk\",\"\\u003cb\\u003eTopic 2\\u003c\\u002fb\\u003e\\u003cbr\\u003eWords: insurance, risk, business, insurer, coverage\"],\"marker\":{\"color\":\"#009E73\"},\"mode\":\"lines\",\"name\":\"2_insurance_coverage_risk_insurer\",\"x\":[1984.0,1988.0,1990.0,1992.0,1994.0,1996.0,1998.0,2000.0,2002.0,2004.0,2006.0,2008.0,2010.0,2012.0,2014.0,2016.0,2018.0],\"y\":[8.690211345939933e-06,5.467588137520777e-05,0.0001187756966651439,0.00011584800741427248,3.3433634236041456e-05,2.463944282006636e-05,1.2670898746848113e-05,0.00047058823529411766,0.00045339276108506877,0.0005863273453093812,0.00038097090841297246,6.225099601593625e-05,8.291873963515754e-05,0.0003195115024140869,6.928246460820767e-05,1.9226036667897134e-05,7.396121473899088e-05],\"type\":\"scatter\"},{\"hoverinfo\":\"text\",\"hovertext\":[\"\\u003cb\\u003eTopic 3\\u003c\\u002fb\\u003e\\u003cbr\\u003eWords: klan, hine, spartacist, liverpool, wilkinson\",\"\\u003cb\\u003eTopic 3\\u003c\\u002fb\\u003e\\u003cbr\\u003eWords: plastic, plastics, gun, meese, manufacturer\",\"\\u003cb\\u003eTopic 3\\u003c\\u002fb\\u003e\\u003cbr\\u003eWords: hate, crime, victim, illinois, gay\",\"\\u003cb\\u003eTopic 3\\u003c\\u002fb\\u003e\\u003cbr\\u003eWords: black, wing, bizarre, prominent, angeles\",\"\\u003cb\\u003eTopic 3\\u003c\\u002fb\\u003e\\u003cbr\\u003eWords: asahara, militia, truth, crime, taggant\",\"\\u003cb\\u003eTopic 3\\u003c\\u002fb\\u003e\\u003cbr\\u003eWords: viper, militia, hate, crime, schultz\",\"\\u003cb\\u003eTopic 3\\u003c\\u002fb\\u003e\\u003cbr\\u003eWords: sebunya, lipke, grade, kalex, dutch\",\"\\u003cb\\u003eTopic 3\\u003c\\u002fb\\u003e\\u003cbr\\u003eWords: gun, white, lynch, shoot, hate\",\"\\u003cb\\u003eTopic 3\\u003c\\u002fb\\u003e\\u003cbr\\u003eWords: eldridge, elgin, women, violence, synagogue\",\"\\u003cb\\u003eTopic 3\\u003c\\u002fb\\u003e\\u003cbr\\u003eWords: lynch, lincoln, klan, white, gun\",\"\\u003cb\\u003eTopic 3\\u003c\\u002fb\\u003e\\u003cbr\\u003eWords: id, bond, till, black, myth\",\"\\u003cb\\u003eTopic 3\\u003c\\u002fb\\u003e\\u003cbr\\u003eWords: hutaree, gun, shoot, enforce, hate\",\"\\u003cb\\u003eTopic 3\\u003c\\u002fb\\u003e\\u003cbr\\u003eWords: loughner, gun, shoot, white, hate\",\"\\u003cb\\u003eTopic 3\\u003c\\u002fb\\u003e\\u003cbr\\u003eWords: gun, shoot, gel, violence, domestic\",\"\\u003cb\\u003eTopic 3\\u003c\\u002fb\\u003e\\u003cbr\\u003eWords: gun, shoot, white, mass, violence\",\"\\u003cb\\u003eTopic 3\\u003c\\u002fb\\u003e\\u003cbr\\u003eWords: white, shoot, gun, trump, supremacist\",\"\\u003cb\\u003eTopic 3\\u003c\\u002fb\\u003e\\u003cbr\\u003eWords: white, shoot, domestic, supremacist, gun\"],\"marker\":{\"color\":\"#F0E442\"},\"mode\":\"lines\",\"name\":\"3_shoot_white_gun_domestic\",\"x\":[1979.96,1986.0,1988.0,1992.0,1994.0,1996.0,1998.0,2000.0,2002.0,2004.0,2006.0,2008.0,2010.0,2012.0,2014.0,2016.0,2018.0],\"y\":[2.858834197908324e-05,1.1443742561567335e-05,1.0935176275041553e-05,7.723200494284832e-06,5.0150451354062184e-05,4.927888564013272e-05,1.9006348120272173e-05,6.722689075630252e-05,1.152693460385768e-05,2.9108449767132402e-05,2.026441002196662e-05,2.3344123505976095e-05,8.668777325493744e-05,6.705796964246268e-05,0.00038490258115670925,0.0005806263073704934,0.0005731994142271793],\"type\":\"scatter\"},{\"hoverinfo\":\"text\",\"hovertext\":[\"\\u003cb\\u003eTopic 4\\u003c\\u002fb\\u003e\\u003cbr\\u003eWords: zia, pakistan, haq, heroin, ul\",\"\\u003cb\\u003eTopic 4\\u003c\\u002fb\\u003e\\u003cbr\\u003eWords: pakistan, yaqub, minister, cerezo, afghanistan\",\"\\u003cb\\u003eTopic 4\\u003c\\u002fb\\u003e\\u003cbr\\u003eWords: pakistan, afghanistan, pravda, zia, crash\",\"\\u003cb\\u003eTopic 4\\u003c\\u002fb\\u003e\\u003cbr\\u003eWords: pakistan, islamabad, kashmir, india, indian\",\"\\u003cb\\u003eTopic 4\\u003c\\u002fb\\u003e\\u003cbr\\u003eWords: pakistan, yousef, bhutto, babar, mqm\",\"\\u003cb\\u003eTopic 4\\u003c\\u002fb\\u003e\\u003cbr\\u003eWords: sharif, pakistan, laden, bin, sanction\",\"\\u003cb\\u003eTopic 4\\u003c\\u002fb\\u003e\\u003cbr\\u003eWords: pakistan, musharraf, taliban, kashmir, sharif\",\"\\u003cb\\u003eTopic 4\\u003c\\u002fb\\u003e\\u003cbr\\u003eWords: pakistan, india, kashmir, musharraf, afghanistan\",\"\\u003cb\\u003eTopic 4\\u003c\\u002fb\\u003e\\u003cbr\\u003eWords: pakistan, musharraf, afghanistan, taliban, border\",\"\\u003cb\\u003eTopic 4\\u003c\\u002fb\\u003e\\u003cbr\\u003eWords: pakistan, musharraf, india, kashmir, indian\",\"\\u003cb\\u003eTopic 4\\u003c\\u002fb\\u003e\\u003cbr\\u003eWords: pakistan, musharraf, india, afghanistan, militant\",\"\\u003cb\\u003eTopic 4\\u003c\\u002fb\\u003e\\u003cbr\\u003eWords: pakistan, india, taliban, militant, afghanistan\",\"\\u003cb\\u003eTopic 4\\u003c\\u002fb\\u003e\\u003cbr\\u003eWords: pakistan, india, afghanistan, islamabad, taliban\",\"\\u003cb\\u003eTopic 4\\u003c\\u002fb\\u003e\\u003cbr\\u003eWords: pakistan, sharif, taliban, militant, afghanistan\",\"\\u003cb\\u003eTopic 4\\u003c\\u002fb\\u003e\\u003cbr\\u003eWords: pakistan, india, taliban, khanzada, militant\",\"\\u003cb\\u003eTopic 4\\u003c\\u002fb\\u003e\\u003cbr\\u003eWords: pakistan, india, islamabad, afghanistan, kashmir\",\"\\u003cb\\u003eTopic 4\\u003c\\u002fb\\u003e\\u003cbr\\u003eWords: pakistan, kashmir, india, indian, modi\"],\"marker\":{\"color\":\"#D55E00\"},\"mode\":\"lines\",\"name\":\"4_pakistan_india_musharraf_afghanistan\",\"x\":[1979.96,1984.0,1986.0,1992.0,1994.0,1996.0,1998.0,2000.0,2002.0,2004.0,2006.0,2008.0,2010.0,2012.0,2014.0,2016.0,2018.0],\"y\":[1.905889465272216e-05,8.690211345939933e-06,1.1443742561567335e-05,2.3169601482854495e-05,3.3433634236041456e-05,1.6426295213377576e-05,0.00012670898746848115,7.983193277310924e-05,3.0738492276953816e-05,5.8216899534264804e-05,0.0002837017403075327,0.00030736429282868526,0.000135685210312076,0.000138060525734482,4.233928392723802e-05,0.0002307124400147656,9.245151842373859e-05],\"type\":\"scatter\"},{\"hoverinfo\":\"text\",\"hovertext\":[\"\\u003cb\\u003eTopic 5\\u003c\\u002fb\\u003e\\u003cbr\\u003eWords: tribunal, pullin, military, moussaoui, justice\",\"\\u003cb\\u003eTopic 5\\u003c\\u002fb\\u003e\\u003cbr\\u003eWords: guantanamo, detainee, interrogate, rita, di\",\"\\u003cb\\u003eTopic 5\\u003c\\u002fb\\u003e\\u003cbr\\u003eWords: detainee, torture, interrogate, guantanamo, prisoner\",\"\\u003cb\\u003eTopic 5\\u003c\\u002fb\\u003e\\u003cbr\\u003eWords: mukasey, detainee, guantanamo, interrogate, torture\",\"\\u003cb\\u003eTopic 5\\u003c\\u002fb\\u003e\\u003cbr\\u003eWords: detainee, guantanamo, obama, interrogate, prison\",\"\\u003cb\\u003eTopic 5\\u003c\\u002fb\\u003e\\u003cbr\\u003eWords: detainee, guantanamo, obama, interrogate, prison\",\"\\u003cb\\u003eTopic 5\\u003c\\u002fb\\u003e\\u003cbr\\u003eWords: detainee, guantanamo, holder, interrogate, torture\",\"\\u003cb\\u003eTopic 5\\u003c\\u002fb\\u003e\\u003cbr\\u003eWords: torture, detainee, passaro, guantanamo, prisoner\",\"\\u003cb\\u003eTopic 5\\u003c\\u002fb\\u003e\\u003cbr\\u003eWords: detainee, guantanamo, haspel, guant, namo\",\"\\u003cb\\u003eTopic 5\\u003c\\u002fb\\u003e\\u003cbr\\u003eWords: detainee, prisoner, guantanamo, impeach, turley\"],\"marker\":{\"color\":\"#0072B2\"},\"mode\":\"lines\",\"name\":\"5_detainee_guantanamo_interrogate_obama\",\"x\":[2000.0,2002.0,2004.0,2006.0,2008.0,2010.0,2012.0,2014.0,2016.0,2018.0],\"y\":[1.2605042016806723e-05,1.9211557673096134e-05,0.00017880904856952762,0.00015806239817133964,0.0003384897908366534,0.00015076134479119553,0.00013017135283536875,2.3094154869402553e-05,6.921373200442968e-05,2.9584485895596348e-05],\"type\":\"scatter\"},{\"hoverinfo\":\"text\",\"hovertext\":[\"\\u003cb\\u003eTopic 7\\u003c\\u002fb\\u003e\\u003cbr\\u003eWords: libya, qaddafi, colonel, reagan, oil\",\"\\u003cb\\u003eTopic 7\\u003c\\u002fb\\u003e\\u003cbr\\u003eWords: libya, qaddafi, malta, britain, colonel\",\"\\u003cb\\u003eTopic 7\\u003c\\u002fb\\u003e\\u003cbr\\u003eWords: libya, qaddafi, reagan, colonel, us\",\"\\u003cb\\u003eTopic 7\\u003c\\u002fb\\u003e\\u003cbr\\u003eWords: libya, qaddafi, chad, colonel, tripoli\",\"\\u003cb\\u003eTopic 7\\u003c\\u002fb\\u003e\\u003cbr\\u003eWords: libya, qaddafi, gadhafi, weapon, chemical\",\"\\u003cb\\u003eTopic 7\\u003c\\u002fb\\u003e\\u003cbr\\u003eWords: libya, qaddafi, pan, council, gadhafi\",\"\\u003cb\\u003eTopic 7\\u003c\\u002fb\\u003e\\u003cbr\\u003eWords: libya, gadhafi, qaddafi, sanction, teicher\",\"\\u003cb\\u003eTopic 7\\u003c\\u002fb\\u003e\\u003cbr\\u003eWords: farrakhan, libya, embargo, treasury, gadhafi\",\"\\u003cb\\u003eTopic 7\\u003c\\u002fb\\u003e\\u003cbr\\u003eWords: libya, herman, pipes, gadhafi, qaddafi\",\"\\u003cb\\u003eTopic 7\\u003c\\u002fb\\u003e\\u003cbr\\u003eWords: libya, qaddafi, tripoli, sanction, gadhafi\",\"\\u003cb\\u003eTopic 7\\u003c\\u002fb\\u003e\\u003cbr\\u003eWords: libya, kusa, pan, gadhafi, monetti\",\"\\u003cb\\u003eTopic 7\\u003c\\u002fb\\u003e\\u003cbr\\u003eWords: libya, gadhafi, sanction, lift, resolution\",\"\\u003cb\\u003eTopic 7\\u003c\\u002fb\\u003e\\u003cbr\\u003eWords: libya, gadhafi, qaddafi, tripoli, diplomatic\",\"\\u003cb\\u003eTopic 7\\u003c\\u002fb\\u003e\\u003cbr\\u003eWords: libya, qaddafi, gadhafi, tripoli, lockerbie\",\"\\u003cb\\u003eTopic 7\\u003c\\u002fb\\u003e\\u003cbr\\u003eWords: libya, megrahi, brown, scotland, lockerbie\",\"\\u003cb\\u003eTopic 7\\u003c\\u002fb\\u003e\\u003cbr\\u003eWords: libya, qaddafi, gadhafi, megrahi, colonel\",\"\\u003cb\\u003eTopic 7\\u003c\\u002fb\\u003e\\u003cbr\\u003eWords: libya, hifter, tripoli, gadhafi, militia\",\"\\u003cb\\u003eTopic 7\\u003c\\u002fb\\u003e\\u003cbr\\u003eWords: libya, oil, gazzini, isi, april\",\"\\u003cb\\u003eTopic 7\\u003c\\u002fb\\u003e\\u003cbr\\u003eWords: libya, abedi, kreindler, salman, manchester\",\"\\u003cb\\u003eTopic 7\\u003c\\u002fb\\u003e\\u003cbr\\u003eWords: libya, mas, ud, hifter, dornstein\"],\"marker\":{\"color\":\"#CC79A7\"},\"mode\":\"lines\",\"name\":\"7_libya_qaddafi_reagan_colonel\",\"x\":[1979.96,1982.0,1984.0,1986.0,1988.0,1990.0,1992.0,1994.0,1996.0,1998.0,2000.0,2002.0,2004.0,2006.0,2008.0,2010.0,2012.0,2014.0,2016.0,2018.0],\"y\":[0.00032400120909627673,0.0001240674265107277,0.0006865266963292547,0.00012588116817724068,8.748141020033243e-05,0.00031064412973960714,6.178560395427866e-05,8.358408559010364e-06,3.285259042675515e-05,5.068359498739245e-05,1.2605042016806723e-05,7.684623069238454e-06,4.1583499667332004e-05,6.079323006589986e-05,1.945343625498008e-05,4.899743705713855e-05,1.9722932247783142e-05,3.849025811567092e-06,1.153562200073828e-05,3.698060736949544e-05],\"type\":\"scatter\"},{\"hoverinfo\":\"text\",\"hovertext\":[\"\\u003cb\\u003eTopic 9\\u003c\\u002fb\\u003e\\u003cbr\\u003eWords: britain, yard, pertini, london, scotland\",\"\\u003cb\\u003eTopic 9\\u003c\\u002fb\\u003e\\u003cbr\\u003eWords: whitelaw, viscount, howe, britain, geoffrey\",\"\\u003cb\\u003eTopic 9\\u003c\\u002fb\\u003e\\u003cbr\\u003eWords: miasmic, remedial, theory, omnipresent, pall\",\"\\u003cb\\u003eTopic 9\\u003c\\u002fb\\u003e\\u003cbr\\u003eWords: britain, london, ira, bae, ireland\",\"\\u003cb\\u003eTopic 9\\u003c\\u002fb\\u003e\\u003cbr\\u003eWords: risk, business, control, foreign, russia\",\"\\u003cb\\u003eTopic 9\\u003c\\u002fb\\u003e\\u003cbr\\u003eWords: gutteridge, britain, london, bomb, ireland\",\"\\u003cb\\u003eTopic 9\\u003c\\u002fb\\u003e\\u003cbr\\u003eWords: blair, omagh, britain, ireland, northern\",\"\\u003cb\\u003eTopic 9\\u003c\\u002fb\\u003e\\u003cbr\\u003eWords: london, wellington, perry, pool, hiscox\",\"\\u003cb\\u003eTopic 9\\u003c\\u002fb\\u003e\\u003cbr\\u003eWords: blair, britain, london, tony, afghanistan\",\"\\u003cb\\u003eTopic 9\\u003c\\u002fb\\u003e\\u003cbr\\u003eWords: blair, britain, london, chirac, iraq\",\"\\u003cb\\u003eTopic 9\\u003c\\u002fb\\u003e\\u003cbr\\u003eWords: britain, blair, london, muslim, iraq\",\"\\u003cb\\u003eTopic 9\\u003c\\u002fb\\u003e\\u003cbr\\u003eWords: britain, brown, blair, london, mi\",\"\\u003cb\\u003eTopic 9\\u003c\\u002fb\\u003e\\u003cbr\\u003eWords: britain, manningham, bull, inquiry, london\",\"\\u003cb\\u003eTopic 9\\u003c\\u002fb\\u003e\\u003cbr\\u003eWords: britain, london, multicultural, olympic, blair\",\"\\u003cb\\u003eTopic 9\\u003c\\u002fb\\u003e\\u003cbr\\u003eWords: britain, cameron, london, begg, citizenship\",\"\\u003cb\\u003eTopic 9\\u003c\\u002fb\\u003e\\u003cbr\\u003eWords: britain, london, blair, eu, europe\",\"\\u003cb\\u003eTopic 9\\u003c\\u002fb\\u003e\\u003cbr\\u003eWords: britain, london, blair, choudary, manchester\",\"\\u003cb\\u003eTopic 9\\u003c\\u002fb\\u003e\\u003cbr\\u003eWords: britain, london, extinction, khan, rebellion\"],\"marker\":{\"color\":\"#E69F00\"},\"mode\":\"lines\",\"name\":\"9_britain_blair_london_brown\",\"x\":[1979.96,1982.0,1986.0,1990.0,1992.0,1994.0,1996.0,1998.0,2000.0,2002.0,2004.0,2006.0,2008.0,2010.0,2012.0,2014.0,2016.0,2018.0],\"y\":[9.52944732636108e-06,8.271161767381846e-06,1.1443742561567335e-05,3.654636820465966e-05,7.723200494284832e-06,3.3433634236041456e-05,3.285259042675515e-05,6.335449373424057e-06,2.100840336134454e-05,4.610773841543072e-05,0.00041583499667332,0.00014995663416255298,5.446962151394422e-05,3.769033619779888e-05,5.127962384423617e-05,5.00373355503722e-05,0.00012689184200812107,4.807478958034407e-05],\"type\":\"scatter\"},{\"hoverinfo\":\"text\",\"hovertext\":[\"\\u003cb\\u003eTopic 10\\u003c\\u002fb\\u003e\\u003cbr\\u003eWords: amato, holtzman, crime, funds, ahe\",\"\\u003cb\\u003eTopic 10\\u003c\\u002fb\\u003e\\u003cbr\\u003eWords: guidelines, bureau, rodino, compromise, infiltrate\",\"\\u003cb\\u003eTopic 10\\u003c\\u002fb\\u003e\\u003cbr\\u003eWords: fence, capitol, constituent, representative, senator\",\"\\u003cb\\u003eTopic 10\\u003c\\u002fb\\u003e\\u003cbr\\u003eWords: proposal, bill, control, democratic, senate\",\"\\u003cb\\u003eTopic 10\\u003c\\u002fb\\u003e\\u003cbr\\u003eWords: taggant, gunpowder, nra, legislation, explosive\",\"\\u003cb\\u003eTopic 10\\u003c\\u002fb\\u003e\\u003cbr\\u003eWords: bill, clinton, wiretap, senate, house\",\"\\u003cb\\u003eTopic 10\\u003c\\u002fb\\u003e\\u003cbr\\u003eWords: specter, subcommittee, committee, jewell, judiciary\",\"\\u003cb\\u003eTopic 10\\u003c\\u002fb\\u003e\\u003cbr\\u003eWords: reepe, clinton, gore, sex, dummy\",\"\\u003cb\\u003eTopic 10\\u003c\\u002fb\\u003e\\u003cbr\\u003eWords: bill, senate, house, legislation, wiretap\",\"\\u003cb\\u003eTopic 10\\u003c\\u002fb\\u003e\\u003cbr\\u003eWords: mail, postal, schwartz, bill, dreifuss\",\"\\u003cb\\u003eTopic 10\\u003c\\u002fb\\u003e\\u003cbr\\u003eWords: patriot, bill, senate, provisions, house\",\"\\u003cb\\u003eTopic 10\\u003c\\u002fb\\u003e\\u003cbr\\u003eWords: senate, immune, wiretap, bill, house\",\"\\u003cb\\u003eTopic 10\\u003c\\u002fb\\u003e\\u003cbr\\u003eWords: firearm, provisions, person, act, senate\",\"\\u003cb\\u003eTopic 10\\u003c\\u002fb\\u003e\\u003cbr\\u003eWords: senate, provisions, bill, wiretap, vote\",\"\\u003cb\\u003eTopic 10\\u003c\\u002fb\\u003e\\u003cbr\\u003eWords: act, provisions, bill, senate, compromise\",\"\\u003cb\\u003eTopic 10\\u003c\\u002fb\\u003e\\u003cbr\\u003eWords: bill, senate, fisa, surveillance, house\"],\"marker\":{\"color\":\"#56B4E9\"},\"mode\":\"lines\",\"name\":\"10_bill_senate_wiretap_house\",\"x\":[1979.96,1982.0,1984.0,1990.0,1992.0,1994.0,1996.0,1998.0,2000.0,2002.0,2004.0,2006.0,2008.0,2010.0,2014.0,2018.0],\"y\":[9.52944732636108e-06,8.271161767381846e-06,8.690211345939933e-06,9.136592051164915e-06,1.5446400988569664e-05,0.0012203276496155133,4.106573803344394e-05,6.335449373424057e-06,0.0001134453781512605,1.152693460385768e-05,7.48502994011976e-05,1.6211528017573296e-05,7.781374501992032e-06,3.015226895823911e-05,3.849025811567092e-06,3.328254663254589e-05],\"type\":\"scatter\"},{\"hoverinfo\":\"text\",\"hovertext\":[\"\\u003cb\\u003eTopic 12\\u003c\\u002fb\\u003e\\u003cbr\\u003eWords: thatch, dallas, tenant, lunceford, mr\",\"\\u003cb\\u003eTopic 12\\u003c\\u002fb\\u003e\\u003cbr\\u003eWords: hashemi, ayatollah, montazeri, trial, ajami\",\"\\u003cb\\u003eTopic 12\\u003c\\u002fb\\u003e\\u003cbr\\u003eWords: rahman, abdel, sheik, defendant, indict\",\"\\u003cb\\u003eTopic 12\\u003c\\u002fb\\u003e\\u003cbr\\u003eWords: rahman, abdel, salem, sheik, defendant\",\"\\u003cb\\u003eTopic 12\\u003c\\u002fb\\u003e\\u003cbr\\u003eWords: rashid, tayyib, laden, source, bin\",\"\\u003cb\\u003eTopic 12\\u003c\\u002fb\\u003e\\u003cbr\\u003eWords: mohame, laden, bin, sand, judge\",\"\\u003cb\\u003eTopic 12\\u003c\\u002fb\\u003e\\u003cbr\\u003eWords: trial, laden, motassadeq, bin, fadl\",\"\\u003cb\\u003eTopic 12\\u003c\\u002fb\\u003e\\u003cbr\\u003eWords: galab, vieque, alhajri, farahat, guidi\",\"\\u003cb\\u003eTopic 12\\u003c\\u002fb\\u003e\\u003cbr\\u003eWords: plot, miami, zazi, case, suspect\",\"\\u003cb\\u003eTopic 12\\u003c\\u002fb\\u003e\\u003cbr\\u003eWords: duka, shnewer, omar, dix, defendant\",\"\\u003cb\\u003eTopic 12\\u003c\\u002fb\\u003e\\u003cbr\\u003eWords: zazi, denver, york, plot, prosecutor\",\"\\u003cb\\u003eTopic 12\\u003c\\u002fb\\u003e\\u003cbr\\u003eWords: ferhani, zazi, mustafa, masri, mash\",\"\\u003cb\\u003eTopic 12\\u003c\\u002fb\\u003e\\u003cbr\\u003eWords: mustafa, dratel, shehadeh, bary, mr\",\"\\u003cb\\u003eTopic 12\\u003c\\u002fb\\u003e\\u003cbr\\u003eWords: abdulkader, ujaama, munir, sentence, prosecutor\",\"\\u003cb\\u003eTopic 12\\u003c\\u002fb\\u003e\\u003cbr\\u003eWords: rahman, faisal, abdel, weinstein, prosecutor\",\"\\u003cb\\u003eTopic 12\\u003c\\u002fb\\u003e\\u003cbr\\u003eWords: duffy, taheb, judge, trial, plot\"],\"marker\":{\"color\":\"#009E73\"},\"mode\":\"lines\",\"name\":\"12_zazi_rahman_abdel_plot\",\"x\":[1984.0,1986.0,1992.0,1994.0,1996.0,1998.0,2000.0,2002.0,2004.0,2006.0,2008.0,2010.0,2012.0,2014.0,2016.0,2018.0],\"y\":[8.690211345939933e-06,2.288748512313467e-05,0.00033209762125424775,0.00016716817118020728,2.463944282006636e-05,1.9006348120272173e-05,1.2605042016806723e-05,1.5369246138476908e-05,4.5741849634065205e-05,4.8634584052719886e-05,0.00020620642430278885,0.00012814714307251621,5.52242102937928e-05,1.539610324626837e-05,2.307124400147656e-05,2.218836442169726e-05],\"type\":\"scatter\"},{\"hoverinfo\":\"text\",\"hovertext\":[\"\\u003cb\\u003eTopic 16\\u003c\\u002fb\\u003e\\u003cbr\\u003eWords: assad, syria, moslem, brotherhood, haig\",\"\\u003cb\\u003eTopic 16\\u003c\\u002fb\\u003e\\u003cbr\\u003eWords: syria, marine, assad, gemayel, vice\",\"\\u003cb\\u003eTopic 16\\u003c\\u002fb\\u003e\\u003cbr\\u003eWords: syria, assad, hindawi, damascus, israel\",\"\\u003cb\\u003eTopic 16\\u003c\\u002fb\\u003e\\u003cbr\\u003eWords: syria, assad, resolution, damascus, assembly\",\"\\u003cb\\u003eTopic 16\\u003c\\u002fb\\u003e\\u003cbr\\u003eWords: syria, assad, damascus, jabril, baker\",\"\\u003cb\\u003eTopic 16\\u003c\\u002fb\\u003e\\u003cbr\\u003eWords: syria, assad, damascus, baker, israel\",\"\\u003cb\\u003eTopic 16\\u003c\\u002fb\\u003e\\u003cbr\\u003eWords: assad, syria, peace, clinton, christopher\",\"\\u003cb\\u003eTopic 16\\u003c\\u002fb\\u003e\\u003cbr\\u003eWords: syria, weinstein, hama, assad, suit\",\"\\u003cb\\u003eTopic 16\\u003c\\u002fb\\u003e\\u003cbr\\u003eWords: sharaa, syria, al, confirm, assad\",\"\\u003cb\\u003eTopic 16\\u003c\\u002fb\\u003e\\u003cbr\\u003eWords: syria, assad, damascus, iraq, bashar\",\"\\u003cb\\u003eTopic 16\\u003c\\u002fb\\u003e\\u003cbr\\u003eWords: syria, assad, bus, ambassador, bryza\",\"\\u003cb\\u003eTopic 16\\u003c\\u002fb\\u003e\\u003cbr\\u003eWords: syria, assad, damascus, opposition, regime\",\"\\u003cb\\u003eTopic 16\\u003c\\u002fb\\u003e\\u003cbr\\u003eWords: syria, assad, opposition, damascus, bashar\",\"\\u003cb\\u003eTopic 16\\u003c\\u002fb\\u003e\\u003cbr\\u003eWords: syria, assad, aleppo, rebel, russia\",\"\\u003cb\\u003eTopic 16\\u003c\\u002fb\\u003e\\u003cbr\\u003eWords: syria, assad, damascus, russia, forces\",\"\\u003cb\\u003eTopic 16\\u003c\\u002fb\\u003e\\u003cbr\\u003eWords: syria, assad, refugee, kurd, turkey\"],\"marker\":{\"color\":\"#F0E442\"},\"mode\":\"lines\",\"name\":\"16_syria_assad_damascus_aleppo\",\"x\":[1979.96,1982.0,1984.0,1986.0,1988.0,1990.0,1992.0,1998.0,2000.0,2002.0,2008.0,2010.0,2012.0,2014.0,2016.0,2018.0],\"y\":[1.905889465272216e-05,1.6542323534763693e-05,0.00017380422691879867,2.288748512313467e-05,0.0001421572915755402,4.568296025582458e-05,0.0002471424158171146,1.2670898746848113e-05,4.201680672268908e-06,3.4580803811573045e-05,1.1672061752988048e-05,0.0001319161766922961,8.28363154406892e-05,9.622564528917731e-05,0.00010766580534022394,1.109418221084863e-05],\"type\":\"scatter\"},{\"hoverinfo\":\"text\",\"hovertext\":[\"\\u003cb\\u003eTopic 23\\u003c\\u002fb\\u003e\\u003cbr\\u003eWords: polisario, morocco, oau, summit, mengistu\",\"\\u003cb\\u003eTopic 23\\u003c\\u002fb\\u003e\\u003cbr\\u003eWords: afl, liberia, harbel, ecomog, monrovia\",\"\\u003cb\\u003eTopic 23\\u003c\\u002fb\\u003e\\u003cbr\\u003eWords: lago, nigeria, alake, ijewere, building\",\"\\u003cb\\u003eTopic 23\\u003c\\u002fb\\u003e\\u003cbr\\u003eWords: nigeria, imagedata, election, adua, yar\",\"\\u003cb\\u003eTopic 23\\u003c\\u002fb\\u003e\\u003cbr\\u003eWords: nigeria, goodluck, rttnew, delegation, holl\",\"\\u003cb\\u003eTopic 23\\u003c\\u002fb\\u003e\\u003cbr\\u003eWords: nigeria, colloquium, boko, haram, achebe\",\"\\u003cb\\u003eTopic 23\\u003c\\u002fb\\u003e\\u003cbr\\u003eWords: nigeria, boko, haram, africa, girl\",\"\\u003cb\\u003eTopic 23\\u003c\\u002fb\\u003e\\u003cbr\\u003eWords: nigeria, boko, haram, buhari, conflict\",\"\\u003cb\\u003eTopic 23\\u003c\\u002fb\\u003e\\u003cbr\\u003eWords: nigeria, haram, boko, buhari, buratai\",\"\\u003cb\\u003eTopic 23\\u003c\\u002fb\\u003e\\u003cbr\\u003eWords: nigeria, haram, boko, buhari, thewill\"],\"marker\":{\"color\":\"#D55E00\"},\"mode\":\"lines\",\"name\":\"23_nigeria_haram_boko_buhari\",\"x\":[1982.0,1992.0,2002.0,2006.0,2008.0,2010.0,2012.0,2014.0,2016.0,2018.0],\"y\":[8.271161767381846e-06,7.723200494284832e-06,3.842311534619227e-06,4.052882004393324e-06,3.890687250996016e-06,1.5076134479119554e-05,5.916879674334943e-05,4.233928392723802e-05,0.00015765350067675649,0.00029214679821901396],\"type\":\"scatter\"},{\"hoverinfo\":\"text\",\"hovertext\":[\"\\u003cb\\u003eTopic 28\\u003c\\u002fb\\u003e\\u003cbr\\u003eWords: yousef, reward, rewards, mccurry, department\",\"\\u003cb\\u003eTopic 28\\u003c\\u002fb\\u003e\\u003cbr\\u003eWords: clarke, nsc, coordinate, clinton, blitz\",\"\\u003cb\\u003eTopic 28\\u003c\\u002fb\\u003e\\u003cbr\\u003eWords: clarke, dick, cyberwar, abramowitz, department\",\"\\u003cb\\u003eTopic 28\\u003c\\u002fb\\u003e\\u003cbr\\u003eWords: ridge, clarke, bush, clinton, house\",\"\\u003cb\\u003eTopic 28\\u003c\\u002fb\\u003e\\u003cbr\\u003eWords: clarke, bush, rice, administration, clinton\",\"\\u003cb\\u003eTopic 28\\u003c\\u002fb\\u003e\\u003cbr\\u003eWords: clarke, clinton, bush, administration, chertoff\",\"\\u003cb\\u003eTopic 28\\u003c\\u002fb\\u003e\\u003cbr\\u003eWords: townsend, clarke, chertoff, bush, myers\",\"\\u003cb\\u003eTopic 28\\u003c\\u002fb\\u003e\\u003cbr\\u003eWords: wilson, valerie, clapper, plame, clarke\",\"\\u003cb\\u003eTopic 28\\u003c\\u002fb\\u003e\\u003cbr\\u003eWords: thompson, ridge, parri, rooney, clarke\",\"\\u003cb\\u003eTopic 28\\u003c\\u002fb\\u003e\\u003cbr\\u003eWords: fsi, clinton, kourounioti, stanford, ogwuegbu\",\"\\u003cb\\u003eTopic 28\\u003c\\u002fb\\u003e\\u003cbr\\u003eWords: gorka, mcmaster, clarke, baer, bannon\"],\"marker\":{\"color\":\"#0072B2\"},\"mode\":\"lines\",\"name\":\"28_clarke_bush_ridge_rice\",\"x\":[1992.0,1996.0,1998.0,2000.0,2002.0,2004.0,2006.0,2008.0,2010.0,2014.0,2016.0],\"y\":[7.723200494284832e-06,1.6426295213377576e-05,6.335449373424057e-06,9.663865546218487e-05,0.0002574348728194882,7.48502994011976e-05,4.052882004393324e-05,1.1672061752988048e-05,1.1307100859339666e-05,7.698051623134185e-06,3.0761658668635414e-05],\"type\":\"scatter\"},{\"hoverinfo\":\"text\",\"hovertext\":[\"\\u003cb\\u003eTopic 30\\u003c\\u002fb\\u003e\\u003cbr\\u003eWords: ireland, northern, ira, britain, protestant\",\"\\u003cb\\u003eTopic 30\\u003c\\u002fb\\u003e\\u003cbr\\u003eWords: ireland, northern, ira, britain, ulster\",\"\\u003cb\\u003eTopic 30\\u003c\\u002fb\\u003e\\u003cbr\\u003eWords: ireland, ira, tyrie, northern, archbishop\",\"\\u003cb\\u003eTopic 30\\u003c\\u002fb\\u003e\\u003cbr\\u003eWords: ira, ireland, northern, britain, sinn\",\"\\u003cb\\u003eTopic 30\\u003c\\u002fb\\u003e\\u003cbr\\u003eWords: ireland, northern, ira, ulster, aoh\",\"\\u003cb\\u003eTopic 30\\u003c\\u002fb\\u003e\\u003cbr\\u003eWords: ireland, ira, northern, britain, protestant\",\"\\u003cb\\u003eTopic 30\\u003c\\u002fb\\u003e\\u003cbr\\u003eWords: ireland, ira, northern, adams, protestant\",\"\\u003cb\\u003eTopic 30\\u003c\\u002fb\\u003e\\u003cbr\\u003eWords: ireland, ira, northern, sinn, fein\",\"\\u003cb\\u003eTopic 30\\u003c\\u002fb\\u003e\\u003cbr\\u003eWords: ireland, ira, northern, protestant, ahern\",\"\\u003cb\\u003eTopic 30\\u003c\\u002fb\\u003e\\u003cbr\\u003eWords: ireland, ira, northern, dissident, protestant\",\"\\u003cb\\u003eTopic 30\\u003c\\u002fb\\u003e\\u003cbr\\u003eWords: ireland, northern, ira, protestant, belfast\",\"\\u003cb\\u003eTopic 30\\u003c\\u002fb\\u003e\\u003cbr\\u003eWords: mckevitt, ira, ireland, omagh, rupert\",\"\\u003cb\\u003eTopic 30\\u003c\\u002fb\\u003e\\u003cbr\\u003eWords: ireland, ira, northern, sinn, fein\",\"\\u003cb\\u003eTopic 30\\u003c\\u002fb\\u003e\\u003cbr\\u003eWords: ireland, northern, ira, belfast, leavey\",\"\\u003cb\\u003eTopic 30\\u003c\\u002fb\\u003e\\u003cbr\\u003eWords: ireland, ira, northern, king, britain\",\"\\u003cb\\u003eTopic 30\\u003c\\u002fb\\u003e\\u003cbr\\u003eWords: ireland, belfast, ira, northern, mabel\",\"\\u003cb\\u003eTopic 30\\u003c\\u002fb\\u003e\\u003cbr\\u003eWords: mason, ireland, sasnett, chun, identity\",\"\\u003cb\\u003eTopic 30\\u003c\\u002fb\\u003e\\u003cbr\\u003eWords: catholic, ireland, unionist, nationalist, britain\",\"\\u003cb\\u003eTopic 30\\u003c\\u002fb\\u003e\\u003cbr\\u003eWords: mckee, ireland, ira, northern, lyra\"],\"marker\":{\"color\":\"#CC79A7\"},\"mode\":\"lines\",\"name\":\"30_ireland_ira_northern_britain\",\"x\":[1979.96,1982.0,1984.0,1986.0,1988.0,1990.0,1992.0,1994.0,1996.0,1998.0,2000.0,2002.0,2004.0,2008.0,2010.0,2012.0,2014.0,2016.0,2018.0],\"y\":[0.0002668245251381102,0.00014888091181287322,4.345105672969967e-05,5.7218712807836675e-05,5.467588137520777e-05,5.4819552306989495e-05,0.00016991041087426628,5.0150451354062184e-05,4.106573803344394e-05,1.2670898746848113e-05,1.2605042016806723e-05,3.842311534619227e-06,3.32667997338656e-05,7.781374501992032e-06,7.538067239559777e-06,1.9722932247783142e-05,3.849025811567092e-06,3.845207333579427e-06,1.4792242947798174e-05],\"type\":\"scatter\"},{\"hoverinfo\":\"text\",\"hovertext\":[\"\\u003cb\\u003eTopic 41\\u003c\\u002fb\\u003e\\u003cbr\\u003eWords: soviet, reagan, haig, intelligence, administration\",\"\\u003cb\\u003eTopic 41\\u003c\\u002fb\\u003e\\u003cbr\\u003eWords: reagan, soviet, lebanon, administration, official\",\"\\u003cb\\u003eTopic 41\\u003c\\u002fb\\u003e\\u003cbr\\u003eWords: reagan, soviet, administration, mr, shultz\",\"\\u003cb\\u003eTopic 41\\u003c\\u002fb\\u003e\\u003cbr\\u003eWords: ledeen, reagan, soviet, mr, israel\",\"\\u003cb\\u003eTopic 41\\u003c\\u002fb\\u003e\\u003cbr\\u003eWords: yuni, reagan, extradite, bureau, investigate\",\"\\u003cb\\u003eTopic 41\\u003c\\u002fb\\u003e\\u003cbr\\u003eWords: reagan, turner, rashid, casey, emerson\",\"\\u003cb\\u003eTopic 41\\u003c\\u002fb\\u003e\\u003cbr\\u003eWords: reagan, memo, ronald, papers, cruise\",\"\\u003cb\\u003eTopic 41\\u003c\\u002fb\\u003e\\u003cbr\\u003eWords: environmental, reagan, efficiency, clean, automaker\",\"\\u003cb\\u003eTopic 41\\u003c\\u002fb\\u003e\\u003cbr\\u003eWords: reagan, treaty, overreaction, overreact, nuclear\",\"\\u003cb\\u003eTopic 41\\u003c\\u002fb\\u003e\\u003cbr\\u003eWords: reagan, credit, party, unseemly, flunk\",\"\\u003cb\\u003eTopic 41\\u003c\\u002fb\\u003e\\u003cbr\\u003eWords: reagan, history, trump, trip, speech\",\"\\u003cb\\u003eTopic 41\\u003c\\u002fb\\u003e\\u003cbr\\u003eWords: reagan, endless, carter, hostage, donatelli\"],\"marker\":{\"color\":\"#E69F00\"},\"mode\":\"lines\",\"name\":\"41_reagan_soviet_administration_haig\",\"x\":[1979.96,1982.0,1984.0,1986.0,1988.0,1990.0,2000.0,2002.0,2008.0,2010.0,2016.0,2018.0],\"y\":[0.00022870673583266592,0.00019023672064978246,0.00026939655172413793,8.010619793097134e-05,2.1870352550083107e-05,3.654636820465966e-05,8.403361344537815e-06,3.842311534619227e-06,7.781374501992032e-06,3.7690336197798886e-06,7.690414667158853e-06,7.396121473899087e-06],\"type\":\"scatter\"},{\"hoverinfo\":\"text\",\"hovertext\":[\"\\u003cb\\u003eTopic 42\\u003c\\u002fb\\u003e\\u003cbr\\u003eWords: scowcroft, chemical, proposal, ashcroft, weapon\",\"\\u003cb\\u003eTopic 42\\u003c\\u002fb\\u003e\\u003cbr\\u003eWords: ashcroft, fbi, attorney, justice, general\",\"\\u003cb\\u003eTopic 42\\u003c\\u002fb\\u003e\\u003cbr\\u003eWords: ashcroft, fbi, general, attorney, justice\",\"\\u003cb\\u003eTopic 42\\u003c\\u002fb\\u003e\\u003cbr\\u003eWords: ashcroft, gonzale, patriot, attorney, general\",\"\\u003cb\\u003eTopic 42\\u003c\\u002fb\\u003e\\u003cbr\\u003eWords: ashcroft, waterboard, gonzale, approve, mueller\",\"\\u003cb\\u003eTopic 42\\u003c\\u002fb\\u003e\\u003cbr\\u003eWords: ashcroft, kidd, witness, ridge, material\",\"\\u003cb\\u003eTopic 42\\u003c\\u002fb\\u003e\\u003cbr\\u003eWords: kidd, ashcroft, witness, material, hussayen\"],\"marker\":{\"color\":\"#56B4E9\"},\"mode\":\"lines\",\"name\":\"42_ashcroft_kidd_fbi_attorney\",\"x\":[1988.0,2000.0,2002.0,2004.0,2006.0,2008.0,2010.0],\"y\":[1.0935176275041553e-05,0.00020168067226890757,0.00014985014985014985,2.0791749833666002e-05,4.052882004393324e-06,7.781374501992032e-06,1.884516809889944e-05],\"type\":\"scatter\"},{\"hoverinfo\":\"text\",\"hovertext\":[\"\\u003cb\\u003eTopic 44\\u003c\\u002fb\\u003e\\u003cbr\\u003eWords: italy, brigade, red, rome, moro\",\"\\u003cb\\u003eTopic 44\\u003c\\u002fb\\u003e\\u003cbr\\u003eWords: italy, brigade, red, dozy, rome\",\"\\u003cb\\u003eTopic 44\\u003c\\u002fb\\u003e\\u003cbr\\u003eWords: italy, brigade, red, rome, eco\",\"\\u003cb\\u003eTopic 44\\u003c\\u002fb\\u003e\\u003cbr\\u003eWords: italy, brigade, red, moro, priore\",\"\\u003cb\\u003eTopic 44\\u003c\\u002fb\\u003e\\u003cbr\\u003eWords: italy, ustica, bologna, cossiga, occhetto\",\"\\u003cb\\u003eTopic 44\\u003c\\u002fb\\u003e\\u003cbr\\u003eWords: curcio, italy, brigade, falcone, mafia\",\"\\u003cb\\u003eTopic 44\\u003c\\u002fb\\u003e\\u003cbr\\u003eWords: italy, mafia, florence, spadolini, rome\",\"\\u003cb\\u003eTopic 44\\u003c\\u002fb\\u003e\\u003cbr\\u003eWords: italy, brigade, red, antona, berlusconi\",\"\\u003cb\\u003eTopic 44\\u003c\\u002fb\\u003e\\u003cbr\\u003eWords: sembler, italy, negri, brigade, berlusconi\",\"\\u003cb\\u003eTopic 44\\u003c\\u002fb\\u003e\\u003cbr\\u003eWords: italy, milan, chiara, brigade, moro\",\"\\u003cb\\u003eTopic 44\\u003c\\u002fb\\u003e\\u003cbr\\u003eWords: italy, nasr, milan, pollari, brigade\",\"\\u003cb\\u003eTopic 44\\u003c\\u002fb\\u003e\\u003cbr\\u003eWords: italy, anarchist, rome, embassy, switzerland\",\"\\u003cb\\u003eTopic 44\\u003c\\u002fb\\u003e\\u003cbr\\u003eWords: italy, brindisi, school, mafia, rome\",\"\\u003cb\\u003eTopic 44\\u003c\\u002fb\\u003e\\u003cbr\\u003eWords: italy, panama, milan, tyrol, germany\",\"\\u003cb\\u003eTopic 44\\u003c\\u002fb\\u003e\\u003cbr\\u003eWords: renzi, italy, europe, matteo, investment\",\"\\u003cb\\u003eTopic 44\\u003c\\u002fb\\u003e\\u003cbr\\u003eWords: italy, ding, catania, riley, migrant\"],\"marker\":{\"color\":\"#009E73\"},\"mode\":\"lines\",\"name\":\"44_italy_brigade_red_rome\",\"x\":[1979.96,1982.0,1984.0,1986.0,1988.0,1990.0,1992.0,2000.0,2002.0,2004.0,2006.0,2008.0,2010.0,2012.0,2014.0,2016.0],\"y\":[0.00036211899840172103,3.3084647069527385e-05,6.083147942157953e-05,3.4331227684702005e-05,1.0935176275041553e-05,1.827318410232983e-05,4.633920296570899e-05,4.201680672268908e-06,7.684623069238454e-06,3.74251497005988e-05,2.026441002196662e-05,3.112549800796813e-05,1.884516809889944e-05,1.1833759348669886e-05,3.849025811567092e-06,7.690414667158853e-06],\"type\":\"scatter\"},{\"hoverinfo\":\"text\",\"hovertext\":[\"\\u003cb\\u003eTopic 45\\u003c\\u002fb\\u003e\\u003cbr\\u003eWords: hostage, iran, honsowitz, kidnap, us\",\"\\u003cb\\u003eTopic 45\\u003c\\u002fb\\u003e\\u003cbr\\u003eWords: embassy, marine, hostage, beirut, haig\",\"\\u003cb\\u003eTopic 45\\u003c\\u002fb\\u003e\\u003cbr\\u003eWords: hostage, lebanon, hijack, iran, us\",\"\\u003cb\\u003eTopic 45\\u003c\\u002fb\\u003e\\u003cbr\\u003eWords: hostage, hamadei, iran, lebanon, germany\",\"\\u003cb\\u003eTopic 45\\u003c\\u002fb\\u003e\\u003cbr\\u003eWords: hostage, obeid, higgin, kidnap, iran\",\"\\u003cb\\u003eTopic 45\\u003c\\u002fb\\u003e\\u003cbr\\u003eWords: hostage, iran, lebanon, turner, kidnap\",\"\\u003cb\\u003eTopic 45\\u003c\\u002fb\\u003e\\u003cbr\\u003eWords: eslam, ol, hostage, iran, katzman\",\"\\u003cb\\u003eTopic 45\\u003c\\u002fb\\u003e\\u003cbr\\u003eWords: hostage, israel, bargain, kidnap, lebanon\",\"\\u003cb\\u003eTopic 45\\u003c\\u002fb\\u003e\\u003cbr\\u003eWords: hostage, lainie, philippine, sayyaf, drama\",\"\\u003cb\\u003eTopic 45\\u003c\\u002fb\\u003e\\u003cbr\\u003eWords: hostage, siege, peru, mrta, operation\",\"\\u003cb\\u003eTopic 45\\u003c\\u002fb\\u003e\\u003cbr\\u003eWords: hostage, iran, laingen, needham, kirtley\",\"\\u003cb\\u003eTopic 45\\u003c\\u002fb\\u003e\\u003cbr\\u003eWords: hostage, sailor, iran, coincidence, pelosi\",\"\\u003cb\\u003eTopic 45\\u003c\\u002fb\\u003e\\u003cbr\\u003eWords: hostage, iran, roeder, compensate, captivity\",\"\\u003cb\\u003eTopic 45\\u003c\\u002fb\\u003e\\u003cbr\\u003eWords: hostage, kidnap, concession, iran, aq\",\"\\u003cb\\u003eTopic 45\\u003c\\u002fb\\u003e\\u003cbr\\u003eWords: hostage, walton, restitution, niger, rescue\"],\"marker\":{\"color\":\"#F0E442\"},\"mode\":\"lines\",\"name\":\"45_hostage_iran_lebanon_kidnap\",\"x\":[1979.96,1982.0,1984.0,1986.0,1988.0,1990.0,1992.0,1996.0,1998.0,2000.0,2002.0,2006.0,2012.0,2014.0,2018.0],\"y\":[5.717668395816648e-05,8.271161767381846e-06,0.0002085650723025584,0.00020598736610821203,0.0001858979966757064,0.00013704888076747373,7.723200494284832e-06,8.213147606688788e-06,1.2670898746848113e-05,4.201680672268908e-06,1.152693460385768e-05,4.052882004393324e-06,3.944586449556628e-06,7.698051623134185e-06,7.396121473899087e-06],\"type\":\"scatter\"},{\"hoverinfo\":\"text\",\"hovertext\":[\"\\u003cb\\u003eTopic 56\\u003c\\u002fb\\u003e\\u003cbr\\u003eWords: clinton, tomahawk, saddam, bomb, missile\",\"\\u003cb\\u003eTopic 56\\u003c\\u002fb\\u003e\\u003cbr\\u003eWords: clinton, summit, iran, chirac, economic\",\"\\u003cb\\u003eTopic 56\\u003c\\u002fb\\u003e\\u003cbr\\u003eWords: clinton, computer, president, strike, laden\",\"\\u003cb\\u003eTopic 56\\u003c\\u002fb\\u003e\\u003cbr\\u003eWords: clinton, computer, chemical, biological, germ\",\"\\u003cb\\u003eTopic 56\\u003c\\u002fb\\u003e\\u003cbr\\u003eWords: sheik, omar, chirac, clinton, nuclear\"],\"marker\":{\"color\":\"#D55E00\"},\"mode\":\"lines\",\"name\":\"56_clinton_computer_president_chemical\",\"x\":[1992.0,1994.0,1996.0,1998.0,2004.0],\"y\":[4.633920296570899e-05,0.00025075225677031093,0.00022175498538059727,0.0001013671899747849,8.3166999334664e-06],\"type\":\"scatter\"},{\"hoverinfo\":\"text\",\"hovertext\":[\"\\u003cb\\u003eTopic 61\\u003c\\u002fb\\u003e\\u003cbr\\u003eWords: dole, clinton, porch, savoia, trump\",\"\\u003cb\\u003eTopic 61\\u003c\\u002fb\\u003e\\u003cbr\\u003eWords: trump, clinton, candidate, cruz, republican\",\"\\u003cb\\u003eTopic 61\\u003c\\u002fb\\u003e\\u003cbr\\u003eWords: trump, pershing, pig, historian, muslim\",\"\\u003cb\\u003eTopic 61\\u003c\\u002fb\\u003e\\u003cbr\\u003eWords: trump, harris, lgbtq, republican, presidential\"],\"marker\":{\"color\":\"#0072B2\"},\"mode\":\"lines\",\"name\":\"61_trump_clinton_cruz_candidate\",\"x\":[1994.0,2014.0,2016.0,2018.0],\"y\":[8.358408559010364e-06,0.000250186677751861,1.5380829334317707e-05,7.396121473899087e-06],\"type\":\"scatter\"},{\"hoverinfo\":\"text\",\"hovertext\":[\"\\u003cb\\u003eTopic 63\\u003c\\u002fb\\u003e\\u003cbr\\u003eWords: salvador, chile, salvadoran, el, costa\",\"\\u003cb\\u003eTopic 63\\u003c\\u002fb\\u003e\\u003cbr\\u003eWords: salvador, salvadoran, chile, el, pinochet\",\"\\u003cb\\u003eTopic 63\\u003c\\u002fb\\u003e\\u003cbr\\u003eWords: duarte, salvador, salvadorean, chile, el\",\"\\u003cb\\u003eTopic 63\\u003c\\u002fb\\u003e\\u003cbr\\u003eWords: chile, chelala, vicaria, hippocratic, gomez\",\"\\u003cb\\u003eTopic 63\\u003c\\u002fb\\u003e\\u003cbr\\u003eWords: chile, salvador, risk, salvadoran, grape\",\"\\u003cb\\u003eTopic 63\\u003c\\u002fb\\u003e\\u003cbr\\u003eWords: chile, pinochet, aylwin, salvador, guzman\",\"\\u003cb\\u003eTopic 63\\u003c\\u002fb\\u003e\\u003cbr\\u003eWords: menem, antonietti, jaunarena, secretariat, argentina\",\"\\u003cb\\u003eTopic 63\\u003c\\u002fb\\u003e\\u003cbr\\u003eWords: chile, mapuche, pinochet, garzon, spain\",\"\\u003cb\\u003eTopic 63\\u003c\\u002fb\\u003e\\u003cbr\\u003eWords: suchitoto, salvador, salvadoran, saca, el\",\"\\u003cb\\u003eTopic 63\\u003c\\u002fb\\u003e\\u003cbr\\u003eWords: chile, bg, khan, ips, salvador\",\"\\u003cb\\u003eTopic 63\\u003c\\u002fb\\u003e\\u003cbr\\u003eWords: mapuche, chile, luchsinger, catrileo, pinera\",\"\\u003cb\\u003eTopic 63\\u003c\\u002fb\\u003e\\u003cbr\\u003eWords: mapuche, chile, araucania, bachelet, indigenous\"],\"marker\":{\"color\":\"#CC79A7\"},\"mode\":\"lines\",\"name\":\"63_chile_salvador_salvadoran_pinochet\",\"x\":[1979.96,1982.0,1984.0,1986.0,1988.0,1990.0,1992.0,2002.0,2006.0,2008.0,2012.0,2016.0],\"y\":[0.00024776563048538807,0.00016542323534763693,3.476084538375973e-05,1.1443742561567335e-05,3.280552882512466e-05,3.654636820465966e-05,7.723200494284832e-06,7.684623069238454e-06,1.2158646013179972e-05,1.1672061752988048e-05,3.944586449556628e-06,3.845207333579427e-06],\"type\":\"scatter\"},{\"hoverinfo\":\"text\",\"hovertext\":[\"\\u003cb\\u003eTopic 86\\u003c\\u002fb\\u003e\\u003cbr\\u003eWords: tsarnaev, tamerlan, boston, brother, russia\",\"\\u003cb\\u003eTopic 86\\u003c\\u002fb\\u003e\\u003cbr\\u003eWords: ciccolo, boston, tsarnaev, macinne, marathon\",\"\\u003cb\\u003eTopic 86\\u003c\\u002fb\\u003e\\u003cbr\\u003eWords: tsarnaev, tamerlan, boston, brother, dzhokhar\"],\"marker\":{\"color\":\"#E69F00\"},\"mode\":\"lines\",\"name\":\"86_tsarnaev_tamerlan_boston_brother\",\"x\":[2012.0,2016.0,2018.0],\"y\":[0.00020117390892738805,3.845207333579427e-06,3.6980607369495435e-06],\"type\":\"scatter\"},{\"hoverinfo\":\"text\",\"hovertext\":[\"\\u003cb\\u003eTopic 90\\u003c\\u002fb\\u003e\\u003cbr\\u003eWords: marine, lebanon, beirut, commander, commission\",\"\\u003cb\\u003eTopic 90\\u003c\\u002fb\\u003e\\u003cbr\\u003eWords: lebanon, suicide, marine, beirut, shiite\",\"\\u003cb\\u003eTopic 90\\u003c\\u002fb\\u003e\\u003cbr\\u003eWords: hezbollah, lebanon, beirut, mau, shiite\",\"\\u003cb\\u003eTopic 90\\u003c\\u002fb\\u003e\\u003cbr\\u003eWords: canada, hezbollah, husseini, lebanon, sayegh\",\"\\u003cb\\u003eTopic 90\\u003c\\u002fb\\u003e\\u003cbr\\u003eWords: shelton, lebanon, concord, rifles, handwriting\",\"\\u003cb\\u003eTopic 90\\u003c\\u002fb\\u003e\\u003cbr\\u003eWords: hezbollah, beirut, lebanon, marine, mugniyah\",\"\\u003cb\\u003eTopic 90\\u003c\\u002fb\\u003e\\u003cbr\\u003eWords: rash, lebanon, hezbollah, beirut, marine\",\"\\u003cb\\u003eTopic 90\\u003c\\u002fb\\u003e\\u003cbr\\u003eWords: hezbollah, lebanon, nasrallah, marine, beirut\",\"\\u003cb\\u003eTopic 90\\u003c\\u002fb\\u003e\\u003cbr\\u003eWords: lebanon, eid, beirut, marine, fatah\",\"\\u003cb\\u003eTopic 90\\u003c\\u002fb\\u003e\\u003cbr\\u003eWords: asgari, bird, lebanon, iran, hezbollah\",\"\\u003cb\\u003eTopic 90\\u003c\\u002fb\\u003e\\u003cbr\\u003eWords: forum, cyberattack, climate, risk, global\",\"\\u003cb\\u003eTopic 90\\u003c\\u002fb\\u003e\\u003cbr\\u003eWords: ammonium, nitrate, mossad, hezbollah, atri\"],\"marker\":{\"color\":\"#56B4E9\"},\"mode\":\"lines\",\"name\":\"90_lebanon_marine_beirut_commander\",\"x\":[1982.0,1984.0,1992.0,1996.0,1998.0,2000.0,2002.0,2004.0,2006.0,2012.0,2016.0,2018.0],\"y\":[0.0002315925294866917,3.476084538375973e-05,7.723200494284832e-06,1.6426295213377576e-05,6.335449373424057e-06,8.403361344537815e-06,7.684623069238454e-06,1.24750499001996e-05,1.6211528017573296e-05,7.889172899113257e-06,3.845207333579427e-06,3.6980607369495435e-06],\"type\":\"scatter\"},{\"hoverinfo\":\"text\",\"hovertext\":[\"\\u003cb\\u003eTopic 92\\u003c\\u002fb\\u003e\\u003cbr\\u003eWords: embassy, kenya, tanzania, africa, bomb\",\"\\u003cb\\u003eTopic 92\\u003c\\u002fb\\u003e\\u003cbr\\u003eWords: korea, embassy, kenya, tanzania, sponsor\",\"\\u003cb\\u003eTopic 92\\u003c\\u002fb\\u003e\\u003cbr\\u003eWords: africa, embassy, kenya, diamond, nairobi\",\"\\u003cb\\u003eTopic 92\\u003c\\u002fb\\u003e\\u003cbr\\u003eWords: rosemary, passport, patt, shilling, mcdonough\",\"\\u003cb\\u003eTopic 92\\u003c\\u002fb\\u003e\\u003cbr\\u003eWords: list, korea, designate, cuba, venezuela\",\"\\u003cb\\u003eTopic 92\\u003c\\u002fb\\u003e\\u003cbr\\u003eWords: africa, kenya, africom, jalloh, laden\",\"\\u003cb\\u003eTopic 92\\u003c\\u002fb\\u003e\\u003cbr\\u003eWords: kenya, nairobi, africa, aqmi, embassy\",\"\\u003cb\\u003eTopic 92\\u003c\\u002fb\\u003e\\u003cbr\\u003eWords: russia, travel, level, reality, advisory\",\"\\u003cb\\u003eTopic 92\\u003c\\u002fb\\u003e\\u003cbr\\u003eWords: cyclone, monday, bolivia, icbm, migrant\"],\"marker\":{\"color\":\"#009E73\"},\"mode\":\"lines\",\"name\":\"92_embassy_kenya_tanzania_africa\",\"x\":[1996.0,1998.0,2000.0,2002.0,2006.0,2010.0,2012.0,2016.0,2018.0],\"y\":[0.00019711554256053089,6.335449373424058e-05,2.9411764705882354e-05,7.684623069238454e-06,4.052882004393324e-06,3.7690336197798886e-06,3.944586449556628e-06,3.845207333579427e-06,7.396121473899087e-06],\"type\":\"scatter\"},{\"hoverinfo\":\"text\",\"hovertext\":[\"\\u003cb\\u003eTopic 93\\u003c\\u002fb\\u003e\\u003cbr\\u003eWords: boston, turner, marketing, device, broadcasting\",\"\\u003cb\\u003eTopic 93\\u003c\\u002fb\\u003e\\u003cbr\\u003eWords: boston, marathon, runner, krause, finish\",\"\\u003cb\\u003eTopic 93\\u003c\\u002fb\\u003e\\u003cbr\\u003eWords: boston, bomber, marathon, stubben, penalty\",\"\\u003cb\\u003eTopic 93\\u003c\\u002fb\\u003e\\u003cbr\\u003eWords: bauman, boston, marathon, gyllenhaal, film\",\"\\u003cb\\u003eTopic 93\\u003c\\u002fb\\u003e\\u003cbr\\u003eWords: boston, wray, marathon, pose, domestic\"],\"marker\":{\"color\":\"#F0E442\"},\"mode\":\"lines\",\"name\":\"93_boston_marathon_runner_krause\",\"x\":[2006.0,2012.0,2014.0,2016.0,2018.0],\"y\":[1.2158646013179972e-05,0.0001656726308813784,3.849025811567092e-06,7.690414667158853e-06,3.6980607369495435e-06],\"type\":\"scatter\"},{\"hoverinfo\":\"text\",\"hovertext\":[\"\\u003cb\\u003eTopic 97\\u003c\\u002fb\\u003e\\u003cbr\\u003eWords: ryan, penalty, illinois, governor, death\",\"\\u003cb\\u003eTopic 97\\u003c\\u002fb\\u003e\\u003cbr\\u003eWords: illinois, ryan, grady, penalty, library\",\"\\u003cb\\u003eTopic 97\\u003c\\u002fb\\u003e\\u003cbr\\u003eWords: veteran, terek, illinois, ryan, eligible\",\"\\u003cb\\u003eTopic 97\\u003c\\u002fb\\u003e\\u003cbr\\u003eWords: penalty, punishment, death, connecticut, ryan\",\"\\u003cb\\u003eTopic 97\\u003c\\u002fb\\u003e\\u003cbr\\u003eWords: illinois, cadigan, lang, ryan, skokie\"],\"marker\":{\"color\":\"#D55E00\"},\"mode\":\"lines\",\"name\":\"97_ryan_penalty_illinois_governor\",\"x\":[2000.0,2004.0,2008.0,2010.0,2016.0],\"y\":[0.00015966386554621849,8.3166999334664e-06,3.890687250996016e-06,3.7690336197798886e-06,7.690414667158853e-06],\"type\":\"scatter\"},{\"hoverinfo\":\"text\",\"hovertext\":[\"\\u003cb\\u003eTopic 98\\u003c\\u002fb\\u003e\\u003cbr\\u003eWords: kingsville, aransa, helicopter, cavazo, fanto\",\"\\u003cb\\u003eTopic 98\\u003c\\u002fb\\u003e\\u003cbr\\u003eWords: dive, scuba, hurin, instructor, kolko\",\"\\u003cb\\u003eTopic 98\\u003c\\u002fb\\u003e\\u003cbr\\u003eWords: pensacola, shoot, saudi, naval, alshamrani\"],\"marker\":{\"color\":\"#0072B2\"},\"mode\":\"lines\",\"name\":\"98_pensacola_shoot_saudi_naval\",\"x\":[1998.0,2006.0,2018.0],\"y\":[6.335449373424057e-06,4.052882004393324e-06,0.00015531855095188084],\"type\":\"scatter\"},{\"hoverinfo\":\"text\",\"hovertext\":[\"\\u003cb\\u003eTopic 107\\u003c\\u002fb\\u003e\\u003cbr\\u003eWords: neville, flint, michigan, whitmer, sheriff\",\"\\u003cb\\u003eTopic 107\\u003c\\u002fb\\u003e\\u003cbr\\u003eWords: whitmer, michigan, kidnap, governor, plot\"],\"marker\":{\"color\":\"#CC79A7\"},\"mode\":\"lines\",\"name\":\"107_whitmer_michigan_kidnap_governor\",\"x\":[2016.0,2018.0],\"y\":[7.690414667158853e-06,0.00012943212579323403],\"type\":\"scatter\"}],                        {\"template\":{\"data\":{\"barpolar\":[{\"marker\":{\"line\":{\"color\":\"white\",\"width\":0.5},\"pattern\":{\"fillmode\":\"overlay\",\"size\":10,\"solidity\":0.2}},\"type\":\"barpolar\"}],\"bar\":[{\"error_x\":{\"color\":\"rgb(36,36,36)\"},\"error_y\":{\"color\":\"rgb(36,36,36)\"},\"marker\":{\"line\":{\"color\":\"white\",\"width\":0.5},\"pattern\":{\"fillmode\":\"overlay\",\"size\":10,\"solidity\":0.2}},\"type\":\"bar\"}],\"carpet\":[{\"aaxis\":{\"endlinecolor\":\"rgb(36,36,36)\",\"gridcolor\":\"white\",\"linecolor\":\"white\",\"minorgridcolor\":\"white\",\"startlinecolor\":\"rgb(36,36,36)\"},\"baxis\":{\"endlinecolor\":\"rgb(36,36,36)\",\"gridcolor\":\"white\",\"linecolor\":\"white\",\"minorgridcolor\":\"white\",\"startlinecolor\":\"rgb(36,36,36)\"},\"type\":\"carpet\"}],\"choropleth\":[{\"colorbar\":{\"outlinewidth\":1,\"tickcolor\":\"rgb(36,36,36)\",\"ticks\":\"outside\"},\"type\":\"choropleth\"}],\"contourcarpet\":[{\"colorbar\":{\"outlinewidth\":1,\"tickcolor\":\"rgb(36,36,36)\",\"ticks\":\"outside\"},\"type\":\"contourcarpet\"}],\"contour\":[{\"colorbar\":{\"outlinewidth\":1,\"tickcolor\":\"rgb(36,36,36)\",\"ticks\":\"outside\"},\"colorscale\":[[0.0,\"#440154\"],[0.1111111111111111,\"#482878\"],[0.2222222222222222,\"#3e4989\"],[0.3333333333333333,\"#31688e\"],[0.4444444444444444,\"#26828e\"],[0.5555555555555556,\"#1f9e89\"],[0.6666666666666666,\"#35b779\"],[0.7777777777777778,\"#6ece58\"],[0.8888888888888888,\"#b5de2b\"],[1.0,\"#fde725\"]],\"type\":\"contour\"}],\"heatmapgl\":[{\"colorbar\":{\"outlinewidth\":1,\"tickcolor\":\"rgb(36,36,36)\",\"ticks\":\"outside\"},\"colorscale\":[[0.0,\"#440154\"],[0.1111111111111111,\"#482878\"],[0.2222222222222222,\"#3e4989\"],[0.3333333333333333,\"#31688e\"],[0.4444444444444444,\"#26828e\"],[0.5555555555555556,\"#1f9e89\"],[0.6666666666666666,\"#35b779\"],[0.7777777777777778,\"#6ece58\"],[0.8888888888888888,\"#b5de2b\"],[1.0,\"#fde725\"]],\"type\":\"heatmapgl\"}],\"heatmap\":[{\"colorbar\":{\"outlinewidth\":1,\"tickcolor\":\"rgb(36,36,36)\",\"ticks\":\"outside\"},\"colorscale\":[[0.0,\"#440154\"],[0.1111111111111111,\"#482878\"],[0.2222222222222222,\"#3e4989\"],[0.3333333333333333,\"#31688e\"],[0.4444444444444444,\"#26828e\"],[0.5555555555555556,\"#1f9e89\"],[0.6666666666666666,\"#35b779\"],[0.7777777777777778,\"#6ece58\"],[0.8888888888888888,\"#b5de2b\"],[1.0,\"#fde725\"]],\"type\":\"heatmap\"}],\"histogram2dcontour\":[{\"colorbar\":{\"outlinewidth\":1,\"tickcolor\":\"rgb(36,36,36)\",\"ticks\":\"outside\"},\"colorscale\":[[0.0,\"#440154\"],[0.1111111111111111,\"#482878\"],[0.2222222222222222,\"#3e4989\"],[0.3333333333333333,\"#31688e\"],[0.4444444444444444,\"#26828e\"],[0.5555555555555556,\"#1f9e89\"],[0.6666666666666666,\"#35b779\"],[0.7777777777777778,\"#6ece58\"],[0.8888888888888888,\"#b5de2b\"],[1.0,\"#fde725\"]],\"type\":\"histogram2dcontour\"}],\"histogram2d\":[{\"colorbar\":{\"outlinewidth\":1,\"tickcolor\":\"rgb(36,36,36)\",\"ticks\":\"outside\"},\"colorscale\":[[0.0,\"#440154\"],[0.1111111111111111,\"#482878\"],[0.2222222222222222,\"#3e4989\"],[0.3333333333333333,\"#31688e\"],[0.4444444444444444,\"#26828e\"],[0.5555555555555556,\"#1f9e89\"],[0.6666666666666666,\"#35b779\"],[0.7777777777777778,\"#6ece58\"],[0.8888888888888888,\"#b5de2b\"],[1.0,\"#fde725\"]],\"type\":\"histogram2d\"}],\"histogram\":[{\"marker\":{\"line\":{\"color\":\"white\",\"width\":0.6}},\"type\":\"histogram\"}],\"mesh3d\":[{\"colorbar\":{\"outlinewidth\":1,\"tickcolor\":\"rgb(36,36,36)\",\"ticks\":\"outside\"},\"type\":\"mesh3d\"}],\"parcoords\":[{\"line\":{\"colorbar\":{\"outlinewidth\":1,\"tickcolor\":\"rgb(36,36,36)\",\"ticks\":\"outside\"}},\"type\":\"parcoords\"}],\"pie\":[{\"automargin\":true,\"type\":\"pie\"}],\"scatter3d\":[{\"line\":{\"colorbar\":{\"outlinewidth\":1,\"tickcolor\":\"rgb(36,36,36)\",\"ticks\":\"outside\"}},\"marker\":{\"colorbar\":{\"outlinewidth\":1,\"tickcolor\":\"rgb(36,36,36)\",\"ticks\":\"outside\"}},\"type\":\"scatter3d\"}],\"scattercarpet\":[{\"marker\":{\"colorbar\":{\"outlinewidth\":1,\"tickcolor\":\"rgb(36,36,36)\",\"ticks\":\"outside\"}},\"type\":\"scattercarpet\"}],\"scattergeo\":[{\"marker\":{\"colorbar\":{\"outlinewidth\":1,\"tickcolor\":\"rgb(36,36,36)\",\"ticks\":\"outside\"}},\"type\":\"scattergeo\"}],\"scattergl\":[{\"marker\":{\"colorbar\":{\"outlinewidth\":1,\"tickcolor\":\"rgb(36,36,36)\",\"ticks\":\"outside\"}},\"type\":\"scattergl\"}],\"scattermapbox\":[{\"marker\":{\"colorbar\":{\"outlinewidth\":1,\"tickcolor\":\"rgb(36,36,36)\",\"ticks\":\"outside\"}},\"type\":\"scattermapbox\"}],\"scatterpolargl\":[{\"marker\":{\"colorbar\":{\"outlinewidth\":1,\"tickcolor\":\"rgb(36,36,36)\",\"ticks\":\"outside\"}},\"type\":\"scatterpolargl\"}],\"scatterpolar\":[{\"marker\":{\"colorbar\":{\"outlinewidth\":1,\"tickcolor\":\"rgb(36,36,36)\",\"ticks\":\"outside\"}},\"type\":\"scatterpolar\"}],\"scatter\":[{\"fillpattern\":{\"fillmode\":\"overlay\",\"size\":10,\"solidity\":0.2},\"type\":\"scatter\"}],\"scatterternary\":[{\"marker\":{\"colorbar\":{\"outlinewidth\":1,\"tickcolor\":\"rgb(36,36,36)\",\"ticks\":\"outside\"}},\"type\":\"scatterternary\"}],\"surface\":[{\"colorbar\":{\"outlinewidth\":1,\"tickcolor\":\"rgb(36,36,36)\",\"ticks\":\"outside\"},\"colorscale\":[[0.0,\"#440154\"],[0.1111111111111111,\"#482878\"],[0.2222222222222222,\"#3e4989\"],[0.3333333333333333,\"#31688e\"],[0.4444444444444444,\"#26828e\"],[0.5555555555555556,\"#1f9e89\"],[0.6666666666666666,\"#35b779\"],[0.7777777777777778,\"#6ece58\"],[0.8888888888888888,\"#b5de2b\"],[1.0,\"#fde725\"]],\"type\":\"surface\"}],\"table\":[{\"cells\":{\"fill\":{\"color\":\"rgb(237,237,237)\"},\"line\":{\"color\":\"white\"}},\"header\":{\"fill\":{\"color\":\"rgb(217,217,217)\"},\"line\":{\"color\":\"white\"}},\"type\":\"table\"}]},\"layout\":{\"annotationdefaults\":{\"arrowhead\":0,\"arrowwidth\":1},\"autotypenumbers\":\"strict\",\"coloraxis\":{\"colorbar\":{\"outlinewidth\":1,\"tickcolor\":\"rgb(36,36,36)\",\"ticks\":\"outside\"}},\"colorscale\":{\"diverging\":[[0.0,\"rgb(103,0,31)\"],[0.1,\"rgb(178,24,43)\"],[0.2,\"rgb(214,96,77)\"],[0.3,\"rgb(244,165,130)\"],[0.4,\"rgb(253,219,199)\"],[0.5,\"rgb(247,247,247)\"],[0.6,\"rgb(209,229,240)\"],[0.7,\"rgb(146,197,222)\"],[0.8,\"rgb(67,147,195)\"],[0.9,\"rgb(33,102,172)\"],[1.0,\"rgb(5,48,97)\"]],\"sequential\":[[0.0,\"#440154\"],[0.1111111111111111,\"#482878\"],[0.2222222222222222,\"#3e4989\"],[0.3333333333333333,\"#31688e\"],[0.4444444444444444,\"#26828e\"],[0.5555555555555556,\"#1f9e89\"],[0.6666666666666666,\"#35b779\"],[0.7777777777777778,\"#6ece58\"],[0.8888888888888888,\"#b5de2b\"],[1.0,\"#fde725\"]],\"sequentialminus\":[[0.0,\"#440154\"],[0.1111111111111111,\"#482878\"],[0.2222222222222222,\"#3e4989\"],[0.3333333333333333,\"#31688e\"],[0.4444444444444444,\"#26828e\"],[0.5555555555555556,\"#1f9e89\"],[0.6666666666666666,\"#35b779\"],[0.7777777777777778,\"#6ece58\"],[0.8888888888888888,\"#b5de2b\"],[1.0,\"#fde725\"]]},\"colorway\":[\"#1F77B4\",\"#FF7F0E\",\"#2CA02C\",\"#D62728\",\"#9467BD\",\"#8C564B\",\"#E377C2\",\"#7F7F7F\",\"#BCBD22\",\"#17BECF\"],\"font\":{\"color\":\"rgb(36,36,36)\"},\"geo\":{\"bgcolor\":\"white\",\"lakecolor\":\"white\",\"landcolor\":\"white\",\"showlakes\":true,\"showland\":true,\"subunitcolor\":\"white\"},\"hoverlabel\":{\"align\":\"left\"},\"hovermode\":\"closest\",\"mapbox\":{\"style\":\"light\"},\"paper_bgcolor\":\"white\",\"plot_bgcolor\":\"white\",\"polar\":{\"angularaxis\":{\"gridcolor\":\"rgb(232,232,232)\",\"linecolor\":\"rgb(36,36,36)\",\"showgrid\":false,\"showline\":true,\"ticks\":\"outside\"},\"bgcolor\":\"white\",\"radialaxis\":{\"gridcolor\":\"rgb(232,232,232)\",\"linecolor\":\"rgb(36,36,36)\",\"showgrid\":false,\"showline\":true,\"ticks\":\"outside\"}},\"scene\":{\"xaxis\":{\"backgroundcolor\":\"white\",\"gridcolor\":\"rgb(232,232,232)\",\"gridwidth\":2,\"linecolor\":\"rgb(36,36,36)\",\"showbackground\":true,\"showgrid\":false,\"showline\":true,\"ticks\":\"outside\",\"zeroline\":false,\"zerolinecolor\":\"rgb(36,36,36)\"},\"yaxis\":{\"backgroundcolor\":\"white\",\"gridcolor\":\"rgb(232,232,232)\",\"gridwidth\":2,\"linecolor\":\"rgb(36,36,36)\",\"showbackground\":true,\"showgrid\":false,\"showline\":true,\"ticks\":\"outside\",\"zeroline\":false,\"zerolinecolor\":\"rgb(36,36,36)\"},\"zaxis\":{\"backgroundcolor\":\"white\",\"gridcolor\":\"rgb(232,232,232)\",\"gridwidth\":2,\"linecolor\":\"rgb(36,36,36)\",\"showbackground\":true,\"showgrid\":false,\"showline\":true,\"ticks\":\"outside\",\"zeroline\":false,\"zerolinecolor\":\"rgb(36,36,36)\"}},\"shapedefaults\":{\"fillcolor\":\"black\",\"line\":{\"width\":0},\"opacity\":0.3},\"ternary\":{\"aaxis\":{\"gridcolor\":\"rgb(232,232,232)\",\"linecolor\":\"rgb(36,36,36)\",\"showgrid\":false,\"showline\":true,\"ticks\":\"outside\"},\"baxis\":{\"gridcolor\":\"rgb(232,232,232)\",\"linecolor\":\"rgb(36,36,36)\",\"showgrid\":false,\"showline\":true,\"ticks\":\"outside\"},\"bgcolor\":\"white\",\"caxis\":{\"gridcolor\":\"rgb(232,232,232)\",\"linecolor\":\"rgb(36,36,36)\",\"showgrid\":false,\"showline\":true,\"ticks\":\"outside\"}},\"title\":{\"x\":0.05},\"xaxis\":{\"automargin\":true,\"gridcolor\":\"rgb(232,232,232)\",\"linecolor\":\"rgb(36,36,36)\",\"showgrid\":false,\"showline\":true,\"ticks\":\"outside\",\"title\":{\"standoff\":15},\"zeroline\":false,\"zerolinecolor\":\"rgb(36,36,36)\"},\"yaxis\":{\"automargin\":true,\"gridcolor\":\"rgb(232,232,232)\",\"linecolor\":\"rgb(36,36,36)\",\"showgrid\":false,\"showline\":true,\"ticks\":\"outside\",\"title\":{\"standoff\":15},\"zeroline\":false,\"zerolinecolor\":\"rgb(36,36,36)\"}}},\"xaxis\":{\"showgrid\":true},\"yaxis\":{\"showgrid\":true,\"title\":{\"text\":\"Frequency\"}},\"title\":{\"font\":{\"size\":22,\"color\":\"Black\"},\"text\":\"\\u003cb\\u003eTopics over Time\\u003c\\u002fb\\u003e\",\"y\":0.95,\"x\":0.4,\"xanchor\":\"center\",\"yanchor\":\"top\"},\"hoverlabel\":{\"font\":{\"size\":16,\"family\":\"Rockwell\"},\"bgcolor\":\"white\"},\"width\":1200,\"height\":800,\"legend\":{\"title\":{\"text\":\"\\u003cb\\u003eGlobal Topic Representation\"}}},                        {\"responsive\": true}                    ).then(function(){\n                            \nvar gd = document.getElementById('316d0703-37f0-4327-8291-dac4b3cfff71');\nvar x = new MutationObserver(function (mutations, observer) {{\n        var display = window.getComputedStyle(gd).display;\n        if (!display || display === 'none') {{\n            console.log([gd, 'removed!']);\n            Plotly.purge(gd);\n            observer.disconnect();\n        }}\n}});\n\n// Listen for the removal of the full notebook cells\nvar notebookContainer = gd.closest('#notebook-container');\nif (notebookContainer) {{\n    x.observe(notebookContainer, {childList: true});\n}}\n\n// Listen for the clearing of the current output cell\nvar outputEl = gd.closest('.output');\nif (outputEl) {{\n    x.observe(outputEl, {childList: true});\n}}\n\n                        })                };                });            </script>        </div>"
     },
     "metadata": {},
     "output_type": "display_data"
    }
   ],
   "source": [
    "topics_over_time_filtered = topics_over_time.groupby('Topic').filter(lambda x:  np.std(x.Frequency)  > 0.00006)\n",
    "fig = topic_model.visualize_topics_over_time(topics_over_time_filtered)\n",
    "# enlarge the size of the plot\n",
    "fig.update_layout(width=1200, height=800)\n",
    "fig.write_image('output/dtm/topics_over_time_200.png', engine=\"orca\")\n",
    "fig.show()"
   ],
   "metadata": {
    "collapsed": false,
    "ExecuteTime": {
     "end_time": "2024-05-23T08:36:53.888514Z",
     "start_time": "2024-05-23T08:36:53.410805Z"
    }
   },
   "id": "28cd4d963d0d4339",
   "execution_count": 154
  },
  {
   "cell_type": "markdown",
   "source": [
    "# Topic number 150"
   ],
   "metadata": {
    "collapsed": false
   },
   "id": "61079a18e3b2a3b5"
  },
  {
   "cell_type": "code",
   "outputs": [
    {
     "name": "stderr",
     "output_type": "stream",
     "text": [
      "2024-05-22 20:02:54,472 - BERTopic - Embedding - Transforming documents to embeddings.\n"
     ]
    },
    {
     "data": {
      "text/plain": "Batches:   0%|          | 0/756 [00:00<?, ?it/s]",
      "application/vnd.jupyter.widget-view+json": {
       "version_major": 2,
       "version_minor": 0,
       "model_id": "8dc4daa6d0bc43bdb334c5e0989ed783"
      }
     },
     "metadata": {},
     "output_type": "display_data"
    },
    {
     "name": "stderr",
     "output_type": "stream",
     "text": [
      "2024-05-22 20:04:47,393 - BERTopic - Embedding - Completed ✓\n",
      "2024-05-22 20:04:47,394 - BERTopic - Dimensionality - Fitting the dimensionality reduction algorithm\n",
      "2024-05-22 20:04:56,781 - BERTopic - Dimensionality - Completed ✓\n",
      "2024-05-22 20:04:56,783 - BERTopic - Cluster - Start clustering the reduced embeddings\n",
      "2024-05-22 20:04:57,450 - BERTopic - Cluster - Completed ✓\n",
      "2024-05-22 20:04:57,456 - BERTopic - Representation - Extracting topics from clusters using representation models.\n",
      "2024-05-22 20:05:06,417 - BERTopic - Representation - Completed ✓\n",
      "2024-05-22 20:05:10,143 - BERTopic - Topic reduction - Reducing number of topics\n",
      "2024-05-22 20:05:19,451 - BERTopic - Topic reduction - Reduced number of topics from 309 to 150\n",
      "20it [00:26,  1.33s/it]\n",
      "/var/folders/dm/hs6ffqd576v39l4vtyx6rpg00000gn/T/ipykernel_34510/3973436959.py:11: DeprecationWarning:\n",
      "\n",
      "DataFrameGroupBy.apply operated on the grouping columns. This behavior is deprecated, and in a future version of pandas the grouping columns will be excluded from the operation. Either pass `include_groups=False` to exclude the groupings or explicitly select the grouping columns after groupby to silence this warning.\n",
      "\n"
     ]
    },
    {
     "data": {
      "text/plain": "     Topic  Count                                 Name  \\\n0       -1   8567  -1_terrorism_said_terrorist_america   \n1        0   1131    0_israel_palestinian_arafat_peace   \n2        1    908      1_pakistan_india_indian_kashmir   \n3        2    718              2_iraq_bush_obama_laden   \n4        3    623    3_insurance_coverage_risk_insurer   \n..     ...    ...                                  ...   \n145    144     11         144_pipeline_oil_crude_train   \n146    145     11      145_aleppo_rebel_evacuate_assad   \n147    146     11          146_aids_hiv_garrett_africa   \n148    147     11   147_austria_vienna_nehammer_police   \n149    148     10     148_ahme_sadequee_georgia_martin   \n\n                                        Representation  \\\n0    [terrorism, said, terrorist, america, attack, ...   \n1    [israel, palestinian, arafat, peace, arab, ham...   \n2    [pakistan, india, indian, kashmir, musharraf, ...   \n3    [iraq, bush, obama, laden, bin, al, war, qaida...   \n4    [insurance, coverage, risk, insurer, tria, los...   \n..                                                 ...   \n145  [pipeline, oil, crude, train, energy, csx, dak...   \n146  [aleppo, rebel, evacuate, assad, syria, bashar...   \n147  [aids, hiv, garrett, africa, health, disease, ...   \n148  [austria, vienna, nehammer, police, gunman, sh...   \n149  [ahme, sadequee, georgia, martin, video, atlan...   \n\n                                   Representative_Docs  \n0    [el paso shoot call give government tool addre...  \n1    [israel reel worst wave arab violence years in...  \n2    [india prime minister said yesterday governmen...  \n3    [washington country move president lead sept n...  \n4    [government study showing available afford ter...  \n..                                                 ...  \n145  [bellingham wash federal local authority inves...  \n146  [last remnant rebel supporter evacuate eastern...  \n147  [last saturday world aids day special day reme...  \n148  [philipp jenne frank jordan associate press vi...  \n149  [year old georgia tech student another man tra...  \n\n[150 rows x 5 columns]",
      "text/html": "<div>\n<style scoped>\n    .dataframe tbody tr th:only-of-type {\n        vertical-align: middle;\n    }\n\n    .dataframe tbody tr th {\n        vertical-align: top;\n    }\n\n    .dataframe thead th {\n        text-align: right;\n    }\n</style>\n<table border=\"1\" class=\"dataframe\">\n  <thead>\n    <tr style=\"text-align: right;\">\n      <th></th>\n      <th>Topic</th>\n      <th>Count</th>\n      <th>Name</th>\n      <th>Representation</th>\n      <th>Representative_Docs</th>\n    </tr>\n  </thead>\n  <tbody>\n    <tr>\n      <th>0</th>\n      <td>-1</td>\n      <td>8567</td>\n      <td>-1_terrorism_said_terrorist_america</td>\n      <td>[terrorism, said, terrorist, america, attack, ...</td>\n      <td>[el paso shoot call give government tool addre...</td>\n    </tr>\n    <tr>\n      <th>1</th>\n      <td>0</td>\n      <td>1131</td>\n      <td>0_israel_palestinian_arafat_peace</td>\n      <td>[israel, palestinian, arafat, peace, arab, ham...</td>\n      <td>[israel reel worst wave arab violence years in...</td>\n    </tr>\n    <tr>\n      <th>2</th>\n      <td>1</td>\n      <td>908</td>\n      <td>1_pakistan_india_indian_kashmir</td>\n      <td>[pakistan, india, indian, kashmir, musharraf, ...</td>\n      <td>[india prime minister said yesterday governmen...</td>\n    </tr>\n    <tr>\n      <th>3</th>\n      <td>2</td>\n      <td>718</td>\n      <td>2_iraq_bush_obama_laden</td>\n      <td>[iraq, bush, obama, laden, bin, al, war, qaida...</td>\n      <td>[washington country move president lead sept n...</td>\n    </tr>\n    <tr>\n      <th>4</th>\n      <td>3</td>\n      <td>623</td>\n      <td>3_insurance_coverage_risk_insurer</td>\n      <td>[insurance, coverage, risk, insurer, tria, los...</td>\n      <td>[government study showing available afford ter...</td>\n    </tr>\n    <tr>\n      <th>...</th>\n      <td>...</td>\n      <td>...</td>\n      <td>...</td>\n      <td>...</td>\n      <td>...</td>\n    </tr>\n    <tr>\n      <th>145</th>\n      <td>144</td>\n      <td>11</td>\n      <td>144_pipeline_oil_crude_train</td>\n      <td>[pipeline, oil, crude, train, energy, csx, dak...</td>\n      <td>[bellingham wash federal local authority inves...</td>\n    </tr>\n    <tr>\n      <th>146</th>\n      <td>145</td>\n      <td>11</td>\n      <td>145_aleppo_rebel_evacuate_assad</td>\n      <td>[aleppo, rebel, evacuate, assad, syria, bashar...</td>\n      <td>[last remnant rebel supporter evacuate eastern...</td>\n    </tr>\n    <tr>\n      <th>147</th>\n      <td>146</td>\n      <td>11</td>\n      <td>146_aids_hiv_garrett_africa</td>\n      <td>[aids, hiv, garrett, africa, health, disease, ...</td>\n      <td>[last saturday world aids day special day reme...</td>\n    </tr>\n    <tr>\n      <th>148</th>\n      <td>147</td>\n      <td>11</td>\n      <td>147_austria_vienna_nehammer_police</td>\n      <td>[austria, vienna, nehammer, police, gunman, sh...</td>\n      <td>[philipp jenne frank jordan associate press vi...</td>\n    </tr>\n    <tr>\n      <th>149</th>\n      <td>148</td>\n      <td>10</td>\n      <td>148_ahme_sadequee_georgia_martin</td>\n      <td>[ahme, sadequee, georgia, martin, video, atlan...</td>\n      <td>[year old georgia tech student another man tra...</td>\n    </tr>\n  </tbody>\n</table>\n<p>150 rows × 5 columns</p>\n</div>"
     },
     "execution_count": 140,
     "metadata": {},
     "output_type": "execute_result"
    }
   ],
   "source": [
    "topic_model, topics_over_time = get_topics(df, 150)\n",
    "topic_model.get_topic_info().to_csv('output/dtm/topic_info_150.csv', index=False)\n",
    "topic_model.get_topic_info()"
   ],
   "metadata": {
    "collapsed": false,
    "ExecuteTime": {
     "end_time": "2024-05-22T18:05:49.518584Z",
     "start_time": "2024-05-22T18:02:54.279159Z"
    }
   },
   "id": "7c44db6e286e3536",
   "execution_count": 140
  },
  {
   "cell_type": "code",
   "outputs": [
    {
     "data": {
      "text/plain": "      Topic                                           Words  Frequency  \\\n0        -1         soviet, france, mr, politics, terrorist   0.001556   \n1         0      israel, palestinian, arab, lebanon, arafat   0.000577   \n2         1       naxalite, zia, pakistan, landless, hijack   0.000041   \n3         2            iraq, baghdad, hussein, azzawi, iran   0.000021   \n4         4           denton, senator, casey, amato, search   0.000021   \n...     ...                                             ...        ...   \n1572    133       klinghoffer, salamon, opera, hijack, leon   0.000009   \n1573    134         utrecht, tani, tram, netherlands, dutch   0.000032   \n1574    143  rwanda, rusesabagina, kagame, kigali, genocide   0.000055   \n1575    144             pipeline, oil, crude, train, derail   0.000018   \n1576    147     austria, vienna, nehammer, kurz, restaurant   0.000032   \n\n      Timestamp  \n0       1979.96  \n1       1979.96  \n2       1979.96  \n3       1979.96  \n4       1979.96  \n...         ...  \n1572    2018.00  \n1573    2018.00  \n1574    2018.00  \n1575    2018.00  \n1576    2018.00  \n\n[1577 rows x 4 columns]",
      "text/html": "<div>\n<style scoped>\n    .dataframe tbody tr th:only-of-type {\n        vertical-align: middle;\n    }\n\n    .dataframe tbody tr th {\n        vertical-align: top;\n    }\n\n    .dataframe thead th {\n        text-align: right;\n    }\n</style>\n<table border=\"1\" class=\"dataframe\">\n  <thead>\n    <tr style=\"text-align: right;\">\n      <th></th>\n      <th>Topic</th>\n      <th>Words</th>\n      <th>Frequency</th>\n      <th>Timestamp</th>\n    </tr>\n  </thead>\n  <tbody>\n    <tr>\n      <th>0</th>\n      <td>-1</td>\n      <td>soviet, france, mr, politics, terrorist</td>\n      <td>0.001556</td>\n      <td>1979.96</td>\n    </tr>\n    <tr>\n      <th>1</th>\n      <td>0</td>\n      <td>israel, palestinian, arab, lebanon, arafat</td>\n      <td>0.000577</td>\n      <td>1979.96</td>\n    </tr>\n    <tr>\n      <th>2</th>\n      <td>1</td>\n      <td>naxalite, zia, pakistan, landless, hijack</td>\n      <td>0.000041</td>\n      <td>1979.96</td>\n    </tr>\n    <tr>\n      <th>3</th>\n      <td>2</td>\n      <td>iraq, baghdad, hussein, azzawi, iran</td>\n      <td>0.000021</td>\n      <td>1979.96</td>\n    </tr>\n    <tr>\n      <th>4</th>\n      <td>4</td>\n      <td>denton, senator, casey, amato, search</td>\n      <td>0.000021</td>\n      <td>1979.96</td>\n    </tr>\n    <tr>\n      <th>...</th>\n      <td>...</td>\n      <td>...</td>\n      <td>...</td>\n      <td>...</td>\n    </tr>\n    <tr>\n      <th>1572</th>\n      <td>133</td>\n      <td>klinghoffer, salamon, opera, hijack, leon</td>\n      <td>0.000009</td>\n      <td>2018.00</td>\n    </tr>\n    <tr>\n      <th>1573</th>\n      <td>134</td>\n      <td>utrecht, tani, tram, netherlands, dutch</td>\n      <td>0.000032</td>\n      <td>2018.00</td>\n    </tr>\n    <tr>\n      <th>1574</th>\n      <td>143</td>\n      <td>rwanda, rusesabagina, kagame, kigali, genocide</td>\n      <td>0.000055</td>\n      <td>2018.00</td>\n    </tr>\n    <tr>\n      <th>1575</th>\n      <td>144</td>\n      <td>pipeline, oil, crude, train, derail</td>\n      <td>0.000018</td>\n      <td>2018.00</td>\n    </tr>\n    <tr>\n      <th>1576</th>\n      <td>147</td>\n      <td>austria, vienna, nehammer, kurz, restaurant</td>\n      <td>0.000032</td>\n      <td>2018.00</td>\n    </tr>\n  </tbody>\n</table>\n<p>1577 rows × 4 columns</p>\n</div>"
     },
     "execution_count": 141,
     "metadata": {},
     "output_type": "execute_result"
    }
   ],
   "source": [
    "topics_over_time.to_csv('output/dtm/topics_over_time_150.csv', index=False)\n",
    "topics_over_time"
   ],
   "metadata": {
    "collapsed": false,
    "ExecuteTime": {
     "end_time": "2024-05-22T19:47:44.996825Z",
     "start_time": "2024-05-22T19:47:44.949922Z"
    }
   },
   "id": "5104e4aad1c08db2",
   "execution_count": 141
  },
  {
   "cell_type": "code",
   "outputs": [
    {
     "data": {
      "application/vnd.plotly.v1+json": {
       "data": [
        {
         "hoverinfo": "text",
         "hovertext": [
          "<b>Topic 0</b><br>Words: israel, palestinian, arab, lebanon, arafat",
          "<b>Topic 0</b><br>Words: israel, arab, palestinian, jewish, bank",
          "<b>Topic 0</b><br>Words: israel, palestinian, arafat, arab, peace",
          "<b>Topic 0</b><br>Words: arafat, israel, palestinian, plo, peace",
          "<b>Topic 0</b><br>Words: israel, plo, palestinian, arafat, palestine",
          "<b>Topic 0</b><br>Words: israel, arab, plo, palestinian, arafat",
          "<b>Topic 0</b><br>Words: israel, palestinian, arafat, peace, plo",
          "<b>Topic 0</b><br>Words: israel, palestinian, peace, arafat, hama",
          "<b>Topic 0</b><br>Words: israel, palestinian, netanyahu, arafat, peace",
          "<b>Topic 0</b><br>Words: israel, palestinian, peace, arafat, arab",
          "<b>Topic 0</b><br>Words: israel, palestinian, arafat, sharon, peace",
          "<b>Topic 0</b><br>Words: israel, palestinian, arafat, peace, hama",
          "<b>Topic 0</b><br>Words: israel, palestinian, hama, arafat, arab",
          "<b>Topic 0</b><br>Words: israel, palestinian, hama, peace, arab",
          "<b>Topic 0</b><br>Words: israel, palestinian, hama, gaza, arab",
          "<b>Topic 0</b><br>Words: israel, palestinian, hama, peace, gaza",
          "<b>Topic 0</b><br>Words: israel, palestinian, hama, peace, gaza",
          "<b>Topic 0</b><br>Words: israel, palestinian, jewish, netanyahu, arab",
          "<b>Topic 0</b><br>Words: israel, palestinian, hama, gaza, peace",
          "<b>Topic 0</b><br>Words: israel, palestinian, uliel, hama, jewish"
         ],
         "marker": {
          "color": "#E69F00"
         },
         "mode": "lines",
         "name": "0_israel_palestinian_arafat_peace",
         "x": [
          1979.96,
          1982.0,
          1984.0,
          1986.0,
          1988.0,
          1990.0,
          1992.0,
          1994.0,
          1996.0,
          1998.0,
          2000.0,
          2002.0,
          2004.0,
          2006.0,
          2008.0,
          2010.0,
          2012.0,
          2014.0,
          2016.0,
          2018.0
         ],
         "y": [
          5.772122380538712E-4,
          4.311531052197046E-4,
          3.7573313782991204E-4,
          6.068117850595192E-4,
          9.709419306536895E-4,
          1.3028103480364786E-4,
          8.508610714042611E-4,
          9.354988041046215E-4,
          6.922936782656221E-4,
          2.2410470171664202E-4,
          5.245098039215687E-4,
          3.451094360185269E-4,
          4.5867860239117727E-4,
          2.416991449892746E-4,
          1.4294673159214992E-4,
          1.888704625023033E-4,
          2.531977943658802E-4,
          1.3979811224342224E-4,
          1.984126984126984E-4,
          9.547103590620198E-5
         ],
         "type": "scatter"
        },
        {
         "hoverinfo": "text",
         "hovertext": [
          "<b>Topic 1</b><br>Words: naxalite, zia, pakistan, landless, hijack",
          "<b>Topic 1</b><br>Words: sikh, punjab, gandhi, india, pakistan",
          "<b>Topic 1</b><br>Words: sikh, pakistan, india, gandhi, minister",
          "<b>Topic 1</b><br>Words: sikh, ribeiro, punjab, pakistan, gandhi",
          "<b>Topic 1</b><br>Words: sikh, hindu, punjab, singh, village",
          "<b>Topic 1</b><br>Words: gandhi, indian, pakistan, assassinate, punjab",
          "<b>Topic 1</b><br>Words: pakistan, india, fuqra, indian, islamabad",
          "<b>Topic 1</b><br>Words: pakistan, yousef, sandhu, bhutto, india",
          "<b>Topic 1</b><br>Words: pakistan, sharif, kasi, india, mir",
          "<b>Topic 1</b><br>Words: pakistan, india, kashmir, indian, musharraf",
          "<b>Topic 1</b><br>Words: pakistan, india, kashmir, indian, musharraf",
          "<b>Topic 1</b><br>Words: pakistan, musharraf, macedonia, india, afghanistan",
          "<b>Topic 1</b><br>Words: pakistan, india, musharraf, indian, mumbai",
          "<b>Topic 1</b><br>Words: pakistan, india, musharraf, indian, mumbai",
          "<b>Topic 1</b><br>Words: pakistan, india, mumbai, indian, apo",
          "<b>Topic 1</b><br>Words: pakistan, india, indian, afghanistan, islamabad",
          "<b>Topic 1</b><br>Words: pakistan, india, sharif, taliban, afghanistan",
          "<b>Topic 1</b><br>Words: pakistan, india, taliban, indian, militant",
          "<b>Topic 1</b><br>Words: pakistan, india, indian, kashmir, afghanistan",
          "<b>Topic 1</b><br>Words: pakistan, india, indian, modi, kashmir"
         ],
         "marker": {
          "color": "#56B4E9"
         },
         "mode": "lines",
         "name": "1_pakistan_india_indian_kashmir",
         "x": [
          1979.96,
          1982.0,
          1984.0,
          1986.0,
          1988.0,
          1990.0,
          1992.0,
          1994.0,
          1996.0,
          1998.0,
          2000.0,
          2002.0,
          2004.0,
          2006.0,
          2008.0,
          2010.0,
          2012.0,
          2014.0,
          2016.0,
          2018.0
         ],
         "y": [
          4.122944557527652E-5,
          1.4677552518117603E-4,
          4.5821114369501466E-5,
          5.164355617527823E-5,
          3.509428665013336E-5,
          9.305788200260563E-6,
          5.9560274998298275E-5,
          4.822158784044441E-5,
          4.554563672800146E-5,
          2.3904501516441816E-4,
          2.1568627450980392E-4,
          7.719553174098628E-5,
          1.6633399866932801E-4,
          7.150266372599373E-4,
          7.47011952191235E-4,
          3.224617652478349E-4,
          2.578866424096928E-4,
          9.159186664224217E-5,
          6.802721088435374E-4,
          6.364735727080132E-4
         ],
         "type": "scatter"
        },
        {
         "hoverinfo": "text",
         "hovertext": [
          "<b>Topic 2</b><br>Words: iraq, baghdad, hussein, azzawi, iran",
          "<b>Topic 2</b><br>Words: iraq, us, formal, resumption, tie",
          "<b>Topic 2</b><br>Words: iraq, saddam, bush, hussein, kuwait",
          "<b>Topic 2</b><br>Words: iraq, saddam, bush, kuwait, hussein",
          "<b>Topic 2</b><br>Words: iraq, kuwait, saddam, bush, united",
          "<b>Topic 2</b><br>Words: laden, bin, gum, iraq, arabic",
          "<b>Topic 2</b><br>Words: laden, bin, uzbekistan, clarke, iran",
          "<b>Topic 2</b><br>Words: laden, bush, bin, iraq, war",
          "<b>Topic 2</b><br>Words: bush, iraq, clarke, war, al",
          "<b>Topic 2</b><br>Words: iraq, bush, war, al, laden",
          "<b>Topic 2</b><br>Words: iraq, obama, al, bush, war",
          "<b>Topic 2</b><br>Words: obama, iraq, bush, al, war",
          "<b>Topic 2</b><br>Words: laden, bin, al, obama, qaida",
          "<b>Topic 2</b><br>Words: obama, iraq, al, war, bush",
          "<b>Topic 2</b><br>Words: obama, iraq, islam, president, war",
          "<b>Topic 2</b><br>Words: lone, wolf, soufan, obama, iraq",
          "<b>Topic 2</b><br>Words: al, qaeda, masri, iraq, bin"
         ],
         "marker": {
          "color": "#009E73"
         },
         "mode": "lines",
         "name": "2_iraq_bush_obama_laden",
         "x": [
          1979.96,
          1982.0,
          1988.0,
          1990.0,
          1992.0,
          1996.0,
          1998.0,
          2000.0,
          2002.0,
          2004.0,
          2006.0,
          2008.0,
          2010.0,
          2012.0,
          2014.0,
          2016.0,
          2018.0
         ],
         "y": [
          2.061472278763826E-5,
          9.173470323823502E-6,
          1.4037714660053343E-4,
          1.1166945840312674E-4,
          5.1051664284255664E-5,
          1.1841865549280378E-4,
          5.229109706721647E-5,
          3.480392156862745E-4,
          6.311869948233585E-4,
          4.536381781890764E-4,
          2.9708853238265005E-4,
          2.1211450494319022E-4,
          4.6987285793255944E-4,
          3.2353051502306916E-4,
          3.181612209677886E-4,
          3.306878306878307E-5,
          7.27398368809158E-5
         ],
         "type": "scatter"
        },
        {
         "hoverinfo": "text",
         "hovertext": [
          "<b>Topic 3</b><br>Words: thatch, dallas, tenant, lunceford, mr",
          "<b>Topic 3</b><br>Words: insurance, coverage, risk, company, manager",
          "<b>Topic 3</b><br>Words: risk, coverage, underwriter, insurance, rate",
          "<b>Topic 3</b><br>Words: pool, insurance, coverage, insurer, risk",
          "<b>Topic 3</b><br>Words: reinsure, insurance, pool, coverage, insurer",
          "<b>Topic 3</b><br>Words: pool, insurance, coverage, risk, reinsure",
          "<b>Topic 3</b><br>Words: risk, pool, insurance, coverage, rate",
          "<b>Topic 3</b><br>Words: insurance, coverage, insurer, risk, reinsure",
          "<b>Topic 3</b><br>Words: insurance, coverage, risk, insurer, tria",
          "<b>Topic 3</b><br>Words: insurance, tria, risk, insurer, coverage",
          "<b>Topic 3</b><br>Words: insurance, risk, coverage, insurer, backstop",
          "<b>Topic 3</b><br>Words: insurance, backstop, insurer, risk, coverage",
          "<b>Topic 3</b><br>Words: insurance, risk, insurer, coverage, backstop",
          "<b>Topic 3</b><br>Words: insurance, risk, insurer, tria, coverage",
          "<b>Topic 3</b><br>Words: insurance, coverage, risk, tria, market",
          "<b>Topic 3</b><br>Words: insurance, coverage, insurer, risk, art",
          "<b>Topic 3</b><br>Words: insurance, risk, business, insurer, coverage"
         ],
         "marker": {
          "color": "#F0E442"
         },
         "mode": "lines",
         "name": "3_insurance_coverage_risk_insurer",
         "x": [
          1984.0,
          1988.0,
          1990.0,
          1992.0,
          1994.0,
          1996.0,
          1998.0,
          2000.0,
          2002.0,
          2004.0,
          2006.0,
          2008.0,
          2010.0,
          2012.0,
          2014.0,
          2016.0,
          2018.0
         ],
         "y": [
          9.164222873900293E-6,
          3.509428665013336E-5,
          1.209752466033873E-4,
          1.2762916071063917E-4,
          2.8932952704266646E-5,
          2.7327382036800874E-5,
          1.4940313447776135E-5,
          4.950980392156863E-4,
          4.995004995004995E-4,
          6.854976914857154E-4,
          4.4311509914700343E-4,
          5.533421868083223E-5,
          8.752533628155519E-5,
          3.704189954611951E-4,
          7.230936840177014E-5,
          2.362055933484505E-5,
          8.183231649103027E-5
         ],
         "type": "scatter"
        },
        {
         "hoverinfo": "text",
         "hovertext": [
          "<b>Topic 4</b><br>Words: denton, senator, casey, amato, search",
          "<b>Topic 4</b><br>Words: marijuana, legalize, drug, narcodollar, farmer",
          "<b>Topic 4</b><br>Words: cispe, investigate, inquiry, monitor, report",
          "<b>Topic 4</b><br>Words: proposal, bill, control, democratic, bush",
          "<b>Topic 4</b><br>Words: taggant, gunpowder, nra, explosive, schumer",
          "<b>Topic 4</b><br>Words: bill, clinton, wiretap, house, senate",
          "<b>Topic 4</b><br>Words: specter, subcommittee, committee, idaho, judiciary",
          "<b>Topic 4</b><br>Words: reepe, clinton, gore, sex, dummy",
          "<b>Topic 4</b><br>Words: bill, senate, house, legislation, wiretap",
          "<b>Topic 4</b><br>Words: patriot, act, liberties, law, civil",
          "<b>Topic 4</b><br>Words: patriot, act, law, provisions, bill",
          "<b>Topic 4</b><br>Words: senate, act, law, bill, wiretap",
          "<b>Topic 4</b><br>Words: miranda, law, rights, shahzad, patriot",
          "<b>Topic 4</b><br>Words: surveillance, liberties, patriot, act, law",
          "<b>Topic 4</b><br>Words: nsa, surveillance, phone, snowden, data",
          "<b>Topic 4</b><br>Words: percent, encryption, surveillance, protect, liberties",
          "<b>Topic 4</b><br>Words: notification, snowden, bill, patriot, intercept",
          "<b>Topic 4</b><br>Words: surveillance, patriot, act, fisa, bill"
         ],
         "marker": {
          "color": "#D55E00"
         },
         "mode": "lines",
         "name": "4_bill_patriot_act_senate",
         "x": [
          1979.96,
          1982.0,
          1988.0,
          1990.0,
          1992.0,
          1994.0,
          1996.0,
          1998.0,
          2000.0,
          2002.0,
          2004.0,
          2006.0,
          2008.0,
          2010.0,
          2012.0,
          2014.0,
          2016.0,
          2018.0
         ],
         "y": [
          2.061472278763826E-5,
          9.173470323823502E-6,
          1.1698095550044453E-5,
          9.305788200260563E-6,
          1.701722142808522E-5,
          0.0014466476352133324,
          3.643650938240116E-5,
          7.470156723888067E-6,
          1.5686274509803922E-4,
          1.63472890745618E-4,
          2.9234460372184925E-4,
          8.056638166309154E-5,
          1.337243618120112E-4,
          1.243781094527363E-4,
          2.813308826287558E-4,
          7.712999296188814E-5,
          2.834467120181406E-5,
          7.27398368809158E-5
         ],
         "type": "scatter"
        },
        {
         "hoverinfo": "text",
         "hovertext": [
          "<b>Topic 5</b><br>Words: britain, london, yard, pertini, police",
          "<b>Topic 5</b><br>Words: britain, london, accompany, prime, minister",
          "<b>Topic 5</b><br>Words: treaty, extradite, britain, thatch, ira",
          "<b>Topic 5</b><br>Words: miasmic, theory, remedial, must, omnipresent",
          "<b>Topic 5</b><br>Words: lectern, yard, churchill, coleman, plastic",
          "<b>Topic 5</b><br>Words: london, britain, ira, station, ireland",
          "<b>Topic 5</b><br>Words: london, tucker, risk, business, britain",
          "<b>Topic 5</b><br>Words: britain, ireland, london, vigilance, briton",
          "<b>Topic 5</b><br>Words: blair, britain, omagh, ireland, london",
          "<b>Topic 5</b><br>Words: london, tower, wellington, perry, britain",
          "<b>Topic 5</b><br>Words: blair, preston, britain, london, attack",
          "<b>Topic 5</b><br>Words: britain, london, blair, police, arrest",
          "<b>Topic 5</b><br>Words: britain, london, blair, police, attack",
          "<b>Topic 5</b><br>Words: britain, london, brown, blair, police",
          "<b>Topic 5</b><br>Words: britain, london, manningham, police, men",
          "<b>Topic 5</b><br>Words: britain, london, police, arrest, games",
          "<b>Topic 5</b><br>Words: britain, london, cameron, police, rigby",
          "<b>Topic 5</b><br>Words: london, britain, police, knife, attack",
          "<b>Topic 5</b><br>Words: london, britain, police, parliament, attack",
          "<b>Topic 5</b><br>Words: london, britain, police, stabbing, khan"
         ],
         "marker": {
          "color": "#0072B2"
         },
         "mode": "lines",
         "name": "5_britain_london_police_blair",
         "x": [
          1979.96,
          1982.0,
          1984.0,
          1986.0,
          1988.0,
          1990.0,
          1992.0,
          1994.0,
          1996.0,
          1998.0,
          2000.0,
          2002.0,
          2004.0,
          2006.0,
          2008.0,
          2010.0,
          2012.0,
          2014.0,
          2016.0,
          2018.0
         ],
         "y": [
          1.030736139381913E-5,
          1.8346940647647004E-5,
          1.8328445747800586E-5,
          1.2910889043819557E-5,
          1.1698095550044453E-5,
          5.583472920156337E-5,
          3.403444285617044E-5,
          1.9288635136177764E-5,
          3.643650938240116E-5,
          1.4940313447776135E-5,
          2.4509803921568626E-5,
          9.535918626827718E-5,
          5.846892074436985E-4,
          2.3162834728138816E-4,
          1.0605725247159511E-4,
          8.752533628155519E-5,
          1.172212010953149E-4,
          1.2051561400295022E-4,
          3.873771730914588E-4,
          2.2731199025286187E-4
         ],
         "type": "scatter"
        },
        {
         "hoverinfo": "text",
         "hovertext": [
          "<b>Topic 6</b><br>Words: iran, reagan, soviet, haig, intelligence",
          "<b>Topic 6</b><br>Words: reagan, iran, lebanon, soviet, administration",
          "<b>Topic 6</b><br>Words: iran, reagan, soviet, administration, mr",
          "<b>Topic 6</b><br>Words: iran, reagan, ledeen, soviet, gulf",
          "<b>Topic 6</b><br>Words: iran, rushdie, khomeini, ayatollah, mfn",
          "<b>Topic 6</b><br>Words: iran, rushdie, reagan, soviet, rafsanjani",
          "<b>Topic 6</b><br>Words: iran, mojahedin, mujahedeen, kharrazi, tehran",
          "<b>Topic 6</b><br>Words: iran, dhahran, gingrich, behind, velayati",
          "<b>Topic 6</b><br>Words: iran, khatami, tehran, sanction, reagan",
          "<b>Topic 6</b><br>Words: iran, khatami, behbahani, guidelines, ayatollah",
          "<b>Topic 6</b><br>Words: iran, khamenei, khatami, reagan, bush",
          "<b>Topic 6</b><br>Words: iran, ebadi, sapphire, rights, prize",
          "<b>Topic 6</b><br>Words: iran, nuclear, rushdie, ahmadinejad, apostolou",
          "<b>Topic 6</b><br>Words: iran, ahmadinejad, bank, nuclear, guard",
          "<b>Topic 6</b><br>Words: iran, shourd, philpot, sanction, nuclear",
          "<b>Topic 6</b><br>Words: iran, nuclear, mek, sanction, mousavian",
          "<b>Topic 6</b><br>Words: iran, rouhani, nuclear, sanction, tehran",
          "<b>Topic 6</b><br>Words: iran, sanction, nuclear, deal, reagan",
          "<b>Topic 6</b><br>Words: iran, sanction, deal, rouhani, trump",
          "<b>Topic 6</b><br>Words: iran, sanction, bolton, trump, tanker"
         ],
         "marker": {
          "color": "#CC79A7"
         },
         "mode": "lines",
         "name": "6_iran_reagan_sanction_nuclear",
         "x": [
          1979.96,
          1982.0,
          1984.0,
          1986.0,
          1988.0,
          1990.0,
          1992.0,
          1994.0,
          1996.0,
          1998.0,
          2000.0,
          2002.0,
          2004.0,
          2006.0,
          2008.0,
          2010.0,
          2012.0,
          2014.0,
          2016.0,
          2018.0
         ],
         "y": [
          3.19528203208393E-4,
          2.843775800385286E-4,
          4.032258064516129E-4,
          2.0657422470111292E-4,
          1.2867905105048898E-4,
          1.3958682300390843E-4,
          6.806888571234089E-5,
          1.4466476352133323E-4,
          1.1841865549280378E-4,
          3.735078361944033E-5,
          2.9411764705882354E-5,
          2.2704568159113613E-5,
          7.056593882941189E-5,
          8.056638166309154E-5,
          5.533421868083223E-5,
          1.0134512622074811E-4,
          3.282193630668817E-5,
          1.3497748768330424E-4,
          1.0393046107331821E-4,
          1.9094207181240397E-4
         ],
         "type": "scatter"
        },
        {
         "hoverinfo": "text",
         "hovertext": [
          "<b>Topic 7</b><br>Words: taheri, fundamentalism, islam, shah, muslim",
          "<b>Topic 7</b><br>Words: turabi, fundamentalism, islam, muslim, mistrust",
          "<b>Topic 7</b><br>Words: muslim, islam, religion, mosque, smith",
          "<b>Topic 7</b><br>Words: asahara, truth, supreme, takagi, muslim",
          "<b>Topic 7</b><br>Words: muslim, islam, safdar, aboushi, religion",
          "<b>Topic 7</b><br>Words: islam, muslim, coleman, quote, aljumai",
          "<b>Topic 7</b><br>Words: muslim, islam, religion, mumtaz, religious",
          "<b>Topic 7</b><br>Words: muslim, islam, religion, coulter, mosque",
          "<b>Topic 7</b><br>Words: muslim, islam, fatwa, religion, america",
          "<b>Topic 7</b><br>Words: muslim, islam, fascism, islamo, horowitz",
          "<b>Topic 7</b><br>Words: muslim, islam, religion, america, rauf",
          "<b>Topic 7</b><br>Words: muslim, king, islam, hearing, america",
          "<b>Topic 7</b><br>Words: muslim, islam, religion, gel, community",
          "<b>Topic 7</b><br>Words: muslim, islam, religion, twitter, faith",
          "<b>Topic 7</b><br>Words: muslim, google, islam, content, youtube",
          "<b>Topic 7</b><br>Words: muslim, facebook, islam, religion, content"
         ],
         "marker": {
          "color": "#E69F00"
         },
         "mode": "lines",
         "name": "7_muslim_islam_religion_america",
         "x": [
          1986.0,
          1990.0,
          1992.0,
          1994.0,
          1996.0,
          1998.0,
          2000.0,
          2002.0,
          2004.0,
          2006.0,
          2008.0,
          2010.0,
          2012.0,
          2014.0,
          2016.0,
          2018.0
         ],
         "y": [
          1.2910889043819557E-5,
          9.305788200260563E-6,
          6.806888571234089E-5,
          1.9288635136177764E-5,
          4.554563672800146E-5,
          7.470156723888067E-6,
          7.352941176470588E-5,
          4.5409136318227226E-5,
          2.066573922861348E-4,
          1.5106196561829664E-4,
          9.68348826914564E-5,
          2.763957987838585E-4,
          1.0784350500768971E-4,
          3.3744371920826064E-4,
          1.1337868480725624E-4,
          9.547103590620198E-5
         ],
         "type": "scatter"
        },
        {
         "hoverinfo": "text",
         "hovertext": [
          "<b>Topic 8</b><br>Words: libya, qaddafi, colonel, oil, reagan",
          "<b>Topic 8</b><br>Words: libya, qaddafi, malta, britain, colonel",
          "<b>Topic 8</b><br>Words: libya, qaddafi, reagan, colonel, europe",
          "<b>Topic 8</b><br>Words: libya, qaddafi, chad, colonel, tripoli",
          "<b>Topic 8</b><br>Words: libya, qaddafi, gadhafi, weapon, chemical",
          "<b>Topic 8</b><br>Words: libya, pan, council, qaddafi, gadhafi",
          "<b>Topic 8</b><br>Words: libya, gadhafi, qaddafi, sanction, clinton",
          "<b>Topic 8</b><br>Words: libya, farrakhan, international, studeman, qaddafi",
          "<b>Topic 8</b><br>Words: libya, laden, bin, bomb, qaddafi",
          "<b>Topic 8</b><br>Words: libya, qaddafi, sanction, tripoli, pan",
          "<b>Topic 8</b><br>Words: libya, kusa, pan, gadhafi, qaddafi",
          "<b>Topic 8</b><br>Words: libya, gadhafi, report, international, attack",
          "<b>Topic 8</b><br>Words: libya, gadhafi, qaddafi, tripoli, diplomatic",
          "<b>Topic 8</b><br>Words: libya, qaddafi, gadhafi, tripoli, pan",
          "<b>Topic 8</b><br>Words: libya, megrahi, gadhafi, brown, scotland",
          "<b>Topic 8</b><br>Words: libya, qaddafi, gadhafi, megrahi, colonel",
          "<b>Topic 8</b><br>Words: libya, hifter, iep, tripoli, gadhafi",
          "<b>Topic 8</b><br>Words: libya, oil, gazzini, kaidanow, isi",
          "<b>Topic 8</b><br>Words: libya, kreindler, qaddafi, report, attack",
          "<b>Topic 8</b><br>Words: libya, mas, ud, hifter, dornstein"
         ],
         "marker": {
          "color": "#56B4E9"
         },
         "mode": "lines",
         "name": "8_libya_qaddafi_gadhafi_colonel",
         "x": [
          1979.96,
          1982.0,
          1984.0,
          1986.0,
          1988.0,
          1990.0,
          1992.0,
          1994.0,
          1996.0,
          1998.0,
          2000.0,
          2002.0,
          2004.0,
          2006.0,
          2008.0,
          2010.0,
          2012.0,
          2014.0,
          2016.0,
          2018.0
         ],
         "y": [
          3.19528203208393E-4,
          1.1008164388588202E-4,
          6.87316715542522E-4,
          1.4201977948201513E-4,
          1.0528285995040007E-4,
          3.3500837520938025E-4,
          8.508610714042611E-5,
          3.857727027235553E-5,
          2.18619056294407E-4,
          1.344628210299852E-4,
          3.431372549019608E-5,
          3.178639542275906E-5,
          6.552551462731103E-5,
          1.0574337593280764E-4,
          3.227829423048547E-5,
          5.988575640316934E-5,
          2.8133088262875578E-5,
          9.641249120236018E-6,
          3.306878306878307E-5,
          5.000863785562961E-5
         ],
         "type": "scatter"
        },
        {
         "hoverinfo": "text",
         "hovertext": [
          "<b>Topic 10</b><br>Words: trial, libya, qaddafi, guantanamo, detainee",
          "<b>Topic 10</b><br>Words: guantanamo, detainee, pentagon, court, tribunal",
          "<b>Topic 10</b><br>Words: guantanamo, detainee, court, prisoner, military",
          "<b>Topic 10</b><br>Words: guantanamo, detainee, hamdan, court, trial",
          "<b>Topic 10</b><br>Words: guantanamo, detainee, obama, trial, prison",
          "<b>Topic 10</b><br>Words: guantanamo, detainee, trial, court, prison",
          "<b>Topic 10</b><br>Words: guantanamo, detainee, libi, ruqai, transfer",
          "<b>Topic 10</b><br>Words: detainee, guantanamo, prisoner, court, obama",
          "<b>Topic 10</b><br>Words: guantanamo, detainee, namo, guant, court",
          "<b>Topic 10</b><br>Words: guantanamo, detainee, prisoner, trial, prison"
         ],
         "marker": {
          "color": "#009E73"
         },
         "mode": "lines",
         "name": "10_guantanamo_detainee_trial_court",
         "x": [
          1998.0,
          2002.0,
          2004.0,
          2006.0,
          2008.0,
          2010.0,
          2012.0,
          2014.0,
          2016.0,
          2018.0
         ],
         "y": [
          1.4940313447776135E-5,
          4.5409136318227226E-5,
          9.576805983991613E-5,
          2.5680534155110427E-4,
          3.8272834587575624E-4,
          1.9808365579509858E-4,
          1.172212010953149E-4,
          2.4103122800590046E-5,
          8.030990173847316E-5,
          3.63699184404579E-5
         ],
         "type": "scatter"
        },
        {
         "hoverinfo": "text",
         "hovertext": [
          "<b>Topic 11</b><br>Words: klan, hine, wilkinson, klansmen, civiletti",
          "<b>Topic 11</b><br>Words: clinic, abortion, webster, bureau, violence",
          "<b>Topic 11</b><br>Words: abortion, clinic, bureau, radford, wattleton",
          "<b>Topic 11</b><br>Words: hate, crime, victim, illinois, gay",
          "<b>Topic 11</b><br>Words: homosexual, contrary, grave, forbidden, morally",
          "<b>Topic 11</b><br>Words: abortion, clinic, doctor, gunn, shoot",
          "<b>Topic 11</b><br>Words: clinic, abortion, taggant, crime, church",
          "<b>Topic 11</b><br>Words: abortion, clinic, hate, violence, crime",
          "<b>Topic 11</b><br>Words: abortion, sebunya, kalex, clinic, dutch",
          "<b>Topic 11</b><br>Words: abortion, life, clinic, ordinance, pro",
          "<b>Topic 11</b><br>Words: kopp, abortion, slepian, hughes, marusak",
          "<b>Topic 11</b><br>Words: lynch, lincoln, klan, confederate, landrieu",
          "<b>Topic 11</b><br>Words: abortion, key, ray, exhibit, rayproject",
          "<b>Topic 11</b><br>Words: abortion, tiller, hogan, shoot, clinic",
          "<b>Topic 11</b><br>Words: crow, abortion, loughner, gun, shoot",
          "<b>Topic 11</b><br>Words: shoot, gilley, gun, violence, abortion",
          "<b>Topic 11</b><br>Words: shoot, parenthood, abortion, dear, clinic",
          "<b>Topic 11</b><br>Words: shoot, white, abortion, trump, paddock",
          "<b>Topic 11</b><br>Words: shoot, white, hate, abortion, gun"
         ],
         "marker": {
          "color": "#F0E442"
         },
         "mode": "lines",
         "name": "11_abortion_shoot_clinic_white",
         "x": [
          1979.96,
          1982.0,
          1984.0,
          1988.0,
          1990.0,
          1992.0,
          1994.0,
          1996.0,
          1998.0,
          2000.0,
          2002.0,
          2004.0,
          2006.0,
          2008.0,
          2010.0,
          2012.0,
          2014.0,
          2016.0,
          2018.0
         ],
         "y": [
          1.030736139381913E-5,
          6.421429226676452E-5,
          2.749266862170088E-5,
          1.1698095550044453E-5,
          9.305788200260563E-6,
          1.1912054999659655E-4,
          3.857727027235553E-5,
          9.109127345600292E-5,
          2.2410470171664203E-5,
          3.431372549019608E-5,
          9.081827263645446E-6,
          1.5121272606302547E-5,
          1.0070797707886442E-5,
          5.0723033790762874E-5,
          4.6065966463976415E-5,
          1.8755392175250383E-5,
          2.9887872272731656E-4,
          3.873771730914588E-4,
          1.2729471454160264E-4
         ],
         "type": "scatter"
        },
        {
         "hoverinfo": "text",
         "hovertext": [
          "<b>Topic 15</b><br>Words: france, defferre, paris, badinter, mitterrand",
          "<b>Topic 15</b><br>Words: france, paris, mitterrand, iran, teheran",
          "<b>Topic 15</b><br>Words: france, syria, paris, chirac, abdallah",
          "<b>Topic 15</b><br>Words: france, iran, gordji, paris, abdallah",
          "<b>Topic 15</b><br>Words: naccache, bakhtiar, france, verge, anis",
          "<b>Topic 15</b><br>Words: habash, nidal, france, duma, seale",
          "<b>Topic 15</b><br>Words: france, switzerland, iran, balladur, bakhtiar",
          "<b>Topic 15</b><br>Words: debre, france, bensaid, lyon, paris",
          "<b>Topic 15</b><br>Words: france, cup, paris, tournament, detain",
          "<b>Topic 15</b><br>Words: france, strasbourg, gallarate, belgium, tunisia",
          "<b>Topic 15</b><br>Words: cherif, france, girlfriend, paris, benyettou",
          "<b>Topic 15</b><br>Words: france, paris, sarkozy, vergh, store",
          "<b>Topic 15</b><br>Words: france, hicheur, paris, cern, pechenard",
          "<b>Topic 15</b><br>Words: france, paris, sarkozy, hollande, mali",
          "<b>Topic 15</b><br>Words: france, paris, molin, syria, mali",
          "<b>Topic 15</b><br>Words: france, paris, strasbourg, attack, police",
          "<b>Topic 15</b><br>Words: france, strasbourg, paris, chekatt, attack",
          "<b>Topic 15</b><br>Words: france, paris, macron, hebdo, charlie"
         ],
         "marker": {
          "color": "#D55E00"
         },
         "mode": "lines",
         "name": "15_france_paris_strasbourg_police",
         "x": [
          1979.96,
          1982.0,
          1984.0,
          1986.0,
          1988.0,
          1990.0,
          1992.0,
          1994.0,
          1996.0,
          2000.0,
          2004.0,
          2006.0,
          2008.0,
          2010.0,
          2012.0,
          2014.0,
          2016.0,
          2018.0
         ],
         "y": [
          6.184416836291478E-5,
          3.669388129529401E-5,
          1.282991202346041E-4,
          7.746533426291734E-5,
          1.1698095550044453E-5,
          9.305788200260563E-6,
          2.5525832142127832E-5,
          1.9288635136177764E-5,
          2.7327382036800874E-5,
          9.803921568627451E-6,
          1.0080848404201698E-5,
          4.028319083154577E-5,
          3.688947912055482E-5,
          5.52791597567717E-5,
          4.6888480438125964E-5,
          2.3621060344578243E-4,
          2.0786092214663643E-4,
          1.818495922022895E-4
         ],
         "type": "scatter"
        },
        {
         "hoverinfo": "text",
         "hovertext": [
          "<b>Topic 16</b><br>Words: corporation, robot, westchester, grumman, precaution",
          "<b>Topic 16</b><br>Words: mcnamara, agawam, stalk, chicken, marijuana",
          "<b>Topic 16</b><br>Words: york, new, city, nypd, police",
          "<b>Topic 16</b><br>Words: brooklyn, berger, gazi, hama, lafi",
          "<b>Topic 16</b><br>Words: cop, nypd, yankee, subway, shulman",
          "<b>Topic 16</b><br>Words: inspector, mayor, city, bella, york",
          "<b>Topic 16</b><br>Words: nypd, libutti, police, york, department",
          "<b>Topic 16</b><br>Words: nypd, york, plot, new, zazi",
          "<b>Topic 16</b><br>Words: nypd, kelly, police, york, city",
          "<b>Topic 16</b><br>Words: zazi, york, denver, nypd, new",
          "<b>Topic 16</b><br>Words: nypd, pimentel, kelly, york, police",
          "<b>Topic 16</b><br>Words: nypd, kelly, york, commissioner, police",
          "<b>Topic 16</b><br>Words: nypd, explosion, york, device, new",
          "<b>Topic 16</b><br>Words: nypd, york, currie, police, city",
          "<b>Topic 16</b><br>Words: taheb, nypd, edison, york, new"
         ],
         "marker": {
          "color": "#0072B2"
         },
         "mode": "lines",
         "name": "16_nypd_zazi_york_police",
         "x": [
          1982.0,
          1988.0,
          1992.0,
          1996.0,
          1998.0,
          2000.0,
          2002.0,
          2004.0,
          2006.0,
          2008.0,
          2010.0,
          2012.0,
          2014.0,
          2016.0,
          2018.0
         ],
         "y": [
          9.173470323823502E-6,
          1.1698095550044453E-5,
          3.403444285617044E-5,
          9.10912734560029E-6,
          7.470156723888067E-6,
          1.9607843137254903E-5,
          2.2704568159113613E-5,
          6.552551462731103E-5,
          5.035398853943221E-5,
          2.3978161428360632E-4,
          2.579694121982679E-4,
          1.3128774522675268E-4,
          6.266811928153412E-5,
          7.086167800453515E-5,
          2.727743883034342E-5
         ],
         "type": "scatter"
        },
        {
         "hoverinfo": "text",
         "hovertext": [
          "<b>Topic 23</b><br>Words: assad, syria, moslem, brotherhood, haig",
          "<b>Topic 23</b><br>Words: syria, marine, assad, gemayel, vice",
          "<b>Topic 23</b><br>Words: syria, assad, hindawi, damascus, israel",
          "<b>Topic 23</b><br>Words: syria, assad, damascus, jabril, bush",
          "<b>Topic 23</b><br>Words: syria, assad, baker, israel, peace",
          "<b>Topic 23</b><br>Words: syria, assad, clinton, peace, israel",
          "<b>Topic 23</b><br>Words: sharaa, syria, restart, hammer, clinton",
          "<b>Topic 23</b><br>Words: sharaa, syria, al, assad, confirm",
          "<b>Topic 23</b><br>Words: syria, assad, damascus, iraq, bashar",
          "<b>Topic 23</b><br>Words: syria, bus, assad, moallem, report",
          "<b>Topic 23</b><br>Words: syria, assad, damascus, opposition, regime",
          "<b>Topic 23</b><br>Words: syria, assad, opposition, damascus, talks",
          "<b>Topic 23</b><br>Words: syria, assad, russia, damascus, bashar",
          "<b>Topic 23</b><br>Words: syria, assad, russia, damascus, forces",
          "<b>Topic 23</b><br>Words: syria, refugee, assad, return, damascus"
         ],
         "marker": {
          "color": "#CC79A7"
         },
         "mode": "lines",
         "name": "23_syria_assad_damascus_israel",
         "x": [
          1979.96,
          1982.0,
          1984.0,
          1988.0,
          1990.0,
          1992.0,
          1998.0,
          2000.0,
          2002.0,
          2008.0,
          2010.0,
          2012.0,
          2014.0,
          2016.0,
          2018.0
         ],
         "y": [
          2.061472278763826E-5,
          1.8346940647647004E-5,
          1.55791788856305E-4,
          1.4037714660053343E-4,
          3.722315280104225E-5,
          2.6376693213532094E-4,
          7.470156723888067E-6,
          4.901960784313726E-6,
          3.6327309054581785E-5,
          9.222369780138705E-6,
          1.4741109268472452E-4,
          9.377696087625193E-5,
          5.7847494721416106E-5,
          1.2755102040816328E-4,
          9.092479610114475E-6
         ],
         "type": "scatter"
        },
        {
         "hoverinfo": "text",
         "hovertext": [
          "<b>Topic 24</b><br>Words: polisario, morocco, summit, oau, mengistu",
          "<b>Topic 24</b><br>Words: afl, liberia, harbel, ecomog, monrovia",
          "<b>Topic 24</b><br>Words: lago, nigeria, alake, ijewere, building",
          "<b>Topic 24</b><br>Words: nigeria, imagedata, election, adua, yar",
          "<b>Topic 24</b><br>Words: nigeria, goodluck, rttnew, delegation, holl",
          "<b>Topic 24</b><br>Words: nigeria, boko, haram, colloquium, achebe",
          "<b>Topic 24</b><br>Words: nigeria, boko, haram, africa, girl",
          "<b>Topic 24</b><br>Words: nigeria, boko, haram, buhari, conflict",
          "<b>Topic 24</b><br>Words: nigeria, haram, boko, buhari, buratai",
          "<b>Topic 24</b><br>Words: nigeria, haram, boko, buhari, thewill"
         ],
         "marker": {
          "color": "#E69F00"
         },
         "mode": "lines",
         "name": "24_nigeria_haram_boko_buhari",
         "x": [
          1982.0,
          1992.0,
          2002.0,
          2006.0,
          2008.0,
          2010.0,
          2012.0,
          2014.0,
          2016.0,
          2018.0
         ],
         "y": [
          9.173470323823502E-6,
          8.50861071404261E-6,
          4.540913631822723E-6,
          5.035398853943221E-6,
          4.6111848900693525E-6,
          1.8426386585590565E-5,
          7.033272065718894E-5,
          6.266811928153412E-5,
          1.889644746787604E-4,
          3.591529445995217E-4
         ],
         "type": "scatter"
        },
        {
         "hoverinfo": "text",
         "hovertext": [
          "<b>Topic 26</b><br>Words: hostage, iran, family, honsowitz, us",
          "<b>Topic 26</b><br>Words: embassy, marine, beirut, haig, personnel",
          "<b>Topic 26</b><br>Words: hostage, iran, lebanon, hijack, beirut",
          "<b>Topic 26</b><br>Words: hostage, iran, hamadei, lebanon, germany",
          "<b>Topic 26</b><br>Words: hostage, iran, obeid, kidnap, higgin",
          "<b>Topic 26</b><br>Words: hostage, iran, lebanon, turner, kidnap",
          "<b>Topic 26</b><br>Words: iran, eslam, hostage, ol, katzman",
          "<b>Topic 26</b><br>Words: cicippio, hostage, iran, lawsuit, court",
          "<b>Topic 26</b><br>Words: flatow, iran, hostage, alisa, damages",
          "<b>Topic 26</b><br>Words: iran, flatow, hostage, anderson, alisa",
          "<b>Topic 26</b><br>Words: hostage, iran, hegna, hijack, siege",
          "<b>Topic 26</b><br>Words: hostage, iran, laingen, embassy, needham",
          "<b>Topic 26</b><br>Words: iran, stethem, hostage, strachman, hamadi",
          "<b>Topic 26</b><br>Words: iran, hostage, victim, strachman, asset",
          "<b>Topic 26</b><br>Words: artifact, iran, tablet, hostage, persian",
          "<b>Topic 26</b><br>Words: ransom, hostage, pay, levitt, us",
          "<b>Topic 26</b><br>Words: hostage, iran, victim, kidnap, court",
          "<b>Topic 26</b><br>Words: iran, artifact, court, asset, victim",
          "<b>Topic 26</b><br>Words: luxembourg, iran, hostage, immune, victim"
         ],
         "marker": {
          "color": "#56B4E9"
         },
         "mode": "lines",
         "name": "26_hostage_iran_lebanon_kidnap",
         "x": [
          1979.96,
          1982.0,
          1984.0,
          1986.0,
          1988.0,
          1990.0,
          1992.0,
          1994.0,
          1996.0,
          1998.0,
          2000.0,
          2002.0,
          2004.0,
          2006.0,
          2010.0,
          2012.0,
          2014.0,
          2016.0,
          2018.0
         ],
         "y": [
          7.21515297567339E-5,
          9.173470323823502E-6,
          2.565982404692082E-4,
          2.453068918325716E-4,
          2.3396191100088904E-4,
          1.3028103480364786E-4,
          1.701722142808522E-5,
          9.644317568088882E-6,
          8.198214611040263E-5,
          1.1205235085832101E-4,
          1.4705882352941177E-5,
          1.3622740895468168E-5,
          1.0080848404201698E-5,
          2.5176994269716104E-5,
          9.213193292795283E-6,
          9.377696087625192E-6,
          3.856499648094407E-5,
          1.889644746787604E-5,
          1.818495922022895E-5
         ],
         "type": "scatter"
        },
        {
         "hoverinfo": "text",
         "hovertext": [
          "<b>Topic 28</b><br>Words: ireland, northern, ira, britain, ulster",
          "<b>Topic 28</b><br>Words: ireland, northern, ira, britain, extradite",
          "<b>Topic 28</b><br>Words: ireland, ira, northern, tyrie, archbishop",
          "<b>Topic 28</b><br>Words: ireland, ira, britain, northern, sinn",
          "<b>Topic 28</b><br>Words: ireland, northern, ira, ulster, aoh",
          "<b>Topic 28</b><br>Words: ireland, northern, ira, britain, protestant",
          "<b>Topic 28</b><br>Words: ireland, ira, northern, adams, britain",
          "<b>Topic 28</b><br>Words: ireland, ira, northern, sinn, fein",
          "<b>Topic 28</b><br>Words: ireland, ira, northern, britain, protestant",
          "<b>Topic 28</b><br>Words: ireland, ira, northern, dissident, protestant",
          "<b>Topic 28</b><br>Words: ireland, northern, ira, protestant, belfast",
          "<b>Topic 28</b><br>Words: mckevitt, ira, ireland, omagh, northern",
          "<b>Topic 28</b><br>Words: ireland, ira, northern, sinn, fein",
          "<b>Topic 28</b><br>Words: ireland, northern, ira, belfast, leavey",
          "<b>Topic 28</b><br>Words: ireland, ira, northern, king, duffy",
          "<b>Topic 28</b><br>Words: ireland, belfast, northern, ira, mabel",
          "<b>Topic 28</b><br>Words: ireland, mason, sasnett, chun, identity",
          "<b>Topic 28</b><br>Words: catholic, ireland, unionist, nationalist, britain",
          "<b>Topic 28</b><br>Words: mckee, ireland, ira, northern, lyra"
         ],
         "marker": {
          "color": "#009E73"
         },
         "mode": "lines",
         "name": "28_ireland_ira_northern_britain",
         "x": [
          1979.96,
          1982.0,
          1984.0,
          1986.0,
          1988.0,
          1990.0,
          1992.0,
          1994.0,
          1996.0,
          1998.0,
          2000.0,
          2002.0,
          2004.0,
          2008.0,
          2010.0,
          2012.0,
          2014.0,
          2016.0,
          2018.0
         ],
         "y": [
          3.092208418145739E-4,
          2.0181634712411706E-4,
          5.498533724340176E-5,
          9.03762233067369E-5,
          5.849047775022226E-5,
          6.514051740182393E-5,
          1.9569804642298005E-4,
          5.786590540853329E-5,
          6.376389141920204E-5,
          1.4940313447776135E-5,
          1.4705882352941177E-5,
          4.540913631822723E-6,
          3.5282969414705945E-5,
          9.222369780138705E-6,
          1.3819789939192925E-5,
          2.8133088262875578E-5,
          4.820624560118009E-6,
          4.72411186696901E-6,
          1.818495922022895E-5
         ],
         "type": "scatter"
        },
        {
         "hoverinfo": "text",
         "hovertext": [
          "<b>Topic 30</b><br>Words: turkey, armenia, ankara, demirel, ecevit",
          "<b>Topic 30</b><br>Words: armenia, turkey, turk, genocide, ankara",
          "<b>Topic 30</b><br>Words: turkey, rabin, shearith, istanbul, turkmen",
          "<b>Topic 30</b><br>Words: armenia, turkey, turk, ottoman, genocide",
          "<b>Topic 30</b><br>Words: turkey, kurdish, csce, ankara, austria",
          "<b>Topic 30</b><br>Words: turkey, kurdish, baskaya, kurd, village",
          "<b>Topic 30</b><br>Words: ocalan, turkey, italy, sezgin, kurdish",
          "<b>Topic 30</b><br>Words: turkey, ocalan, pkk, armenia, kurd",
          "<b>Topic 30</b><br>Words: turkey, incirlik, wolfowitz, iraq, northern",
          "<b>Topic 30</b><br>Words: turkey, istanbul, erdogan, armenia, turk",
          "<b>Topic 30</b><br>Words: turkey, pkk, ocalan, ankara, kurdistan",
          "<b>Topic 30</b><br>Words: turkey, kargin, dogan, istanbul, consulate",
          "<b>Topic 30</b><br>Words: turkey, pkk, erdogan, germany, juvenile",
          "<b>Topic 30</b><br>Words: turkey, kurdish, ankara, perry, pkk",
          "<b>Topic 30</b><br>Words: turkey, ankara, sanli, istanbul, dhkp",
          "<b>Topic 30</b><br>Words: turkey, erdogan, istanbul, kurdish, ankara",
          "<b>Topic 30</b><br>Words: turkey, erdogan, cumhuriyet, istanbul, brunson",
          "<b>Topic 30</b><br>Words: turkey, armenia, azerbaijan, istanbul, journalist"
         ],
         "marker": {
          "color": "#F0E442"
         },
         "mode": "lines",
         "name": "30_turkey_armenia_ankara_istanbul",
         "x": [
          1979.96,
          1982.0,
          1984.0,
          1986.0,
          1990.0,
          1992.0,
          1996.0,
          1998.0,
          2000.0,
          2002.0,
          2004.0,
          2006.0,
          2008.0,
          2010.0,
          2012.0,
          2014.0,
          2016.0,
          2018.0
         ],
         "y": [
          3.6075764878366954E-4,
          1.4677552518117603E-4,
          9.164222873900293E-6,
          2.5821778087639115E-5,
          1.8611576400521126E-5,
          1.701722142808522E-5,
          1.821825469120058E-5,
          4.4820940343328406E-5,
          4.901960784313726E-6,
          1.8163654527290892E-5,
          1.0080848404201698E-5,
          5.035398853943221E-6,
          1.3833554670208057E-5,
          1.3819789939192925E-5,
          5.6266176525751156E-5,
          1.0605374032259619E-4,
          8.030990173847316E-5,
          2.727743883034342E-5
         ],
         "type": "scatter"
        },
        {
         "hoverinfo": "text",
         "hovertext": [
          "<b>Topic 34</b><br>Words: hashemi, ayatollah, montazeri, trial, iran",
          "<b>Topic 34</b><br>Words: rahman, abdel, sheik, nosair, indict",
          "<b>Topic 34</b><br>Words: rahman, abdel, salem, sheik, defendant",
          "<b>Topic 34</b><br>Words: masri, britain, extradite, guidi, farahat",
          "<b>Topic 34</b><br>Words: yezza, hossain, sabir, nottingham, aref",
          "<b>Topic 34</b><br>Words: extradite, hamza, apo, rttnew, ahmad",
          "<b>Topic 34</b><br>Words: masri, extradite, mustafa, rahman, prosthetic",
          "<b>Topic 34</b><br>Words: khan, mustafa, nafi, rahman, abdel",
          "<b>Topic 34</b><br>Words: bangladesh, khan, singapore, rahman, dhaka",
          "<b>Topic 34</b><br>Words: bangladesh, ullah, rahman, abdel, dhaka",
          "<b>Topic 34</b><br>Words: khan, gaffar, bangladesh, ik, ahme"
         ],
         "marker": {
          "color": "#D55E00"
         },
         "mode": "lines",
         "name": "34_rahman_abdel_sheik_masri",
         "x": [
          1986.0,
          1992.0,
          1994.0,
          2002.0,
          2006.0,
          2008.0,
          2010.0,
          2012.0,
          2014.0,
          2016.0,
          2018.0
         ],
         "y": [
          2.5821778087639115E-5,
          2.8078415356340615E-4,
          1.8324203379368876E-4,
          1.3622740895468168E-5,
          1.0070797707886442E-5,
          1.3833554670208057E-5,
          1.1516491615994104E-4,
          7.971041674481413E-5,
          2.4103122800590046E-5,
          2.834467120181406E-5,
          1.818495922022895E-5
         ],
         "type": "scatter"
        },
        {
         "hoverinfo": "text",
         "hovertext": [
          "<b>Topic 47</b><br>Words: boston, turner, marketing, tsarnaev, device",
          "<b>Topic 47</b><br>Words: tsarnaev, boston, marathon, tamerlan, russia",
          "<b>Topic 47</b><br>Words: boston, tsarnaev, marathon, burke, bomber",
          "<b>Topic 47</b><br>Words: ciccolo, boston, bauman, tsarnaev, marathon",
          "<b>Topic 47</b><br>Words: tsarnaev, boston, tamerlan, marathon, wray"
         ],
         "marker": {
          "color": "#0072B2"
         },
         "mode": "lines",
         "name": "47_tsarnaev_boston_marathon_tamerlan",
         "x": [
          2006.0,
          2012.0,
          2014.0,
          2016.0,
          2018.0
         ],
         "y": [
          1.5106196561829663E-5,
          4.3137402003075884E-4,
          9.641249120236018E-6,
          1.417233560090703E-5,
          9.092479610114475E-6
         ],
         "type": "scatter"
        },
        {
         "hoverinfo": "text",
         "hovertext": [
          "<b>Topic 50</b><br>Words: italy, brigade, red, rome, moro",
          "<b>Topic 50</b><br>Words: italy, brigade, red, dozy, rome",
          "<b>Topic 50</b><br>Words: italy, craxi, brigade, red, libya",
          "<b>Topic 50</b><br>Words: italy, brigade, red, moro, priore",
          "<b>Topic 50</b><br>Words: italy, ustica, bologna, cossiga, dietrologia",
          "<b>Topic 50</b><br>Words: curcio, italy, brigade, mafia, falcone",
          "<b>Topic 50</b><br>Words: italy, mafia, florence, spadolini, brigade",
          "<b>Topic 50</b><br>Words: italy, brigade, red, antona, berlusconi",
          "<b>Topic 50</b><br>Words: sembler, italy, negri, brigade, berlusconi",
          "<b>Topic 50</b><br>Words: italy, milan, brigade, kidnap, moro",
          "<b>Topic 50</b><br>Words: italy, nasr, milan, pollari, brigade",
          "<b>Topic 50</b><br>Words: italy, milan, anarchist, rome, nasr",
          "<b>Topic 50</b><br>Words: italy, brindisi, school, mafia, rome",
          "<b>Topic 50</b><br>Words: italy, panama, lady, seldon, costa",
          "<b>Topic 50</b><br>Words: renzi, italy, europe, matteo, investment",
          "<b>Topic 50</b><br>Words: italy, migrant, ibtah, capsize, rescue"
         ],
         "marker": {
          "color": "#CC79A7"
         },
         "mode": "lines",
         "name": "50_italy_brigade_red_rome",
         "x": [
          1979.96,
          1982.0,
          1984.0,
          1986.0,
          1988.0,
          1990.0,
          1992.0,
          2000.0,
          2002.0,
          2004.0,
          2006.0,
          2008.0,
          2010.0,
          2012.0,
          2014.0,
          2016.0
         ],
         "y": [
          3.813723715713078E-4,
          2.7520410971470506E-5,
          8.247800586510264E-5,
          3.873266713145867E-5,
          1.1698095550044453E-5,
          1.8611576400521126E-5,
          5.1051664284255664E-5,
          4.901960784313726E-6,
          9.081827263645446E-6,
          4.536381781890764E-5,
          2.5176994269716104E-5,
          1.844473956027741E-5,
          2.3032983231988207E-5,
          1.8755392175250383E-5,
          4.820624560118009E-6,
          4.72411186696901E-6
         ],
         "type": "scatter"
        },
        {
         "hoverinfo": "text",
         "hovertext": [
          "<b>Topic 53</b><br>Words: chile, salvador, nicaragua, honduras, salvadoran",
          "<b>Topic 53</b><br>Words: nicaragua, salvador, salvadoran, chile, el",
          "<b>Topic 53</b><br>Words: nicaragua, salvador, salvadoran, duarte, sandinista",
          "<b>Topic 53</b><br>Words: contra, chile, nicaragua, chelala, vicaria",
          "<b>Topic 53</b><br>Words: chile, salvador, risk, grape, salvadoran",
          "<b>Topic 53</b><br>Words: chile, pinochet, aylwin, nicaragua, salvador",
          "<b>Topic 53</b><br>Words: nicaragua, dollar, castro, cuba, us",
          "<b>Topic 53</b><br>Words: oas, venezuela, powell, barbados, reich",
          "<b>Topic 53</b><br>Words: mapuche, chile, pinochet, nicaragua, mapudungun",
          "<b>Topic 53</b><br>Words: nicaragua, missile, contra, sandinista, destroy",
          "<b>Topic 53</b><br>Words: salvadoran, salvador, suchitoto, saca, el",
          "<b>Topic 53</b><br>Words: chile, khan, bg, ips, nicaragua",
          "<b>Topic 53</b><br>Words: mapuche, chile, luchsinger, catrileo, pinera",
          "<b>Topic 53</b><br>Words: mapuche, chile, araucania, bachelet, indigenous"
         ],
         "marker": {
          "color": "#E69F00"
         },
         "mode": "lines",
         "name": "53_nicaragua_salvador_chile_salvadoran",
         "x": [
          1979.96,
          1982.0,
          1984.0,
          1986.0,
          1988.0,
          1990.0,
          1992.0,
          2000.0,
          2002.0,
          2004.0,
          2006.0,
          2008.0,
          2012.0,
          2016.0
         ],
         "y": [
          2.576840348454782E-4,
          3.027245206861756E-4,
          8.247800586510264E-5,
          2.5821778087639115E-5,
          3.509428665013336E-5,
          3.722315280104225E-5,
          8.50861071404261E-6,
          4.901960784313726E-6,
          4.540913631822723E-6,
          5.040424202100849E-6,
          2.0141595415772885E-5,
          1.3833554670208057E-5,
          4.688848043812596E-6,
          4.72411186696901E-6
         ],
         "type": "scatter"
        },
        {
         "hoverinfo": "text",
         "hovertext": [
          "<b>Topic 54</b><br>Words: scowcroft, chemical, ashcroft, proposal, weapon",
          "<b>Topic 54</b><br>Words: ashcroft, fbi, attorney, justice, general",
          "<b>Topic 54</b><br>Words: ashcroft, general, attorney, fbi, justice",
          "<b>Topic 54</b><br>Words: ashcroft, gonzale, patriot, attorney, general",
          "<b>Topic 54</b><br>Words: ashcroft, waterboard, gonzale, approve, mueller",
          "<b>Topic 54</b><br>Words: ashcroft, kidd, witness, ridge, material",
          "<b>Topic 54</b><br>Words: kidd, ashcroft, witness, material, hussayen"
         ],
         "marker": {
          "color": "#56B4E9"
         },
         "mode": "lines",
         "name": "54_ashcroft_kidd_fbi_attorney",
         "x": [
          1988.0,
          2000.0,
          2002.0,
          2004.0,
          2006.0,
          2008.0,
          2010.0
         ],
         "y": [
          1.1698095550044453E-5,
          1.96078431372549E-4,
          1.407683225865044E-4,
          2.5202121010504243E-5,
          5.035398853943221E-6,
          9.222369780138705E-6,
          2.3032983231988207E-5
         ],
         "type": "scatter"
        },
        {
         "hoverinfo": "text",
         "hovertext": [
          "<b>Topic 56</b><br>Words: clinton, iraq, saddam, missile, hussein",
          "<b>Topic 56</b><br>Words: clinton, summit, iran, economic, president",
          "<b>Topic 56</b><br>Words: clinton, president, computer, laden, bin",
          "<b>Topic 56</b><br>Words: clinton, computer, chemical, biological, weapon",
          "<b>Topic 56</b><br>Words: sheik, omar, clinton, chirac, nuclear"
         ],
         "marker": {
          "color": "#009E73"
         },
         "mode": "lines",
         "name": "56_clinton_president_computer_bomb",
         "x": [
          1992.0,
          1994.0,
          1996.0,
          1998.0,
          2004.0
         ],
         "y": [
          7.65774964263835E-5,
          2.5075225677031093E-4,
          2.7327382036800875E-4,
          1.1952250758220908E-4,
          1.0080848404201698E-5
         ],
         "type": "scatter"
        },
        {
         "hoverinfo": "text",
         "hovertext": [
          "<b>Topic 58</b><br>Words: hagan, campaign, trump, candidate, republican",
          "<b>Topic 58</b><br>Words: trump, clinton, candidate, republican, cruz",
          "<b>Topic 58</b><br>Words: trump, call, gun, muslim, gunman",
          "<b>Topic 58</b><br>Words: trump, gun, kenosha, shoot, white"
         ],
         "marker": {
          "color": "#F0E442"
         },
         "mode": "lines",
         "name": "58_trump_clinton_republican_candidate",
         "x": [
          2012.0,
          2014.0,
          2016.0,
          2018.0
         ],
         "y": [
          4.688848043812596E-6,
          2.795962244868445E-4,
          2.834467120181406E-5,
          7.27398368809158E-5
         ],
         "type": "scatter"
        },
        {
         "hoverinfo": "text",
         "hovertext": [
          "<b>Topic 86</b><br>Words: mahoney, ratshot, saudi, deputy, shoot",
          "<b>Topic 86</b><br>Words: dive, scuba, hurin, instructor, kolko",
          "<b>Topic 86</b><br>Words: pensacola, saudi, shoot, naval, alshamrani"
         ],
         "marker": {
          "color": "#D55E00"
         },
         "mode": "lines",
         "name": "86_pensacola_saudi_shoot_naval",
         "x": [
          1990.0,
          2006.0,
          2018.0
         ],
         "y": [
          1.8611576400521126E-5,
          5.035398853943221E-6,
          1.954883116174612E-4
         ],
         "type": "scatter"
        },
        {
         "hoverinfo": "text",
         "hovertext": [
          "<b>Topic 88</b><br>Words: ryan, penalty, illinois, governor, death",
          "<b>Topic 88</b><br>Words: illinois, ryan, grady, penalty, library",
          "<b>Topic 88</b><br>Words: veteran, terek, illinois, ryan, eligible",
          "<b>Topic 88</b><br>Words: penalty, death, punishment, connecticut, ryan",
          "<b>Topic 88</b><br>Words: illinois, cadigan, lang, ryan, skokie"
         ],
         "marker": {
          "color": "#0072B2"
         },
         "mode": "lines",
         "name": "88_ryan_penalty_illinois_death",
         "x": [
          2000.0,
          2004.0,
          2008.0,
          2010.0,
          2016.0
         ],
         "y": [
          1.8627450980392157E-4,
          1.0080848404201698E-5,
          4.6111848900693525E-6,
          4.606596646397641E-6,
          9.44822373393802E-6
         ],
         "type": "scatter"
        },
        {
         "hoverinfo": "text",
         "hovertext": [
          "<b>Topic 89</b><br>Words: ressam, algeria, canada, arrest, explosive",
          "<b>Topic 89</b><br>Words: ressam, meskini, algeria, canada, seattle",
          "<b>Topic 89</b><br>Words: lng, tanker, markey, boston, connection",
          "<b>Topic 89</b><br>Words: ressam, coughenour, hilly, judge, algeria"
         ],
         "marker": {
          "color": "#CC79A7"
         },
         "mode": "lines",
         "name": "89_ressam_algeria_canada_arrest",
         "x": [
          1998.0,
          2000.0,
          2002.0,
          2004.0
         ],
         "y": [
          2.763957987838585E-4,
          1.9607843137254903E-5,
          4.540913631822723E-6,
          5.040424202100849E-6
         ],
         "type": "scatter"
        }
       ],
       "layout": {
        "template": {
         "data": {
          "barpolar": [
           {
            "marker": {
             "line": {
              "color": "white",
              "width": 0.5
             },
             "pattern": {
              "fillmode": "overlay",
              "size": 10,
              "solidity": 0.2
             }
            },
            "type": "barpolar"
           }
          ],
          "bar": [
           {
            "error_x": {
             "color": "rgb(36,36,36)"
            },
            "error_y": {
             "color": "rgb(36,36,36)"
            },
            "marker": {
             "line": {
              "color": "white",
              "width": 0.5
             },
             "pattern": {
              "fillmode": "overlay",
              "size": 10,
              "solidity": 0.2
             }
            },
            "type": "bar"
           }
          ],
          "carpet": [
           {
            "aaxis": {
             "endlinecolor": "rgb(36,36,36)",
             "gridcolor": "white",
             "linecolor": "white",
             "minorgridcolor": "white",
             "startlinecolor": "rgb(36,36,36)"
            },
            "baxis": {
             "endlinecolor": "rgb(36,36,36)",
             "gridcolor": "white",
             "linecolor": "white",
             "minorgridcolor": "white",
             "startlinecolor": "rgb(36,36,36)"
            },
            "type": "carpet"
           }
          ],
          "choropleth": [
           {
            "colorbar": {
             "outlinewidth": 1,
             "tickcolor": "rgb(36,36,36)",
             "ticks": "outside"
            },
            "type": "choropleth"
           }
          ],
          "contourcarpet": [
           {
            "colorbar": {
             "outlinewidth": 1,
             "tickcolor": "rgb(36,36,36)",
             "ticks": "outside"
            },
            "type": "contourcarpet"
           }
          ],
          "contour": [
           {
            "colorbar": {
             "outlinewidth": 1,
             "tickcolor": "rgb(36,36,36)",
             "ticks": "outside"
            },
            "colorscale": [
             [
              0.0,
              "#440154"
             ],
             [
              0.1111111111111111,
              "#482878"
             ],
             [
              0.2222222222222222,
              "#3e4989"
             ],
             [
              0.3333333333333333,
              "#31688e"
             ],
             [
              0.4444444444444444,
              "#26828e"
             ],
             [
              0.5555555555555556,
              "#1f9e89"
             ],
             [
              0.6666666666666666,
              "#35b779"
             ],
             [
              0.7777777777777778,
              "#6ece58"
             ],
             [
              0.8888888888888888,
              "#b5de2b"
             ],
             [
              1.0,
              "#fde725"
             ]
            ],
            "type": "contour"
           }
          ],
          "heatmapgl": [
           {
            "colorbar": {
             "outlinewidth": 1,
             "tickcolor": "rgb(36,36,36)",
             "ticks": "outside"
            },
            "colorscale": [
             [
              0.0,
              "#440154"
             ],
             [
              0.1111111111111111,
              "#482878"
             ],
             [
              0.2222222222222222,
              "#3e4989"
             ],
             [
              0.3333333333333333,
              "#31688e"
             ],
             [
              0.4444444444444444,
              "#26828e"
             ],
             [
              0.5555555555555556,
              "#1f9e89"
             ],
             [
              0.6666666666666666,
              "#35b779"
             ],
             [
              0.7777777777777778,
              "#6ece58"
             ],
             [
              0.8888888888888888,
              "#b5de2b"
             ],
             [
              1.0,
              "#fde725"
             ]
            ],
            "type": "heatmapgl"
           }
          ],
          "heatmap": [
           {
            "colorbar": {
             "outlinewidth": 1,
             "tickcolor": "rgb(36,36,36)",
             "ticks": "outside"
            },
            "colorscale": [
             [
              0.0,
              "#440154"
             ],
             [
              0.1111111111111111,
              "#482878"
             ],
             [
              0.2222222222222222,
              "#3e4989"
             ],
             [
              0.3333333333333333,
              "#31688e"
             ],
             [
              0.4444444444444444,
              "#26828e"
             ],
             [
              0.5555555555555556,
              "#1f9e89"
             ],
             [
              0.6666666666666666,
              "#35b779"
             ],
             [
              0.7777777777777778,
              "#6ece58"
             ],
             [
              0.8888888888888888,
              "#b5de2b"
             ],
             [
              1.0,
              "#fde725"
             ]
            ],
            "type": "heatmap"
           }
          ],
          "histogram2dcontour": [
           {
            "colorbar": {
             "outlinewidth": 1,
             "tickcolor": "rgb(36,36,36)",
             "ticks": "outside"
            },
            "colorscale": [
             [
              0.0,
              "#440154"
             ],
             [
              0.1111111111111111,
              "#482878"
             ],
             [
              0.2222222222222222,
              "#3e4989"
             ],
             [
              0.3333333333333333,
              "#31688e"
             ],
             [
              0.4444444444444444,
              "#26828e"
             ],
             [
              0.5555555555555556,
              "#1f9e89"
             ],
             [
              0.6666666666666666,
              "#35b779"
             ],
             [
              0.7777777777777778,
              "#6ece58"
             ],
             [
              0.8888888888888888,
              "#b5de2b"
             ],
             [
              1.0,
              "#fde725"
             ]
            ],
            "type": "histogram2dcontour"
           }
          ],
          "histogram2d": [
           {
            "colorbar": {
             "outlinewidth": 1,
             "tickcolor": "rgb(36,36,36)",
             "ticks": "outside"
            },
            "colorscale": [
             [
              0.0,
              "#440154"
             ],
             [
              0.1111111111111111,
              "#482878"
             ],
             [
              0.2222222222222222,
              "#3e4989"
             ],
             [
              0.3333333333333333,
              "#31688e"
             ],
             [
              0.4444444444444444,
              "#26828e"
             ],
             [
              0.5555555555555556,
              "#1f9e89"
             ],
             [
              0.6666666666666666,
              "#35b779"
             ],
             [
              0.7777777777777778,
              "#6ece58"
             ],
             [
              0.8888888888888888,
              "#b5de2b"
             ],
             [
              1.0,
              "#fde725"
             ]
            ],
            "type": "histogram2d"
           }
          ],
          "histogram": [
           {
            "marker": {
             "line": {
              "color": "white",
              "width": 0.6
             }
            },
            "type": "histogram"
           }
          ],
          "mesh3d": [
           {
            "colorbar": {
             "outlinewidth": 1,
             "tickcolor": "rgb(36,36,36)",
             "ticks": "outside"
            },
            "type": "mesh3d"
           }
          ],
          "parcoords": [
           {
            "line": {
             "colorbar": {
              "outlinewidth": 1,
              "tickcolor": "rgb(36,36,36)",
              "ticks": "outside"
             }
            },
            "type": "parcoords"
           }
          ],
          "pie": [
           {
            "automargin": true,
            "type": "pie"
           }
          ],
          "scatter3d": [
           {
            "line": {
             "colorbar": {
              "outlinewidth": 1,
              "tickcolor": "rgb(36,36,36)",
              "ticks": "outside"
             }
            },
            "marker": {
             "colorbar": {
              "outlinewidth": 1,
              "tickcolor": "rgb(36,36,36)",
              "ticks": "outside"
             }
            },
            "type": "scatter3d"
           }
          ],
          "scattercarpet": [
           {
            "marker": {
             "colorbar": {
              "outlinewidth": 1,
              "tickcolor": "rgb(36,36,36)",
              "ticks": "outside"
             }
            },
            "type": "scattercarpet"
           }
          ],
          "scattergeo": [
           {
            "marker": {
             "colorbar": {
              "outlinewidth": 1,
              "tickcolor": "rgb(36,36,36)",
              "ticks": "outside"
             }
            },
            "type": "scattergeo"
           }
          ],
          "scattergl": [
           {
            "marker": {
             "colorbar": {
              "outlinewidth": 1,
              "tickcolor": "rgb(36,36,36)",
              "ticks": "outside"
             }
            },
            "type": "scattergl"
           }
          ],
          "scattermapbox": [
           {
            "marker": {
             "colorbar": {
              "outlinewidth": 1,
              "tickcolor": "rgb(36,36,36)",
              "ticks": "outside"
             }
            },
            "type": "scattermapbox"
           }
          ],
          "scatterpolargl": [
           {
            "marker": {
             "colorbar": {
              "outlinewidth": 1,
              "tickcolor": "rgb(36,36,36)",
              "ticks": "outside"
             }
            },
            "type": "scatterpolargl"
           }
          ],
          "scatterpolar": [
           {
            "marker": {
             "colorbar": {
              "outlinewidth": 1,
              "tickcolor": "rgb(36,36,36)",
              "ticks": "outside"
             }
            },
            "type": "scatterpolar"
           }
          ],
          "scatter": [
           {
            "fillpattern": {
             "fillmode": "overlay",
             "size": 10,
             "solidity": 0.2
            },
            "type": "scatter"
           }
          ],
          "scatterternary": [
           {
            "marker": {
             "colorbar": {
              "outlinewidth": 1,
              "tickcolor": "rgb(36,36,36)",
              "ticks": "outside"
             }
            },
            "type": "scatterternary"
           }
          ],
          "surface": [
           {
            "colorbar": {
             "outlinewidth": 1,
             "tickcolor": "rgb(36,36,36)",
             "ticks": "outside"
            },
            "colorscale": [
             [
              0.0,
              "#440154"
             ],
             [
              0.1111111111111111,
              "#482878"
             ],
             [
              0.2222222222222222,
              "#3e4989"
             ],
             [
              0.3333333333333333,
              "#31688e"
             ],
             [
              0.4444444444444444,
              "#26828e"
             ],
             [
              0.5555555555555556,
              "#1f9e89"
             ],
             [
              0.6666666666666666,
              "#35b779"
             ],
             [
              0.7777777777777778,
              "#6ece58"
             ],
             [
              0.8888888888888888,
              "#b5de2b"
             ],
             [
              1.0,
              "#fde725"
             ]
            ],
            "type": "surface"
           }
          ],
          "table": [
           {
            "cells": {
             "fill": {
              "color": "rgb(237,237,237)"
             },
             "line": {
              "color": "white"
             }
            },
            "header": {
             "fill": {
              "color": "rgb(217,217,217)"
             },
             "line": {
              "color": "white"
             }
            },
            "type": "table"
           }
          ]
         },
         "layout": {
          "annotationdefaults": {
           "arrowhead": 0,
           "arrowwidth": 1
          },
          "autotypenumbers": "strict",
          "coloraxis": {
           "colorbar": {
            "outlinewidth": 1,
            "tickcolor": "rgb(36,36,36)",
            "ticks": "outside"
           }
          },
          "colorscale": {
           "diverging": [
            [
             0.0,
             "rgb(103,0,31)"
            ],
            [
             0.1,
             "rgb(178,24,43)"
            ],
            [
             0.2,
             "rgb(214,96,77)"
            ],
            [
             0.3,
             "rgb(244,165,130)"
            ],
            [
             0.4,
             "rgb(253,219,199)"
            ],
            [
             0.5,
             "rgb(247,247,247)"
            ],
            [
             0.6,
             "rgb(209,229,240)"
            ],
            [
             0.7,
             "rgb(146,197,222)"
            ],
            [
             0.8,
             "rgb(67,147,195)"
            ],
            [
             0.9,
             "rgb(33,102,172)"
            ],
            [
             1.0,
             "rgb(5,48,97)"
            ]
           ],
           "sequential": [
            [
             0.0,
             "#440154"
            ],
            [
             0.1111111111111111,
             "#482878"
            ],
            [
             0.2222222222222222,
             "#3e4989"
            ],
            [
             0.3333333333333333,
             "#31688e"
            ],
            [
             0.4444444444444444,
             "#26828e"
            ],
            [
             0.5555555555555556,
             "#1f9e89"
            ],
            [
             0.6666666666666666,
             "#35b779"
            ],
            [
             0.7777777777777778,
             "#6ece58"
            ],
            [
             0.8888888888888888,
             "#b5de2b"
            ],
            [
             1.0,
             "#fde725"
            ]
           ],
           "sequentialminus": [
            [
             0.0,
             "#440154"
            ],
            [
             0.1111111111111111,
             "#482878"
            ],
            [
             0.2222222222222222,
             "#3e4989"
            ],
            [
             0.3333333333333333,
             "#31688e"
            ],
            [
             0.4444444444444444,
             "#26828e"
            ],
            [
             0.5555555555555556,
             "#1f9e89"
            ],
            [
             0.6666666666666666,
             "#35b779"
            ],
            [
             0.7777777777777778,
             "#6ece58"
            ],
            [
             0.8888888888888888,
             "#b5de2b"
            ],
            [
             1.0,
             "#fde725"
            ]
           ]
          },
          "colorway": [
           "#1F77B4",
           "#FF7F0E",
           "#2CA02C",
           "#D62728",
           "#9467BD",
           "#8C564B",
           "#E377C2",
           "#7F7F7F",
           "#BCBD22",
           "#17BECF"
          ],
          "font": {
           "color": "rgb(36,36,36)"
          },
          "geo": {
           "bgcolor": "white",
           "lakecolor": "white",
           "landcolor": "white",
           "showlakes": true,
           "showland": true,
           "subunitcolor": "white"
          },
          "hoverlabel": {
           "align": "left"
          },
          "hovermode": "closest",
          "mapbox": {
           "style": "light"
          },
          "paper_bgcolor": "white",
          "plot_bgcolor": "white",
          "polar": {
           "angularaxis": {
            "gridcolor": "rgb(232,232,232)",
            "linecolor": "rgb(36,36,36)",
            "showgrid": false,
            "showline": true,
            "ticks": "outside"
           },
           "bgcolor": "white",
           "radialaxis": {
            "gridcolor": "rgb(232,232,232)",
            "linecolor": "rgb(36,36,36)",
            "showgrid": false,
            "showline": true,
            "ticks": "outside"
           }
          },
          "scene": {
           "xaxis": {
            "backgroundcolor": "white",
            "gridcolor": "rgb(232,232,232)",
            "gridwidth": 2,
            "linecolor": "rgb(36,36,36)",
            "showbackground": true,
            "showgrid": false,
            "showline": true,
            "ticks": "outside",
            "zeroline": false,
            "zerolinecolor": "rgb(36,36,36)"
           },
           "yaxis": {
            "backgroundcolor": "white",
            "gridcolor": "rgb(232,232,232)",
            "gridwidth": 2,
            "linecolor": "rgb(36,36,36)",
            "showbackground": true,
            "showgrid": false,
            "showline": true,
            "ticks": "outside",
            "zeroline": false,
            "zerolinecolor": "rgb(36,36,36)"
           },
           "zaxis": {
            "backgroundcolor": "white",
            "gridcolor": "rgb(232,232,232)",
            "gridwidth": 2,
            "linecolor": "rgb(36,36,36)",
            "showbackground": true,
            "showgrid": false,
            "showline": true,
            "ticks": "outside",
            "zeroline": false,
            "zerolinecolor": "rgb(36,36,36)"
           }
          },
          "shapedefaults": {
           "fillcolor": "black",
           "line": {
            "width": 0
           },
           "opacity": 0.3
          },
          "ternary": {
           "aaxis": {
            "gridcolor": "rgb(232,232,232)",
            "linecolor": "rgb(36,36,36)",
            "showgrid": false,
            "showline": true,
            "ticks": "outside"
           },
           "baxis": {
            "gridcolor": "rgb(232,232,232)",
            "linecolor": "rgb(36,36,36)",
            "showgrid": false,
            "showline": true,
            "ticks": "outside"
           },
           "bgcolor": "white",
           "caxis": {
            "gridcolor": "rgb(232,232,232)",
            "linecolor": "rgb(36,36,36)",
            "showgrid": false,
            "showline": true,
            "ticks": "outside"
           }
          },
          "title": {
           "x": 0.05
          },
          "xaxis": {
           "automargin": true,
           "gridcolor": "rgb(232,232,232)",
           "linecolor": "rgb(36,36,36)",
           "showgrid": false,
           "showline": true,
           "ticks": "outside",
           "title": {
            "standoff": 15
           },
           "zeroline": false,
           "zerolinecolor": "rgb(36,36,36)"
          },
          "yaxis": {
           "automargin": true,
           "gridcolor": "rgb(232,232,232)",
           "linecolor": "rgb(36,36,36)",
           "showgrid": false,
           "showline": true,
           "ticks": "outside",
           "title": {
            "standoff": 15
           },
           "zeroline": false,
           "zerolinecolor": "rgb(36,36,36)"
          }
         }
        },
        "xaxis": {
         "showgrid": true
        },
        "yaxis": {
         "showgrid": true,
         "title": {
          "text": "Frequency"
         }
        },
        "title": {
         "font": {
          "size": 22,
          "color": "Black"
         },
         "text": "<b>Topics over Time</b>",
         "y": 0.95,
         "x": 0.4,
         "xanchor": "center",
         "yanchor": "top"
        },
        "hoverlabel": {
         "font": {
          "size": 16,
          "family": "Rockwell"
         },
         "bgcolor": "white"
        },
        "width": 1200,
        "height": 800,
        "legend": {
         "title": {
          "text": "<b>Global Topic Representation"
         }
        }
       },
       "config": {
        "plotlyServerURL": "https://plot.ly"
       }
      },
      "text/html": "<div>                            <div id=\"416b916d-31ff-44f1-a531-043d043663fe\" class=\"plotly-graph-div\" style=\"height:800px; width:1200px;\"></div>            <script type=\"text/javascript\">                require([\"plotly\"], function(Plotly) {                    window.PLOTLYENV=window.PLOTLYENV || {};                                    if (document.getElementById(\"416b916d-31ff-44f1-a531-043d043663fe\")) {                    Plotly.newPlot(                        \"416b916d-31ff-44f1-a531-043d043663fe\",                        [{\"hoverinfo\":\"text\",\"hovertext\":[\"\\u003cb\\u003eTopic 0\\u003c\\u002fb\\u003e\\u003cbr\\u003eWords: israel, palestinian, arab, lebanon, arafat\",\"\\u003cb\\u003eTopic 0\\u003c\\u002fb\\u003e\\u003cbr\\u003eWords: israel, arab, palestinian, jewish, bank\",\"\\u003cb\\u003eTopic 0\\u003c\\u002fb\\u003e\\u003cbr\\u003eWords: israel, palestinian, arafat, arab, peace\",\"\\u003cb\\u003eTopic 0\\u003c\\u002fb\\u003e\\u003cbr\\u003eWords: arafat, israel, palestinian, plo, peace\",\"\\u003cb\\u003eTopic 0\\u003c\\u002fb\\u003e\\u003cbr\\u003eWords: israel, plo, palestinian, arafat, palestine\",\"\\u003cb\\u003eTopic 0\\u003c\\u002fb\\u003e\\u003cbr\\u003eWords: israel, arab, plo, palestinian, arafat\",\"\\u003cb\\u003eTopic 0\\u003c\\u002fb\\u003e\\u003cbr\\u003eWords: israel, palestinian, arafat, peace, plo\",\"\\u003cb\\u003eTopic 0\\u003c\\u002fb\\u003e\\u003cbr\\u003eWords: israel, palestinian, peace, arafat, hama\",\"\\u003cb\\u003eTopic 0\\u003c\\u002fb\\u003e\\u003cbr\\u003eWords: israel, palestinian, netanyahu, arafat, peace\",\"\\u003cb\\u003eTopic 0\\u003c\\u002fb\\u003e\\u003cbr\\u003eWords: israel, palestinian, peace, arafat, arab\",\"\\u003cb\\u003eTopic 0\\u003c\\u002fb\\u003e\\u003cbr\\u003eWords: israel, palestinian, arafat, sharon, peace\",\"\\u003cb\\u003eTopic 0\\u003c\\u002fb\\u003e\\u003cbr\\u003eWords: israel, palestinian, arafat, peace, hama\",\"\\u003cb\\u003eTopic 0\\u003c\\u002fb\\u003e\\u003cbr\\u003eWords: israel, palestinian, hama, arafat, arab\",\"\\u003cb\\u003eTopic 0\\u003c\\u002fb\\u003e\\u003cbr\\u003eWords: israel, palestinian, hama, peace, arab\",\"\\u003cb\\u003eTopic 0\\u003c\\u002fb\\u003e\\u003cbr\\u003eWords: israel, palestinian, hama, gaza, arab\",\"\\u003cb\\u003eTopic 0\\u003c\\u002fb\\u003e\\u003cbr\\u003eWords: israel, palestinian, hama, peace, gaza\",\"\\u003cb\\u003eTopic 0\\u003c\\u002fb\\u003e\\u003cbr\\u003eWords: israel, palestinian, hama, peace, gaza\",\"\\u003cb\\u003eTopic 0\\u003c\\u002fb\\u003e\\u003cbr\\u003eWords: israel, palestinian, jewish, netanyahu, arab\",\"\\u003cb\\u003eTopic 0\\u003c\\u002fb\\u003e\\u003cbr\\u003eWords: israel, palestinian, hama, gaza, peace\",\"\\u003cb\\u003eTopic 0\\u003c\\u002fb\\u003e\\u003cbr\\u003eWords: israel, palestinian, uliel, hama, jewish\"],\"marker\":{\"color\":\"#E69F00\"},\"mode\":\"lines\",\"name\":\"0_israel_palestinian_arafat_peace\",\"x\":[1979.96,1982.0,1984.0,1986.0,1988.0,1990.0,1992.0,1994.0,1996.0,1998.0,2000.0,2002.0,2004.0,2006.0,2008.0,2010.0,2012.0,2014.0,2016.0,2018.0],\"y\":[0.0005772122380538712,0.0004311531052197046,0.00037573313782991204,0.0006068117850595192,0.0009709419306536895,0.00013028103480364786,0.0008508610714042611,0.0009354988041046215,0.0006922936782656221,0.00022410470171664202,0.0005245098039215687,0.0003451094360185269,0.00045867860239117727,0.0002416991449892746,0.00014294673159214992,0.0001888704625023033,0.0002531977943658802,0.00013979811224342224,0.0001984126984126984,9.547103590620198e-05],\"type\":\"scatter\"},{\"hoverinfo\":\"text\",\"hovertext\":[\"\\u003cb\\u003eTopic 1\\u003c\\u002fb\\u003e\\u003cbr\\u003eWords: naxalite, zia, pakistan, landless, hijack\",\"\\u003cb\\u003eTopic 1\\u003c\\u002fb\\u003e\\u003cbr\\u003eWords: sikh, punjab, gandhi, india, pakistan\",\"\\u003cb\\u003eTopic 1\\u003c\\u002fb\\u003e\\u003cbr\\u003eWords: sikh, pakistan, india, gandhi, minister\",\"\\u003cb\\u003eTopic 1\\u003c\\u002fb\\u003e\\u003cbr\\u003eWords: sikh, ribeiro, punjab, pakistan, gandhi\",\"\\u003cb\\u003eTopic 1\\u003c\\u002fb\\u003e\\u003cbr\\u003eWords: sikh, hindu, punjab, singh, village\",\"\\u003cb\\u003eTopic 1\\u003c\\u002fb\\u003e\\u003cbr\\u003eWords: gandhi, indian, pakistan, assassinate, punjab\",\"\\u003cb\\u003eTopic 1\\u003c\\u002fb\\u003e\\u003cbr\\u003eWords: pakistan, india, fuqra, indian, islamabad\",\"\\u003cb\\u003eTopic 1\\u003c\\u002fb\\u003e\\u003cbr\\u003eWords: pakistan, yousef, sandhu, bhutto, india\",\"\\u003cb\\u003eTopic 1\\u003c\\u002fb\\u003e\\u003cbr\\u003eWords: pakistan, sharif, kasi, india, mir\",\"\\u003cb\\u003eTopic 1\\u003c\\u002fb\\u003e\\u003cbr\\u003eWords: pakistan, india, kashmir, indian, musharraf\",\"\\u003cb\\u003eTopic 1\\u003c\\u002fb\\u003e\\u003cbr\\u003eWords: pakistan, india, kashmir, indian, musharraf\",\"\\u003cb\\u003eTopic 1\\u003c\\u002fb\\u003e\\u003cbr\\u003eWords: pakistan, musharraf, macedonia, india, afghanistan\",\"\\u003cb\\u003eTopic 1\\u003c\\u002fb\\u003e\\u003cbr\\u003eWords: pakistan, india, musharraf, indian, mumbai\",\"\\u003cb\\u003eTopic 1\\u003c\\u002fb\\u003e\\u003cbr\\u003eWords: pakistan, india, musharraf, indian, mumbai\",\"\\u003cb\\u003eTopic 1\\u003c\\u002fb\\u003e\\u003cbr\\u003eWords: pakistan, india, mumbai, indian, apo\",\"\\u003cb\\u003eTopic 1\\u003c\\u002fb\\u003e\\u003cbr\\u003eWords: pakistan, india, indian, afghanistan, islamabad\",\"\\u003cb\\u003eTopic 1\\u003c\\u002fb\\u003e\\u003cbr\\u003eWords: pakistan, india, sharif, taliban, afghanistan\",\"\\u003cb\\u003eTopic 1\\u003c\\u002fb\\u003e\\u003cbr\\u003eWords: pakistan, india, taliban, indian, militant\",\"\\u003cb\\u003eTopic 1\\u003c\\u002fb\\u003e\\u003cbr\\u003eWords: pakistan, india, indian, kashmir, afghanistan\",\"\\u003cb\\u003eTopic 1\\u003c\\u002fb\\u003e\\u003cbr\\u003eWords: pakistan, india, indian, modi, kashmir\"],\"marker\":{\"color\":\"#56B4E9\"},\"mode\":\"lines\",\"name\":\"1_pakistan_india_indian_kashmir\",\"x\":[1979.96,1982.0,1984.0,1986.0,1988.0,1990.0,1992.0,1994.0,1996.0,1998.0,2000.0,2002.0,2004.0,2006.0,2008.0,2010.0,2012.0,2014.0,2016.0,2018.0],\"y\":[4.122944557527652e-05,0.00014677552518117603,4.5821114369501466e-05,5.164355617527823e-05,3.509428665013336e-05,9.305788200260563e-06,5.9560274998298275e-05,4.822158784044441e-05,4.554563672800146e-05,0.00023904501516441816,0.00021568627450980392,7.719553174098628e-05,0.00016633399866932801,0.0007150266372599373,0.000747011952191235,0.0003224617652478349,0.0002578866424096928,9.159186664224217e-05,0.0006802721088435374,0.0006364735727080132],\"type\":\"scatter\"},{\"hoverinfo\":\"text\",\"hovertext\":[\"\\u003cb\\u003eTopic 2\\u003c\\u002fb\\u003e\\u003cbr\\u003eWords: iraq, baghdad, hussein, azzawi, iran\",\"\\u003cb\\u003eTopic 2\\u003c\\u002fb\\u003e\\u003cbr\\u003eWords: iraq, us, formal, resumption, tie\",\"\\u003cb\\u003eTopic 2\\u003c\\u002fb\\u003e\\u003cbr\\u003eWords: iraq, saddam, bush, hussein, kuwait\",\"\\u003cb\\u003eTopic 2\\u003c\\u002fb\\u003e\\u003cbr\\u003eWords: iraq, saddam, bush, kuwait, hussein\",\"\\u003cb\\u003eTopic 2\\u003c\\u002fb\\u003e\\u003cbr\\u003eWords: iraq, kuwait, saddam, bush, united\",\"\\u003cb\\u003eTopic 2\\u003c\\u002fb\\u003e\\u003cbr\\u003eWords: laden, bin, gum, iraq, arabic\",\"\\u003cb\\u003eTopic 2\\u003c\\u002fb\\u003e\\u003cbr\\u003eWords: laden, bin, uzbekistan, clarke, iran\",\"\\u003cb\\u003eTopic 2\\u003c\\u002fb\\u003e\\u003cbr\\u003eWords: laden, bush, bin, iraq, war\",\"\\u003cb\\u003eTopic 2\\u003c\\u002fb\\u003e\\u003cbr\\u003eWords: bush, iraq, clarke, war, al\",\"\\u003cb\\u003eTopic 2\\u003c\\u002fb\\u003e\\u003cbr\\u003eWords: iraq, bush, war, al, laden\",\"\\u003cb\\u003eTopic 2\\u003c\\u002fb\\u003e\\u003cbr\\u003eWords: iraq, obama, al, bush, war\",\"\\u003cb\\u003eTopic 2\\u003c\\u002fb\\u003e\\u003cbr\\u003eWords: obama, iraq, bush, al, war\",\"\\u003cb\\u003eTopic 2\\u003c\\u002fb\\u003e\\u003cbr\\u003eWords: laden, bin, al, obama, qaida\",\"\\u003cb\\u003eTopic 2\\u003c\\u002fb\\u003e\\u003cbr\\u003eWords: obama, iraq, al, war, bush\",\"\\u003cb\\u003eTopic 2\\u003c\\u002fb\\u003e\\u003cbr\\u003eWords: obama, iraq, islam, president, war\",\"\\u003cb\\u003eTopic 2\\u003c\\u002fb\\u003e\\u003cbr\\u003eWords: lone, wolf, soufan, obama, iraq\",\"\\u003cb\\u003eTopic 2\\u003c\\u002fb\\u003e\\u003cbr\\u003eWords: al, qaeda, masri, iraq, bin\"],\"marker\":{\"color\":\"#009E73\"},\"mode\":\"lines\",\"name\":\"2_iraq_bush_obama_laden\",\"x\":[1979.96,1982.0,1988.0,1990.0,1992.0,1996.0,1998.0,2000.0,2002.0,2004.0,2006.0,2008.0,2010.0,2012.0,2014.0,2016.0,2018.0],\"y\":[2.061472278763826e-05,9.173470323823502e-06,0.00014037714660053343,0.00011166945840312674,5.1051664284255664e-05,0.00011841865549280378,5.229109706721647e-05,0.0003480392156862745,0.0006311869948233585,0.0004536381781890764,0.00029708853238265005,0.00021211450494319022,0.00046987285793255944,0.00032353051502306916,0.0003181612209677886,3.306878306878307e-05,7.27398368809158e-05],\"type\":\"scatter\"},{\"hoverinfo\":\"text\",\"hovertext\":[\"\\u003cb\\u003eTopic 3\\u003c\\u002fb\\u003e\\u003cbr\\u003eWords: thatch, dallas, tenant, lunceford, mr\",\"\\u003cb\\u003eTopic 3\\u003c\\u002fb\\u003e\\u003cbr\\u003eWords: insurance, coverage, risk, company, manager\",\"\\u003cb\\u003eTopic 3\\u003c\\u002fb\\u003e\\u003cbr\\u003eWords: risk, coverage, underwriter, insurance, rate\",\"\\u003cb\\u003eTopic 3\\u003c\\u002fb\\u003e\\u003cbr\\u003eWords: pool, insurance, coverage, insurer, risk\",\"\\u003cb\\u003eTopic 3\\u003c\\u002fb\\u003e\\u003cbr\\u003eWords: reinsure, insurance, pool, coverage, insurer\",\"\\u003cb\\u003eTopic 3\\u003c\\u002fb\\u003e\\u003cbr\\u003eWords: pool, insurance, coverage, risk, reinsure\",\"\\u003cb\\u003eTopic 3\\u003c\\u002fb\\u003e\\u003cbr\\u003eWords: risk, pool, insurance, coverage, rate\",\"\\u003cb\\u003eTopic 3\\u003c\\u002fb\\u003e\\u003cbr\\u003eWords: insurance, coverage, insurer, risk, reinsure\",\"\\u003cb\\u003eTopic 3\\u003c\\u002fb\\u003e\\u003cbr\\u003eWords: insurance, coverage, risk, insurer, tria\",\"\\u003cb\\u003eTopic 3\\u003c\\u002fb\\u003e\\u003cbr\\u003eWords: insurance, tria, risk, insurer, coverage\",\"\\u003cb\\u003eTopic 3\\u003c\\u002fb\\u003e\\u003cbr\\u003eWords: insurance, risk, coverage, insurer, backstop\",\"\\u003cb\\u003eTopic 3\\u003c\\u002fb\\u003e\\u003cbr\\u003eWords: insurance, backstop, insurer, risk, coverage\",\"\\u003cb\\u003eTopic 3\\u003c\\u002fb\\u003e\\u003cbr\\u003eWords: insurance, risk, insurer, coverage, backstop\",\"\\u003cb\\u003eTopic 3\\u003c\\u002fb\\u003e\\u003cbr\\u003eWords: insurance, risk, insurer, tria, coverage\",\"\\u003cb\\u003eTopic 3\\u003c\\u002fb\\u003e\\u003cbr\\u003eWords: insurance, coverage, risk, tria, market\",\"\\u003cb\\u003eTopic 3\\u003c\\u002fb\\u003e\\u003cbr\\u003eWords: insurance, coverage, insurer, risk, art\",\"\\u003cb\\u003eTopic 3\\u003c\\u002fb\\u003e\\u003cbr\\u003eWords: insurance, risk, business, insurer, coverage\"],\"marker\":{\"color\":\"#F0E442\"},\"mode\":\"lines\",\"name\":\"3_insurance_coverage_risk_insurer\",\"x\":[1984.0,1988.0,1990.0,1992.0,1994.0,1996.0,1998.0,2000.0,2002.0,2004.0,2006.0,2008.0,2010.0,2012.0,2014.0,2016.0,2018.0],\"y\":[9.164222873900293e-06,3.509428665013336e-05,0.0001209752466033873,0.00012762916071063917,2.8932952704266646e-05,2.7327382036800874e-05,1.4940313447776135e-05,0.0004950980392156863,0.0004995004995004995,0.0006854976914857154,0.00044311509914700343,5.533421868083223e-05,8.752533628155519e-05,0.0003704189954611951,7.230936840177014e-05,2.362055933484505e-05,8.183231649103027e-05],\"type\":\"scatter\"},{\"hoverinfo\":\"text\",\"hovertext\":[\"\\u003cb\\u003eTopic 4\\u003c\\u002fb\\u003e\\u003cbr\\u003eWords: denton, senator, casey, amato, search\",\"\\u003cb\\u003eTopic 4\\u003c\\u002fb\\u003e\\u003cbr\\u003eWords: marijuana, legalize, drug, narcodollar, farmer\",\"\\u003cb\\u003eTopic 4\\u003c\\u002fb\\u003e\\u003cbr\\u003eWords: cispe, investigate, inquiry, monitor, report\",\"\\u003cb\\u003eTopic 4\\u003c\\u002fb\\u003e\\u003cbr\\u003eWords: proposal, bill, control, democratic, bush\",\"\\u003cb\\u003eTopic 4\\u003c\\u002fb\\u003e\\u003cbr\\u003eWords: taggant, gunpowder, nra, explosive, schumer\",\"\\u003cb\\u003eTopic 4\\u003c\\u002fb\\u003e\\u003cbr\\u003eWords: bill, clinton, wiretap, house, senate\",\"\\u003cb\\u003eTopic 4\\u003c\\u002fb\\u003e\\u003cbr\\u003eWords: specter, subcommittee, committee, idaho, judiciary\",\"\\u003cb\\u003eTopic 4\\u003c\\u002fb\\u003e\\u003cbr\\u003eWords: reepe, clinton, gore, sex, dummy\",\"\\u003cb\\u003eTopic 4\\u003c\\u002fb\\u003e\\u003cbr\\u003eWords: bill, senate, house, legislation, wiretap\",\"\\u003cb\\u003eTopic 4\\u003c\\u002fb\\u003e\\u003cbr\\u003eWords: patriot, act, liberties, law, civil\",\"\\u003cb\\u003eTopic 4\\u003c\\u002fb\\u003e\\u003cbr\\u003eWords: patriot, act, law, provisions, bill\",\"\\u003cb\\u003eTopic 4\\u003c\\u002fb\\u003e\\u003cbr\\u003eWords: senate, act, law, bill, wiretap\",\"\\u003cb\\u003eTopic 4\\u003c\\u002fb\\u003e\\u003cbr\\u003eWords: miranda, law, rights, shahzad, patriot\",\"\\u003cb\\u003eTopic 4\\u003c\\u002fb\\u003e\\u003cbr\\u003eWords: surveillance, liberties, patriot, act, law\",\"\\u003cb\\u003eTopic 4\\u003c\\u002fb\\u003e\\u003cbr\\u003eWords: nsa, surveillance, phone, snowden, data\",\"\\u003cb\\u003eTopic 4\\u003c\\u002fb\\u003e\\u003cbr\\u003eWords: percent, encryption, surveillance, protect, liberties\",\"\\u003cb\\u003eTopic 4\\u003c\\u002fb\\u003e\\u003cbr\\u003eWords: notification, snowden, bill, patriot, intercept\",\"\\u003cb\\u003eTopic 4\\u003c\\u002fb\\u003e\\u003cbr\\u003eWords: surveillance, patriot, act, fisa, bill\"],\"marker\":{\"color\":\"#D55E00\"},\"mode\":\"lines\",\"name\":\"4_bill_patriot_act_senate\",\"x\":[1979.96,1982.0,1988.0,1990.0,1992.0,1994.0,1996.0,1998.0,2000.0,2002.0,2004.0,2006.0,2008.0,2010.0,2012.0,2014.0,2016.0,2018.0],\"y\":[2.061472278763826e-05,9.173470323823502e-06,1.1698095550044453e-05,9.305788200260563e-06,1.701722142808522e-05,0.0014466476352133324,3.643650938240116e-05,7.470156723888067e-06,0.00015686274509803922,0.000163472890745618,0.00029234460372184925,8.056638166309154e-05,0.0001337243618120112,0.0001243781094527363,0.0002813308826287558,7.712999296188814e-05,2.834467120181406e-05,7.27398368809158e-05],\"type\":\"scatter\"},{\"hoverinfo\":\"text\",\"hovertext\":[\"\\u003cb\\u003eTopic 5\\u003c\\u002fb\\u003e\\u003cbr\\u003eWords: britain, london, yard, pertini, police\",\"\\u003cb\\u003eTopic 5\\u003c\\u002fb\\u003e\\u003cbr\\u003eWords: britain, london, accompany, prime, minister\",\"\\u003cb\\u003eTopic 5\\u003c\\u002fb\\u003e\\u003cbr\\u003eWords: treaty, extradite, britain, thatch, ira\",\"\\u003cb\\u003eTopic 5\\u003c\\u002fb\\u003e\\u003cbr\\u003eWords: miasmic, theory, remedial, must, omnipresent\",\"\\u003cb\\u003eTopic 5\\u003c\\u002fb\\u003e\\u003cbr\\u003eWords: lectern, yard, churchill, coleman, plastic\",\"\\u003cb\\u003eTopic 5\\u003c\\u002fb\\u003e\\u003cbr\\u003eWords: london, britain, ira, station, ireland\",\"\\u003cb\\u003eTopic 5\\u003c\\u002fb\\u003e\\u003cbr\\u003eWords: london, tucker, risk, business, britain\",\"\\u003cb\\u003eTopic 5\\u003c\\u002fb\\u003e\\u003cbr\\u003eWords: britain, ireland, london, vigilance, briton\",\"\\u003cb\\u003eTopic 5\\u003c\\u002fb\\u003e\\u003cbr\\u003eWords: blair, britain, omagh, ireland, london\",\"\\u003cb\\u003eTopic 5\\u003c\\u002fb\\u003e\\u003cbr\\u003eWords: london, tower, wellington, perry, britain\",\"\\u003cb\\u003eTopic 5\\u003c\\u002fb\\u003e\\u003cbr\\u003eWords: blair, preston, britain, london, attack\",\"\\u003cb\\u003eTopic 5\\u003c\\u002fb\\u003e\\u003cbr\\u003eWords: britain, london, blair, police, arrest\",\"\\u003cb\\u003eTopic 5\\u003c\\u002fb\\u003e\\u003cbr\\u003eWords: britain, london, blair, police, attack\",\"\\u003cb\\u003eTopic 5\\u003c\\u002fb\\u003e\\u003cbr\\u003eWords: britain, london, brown, blair, police\",\"\\u003cb\\u003eTopic 5\\u003c\\u002fb\\u003e\\u003cbr\\u003eWords: britain, london, manningham, police, men\",\"\\u003cb\\u003eTopic 5\\u003c\\u002fb\\u003e\\u003cbr\\u003eWords: britain, london, police, arrest, games\",\"\\u003cb\\u003eTopic 5\\u003c\\u002fb\\u003e\\u003cbr\\u003eWords: britain, london, cameron, police, rigby\",\"\\u003cb\\u003eTopic 5\\u003c\\u002fb\\u003e\\u003cbr\\u003eWords: london, britain, police, knife, attack\",\"\\u003cb\\u003eTopic 5\\u003c\\u002fb\\u003e\\u003cbr\\u003eWords: london, britain, police, parliament, attack\",\"\\u003cb\\u003eTopic 5\\u003c\\u002fb\\u003e\\u003cbr\\u003eWords: london, britain, police, stabbing, khan\"],\"marker\":{\"color\":\"#0072B2\"},\"mode\":\"lines\",\"name\":\"5_britain_london_police_blair\",\"x\":[1979.96,1982.0,1984.0,1986.0,1988.0,1990.0,1992.0,1994.0,1996.0,1998.0,2000.0,2002.0,2004.0,2006.0,2008.0,2010.0,2012.0,2014.0,2016.0,2018.0],\"y\":[1.030736139381913e-05,1.8346940647647004e-05,1.8328445747800586e-05,1.2910889043819557e-05,1.1698095550044453e-05,5.583472920156337e-05,3.403444285617044e-05,1.9288635136177764e-05,3.643650938240116e-05,1.4940313447776135e-05,2.4509803921568626e-05,9.535918626827718e-05,0.0005846892074436985,0.00023162834728138816,0.00010605725247159511,8.752533628155519e-05,0.0001172212010953149,0.00012051561400295022,0.0003873771730914588,0.00022731199025286187],\"type\":\"scatter\"},{\"hoverinfo\":\"text\",\"hovertext\":[\"\\u003cb\\u003eTopic 6\\u003c\\u002fb\\u003e\\u003cbr\\u003eWords: iran, reagan, soviet, haig, intelligence\",\"\\u003cb\\u003eTopic 6\\u003c\\u002fb\\u003e\\u003cbr\\u003eWords: reagan, iran, lebanon, soviet, administration\",\"\\u003cb\\u003eTopic 6\\u003c\\u002fb\\u003e\\u003cbr\\u003eWords: iran, reagan, soviet, administration, mr\",\"\\u003cb\\u003eTopic 6\\u003c\\u002fb\\u003e\\u003cbr\\u003eWords: iran, reagan, ledeen, soviet, gulf\",\"\\u003cb\\u003eTopic 6\\u003c\\u002fb\\u003e\\u003cbr\\u003eWords: iran, rushdie, khomeini, ayatollah, mfn\",\"\\u003cb\\u003eTopic 6\\u003c\\u002fb\\u003e\\u003cbr\\u003eWords: iran, rushdie, reagan, soviet, rafsanjani\",\"\\u003cb\\u003eTopic 6\\u003c\\u002fb\\u003e\\u003cbr\\u003eWords: iran, mojahedin, mujahedeen, kharrazi, tehran\",\"\\u003cb\\u003eTopic 6\\u003c\\u002fb\\u003e\\u003cbr\\u003eWords: iran, dhahran, gingrich, behind, velayati\",\"\\u003cb\\u003eTopic 6\\u003c\\u002fb\\u003e\\u003cbr\\u003eWords: iran, khatami, tehran, sanction, reagan\",\"\\u003cb\\u003eTopic 6\\u003c\\u002fb\\u003e\\u003cbr\\u003eWords: iran, khatami, behbahani, guidelines, ayatollah\",\"\\u003cb\\u003eTopic 6\\u003c\\u002fb\\u003e\\u003cbr\\u003eWords: iran, khamenei, khatami, reagan, bush\",\"\\u003cb\\u003eTopic 6\\u003c\\u002fb\\u003e\\u003cbr\\u003eWords: iran, ebadi, sapphire, rights, prize\",\"\\u003cb\\u003eTopic 6\\u003c\\u002fb\\u003e\\u003cbr\\u003eWords: iran, nuclear, rushdie, ahmadinejad, apostolou\",\"\\u003cb\\u003eTopic 6\\u003c\\u002fb\\u003e\\u003cbr\\u003eWords: iran, ahmadinejad, bank, nuclear, guard\",\"\\u003cb\\u003eTopic 6\\u003c\\u002fb\\u003e\\u003cbr\\u003eWords: iran, shourd, philpot, sanction, nuclear\",\"\\u003cb\\u003eTopic 6\\u003c\\u002fb\\u003e\\u003cbr\\u003eWords: iran, nuclear, mek, sanction, mousavian\",\"\\u003cb\\u003eTopic 6\\u003c\\u002fb\\u003e\\u003cbr\\u003eWords: iran, rouhani, nuclear, sanction, tehran\",\"\\u003cb\\u003eTopic 6\\u003c\\u002fb\\u003e\\u003cbr\\u003eWords: iran, sanction, nuclear, deal, reagan\",\"\\u003cb\\u003eTopic 6\\u003c\\u002fb\\u003e\\u003cbr\\u003eWords: iran, sanction, deal, rouhani, trump\",\"\\u003cb\\u003eTopic 6\\u003c\\u002fb\\u003e\\u003cbr\\u003eWords: iran, sanction, bolton, trump, tanker\"],\"marker\":{\"color\":\"#CC79A7\"},\"mode\":\"lines\",\"name\":\"6_iran_reagan_sanction_nuclear\",\"x\":[1979.96,1982.0,1984.0,1986.0,1988.0,1990.0,1992.0,1994.0,1996.0,1998.0,2000.0,2002.0,2004.0,2006.0,2008.0,2010.0,2012.0,2014.0,2016.0,2018.0],\"y\":[0.000319528203208393,0.0002843775800385286,0.0004032258064516129,0.00020657422470111292,0.00012867905105048898,0.00013958682300390843,6.806888571234089e-05,0.00014466476352133323,0.00011841865549280378,3.735078361944033e-05,2.9411764705882354e-05,2.2704568159113613e-05,7.056593882941189e-05,8.056638166309154e-05,5.533421868083223e-05,0.00010134512622074811,3.282193630668817e-05,0.00013497748768330424,0.00010393046107331821,0.00019094207181240397],\"type\":\"scatter\"},{\"hoverinfo\":\"text\",\"hovertext\":[\"\\u003cb\\u003eTopic 7\\u003c\\u002fb\\u003e\\u003cbr\\u003eWords: taheri, fundamentalism, islam, shah, muslim\",\"\\u003cb\\u003eTopic 7\\u003c\\u002fb\\u003e\\u003cbr\\u003eWords: turabi, fundamentalism, islam, muslim, mistrust\",\"\\u003cb\\u003eTopic 7\\u003c\\u002fb\\u003e\\u003cbr\\u003eWords: muslim, islam, religion, mosque, smith\",\"\\u003cb\\u003eTopic 7\\u003c\\u002fb\\u003e\\u003cbr\\u003eWords: asahara, truth, supreme, takagi, muslim\",\"\\u003cb\\u003eTopic 7\\u003c\\u002fb\\u003e\\u003cbr\\u003eWords: muslim, islam, safdar, aboushi, religion\",\"\\u003cb\\u003eTopic 7\\u003c\\u002fb\\u003e\\u003cbr\\u003eWords: islam, muslim, coleman, quote, aljumai\",\"\\u003cb\\u003eTopic 7\\u003c\\u002fb\\u003e\\u003cbr\\u003eWords: muslim, islam, religion, mumtaz, religious\",\"\\u003cb\\u003eTopic 7\\u003c\\u002fb\\u003e\\u003cbr\\u003eWords: muslim, islam, religion, coulter, mosque\",\"\\u003cb\\u003eTopic 7\\u003c\\u002fb\\u003e\\u003cbr\\u003eWords: muslim, islam, fatwa, religion, america\",\"\\u003cb\\u003eTopic 7\\u003c\\u002fb\\u003e\\u003cbr\\u003eWords: muslim, islam, fascism, islamo, horowitz\",\"\\u003cb\\u003eTopic 7\\u003c\\u002fb\\u003e\\u003cbr\\u003eWords: muslim, islam, religion, america, rauf\",\"\\u003cb\\u003eTopic 7\\u003c\\u002fb\\u003e\\u003cbr\\u003eWords: muslim, king, islam, hearing, america\",\"\\u003cb\\u003eTopic 7\\u003c\\u002fb\\u003e\\u003cbr\\u003eWords: muslim, islam, religion, gel, community\",\"\\u003cb\\u003eTopic 7\\u003c\\u002fb\\u003e\\u003cbr\\u003eWords: muslim, islam, religion, twitter, faith\",\"\\u003cb\\u003eTopic 7\\u003c\\u002fb\\u003e\\u003cbr\\u003eWords: muslim, google, islam, content, youtube\",\"\\u003cb\\u003eTopic 7\\u003c\\u002fb\\u003e\\u003cbr\\u003eWords: muslim, facebook, islam, religion, content\"],\"marker\":{\"color\":\"#E69F00\"},\"mode\":\"lines\",\"name\":\"7_muslim_islam_religion_america\",\"x\":[1986.0,1990.0,1992.0,1994.0,1996.0,1998.0,2000.0,2002.0,2004.0,2006.0,2008.0,2010.0,2012.0,2014.0,2016.0,2018.0],\"y\":[1.2910889043819557e-05,9.305788200260563e-06,6.806888571234089e-05,1.9288635136177764e-05,4.554563672800146e-05,7.470156723888067e-06,7.352941176470588e-05,4.5409136318227226e-05,0.0002066573922861348,0.00015106196561829664,9.68348826914564e-05,0.0002763957987838585,0.00010784350500768971,0.00033744371920826064,0.00011337868480725624,9.547103590620198e-05],\"type\":\"scatter\"},{\"hoverinfo\":\"text\",\"hovertext\":[\"\\u003cb\\u003eTopic 8\\u003c\\u002fb\\u003e\\u003cbr\\u003eWords: libya, qaddafi, colonel, oil, reagan\",\"\\u003cb\\u003eTopic 8\\u003c\\u002fb\\u003e\\u003cbr\\u003eWords: libya, qaddafi, malta, britain, colonel\",\"\\u003cb\\u003eTopic 8\\u003c\\u002fb\\u003e\\u003cbr\\u003eWords: libya, qaddafi, reagan, colonel, europe\",\"\\u003cb\\u003eTopic 8\\u003c\\u002fb\\u003e\\u003cbr\\u003eWords: libya, qaddafi, chad, colonel, tripoli\",\"\\u003cb\\u003eTopic 8\\u003c\\u002fb\\u003e\\u003cbr\\u003eWords: libya, qaddafi, gadhafi, weapon, chemical\",\"\\u003cb\\u003eTopic 8\\u003c\\u002fb\\u003e\\u003cbr\\u003eWords: libya, pan, council, qaddafi, gadhafi\",\"\\u003cb\\u003eTopic 8\\u003c\\u002fb\\u003e\\u003cbr\\u003eWords: libya, gadhafi, qaddafi, sanction, clinton\",\"\\u003cb\\u003eTopic 8\\u003c\\u002fb\\u003e\\u003cbr\\u003eWords: libya, farrakhan, international, studeman, qaddafi\",\"\\u003cb\\u003eTopic 8\\u003c\\u002fb\\u003e\\u003cbr\\u003eWords: libya, laden, bin, bomb, qaddafi\",\"\\u003cb\\u003eTopic 8\\u003c\\u002fb\\u003e\\u003cbr\\u003eWords: libya, qaddafi, sanction, tripoli, pan\",\"\\u003cb\\u003eTopic 8\\u003c\\u002fb\\u003e\\u003cbr\\u003eWords: libya, kusa, pan, gadhafi, qaddafi\",\"\\u003cb\\u003eTopic 8\\u003c\\u002fb\\u003e\\u003cbr\\u003eWords: libya, gadhafi, report, international, attack\",\"\\u003cb\\u003eTopic 8\\u003c\\u002fb\\u003e\\u003cbr\\u003eWords: libya, gadhafi, qaddafi, tripoli, diplomatic\",\"\\u003cb\\u003eTopic 8\\u003c\\u002fb\\u003e\\u003cbr\\u003eWords: libya, qaddafi, gadhafi, tripoli, pan\",\"\\u003cb\\u003eTopic 8\\u003c\\u002fb\\u003e\\u003cbr\\u003eWords: libya, megrahi, gadhafi, brown, scotland\",\"\\u003cb\\u003eTopic 8\\u003c\\u002fb\\u003e\\u003cbr\\u003eWords: libya, qaddafi, gadhafi, megrahi, colonel\",\"\\u003cb\\u003eTopic 8\\u003c\\u002fb\\u003e\\u003cbr\\u003eWords: libya, hifter, iep, tripoli, gadhafi\",\"\\u003cb\\u003eTopic 8\\u003c\\u002fb\\u003e\\u003cbr\\u003eWords: libya, oil, gazzini, kaidanow, isi\",\"\\u003cb\\u003eTopic 8\\u003c\\u002fb\\u003e\\u003cbr\\u003eWords: libya, kreindler, qaddafi, report, attack\",\"\\u003cb\\u003eTopic 8\\u003c\\u002fb\\u003e\\u003cbr\\u003eWords: libya, mas, ud, hifter, dornstein\"],\"marker\":{\"color\":\"#56B4E9\"},\"mode\":\"lines\",\"name\":\"8_libya_qaddafi_gadhafi_colonel\",\"x\":[1979.96,1982.0,1984.0,1986.0,1988.0,1990.0,1992.0,1994.0,1996.0,1998.0,2000.0,2002.0,2004.0,2006.0,2008.0,2010.0,2012.0,2014.0,2016.0,2018.0],\"y\":[0.000319528203208393,0.00011008164388588202,0.000687316715542522,0.00014201977948201513,0.00010528285995040007,0.00033500837520938025,8.508610714042611e-05,3.857727027235553e-05,0.000218619056294407,0.0001344628210299852,3.431372549019608e-05,3.178639542275906e-05,6.552551462731103e-05,0.00010574337593280764,3.227829423048547e-05,5.988575640316934e-05,2.8133088262875578e-05,9.641249120236018e-06,3.306878306878307e-05,5.000863785562961e-05],\"type\":\"scatter\"},{\"hoverinfo\":\"text\",\"hovertext\":[\"\\u003cb\\u003eTopic 10\\u003c\\u002fb\\u003e\\u003cbr\\u003eWords: trial, libya, qaddafi, guantanamo, detainee\",\"\\u003cb\\u003eTopic 10\\u003c\\u002fb\\u003e\\u003cbr\\u003eWords: guantanamo, detainee, pentagon, court, tribunal\",\"\\u003cb\\u003eTopic 10\\u003c\\u002fb\\u003e\\u003cbr\\u003eWords: guantanamo, detainee, court, prisoner, military\",\"\\u003cb\\u003eTopic 10\\u003c\\u002fb\\u003e\\u003cbr\\u003eWords: guantanamo, detainee, hamdan, court, trial\",\"\\u003cb\\u003eTopic 10\\u003c\\u002fb\\u003e\\u003cbr\\u003eWords: guantanamo, detainee, obama, trial, prison\",\"\\u003cb\\u003eTopic 10\\u003c\\u002fb\\u003e\\u003cbr\\u003eWords: guantanamo, detainee, trial, court, prison\",\"\\u003cb\\u003eTopic 10\\u003c\\u002fb\\u003e\\u003cbr\\u003eWords: guantanamo, detainee, libi, ruqai, transfer\",\"\\u003cb\\u003eTopic 10\\u003c\\u002fb\\u003e\\u003cbr\\u003eWords: detainee, guantanamo, prisoner, court, obama\",\"\\u003cb\\u003eTopic 10\\u003c\\u002fb\\u003e\\u003cbr\\u003eWords: guantanamo, detainee, namo, guant, court\",\"\\u003cb\\u003eTopic 10\\u003c\\u002fb\\u003e\\u003cbr\\u003eWords: guantanamo, detainee, prisoner, trial, prison\"],\"marker\":{\"color\":\"#009E73\"},\"mode\":\"lines\",\"name\":\"10_guantanamo_detainee_trial_court\",\"x\":[1998.0,2002.0,2004.0,2006.0,2008.0,2010.0,2012.0,2014.0,2016.0,2018.0],\"y\":[1.4940313447776135e-05,4.5409136318227226e-05,9.576805983991613e-05,0.00025680534155110427,0.00038272834587575624,0.00019808365579509858,0.0001172212010953149,2.4103122800590046e-05,8.030990173847316e-05,3.63699184404579e-05],\"type\":\"scatter\"},{\"hoverinfo\":\"text\",\"hovertext\":[\"\\u003cb\\u003eTopic 11\\u003c\\u002fb\\u003e\\u003cbr\\u003eWords: klan, hine, wilkinson, klansmen, civiletti\",\"\\u003cb\\u003eTopic 11\\u003c\\u002fb\\u003e\\u003cbr\\u003eWords: clinic, abortion, webster, bureau, violence\",\"\\u003cb\\u003eTopic 11\\u003c\\u002fb\\u003e\\u003cbr\\u003eWords: abortion, clinic, bureau, radford, wattleton\",\"\\u003cb\\u003eTopic 11\\u003c\\u002fb\\u003e\\u003cbr\\u003eWords: hate, crime, victim, illinois, gay\",\"\\u003cb\\u003eTopic 11\\u003c\\u002fb\\u003e\\u003cbr\\u003eWords: homosexual, contrary, grave, forbidden, morally\",\"\\u003cb\\u003eTopic 11\\u003c\\u002fb\\u003e\\u003cbr\\u003eWords: abortion, clinic, doctor, gunn, shoot\",\"\\u003cb\\u003eTopic 11\\u003c\\u002fb\\u003e\\u003cbr\\u003eWords: clinic, abortion, taggant, crime, church\",\"\\u003cb\\u003eTopic 11\\u003c\\u002fb\\u003e\\u003cbr\\u003eWords: abortion, clinic, hate, violence, crime\",\"\\u003cb\\u003eTopic 11\\u003c\\u002fb\\u003e\\u003cbr\\u003eWords: abortion, sebunya, kalex, clinic, dutch\",\"\\u003cb\\u003eTopic 11\\u003c\\u002fb\\u003e\\u003cbr\\u003eWords: abortion, life, clinic, ordinance, pro\",\"\\u003cb\\u003eTopic 11\\u003c\\u002fb\\u003e\\u003cbr\\u003eWords: kopp, abortion, slepian, hughes, marusak\",\"\\u003cb\\u003eTopic 11\\u003c\\u002fb\\u003e\\u003cbr\\u003eWords: lynch, lincoln, klan, confederate, landrieu\",\"\\u003cb\\u003eTopic 11\\u003c\\u002fb\\u003e\\u003cbr\\u003eWords: abortion, key, ray, exhibit, rayproject\",\"\\u003cb\\u003eTopic 11\\u003c\\u002fb\\u003e\\u003cbr\\u003eWords: abortion, tiller, hogan, shoot, clinic\",\"\\u003cb\\u003eTopic 11\\u003c\\u002fb\\u003e\\u003cbr\\u003eWords: crow, abortion, loughner, gun, shoot\",\"\\u003cb\\u003eTopic 11\\u003c\\u002fb\\u003e\\u003cbr\\u003eWords: shoot, gilley, gun, violence, abortion\",\"\\u003cb\\u003eTopic 11\\u003c\\u002fb\\u003e\\u003cbr\\u003eWords: shoot, parenthood, abortion, dear, clinic\",\"\\u003cb\\u003eTopic 11\\u003c\\u002fb\\u003e\\u003cbr\\u003eWords: shoot, white, abortion, trump, paddock\",\"\\u003cb\\u003eTopic 11\\u003c\\u002fb\\u003e\\u003cbr\\u003eWords: shoot, white, hate, abortion, gun\"],\"marker\":{\"color\":\"#F0E442\"},\"mode\":\"lines\",\"name\":\"11_abortion_shoot_clinic_white\",\"x\":[1979.96,1982.0,1984.0,1988.0,1990.0,1992.0,1994.0,1996.0,1998.0,2000.0,2002.0,2004.0,2006.0,2008.0,2010.0,2012.0,2014.0,2016.0,2018.0],\"y\":[1.030736139381913e-05,6.421429226676452e-05,2.749266862170088e-05,1.1698095550044453e-05,9.305788200260563e-06,0.00011912054999659655,3.857727027235553e-05,9.109127345600292e-05,2.2410470171664203e-05,3.431372549019608e-05,9.081827263645446e-06,1.5121272606302547e-05,1.0070797707886442e-05,5.0723033790762874e-05,4.6065966463976415e-05,1.8755392175250383e-05,0.00029887872272731656,0.0003873771730914588,0.00012729471454160264],\"type\":\"scatter\"},{\"hoverinfo\":\"text\",\"hovertext\":[\"\\u003cb\\u003eTopic 15\\u003c\\u002fb\\u003e\\u003cbr\\u003eWords: france, defferre, paris, badinter, mitterrand\",\"\\u003cb\\u003eTopic 15\\u003c\\u002fb\\u003e\\u003cbr\\u003eWords: france, paris, mitterrand, iran, teheran\",\"\\u003cb\\u003eTopic 15\\u003c\\u002fb\\u003e\\u003cbr\\u003eWords: france, syria, paris, chirac, abdallah\",\"\\u003cb\\u003eTopic 15\\u003c\\u002fb\\u003e\\u003cbr\\u003eWords: france, iran, gordji, paris, abdallah\",\"\\u003cb\\u003eTopic 15\\u003c\\u002fb\\u003e\\u003cbr\\u003eWords: naccache, bakhtiar, france, verge, anis\",\"\\u003cb\\u003eTopic 15\\u003c\\u002fb\\u003e\\u003cbr\\u003eWords: habash, nidal, france, duma, seale\",\"\\u003cb\\u003eTopic 15\\u003c\\u002fb\\u003e\\u003cbr\\u003eWords: france, switzerland, iran, balladur, bakhtiar\",\"\\u003cb\\u003eTopic 15\\u003c\\u002fb\\u003e\\u003cbr\\u003eWords: debre, france, bensaid, lyon, paris\",\"\\u003cb\\u003eTopic 15\\u003c\\u002fb\\u003e\\u003cbr\\u003eWords: france, cup, paris, tournament, detain\",\"\\u003cb\\u003eTopic 15\\u003c\\u002fb\\u003e\\u003cbr\\u003eWords: france, strasbourg, gallarate, belgium, tunisia\",\"\\u003cb\\u003eTopic 15\\u003c\\u002fb\\u003e\\u003cbr\\u003eWords: cherif, france, girlfriend, paris, benyettou\",\"\\u003cb\\u003eTopic 15\\u003c\\u002fb\\u003e\\u003cbr\\u003eWords: france, paris, sarkozy, vergh, store\",\"\\u003cb\\u003eTopic 15\\u003c\\u002fb\\u003e\\u003cbr\\u003eWords: france, hicheur, paris, cern, pechenard\",\"\\u003cb\\u003eTopic 15\\u003c\\u002fb\\u003e\\u003cbr\\u003eWords: france, paris, sarkozy, hollande, mali\",\"\\u003cb\\u003eTopic 15\\u003c\\u002fb\\u003e\\u003cbr\\u003eWords: france, paris, molin, syria, mali\",\"\\u003cb\\u003eTopic 15\\u003c\\u002fb\\u003e\\u003cbr\\u003eWords: france, paris, strasbourg, attack, police\",\"\\u003cb\\u003eTopic 15\\u003c\\u002fb\\u003e\\u003cbr\\u003eWords: france, strasbourg, paris, chekatt, attack\",\"\\u003cb\\u003eTopic 15\\u003c\\u002fb\\u003e\\u003cbr\\u003eWords: france, paris, macron, hebdo, charlie\"],\"marker\":{\"color\":\"#D55E00\"},\"mode\":\"lines\",\"name\":\"15_france_paris_strasbourg_police\",\"x\":[1979.96,1982.0,1984.0,1986.0,1988.0,1990.0,1992.0,1994.0,1996.0,2000.0,2004.0,2006.0,2008.0,2010.0,2012.0,2014.0,2016.0,2018.0],\"y\":[6.184416836291478e-05,3.669388129529401e-05,0.0001282991202346041,7.746533426291734e-05,1.1698095550044453e-05,9.305788200260563e-06,2.5525832142127832e-05,1.9288635136177764e-05,2.7327382036800874e-05,9.803921568627451e-06,1.0080848404201698e-05,4.028319083154577e-05,3.688947912055482e-05,5.52791597567717e-05,4.6888480438125964e-05,0.00023621060344578243,0.00020786092214663643,0.0001818495922022895],\"type\":\"scatter\"},{\"hoverinfo\":\"text\",\"hovertext\":[\"\\u003cb\\u003eTopic 16\\u003c\\u002fb\\u003e\\u003cbr\\u003eWords: corporation, robot, westchester, grumman, precaution\",\"\\u003cb\\u003eTopic 16\\u003c\\u002fb\\u003e\\u003cbr\\u003eWords: mcnamara, agawam, stalk, chicken, marijuana\",\"\\u003cb\\u003eTopic 16\\u003c\\u002fb\\u003e\\u003cbr\\u003eWords: york, new, city, nypd, police\",\"\\u003cb\\u003eTopic 16\\u003c\\u002fb\\u003e\\u003cbr\\u003eWords: brooklyn, berger, gazi, hama, lafi\",\"\\u003cb\\u003eTopic 16\\u003c\\u002fb\\u003e\\u003cbr\\u003eWords: cop, nypd, yankee, subway, shulman\",\"\\u003cb\\u003eTopic 16\\u003c\\u002fb\\u003e\\u003cbr\\u003eWords: inspector, mayor, city, bella, york\",\"\\u003cb\\u003eTopic 16\\u003c\\u002fb\\u003e\\u003cbr\\u003eWords: nypd, libutti, police, york, department\",\"\\u003cb\\u003eTopic 16\\u003c\\u002fb\\u003e\\u003cbr\\u003eWords: nypd, york, plot, new, zazi\",\"\\u003cb\\u003eTopic 16\\u003c\\u002fb\\u003e\\u003cbr\\u003eWords: nypd, kelly, police, york, city\",\"\\u003cb\\u003eTopic 16\\u003c\\u002fb\\u003e\\u003cbr\\u003eWords: zazi, york, denver, nypd, new\",\"\\u003cb\\u003eTopic 16\\u003c\\u002fb\\u003e\\u003cbr\\u003eWords: nypd, pimentel, kelly, york, police\",\"\\u003cb\\u003eTopic 16\\u003c\\u002fb\\u003e\\u003cbr\\u003eWords: nypd, kelly, york, commissioner, police\",\"\\u003cb\\u003eTopic 16\\u003c\\u002fb\\u003e\\u003cbr\\u003eWords: nypd, explosion, york, device, new\",\"\\u003cb\\u003eTopic 16\\u003c\\u002fb\\u003e\\u003cbr\\u003eWords: nypd, york, currie, police, city\",\"\\u003cb\\u003eTopic 16\\u003c\\u002fb\\u003e\\u003cbr\\u003eWords: taheb, nypd, edison, york, new\"],\"marker\":{\"color\":\"#0072B2\"},\"mode\":\"lines\",\"name\":\"16_nypd_zazi_york_police\",\"x\":[1982.0,1988.0,1992.0,1996.0,1998.0,2000.0,2002.0,2004.0,2006.0,2008.0,2010.0,2012.0,2014.0,2016.0,2018.0],\"y\":[9.173470323823502e-06,1.1698095550044453e-05,3.403444285617044e-05,9.10912734560029e-06,7.470156723888067e-06,1.9607843137254903e-05,2.2704568159113613e-05,6.552551462731103e-05,5.035398853943221e-05,0.00023978161428360632,0.0002579694121982679,0.00013128774522675268,6.266811928153412e-05,7.086167800453515e-05,2.727743883034342e-05],\"type\":\"scatter\"},{\"hoverinfo\":\"text\",\"hovertext\":[\"\\u003cb\\u003eTopic 23\\u003c\\u002fb\\u003e\\u003cbr\\u003eWords: assad, syria, moslem, brotherhood, haig\",\"\\u003cb\\u003eTopic 23\\u003c\\u002fb\\u003e\\u003cbr\\u003eWords: syria, marine, assad, gemayel, vice\",\"\\u003cb\\u003eTopic 23\\u003c\\u002fb\\u003e\\u003cbr\\u003eWords: syria, assad, hindawi, damascus, israel\",\"\\u003cb\\u003eTopic 23\\u003c\\u002fb\\u003e\\u003cbr\\u003eWords: syria, assad, damascus, jabril, bush\",\"\\u003cb\\u003eTopic 23\\u003c\\u002fb\\u003e\\u003cbr\\u003eWords: syria, assad, baker, israel, peace\",\"\\u003cb\\u003eTopic 23\\u003c\\u002fb\\u003e\\u003cbr\\u003eWords: syria, assad, clinton, peace, israel\",\"\\u003cb\\u003eTopic 23\\u003c\\u002fb\\u003e\\u003cbr\\u003eWords: sharaa, syria, restart, hammer, clinton\",\"\\u003cb\\u003eTopic 23\\u003c\\u002fb\\u003e\\u003cbr\\u003eWords: sharaa, syria, al, assad, confirm\",\"\\u003cb\\u003eTopic 23\\u003c\\u002fb\\u003e\\u003cbr\\u003eWords: syria, assad, damascus, iraq, bashar\",\"\\u003cb\\u003eTopic 23\\u003c\\u002fb\\u003e\\u003cbr\\u003eWords: syria, bus, assad, moallem, report\",\"\\u003cb\\u003eTopic 23\\u003c\\u002fb\\u003e\\u003cbr\\u003eWords: syria, assad, damascus, opposition, regime\",\"\\u003cb\\u003eTopic 23\\u003c\\u002fb\\u003e\\u003cbr\\u003eWords: syria, assad, opposition, damascus, talks\",\"\\u003cb\\u003eTopic 23\\u003c\\u002fb\\u003e\\u003cbr\\u003eWords: syria, assad, russia, damascus, bashar\",\"\\u003cb\\u003eTopic 23\\u003c\\u002fb\\u003e\\u003cbr\\u003eWords: syria, assad, russia, damascus, forces\",\"\\u003cb\\u003eTopic 23\\u003c\\u002fb\\u003e\\u003cbr\\u003eWords: syria, refugee, assad, return, damascus\"],\"marker\":{\"color\":\"#CC79A7\"},\"mode\":\"lines\",\"name\":\"23_syria_assad_damascus_israel\",\"x\":[1979.96,1982.0,1984.0,1988.0,1990.0,1992.0,1998.0,2000.0,2002.0,2008.0,2010.0,2012.0,2014.0,2016.0,2018.0],\"y\":[2.061472278763826e-05,1.8346940647647004e-05,0.000155791788856305,0.00014037714660053343,3.722315280104225e-05,0.00026376693213532094,7.470156723888067e-06,4.901960784313726e-06,3.6327309054581785e-05,9.222369780138705e-06,0.00014741109268472452,9.377696087625193e-05,5.7847494721416106e-05,0.00012755102040816328,9.092479610114475e-06],\"type\":\"scatter\"},{\"hoverinfo\":\"text\",\"hovertext\":[\"\\u003cb\\u003eTopic 24\\u003c\\u002fb\\u003e\\u003cbr\\u003eWords: polisario, morocco, summit, oau, mengistu\",\"\\u003cb\\u003eTopic 24\\u003c\\u002fb\\u003e\\u003cbr\\u003eWords: afl, liberia, harbel, ecomog, monrovia\",\"\\u003cb\\u003eTopic 24\\u003c\\u002fb\\u003e\\u003cbr\\u003eWords: lago, nigeria, alake, ijewere, building\",\"\\u003cb\\u003eTopic 24\\u003c\\u002fb\\u003e\\u003cbr\\u003eWords: nigeria, imagedata, election, adua, yar\",\"\\u003cb\\u003eTopic 24\\u003c\\u002fb\\u003e\\u003cbr\\u003eWords: nigeria, goodluck, rttnew, delegation, holl\",\"\\u003cb\\u003eTopic 24\\u003c\\u002fb\\u003e\\u003cbr\\u003eWords: nigeria, boko, haram, colloquium, achebe\",\"\\u003cb\\u003eTopic 24\\u003c\\u002fb\\u003e\\u003cbr\\u003eWords: nigeria, boko, haram, africa, girl\",\"\\u003cb\\u003eTopic 24\\u003c\\u002fb\\u003e\\u003cbr\\u003eWords: nigeria, boko, haram, buhari, conflict\",\"\\u003cb\\u003eTopic 24\\u003c\\u002fb\\u003e\\u003cbr\\u003eWords: nigeria, haram, boko, buhari, buratai\",\"\\u003cb\\u003eTopic 24\\u003c\\u002fb\\u003e\\u003cbr\\u003eWords: nigeria, haram, boko, buhari, thewill\"],\"marker\":{\"color\":\"#E69F00\"},\"mode\":\"lines\",\"name\":\"24_nigeria_haram_boko_buhari\",\"x\":[1982.0,1992.0,2002.0,2006.0,2008.0,2010.0,2012.0,2014.0,2016.0,2018.0],\"y\":[9.173470323823502e-06,8.50861071404261e-06,4.540913631822723e-06,5.035398853943221e-06,4.6111848900693525e-06,1.8426386585590565e-05,7.033272065718894e-05,6.266811928153412e-05,0.0001889644746787604,0.0003591529445995217],\"type\":\"scatter\"},{\"hoverinfo\":\"text\",\"hovertext\":[\"\\u003cb\\u003eTopic 26\\u003c\\u002fb\\u003e\\u003cbr\\u003eWords: hostage, iran, family, honsowitz, us\",\"\\u003cb\\u003eTopic 26\\u003c\\u002fb\\u003e\\u003cbr\\u003eWords: embassy, marine, beirut, haig, personnel\",\"\\u003cb\\u003eTopic 26\\u003c\\u002fb\\u003e\\u003cbr\\u003eWords: hostage, iran, lebanon, hijack, beirut\",\"\\u003cb\\u003eTopic 26\\u003c\\u002fb\\u003e\\u003cbr\\u003eWords: hostage, iran, hamadei, lebanon, germany\",\"\\u003cb\\u003eTopic 26\\u003c\\u002fb\\u003e\\u003cbr\\u003eWords: hostage, iran, obeid, kidnap, higgin\",\"\\u003cb\\u003eTopic 26\\u003c\\u002fb\\u003e\\u003cbr\\u003eWords: hostage, iran, lebanon, turner, kidnap\",\"\\u003cb\\u003eTopic 26\\u003c\\u002fb\\u003e\\u003cbr\\u003eWords: iran, eslam, hostage, ol, katzman\",\"\\u003cb\\u003eTopic 26\\u003c\\u002fb\\u003e\\u003cbr\\u003eWords: cicippio, hostage, iran, lawsuit, court\",\"\\u003cb\\u003eTopic 26\\u003c\\u002fb\\u003e\\u003cbr\\u003eWords: flatow, iran, hostage, alisa, damages\",\"\\u003cb\\u003eTopic 26\\u003c\\u002fb\\u003e\\u003cbr\\u003eWords: iran, flatow, hostage, anderson, alisa\",\"\\u003cb\\u003eTopic 26\\u003c\\u002fb\\u003e\\u003cbr\\u003eWords: hostage, iran, hegna, hijack, siege\",\"\\u003cb\\u003eTopic 26\\u003c\\u002fb\\u003e\\u003cbr\\u003eWords: hostage, iran, laingen, embassy, needham\",\"\\u003cb\\u003eTopic 26\\u003c\\u002fb\\u003e\\u003cbr\\u003eWords: iran, stethem, hostage, strachman, hamadi\",\"\\u003cb\\u003eTopic 26\\u003c\\u002fb\\u003e\\u003cbr\\u003eWords: iran, hostage, victim, strachman, asset\",\"\\u003cb\\u003eTopic 26\\u003c\\u002fb\\u003e\\u003cbr\\u003eWords: artifact, iran, tablet, hostage, persian\",\"\\u003cb\\u003eTopic 26\\u003c\\u002fb\\u003e\\u003cbr\\u003eWords: ransom, hostage, pay, levitt, us\",\"\\u003cb\\u003eTopic 26\\u003c\\u002fb\\u003e\\u003cbr\\u003eWords: hostage, iran, victim, kidnap, court\",\"\\u003cb\\u003eTopic 26\\u003c\\u002fb\\u003e\\u003cbr\\u003eWords: iran, artifact, court, asset, victim\",\"\\u003cb\\u003eTopic 26\\u003c\\u002fb\\u003e\\u003cbr\\u003eWords: luxembourg, iran, hostage, immune, victim\"],\"marker\":{\"color\":\"#56B4E9\"},\"mode\":\"lines\",\"name\":\"26_hostage_iran_lebanon_kidnap\",\"x\":[1979.96,1982.0,1984.0,1986.0,1988.0,1990.0,1992.0,1994.0,1996.0,1998.0,2000.0,2002.0,2004.0,2006.0,2010.0,2012.0,2014.0,2016.0,2018.0],\"y\":[7.21515297567339e-05,9.173470323823502e-06,0.0002565982404692082,0.0002453068918325716,0.00023396191100088904,0.00013028103480364786,1.701722142808522e-05,9.644317568088882e-06,8.198214611040263e-05,0.00011205235085832101,1.4705882352941177e-05,1.3622740895468168e-05,1.0080848404201698e-05,2.5176994269716104e-05,9.213193292795283e-06,9.377696087625192e-06,3.856499648094407e-05,1.889644746787604e-05,1.818495922022895e-05],\"type\":\"scatter\"},{\"hoverinfo\":\"text\",\"hovertext\":[\"\\u003cb\\u003eTopic 28\\u003c\\u002fb\\u003e\\u003cbr\\u003eWords: ireland, northern, ira, britain, ulster\",\"\\u003cb\\u003eTopic 28\\u003c\\u002fb\\u003e\\u003cbr\\u003eWords: ireland, northern, ira, britain, extradite\",\"\\u003cb\\u003eTopic 28\\u003c\\u002fb\\u003e\\u003cbr\\u003eWords: ireland, ira, northern, tyrie, archbishop\",\"\\u003cb\\u003eTopic 28\\u003c\\u002fb\\u003e\\u003cbr\\u003eWords: ireland, ira, britain, northern, sinn\",\"\\u003cb\\u003eTopic 28\\u003c\\u002fb\\u003e\\u003cbr\\u003eWords: ireland, northern, ira, ulster, aoh\",\"\\u003cb\\u003eTopic 28\\u003c\\u002fb\\u003e\\u003cbr\\u003eWords: ireland, northern, ira, britain, protestant\",\"\\u003cb\\u003eTopic 28\\u003c\\u002fb\\u003e\\u003cbr\\u003eWords: ireland, ira, northern, adams, britain\",\"\\u003cb\\u003eTopic 28\\u003c\\u002fb\\u003e\\u003cbr\\u003eWords: ireland, ira, northern, sinn, fein\",\"\\u003cb\\u003eTopic 28\\u003c\\u002fb\\u003e\\u003cbr\\u003eWords: ireland, ira, northern, britain, protestant\",\"\\u003cb\\u003eTopic 28\\u003c\\u002fb\\u003e\\u003cbr\\u003eWords: ireland, ira, northern, dissident, protestant\",\"\\u003cb\\u003eTopic 28\\u003c\\u002fb\\u003e\\u003cbr\\u003eWords: ireland, northern, ira, protestant, belfast\",\"\\u003cb\\u003eTopic 28\\u003c\\u002fb\\u003e\\u003cbr\\u003eWords: mckevitt, ira, ireland, omagh, northern\",\"\\u003cb\\u003eTopic 28\\u003c\\u002fb\\u003e\\u003cbr\\u003eWords: ireland, ira, northern, sinn, fein\",\"\\u003cb\\u003eTopic 28\\u003c\\u002fb\\u003e\\u003cbr\\u003eWords: ireland, northern, ira, belfast, leavey\",\"\\u003cb\\u003eTopic 28\\u003c\\u002fb\\u003e\\u003cbr\\u003eWords: ireland, ira, northern, king, duffy\",\"\\u003cb\\u003eTopic 28\\u003c\\u002fb\\u003e\\u003cbr\\u003eWords: ireland, belfast, northern, ira, mabel\",\"\\u003cb\\u003eTopic 28\\u003c\\u002fb\\u003e\\u003cbr\\u003eWords: ireland, mason, sasnett, chun, identity\",\"\\u003cb\\u003eTopic 28\\u003c\\u002fb\\u003e\\u003cbr\\u003eWords: catholic, ireland, unionist, nationalist, britain\",\"\\u003cb\\u003eTopic 28\\u003c\\u002fb\\u003e\\u003cbr\\u003eWords: mckee, ireland, ira, northern, lyra\"],\"marker\":{\"color\":\"#009E73\"},\"mode\":\"lines\",\"name\":\"28_ireland_ira_northern_britain\",\"x\":[1979.96,1982.0,1984.0,1986.0,1988.0,1990.0,1992.0,1994.0,1996.0,1998.0,2000.0,2002.0,2004.0,2008.0,2010.0,2012.0,2014.0,2016.0,2018.0],\"y\":[0.0003092208418145739,0.00020181634712411706,5.498533724340176e-05,9.03762233067369e-05,5.849047775022226e-05,6.514051740182393e-05,0.00019569804642298005,5.786590540853329e-05,6.376389141920204e-05,1.4940313447776135e-05,1.4705882352941177e-05,4.540913631822723e-06,3.5282969414705945e-05,9.222369780138705e-06,1.3819789939192925e-05,2.8133088262875578e-05,4.820624560118009e-06,4.72411186696901e-06,1.818495922022895e-05],\"type\":\"scatter\"},{\"hoverinfo\":\"text\",\"hovertext\":[\"\\u003cb\\u003eTopic 30\\u003c\\u002fb\\u003e\\u003cbr\\u003eWords: turkey, armenia, ankara, demirel, ecevit\",\"\\u003cb\\u003eTopic 30\\u003c\\u002fb\\u003e\\u003cbr\\u003eWords: armenia, turkey, turk, genocide, ankara\",\"\\u003cb\\u003eTopic 30\\u003c\\u002fb\\u003e\\u003cbr\\u003eWords: turkey, rabin, shearith, istanbul, turkmen\",\"\\u003cb\\u003eTopic 30\\u003c\\u002fb\\u003e\\u003cbr\\u003eWords: armenia, turkey, turk, ottoman, genocide\",\"\\u003cb\\u003eTopic 30\\u003c\\u002fb\\u003e\\u003cbr\\u003eWords: turkey, kurdish, csce, ankara, austria\",\"\\u003cb\\u003eTopic 30\\u003c\\u002fb\\u003e\\u003cbr\\u003eWords: turkey, kurdish, baskaya, kurd, village\",\"\\u003cb\\u003eTopic 30\\u003c\\u002fb\\u003e\\u003cbr\\u003eWords: ocalan, turkey, italy, sezgin, kurdish\",\"\\u003cb\\u003eTopic 30\\u003c\\u002fb\\u003e\\u003cbr\\u003eWords: turkey, ocalan, pkk, armenia, kurd\",\"\\u003cb\\u003eTopic 30\\u003c\\u002fb\\u003e\\u003cbr\\u003eWords: turkey, incirlik, wolfowitz, iraq, northern\",\"\\u003cb\\u003eTopic 30\\u003c\\u002fb\\u003e\\u003cbr\\u003eWords: turkey, istanbul, erdogan, armenia, turk\",\"\\u003cb\\u003eTopic 30\\u003c\\u002fb\\u003e\\u003cbr\\u003eWords: turkey, pkk, ocalan, ankara, kurdistan\",\"\\u003cb\\u003eTopic 30\\u003c\\u002fb\\u003e\\u003cbr\\u003eWords: turkey, kargin, dogan, istanbul, consulate\",\"\\u003cb\\u003eTopic 30\\u003c\\u002fb\\u003e\\u003cbr\\u003eWords: turkey, pkk, erdogan, germany, juvenile\",\"\\u003cb\\u003eTopic 30\\u003c\\u002fb\\u003e\\u003cbr\\u003eWords: turkey, kurdish, ankara, perry, pkk\",\"\\u003cb\\u003eTopic 30\\u003c\\u002fb\\u003e\\u003cbr\\u003eWords: turkey, ankara, sanli, istanbul, dhkp\",\"\\u003cb\\u003eTopic 30\\u003c\\u002fb\\u003e\\u003cbr\\u003eWords: turkey, erdogan, istanbul, kurdish, ankara\",\"\\u003cb\\u003eTopic 30\\u003c\\u002fb\\u003e\\u003cbr\\u003eWords: turkey, erdogan, cumhuriyet, istanbul, brunson\",\"\\u003cb\\u003eTopic 30\\u003c\\u002fb\\u003e\\u003cbr\\u003eWords: turkey, armenia, azerbaijan, istanbul, journalist\"],\"marker\":{\"color\":\"#F0E442\"},\"mode\":\"lines\",\"name\":\"30_turkey_armenia_ankara_istanbul\",\"x\":[1979.96,1982.0,1984.0,1986.0,1990.0,1992.0,1996.0,1998.0,2000.0,2002.0,2004.0,2006.0,2008.0,2010.0,2012.0,2014.0,2016.0,2018.0],\"y\":[0.00036075764878366954,0.00014677552518117603,9.164222873900293e-06,2.5821778087639115e-05,1.8611576400521126e-05,1.701722142808522e-05,1.821825469120058e-05,4.4820940343328406e-05,4.901960784313726e-06,1.8163654527290892e-05,1.0080848404201698e-05,5.035398853943221e-06,1.3833554670208057e-05,1.3819789939192925e-05,5.6266176525751156e-05,0.00010605374032259619,8.030990173847316e-05,2.727743883034342e-05],\"type\":\"scatter\"},{\"hoverinfo\":\"text\",\"hovertext\":[\"\\u003cb\\u003eTopic 34\\u003c\\u002fb\\u003e\\u003cbr\\u003eWords: hashemi, ayatollah, montazeri, trial, iran\",\"\\u003cb\\u003eTopic 34\\u003c\\u002fb\\u003e\\u003cbr\\u003eWords: rahman, abdel, sheik, nosair, indict\",\"\\u003cb\\u003eTopic 34\\u003c\\u002fb\\u003e\\u003cbr\\u003eWords: rahman, abdel, salem, sheik, defendant\",\"\\u003cb\\u003eTopic 34\\u003c\\u002fb\\u003e\\u003cbr\\u003eWords: masri, britain, extradite, guidi, farahat\",\"\\u003cb\\u003eTopic 34\\u003c\\u002fb\\u003e\\u003cbr\\u003eWords: yezza, hossain, sabir, nottingham, aref\",\"\\u003cb\\u003eTopic 34\\u003c\\u002fb\\u003e\\u003cbr\\u003eWords: extradite, hamza, apo, rttnew, ahmad\",\"\\u003cb\\u003eTopic 34\\u003c\\u002fb\\u003e\\u003cbr\\u003eWords: masri, extradite, mustafa, rahman, prosthetic\",\"\\u003cb\\u003eTopic 34\\u003c\\u002fb\\u003e\\u003cbr\\u003eWords: khan, mustafa, nafi, rahman, abdel\",\"\\u003cb\\u003eTopic 34\\u003c\\u002fb\\u003e\\u003cbr\\u003eWords: bangladesh, khan, singapore, rahman, dhaka\",\"\\u003cb\\u003eTopic 34\\u003c\\u002fb\\u003e\\u003cbr\\u003eWords: bangladesh, ullah, rahman, abdel, dhaka\",\"\\u003cb\\u003eTopic 34\\u003c\\u002fb\\u003e\\u003cbr\\u003eWords: khan, gaffar, bangladesh, ik, ahme\"],\"marker\":{\"color\":\"#D55E00\"},\"mode\":\"lines\",\"name\":\"34_rahman_abdel_sheik_masri\",\"x\":[1986.0,1992.0,1994.0,2002.0,2006.0,2008.0,2010.0,2012.0,2014.0,2016.0,2018.0],\"y\":[2.5821778087639115e-05,0.00028078415356340615,0.00018324203379368876,1.3622740895468168e-05,1.0070797707886442e-05,1.3833554670208057e-05,0.00011516491615994104,7.971041674481413e-05,2.4103122800590046e-05,2.834467120181406e-05,1.818495922022895e-05],\"type\":\"scatter\"},{\"hoverinfo\":\"text\",\"hovertext\":[\"\\u003cb\\u003eTopic 47\\u003c\\u002fb\\u003e\\u003cbr\\u003eWords: boston, turner, marketing, tsarnaev, device\",\"\\u003cb\\u003eTopic 47\\u003c\\u002fb\\u003e\\u003cbr\\u003eWords: tsarnaev, boston, marathon, tamerlan, russia\",\"\\u003cb\\u003eTopic 47\\u003c\\u002fb\\u003e\\u003cbr\\u003eWords: boston, tsarnaev, marathon, burke, bomber\",\"\\u003cb\\u003eTopic 47\\u003c\\u002fb\\u003e\\u003cbr\\u003eWords: ciccolo, boston, bauman, tsarnaev, marathon\",\"\\u003cb\\u003eTopic 47\\u003c\\u002fb\\u003e\\u003cbr\\u003eWords: tsarnaev, boston, tamerlan, marathon, wray\"],\"marker\":{\"color\":\"#0072B2\"},\"mode\":\"lines\",\"name\":\"47_tsarnaev_boston_marathon_tamerlan\",\"x\":[2006.0,2012.0,2014.0,2016.0,2018.0],\"y\":[1.5106196561829663e-05,0.00043137402003075884,9.641249120236018e-06,1.417233560090703e-05,9.092479610114475e-06],\"type\":\"scatter\"},{\"hoverinfo\":\"text\",\"hovertext\":[\"\\u003cb\\u003eTopic 50\\u003c\\u002fb\\u003e\\u003cbr\\u003eWords: italy, brigade, red, rome, moro\",\"\\u003cb\\u003eTopic 50\\u003c\\u002fb\\u003e\\u003cbr\\u003eWords: italy, brigade, red, dozy, rome\",\"\\u003cb\\u003eTopic 50\\u003c\\u002fb\\u003e\\u003cbr\\u003eWords: italy, craxi, brigade, red, libya\",\"\\u003cb\\u003eTopic 50\\u003c\\u002fb\\u003e\\u003cbr\\u003eWords: italy, brigade, red, moro, priore\",\"\\u003cb\\u003eTopic 50\\u003c\\u002fb\\u003e\\u003cbr\\u003eWords: italy, ustica, bologna, cossiga, dietrologia\",\"\\u003cb\\u003eTopic 50\\u003c\\u002fb\\u003e\\u003cbr\\u003eWords: curcio, italy, brigade, mafia, falcone\",\"\\u003cb\\u003eTopic 50\\u003c\\u002fb\\u003e\\u003cbr\\u003eWords: italy, mafia, florence, spadolini, brigade\",\"\\u003cb\\u003eTopic 50\\u003c\\u002fb\\u003e\\u003cbr\\u003eWords: italy, brigade, red, antona, berlusconi\",\"\\u003cb\\u003eTopic 50\\u003c\\u002fb\\u003e\\u003cbr\\u003eWords: sembler, italy, negri, brigade, berlusconi\",\"\\u003cb\\u003eTopic 50\\u003c\\u002fb\\u003e\\u003cbr\\u003eWords: italy, milan, brigade, kidnap, moro\",\"\\u003cb\\u003eTopic 50\\u003c\\u002fb\\u003e\\u003cbr\\u003eWords: italy, nasr, milan, pollari, brigade\",\"\\u003cb\\u003eTopic 50\\u003c\\u002fb\\u003e\\u003cbr\\u003eWords: italy, milan, anarchist, rome, nasr\",\"\\u003cb\\u003eTopic 50\\u003c\\u002fb\\u003e\\u003cbr\\u003eWords: italy, brindisi, school, mafia, rome\",\"\\u003cb\\u003eTopic 50\\u003c\\u002fb\\u003e\\u003cbr\\u003eWords: italy, panama, lady, seldon, costa\",\"\\u003cb\\u003eTopic 50\\u003c\\u002fb\\u003e\\u003cbr\\u003eWords: renzi, italy, europe, matteo, investment\",\"\\u003cb\\u003eTopic 50\\u003c\\u002fb\\u003e\\u003cbr\\u003eWords: italy, migrant, ibtah, capsize, rescue\"],\"marker\":{\"color\":\"#CC79A7\"},\"mode\":\"lines\",\"name\":\"50_italy_brigade_red_rome\",\"x\":[1979.96,1982.0,1984.0,1986.0,1988.0,1990.0,1992.0,2000.0,2002.0,2004.0,2006.0,2008.0,2010.0,2012.0,2014.0,2016.0],\"y\":[0.0003813723715713078,2.7520410971470506e-05,8.247800586510264e-05,3.873266713145867e-05,1.1698095550044453e-05,1.8611576400521126e-05,5.1051664284255664e-05,4.901960784313726e-06,9.081827263645446e-06,4.536381781890764e-05,2.5176994269716104e-05,1.844473956027741e-05,2.3032983231988207e-05,1.8755392175250383e-05,4.820624560118009e-06,4.72411186696901e-06],\"type\":\"scatter\"},{\"hoverinfo\":\"text\",\"hovertext\":[\"\\u003cb\\u003eTopic 53\\u003c\\u002fb\\u003e\\u003cbr\\u003eWords: chile, salvador, nicaragua, honduras, salvadoran\",\"\\u003cb\\u003eTopic 53\\u003c\\u002fb\\u003e\\u003cbr\\u003eWords: nicaragua, salvador, salvadoran, chile, el\",\"\\u003cb\\u003eTopic 53\\u003c\\u002fb\\u003e\\u003cbr\\u003eWords: nicaragua, salvador, salvadoran, duarte, sandinista\",\"\\u003cb\\u003eTopic 53\\u003c\\u002fb\\u003e\\u003cbr\\u003eWords: contra, chile, nicaragua, chelala, vicaria\",\"\\u003cb\\u003eTopic 53\\u003c\\u002fb\\u003e\\u003cbr\\u003eWords: chile, salvador, risk, grape, salvadoran\",\"\\u003cb\\u003eTopic 53\\u003c\\u002fb\\u003e\\u003cbr\\u003eWords: chile, pinochet, aylwin, nicaragua, salvador\",\"\\u003cb\\u003eTopic 53\\u003c\\u002fb\\u003e\\u003cbr\\u003eWords: nicaragua, dollar, castro, cuba, us\",\"\\u003cb\\u003eTopic 53\\u003c\\u002fb\\u003e\\u003cbr\\u003eWords: oas, venezuela, powell, barbados, reich\",\"\\u003cb\\u003eTopic 53\\u003c\\u002fb\\u003e\\u003cbr\\u003eWords: mapuche, chile, pinochet, nicaragua, mapudungun\",\"\\u003cb\\u003eTopic 53\\u003c\\u002fb\\u003e\\u003cbr\\u003eWords: nicaragua, missile, contra, sandinista, destroy\",\"\\u003cb\\u003eTopic 53\\u003c\\u002fb\\u003e\\u003cbr\\u003eWords: salvadoran, salvador, suchitoto, saca, el\",\"\\u003cb\\u003eTopic 53\\u003c\\u002fb\\u003e\\u003cbr\\u003eWords: chile, khan, bg, ips, nicaragua\",\"\\u003cb\\u003eTopic 53\\u003c\\u002fb\\u003e\\u003cbr\\u003eWords: mapuche, chile, luchsinger, catrileo, pinera\",\"\\u003cb\\u003eTopic 53\\u003c\\u002fb\\u003e\\u003cbr\\u003eWords: mapuche, chile, araucania, bachelet, indigenous\"],\"marker\":{\"color\":\"#E69F00\"},\"mode\":\"lines\",\"name\":\"53_nicaragua_salvador_chile_salvadoran\",\"x\":[1979.96,1982.0,1984.0,1986.0,1988.0,1990.0,1992.0,2000.0,2002.0,2004.0,2006.0,2008.0,2012.0,2016.0],\"y\":[0.0002576840348454782,0.0003027245206861756,8.247800586510264e-05,2.5821778087639115e-05,3.509428665013336e-05,3.722315280104225e-05,8.50861071404261e-06,4.901960784313726e-06,4.540913631822723e-06,5.040424202100849e-06,2.0141595415772885e-05,1.3833554670208057e-05,4.688848043812596e-06,4.72411186696901e-06],\"type\":\"scatter\"},{\"hoverinfo\":\"text\",\"hovertext\":[\"\\u003cb\\u003eTopic 54\\u003c\\u002fb\\u003e\\u003cbr\\u003eWords: scowcroft, chemical, ashcroft, proposal, weapon\",\"\\u003cb\\u003eTopic 54\\u003c\\u002fb\\u003e\\u003cbr\\u003eWords: ashcroft, fbi, attorney, justice, general\",\"\\u003cb\\u003eTopic 54\\u003c\\u002fb\\u003e\\u003cbr\\u003eWords: ashcroft, general, attorney, fbi, justice\",\"\\u003cb\\u003eTopic 54\\u003c\\u002fb\\u003e\\u003cbr\\u003eWords: ashcroft, gonzale, patriot, attorney, general\",\"\\u003cb\\u003eTopic 54\\u003c\\u002fb\\u003e\\u003cbr\\u003eWords: ashcroft, waterboard, gonzale, approve, mueller\",\"\\u003cb\\u003eTopic 54\\u003c\\u002fb\\u003e\\u003cbr\\u003eWords: ashcroft, kidd, witness, ridge, material\",\"\\u003cb\\u003eTopic 54\\u003c\\u002fb\\u003e\\u003cbr\\u003eWords: kidd, ashcroft, witness, material, hussayen\"],\"marker\":{\"color\":\"#56B4E9\"},\"mode\":\"lines\",\"name\":\"54_ashcroft_kidd_fbi_attorney\",\"x\":[1988.0,2000.0,2002.0,2004.0,2006.0,2008.0,2010.0],\"y\":[1.1698095550044453e-05,0.000196078431372549,0.0001407683225865044,2.5202121010504243e-05,5.035398853943221e-06,9.222369780138705e-06,2.3032983231988207e-05],\"type\":\"scatter\"},{\"hoverinfo\":\"text\",\"hovertext\":[\"\\u003cb\\u003eTopic 56\\u003c\\u002fb\\u003e\\u003cbr\\u003eWords: clinton, iraq, saddam, missile, hussein\",\"\\u003cb\\u003eTopic 56\\u003c\\u002fb\\u003e\\u003cbr\\u003eWords: clinton, summit, iran, economic, president\",\"\\u003cb\\u003eTopic 56\\u003c\\u002fb\\u003e\\u003cbr\\u003eWords: clinton, president, computer, laden, bin\",\"\\u003cb\\u003eTopic 56\\u003c\\u002fb\\u003e\\u003cbr\\u003eWords: clinton, computer, chemical, biological, weapon\",\"\\u003cb\\u003eTopic 56\\u003c\\u002fb\\u003e\\u003cbr\\u003eWords: sheik, omar, clinton, chirac, nuclear\"],\"marker\":{\"color\":\"#009E73\"},\"mode\":\"lines\",\"name\":\"56_clinton_president_computer_bomb\",\"x\":[1992.0,1994.0,1996.0,1998.0,2004.0],\"y\":[7.65774964263835e-05,0.00025075225677031093,0.00027327382036800875,0.00011952250758220908,1.0080848404201698e-05],\"type\":\"scatter\"},{\"hoverinfo\":\"text\",\"hovertext\":[\"\\u003cb\\u003eTopic 58\\u003c\\u002fb\\u003e\\u003cbr\\u003eWords: hagan, campaign, trump, candidate, republican\",\"\\u003cb\\u003eTopic 58\\u003c\\u002fb\\u003e\\u003cbr\\u003eWords: trump, clinton, candidate, republican, cruz\",\"\\u003cb\\u003eTopic 58\\u003c\\u002fb\\u003e\\u003cbr\\u003eWords: trump, call, gun, muslim, gunman\",\"\\u003cb\\u003eTopic 58\\u003c\\u002fb\\u003e\\u003cbr\\u003eWords: trump, gun, kenosha, shoot, white\"],\"marker\":{\"color\":\"#F0E442\"},\"mode\":\"lines\",\"name\":\"58_trump_clinton_republican_candidate\",\"x\":[2012.0,2014.0,2016.0,2018.0],\"y\":[4.688848043812596e-06,0.0002795962244868445,2.834467120181406e-05,7.27398368809158e-05],\"type\":\"scatter\"},{\"hoverinfo\":\"text\",\"hovertext\":[\"\\u003cb\\u003eTopic 86\\u003c\\u002fb\\u003e\\u003cbr\\u003eWords: mahoney, ratshot, saudi, deputy, shoot\",\"\\u003cb\\u003eTopic 86\\u003c\\u002fb\\u003e\\u003cbr\\u003eWords: dive, scuba, hurin, instructor, kolko\",\"\\u003cb\\u003eTopic 86\\u003c\\u002fb\\u003e\\u003cbr\\u003eWords: pensacola, saudi, shoot, naval, alshamrani\"],\"marker\":{\"color\":\"#D55E00\"},\"mode\":\"lines\",\"name\":\"86_pensacola_saudi_shoot_naval\",\"x\":[1990.0,2006.0,2018.0],\"y\":[1.8611576400521126e-05,5.035398853943221e-06,0.0001954883116174612],\"type\":\"scatter\"},{\"hoverinfo\":\"text\",\"hovertext\":[\"\\u003cb\\u003eTopic 88\\u003c\\u002fb\\u003e\\u003cbr\\u003eWords: ryan, penalty, illinois, governor, death\",\"\\u003cb\\u003eTopic 88\\u003c\\u002fb\\u003e\\u003cbr\\u003eWords: illinois, ryan, grady, penalty, library\",\"\\u003cb\\u003eTopic 88\\u003c\\u002fb\\u003e\\u003cbr\\u003eWords: veteran, terek, illinois, ryan, eligible\",\"\\u003cb\\u003eTopic 88\\u003c\\u002fb\\u003e\\u003cbr\\u003eWords: penalty, death, punishment, connecticut, ryan\",\"\\u003cb\\u003eTopic 88\\u003c\\u002fb\\u003e\\u003cbr\\u003eWords: illinois, cadigan, lang, ryan, skokie\"],\"marker\":{\"color\":\"#0072B2\"},\"mode\":\"lines\",\"name\":\"88_ryan_penalty_illinois_death\",\"x\":[2000.0,2004.0,2008.0,2010.0,2016.0],\"y\":[0.00018627450980392157,1.0080848404201698e-05,4.6111848900693525e-06,4.606596646397641e-06,9.44822373393802e-06],\"type\":\"scatter\"},{\"hoverinfo\":\"text\",\"hovertext\":[\"\\u003cb\\u003eTopic 89\\u003c\\u002fb\\u003e\\u003cbr\\u003eWords: ressam, algeria, canada, arrest, explosive\",\"\\u003cb\\u003eTopic 89\\u003c\\u002fb\\u003e\\u003cbr\\u003eWords: ressam, meskini, algeria, canada, seattle\",\"\\u003cb\\u003eTopic 89\\u003c\\u002fb\\u003e\\u003cbr\\u003eWords: lng, tanker, markey, boston, connection\",\"\\u003cb\\u003eTopic 89\\u003c\\u002fb\\u003e\\u003cbr\\u003eWords: ressam, coughenour, hilly, judge, algeria\"],\"marker\":{\"color\":\"#CC79A7\"},\"mode\":\"lines\",\"name\":\"89_ressam_algeria_canada_arrest\",\"x\":[1998.0,2000.0,2002.0,2004.0],\"y\":[0.0002763957987838585,1.9607843137254903e-05,4.540913631822723e-06,5.040424202100849e-06],\"type\":\"scatter\"}],                        {\"template\":{\"data\":{\"barpolar\":[{\"marker\":{\"line\":{\"color\":\"white\",\"width\":0.5},\"pattern\":{\"fillmode\":\"overlay\",\"size\":10,\"solidity\":0.2}},\"type\":\"barpolar\"}],\"bar\":[{\"error_x\":{\"color\":\"rgb(36,36,36)\"},\"error_y\":{\"color\":\"rgb(36,36,36)\"},\"marker\":{\"line\":{\"color\":\"white\",\"width\":0.5},\"pattern\":{\"fillmode\":\"overlay\",\"size\":10,\"solidity\":0.2}},\"type\":\"bar\"}],\"carpet\":[{\"aaxis\":{\"endlinecolor\":\"rgb(36,36,36)\",\"gridcolor\":\"white\",\"linecolor\":\"white\",\"minorgridcolor\":\"white\",\"startlinecolor\":\"rgb(36,36,36)\"},\"baxis\":{\"endlinecolor\":\"rgb(36,36,36)\",\"gridcolor\":\"white\",\"linecolor\":\"white\",\"minorgridcolor\":\"white\",\"startlinecolor\":\"rgb(36,36,36)\"},\"type\":\"carpet\"}],\"choropleth\":[{\"colorbar\":{\"outlinewidth\":1,\"tickcolor\":\"rgb(36,36,36)\",\"ticks\":\"outside\"},\"type\":\"choropleth\"}],\"contourcarpet\":[{\"colorbar\":{\"outlinewidth\":1,\"tickcolor\":\"rgb(36,36,36)\",\"ticks\":\"outside\"},\"type\":\"contourcarpet\"}],\"contour\":[{\"colorbar\":{\"outlinewidth\":1,\"tickcolor\":\"rgb(36,36,36)\",\"ticks\":\"outside\"},\"colorscale\":[[0.0,\"#440154\"],[0.1111111111111111,\"#482878\"],[0.2222222222222222,\"#3e4989\"],[0.3333333333333333,\"#31688e\"],[0.4444444444444444,\"#26828e\"],[0.5555555555555556,\"#1f9e89\"],[0.6666666666666666,\"#35b779\"],[0.7777777777777778,\"#6ece58\"],[0.8888888888888888,\"#b5de2b\"],[1.0,\"#fde725\"]],\"type\":\"contour\"}],\"heatmapgl\":[{\"colorbar\":{\"outlinewidth\":1,\"tickcolor\":\"rgb(36,36,36)\",\"ticks\":\"outside\"},\"colorscale\":[[0.0,\"#440154\"],[0.1111111111111111,\"#482878\"],[0.2222222222222222,\"#3e4989\"],[0.3333333333333333,\"#31688e\"],[0.4444444444444444,\"#26828e\"],[0.5555555555555556,\"#1f9e89\"],[0.6666666666666666,\"#35b779\"],[0.7777777777777778,\"#6ece58\"],[0.8888888888888888,\"#b5de2b\"],[1.0,\"#fde725\"]],\"type\":\"heatmapgl\"}],\"heatmap\":[{\"colorbar\":{\"outlinewidth\":1,\"tickcolor\":\"rgb(36,36,36)\",\"ticks\":\"outside\"},\"colorscale\":[[0.0,\"#440154\"],[0.1111111111111111,\"#482878\"],[0.2222222222222222,\"#3e4989\"],[0.3333333333333333,\"#31688e\"],[0.4444444444444444,\"#26828e\"],[0.5555555555555556,\"#1f9e89\"],[0.6666666666666666,\"#35b779\"],[0.7777777777777778,\"#6ece58\"],[0.8888888888888888,\"#b5de2b\"],[1.0,\"#fde725\"]],\"type\":\"heatmap\"}],\"histogram2dcontour\":[{\"colorbar\":{\"outlinewidth\":1,\"tickcolor\":\"rgb(36,36,36)\",\"ticks\":\"outside\"},\"colorscale\":[[0.0,\"#440154\"],[0.1111111111111111,\"#482878\"],[0.2222222222222222,\"#3e4989\"],[0.3333333333333333,\"#31688e\"],[0.4444444444444444,\"#26828e\"],[0.5555555555555556,\"#1f9e89\"],[0.6666666666666666,\"#35b779\"],[0.7777777777777778,\"#6ece58\"],[0.8888888888888888,\"#b5de2b\"],[1.0,\"#fde725\"]],\"type\":\"histogram2dcontour\"}],\"histogram2d\":[{\"colorbar\":{\"outlinewidth\":1,\"tickcolor\":\"rgb(36,36,36)\",\"ticks\":\"outside\"},\"colorscale\":[[0.0,\"#440154\"],[0.1111111111111111,\"#482878\"],[0.2222222222222222,\"#3e4989\"],[0.3333333333333333,\"#31688e\"],[0.4444444444444444,\"#26828e\"],[0.5555555555555556,\"#1f9e89\"],[0.6666666666666666,\"#35b779\"],[0.7777777777777778,\"#6ece58\"],[0.8888888888888888,\"#b5de2b\"],[1.0,\"#fde725\"]],\"type\":\"histogram2d\"}],\"histogram\":[{\"marker\":{\"line\":{\"color\":\"white\",\"width\":0.6}},\"type\":\"histogram\"}],\"mesh3d\":[{\"colorbar\":{\"outlinewidth\":1,\"tickcolor\":\"rgb(36,36,36)\",\"ticks\":\"outside\"},\"type\":\"mesh3d\"}],\"parcoords\":[{\"line\":{\"colorbar\":{\"outlinewidth\":1,\"tickcolor\":\"rgb(36,36,36)\",\"ticks\":\"outside\"}},\"type\":\"parcoords\"}],\"pie\":[{\"automargin\":true,\"type\":\"pie\"}],\"scatter3d\":[{\"line\":{\"colorbar\":{\"outlinewidth\":1,\"tickcolor\":\"rgb(36,36,36)\",\"ticks\":\"outside\"}},\"marker\":{\"colorbar\":{\"outlinewidth\":1,\"tickcolor\":\"rgb(36,36,36)\",\"ticks\":\"outside\"}},\"type\":\"scatter3d\"}],\"scattercarpet\":[{\"marker\":{\"colorbar\":{\"outlinewidth\":1,\"tickcolor\":\"rgb(36,36,36)\",\"ticks\":\"outside\"}},\"type\":\"scattercarpet\"}],\"scattergeo\":[{\"marker\":{\"colorbar\":{\"outlinewidth\":1,\"tickcolor\":\"rgb(36,36,36)\",\"ticks\":\"outside\"}},\"type\":\"scattergeo\"}],\"scattergl\":[{\"marker\":{\"colorbar\":{\"outlinewidth\":1,\"tickcolor\":\"rgb(36,36,36)\",\"ticks\":\"outside\"}},\"type\":\"scattergl\"}],\"scattermapbox\":[{\"marker\":{\"colorbar\":{\"outlinewidth\":1,\"tickcolor\":\"rgb(36,36,36)\",\"ticks\":\"outside\"}},\"type\":\"scattermapbox\"}],\"scatterpolargl\":[{\"marker\":{\"colorbar\":{\"outlinewidth\":1,\"tickcolor\":\"rgb(36,36,36)\",\"ticks\":\"outside\"}},\"type\":\"scatterpolargl\"}],\"scatterpolar\":[{\"marker\":{\"colorbar\":{\"outlinewidth\":1,\"tickcolor\":\"rgb(36,36,36)\",\"ticks\":\"outside\"}},\"type\":\"scatterpolar\"}],\"scatter\":[{\"fillpattern\":{\"fillmode\":\"overlay\",\"size\":10,\"solidity\":0.2},\"type\":\"scatter\"}],\"scatterternary\":[{\"marker\":{\"colorbar\":{\"outlinewidth\":1,\"tickcolor\":\"rgb(36,36,36)\",\"ticks\":\"outside\"}},\"type\":\"scatterternary\"}],\"surface\":[{\"colorbar\":{\"outlinewidth\":1,\"tickcolor\":\"rgb(36,36,36)\",\"ticks\":\"outside\"},\"colorscale\":[[0.0,\"#440154\"],[0.1111111111111111,\"#482878\"],[0.2222222222222222,\"#3e4989\"],[0.3333333333333333,\"#31688e\"],[0.4444444444444444,\"#26828e\"],[0.5555555555555556,\"#1f9e89\"],[0.6666666666666666,\"#35b779\"],[0.7777777777777778,\"#6ece58\"],[0.8888888888888888,\"#b5de2b\"],[1.0,\"#fde725\"]],\"type\":\"surface\"}],\"table\":[{\"cells\":{\"fill\":{\"color\":\"rgb(237,237,237)\"},\"line\":{\"color\":\"white\"}},\"header\":{\"fill\":{\"color\":\"rgb(217,217,217)\"},\"line\":{\"color\":\"white\"}},\"type\":\"table\"}]},\"layout\":{\"annotationdefaults\":{\"arrowhead\":0,\"arrowwidth\":1},\"autotypenumbers\":\"strict\",\"coloraxis\":{\"colorbar\":{\"outlinewidth\":1,\"tickcolor\":\"rgb(36,36,36)\",\"ticks\":\"outside\"}},\"colorscale\":{\"diverging\":[[0.0,\"rgb(103,0,31)\"],[0.1,\"rgb(178,24,43)\"],[0.2,\"rgb(214,96,77)\"],[0.3,\"rgb(244,165,130)\"],[0.4,\"rgb(253,219,199)\"],[0.5,\"rgb(247,247,247)\"],[0.6,\"rgb(209,229,240)\"],[0.7,\"rgb(146,197,222)\"],[0.8,\"rgb(67,147,195)\"],[0.9,\"rgb(33,102,172)\"],[1.0,\"rgb(5,48,97)\"]],\"sequential\":[[0.0,\"#440154\"],[0.1111111111111111,\"#482878\"],[0.2222222222222222,\"#3e4989\"],[0.3333333333333333,\"#31688e\"],[0.4444444444444444,\"#26828e\"],[0.5555555555555556,\"#1f9e89\"],[0.6666666666666666,\"#35b779\"],[0.7777777777777778,\"#6ece58\"],[0.8888888888888888,\"#b5de2b\"],[1.0,\"#fde725\"]],\"sequentialminus\":[[0.0,\"#440154\"],[0.1111111111111111,\"#482878\"],[0.2222222222222222,\"#3e4989\"],[0.3333333333333333,\"#31688e\"],[0.4444444444444444,\"#26828e\"],[0.5555555555555556,\"#1f9e89\"],[0.6666666666666666,\"#35b779\"],[0.7777777777777778,\"#6ece58\"],[0.8888888888888888,\"#b5de2b\"],[1.0,\"#fde725\"]]},\"colorway\":[\"#1F77B4\",\"#FF7F0E\",\"#2CA02C\",\"#D62728\",\"#9467BD\",\"#8C564B\",\"#E377C2\",\"#7F7F7F\",\"#BCBD22\",\"#17BECF\"],\"font\":{\"color\":\"rgb(36,36,36)\"},\"geo\":{\"bgcolor\":\"white\",\"lakecolor\":\"white\",\"landcolor\":\"white\",\"showlakes\":true,\"showland\":true,\"subunitcolor\":\"white\"},\"hoverlabel\":{\"align\":\"left\"},\"hovermode\":\"closest\",\"mapbox\":{\"style\":\"light\"},\"paper_bgcolor\":\"white\",\"plot_bgcolor\":\"white\",\"polar\":{\"angularaxis\":{\"gridcolor\":\"rgb(232,232,232)\",\"linecolor\":\"rgb(36,36,36)\",\"showgrid\":false,\"showline\":true,\"ticks\":\"outside\"},\"bgcolor\":\"white\",\"radialaxis\":{\"gridcolor\":\"rgb(232,232,232)\",\"linecolor\":\"rgb(36,36,36)\",\"showgrid\":false,\"showline\":true,\"ticks\":\"outside\"}},\"scene\":{\"xaxis\":{\"backgroundcolor\":\"white\",\"gridcolor\":\"rgb(232,232,232)\",\"gridwidth\":2,\"linecolor\":\"rgb(36,36,36)\",\"showbackground\":true,\"showgrid\":false,\"showline\":true,\"ticks\":\"outside\",\"zeroline\":false,\"zerolinecolor\":\"rgb(36,36,36)\"},\"yaxis\":{\"backgroundcolor\":\"white\",\"gridcolor\":\"rgb(232,232,232)\",\"gridwidth\":2,\"linecolor\":\"rgb(36,36,36)\",\"showbackground\":true,\"showgrid\":false,\"showline\":true,\"ticks\":\"outside\",\"zeroline\":false,\"zerolinecolor\":\"rgb(36,36,36)\"},\"zaxis\":{\"backgroundcolor\":\"white\",\"gridcolor\":\"rgb(232,232,232)\",\"gridwidth\":2,\"linecolor\":\"rgb(36,36,36)\",\"showbackground\":true,\"showgrid\":false,\"showline\":true,\"ticks\":\"outside\",\"zeroline\":false,\"zerolinecolor\":\"rgb(36,36,36)\"}},\"shapedefaults\":{\"fillcolor\":\"black\",\"line\":{\"width\":0},\"opacity\":0.3},\"ternary\":{\"aaxis\":{\"gridcolor\":\"rgb(232,232,232)\",\"linecolor\":\"rgb(36,36,36)\",\"showgrid\":false,\"showline\":true,\"ticks\":\"outside\"},\"baxis\":{\"gridcolor\":\"rgb(232,232,232)\",\"linecolor\":\"rgb(36,36,36)\",\"showgrid\":false,\"showline\":true,\"ticks\":\"outside\"},\"bgcolor\":\"white\",\"caxis\":{\"gridcolor\":\"rgb(232,232,232)\",\"linecolor\":\"rgb(36,36,36)\",\"showgrid\":false,\"showline\":true,\"ticks\":\"outside\"}},\"title\":{\"x\":0.05},\"xaxis\":{\"automargin\":true,\"gridcolor\":\"rgb(232,232,232)\",\"linecolor\":\"rgb(36,36,36)\",\"showgrid\":false,\"showline\":true,\"ticks\":\"outside\",\"title\":{\"standoff\":15},\"zeroline\":false,\"zerolinecolor\":\"rgb(36,36,36)\"},\"yaxis\":{\"automargin\":true,\"gridcolor\":\"rgb(232,232,232)\",\"linecolor\":\"rgb(36,36,36)\",\"showgrid\":false,\"showline\":true,\"ticks\":\"outside\",\"title\":{\"standoff\":15},\"zeroline\":false,\"zerolinecolor\":\"rgb(36,36,36)\"}}},\"xaxis\":{\"showgrid\":true},\"yaxis\":{\"showgrid\":true,\"title\":{\"text\":\"Frequency\"}},\"title\":{\"font\":{\"size\":22,\"color\":\"Black\"},\"text\":\"\\u003cb\\u003eTopics over Time\\u003c\\u002fb\\u003e\",\"y\":0.95,\"x\":0.4,\"xanchor\":\"center\",\"yanchor\":\"top\"},\"hoverlabel\":{\"font\":{\"size\":16,\"family\":\"Rockwell\"},\"bgcolor\":\"white\"},\"width\":1200,\"height\":800,\"legend\":{\"title\":{\"text\":\"\\u003cb\\u003eGlobal Topic Representation\"}}},                        {\"responsive\": true}                    ).then(function(){\n                            \nvar gd = document.getElementById('416b916d-31ff-44f1-a531-043d043663fe');\nvar x = new MutationObserver(function (mutations, observer) {{\n        var display = window.getComputedStyle(gd).display;\n        if (!display || display === 'none') {{\n            console.log([gd, 'removed!']);\n            Plotly.purge(gd);\n            observer.disconnect();\n        }}\n}});\n\n// Listen for the removal of the full notebook cells\nvar notebookContainer = gd.closest('#notebook-container');\nif (notebookContainer) {{\n    x.observe(notebookContainer, {childList: true});\n}}\n\n// Listen for the clearing of the current output cell\nvar outputEl = gd.closest('.output');\nif (outputEl) {{\n    x.observe(outputEl, {childList: true});\n}}\n\n                        })                };                });            </script>        </div>"
     },
     "metadata": {},
     "output_type": "display_data"
    }
   ],
   "source": [
    "topics_over_time_filtered = topics_over_time.groupby('Topic').filter(lambda x:  np.std(x.Frequency)  > 0.000068)\n",
    "fig = topic_model.visualize_topics_over_time(topics_over_time_filtered)\n",
    "# enlarge the size of the plot\n",
    "fig.update_layout(width=1200, height=800)\n",
    "fig.write_image('output/dtm/topics_over_time_150.png', engine=\"orca\")\n",
    "fig.show()"
   ],
   "metadata": {
    "collapsed": false,
    "ExecuteTime": {
     "end_time": "2024-05-22T19:49:42.278767Z",
     "start_time": "2024-05-22T19:49:41.751617Z"
    }
   },
   "id": "27baf24661f91ff3",
   "execution_count": 149
  },
  {
   "cell_type": "markdown",
   "source": [
    "# Topic number 100"
   ],
   "metadata": {
    "collapsed": false
   },
   "id": "35ea9309e2183eae"
  },
  {
   "cell_type": "code",
   "outputs": [
    {
     "name": "stderr",
     "output_type": "stream",
     "text": [
      "2024-05-22 19:49:54,319 - BERTopic - Embedding - Transforming documents to embeddings.\n"
     ]
    },
    {
     "data": {
      "text/plain": "Batches:   0%|          | 0/756 [00:00<?, ?it/s]",
      "application/vnd.jupyter.widget-view+json": {
       "version_major": 2,
       "version_minor": 0,
       "model_id": "ec8764f4051540a9adc9023fade54065"
      }
     },
     "metadata": {},
     "output_type": "display_data"
    },
    {
     "name": "stderr",
     "output_type": "stream",
     "text": [
      "2024-05-22 19:51:47,298 - BERTopic - Embedding - Completed ✓\n",
      "2024-05-22 19:51:47,299 - BERTopic - Dimensionality - Fitting the dimensionality reduction algorithm\n",
      "2024-05-22 19:51:53,948 - BERTopic - Dimensionality - Completed ✓\n",
      "2024-05-22 19:51:53,949 - BERTopic - Cluster - Start clustering the reduced embeddings\n",
      "2024-05-22 19:51:54,466 - BERTopic - Cluster - Completed ✓\n",
      "2024-05-22 19:51:54,469 - BERTopic - Representation - Extracting topics from clusters using representation models.\n",
      "2024-05-22 19:52:00,669 - BERTopic - Representation - Completed ✓\n",
      "2024-05-22 19:52:03,467 - BERTopic - Topic reduction - Reducing number of topics\n",
      "2024-05-22 19:52:09,041 - BERTopic - Topic reduction - Reduced number of topics from 296 to 100\n",
      "20it [00:15,  1.27it/s]\n",
      "/var/folders/dm/hs6ffqd576v39l4vtyx6rpg00000gn/T/ipykernel_34510/3973436959.py:11: DeprecationWarning:\n",
      "\n",
      "DataFrameGroupBy.apply operated on the grouping columns. This behavior is deprecated, and in a future version of pandas the grouping columns will be excluded from the operation. Either pass `include_groups=False` to exclude the groupings or explicitly select the grouping columns after groupby to silence this warning.\n",
      "\n"
     ]
    },
    {
     "data": {
      "text/plain": "    Topic  Count                                  Name  \\\n0      -1   8394   -1_terrorism_said_terrorist_america   \n1       0   1404     0_israel_palestinian_arafat_syria   \n2       1   1070      1_muslim_islam_america_terrorism   \n3       2   1063                 2_fbi_bill_law_senate   \n4       3   1020   3_pakistan_india_afghanistan_indian   \n..    ...    ...                                   ...   \n95     94     12         94_air_force_command_mobility   \n96     95     11       95_headley_rana_mumbai_pakistan   \n97     96     11  96_rwanda_rusesabagina_kagame_kigali   \n98     97     11           97_pipeline_oil_crude_train   \n99     98     10       98_vienna_austria_police_attack   \n\n                                       Representation  \\\n0   [terrorism, said, terrorist, america, attack, ...   \n1   [israel, palestinian, arafat, syria, peace, ar...   \n2   [muslim, islam, america, terrorism, terrorist,...   \n3   [fbi, bill, law, senate, ashcroft, house, patr...   \n4   [pakistan, india, afghanistan, indian, taliban...   \n..                                                ...   \n95  [air, force, command, mobility, base, th, patt...   \n96  [headley, rana, mumbai, pakistan, chicago, den...   \n97  [rwanda, rusesabagina, kagame, kigali, genocid...   \n98  [pipeline, oil, crude, train, csx, dakota, der...   \n99  [vienna, austria, police, attack, shoot, germa...   \n\n                                  Representative_Docs  \n0   [president obama address nation speech oval of...  \n1   [israel reel worst wave arab violence years in...  \n2   [america million proud muslim take new zealand...  \n3   [associate press washington congress taken fir...  \n4   [washington c pakistan report decision relocat...  \n..                                                ...  \n95  [ceremony wednesday scott air force base air m...  \n96  [chicago federal jury thursday found chicago b...  \n97  [dubai meeting reappear rwanda authority said ...  \n98  [bellingham wash federal local authority inves...  \n99  [philipp jenne frank jordan associate press vi...  \n\n[100 rows x 5 columns]",
      "text/html": "<div>\n<style scoped>\n    .dataframe tbody tr th:only-of-type {\n        vertical-align: middle;\n    }\n\n    .dataframe tbody tr th {\n        vertical-align: top;\n    }\n\n    .dataframe thead th {\n        text-align: right;\n    }\n</style>\n<table border=\"1\" class=\"dataframe\">\n  <thead>\n    <tr style=\"text-align: right;\">\n      <th></th>\n      <th>Topic</th>\n      <th>Count</th>\n      <th>Name</th>\n      <th>Representation</th>\n      <th>Representative_Docs</th>\n    </tr>\n  </thead>\n  <tbody>\n    <tr>\n      <th>0</th>\n      <td>-1</td>\n      <td>8394</td>\n      <td>-1_terrorism_said_terrorist_america</td>\n      <td>[terrorism, said, terrorist, america, attack, ...</td>\n      <td>[president obama address nation speech oval of...</td>\n    </tr>\n    <tr>\n      <th>1</th>\n      <td>0</td>\n      <td>1404</td>\n      <td>0_israel_palestinian_arafat_syria</td>\n      <td>[israel, palestinian, arafat, syria, peace, ar...</td>\n      <td>[israel reel worst wave arab violence years in...</td>\n    </tr>\n    <tr>\n      <th>2</th>\n      <td>1</td>\n      <td>1070</td>\n      <td>1_muslim_islam_america_terrorism</td>\n      <td>[muslim, islam, america, terrorism, terrorist,...</td>\n      <td>[america million proud muslim take new zealand...</td>\n    </tr>\n    <tr>\n      <th>3</th>\n      <td>2</td>\n      <td>1063</td>\n      <td>2_fbi_bill_law_senate</td>\n      <td>[fbi, bill, law, senate, ashcroft, house, patr...</td>\n      <td>[associate press washington congress taken fir...</td>\n    </tr>\n    <tr>\n      <th>4</th>\n      <td>3</td>\n      <td>1020</td>\n      <td>3_pakistan_india_afghanistan_indian</td>\n      <td>[pakistan, india, afghanistan, indian, taliban...</td>\n      <td>[washington c pakistan report decision relocat...</td>\n    </tr>\n    <tr>\n      <th>...</th>\n      <td>...</td>\n      <td>...</td>\n      <td>...</td>\n      <td>...</td>\n      <td>...</td>\n    </tr>\n    <tr>\n      <th>95</th>\n      <td>94</td>\n      <td>12</td>\n      <td>94_air_force_command_mobility</td>\n      <td>[air, force, command, mobility, base, th, patt...</td>\n      <td>[ceremony wednesday scott air force base air m...</td>\n    </tr>\n    <tr>\n      <th>96</th>\n      <td>95</td>\n      <td>11</td>\n      <td>95_headley_rana_mumbai_pakistan</td>\n      <td>[headley, rana, mumbai, pakistan, chicago, den...</td>\n      <td>[chicago federal jury thursday found chicago b...</td>\n    </tr>\n    <tr>\n      <th>97</th>\n      <td>96</td>\n      <td>11</td>\n      <td>96_rwanda_rusesabagina_kagame_kigali</td>\n      <td>[rwanda, rusesabagina, kagame, kigali, genocid...</td>\n      <td>[dubai meeting reappear rwanda authority said ...</td>\n    </tr>\n    <tr>\n      <th>98</th>\n      <td>97</td>\n      <td>11</td>\n      <td>97_pipeline_oil_crude_train</td>\n      <td>[pipeline, oil, crude, train, csx, dakota, der...</td>\n      <td>[bellingham wash federal local authority inves...</td>\n    </tr>\n    <tr>\n      <th>99</th>\n      <td>98</td>\n      <td>10</td>\n      <td>98_vienna_austria_police_attack</td>\n      <td>[vienna, austria, police, attack, shoot, germa...</td>\n      <td>[philipp jenne frank jordan associate press vi...</td>\n    </tr>\n  </tbody>\n</table>\n<p>100 rows × 5 columns</p>\n</div>"
     },
     "execution_count": 135,
     "metadata": {},
     "output_type": "execute_result"
    }
   ],
   "source": [
    "topic_model, topics_over_time = get_topics(df, 100)\n",
    "topic_model.get_topic_info().to_csv('output/dtm/topic_info_100.csv', index=False)\n",
    "topic_model.get_topic_info()"
   ],
   "metadata": {
    "collapsed": false,
    "ExecuteTime": {
     "end_time": "2024-05-22T17:52:26.831034Z",
     "start_time": "2024-05-22T17:49:54.231155Z"
    }
   },
   "id": "1ee2acc480e7c29e",
   "execution_count": 135
  },
  {
   "cell_type": "code",
   "outputs": [
    {
     "data": {
      "text/plain": "      Topic                                           Words  Frequency  \\\n0        -1          soviet, mr, terrorism, reagan, america   0.001679   \n1         0      israel, palestinian, lebanon, arab, arafat   0.000805   \n2         1                puerto, rican, bomb, rico, group   0.000232   \n3         2  committee, bureau, bill, subcommittee, senator   0.000109   \n4         3    naxalite, pakistan, zia, afghanistan, hijack   0.000055   \n...     ...                                             ...        ...   \n1129     88       klinghoffer, salamon, opera, hijack, leon   0.000013   \n1130     94     lecake, air, nasic, springfield, fitzgerald   0.000006   \n1131     96  rwanda, rusesabagina, kagame, kigali, genocide   0.000071   \n1132     97             oil, pipeline, crude, train, derail   0.000026   \n1133     98        vienna, austria, nehammer, attack, shoot   0.000039   \n\n      Timestamp  \n0       1979.96  \n1       1979.96  \n2       1979.96  \n3       1979.96  \n4       1979.96  \n...         ...  \n1129    2018.00  \n1130    2018.00  \n1131    2018.00  \n1132    2018.00  \n1133    2018.00  \n\n[1134 rows x 4 columns]",
      "text/html": "<div>\n<style scoped>\n    .dataframe tbody tr th:only-of-type {\n        vertical-align: middle;\n    }\n\n    .dataframe tbody tr th {\n        vertical-align: top;\n    }\n\n    .dataframe thead th {\n        text-align: right;\n    }\n</style>\n<table border=\"1\" class=\"dataframe\">\n  <thead>\n    <tr style=\"text-align: right;\">\n      <th></th>\n      <th>Topic</th>\n      <th>Words</th>\n      <th>Frequency</th>\n      <th>Timestamp</th>\n    </tr>\n  </thead>\n  <tbody>\n    <tr>\n      <th>0</th>\n      <td>-1</td>\n      <td>soviet, mr, terrorism, reagan, america</td>\n      <td>0.001679</td>\n      <td>1979.96</td>\n    </tr>\n    <tr>\n      <th>1</th>\n      <td>0</td>\n      <td>israel, palestinian, lebanon, arab, arafat</td>\n      <td>0.000805</td>\n      <td>1979.96</td>\n    </tr>\n    <tr>\n      <th>2</th>\n      <td>1</td>\n      <td>puerto, rican, bomb, rico, group</td>\n      <td>0.000232</td>\n      <td>1979.96</td>\n    </tr>\n    <tr>\n      <th>3</th>\n      <td>2</td>\n      <td>committee, bureau, bill, subcommittee, senator</td>\n      <td>0.000109</td>\n      <td>1979.96</td>\n    </tr>\n    <tr>\n      <th>4</th>\n      <td>3</td>\n      <td>naxalite, pakistan, zia, afghanistan, hijack</td>\n      <td>0.000055</td>\n      <td>1979.96</td>\n    </tr>\n    <tr>\n      <th>...</th>\n      <td>...</td>\n      <td>...</td>\n      <td>...</td>\n      <td>...</td>\n    </tr>\n    <tr>\n      <th>1129</th>\n      <td>88</td>\n      <td>klinghoffer, salamon, opera, hijack, leon</td>\n      <td>0.000013</td>\n      <td>2018.00</td>\n    </tr>\n    <tr>\n      <th>1130</th>\n      <td>94</td>\n      <td>lecake, air, nasic, springfield, fitzgerald</td>\n      <td>0.000006</td>\n      <td>2018.00</td>\n    </tr>\n    <tr>\n      <th>1131</th>\n      <td>96</td>\n      <td>rwanda, rusesabagina, kagame, kigali, genocide</td>\n      <td>0.000071</td>\n      <td>2018.00</td>\n    </tr>\n    <tr>\n      <th>1132</th>\n      <td>97</td>\n      <td>oil, pipeline, crude, train, derail</td>\n      <td>0.000026</td>\n      <td>2018.00</td>\n    </tr>\n    <tr>\n      <th>1133</th>\n      <td>98</td>\n      <td>vienna, austria, nehammer, attack, shoot</td>\n      <td>0.000039</td>\n      <td>2018.00</td>\n    </tr>\n  </tbody>\n</table>\n<p>1134 rows × 4 columns</p>\n</div>"
     },
     "execution_count": 136,
     "metadata": {},
     "output_type": "execute_result"
    }
   ],
   "source": [
    "topics_over_time.to_csv('output/dtm/topics_over_time_100.csv', index=False)\n",
    "topics_over_time\n"
   ],
   "metadata": {
    "collapsed": false,
    "ExecuteTime": {
     "end_time": "2024-05-22T17:52:40.751971Z",
     "start_time": "2024-05-22T17:52:40.723799Z"
    }
   },
   "id": "7c7b56ce4c7c8cf7",
   "execution_count": 136
  },
  {
   "cell_type": "code",
   "outputs": [
    {
     "data": {
      "application/vnd.plotly.v1+json": {
       "data": [
        {
         "hoverinfo": "text",
         "hovertext": [
          "<b>Topic 0</b><br>Words: israel, palestinian, lebanon, arab, arafat",
          "<b>Topic 0</b><br>Words: israel, lebanon, marine, palestinian, beirut",
          "<b>Topic 0</b><br>Words: israel, palestinian, syria, lebanon, arab",
          "<b>Topic 0</b><br>Words: israel, arafat, palestinian, plo, peace",
          "<b>Topic 0</b><br>Words: israel, plo, palestinian, arafat, syria",
          "<b>Topic 0</b><br>Words: israel, hostage, palestinian, lebanon, plo",
          "<b>Topic 0</b><br>Words: israel, palestinian, peace, arafat, syria",
          "<b>Topic 0</b><br>Words: israel, palestinian, peace, arafat, clinton",
          "<b>Topic 0</b><br>Words: israel, palestinian, netanyahu, arafat, peace",
          "<b>Topic 0</b><br>Words: israel, palestinian, peace, syria, arafat",
          "<b>Topic 0</b><br>Words: israel, palestinian, arafat, sharon, peace",
          "<b>Topic 0</b><br>Words: israel, palestinian, arafat, syria, peace",
          "<b>Topic 0</b><br>Words: israel, palestinian, hama, peace, arab",
          "<b>Topic 0</b><br>Words: israel, palestinian, peace, hama, arab",
          "<b>Topic 0</b><br>Words: israel, palestinian, hama, gaza, iran",
          "<b>Topic 0</b><br>Words: israel, syria, palestinian, assad, hama",
          "<b>Topic 0</b><br>Words: israel, palestinian, syria, hama, peace",
          "<b>Topic 0</b><br>Words: israel, palestinian, syria, assad, aleppo",
          "<b>Topic 0</b><br>Words: israel, syria, palestinian, hama, peace",
          "<b>Topic 0</b><br>Words: israel, palestinian, hama, uliel, syria"
         ],
         "marker": {
          "color": "#E69F00"
         },
         "mode": "lines",
         "name": "0_israel_palestinian_arafat_syria",
         "x": [
          1979.96,
          1982.0,
          1984.0,
          1986.0,
          1988.0,
          1990.0,
          1992.0,
          1994.0,
          1996.0,
          1998.0,
          2000.0,
          2002.0,
          2004.0,
          2006.0,
          2008.0,
          2010.0,
          2012.0,
          2014.0,
          2016.0,
          2018.0
         ],
         "y": [
          8.053670753927323E-4,
          9.034801586370356E-4,
          9.642356241234221E-4,
          0.001055777539551051,
          0.0015090543259557343,
          2.721943048576214E-4,
          0.0016284650798315211,
          0.0011196379837185976,
          9.087943328517501E-4,
          3.33667000333667E-4,
          6.944444444444445E-4,
          5.779934351362923E-4,
          6.130595950955232E-4,
          3.467857297672201E-4,
          2.205463858850313E-4,
          5.487269534679544E-4,
          5.036447978793903E-4,
          3.4890898843232507E-4,
          4.271384479717813E-4,
          1.8019641409135957E-4
         ],
         "type": "scatter"
        },
        {
         "hoverinfo": "text",
         "hovertext": [
          "<b>Topic 1</b><br>Words: puerto, rican, bomb, rico, group",
          "<b>Topic 1</b><br>Words: webster, bureau, incident, history, group",
          "<b>Topic 1</b><br>Words: terrorist, terrorism, group, us, violence",
          "<b>Topic 1</b><br>Words: rubenstein, terrorism, revolution, taheri, fundamentalism",
          "<b>Topic 1</b><br>Words: hate, crime, dinegar, terrorist, terrorism",
          "<b>Topic 1</b><br>Words: turabi, fundamentalism, islam, puerto, fbi",
          "<b>Topic 1</b><br>Words: bomb, muslim, trade, center, terrorist",
          "<b>Topic 1</b><br>Words: oklahoma, bomb, city, muslim, america",
          "<b>Topic 1</b><br>Words: bomb, oklahoma, muslim, city, buck",
          "<b>Topic 1</b><br>Words: islam, muslim, terrorist, terrorism, oklahoma",
          "<b>Topic 1</b><br>Words: muslim, america, terrorist, terrorism, islam",
          "<b>Topic 1</b><br>Words: muslim, islam, terrorism, america, terrorist",
          "<b>Topic 1</b><br>Words: muslim, islam, america, terrorist, fatwa",
          "<b>Topic 1</b><br>Words: muslim, islam, fascism, islamo, horowitz",
          "<b>Topic 1</b><br>Words: hasan, muslim, islam, america, hood",
          "<b>Topic 1</b><br>Words: muslim, king, hearing, america, islam",
          "<b>Topic 1</b><br>Words: muslim, islam, terrorism, hasan, america",
          "<b>Topic 1</b><br>Words: muslim, gun, islam, shoot, people",
          "<b>Topic 1</b><br>Words: white, shoot, muslim, terrorism, trump",
          "<b>Topic 1</b><br>Words: shoot, white, trump, violence, muslim"
         ],
         "marker": {
          "color": "#56B4E9"
         },
         "mode": "lines",
         "name": "1_muslim_islam_america_terrorism",
         "x": [
          1979.96,
          1982.0,
          1984.0,
          1986.0,
          1988.0,
          1990.0,
          1992.0,
          1994.0,
          1996.0,
          1998.0,
          2000.0,
          2002.0,
          2004.0,
          2006.0,
          2008.0,
          2010.0,
          2012.0,
          2014.0,
          2016.0,
          2018.0
         ],
         "y": [
          2.3205492002841439E-4,
          1.4080210264473284E-4,
          2.9584502103786815E-4,
          8.121365688854238E-5,
          6.797542008809614E-5,
          2.0938023450586266E-5,
          2.816142619257518E-4,
          4.431900352219449E-4,
          2.679778160973109E-4,
          1.668335001668335E-4,
          3.958333333333333E-4,
          3.068360211217354E-4,
          4.99001996007984E-4,
          4.5515627031947635E-4,
          3.770631758679567E-4,
          5.999414691249634E-4,
          4.37375745526839E-4,
          0.001187632518317722,
          0.0011160714285714285,
          8.301906220637637E-4
         ],
         "type": "scatter"
        },
        {
         "hoverinfo": "text",
         "hovertext": [
          "<b>Topic 2</b><br>Words: committee, bureau, bill, subcommittee, senator",
          "<b>Topic 2</b><br>Words: marijuana, guidelines, bureau, rodino, compromise",
          "<b>Topic 2</b><br>Words: fence, capitol, constituent, representative, senator",
          "<b>Topic 2</b><br>Words: thornburgh, runkel, cispe, investigate, drug",
          "<b>Topic 2</b><br>Words: hershman, senator, bill, debate, proposal",
          "<b>Topic 2</b><br>Words: leahy, taggant, freeh, gunpowder, fbi",
          "<b>Topic 2</b><br>Words: bill, clinton, house, senate, wiretap",
          "<b>Topic 2</b><br>Words: fbi, computer, terrorism, specter, information",
          "<b>Topic 2</b><br>Words: computer, fbi, collingwood, division, national",
          "<b>Topic 2</b><br>Words: fbi, ashcroft, bill, senate, house",
          "<b>Topic 2</b><br>Words: ashcroft, fbi, patriot, department, law",
          "<b>Topic 2</b><br>Words: patriot, fbi, act, law, investigate",
          "<b>Topic 2</b><br>Words: fbi, record, justice, case, department",
          "<b>Topic 2</b><br>Words: law, fbi, miranda, patriot, act",
          "<b>Topic 2</b><br>Words: fusion, law, government, information, senate",
          "<b>Topic 2</b><br>Words: nsa, surveillance, phone, government, record",
          "<b>Topic 2</b><br>Words: fbi, government, percent, democrat, surveillance",
          "<b>Topic 2</b><br>Words: fbi, notification, bill, justice, information",
          "<b>Topic 2</b><br>Words: surveillance, bill, patriot, act, wolf"
         ],
         "marker": {
          "color": "#009E73"
         },
         "mode": "lines",
         "name": "2_fbi_bill_law_senate",
         "x": [
          1979.96,
          1982.0,
          1984.0,
          1988.0,
          1990.0,
          1992.0,
          1994.0,
          1996.0,
          1998.0,
          2000.0,
          2002.0,
          2004.0,
          2006.0,
          2008.0,
          2010.0,
          2012.0,
          2014.0,
          2016.0,
          2018.0
         ],
         "y": [
          1.0920231530748912E-4,
          2.346701710745547E-5,
          1.0957223001402524E-5,
          4.078525205285769E-5,
          3.14070351758794E-5,
          6.122049172298952E-5,
          0.002017680949826223,
          2.213729785151699E-4,
          1.8768768768768769E-4,
          0.0012291666666666666,
          0.0011345797060082774,
          7.770173937838608E-4,
          4.334821622090251E-4,
          4.3397837222538415E-4,
          5.633596722270998E-4,
          6.163021868787277E-4,
          3.5561877667140827E-4,
          6.889329805996472E-5,
          2.059387589615538E-4
         ],
         "type": "scatter"
        },
        {
         "hoverinfo": "text",
         "hovertext": [
          "<b>Topic 3</b><br>Words: naxalite, pakistan, zia, afghanistan, hijack",
          "<b>Topic 3</b><br>Words: sikh, punjab, gandhi, india, pakistan",
          "<b>Topic 3</b><br>Words: sikh, pakistan, india, gandhi, minister",
          "<b>Topic 3</b><br>Words: sikh, ribeiro, punjab, pakistan, gandhi",
          "<b>Topic 3</b><br>Words: sikh, hindu, punjab, singh, village",
          "<b>Topic 3</b><br>Words: gandhi, indian, pakistan, assassinate, militant",
          "<b>Topic 3</b><br>Words: pakistan, india, fuqra, indian, islamabad",
          "<b>Topic 3</b><br>Words: pakistan, yousef, sandhu, bhutto, india",
          "<b>Topic 3</b><br>Words: pakistan, sharif, afghanistan, kasi, laden",
          "<b>Topic 3</b><br>Words: pakistan, india, kashmir, afghanistan, indian",
          "<b>Topic 3</b><br>Words: pakistan, india, afghanistan, kashmir, indian",
          "<b>Topic 3</b><br>Words: pakistan, afghanistan, taliban, musharraf, india",
          "<b>Topic 3</b><br>Words: pakistan, india, afghanistan, musharraf, indian",
          "<b>Topic 3</b><br>Words: pakistan, india, musharraf, afghanistan, indian",
          "<b>Topic 3</b><br>Words: pakistan, india, afghanistan, taliban, mumbai",
          "<b>Topic 3</b><br>Words: pakistan, afghanistan, india, taliban, indian",
          "<b>Topic 3</b><br>Words: pakistan, india, afghanistan, taliban, sharif",
          "<b>Topic 3</b><br>Words: pakistan, india, taliban, afghanistan, militant",
          "<b>Topic 3</b><br>Words: pakistan, india, afghanistan, indian, minister",
          "<b>Topic 3</b><br>Words: pakistan, india, indian, modi, kashmir"
         ],
         "marker": {
          "color": "#F0E442"
         },
         "mode": "lines",
         "name": "3_pakistan_india_afghanistan_indian",
         "x": [
          1979.96,
          1982.0,
          1984.0,
          1986.0,
          1988.0,
          1990.0,
          1992.0,
          1994.0,
          1996.0,
          1998.0,
          2000.0,
          2002.0,
          2004.0,
          2006.0,
          2008.0,
          2010.0,
          2012.0,
          2014.0,
          2016.0,
          2018.0
         ],
         "y": [
          5.460115765374456E-5,
          1.8773613685964377E-4,
          5.478611500701262E-5,
          6.49709255108339E-5,
          4.078525205285769E-5,
          1.0469011725293133E-5,
          8.570868841218533E-5,
          5.831447831867696E-5,
          6.990725637321154E-5,
          3.440940940940941E-4,
          3.75E-4,
          1.5698587127158556E-4,
          2.708867978329056E-4,
          0.0011559524325574003,
          0.0013730791121229367,
          6.365232660228271E-4,
          3.843605036447979E-4,
          1.4761534125982983E-4,
          0.0010265101410934744,
          9.84644691284929E-4
         ],
         "type": "scatter"
        },
        {
         "hoverinfo": "text",
         "hovertext": [
          "<b>Topic 4</b><br>Words: rockland, gribetz, robbery, indict, degree",
          "<b>Topic 4</b><br>Words: rukn, gang, indict, fort, transmitter",
          "<b>Topic 4</b><br>Words: charafeddine, hashemi, palmieri, ayatollah, suffolk",
          "<b>Topic 4</b><br>Words: edwardsville, dickmann, panama, noriega, bounty",
          "<b>Topic 4</b><br>Words: hamide, restaurant, choi, wah, case",
          "<b>Topic 4</b><br>Words: rahman, abdel, defendant, sheik, indict",
          "<b>Topic 4</b><br>Words: rahman, abdel, salem, sheik, defendant",
          "<b>Topic 4</b><br>Words: ratigan, merrell, barbee, judge, trial",
          "<b>Topic 4</b><br>Words: judge, najjar, hage, mr, lawyer",
          "<b>Topic 4</b><br>Words: arian, al, court, indict, trial",
          "<b>Topic 4</b><br>Words: court, trial, arian, case, judge",
          "<b>Topic 4</b><br>Words: arian, court, al, padilla, trial",
          "<b>Topic 4</b><br>Words: padilla, trial, court, guantanamo, case",
          "<b>Topic 4</b><br>Words: zazi, guantanamo, court, detainee, trial",
          "<b>Topic 4</b><br>Words: court, trial, judge, guantanamo, prison",
          "<b>Topic 4</b><br>Words: court, case, guantanamo, al, judge",
          "<b>Topic 4</b><br>Words: mohamud, cook, bangladesh, court, charge",
          "<b>Topic 4</b><br>Words: court, namo, guant, prison, guantanamo",
          "<b>Topic 4</b><br>Words: trial, judge, court, prison, hassoun"
         ],
         "marker": {
          "color": "#D55E00"
         },
         "mode": "lines",
         "name": "4_court_trial_case_judge",
         "x": [
          1979.96,
          1984.0,
          1986.0,
          1988.0,
          1990.0,
          1992.0,
          1994.0,
          1996.0,
          1998.0,
          2000.0,
          2002.0,
          2004.0,
          2006.0,
          2008.0,
          2010.0,
          2012.0,
          2014.0,
          2016.0,
          2018.0
         ],
         "y": [
          1.365028941343614E-5,
          1.0957223001402524E-5,
          6.49709255108339E-5,
          2.7190168035238456E-5,
          2.0938023450586266E-5,
          5.877167205406994E-4,
          3.032352872571202E-4,
          2.446753973062404E-4,
          2.919586252919586E-4,
          1.0416666666666667E-4,
          4.2814328528614244E-4,
          6.05930995152552E-4,
          9.536607568598552E-4,
          0.0012023335230506545,
          8.340649692712906E-4,
          5.301524188204108E-4,
          1.7445449421616254E-4,
          3.513558201058201E-4,
          2.509878624843937E-4
         ],
         "type": "scatter"
        },
        {
         "hoverinfo": "text",
         "hovertext": [
          "<b>Topic 5</b><br>Words: libya, qaddafi, colonel, oil, america",
          "<b>Topic 5</b><br>Words: libya, malta, qaddafi, colonel, embassy",
          "<b>Topic 5</b><br>Words: libya, qaddafi, america, reagan, europe",
          "<b>Topic 5</b><br>Words: libya, qaddafi, chad, us, colonel",
          "<b>Topic 5</b><br>Words: libya, gadhafi, weapon, qaddafi, chemical",
          "<b>Topic 5</b><br>Words: libya, council, pan, sanction, resolution",
          "<b>Topic 5</b><br>Words: libya, gadhafi, qaddafi, clinton, united",
          "<b>Topic 5</b><br>Words: libya, farrakhan, laden, bin, international",
          "<b>Topic 5</b><br>Words: laden, bin, libya, embassy, bomb",
          "<b>Topic 5</b><br>Words: libya, yemen, laden, bin, cole",
          "<b>Topic 5</b><br>Words: laden, bin, libya, al, qaida",
          "<b>Topic 5</b><br>Words: al, qaida, bin, libya, laden",
          "<b>Topic 5</b><br>Words: libya, al, laden, bin, qaida",
          "<b>Topic 5</b><br>Words: libya, al, yemen, qaida, laden",
          "<b>Topic 5</b><br>Words: yemen, al, qaida, libya, qaeda",
          "<b>Topic 5</b><br>Words: laden, bin, al, yemen, libya",
          "<b>Topic 5</b><br>Words: drone, al, yemen, libya, strike",
          "<b>Topic 5</b><br>Words: drone, libya, al, strike, qaida",
          "<b>Topic 5</b><br>Words: yemen, libya, drone, al, laden",
          "<b>Topic 5</b><br>Words: al, qaeda, masri, libya, iran"
         ],
         "marker": {
          "color": "#0072B2"
         },
         "mode": "lines",
         "name": "5_libya_yemen_al_laden",
         "x": [
          1979.96,
          1982.0,
          1984.0,
          1986.0,
          1988.0,
          1990.0,
          1992.0,
          1994.0,
          1996.0,
          1998.0,
          2000.0,
          2002.0,
          2004.0,
          2006.0,
          2008.0,
          2010.0,
          2012.0,
          2014.0,
          2016.0,
          2018.0
         ],
         "y": [
          3.139566565090312E-4,
          1.1733508553727736E-4,
          6.245617110799439E-4,
          1.299418510216678E-4,
          9.516558812333461E-5,
          3.0360134003350084E-4,
          1.2244098344597903E-4,
          6.997737398241235E-5,
          6.757701449410449E-4,
          4.3793793793793793E-4,
          3.4722222222222224E-4,
          2.4261452832881404E-4,
          1.996007984031936E-4,
          3.251116216567688E-4,
          2.98804780876494E-4,
          8.340649692712906E-4,
          3.180914512922465E-4,
          8.05174588689981E-5,
          1.722332451499118E-4,
          1.029693794807769E-4
         ],
         "type": "scatter"
        },
        {
         "hoverinfo": "text",
         "hovertext": [
          "<b>Topic 6</b><br>Words: insurance, coverage, trip, travel, company",
          "<b>Topic 6</b><br>Words: coverage, risk, underwriter, insurance, rate",
          "<b>Topic 6</b><br>Words: pool, insurance, coverage, insurer, risk",
          "<b>Topic 6</b><br>Words: reinsure, insurance, pool, coverage, risk",
          "<b>Topic 6</b><br>Words: pool, insurance, coverage, risk, reinsure",
          "<b>Topic 6</b><br>Words: risk, insurance, pool, coverage, rate",
          "<b>Topic 6</b><br>Words: insurance, coverage, insurer, risk, loss",
          "<b>Topic 6</b><br>Words: insurance, coverage, risk, insurer, tria",
          "<b>Topic 6</b><br>Words: insurance, tria, risk, insurer, coverage",
          "<b>Topic 6</b><br>Words: insurance, risk, coverage, insurer, backstop",
          "<b>Topic 6</b><br>Words: insurance, backstop, risk, insurer, coverage",
          "<b>Topic 6</b><br>Words: insurance, risk, insurer, coverage, backstop",
          "<b>Topic 6</b><br>Words: insurance, risk, insurer, tria, coverage",
          "<b>Topic 6</b><br>Words: insurance, coverage, risk, market, tria",
          "<b>Topic 6</b><br>Words: insurance, coverage, art, insurer, risk",
          "<b>Topic 6</b><br>Words: insurance, risk, business, insurer, coverage"
         ],
         "marker": {
          "color": "#CC79A7"
         },
         "mode": "lines",
         "name": "6_insurance_coverage_risk_insurer",
         "x": [
          1988.0,
          1990.0,
          1992.0,
          1994.0,
          1996.0,
          1998.0,
          2000.0,
          2002.0,
          2004.0,
          2006.0,
          2008.0,
          2010.0,
          2012.0,
          2014.0,
          2016.0,
          2018.0
         ],
         "y": [
          1.3595084017619228E-5,
          1.1515912897822445E-4,
          1.7141737682437066E-4,
          3.4988686991206175E-5,
          3.495362818660577E-5,
          2.085418752085419E-5,
          6.597222222222222E-4,
          6.993006993006993E-4,
          9.409751924721985E-4,
          6.429985406100539E-4,
          9.960159362549801E-5,
          1.3169446883230904E-4,
          5.301524188204108E-4,
          1.0064682358624762E-4,
          2.0667989417989417E-5,
          9.653379326322834E-5
         ],
         "type": "scatter"
        },
        {
         "hoverinfo": "text",
         "hovertext": [
          "<b>Topic 7</b><br>Words: bush, iraq, saddam, gulf, president",
          "<b>Topic 7</b><br>Words: iraq, bush, saddam, hussein, kuwait",
          "<b>Topic 7</b><br>Words: iraq, bush, kuwait, president, saddam",
          "<b>Topic 7</b><br>Words: cut, veto, billion, package, budget",
          "<b>Topic 7</b><br>Words: clarke, pba, iraq, bush, deutch",
          "<b>Topic 7</b><br>Words: clarke, bush, mr, dick, department",
          "<b>Topic 7</b><br>Words: bush, billion, iraq, war, spend",
          "<b>Topic 7</b><br>Words: bush, kerry, iraq, clarke, war",
          "<b>Topic 7</b><br>Words: bush, iraq, war, president, democrat",
          "<b>Topic 7</b><br>Words: bush, iraq, war, democrat, feith",
          "<b>Topic 7</b><br>Words: cheney, bush, obama, president, vice",
          "<b>Topic 7</b><br>Words: bush, obama, war, iraq, america",
          "<b>Topic 7</b><br>Words: bush, iraq, obama, percent, cheney",
          "<b>Topic 7</b><br>Words: bush, president, iran, kerry, lahey",
          "<b>Topic 7</b><br>Words: bush, iraq, population, war, president",
          "<b>Topic 7</b><br>Words: hitler, bush, iraq, war, germany"
         ],
         "marker": {
          "color": "#E69F00"
         },
         "mode": "lines",
         "name": "7_bush_iraq_war_kerry",
         "x": [
          1988.0,
          1990.0,
          1992.0,
          1994.0,
          1996.0,
          1998.0,
          2000.0,
          2002.0,
          2004.0,
          2006.0,
          2008.0,
          2010.0,
          2012.0,
          2014.0,
          2016.0,
          2018.0
         ],
         "y": [
          8.157050410571538E-5,
          1.4656616415410385E-4,
          7.346459006758743E-5,
          2.3325791327470786E-5,
          4.6604837582141024E-5,
          1.0427093760427094E-5,
          5.069444444444444E-4,
          0.0013272441843870414,
          6.986027944111777E-4,
          2.3119048651148004E-4,
          1.9920318725099602E-4,
          1.3169446883230904E-4,
          1.0603048376408218E-4,
          5.3678305912665394E-5,
          3.444664902998236E-5,
          1.930675865264567E-5
         ],
         "type": "scatter"
        },
        {
         "hoverinfo": "text",
         "hovertext": [
          "<b>Topic 8</b><br>Words: britain, london, police, yard, pertini",
          "<b>Topic 8</b><br>Words: britain, london, accompany, minister, prime",
          "<b>Topic 8</b><br>Words: treaty, extradite, britain, thatch, politics",
          "<b>Topic 8</b><br>Words: miasmic, must, theory, remedial, britain",
          "<b>Topic 8</b><br>Words: lectern, yard, churchill, coleman, plastic",
          "<b>Topic 8</b><br>Words: london, britain, ira, station, ireland",
          "<b>Topic 8</b><br>Words: tucker, london, embassy, abortion, britain",
          "<b>Topic 8</b><br>Words: britain, london, gutteridge, police, bomb",
          "<b>Topic 8</b><br>Words: blair, britain, omagh, ireland, london",
          "<b>Topic 8</b><br>Words: london, tower, britain, wellington, perry",
          "<b>Topic 8</b><br>Words: blair, preston, britain, london, attack",
          "<b>Topic 8</b><br>Words: britain, london, blair, police, arrest",
          "<b>Topic 8</b><br>Words: britain, london, blair, police, attack",
          "<b>Topic 8</b><br>Words: britain, london, brown, blair, police",
          "<b>Topic 8</b><br>Words: britain, london, men, police, plot",
          "<b>Topic 8</b><br>Words: britain, london, police, extradite, masri",
          "<b>Topic 8</b><br>Words: britain, london, cameron, police, attack",
          "<b>Topic 8</b><br>Words: london, britain, police, knife, attack",
          "<b>Topic 8</b><br>Words: london, britain, police, attack, parliament",
          "<b>Topic 8</b><br>Words: london, police, britain, stabbing, attack"
         ],
         "marker": {
          "color": "#56B4E9"
         },
         "mode": "lines",
         "name": "8_britain_london_police_blair",
         "x": [
          1979.96,
          1982.0,
          1984.0,
          1986.0,
          1988.0,
          1990.0,
          1992.0,
          1994.0,
          1996.0,
          1998.0,
          2000.0,
          2002.0,
          2004.0,
          2006.0,
          2008.0,
          2010.0,
          2012.0,
          2014.0,
          2016.0,
          2018.0
         ],
         "y": [
          1.365028941343614E-5,
          2.346701710745547E-5,
          2.191444600280505E-5,
          1.6242731377708475E-5,
          1.3595084017619228E-5,
          7.328308207705192E-5,
          3.6732295033793715E-5,
          2.3325791327470786E-5,
          4.6604837582141024E-5,
          2.085418752085419E-5,
          4.1666666666666665E-5,
          1.5698587127158556E-4,
          8.340461933276305E-4,
          3.6845983787767134E-4,
          2.0631758679567444E-4,
          2.4143985952589992E-4,
          1.5241882041086812E-4,
          1.1406640006441397E-4,
          5.442570546737213E-4,
          3.0247255222478215E-4
         ],
         "type": "scatter"
        },
        {
         "hoverinfo": "text",
         "hovertext": [
          "<b>Topic 9</b><br>Words: france, mitterrand, paris, jew, attack",
          "<b>Topic 9</b><br>Words: france, paris, mitterrand, chad, iran",
          "<b>Topic 9</b><br>Words: france, chirac, paris, syria, abdallah",
          "<b>Topic 9</b><br>Words: france, paris, iran, gordji, abdallah",
          "<b>Topic 9</b><br>Words: naccache, france, paris, baker, hostage",
          "<b>Topic 9</b><br>Words: habash, france, nidal, duma, seale",
          "<b>Topic 9</b><br>Words: france, switzerland, iran, balladur, bakhtiar",
          "<b>Topic 9</b><br>Words: france, paris, algeria, debre, europe",
          "<b>Topic 9</b><br>Words: france, paris, cup, europe, police",
          "<b>Topic 9</b><br>Words: france, belgium, gallarate, strasbourg, arrest",
          "<b>Topic 9</b><br>Words: france, bruguiere, trabelsi, paris, gia",
          "<b>Topic 9</b><br>Words: cherif, france, girlfriend, paris, benyettou",
          "<b>Topic 9</b><br>Words: france, verge, paris, sarkozy, algeria",
          "<b>Topic 9</b><br>Words: france, hicheur, paris, arrest, cern",
          "<b>Topic 9</b><br>Words: france, merah, paris, toulouse, sarkozy",
          "<b>Topic 9</b><br>Words: france, paris, syria, europe, brussels",
          "<b>Topic 9</b><br>Words: france, paris, belgium, attack, brussels",
          "<b>Topic 9</b><br>Words: france, paris, strasbourg, attack, police",
          "<b>Topic 9</b><br>Words: france, paris, macron, attack, hebdo"
         ],
         "marker": {
          "color": "#009E73"
         },
         "mode": "lines",
         "name": "9_france_paris_attack_belgium",
         "x": [
          1979.96,
          1982.0,
          1984.0,
          1986.0,
          1988.0,
          1990.0,
          1992.0,
          1994.0,
          1996.0,
          2000.0,
          2002.0,
          2004.0,
          2006.0,
          2008.0,
          2010.0,
          2012.0,
          2014.0,
          2016.0,
          2018.0
         ],
         "y": [
          2.866560776821589E-4,
          8.213455987609415E-5,
          2.629733520336606E-4,
          1.949127765325017E-4,
          4.078525205285769E-5,
          1.0469011725293133E-5,
          3.6732295033793715E-5,
          5.831447831867696E-5,
          5.8256046977676285E-5,
          2.0833333333333333E-5,
          2.1407164264307123E-5,
          2.1385799828913603E-5,
          7.947172973832127E-5,
          7.11439954467843E-5,
          1.9022534386889083E-4,
          1.2591119946984758E-4,
          8.185941651681472E-4,
          4.409171075837742E-4,
          4.118775179231076E-4
         ],
         "type": "scatter"
        },
        {
         "hoverinfo": "text",
         "hovertext": [
          "<b>Topic 10</b><br>Words: mehle, tribunal, mccain, obama, administration",
          "<b>Topic 10</b><br>Words: task, heymann, member, force, protection",
          "<b>Topic 10</b><br>Words: torture, interrogate, mccain, bush, detainee",
          "<b>Topic 10</b><br>Words: mukasey, obama, mccain, interrogate, mr",
          "<b>Topic 10</b><br>Words: obama, interrogate, administration, mr, president",
          "<b>Topic 10</b><br>Words: obama, benghazi, administration, interrogate, attack",
          "<b>Topic 10</b><br>Words: obama, holder, interrogate, torture, benghazi",
          "<b>Topic 10</b><br>Words: obama, president, islam, torture, bernardino",
          "<b>Topic 10</b><br>Words: khattala, benghazi, haspel, obama, interrogate",
          "<b>Topic 10</b><br>Words: obama, mr, turley, trump, white"
         ],
         "marker": {
          "color": "#F0E442"
         },
         "mode": "lines",
         "name": "10_obama_interrogate_torture_administrat...",
         "x": [
          2000.0,
          2002.0,
          2004.0,
          2006.0,
          2008.0,
          2010.0,
          2012.0,
          2014.0,
          2016.0,
          2018.0
         ],
         "y": [
          4.1666666666666665E-5,
          7.135721421435707E-6,
          2.2098659823210722E-4,
          3.829092432846388E-4,
          5.051223676721684E-4,
          4.316652033947908E-4,
          4.1749502982107355E-4,
          3.153600472369092E-4,
          1.240079365079365E-4,
          7.722703461058268E-5
         ],
         "type": "scatter"
        },
        {
         "hoverinfo": "text",
         "hovertext": [
          "<b>Topic 12</b><br>Words: iran, reagan, soviet, intelligence, administration",
          "<b>Topic 12</b><br>Words: reagan, iran, shultz, lebanon, administration",
          "<b>Topic 12</b><br>Words: iran, reagan, administration, shultz, mr",
          "<b>Topic 12</b><br>Words: iran, reagan, shultz, mr, ledeen",
          "<b>Topic 12</b><br>Words: iran, mfn, official, america, status",
          "<b>Topic 12</b><br>Words: iran, reagan, rafsanjani, soviet, administration",
          "<b>Topic 12</b><br>Words: iran, mujahedeen, mojahedin, kharrazi, state",
          "<b>Topic 12</b><br>Words: iran, dhahran, gingrich, behind, official",
          "<b>Topic 12</b><br>Words: iran, khatami, tehran, sanction, reagan",
          "<b>Topic 12</b><br>Words: iran, behbahani, guidelines, official, khobar",
          "<b>Topic 12</b><br>Words: iran, khamenei, khatami, reagan, bush",
          "<b>Topic 12</b><br>Words: iran, ebadi, shultz, administration, rights",
          "<b>Topic 12</b><br>Words: iran, nuclear, ahmadinejad, apostolou, tehran",
          "<b>Topic 12</b><br>Words: iran, ahmadinejad, bank, nuclear, guard",
          "<b>Topic 12</b><br>Words: iran, shourd, sanction, nuclear, ahmadinejad",
          "<b>Topic 12</b><br>Words: iran, nuclear, mek, sanction, united",
          "<b>Topic 12</b><br>Words: iran, rouhani, nuclear, sanction, tehran",
          "<b>Topic 12</b><br>Words: iran, nuclear, sanction, deal, state",
          "<b>Topic 12</b><br>Words: iran, sanction, deal, trump, rouhani",
          "<b>Topic 12</b><br>Words: iran, sanction, bolton, trump, tanker"
         ],
         "marker": {
          "color": "#D55E00"
         },
         "mode": "lines",
         "name": "12_iran_reagan_sanction_administration",
         "x": [
          1979.96,
          1982.0,
          1984.0,
          1986.0,
          1988.0,
          1990.0,
          1992.0,
          1994.0,
          1996.0,
          1998.0,
          2000.0,
          2002.0,
          2004.0,
          2006.0,
          2008.0,
          2010.0,
          2012.0,
          2014.0,
          2016.0,
          2018.0
         ],
         "y": [
          3.6855781416277576E-4,
          3.7547227371928754E-4,
          4.163744740532959E-4,
          3.248546275541695E-4,
          8.157050410571538E-5,
          1.256281407035176E-4,
          9.795278675678323E-5,
          1.7494343495603088E-4,
          1.631169315374936E-4,
          3.128128128128128E-5,
          4.1666666666666665E-5,
          4.2814328528614246E-5,
          9.98003992015968E-5,
          1.1559524325574002E-4,
          7.825839499146272E-5,
          1.463271875914545E-4,
          4.638833664678595E-5,
          1.610349177379962E-4,
          1.5845458553791886E-4,
          2.638590349194908E-4
         ],
         "type": "scatter"
        },
        {
         "hoverinfo": "text",
         "hovertext": [
          "<b>Topic 13</b><br>Words: polisario, morocco, summit, oau, mengistu",
          "<b>Topic 13</b><br>Words: sudan, bashir, iran, turabi, western",
          "<b>Topic 13</b><br>Words: sudan, sudanese, khartoum, turabi, islam",
          "<b>Topic 13</b><br>Words: sudan, ethiopia, boutro, sudanese, council",
          "<b>Topic 13</b><br>Words: ghana, accra, invest, undermine, africa",
          "<b>Topic 13</b><br>Words: sudan, slavery, enslave, slave, black",
          "<b>Topic 13</b><br>Words: africa, iara, akeel, sudan, nigeria",
          "<b>Topic 13</b><br>Words: darfur, sudan, gosh, africa, nigeria",
          "<b>Topic 13</b><br>Words: sudan, doumar, africa, nigeria, patman",
          "<b>Topic 13</b><br>Words: sudan, nigeria, africa, sudanese, administration",
          "<b>Topic 13</b><br>Words: africa, nigeria, sudan, mali, boko",
          "<b>Topic 13</b><br>Words: nigeria, africa, boko, haram, mali",
          "<b>Topic 13</b><br>Words: nigeria, boko, haram, sudan, buhari",
          "<b>Topic 13</b><br>Words: nigeria, sudan, haram, boko, africa",
          "<b>Topic 13</b><br>Words: sudan, nigeria, africa, haram, boko"
         ],
         "marker": {
          "color": "#0072B2"
         },
         "mode": "lines",
         "name": "13_sudan_nigeria_africa_haram",
         "x": [
          1982.0,
          1990.0,
          1992.0,
          1994.0,
          1998.0,
          2000.0,
          2002.0,
          2004.0,
          2006.0,
          2008.0,
          2010.0,
          2012.0,
          2014.0,
          2016.0,
          2018.0
         ],
         "y": [
          1.1733508553727736E-5,
          1.0469011725293133E-5,
          1.8366147516896855E-4,
          2.3325791327470786E-5,
          1.0427093760427094E-5,
          6.944444444444445E-6,
          3.5678607107178535E-5,
          2.85143997718848E-5,
          7.947172973832127E-5,
          4.2686397268070576E-5,
          7.316359379572725E-5,
          1.3916500994035785E-4,
          8.722724710808127E-5,
          3.3757716049382714E-4,
          8.55932966933958E-4
         ],
         "type": "scatter"
        },
        {
         "hoverinfo": "text",
         "hovertext": [
          "<b>Topic 19</b><br>Words: salvador, chile, nicaragua, peru, el",
          "<b>Topic 19</b><br>Words: nicaragua, salvador, peru, el, salvadoran",
          "<b>Topic 19</b><br>Words: nicaragua, salvador, peru, duarte, el",
          "<b>Topic 19</b><br>Words: guerrilla, peru, contra, shining, nicaragua",
          "<b>Topic 19</b><br>Words: peru, economic, salvador, shining, arena",
          "<b>Topic 19</b><br>Words: peru, fujimori, shining, guzman, chile",
          "<b>Topic 19</b><br>Words: peru, fujimori, nicaragua, guerrilla, shining",
          "<b>Topic 19</b><br>Words: peru, shining, path, guerrilla, amaru",
          "<b>Topic 19</b><br>Words: peru, fujimori, rebel, berenson, hostage",
          "<b>Topic 19</b><br>Words: peru, berenson, lima, toledo, shining",
          "<b>Topic 19</b><br>Words: chile, mapuche, garzon, pinochet, honduras",
          "<b>Topic 19</b><br>Words: peru, fujimori, nicaragua, shining, berenson",
          "<b>Topic 19</b><br>Words: peru, salvador, shining, salvadoran, fujimori",
          "<b>Topic 19</b><br>Words: peru, berenson, chile, mrta, khan",
          "<b>Topic 19</b><br>Words: berenson, peru, salvador, lori, parole",
          "<b>Topic 19</b><br>Words: movadef, peru, shining, guzm, path",
          "<b>Topic 19</b><br>Words: peru, berenson, mrta, fujimori, shining",
          "<b>Topic 19</b><br>Words: ndez, mapuche, peru, mel, lgbtiq",
          "<b>Topic 19</b><br>Words: morale, arce, bolivia, evo, peru"
         ],
         "marker": {
          "color": "#CC79A7"
         },
         "mode": "lines",
         "name": "19_peru_salvador_nicaragua_chile",
         "x": [
          1979.96,
          1982.0,
          1984.0,
          1986.0,
          1988.0,
          1990.0,
          1992.0,
          1994.0,
          1996.0,
          2000.0,
          2002.0,
          2004.0,
          2006.0,
          2008.0,
          2010.0,
          2012.0,
          2014.0,
          2016.0,
          2018.0
         ],
         "y": [
          6.279133130180624E-4,
          4.8107385070283716E-4,
          1.2052945301542777E-4,
          1.299418510216678E-4,
          4.078525205285769E-5,
          2.0938023450586265E-4,
          3.6732295033793715E-5,
          4.665158265494157E-5,
          1.1651209395535257E-4,
          3.472222222222222E-5,
          2.1407164264307123E-5,
          3.5642999714856005E-5,
          6.502232433135377E-5,
          3.557199772339215E-5,
          2.1949078138718175E-5,
          1.3253810470510272E-5,
          1.3419576478166349E-5,
          1.3778659611992945E-5,
          1.2871172435097113E-5
         ],
         "type": "scatter"
        },
        {
         "hoverinfo": "text",
         "hovertext": [
          "<b>Topic 20</b><br>Words: mondale, hart, campaign, democratic, primary",
          "<b>Topic 20</b><br>Words: pataki, penalty, death, firebomb, giuliani",
          "<b>Topic 20</b><br>Words: clinton, dole, republican, giuliani, leadership",
          "<b>Topic 20</b><br>Words: vermont, bauer, marriage, forbes, gay",
          "<b>Topic 20</b><br>Words: giuliani, republican, lieberman, lott, nation",
          "<b>Topic 20</b><br>Words: giuliani, voter, kerry, republican, edwards",
          "<b>Topic 20</b><br>Words: talent, republican, giuliani, mccaskill, missouri",
          "<b>Topic 20</b><br>Words: giuliani, republican, candidate, mccain, voter",
          "<b>Topic 20</b><br>Words: walsh, giuliani, joe, republican, candidate",
          "<b>Topic 20</b><br>Words: platform, romney, convention, paul, giuliani",
          "<b>Topic 20</b><br>Words: hagan, republican, tilli, democrat, candidate",
          "<b>Topic 20</b><br>Words: trump, republican, candidate, clinton, voter",
          "<b>Topic 20</b><br>Words: republican, hanover, wittman, trump, democrat",
          "<b>Topic 20</b><br>Words: trump, republican, garbarino, voter, beach"
         ],
         "marker": {
          "color": "#E69F00"
         },
         "mode": "lines",
         "name": "20_giuliani_republican_trump_candidate",
         "x": [
          1982.0,
          1992.0,
          1994.0,
          1998.0,
          2000.0,
          2002.0,
          2004.0,
          2006.0,
          2008.0,
          2010.0,
          2012.0,
          2014.0,
          2016.0,
          2018.0
         ],
         "y": [
          1.1733508553727736E-5,
          1.2244098344597904E-5,
          3.4988686991206175E-5,
          1.0427093760427094E-5,
          6.25E-5,
          4.2814328528614246E-5,
          4.99001996007984E-5,
          3.178869189532851E-4,
          6.402959590210586E-5,
          9.511267193444541E-5,
          3.9761431411530815E-5,
          4.025872943449905E-4,
          6.889329805996472E-5,
          7.079144839303412E-5
         ],
         "type": "scatter"
        },
        {
         "hoverinfo": "text",
         "hovertext": [
          "<b>Topic 21</b><br>Words: turkey, armenia, ankara, evren, military",
          "<b>Topic 21</b><br>Words: armenia, turkey, turk, genocide, ankara",
          "<b>Topic 21</b><br>Words: turkey, rabin, shearith, istanbul, turkmen",
          "<b>Topic 21</b><br>Words: armenia, turkey, turk, ottoman, genocide",
          "<b>Topic 21</b><br>Words: turkey, mongolia, ozal, turk, party",
          "<b>Topic 21</b><br>Words: turkey, kurdish, csce, turk, ankara",
          "<b>Topic 21</b><br>Words: turkey, kurdish, kurd, baskaya, village",
          "<b>Topic 21</b><br>Words: turkey, territorial, integrity, iraq, kandemir",
          "<b>Topic 21</b><br>Words: ocalan, turkey, italy, kurdish, sezgin",
          "<b>Topic 21</b><br>Words: turkey, ocalan, pkk, armenia, kurd",
          "<b>Topic 21</b><br>Words: turkey, incirlik, iraq, wolfowitz, northern",
          "<b>Topic 21</b><br>Words: turkey, istanbul, ankara, erdogan, armenia",
          "<b>Topic 21</b><br>Words: turkey, pkk, ocalan, ankara, kurdistan",
          "<b>Topic 21</b><br>Words: turkey, kargin, kurdish, dogan, erdogan",
          "<b>Topic 21</b><br>Words: turkey, erdogan, pkk, germany, armenia",
          "<b>Topic 21</b><br>Words: turkey, kurdish, ankara, perry, nato",
          "<b>Topic 21</b><br>Words: turkey, ankara, sanli, istanbul, dhkp",
          "<b>Topic 21</b><br>Words: turkey, erdogan, ankara, kurdish, istanbul",
          "<b>Topic 21</b><br>Words: turkey, erdogan, cumhuriyet, istanbul, brunson",
          "<b>Topic 21</b><br>Words: turkey, istanbul, altan, armenia, journalist"
         ],
         "marker": {
          "color": "#56B4E9"
         },
         "mode": "lines",
         "name": "21_turkey_armenia_ankara_istanbul",
         "x": [
          1979.96,
          1982.0,
          1984.0,
          1986.0,
          1988.0,
          1990.0,
          1992.0,
          1994.0,
          1996.0,
          1998.0,
          2000.0,
          2002.0,
          2004.0,
          2006.0,
          2008.0,
          2010.0,
          2012.0,
          2014.0,
          2016.0,
          2018.0
         ],
         "y": [
          6.415636024314986E-4,
          1.994696454133715E-4,
          1.0957223001402524E-5,
          3.248546275541695E-5,
          2.7190168035238456E-5,
          3.14070351758794E-5,
          3.6732295033793715E-5,
          1.1662895663735393E-5,
          2.3302418791070512E-5,
          6.256256256256256E-5,
          6.944444444444445E-6,
          3.5678607107178535E-5,
          1.42571998859424E-5,
          1.4449405406967503E-5,
          3.557199772339215E-5,
          3.658179689786362E-5,
          9.27766732935719E-5,
          1.8787407069432887E-4,
          1.4467592592592592E-4,
          5.792027595793701E-5
         ],
         "type": "scatter"
        },
        {
         "hoverinfo": "text",
         "hovertext": [
          "<b>Topic 25</b><br>Words: ireland, northern, ira, britain, ulster",
          "<b>Topic 25</b><br>Words: ireland, northern, britain, ira, extradite",
          "<b>Topic 25</b><br>Words: ireland, ira, northern, britain, tyrie",
          "<b>Topic 25</b><br>Words: ireland, ira, britain, northern, thatch",
          "<b>Topic 25</b><br>Words: ireland, northern, ira, ulster, britain",
          "<b>Topic 25</b><br>Words: ireland, northern, britain, ira, protestant",
          "<b>Topic 25</b><br>Words: ireland, ira, northern, britain, adams",
          "<b>Topic 25</b><br>Words: ireland, ira, northern, britain, sinn",
          "<b>Topic 25</b><br>Words: ireland, ira, northern, omagh, britain",
          "<b>Topic 25</b><br>Words: ireland, ira, northern, dissident, protestant",
          "<b>Topic 25</b><br>Words: ireland, northern, ira, britain, protestant",
          "<b>Topic 25</b><br>Words: mckevitt, ira, ireland, omagh, northern",
          "<b>Topic 25</b><br>Words: ireland, ira, northern, britain, sinn",
          "<b>Topic 25</b><br>Words: ireland, northern, ira, belfast, leavey",
          "<b>Topic 25</b><br>Words: ireland, ira, northern, britain, king",
          "<b>Topic 25</b><br>Words: ireland, belfast, northern, ira, mabel",
          "<b>Topic 25</b><br>Words: ireland, northern, mason, britain, ira",
          "<b>Topic 25</b><br>Words: catholic, ireland, unionist, britain, nationalist",
          "<b>Topic 25</b><br>Words: mckee, ireland, ira, northern, lyra"
         ],
         "marker": {
          "color": "#009E73"
         },
         "mode": "lines",
         "name": "25_ireland_ira_northern_britain",
         "x": [
          1979.96,
          1982.0,
          1984.0,
          1986.0,
          1988.0,
          1990.0,
          1992.0,
          1994.0,
          1996.0,
          1998.0,
          2000.0,
          2002.0,
          2004.0,
          2008.0,
          2010.0,
          2012.0,
          2014.0,
          2016.0,
          2018.0
         ],
         "y": [
          4.0950868240308423E-4,
          3.1680473095064887E-4,
          6.574333800841515E-5,
          1.4618458239937628E-4,
          6.797542008809614E-5,
          7.328308207705192E-5,
          3.183465569595455E-4,
          9.330316530988314E-5,
          9.320967516428205E-5,
          2.085418752085419E-5,
          2.777777777777778E-5,
          7.135721421435707E-6,
          6.415739948674081E-5,
          1.4228799089356859E-5,
          2.92654375182909E-5,
          3.9761431411530815E-5,
          1.3419576478166349E-5,
          6.889329805996472E-6,
          2.5742344870194226E-5
         ],
         "type": "scatter"
        },
        {
         "hoverinfo": "text",
         "hovertext": [
          "<b>Topic 39</b><br>Words: boston, turner, device, tsarnaev, marketing",
          "<b>Topic 39</b><br>Words: tsarnaev, boston, marathon, tamerlan, russia",
          "<b>Topic 39</b><br>Words: boston, tsarnaev, marathon, burke, bomber",
          "<b>Topic 39</b><br>Words: ciccolo, boston, bauman, tsarnaev, marathon",
          "<b>Topic 39</b><br>Words: tsarnaev, boston, marathon, tamerlan, brother"
         ],
         "marker": {
          "color": "#F0E442"
         },
         "mode": "lines",
         "name": "39_tsarnaev_boston_marathon_tamerlan",
         "x": [
          2006.0,
          2012.0,
          2014.0,
          2016.0,
          2018.0
         ],
         "y": [
          1.4449405406967503E-5,
          6.163021868787277E-4,
          1.3419576478166349E-5,
          2.0667989417989417E-5,
          1.2871172435097113E-5
         ],
         "type": "scatter"
        },
        {
         "hoverinfo": "text",
         "hovertext": [
          "<b>Topic 40</b><br>Words: italy, brigade, red, rome, communist",
          "<b>Topic 40</b><br>Words: italy, brigade, red, dozy, rome",
          "<b>Topic 40</b><br>Words: italy, craxi, libya, brigade, red",
          "<b>Topic 40</b><br>Words: italy, brigade, red, moro, priore",
          "<b>Topic 40</b><br>Words: italy, ustica, bologna, cossiga, dietrologia",
          "<b>Topic 40</b><br>Words: curcio, italy, brigade, mafia, falcone",
          "<b>Topic 40</b><br>Words: italy, mafia, florence, spadolini, rome",
          "<b>Topic 40</b><br>Words: italy, brigade, red, antona, rome",
          "<b>Topic 40</b><br>Words: sembler, italy, mel, berlusconi, audience",
          "<b>Topic 40</b><br>Words: italy, milan, kidnap, brigade, chiara",
          "<b>Topic 40</b><br>Words: italy, nasr, milan, rome, brigade",
          "<b>Topic 40</b><br>Words: italy, rome, ansa, anarchist, milan",
          "<b>Topic 40</b><br>Words: italy, school, brindisi, mafia, rome",
          "<b>Topic 40</b><br>Words: italy, panama, seldon, lady, costa",
          "<b>Topic 40</b><br>Words: renzi, italy, europe, matteo, investment",
          "<b>Topic 40</b><br>Words: italy, migrant, ibtah, rescue, capsize"
         ],
         "marker": {
          "color": "#D55E00"
         },
         "mode": "lines",
         "name": "40_italy_brigade_red_rome",
         "x": [
          1979.96,
          1982.0,
          1984.0,
          1986.0,
          1988.0,
          1990.0,
          1992.0,
          2000.0,
          2002.0,
          2004.0,
          2006.0,
          2008.0,
          2010.0,
          2012.0,
          2014.0,
          2016.0
         ],
         "y": [
          5.323612871240094E-4,
          4.693403421491094E-5,
          1.4244389901823282E-4,
          4.8728194133125426E-5,
          1.3595084017619228E-5,
          2.0938023450586266E-5,
          6.122049172298952E-5,
          6.944444444444445E-6,
          7.135721421435707E-6,
          6.415739948674081E-5,
          5.057291892438626E-5,
          2.8457598178713718E-5,
          4.389815627743635E-5,
          3.313452617627568E-5,
          6.709788239083174E-6,
          6.889329805996472E-6
         ],
         "type": "scatter"
        },
        {
         "hoverinfo": "text",
         "hovertext": [
          "<b>Topic 46</b><br>Words: clinton, iraq, saddam, president, missile",
          "<b>Topic 46</b><br>Words: clinton, summit, iran, president, france",
          "<b>Topic 46</b><br>Words: clinton, president, berger, bomb, united",
          "<b>Topic 46</b><br>Words: clinton, computer, chemical, biological, weapon",
          "<b>Topic 46</b><br>Words: sheik, omar, clinton, nuclear, chirac"
         ],
         "marker": {
          "color": "#0072B2"
         },
         "mode": "lines",
         "name": "46_clinton_president_computer_bomb",
         "x": [
          1992.0,
          1994.0,
          1996.0,
          1998.0,
          2004.0
         ],
         "y": [
          1.1019688510138113E-4,
          3.6154976557579716E-4,
          3.495362818660577E-4,
          1.7726059392726058E-4,
          1.42571998859424E-5
         ],
         "type": "scatter"
        },
        {
         "hoverinfo": "text",
         "hovertext": [
          "<b>Topic 57</b><br>Words: mahoney, saudi, ratshot, shoot, deputy",
          "<b>Topic 57</b><br>Words: pensacola, saudi, shoot, naval, alshamrani"
         ],
         "marker": {
          "color": "#CC79A7"
         },
         "mode": "lines",
         "name": "57_pensacola_saudi_shoot_naval",
         "x": [
          1990.0,
          2018.0
         ],
         "y": [
          2.0938023450586266E-5,
          2.767302073545879E-4
         ],
         "type": "scatter"
        },
        {
         "hoverinfo": "text",
         "hovertext": [
          "<b>Topic 58</b><br>Words: ryan, penalty, illinois, death, governor",
          "<b>Topic 58</b><br>Words: illinois, ryan, grady, penalty, library",
          "<b>Topic 58</b><br>Words: illinois, veteran, ryan, terek, meister",
          "<b>Topic 58</b><br>Words: penalty, death, punishment, connecticut, ryan",
          "<b>Topic 58</b><br>Words: illinois, cadigan, ryan, lang, skokie"
         ],
         "marker": {
          "color": "#E69F00"
         },
         "mode": "lines",
         "name": "58_ryan_penalty_illinois_death",
         "x": [
          2000.0,
          2004.0,
          2008.0,
          2010.0,
          2016.0
         ],
         "y": [
          2.6388888888888886E-4,
          1.42571998859424E-5,
          1.4228799089356859E-5,
          7.316359379572725E-6,
          1.3778659611992945E-5
         ],
         "type": "scatter"
        },
        {
         "hoverinfo": "text",
         "hovertext": [
          "<b>Topic 59</b><br>Words: ressam, algeria, canada, arrest, explosive",
          "<b>Topic 59</b><br>Words: ressam, meskini, algeria, canada, seattle",
          "<b>Topic 59</b><br>Words: lng, tanker, markey, boston, connection",
          "<b>Topic 59</b><br>Words: ressam, coughenour, judge, hilly, sentence"
         ],
         "marker": {
          "color": "#56B4E9"
         },
         "mode": "lines",
         "name": "59_ressam_algeria_canada_arrest",
         "x": [
          1998.0,
          2000.0,
          2002.0,
          2004.0
         ],
         "y": [
          3.8580246913580245E-4,
          2.777777777777778E-5,
          7.135721421435707E-6,
          7.1285999429712E-6
         ],
         "type": "scatter"
        }
       ],
       "layout": {
        "template": {
         "data": {
          "barpolar": [
           {
            "marker": {
             "line": {
              "color": "white",
              "width": 0.5
             },
             "pattern": {
              "fillmode": "overlay",
              "size": 10,
              "solidity": 0.2
             }
            },
            "type": "barpolar"
           }
          ],
          "bar": [
           {
            "error_x": {
             "color": "rgb(36,36,36)"
            },
            "error_y": {
             "color": "rgb(36,36,36)"
            },
            "marker": {
             "line": {
              "color": "white",
              "width": 0.5
             },
             "pattern": {
              "fillmode": "overlay",
              "size": 10,
              "solidity": 0.2
             }
            },
            "type": "bar"
           }
          ],
          "carpet": [
           {
            "aaxis": {
             "endlinecolor": "rgb(36,36,36)",
             "gridcolor": "white",
             "linecolor": "white",
             "minorgridcolor": "white",
             "startlinecolor": "rgb(36,36,36)"
            },
            "baxis": {
             "endlinecolor": "rgb(36,36,36)",
             "gridcolor": "white",
             "linecolor": "white",
             "minorgridcolor": "white",
             "startlinecolor": "rgb(36,36,36)"
            },
            "type": "carpet"
           }
          ],
          "choropleth": [
           {
            "colorbar": {
             "outlinewidth": 1,
             "tickcolor": "rgb(36,36,36)",
             "ticks": "outside"
            },
            "type": "choropleth"
           }
          ],
          "contourcarpet": [
           {
            "colorbar": {
             "outlinewidth": 1,
             "tickcolor": "rgb(36,36,36)",
             "ticks": "outside"
            },
            "type": "contourcarpet"
           }
          ],
          "contour": [
           {
            "colorbar": {
             "outlinewidth": 1,
             "tickcolor": "rgb(36,36,36)",
             "ticks": "outside"
            },
            "colorscale": [
             [
              0.0,
              "#440154"
             ],
             [
              0.1111111111111111,
              "#482878"
             ],
             [
              0.2222222222222222,
              "#3e4989"
             ],
             [
              0.3333333333333333,
              "#31688e"
             ],
             [
              0.4444444444444444,
              "#26828e"
             ],
             [
              0.5555555555555556,
              "#1f9e89"
             ],
             [
              0.6666666666666666,
              "#35b779"
             ],
             [
              0.7777777777777778,
              "#6ece58"
             ],
             [
              0.8888888888888888,
              "#b5de2b"
             ],
             [
              1.0,
              "#fde725"
             ]
            ],
            "type": "contour"
           }
          ],
          "heatmapgl": [
           {
            "colorbar": {
             "outlinewidth": 1,
             "tickcolor": "rgb(36,36,36)",
             "ticks": "outside"
            },
            "colorscale": [
             [
              0.0,
              "#440154"
             ],
             [
              0.1111111111111111,
              "#482878"
             ],
             [
              0.2222222222222222,
              "#3e4989"
             ],
             [
              0.3333333333333333,
              "#31688e"
             ],
             [
              0.4444444444444444,
              "#26828e"
             ],
             [
              0.5555555555555556,
              "#1f9e89"
             ],
             [
              0.6666666666666666,
              "#35b779"
             ],
             [
              0.7777777777777778,
              "#6ece58"
             ],
             [
              0.8888888888888888,
              "#b5de2b"
             ],
             [
              1.0,
              "#fde725"
             ]
            ],
            "type": "heatmapgl"
           }
          ],
          "heatmap": [
           {
            "colorbar": {
             "outlinewidth": 1,
             "tickcolor": "rgb(36,36,36)",
             "ticks": "outside"
            },
            "colorscale": [
             [
              0.0,
              "#440154"
             ],
             [
              0.1111111111111111,
              "#482878"
             ],
             [
              0.2222222222222222,
              "#3e4989"
             ],
             [
              0.3333333333333333,
              "#31688e"
             ],
             [
              0.4444444444444444,
              "#26828e"
             ],
             [
              0.5555555555555556,
              "#1f9e89"
             ],
             [
              0.6666666666666666,
              "#35b779"
             ],
             [
              0.7777777777777778,
              "#6ece58"
             ],
             [
              0.8888888888888888,
              "#b5de2b"
             ],
             [
              1.0,
              "#fde725"
             ]
            ],
            "type": "heatmap"
           }
          ],
          "histogram2dcontour": [
           {
            "colorbar": {
             "outlinewidth": 1,
             "tickcolor": "rgb(36,36,36)",
             "ticks": "outside"
            },
            "colorscale": [
             [
              0.0,
              "#440154"
             ],
             [
              0.1111111111111111,
              "#482878"
             ],
             [
              0.2222222222222222,
              "#3e4989"
             ],
             [
              0.3333333333333333,
              "#31688e"
             ],
             [
              0.4444444444444444,
              "#26828e"
             ],
             [
              0.5555555555555556,
              "#1f9e89"
             ],
             [
              0.6666666666666666,
              "#35b779"
             ],
             [
              0.7777777777777778,
              "#6ece58"
             ],
             [
              0.8888888888888888,
              "#b5de2b"
             ],
             [
              1.0,
              "#fde725"
             ]
            ],
            "type": "histogram2dcontour"
           }
          ],
          "histogram2d": [
           {
            "colorbar": {
             "outlinewidth": 1,
             "tickcolor": "rgb(36,36,36)",
             "ticks": "outside"
            },
            "colorscale": [
             [
              0.0,
              "#440154"
             ],
             [
              0.1111111111111111,
              "#482878"
             ],
             [
              0.2222222222222222,
              "#3e4989"
             ],
             [
              0.3333333333333333,
              "#31688e"
             ],
             [
              0.4444444444444444,
              "#26828e"
             ],
             [
              0.5555555555555556,
              "#1f9e89"
             ],
             [
              0.6666666666666666,
              "#35b779"
             ],
             [
              0.7777777777777778,
              "#6ece58"
             ],
             [
              0.8888888888888888,
              "#b5de2b"
             ],
             [
              1.0,
              "#fde725"
             ]
            ],
            "type": "histogram2d"
           }
          ],
          "histogram": [
           {
            "marker": {
             "line": {
              "color": "white",
              "width": 0.6
             }
            },
            "type": "histogram"
           }
          ],
          "mesh3d": [
           {
            "colorbar": {
             "outlinewidth": 1,
             "tickcolor": "rgb(36,36,36)",
             "ticks": "outside"
            },
            "type": "mesh3d"
           }
          ],
          "parcoords": [
           {
            "line": {
             "colorbar": {
              "outlinewidth": 1,
              "tickcolor": "rgb(36,36,36)",
              "ticks": "outside"
             }
            },
            "type": "parcoords"
           }
          ],
          "pie": [
           {
            "automargin": true,
            "type": "pie"
           }
          ],
          "scatter3d": [
           {
            "line": {
             "colorbar": {
              "outlinewidth": 1,
              "tickcolor": "rgb(36,36,36)",
              "ticks": "outside"
             }
            },
            "marker": {
             "colorbar": {
              "outlinewidth": 1,
              "tickcolor": "rgb(36,36,36)",
              "ticks": "outside"
             }
            },
            "type": "scatter3d"
           }
          ],
          "scattercarpet": [
           {
            "marker": {
             "colorbar": {
              "outlinewidth": 1,
              "tickcolor": "rgb(36,36,36)",
              "ticks": "outside"
             }
            },
            "type": "scattercarpet"
           }
          ],
          "scattergeo": [
           {
            "marker": {
             "colorbar": {
              "outlinewidth": 1,
              "tickcolor": "rgb(36,36,36)",
              "ticks": "outside"
             }
            },
            "type": "scattergeo"
           }
          ],
          "scattergl": [
           {
            "marker": {
             "colorbar": {
              "outlinewidth": 1,
              "tickcolor": "rgb(36,36,36)",
              "ticks": "outside"
             }
            },
            "type": "scattergl"
           }
          ],
          "scattermapbox": [
           {
            "marker": {
             "colorbar": {
              "outlinewidth": 1,
              "tickcolor": "rgb(36,36,36)",
              "ticks": "outside"
             }
            },
            "type": "scattermapbox"
           }
          ],
          "scatterpolargl": [
           {
            "marker": {
             "colorbar": {
              "outlinewidth": 1,
              "tickcolor": "rgb(36,36,36)",
              "ticks": "outside"
             }
            },
            "type": "scatterpolargl"
           }
          ],
          "scatterpolar": [
           {
            "marker": {
             "colorbar": {
              "outlinewidth": 1,
              "tickcolor": "rgb(36,36,36)",
              "ticks": "outside"
             }
            },
            "type": "scatterpolar"
           }
          ],
          "scatter": [
           {
            "fillpattern": {
             "fillmode": "overlay",
             "size": 10,
             "solidity": 0.2
            },
            "type": "scatter"
           }
          ],
          "scatterternary": [
           {
            "marker": {
             "colorbar": {
              "outlinewidth": 1,
              "tickcolor": "rgb(36,36,36)",
              "ticks": "outside"
             }
            },
            "type": "scatterternary"
           }
          ],
          "surface": [
           {
            "colorbar": {
             "outlinewidth": 1,
             "tickcolor": "rgb(36,36,36)",
             "ticks": "outside"
            },
            "colorscale": [
             [
              0.0,
              "#440154"
             ],
             [
              0.1111111111111111,
              "#482878"
             ],
             [
              0.2222222222222222,
              "#3e4989"
             ],
             [
              0.3333333333333333,
              "#31688e"
             ],
             [
              0.4444444444444444,
              "#26828e"
             ],
             [
              0.5555555555555556,
              "#1f9e89"
             ],
             [
              0.6666666666666666,
              "#35b779"
             ],
             [
              0.7777777777777778,
              "#6ece58"
             ],
             [
              0.8888888888888888,
              "#b5de2b"
             ],
             [
              1.0,
              "#fde725"
             ]
            ],
            "type": "surface"
           }
          ],
          "table": [
           {
            "cells": {
             "fill": {
              "color": "rgb(237,237,237)"
             },
             "line": {
              "color": "white"
             }
            },
            "header": {
             "fill": {
              "color": "rgb(217,217,217)"
             },
             "line": {
              "color": "white"
             }
            },
            "type": "table"
           }
          ]
         },
         "layout": {
          "annotationdefaults": {
           "arrowhead": 0,
           "arrowwidth": 1
          },
          "autotypenumbers": "strict",
          "coloraxis": {
           "colorbar": {
            "outlinewidth": 1,
            "tickcolor": "rgb(36,36,36)",
            "ticks": "outside"
           }
          },
          "colorscale": {
           "diverging": [
            [
             0.0,
             "rgb(103,0,31)"
            ],
            [
             0.1,
             "rgb(178,24,43)"
            ],
            [
             0.2,
             "rgb(214,96,77)"
            ],
            [
             0.3,
             "rgb(244,165,130)"
            ],
            [
             0.4,
             "rgb(253,219,199)"
            ],
            [
             0.5,
             "rgb(247,247,247)"
            ],
            [
             0.6,
             "rgb(209,229,240)"
            ],
            [
             0.7,
             "rgb(146,197,222)"
            ],
            [
             0.8,
             "rgb(67,147,195)"
            ],
            [
             0.9,
             "rgb(33,102,172)"
            ],
            [
             1.0,
             "rgb(5,48,97)"
            ]
           ],
           "sequential": [
            [
             0.0,
             "#440154"
            ],
            [
             0.1111111111111111,
             "#482878"
            ],
            [
             0.2222222222222222,
             "#3e4989"
            ],
            [
             0.3333333333333333,
             "#31688e"
            ],
            [
             0.4444444444444444,
             "#26828e"
            ],
            [
             0.5555555555555556,
             "#1f9e89"
            ],
            [
             0.6666666666666666,
             "#35b779"
            ],
            [
             0.7777777777777778,
             "#6ece58"
            ],
            [
             0.8888888888888888,
             "#b5de2b"
            ],
            [
             1.0,
             "#fde725"
            ]
           ],
           "sequentialminus": [
            [
             0.0,
             "#440154"
            ],
            [
             0.1111111111111111,
             "#482878"
            ],
            [
             0.2222222222222222,
             "#3e4989"
            ],
            [
             0.3333333333333333,
             "#31688e"
            ],
            [
             0.4444444444444444,
             "#26828e"
            ],
            [
             0.5555555555555556,
             "#1f9e89"
            ],
            [
             0.6666666666666666,
             "#35b779"
            ],
            [
             0.7777777777777778,
             "#6ece58"
            ],
            [
             0.8888888888888888,
             "#b5de2b"
            ],
            [
             1.0,
             "#fde725"
            ]
           ]
          },
          "colorway": [
           "#1F77B4",
           "#FF7F0E",
           "#2CA02C",
           "#D62728",
           "#9467BD",
           "#8C564B",
           "#E377C2",
           "#7F7F7F",
           "#BCBD22",
           "#17BECF"
          ],
          "font": {
           "color": "rgb(36,36,36)"
          },
          "geo": {
           "bgcolor": "white",
           "lakecolor": "white",
           "landcolor": "white",
           "showlakes": true,
           "showland": true,
           "subunitcolor": "white"
          },
          "hoverlabel": {
           "align": "left"
          },
          "hovermode": "closest",
          "mapbox": {
           "style": "light"
          },
          "paper_bgcolor": "white",
          "plot_bgcolor": "white",
          "polar": {
           "angularaxis": {
            "gridcolor": "rgb(232,232,232)",
            "linecolor": "rgb(36,36,36)",
            "showgrid": false,
            "showline": true,
            "ticks": "outside"
           },
           "bgcolor": "white",
           "radialaxis": {
            "gridcolor": "rgb(232,232,232)",
            "linecolor": "rgb(36,36,36)",
            "showgrid": false,
            "showline": true,
            "ticks": "outside"
           }
          },
          "scene": {
           "xaxis": {
            "backgroundcolor": "white",
            "gridcolor": "rgb(232,232,232)",
            "gridwidth": 2,
            "linecolor": "rgb(36,36,36)",
            "showbackground": true,
            "showgrid": false,
            "showline": true,
            "ticks": "outside",
            "zeroline": false,
            "zerolinecolor": "rgb(36,36,36)"
           },
           "yaxis": {
            "backgroundcolor": "white",
            "gridcolor": "rgb(232,232,232)",
            "gridwidth": 2,
            "linecolor": "rgb(36,36,36)",
            "showbackground": true,
            "showgrid": false,
            "showline": true,
            "ticks": "outside",
            "zeroline": false,
            "zerolinecolor": "rgb(36,36,36)"
           },
           "zaxis": {
            "backgroundcolor": "white",
            "gridcolor": "rgb(232,232,232)",
            "gridwidth": 2,
            "linecolor": "rgb(36,36,36)",
            "showbackground": true,
            "showgrid": false,
            "showline": true,
            "ticks": "outside",
            "zeroline": false,
            "zerolinecolor": "rgb(36,36,36)"
           }
          },
          "shapedefaults": {
           "fillcolor": "black",
           "line": {
            "width": 0
           },
           "opacity": 0.3
          },
          "ternary": {
           "aaxis": {
            "gridcolor": "rgb(232,232,232)",
            "linecolor": "rgb(36,36,36)",
            "showgrid": false,
            "showline": true,
            "ticks": "outside"
           },
           "baxis": {
            "gridcolor": "rgb(232,232,232)",
            "linecolor": "rgb(36,36,36)",
            "showgrid": false,
            "showline": true,
            "ticks": "outside"
           },
           "bgcolor": "white",
           "caxis": {
            "gridcolor": "rgb(232,232,232)",
            "linecolor": "rgb(36,36,36)",
            "showgrid": false,
            "showline": true,
            "ticks": "outside"
           }
          },
          "title": {
           "x": 0.05
          },
          "xaxis": {
           "automargin": true,
           "gridcolor": "rgb(232,232,232)",
           "linecolor": "rgb(36,36,36)",
           "showgrid": false,
           "showline": true,
           "ticks": "outside",
           "title": {
            "standoff": 15
           },
           "zeroline": false,
           "zerolinecolor": "rgb(36,36,36)"
          },
          "yaxis": {
           "automargin": true,
           "gridcolor": "rgb(232,232,232)",
           "linecolor": "rgb(36,36,36)",
           "showgrid": false,
           "showline": true,
           "ticks": "outside",
           "title": {
            "standoff": 15
           },
           "zeroline": false,
           "zerolinecolor": "rgb(36,36,36)"
          }
         }
        },
        "xaxis": {
         "showgrid": true
        },
        "yaxis": {
         "showgrid": true,
         "title": {
          "text": "Frequency"
         }
        },
        "title": {
         "font": {
          "size": 22,
          "color": "Black"
         },
         "text": "<b>Topics over Time</b>",
         "y": 0.95,
         "x": 0.4,
         "xanchor": "center",
         "yanchor": "top"
        },
        "hoverlabel": {
         "font": {
          "size": 16,
          "family": "Rockwell"
         },
         "bgcolor": "white"
        },
        "width": 1200,
        "height": 800,
        "legend": {
         "title": {
          "text": "<b>Global Topic Representation"
         }
        }
       },
       "config": {
        "plotlyServerURL": "https://plot.ly"
       }
      },
      "text/html": "<div>                            <div id=\"10f063e0-69d5-4ec1-866e-73fee3ae28bc\" class=\"plotly-graph-div\" style=\"height:800px; width:1200px;\"></div>            <script type=\"text/javascript\">                require([\"plotly\"], function(Plotly) {                    window.PLOTLYENV=window.PLOTLYENV || {};                                    if (document.getElementById(\"10f063e0-69d5-4ec1-866e-73fee3ae28bc\")) {                    Plotly.newPlot(                        \"10f063e0-69d5-4ec1-866e-73fee3ae28bc\",                        [{\"hoverinfo\":\"text\",\"hovertext\":[\"\\u003cb\\u003eTopic 0\\u003c\\u002fb\\u003e\\u003cbr\\u003eWords: israel, palestinian, lebanon, arab, arafat\",\"\\u003cb\\u003eTopic 0\\u003c\\u002fb\\u003e\\u003cbr\\u003eWords: israel, lebanon, marine, palestinian, beirut\",\"\\u003cb\\u003eTopic 0\\u003c\\u002fb\\u003e\\u003cbr\\u003eWords: israel, palestinian, syria, lebanon, arab\",\"\\u003cb\\u003eTopic 0\\u003c\\u002fb\\u003e\\u003cbr\\u003eWords: israel, arafat, palestinian, plo, peace\",\"\\u003cb\\u003eTopic 0\\u003c\\u002fb\\u003e\\u003cbr\\u003eWords: israel, plo, palestinian, arafat, syria\",\"\\u003cb\\u003eTopic 0\\u003c\\u002fb\\u003e\\u003cbr\\u003eWords: israel, hostage, palestinian, lebanon, plo\",\"\\u003cb\\u003eTopic 0\\u003c\\u002fb\\u003e\\u003cbr\\u003eWords: israel, palestinian, peace, arafat, syria\",\"\\u003cb\\u003eTopic 0\\u003c\\u002fb\\u003e\\u003cbr\\u003eWords: israel, palestinian, peace, arafat, clinton\",\"\\u003cb\\u003eTopic 0\\u003c\\u002fb\\u003e\\u003cbr\\u003eWords: israel, palestinian, netanyahu, arafat, peace\",\"\\u003cb\\u003eTopic 0\\u003c\\u002fb\\u003e\\u003cbr\\u003eWords: israel, palestinian, peace, syria, arafat\",\"\\u003cb\\u003eTopic 0\\u003c\\u002fb\\u003e\\u003cbr\\u003eWords: israel, palestinian, arafat, sharon, peace\",\"\\u003cb\\u003eTopic 0\\u003c\\u002fb\\u003e\\u003cbr\\u003eWords: israel, palestinian, arafat, syria, peace\",\"\\u003cb\\u003eTopic 0\\u003c\\u002fb\\u003e\\u003cbr\\u003eWords: israel, palestinian, hama, peace, arab\",\"\\u003cb\\u003eTopic 0\\u003c\\u002fb\\u003e\\u003cbr\\u003eWords: israel, palestinian, peace, hama, arab\",\"\\u003cb\\u003eTopic 0\\u003c\\u002fb\\u003e\\u003cbr\\u003eWords: israel, palestinian, hama, gaza, iran\",\"\\u003cb\\u003eTopic 0\\u003c\\u002fb\\u003e\\u003cbr\\u003eWords: israel, syria, palestinian, assad, hama\",\"\\u003cb\\u003eTopic 0\\u003c\\u002fb\\u003e\\u003cbr\\u003eWords: israel, palestinian, syria, hama, peace\",\"\\u003cb\\u003eTopic 0\\u003c\\u002fb\\u003e\\u003cbr\\u003eWords: israel, palestinian, syria, assad, aleppo\",\"\\u003cb\\u003eTopic 0\\u003c\\u002fb\\u003e\\u003cbr\\u003eWords: israel, syria, palestinian, hama, peace\",\"\\u003cb\\u003eTopic 0\\u003c\\u002fb\\u003e\\u003cbr\\u003eWords: israel, palestinian, hama, uliel, syria\"],\"marker\":{\"color\":\"#E69F00\"},\"mode\":\"lines\",\"name\":\"0_israel_palestinian_arafat_syria\",\"x\":[1979.96,1982.0,1984.0,1986.0,1988.0,1990.0,1992.0,1994.0,1996.0,1998.0,2000.0,2002.0,2004.0,2006.0,2008.0,2010.0,2012.0,2014.0,2016.0,2018.0],\"y\":[0.0008053670753927323,0.0009034801586370356,0.0009642356241234221,0.001055777539551051,0.0015090543259557343,0.0002721943048576214,0.0016284650798315211,0.0011196379837185976,0.0009087943328517501,0.000333667000333667,0.0006944444444444445,0.0005779934351362923,0.0006130595950955232,0.0003467857297672201,0.0002205463858850313,0.0005487269534679544,0.0005036447978793903,0.00034890898843232507,0.0004271384479717813,0.00018019641409135957],\"type\":\"scatter\"},{\"hoverinfo\":\"text\",\"hovertext\":[\"\\u003cb\\u003eTopic 1\\u003c\\u002fb\\u003e\\u003cbr\\u003eWords: puerto, rican, bomb, rico, group\",\"\\u003cb\\u003eTopic 1\\u003c\\u002fb\\u003e\\u003cbr\\u003eWords: webster, bureau, incident, history, group\",\"\\u003cb\\u003eTopic 1\\u003c\\u002fb\\u003e\\u003cbr\\u003eWords: terrorist, terrorism, group, us, violence\",\"\\u003cb\\u003eTopic 1\\u003c\\u002fb\\u003e\\u003cbr\\u003eWords: rubenstein, terrorism, revolution, taheri, fundamentalism\",\"\\u003cb\\u003eTopic 1\\u003c\\u002fb\\u003e\\u003cbr\\u003eWords: hate, crime, dinegar, terrorist, terrorism\",\"\\u003cb\\u003eTopic 1\\u003c\\u002fb\\u003e\\u003cbr\\u003eWords: turabi, fundamentalism, islam, puerto, fbi\",\"\\u003cb\\u003eTopic 1\\u003c\\u002fb\\u003e\\u003cbr\\u003eWords: bomb, muslim, trade, center, terrorist\",\"\\u003cb\\u003eTopic 1\\u003c\\u002fb\\u003e\\u003cbr\\u003eWords: oklahoma, bomb, city, muslim, america\",\"\\u003cb\\u003eTopic 1\\u003c\\u002fb\\u003e\\u003cbr\\u003eWords: bomb, oklahoma, muslim, city, buck\",\"\\u003cb\\u003eTopic 1\\u003c\\u002fb\\u003e\\u003cbr\\u003eWords: islam, muslim, terrorist, terrorism, oklahoma\",\"\\u003cb\\u003eTopic 1\\u003c\\u002fb\\u003e\\u003cbr\\u003eWords: muslim, america, terrorist, terrorism, islam\",\"\\u003cb\\u003eTopic 1\\u003c\\u002fb\\u003e\\u003cbr\\u003eWords: muslim, islam, terrorism, america, terrorist\",\"\\u003cb\\u003eTopic 1\\u003c\\u002fb\\u003e\\u003cbr\\u003eWords: muslim, islam, america, terrorist, fatwa\",\"\\u003cb\\u003eTopic 1\\u003c\\u002fb\\u003e\\u003cbr\\u003eWords: muslim, islam, fascism, islamo, horowitz\",\"\\u003cb\\u003eTopic 1\\u003c\\u002fb\\u003e\\u003cbr\\u003eWords: hasan, muslim, islam, america, hood\",\"\\u003cb\\u003eTopic 1\\u003c\\u002fb\\u003e\\u003cbr\\u003eWords: muslim, king, hearing, america, islam\",\"\\u003cb\\u003eTopic 1\\u003c\\u002fb\\u003e\\u003cbr\\u003eWords: muslim, islam, terrorism, hasan, america\",\"\\u003cb\\u003eTopic 1\\u003c\\u002fb\\u003e\\u003cbr\\u003eWords: muslim, gun, islam, shoot, people\",\"\\u003cb\\u003eTopic 1\\u003c\\u002fb\\u003e\\u003cbr\\u003eWords: white, shoot, muslim, terrorism, trump\",\"\\u003cb\\u003eTopic 1\\u003c\\u002fb\\u003e\\u003cbr\\u003eWords: shoot, white, trump, violence, muslim\"],\"marker\":{\"color\":\"#56B4E9\"},\"mode\":\"lines\",\"name\":\"1_muslim_islam_america_terrorism\",\"x\":[1979.96,1982.0,1984.0,1986.0,1988.0,1990.0,1992.0,1994.0,1996.0,1998.0,2000.0,2002.0,2004.0,2006.0,2008.0,2010.0,2012.0,2014.0,2016.0,2018.0],\"y\":[0.00023205492002841439,0.00014080210264473284,0.00029584502103786815,8.121365688854238e-05,6.797542008809614e-05,2.0938023450586266e-05,0.0002816142619257518,0.0004431900352219449,0.0002679778160973109,0.0001668335001668335,0.0003958333333333333,0.0003068360211217354,0.000499001996007984,0.00045515627031947635,0.0003770631758679567,0.0005999414691249634,0.000437375745526839,0.001187632518317722,0.0011160714285714285,0.0008301906220637637],\"type\":\"scatter\"},{\"hoverinfo\":\"text\",\"hovertext\":[\"\\u003cb\\u003eTopic 2\\u003c\\u002fb\\u003e\\u003cbr\\u003eWords: committee, bureau, bill, subcommittee, senator\",\"\\u003cb\\u003eTopic 2\\u003c\\u002fb\\u003e\\u003cbr\\u003eWords: marijuana, guidelines, bureau, rodino, compromise\",\"\\u003cb\\u003eTopic 2\\u003c\\u002fb\\u003e\\u003cbr\\u003eWords: fence, capitol, constituent, representative, senator\",\"\\u003cb\\u003eTopic 2\\u003c\\u002fb\\u003e\\u003cbr\\u003eWords: thornburgh, runkel, cispe, investigate, drug\",\"\\u003cb\\u003eTopic 2\\u003c\\u002fb\\u003e\\u003cbr\\u003eWords: hershman, senator, bill, debate, proposal\",\"\\u003cb\\u003eTopic 2\\u003c\\u002fb\\u003e\\u003cbr\\u003eWords: leahy, taggant, freeh, gunpowder, fbi\",\"\\u003cb\\u003eTopic 2\\u003c\\u002fb\\u003e\\u003cbr\\u003eWords: bill, clinton, house, senate, wiretap\",\"\\u003cb\\u003eTopic 2\\u003c\\u002fb\\u003e\\u003cbr\\u003eWords: fbi, computer, terrorism, specter, information\",\"\\u003cb\\u003eTopic 2\\u003c\\u002fb\\u003e\\u003cbr\\u003eWords: computer, fbi, collingwood, division, national\",\"\\u003cb\\u003eTopic 2\\u003c\\u002fb\\u003e\\u003cbr\\u003eWords: fbi, ashcroft, bill, senate, house\",\"\\u003cb\\u003eTopic 2\\u003c\\u002fb\\u003e\\u003cbr\\u003eWords: ashcroft, fbi, patriot, department, law\",\"\\u003cb\\u003eTopic 2\\u003c\\u002fb\\u003e\\u003cbr\\u003eWords: patriot, fbi, act, law, investigate\",\"\\u003cb\\u003eTopic 2\\u003c\\u002fb\\u003e\\u003cbr\\u003eWords: fbi, record, justice, case, department\",\"\\u003cb\\u003eTopic 2\\u003c\\u002fb\\u003e\\u003cbr\\u003eWords: law, fbi, miranda, patriot, act\",\"\\u003cb\\u003eTopic 2\\u003c\\u002fb\\u003e\\u003cbr\\u003eWords: fusion, law, government, information, senate\",\"\\u003cb\\u003eTopic 2\\u003c\\u002fb\\u003e\\u003cbr\\u003eWords: nsa, surveillance, phone, government, record\",\"\\u003cb\\u003eTopic 2\\u003c\\u002fb\\u003e\\u003cbr\\u003eWords: fbi, government, percent, democrat, surveillance\",\"\\u003cb\\u003eTopic 2\\u003c\\u002fb\\u003e\\u003cbr\\u003eWords: fbi, notification, bill, justice, information\",\"\\u003cb\\u003eTopic 2\\u003c\\u002fb\\u003e\\u003cbr\\u003eWords: surveillance, bill, patriot, act, wolf\"],\"marker\":{\"color\":\"#009E73\"},\"mode\":\"lines\",\"name\":\"2_fbi_bill_law_senate\",\"x\":[1979.96,1982.0,1984.0,1988.0,1990.0,1992.0,1994.0,1996.0,1998.0,2000.0,2002.0,2004.0,2006.0,2008.0,2010.0,2012.0,2014.0,2016.0,2018.0],\"y\":[0.00010920231530748912,2.346701710745547e-05,1.0957223001402524e-05,4.078525205285769e-05,3.14070351758794e-05,6.122049172298952e-05,0.002017680949826223,0.0002213729785151699,0.00018768768768768769,0.0012291666666666666,0.0011345797060082774,0.0007770173937838608,0.0004334821622090251,0.00043397837222538415,0.0005633596722270998,0.0006163021868787277,0.00035561877667140827,6.889329805996472e-05,0.0002059387589615538],\"type\":\"scatter\"},{\"hoverinfo\":\"text\",\"hovertext\":[\"\\u003cb\\u003eTopic 3\\u003c\\u002fb\\u003e\\u003cbr\\u003eWords: naxalite, pakistan, zia, afghanistan, hijack\",\"\\u003cb\\u003eTopic 3\\u003c\\u002fb\\u003e\\u003cbr\\u003eWords: sikh, punjab, gandhi, india, pakistan\",\"\\u003cb\\u003eTopic 3\\u003c\\u002fb\\u003e\\u003cbr\\u003eWords: sikh, pakistan, india, gandhi, minister\",\"\\u003cb\\u003eTopic 3\\u003c\\u002fb\\u003e\\u003cbr\\u003eWords: sikh, ribeiro, punjab, pakistan, gandhi\",\"\\u003cb\\u003eTopic 3\\u003c\\u002fb\\u003e\\u003cbr\\u003eWords: sikh, hindu, punjab, singh, village\",\"\\u003cb\\u003eTopic 3\\u003c\\u002fb\\u003e\\u003cbr\\u003eWords: gandhi, indian, pakistan, assassinate, militant\",\"\\u003cb\\u003eTopic 3\\u003c\\u002fb\\u003e\\u003cbr\\u003eWords: pakistan, india, fuqra, indian, islamabad\",\"\\u003cb\\u003eTopic 3\\u003c\\u002fb\\u003e\\u003cbr\\u003eWords: pakistan, yousef, sandhu, bhutto, india\",\"\\u003cb\\u003eTopic 3\\u003c\\u002fb\\u003e\\u003cbr\\u003eWords: pakistan, sharif, afghanistan, kasi, laden\",\"\\u003cb\\u003eTopic 3\\u003c\\u002fb\\u003e\\u003cbr\\u003eWords: pakistan, india, kashmir, afghanistan, indian\",\"\\u003cb\\u003eTopic 3\\u003c\\u002fb\\u003e\\u003cbr\\u003eWords: pakistan, india, afghanistan, kashmir, indian\",\"\\u003cb\\u003eTopic 3\\u003c\\u002fb\\u003e\\u003cbr\\u003eWords: pakistan, afghanistan, taliban, musharraf, india\",\"\\u003cb\\u003eTopic 3\\u003c\\u002fb\\u003e\\u003cbr\\u003eWords: pakistan, india, afghanistan, musharraf, indian\",\"\\u003cb\\u003eTopic 3\\u003c\\u002fb\\u003e\\u003cbr\\u003eWords: pakistan, india, musharraf, afghanistan, indian\",\"\\u003cb\\u003eTopic 3\\u003c\\u002fb\\u003e\\u003cbr\\u003eWords: pakistan, india, afghanistan, taliban, mumbai\",\"\\u003cb\\u003eTopic 3\\u003c\\u002fb\\u003e\\u003cbr\\u003eWords: pakistan, afghanistan, india, taliban, indian\",\"\\u003cb\\u003eTopic 3\\u003c\\u002fb\\u003e\\u003cbr\\u003eWords: pakistan, india, afghanistan, taliban, sharif\",\"\\u003cb\\u003eTopic 3\\u003c\\u002fb\\u003e\\u003cbr\\u003eWords: pakistan, india, taliban, afghanistan, militant\",\"\\u003cb\\u003eTopic 3\\u003c\\u002fb\\u003e\\u003cbr\\u003eWords: pakistan, india, afghanistan, indian, minister\",\"\\u003cb\\u003eTopic 3\\u003c\\u002fb\\u003e\\u003cbr\\u003eWords: pakistan, india, indian, modi, kashmir\"],\"marker\":{\"color\":\"#F0E442\"},\"mode\":\"lines\",\"name\":\"3_pakistan_india_afghanistan_indian\",\"x\":[1979.96,1982.0,1984.0,1986.0,1988.0,1990.0,1992.0,1994.0,1996.0,1998.0,2000.0,2002.0,2004.0,2006.0,2008.0,2010.0,2012.0,2014.0,2016.0,2018.0],\"y\":[5.460115765374456e-05,0.00018773613685964377,5.478611500701262e-05,6.49709255108339e-05,4.078525205285769e-05,1.0469011725293133e-05,8.570868841218533e-05,5.831447831867696e-05,6.990725637321154e-05,0.0003440940940940941,0.000375,0.00015698587127158556,0.0002708867978329056,0.0011559524325574003,0.0013730791121229367,0.0006365232660228271,0.0003843605036447979,0.00014761534125982983,0.0010265101410934744,0.000984644691284929],\"type\":\"scatter\"},{\"hoverinfo\":\"text\",\"hovertext\":[\"\\u003cb\\u003eTopic 4\\u003c\\u002fb\\u003e\\u003cbr\\u003eWords: rockland, gribetz, robbery, indict, degree\",\"\\u003cb\\u003eTopic 4\\u003c\\u002fb\\u003e\\u003cbr\\u003eWords: rukn, gang, indict, fort, transmitter\",\"\\u003cb\\u003eTopic 4\\u003c\\u002fb\\u003e\\u003cbr\\u003eWords: charafeddine, hashemi, palmieri, ayatollah, suffolk\",\"\\u003cb\\u003eTopic 4\\u003c\\u002fb\\u003e\\u003cbr\\u003eWords: edwardsville, dickmann, panama, noriega, bounty\",\"\\u003cb\\u003eTopic 4\\u003c\\u002fb\\u003e\\u003cbr\\u003eWords: hamide, restaurant, choi, wah, case\",\"\\u003cb\\u003eTopic 4\\u003c\\u002fb\\u003e\\u003cbr\\u003eWords: rahman, abdel, defendant, sheik, indict\",\"\\u003cb\\u003eTopic 4\\u003c\\u002fb\\u003e\\u003cbr\\u003eWords: rahman, abdel, salem, sheik, defendant\",\"\\u003cb\\u003eTopic 4\\u003c\\u002fb\\u003e\\u003cbr\\u003eWords: ratigan, merrell, barbee, judge, trial\",\"\\u003cb\\u003eTopic 4\\u003c\\u002fb\\u003e\\u003cbr\\u003eWords: judge, najjar, hage, mr, lawyer\",\"\\u003cb\\u003eTopic 4\\u003c\\u002fb\\u003e\\u003cbr\\u003eWords: arian, al, court, indict, trial\",\"\\u003cb\\u003eTopic 4\\u003c\\u002fb\\u003e\\u003cbr\\u003eWords: court, trial, arian, case, judge\",\"\\u003cb\\u003eTopic 4\\u003c\\u002fb\\u003e\\u003cbr\\u003eWords: arian, court, al, padilla, trial\",\"\\u003cb\\u003eTopic 4\\u003c\\u002fb\\u003e\\u003cbr\\u003eWords: padilla, trial, court, guantanamo, case\",\"\\u003cb\\u003eTopic 4\\u003c\\u002fb\\u003e\\u003cbr\\u003eWords: zazi, guantanamo, court, detainee, trial\",\"\\u003cb\\u003eTopic 4\\u003c\\u002fb\\u003e\\u003cbr\\u003eWords: court, trial, judge, guantanamo, prison\",\"\\u003cb\\u003eTopic 4\\u003c\\u002fb\\u003e\\u003cbr\\u003eWords: court, case, guantanamo, al, judge\",\"\\u003cb\\u003eTopic 4\\u003c\\u002fb\\u003e\\u003cbr\\u003eWords: mohamud, cook, bangladesh, court, charge\",\"\\u003cb\\u003eTopic 4\\u003c\\u002fb\\u003e\\u003cbr\\u003eWords: court, namo, guant, prison, guantanamo\",\"\\u003cb\\u003eTopic 4\\u003c\\u002fb\\u003e\\u003cbr\\u003eWords: trial, judge, court, prison, hassoun\"],\"marker\":{\"color\":\"#D55E00\"},\"mode\":\"lines\",\"name\":\"4_court_trial_case_judge\",\"x\":[1979.96,1984.0,1986.0,1988.0,1990.0,1992.0,1994.0,1996.0,1998.0,2000.0,2002.0,2004.0,2006.0,2008.0,2010.0,2012.0,2014.0,2016.0,2018.0],\"y\":[1.365028941343614e-05,1.0957223001402524e-05,6.49709255108339e-05,2.7190168035238456e-05,2.0938023450586266e-05,0.0005877167205406994,0.0003032352872571202,0.0002446753973062404,0.0002919586252919586,0.00010416666666666667,0.00042814328528614244,0.000605930995152552,0.0009536607568598552,0.0012023335230506545,0.0008340649692712906,0.0005301524188204108,0.00017445449421616254,0.0003513558201058201,0.0002509878624843937],\"type\":\"scatter\"},{\"hoverinfo\":\"text\",\"hovertext\":[\"\\u003cb\\u003eTopic 5\\u003c\\u002fb\\u003e\\u003cbr\\u003eWords: libya, qaddafi, colonel, oil, america\",\"\\u003cb\\u003eTopic 5\\u003c\\u002fb\\u003e\\u003cbr\\u003eWords: libya, malta, qaddafi, colonel, embassy\",\"\\u003cb\\u003eTopic 5\\u003c\\u002fb\\u003e\\u003cbr\\u003eWords: libya, qaddafi, america, reagan, europe\",\"\\u003cb\\u003eTopic 5\\u003c\\u002fb\\u003e\\u003cbr\\u003eWords: libya, qaddafi, chad, us, colonel\",\"\\u003cb\\u003eTopic 5\\u003c\\u002fb\\u003e\\u003cbr\\u003eWords: libya, gadhafi, weapon, qaddafi, chemical\",\"\\u003cb\\u003eTopic 5\\u003c\\u002fb\\u003e\\u003cbr\\u003eWords: libya, council, pan, sanction, resolution\",\"\\u003cb\\u003eTopic 5\\u003c\\u002fb\\u003e\\u003cbr\\u003eWords: libya, gadhafi, qaddafi, clinton, united\",\"\\u003cb\\u003eTopic 5\\u003c\\u002fb\\u003e\\u003cbr\\u003eWords: libya, farrakhan, laden, bin, international\",\"\\u003cb\\u003eTopic 5\\u003c\\u002fb\\u003e\\u003cbr\\u003eWords: laden, bin, libya, embassy, bomb\",\"\\u003cb\\u003eTopic 5\\u003c\\u002fb\\u003e\\u003cbr\\u003eWords: libya, yemen, laden, bin, cole\",\"\\u003cb\\u003eTopic 5\\u003c\\u002fb\\u003e\\u003cbr\\u003eWords: laden, bin, libya, al, qaida\",\"\\u003cb\\u003eTopic 5\\u003c\\u002fb\\u003e\\u003cbr\\u003eWords: al, qaida, bin, libya, laden\",\"\\u003cb\\u003eTopic 5\\u003c\\u002fb\\u003e\\u003cbr\\u003eWords: libya, al, laden, bin, qaida\",\"\\u003cb\\u003eTopic 5\\u003c\\u002fb\\u003e\\u003cbr\\u003eWords: libya, al, yemen, qaida, laden\",\"\\u003cb\\u003eTopic 5\\u003c\\u002fb\\u003e\\u003cbr\\u003eWords: yemen, al, qaida, libya, qaeda\",\"\\u003cb\\u003eTopic 5\\u003c\\u002fb\\u003e\\u003cbr\\u003eWords: laden, bin, al, yemen, libya\",\"\\u003cb\\u003eTopic 5\\u003c\\u002fb\\u003e\\u003cbr\\u003eWords: drone, al, yemen, libya, strike\",\"\\u003cb\\u003eTopic 5\\u003c\\u002fb\\u003e\\u003cbr\\u003eWords: drone, libya, al, strike, qaida\",\"\\u003cb\\u003eTopic 5\\u003c\\u002fb\\u003e\\u003cbr\\u003eWords: yemen, libya, drone, al, laden\",\"\\u003cb\\u003eTopic 5\\u003c\\u002fb\\u003e\\u003cbr\\u003eWords: al, qaeda, masri, libya, iran\"],\"marker\":{\"color\":\"#0072B2\"},\"mode\":\"lines\",\"name\":\"5_libya_yemen_al_laden\",\"x\":[1979.96,1982.0,1984.0,1986.0,1988.0,1990.0,1992.0,1994.0,1996.0,1998.0,2000.0,2002.0,2004.0,2006.0,2008.0,2010.0,2012.0,2014.0,2016.0,2018.0],\"y\":[0.0003139566565090312,0.00011733508553727736,0.0006245617110799439,0.0001299418510216678,9.516558812333461e-05,0.00030360134003350084,0.00012244098344597903,6.997737398241235e-05,0.0006757701449410449,0.00043793793793793793,0.00034722222222222224,0.00024261452832881404,0.0001996007984031936,0.0003251116216567688,0.000298804780876494,0.0008340649692712906,0.0003180914512922465,8.05174588689981e-05,0.0001722332451499118,0.0001029693794807769],\"type\":\"scatter\"},{\"hoverinfo\":\"text\",\"hovertext\":[\"\\u003cb\\u003eTopic 6\\u003c\\u002fb\\u003e\\u003cbr\\u003eWords: insurance, coverage, trip, travel, company\",\"\\u003cb\\u003eTopic 6\\u003c\\u002fb\\u003e\\u003cbr\\u003eWords: coverage, risk, underwriter, insurance, rate\",\"\\u003cb\\u003eTopic 6\\u003c\\u002fb\\u003e\\u003cbr\\u003eWords: pool, insurance, coverage, insurer, risk\",\"\\u003cb\\u003eTopic 6\\u003c\\u002fb\\u003e\\u003cbr\\u003eWords: reinsure, insurance, pool, coverage, risk\",\"\\u003cb\\u003eTopic 6\\u003c\\u002fb\\u003e\\u003cbr\\u003eWords: pool, insurance, coverage, risk, reinsure\",\"\\u003cb\\u003eTopic 6\\u003c\\u002fb\\u003e\\u003cbr\\u003eWords: risk, insurance, pool, coverage, rate\",\"\\u003cb\\u003eTopic 6\\u003c\\u002fb\\u003e\\u003cbr\\u003eWords: insurance, coverage, insurer, risk, loss\",\"\\u003cb\\u003eTopic 6\\u003c\\u002fb\\u003e\\u003cbr\\u003eWords: insurance, coverage, risk, insurer, tria\",\"\\u003cb\\u003eTopic 6\\u003c\\u002fb\\u003e\\u003cbr\\u003eWords: insurance, tria, risk, insurer, coverage\",\"\\u003cb\\u003eTopic 6\\u003c\\u002fb\\u003e\\u003cbr\\u003eWords: insurance, risk, coverage, insurer, backstop\",\"\\u003cb\\u003eTopic 6\\u003c\\u002fb\\u003e\\u003cbr\\u003eWords: insurance, backstop, risk, insurer, coverage\",\"\\u003cb\\u003eTopic 6\\u003c\\u002fb\\u003e\\u003cbr\\u003eWords: insurance, risk, insurer, coverage, backstop\",\"\\u003cb\\u003eTopic 6\\u003c\\u002fb\\u003e\\u003cbr\\u003eWords: insurance, risk, insurer, tria, coverage\",\"\\u003cb\\u003eTopic 6\\u003c\\u002fb\\u003e\\u003cbr\\u003eWords: insurance, coverage, risk, market, tria\",\"\\u003cb\\u003eTopic 6\\u003c\\u002fb\\u003e\\u003cbr\\u003eWords: insurance, coverage, art, insurer, risk\",\"\\u003cb\\u003eTopic 6\\u003c\\u002fb\\u003e\\u003cbr\\u003eWords: insurance, risk, business, insurer, coverage\"],\"marker\":{\"color\":\"#CC79A7\"},\"mode\":\"lines\",\"name\":\"6_insurance_coverage_risk_insurer\",\"x\":[1988.0,1990.0,1992.0,1994.0,1996.0,1998.0,2000.0,2002.0,2004.0,2006.0,2008.0,2010.0,2012.0,2014.0,2016.0,2018.0],\"y\":[1.3595084017619228e-05,0.00011515912897822445,0.00017141737682437066,3.4988686991206175e-05,3.495362818660577e-05,2.085418752085419e-05,0.0006597222222222222,0.0006993006993006993,0.0009409751924721985,0.0006429985406100539,9.960159362549801e-05,0.00013169446883230904,0.0005301524188204108,0.00010064682358624762,2.0667989417989417e-05,9.653379326322834e-05],\"type\":\"scatter\"},{\"hoverinfo\":\"text\",\"hovertext\":[\"\\u003cb\\u003eTopic 7\\u003c\\u002fb\\u003e\\u003cbr\\u003eWords: bush, iraq, saddam, gulf, president\",\"\\u003cb\\u003eTopic 7\\u003c\\u002fb\\u003e\\u003cbr\\u003eWords: iraq, bush, saddam, hussein, kuwait\",\"\\u003cb\\u003eTopic 7\\u003c\\u002fb\\u003e\\u003cbr\\u003eWords: iraq, bush, kuwait, president, saddam\",\"\\u003cb\\u003eTopic 7\\u003c\\u002fb\\u003e\\u003cbr\\u003eWords: cut, veto, billion, package, budget\",\"\\u003cb\\u003eTopic 7\\u003c\\u002fb\\u003e\\u003cbr\\u003eWords: clarke, pba, iraq, bush, deutch\",\"\\u003cb\\u003eTopic 7\\u003c\\u002fb\\u003e\\u003cbr\\u003eWords: clarke, bush, mr, dick, department\",\"\\u003cb\\u003eTopic 7\\u003c\\u002fb\\u003e\\u003cbr\\u003eWords: bush, billion, iraq, war, spend\",\"\\u003cb\\u003eTopic 7\\u003c\\u002fb\\u003e\\u003cbr\\u003eWords: bush, kerry, iraq, clarke, war\",\"\\u003cb\\u003eTopic 7\\u003c\\u002fb\\u003e\\u003cbr\\u003eWords: bush, iraq, war, president, democrat\",\"\\u003cb\\u003eTopic 7\\u003c\\u002fb\\u003e\\u003cbr\\u003eWords: bush, iraq, war, democrat, feith\",\"\\u003cb\\u003eTopic 7\\u003c\\u002fb\\u003e\\u003cbr\\u003eWords: cheney, bush, obama, president, vice\",\"\\u003cb\\u003eTopic 7\\u003c\\u002fb\\u003e\\u003cbr\\u003eWords: bush, obama, war, iraq, america\",\"\\u003cb\\u003eTopic 7\\u003c\\u002fb\\u003e\\u003cbr\\u003eWords: bush, iraq, obama, percent, cheney\",\"\\u003cb\\u003eTopic 7\\u003c\\u002fb\\u003e\\u003cbr\\u003eWords: bush, president, iran, kerry, lahey\",\"\\u003cb\\u003eTopic 7\\u003c\\u002fb\\u003e\\u003cbr\\u003eWords: bush, iraq, population, war, president\",\"\\u003cb\\u003eTopic 7\\u003c\\u002fb\\u003e\\u003cbr\\u003eWords: hitler, bush, iraq, war, germany\"],\"marker\":{\"color\":\"#E69F00\"},\"mode\":\"lines\",\"name\":\"7_bush_iraq_war_kerry\",\"x\":[1988.0,1990.0,1992.0,1994.0,1996.0,1998.0,2000.0,2002.0,2004.0,2006.0,2008.0,2010.0,2012.0,2014.0,2016.0,2018.0],\"y\":[8.157050410571538e-05,0.00014656616415410385,7.346459006758743e-05,2.3325791327470786e-05,4.6604837582141024e-05,1.0427093760427094e-05,0.0005069444444444444,0.0013272441843870414,0.0006986027944111777,0.00023119048651148004,0.00019920318725099602,0.00013169446883230904,0.00010603048376408218,5.3678305912665394e-05,3.444664902998236e-05,1.930675865264567e-05],\"type\":\"scatter\"},{\"hoverinfo\":\"text\",\"hovertext\":[\"\\u003cb\\u003eTopic 8\\u003c\\u002fb\\u003e\\u003cbr\\u003eWords: britain, london, police, yard, pertini\",\"\\u003cb\\u003eTopic 8\\u003c\\u002fb\\u003e\\u003cbr\\u003eWords: britain, london, accompany, minister, prime\",\"\\u003cb\\u003eTopic 8\\u003c\\u002fb\\u003e\\u003cbr\\u003eWords: treaty, extradite, britain, thatch, politics\",\"\\u003cb\\u003eTopic 8\\u003c\\u002fb\\u003e\\u003cbr\\u003eWords: miasmic, must, theory, remedial, britain\",\"\\u003cb\\u003eTopic 8\\u003c\\u002fb\\u003e\\u003cbr\\u003eWords: lectern, yard, churchill, coleman, plastic\",\"\\u003cb\\u003eTopic 8\\u003c\\u002fb\\u003e\\u003cbr\\u003eWords: london, britain, ira, station, ireland\",\"\\u003cb\\u003eTopic 8\\u003c\\u002fb\\u003e\\u003cbr\\u003eWords: tucker, london, embassy, abortion, britain\",\"\\u003cb\\u003eTopic 8\\u003c\\u002fb\\u003e\\u003cbr\\u003eWords: britain, london, gutteridge, police, bomb\",\"\\u003cb\\u003eTopic 8\\u003c\\u002fb\\u003e\\u003cbr\\u003eWords: blair, britain, omagh, ireland, london\",\"\\u003cb\\u003eTopic 8\\u003c\\u002fb\\u003e\\u003cbr\\u003eWords: london, tower, britain, wellington, perry\",\"\\u003cb\\u003eTopic 8\\u003c\\u002fb\\u003e\\u003cbr\\u003eWords: blair, preston, britain, london, attack\",\"\\u003cb\\u003eTopic 8\\u003c\\u002fb\\u003e\\u003cbr\\u003eWords: britain, london, blair, police, arrest\",\"\\u003cb\\u003eTopic 8\\u003c\\u002fb\\u003e\\u003cbr\\u003eWords: britain, london, blair, police, attack\",\"\\u003cb\\u003eTopic 8\\u003c\\u002fb\\u003e\\u003cbr\\u003eWords: britain, london, brown, blair, police\",\"\\u003cb\\u003eTopic 8\\u003c\\u002fb\\u003e\\u003cbr\\u003eWords: britain, london, men, police, plot\",\"\\u003cb\\u003eTopic 8\\u003c\\u002fb\\u003e\\u003cbr\\u003eWords: britain, london, police, extradite, masri\",\"\\u003cb\\u003eTopic 8\\u003c\\u002fb\\u003e\\u003cbr\\u003eWords: britain, london, cameron, police, attack\",\"\\u003cb\\u003eTopic 8\\u003c\\u002fb\\u003e\\u003cbr\\u003eWords: london, britain, police, knife, attack\",\"\\u003cb\\u003eTopic 8\\u003c\\u002fb\\u003e\\u003cbr\\u003eWords: london, britain, police, attack, parliament\",\"\\u003cb\\u003eTopic 8\\u003c\\u002fb\\u003e\\u003cbr\\u003eWords: london, police, britain, stabbing, attack\"],\"marker\":{\"color\":\"#56B4E9\"},\"mode\":\"lines\",\"name\":\"8_britain_london_police_blair\",\"x\":[1979.96,1982.0,1984.0,1986.0,1988.0,1990.0,1992.0,1994.0,1996.0,1998.0,2000.0,2002.0,2004.0,2006.0,2008.0,2010.0,2012.0,2014.0,2016.0,2018.0],\"y\":[1.365028941343614e-05,2.346701710745547e-05,2.191444600280505e-05,1.6242731377708475e-05,1.3595084017619228e-05,7.328308207705192e-05,3.6732295033793715e-05,2.3325791327470786e-05,4.6604837582141024e-05,2.085418752085419e-05,4.1666666666666665e-05,0.00015698587127158556,0.0008340461933276305,0.00036845983787767134,0.00020631758679567444,0.00024143985952589992,0.00015241882041086812,0.00011406640006441397,0.0005442570546737213,0.00030247255222478215],\"type\":\"scatter\"},{\"hoverinfo\":\"text\",\"hovertext\":[\"\\u003cb\\u003eTopic 9\\u003c\\u002fb\\u003e\\u003cbr\\u003eWords: france, mitterrand, paris, jew, attack\",\"\\u003cb\\u003eTopic 9\\u003c\\u002fb\\u003e\\u003cbr\\u003eWords: france, paris, mitterrand, chad, iran\",\"\\u003cb\\u003eTopic 9\\u003c\\u002fb\\u003e\\u003cbr\\u003eWords: france, chirac, paris, syria, abdallah\",\"\\u003cb\\u003eTopic 9\\u003c\\u002fb\\u003e\\u003cbr\\u003eWords: france, paris, iran, gordji, abdallah\",\"\\u003cb\\u003eTopic 9\\u003c\\u002fb\\u003e\\u003cbr\\u003eWords: naccache, france, paris, baker, hostage\",\"\\u003cb\\u003eTopic 9\\u003c\\u002fb\\u003e\\u003cbr\\u003eWords: habash, france, nidal, duma, seale\",\"\\u003cb\\u003eTopic 9\\u003c\\u002fb\\u003e\\u003cbr\\u003eWords: france, switzerland, iran, balladur, bakhtiar\",\"\\u003cb\\u003eTopic 9\\u003c\\u002fb\\u003e\\u003cbr\\u003eWords: france, paris, algeria, debre, europe\",\"\\u003cb\\u003eTopic 9\\u003c\\u002fb\\u003e\\u003cbr\\u003eWords: france, paris, cup, europe, police\",\"\\u003cb\\u003eTopic 9\\u003c\\u002fb\\u003e\\u003cbr\\u003eWords: france, belgium, gallarate, strasbourg, arrest\",\"\\u003cb\\u003eTopic 9\\u003c\\u002fb\\u003e\\u003cbr\\u003eWords: france, bruguiere, trabelsi, paris, gia\",\"\\u003cb\\u003eTopic 9\\u003c\\u002fb\\u003e\\u003cbr\\u003eWords: cherif, france, girlfriend, paris, benyettou\",\"\\u003cb\\u003eTopic 9\\u003c\\u002fb\\u003e\\u003cbr\\u003eWords: france, verge, paris, sarkozy, algeria\",\"\\u003cb\\u003eTopic 9\\u003c\\u002fb\\u003e\\u003cbr\\u003eWords: france, hicheur, paris, arrest, cern\",\"\\u003cb\\u003eTopic 9\\u003c\\u002fb\\u003e\\u003cbr\\u003eWords: france, merah, paris, toulouse, sarkozy\",\"\\u003cb\\u003eTopic 9\\u003c\\u002fb\\u003e\\u003cbr\\u003eWords: france, paris, syria, europe, brussels\",\"\\u003cb\\u003eTopic 9\\u003c\\u002fb\\u003e\\u003cbr\\u003eWords: france, paris, belgium, attack, brussels\",\"\\u003cb\\u003eTopic 9\\u003c\\u002fb\\u003e\\u003cbr\\u003eWords: france, paris, strasbourg, attack, police\",\"\\u003cb\\u003eTopic 9\\u003c\\u002fb\\u003e\\u003cbr\\u003eWords: france, paris, macron, attack, hebdo\"],\"marker\":{\"color\":\"#009E73\"},\"mode\":\"lines\",\"name\":\"9_france_paris_attack_belgium\",\"x\":[1979.96,1982.0,1984.0,1986.0,1988.0,1990.0,1992.0,1994.0,1996.0,2000.0,2002.0,2004.0,2006.0,2008.0,2010.0,2012.0,2014.0,2016.0,2018.0],\"y\":[0.0002866560776821589,8.213455987609415e-05,0.0002629733520336606,0.0001949127765325017,4.078525205285769e-05,1.0469011725293133e-05,3.6732295033793715e-05,5.831447831867696e-05,5.8256046977676285e-05,2.0833333333333333e-05,2.1407164264307123e-05,2.1385799828913603e-05,7.947172973832127e-05,7.11439954467843e-05,0.00019022534386889083,0.00012591119946984758,0.0008185941651681472,0.0004409171075837742,0.0004118775179231076],\"type\":\"scatter\"},{\"hoverinfo\":\"text\",\"hovertext\":[\"\\u003cb\\u003eTopic 10\\u003c\\u002fb\\u003e\\u003cbr\\u003eWords: mehle, tribunal, mccain, obama, administration\",\"\\u003cb\\u003eTopic 10\\u003c\\u002fb\\u003e\\u003cbr\\u003eWords: task, heymann, member, force, protection\",\"\\u003cb\\u003eTopic 10\\u003c\\u002fb\\u003e\\u003cbr\\u003eWords: torture, interrogate, mccain, bush, detainee\",\"\\u003cb\\u003eTopic 10\\u003c\\u002fb\\u003e\\u003cbr\\u003eWords: mukasey, obama, mccain, interrogate, mr\",\"\\u003cb\\u003eTopic 10\\u003c\\u002fb\\u003e\\u003cbr\\u003eWords: obama, interrogate, administration, mr, president\",\"\\u003cb\\u003eTopic 10\\u003c\\u002fb\\u003e\\u003cbr\\u003eWords: obama, benghazi, administration, interrogate, attack\",\"\\u003cb\\u003eTopic 10\\u003c\\u002fb\\u003e\\u003cbr\\u003eWords: obama, holder, interrogate, torture, benghazi\",\"\\u003cb\\u003eTopic 10\\u003c\\u002fb\\u003e\\u003cbr\\u003eWords: obama, president, islam, torture, bernardino\",\"\\u003cb\\u003eTopic 10\\u003c\\u002fb\\u003e\\u003cbr\\u003eWords: khattala, benghazi, haspel, obama, interrogate\",\"\\u003cb\\u003eTopic 10\\u003c\\u002fb\\u003e\\u003cbr\\u003eWords: obama, mr, turley, trump, white\"],\"marker\":{\"color\":\"#F0E442\"},\"mode\":\"lines\",\"name\":\"10_obama_interrogate_torture_administrat...\",\"x\":[2000.0,2002.0,2004.0,2006.0,2008.0,2010.0,2012.0,2014.0,2016.0,2018.0],\"y\":[4.1666666666666665e-05,7.135721421435707e-06,0.00022098659823210722,0.0003829092432846388,0.0005051223676721684,0.0004316652033947908,0.00041749502982107355,0.0003153600472369092,0.0001240079365079365,7.722703461058268e-05],\"type\":\"scatter\"},{\"hoverinfo\":\"text\",\"hovertext\":[\"\\u003cb\\u003eTopic 12\\u003c\\u002fb\\u003e\\u003cbr\\u003eWords: iran, reagan, soviet, intelligence, administration\",\"\\u003cb\\u003eTopic 12\\u003c\\u002fb\\u003e\\u003cbr\\u003eWords: reagan, iran, shultz, lebanon, administration\",\"\\u003cb\\u003eTopic 12\\u003c\\u002fb\\u003e\\u003cbr\\u003eWords: iran, reagan, administration, shultz, mr\",\"\\u003cb\\u003eTopic 12\\u003c\\u002fb\\u003e\\u003cbr\\u003eWords: iran, reagan, shultz, mr, ledeen\",\"\\u003cb\\u003eTopic 12\\u003c\\u002fb\\u003e\\u003cbr\\u003eWords: iran, mfn, official, america, status\",\"\\u003cb\\u003eTopic 12\\u003c\\u002fb\\u003e\\u003cbr\\u003eWords: iran, reagan, rafsanjani, soviet, administration\",\"\\u003cb\\u003eTopic 12\\u003c\\u002fb\\u003e\\u003cbr\\u003eWords: iran, mujahedeen, mojahedin, kharrazi, state\",\"\\u003cb\\u003eTopic 12\\u003c\\u002fb\\u003e\\u003cbr\\u003eWords: iran, dhahran, gingrich, behind, official\",\"\\u003cb\\u003eTopic 12\\u003c\\u002fb\\u003e\\u003cbr\\u003eWords: iran, khatami, tehran, sanction, reagan\",\"\\u003cb\\u003eTopic 12\\u003c\\u002fb\\u003e\\u003cbr\\u003eWords: iran, behbahani, guidelines, official, khobar\",\"\\u003cb\\u003eTopic 12\\u003c\\u002fb\\u003e\\u003cbr\\u003eWords: iran, khamenei, khatami, reagan, bush\",\"\\u003cb\\u003eTopic 12\\u003c\\u002fb\\u003e\\u003cbr\\u003eWords: iran, ebadi, shultz, administration, rights\",\"\\u003cb\\u003eTopic 12\\u003c\\u002fb\\u003e\\u003cbr\\u003eWords: iran, nuclear, ahmadinejad, apostolou, tehran\",\"\\u003cb\\u003eTopic 12\\u003c\\u002fb\\u003e\\u003cbr\\u003eWords: iran, ahmadinejad, bank, nuclear, guard\",\"\\u003cb\\u003eTopic 12\\u003c\\u002fb\\u003e\\u003cbr\\u003eWords: iran, shourd, sanction, nuclear, ahmadinejad\",\"\\u003cb\\u003eTopic 12\\u003c\\u002fb\\u003e\\u003cbr\\u003eWords: iran, nuclear, mek, sanction, united\",\"\\u003cb\\u003eTopic 12\\u003c\\u002fb\\u003e\\u003cbr\\u003eWords: iran, rouhani, nuclear, sanction, tehran\",\"\\u003cb\\u003eTopic 12\\u003c\\u002fb\\u003e\\u003cbr\\u003eWords: iran, nuclear, sanction, deal, state\",\"\\u003cb\\u003eTopic 12\\u003c\\u002fb\\u003e\\u003cbr\\u003eWords: iran, sanction, deal, trump, rouhani\",\"\\u003cb\\u003eTopic 12\\u003c\\u002fb\\u003e\\u003cbr\\u003eWords: iran, sanction, bolton, trump, tanker\"],\"marker\":{\"color\":\"#D55E00\"},\"mode\":\"lines\",\"name\":\"12_iran_reagan_sanction_administration\",\"x\":[1979.96,1982.0,1984.0,1986.0,1988.0,1990.0,1992.0,1994.0,1996.0,1998.0,2000.0,2002.0,2004.0,2006.0,2008.0,2010.0,2012.0,2014.0,2016.0,2018.0],\"y\":[0.00036855781416277576,0.00037547227371928754,0.0004163744740532959,0.0003248546275541695,8.157050410571538e-05,0.0001256281407035176,9.795278675678323e-05,0.00017494343495603088,0.0001631169315374936,3.128128128128128e-05,4.1666666666666665e-05,4.2814328528614246e-05,9.98003992015968e-05,0.00011559524325574002,7.825839499146272e-05,0.0001463271875914545,4.638833664678595e-05,0.0001610349177379962,0.00015845458553791886,0.0002638590349194908],\"type\":\"scatter\"},{\"hoverinfo\":\"text\",\"hovertext\":[\"\\u003cb\\u003eTopic 13\\u003c\\u002fb\\u003e\\u003cbr\\u003eWords: polisario, morocco, summit, oau, mengistu\",\"\\u003cb\\u003eTopic 13\\u003c\\u002fb\\u003e\\u003cbr\\u003eWords: sudan, bashir, iran, turabi, western\",\"\\u003cb\\u003eTopic 13\\u003c\\u002fb\\u003e\\u003cbr\\u003eWords: sudan, sudanese, khartoum, turabi, islam\",\"\\u003cb\\u003eTopic 13\\u003c\\u002fb\\u003e\\u003cbr\\u003eWords: sudan, ethiopia, boutro, sudanese, council\",\"\\u003cb\\u003eTopic 13\\u003c\\u002fb\\u003e\\u003cbr\\u003eWords: ghana, accra, invest, undermine, africa\",\"\\u003cb\\u003eTopic 13\\u003c\\u002fb\\u003e\\u003cbr\\u003eWords: sudan, slavery, enslave, slave, black\",\"\\u003cb\\u003eTopic 13\\u003c\\u002fb\\u003e\\u003cbr\\u003eWords: africa, iara, akeel, sudan, nigeria\",\"\\u003cb\\u003eTopic 13\\u003c\\u002fb\\u003e\\u003cbr\\u003eWords: darfur, sudan, gosh, africa, nigeria\",\"\\u003cb\\u003eTopic 13\\u003c\\u002fb\\u003e\\u003cbr\\u003eWords: sudan, doumar, africa, nigeria, patman\",\"\\u003cb\\u003eTopic 13\\u003c\\u002fb\\u003e\\u003cbr\\u003eWords: sudan, nigeria, africa, sudanese, administration\",\"\\u003cb\\u003eTopic 13\\u003c\\u002fb\\u003e\\u003cbr\\u003eWords: africa, nigeria, sudan, mali, boko\",\"\\u003cb\\u003eTopic 13\\u003c\\u002fb\\u003e\\u003cbr\\u003eWords: nigeria, africa, boko, haram, mali\",\"\\u003cb\\u003eTopic 13\\u003c\\u002fb\\u003e\\u003cbr\\u003eWords: nigeria, boko, haram, sudan, buhari\",\"\\u003cb\\u003eTopic 13\\u003c\\u002fb\\u003e\\u003cbr\\u003eWords: nigeria, sudan, haram, boko, africa\",\"\\u003cb\\u003eTopic 13\\u003c\\u002fb\\u003e\\u003cbr\\u003eWords: sudan, nigeria, africa, haram, boko\"],\"marker\":{\"color\":\"#0072B2\"},\"mode\":\"lines\",\"name\":\"13_sudan_nigeria_africa_haram\",\"x\":[1982.0,1990.0,1992.0,1994.0,1998.0,2000.0,2002.0,2004.0,2006.0,2008.0,2010.0,2012.0,2014.0,2016.0,2018.0],\"y\":[1.1733508553727736e-05,1.0469011725293133e-05,0.00018366147516896855,2.3325791327470786e-05,1.0427093760427094e-05,6.944444444444445e-06,3.5678607107178535e-05,2.85143997718848e-05,7.947172973832127e-05,4.2686397268070576e-05,7.316359379572725e-05,0.00013916500994035785,8.722724710808127e-05,0.00033757716049382714,0.000855932966933958],\"type\":\"scatter\"},{\"hoverinfo\":\"text\",\"hovertext\":[\"\\u003cb\\u003eTopic 19\\u003c\\u002fb\\u003e\\u003cbr\\u003eWords: salvador, chile, nicaragua, peru, el\",\"\\u003cb\\u003eTopic 19\\u003c\\u002fb\\u003e\\u003cbr\\u003eWords: nicaragua, salvador, peru, el, salvadoran\",\"\\u003cb\\u003eTopic 19\\u003c\\u002fb\\u003e\\u003cbr\\u003eWords: nicaragua, salvador, peru, duarte, el\",\"\\u003cb\\u003eTopic 19\\u003c\\u002fb\\u003e\\u003cbr\\u003eWords: guerrilla, peru, contra, shining, nicaragua\",\"\\u003cb\\u003eTopic 19\\u003c\\u002fb\\u003e\\u003cbr\\u003eWords: peru, economic, salvador, shining, arena\",\"\\u003cb\\u003eTopic 19\\u003c\\u002fb\\u003e\\u003cbr\\u003eWords: peru, fujimori, shining, guzman, chile\",\"\\u003cb\\u003eTopic 19\\u003c\\u002fb\\u003e\\u003cbr\\u003eWords: peru, fujimori, nicaragua, guerrilla, shining\",\"\\u003cb\\u003eTopic 19\\u003c\\u002fb\\u003e\\u003cbr\\u003eWords: peru, shining, path, guerrilla, amaru\",\"\\u003cb\\u003eTopic 19\\u003c\\u002fb\\u003e\\u003cbr\\u003eWords: peru, fujimori, rebel, berenson, hostage\",\"\\u003cb\\u003eTopic 19\\u003c\\u002fb\\u003e\\u003cbr\\u003eWords: peru, berenson, lima, toledo, shining\",\"\\u003cb\\u003eTopic 19\\u003c\\u002fb\\u003e\\u003cbr\\u003eWords: chile, mapuche, garzon, pinochet, honduras\",\"\\u003cb\\u003eTopic 19\\u003c\\u002fb\\u003e\\u003cbr\\u003eWords: peru, fujimori, nicaragua, shining, berenson\",\"\\u003cb\\u003eTopic 19\\u003c\\u002fb\\u003e\\u003cbr\\u003eWords: peru, salvador, shining, salvadoran, fujimori\",\"\\u003cb\\u003eTopic 19\\u003c\\u002fb\\u003e\\u003cbr\\u003eWords: peru, berenson, chile, mrta, khan\",\"\\u003cb\\u003eTopic 19\\u003c\\u002fb\\u003e\\u003cbr\\u003eWords: berenson, peru, salvador, lori, parole\",\"\\u003cb\\u003eTopic 19\\u003c\\u002fb\\u003e\\u003cbr\\u003eWords: movadef, peru, shining, guzm, path\",\"\\u003cb\\u003eTopic 19\\u003c\\u002fb\\u003e\\u003cbr\\u003eWords: peru, berenson, mrta, fujimori, shining\",\"\\u003cb\\u003eTopic 19\\u003c\\u002fb\\u003e\\u003cbr\\u003eWords: ndez, mapuche, peru, mel, lgbtiq\",\"\\u003cb\\u003eTopic 19\\u003c\\u002fb\\u003e\\u003cbr\\u003eWords: morale, arce, bolivia, evo, peru\"],\"marker\":{\"color\":\"#CC79A7\"},\"mode\":\"lines\",\"name\":\"19_peru_salvador_nicaragua_chile\",\"x\":[1979.96,1982.0,1984.0,1986.0,1988.0,1990.0,1992.0,1994.0,1996.0,2000.0,2002.0,2004.0,2006.0,2008.0,2010.0,2012.0,2014.0,2016.0,2018.0],\"y\":[0.0006279133130180624,0.00048107385070283716,0.00012052945301542777,0.0001299418510216678,4.078525205285769e-05,0.00020938023450586265,3.6732295033793715e-05,4.665158265494157e-05,0.00011651209395535257,3.472222222222222e-05,2.1407164264307123e-05,3.5642999714856005e-05,6.502232433135377e-05,3.557199772339215e-05,2.1949078138718175e-05,1.3253810470510272e-05,1.3419576478166349e-05,1.3778659611992945e-05,1.2871172435097113e-05],\"type\":\"scatter\"},{\"hoverinfo\":\"text\",\"hovertext\":[\"\\u003cb\\u003eTopic 20\\u003c\\u002fb\\u003e\\u003cbr\\u003eWords: mondale, hart, campaign, democratic, primary\",\"\\u003cb\\u003eTopic 20\\u003c\\u002fb\\u003e\\u003cbr\\u003eWords: pataki, penalty, death, firebomb, giuliani\",\"\\u003cb\\u003eTopic 20\\u003c\\u002fb\\u003e\\u003cbr\\u003eWords: clinton, dole, republican, giuliani, leadership\",\"\\u003cb\\u003eTopic 20\\u003c\\u002fb\\u003e\\u003cbr\\u003eWords: vermont, bauer, marriage, forbes, gay\",\"\\u003cb\\u003eTopic 20\\u003c\\u002fb\\u003e\\u003cbr\\u003eWords: giuliani, republican, lieberman, lott, nation\",\"\\u003cb\\u003eTopic 20\\u003c\\u002fb\\u003e\\u003cbr\\u003eWords: giuliani, voter, kerry, republican, edwards\",\"\\u003cb\\u003eTopic 20\\u003c\\u002fb\\u003e\\u003cbr\\u003eWords: talent, republican, giuliani, mccaskill, missouri\",\"\\u003cb\\u003eTopic 20\\u003c\\u002fb\\u003e\\u003cbr\\u003eWords: giuliani, republican, candidate, mccain, voter\",\"\\u003cb\\u003eTopic 20\\u003c\\u002fb\\u003e\\u003cbr\\u003eWords: walsh, giuliani, joe, republican, candidate\",\"\\u003cb\\u003eTopic 20\\u003c\\u002fb\\u003e\\u003cbr\\u003eWords: platform, romney, convention, paul, giuliani\",\"\\u003cb\\u003eTopic 20\\u003c\\u002fb\\u003e\\u003cbr\\u003eWords: hagan, republican, tilli, democrat, candidate\",\"\\u003cb\\u003eTopic 20\\u003c\\u002fb\\u003e\\u003cbr\\u003eWords: trump, republican, candidate, clinton, voter\",\"\\u003cb\\u003eTopic 20\\u003c\\u002fb\\u003e\\u003cbr\\u003eWords: republican, hanover, wittman, trump, democrat\",\"\\u003cb\\u003eTopic 20\\u003c\\u002fb\\u003e\\u003cbr\\u003eWords: trump, republican, garbarino, voter, beach\"],\"marker\":{\"color\":\"#E69F00\"},\"mode\":\"lines\",\"name\":\"20_giuliani_republican_trump_candidate\",\"x\":[1982.0,1992.0,1994.0,1998.0,2000.0,2002.0,2004.0,2006.0,2008.0,2010.0,2012.0,2014.0,2016.0,2018.0],\"y\":[1.1733508553727736e-05,1.2244098344597904e-05,3.4988686991206175e-05,1.0427093760427094e-05,6.25e-05,4.2814328528614246e-05,4.99001996007984e-05,0.0003178869189532851,6.402959590210586e-05,9.511267193444541e-05,3.9761431411530815e-05,0.0004025872943449905,6.889329805996472e-05,7.079144839303412e-05],\"type\":\"scatter\"},{\"hoverinfo\":\"text\",\"hovertext\":[\"\\u003cb\\u003eTopic 21\\u003c\\u002fb\\u003e\\u003cbr\\u003eWords: turkey, armenia, ankara, evren, military\",\"\\u003cb\\u003eTopic 21\\u003c\\u002fb\\u003e\\u003cbr\\u003eWords: armenia, turkey, turk, genocide, ankara\",\"\\u003cb\\u003eTopic 21\\u003c\\u002fb\\u003e\\u003cbr\\u003eWords: turkey, rabin, shearith, istanbul, turkmen\",\"\\u003cb\\u003eTopic 21\\u003c\\u002fb\\u003e\\u003cbr\\u003eWords: armenia, turkey, turk, ottoman, genocide\",\"\\u003cb\\u003eTopic 21\\u003c\\u002fb\\u003e\\u003cbr\\u003eWords: turkey, mongolia, ozal, turk, party\",\"\\u003cb\\u003eTopic 21\\u003c\\u002fb\\u003e\\u003cbr\\u003eWords: turkey, kurdish, csce, turk, ankara\",\"\\u003cb\\u003eTopic 21\\u003c\\u002fb\\u003e\\u003cbr\\u003eWords: turkey, kurdish, kurd, baskaya, village\",\"\\u003cb\\u003eTopic 21\\u003c\\u002fb\\u003e\\u003cbr\\u003eWords: turkey, territorial, integrity, iraq, kandemir\",\"\\u003cb\\u003eTopic 21\\u003c\\u002fb\\u003e\\u003cbr\\u003eWords: ocalan, turkey, italy, kurdish, sezgin\",\"\\u003cb\\u003eTopic 21\\u003c\\u002fb\\u003e\\u003cbr\\u003eWords: turkey, ocalan, pkk, armenia, kurd\",\"\\u003cb\\u003eTopic 21\\u003c\\u002fb\\u003e\\u003cbr\\u003eWords: turkey, incirlik, iraq, wolfowitz, northern\",\"\\u003cb\\u003eTopic 21\\u003c\\u002fb\\u003e\\u003cbr\\u003eWords: turkey, istanbul, ankara, erdogan, armenia\",\"\\u003cb\\u003eTopic 21\\u003c\\u002fb\\u003e\\u003cbr\\u003eWords: turkey, pkk, ocalan, ankara, kurdistan\",\"\\u003cb\\u003eTopic 21\\u003c\\u002fb\\u003e\\u003cbr\\u003eWords: turkey, kargin, kurdish, dogan, erdogan\",\"\\u003cb\\u003eTopic 21\\u003c\\u002fb\\u003e\\u003cbr\\u003eWords: turkey, erdogan, pkk, germany, armenia\",\"\\u003cb\\u003eTopic 21\\u003c\\u002fb\\u003e\\u003cbr\\u003eWords: turkey, kurdish, ankara, perry, nato\",\"\\u003cb\\u003eTopic 21\\u003c\\u002fb\\u003e\\u003cbr\\u003eWords: turkey, ankara, sanli, istanbul, dhkp\",\"\\u003cb\\u003eTopic 21\\u003c\\u002fb\\u003e\\u003cbr\\u003eWords: turkey, erdogan, ankara, kurdish, istanbul\",\"\\u003cb\\u003eTopic 21\\u003c\\u002fb\\u003e\\u003cbr\\u003eWords: turkey, erdogan, cumhuriyet, istanbul, brunson\",\"\\u003cb\\u003eTopic 21\\u003c\\u002fb\\u003e\\u003cbr\\u003eWords: turkey, istanbul, altan, armenia, journalist\"],\"marker\":{\"color\":\"#56B4E9\"},\"mode\":\"lines\",\"name\":\"21_turkey_armenia_ankara_istanbul\",\"x\":[1979.96,1982.0,1984.0,1986.0,1988.0,1990.0,1992.0,1994.0,1996.0,1998.0,2000.0,2002.0,2004.0,2006.0,2008.0,2010.0,2012.0,2014.0,2016.0,2018.0],\"y\":[0.0006415636024314986,0.0001994696454133715,1.0957223001402524e-05,3.248546275541695e-05,2.7190168035238456e-05,3.14070351758794e-05,3.6732295033793715e-05,1.1662895663735393e-05,2.3302418791070512e-05,6.256256256256256e-05,6.944444444444445e-06,3.5678607107178535e-05,1.42571998859424e-05,1.4449405406967503e-05,3.557199772339215e-05,3.658179689786362e-05,9.27766732935719e-05,0.00018787407069432887,0.00014467592592592592,5.792027595793701e-05],\"type\":\"scatter\"},{\"hoverinfo\":\"text\",\"hovertext\":[\"\\u003cb\\u003eTopic 25\\u003c\\u002fb\\u003e\\u003cbr\\u003eWords: ireland, northern, ira, britain, ulster\",\"\\u003cb\\u003eTopic 25\\u003c\\u002fb\\u003e\\u003cbr\\u003eWords: ireland, northern, britain, ira, extradite\",\"\\u003cb\\u003eTopic 25\\u003c\\u002fb\\u003e\\u003cbr\\u003eWords: ireland, ira, northern, britain, tyrie\",\"\\u003cb\\u003eTopic 25\\u003c\\u002fb\\u003e\\u003cbr\\u003eWords: ireland, ira, britain, northern, thatch\",\"\\u003cb\\u003eTopic 25\\u003c\\u002fb\\u003e\\u003cbr\\u003eWords: ireland, northern, ira, ulster, britain\",\"\\u003cb\\u003eTopic 25\\u003c\\u002fb\\u003e\\u003cbr\\u003eWords: ireland, northern, britain, ira, protestant\",\"\\u003cb\\u003eTopic 25\\u003c\\u002fb\\u003e\\u003cbr\\u003eWords: ireland, ira, northern, britain, adams\",\"\\u003cb\\u003eTopic 25\\u003c\\u002fb\\u003e\\u003cbr\\u003eWords: ireland, ira, northern, britain, sinn\",\"\\u003cb\\u003eTopic 25\\u003c\\u002fb\\u003e\\u003cbr\\u003eWords: ireland, ira, northern, omagh, britain\",\"\\u003cb\\u003eTopic 25\\u003c\\u002fb\\u003e\\u003cbr\\u003eWords: ireland, ira, northern, dissident, protestant\",\"\\u003cb\\u003eTopic 25\\u003c\\u002fb\\u003e\\u003cbr\\u003eWords: ireland, northern, ira, britain, protestant\",\"\\u003cb\\u003eTopic 25\\u003c\\u002fb\\u003e\\u003cbr\\u003eWords: mckevitt, ira, ireland, omagh, northern\",\"\\u003cb\\u003eTopic 25\\u003c\\u002fb\\u003e\\u003cbr\\u003eWords: ireland, ira, northern, britain, sinn\",\"\\u003cb\\u003eTopic 25\\u003c\\u002fb\\u003e\\u003cbr\\u003eWords: ireland, northern, ira, belfast, leavey\",\"\\u003cb\\u003eTopic 25\\u003c\\u002fb\\u003e\\u003cbr\\u003eWords: ireland, ira, northern, britain, king\",\"\\u003cb\\u003eTopic 25\\u003c\\u002fb\\u003e\\u003cbr\\u003eWords: ireland, belfast, northern, ira, mabel\",\"\\u003cb\\u003eTopic 25\\u003c\\u002fb\\u003e\\u003cbr\\u003eWords: ireland, northern, mason, britain, ira\",\"\\u003cb\\u003eTopic 25\\u003c\\u002fb\\u003e\\u003cbr\\u003eWords: catholic, ireland, unionist, britain, nationalist\",\"\\u003cb\\u003eTopic 25\\u003c\\u002fb\\u003e\\u003cbr\\u003eWords: mckee, ireland, ira, northern, lyra\"],\"marker\":{\"color\":\"#009E73\"},\"mode\":\"lines\",\"name\":\"25_ireland_ira_northern_britain\",\"x\":[1979.96,1982.0,1984.0,1986.0,1988.0,1990.0,1992.0,1994.0,1996.0,1998.0,2000.0,2002.0,2004.0,2008.0,2010.0,2012.0,2014.0,2016.0,2018.0],\"y\":[0.00040950868240308423,0.00031680473095064887,6.574333800841515e-05,0.00014618458239937628,6.797542008809614e-05,7.328308207705192e-05,0.0003183465569595455,9.330316530988314e-05,9.320967516428205e-05,2.085418752085419e-05,2.777777777777778e-05,7.135721421435707e-06,6.415739948674081e-05,1.4228799089356859e-05,2.92654375182909e-05,3.9761431411530815e-05,1.3419576478166349e-05,6.889329805996472e-06,2.5742344870194226e-05],\"type\":\"scatter\"},{\"hoverinfo\":\"text\",\"hovertext\":[\"\\u003cb\\u003eTopic 39\\u003c\\u002fb\\u003e\\u003cbr\\u003eWords: boston, turner, device, tsarnaev, marketing\",\"\\u003cb\\u003eTopic 39\\u003c\\u002fb\\u003e\\u003cbr\\u003eWords: tsarnaev, boston, marathon, tamerlan, russia\",\"\\u003cb\\u003eTopic 39\\u003c\\u002fb\\u003e\\u003cbr\\u003eWords: boston, tsarnaev, marathon, burke, bomber\",\"\\u003cb\\u003eTopic 39\\u003c\\u002fb\\u003e\\u003cbr\\u003eWords: ciccolo, boston, bauman, tsarnaev, marathon\",\"\\u003cb\\u003eTopic 39\\u003c\\u002fb\\u003e\\u003cbr\\u003eWords: tsarnaev, boston, marathon, tamerlan, brother\"],\"marker\":{\"color\":\"#F0E442\"},\"mode\":\"lines\",\"name\":\"39_tsarnaev_boston_marathon_tamerlan\",\"x\":[2006.0,2012.0,2014.0,2016.0,2018.0],\"y\":[1.4449405406967503e-05,0.0006163021868787277,1.3419576478166349e-05,2.0667989417989417e-05,1.2871172435097113e-05],\"type\":\"scatter\"},{\"hoverinfo\":\"text\",\"hovertext\":[\"\\u003cb\\u003eTopic 40\\u003c\\u002fb\\u003e\\u003cbr\\u003eWords: italy, brigade, red, rome, communist\",\"\\u003cb\\u003eTopic 40\\u003c\\u002fb\\u003e\\u003cbr\\u003eWords: italy, brigade, red, dozy, rome\",\"\\u003cb\\u003eTopic 40\\u003c\\u002fb\\u003e\\u003cbr\\u003eWords: italy, craxi, libya, brigade, red\",\"\\u003cb\\u003eTopic 40\\u003c\\u002fb\\u003e\\u003cbr\\u003eWords: italy, brigade, red, moro, priore\",\"\\u003cb\\u003eTopic 40\\u003c\\u002fb\\u003e\\u003cbr\\u003eWords: italy, ustica, bologna, cossiga, dietrologia\",\"\\u003cb\\u003eTopic 40\\u003c\\u002fb\\u003e\\u003cbr\\u003eWords: curcio, italy, brigade, mafia, falcone\",\"\\u003cb\\u003eTopic 40\\u003c\\u002fb\\u003e\\u003cbr\\u003eWords: italy, mafia, florence, spadolini, rome\",\"\\u003cb\\u003eTopic 40\\u003c\\u002fb\\u003e\\u003cbr\\u003eWords: italy, brigade, red, antona, rome\",\"\\u003cb\\u003eTopic 40\\u003c\\u002fb\\u003e\\u003cbr\\u003eWords: sembler, italy, mel, berlusconi, audience\",\"\\u003cb\\u003eTopic 40\\u003c\\u002fb\\u003e\\u003cbr\\u003eWords: italy, milan, kidnap, brigade, chiara\",\"\\u003cb\\u003eTopic 40\\u003c\\u002fb\\u003e\\u003cbr\\u003eWords: italy, nasr, milan, rome, brigade\",\"\\u003cb\\u003eTopic 40\\u003c\\u002fb\\u003e\\u003cbr\\u003eWords: italy, rome, ansa, anarchist, milan\",\"\\u003cb\\u003eTopic 40\\u003c\\u002fb\\u003e\\u003cbr\\u003eWords: italy, school, brindisi, mafia, rome\",\"\\u003cb\\u003eTopic 40\\u003c\\u002fb\\u003e\\u003cbr\\u003eWords: italy, panama, seldon, lady, costa\",\"\\u003cb\\u003eTopic 40\\u003c\\u002fb\\u003e\\u003cbr\\u003eWords: renzi, italy, europe, matteo, investment\",\"\\u003cb\\u003eTopic 40\\u003c\\u002fb\\u003e\\u003cbr\\u003eWords: italy, migrant, ibtah, rescue, capsize\"],\"marker\":{\"color\":\"#D55E00\"},\"mode\":\"lines\",\"name\":\"40_italy_brigade_red_rome\",\"x\":[1979.96,1982.0,1984.0,1986.0,1988.0,1990.0,1992.0,2000.0,2002.0,2004.0,2006.0,2008.0,2010.0,2012.0,2014.0,2016.0],\"y\":[0.0005323612871240094,4.693403421491094e-05,0.00014244389901823282,4.8728194133125426e-05,1.3595084017619228e-05,2.0938023450586266e-05,6.122049172298952e-05,6.944444444444445e-06,7.135721421435707e-06,6.415739948674081e-05,5.057291892438626e-05,2.8457598178713718e-05,4.389815627743635e-05,3.313452617627568e-05,6.709788239083174e-06,6.889329805996472e-06],\"type\":\"scatter\"},{\"hoverinfo\":\"text\",\"hovertext\":[\"\\u003cb\\u003eTopic 46\\u003c\\u002fb\\u003e\\u003cbr\\u003eWords: clinton, iraq, saddam, president, missile\",\"\\u003cb\\u003eTopic 46\\u003c\\u002fb\\u003e\\u003cbr\\u003eWords: clinton, summit, iran, president, france\",\"\\u003cb\\u003eTopic 46\\u003c\\u002fb\\u003e\\u003cbr\\u003eWords: clinton, president, berger, bomb, united\",\"\\u003cb\\u003eTopic 46\\u003c\\u002fb\\u003e\\u003cbr\\u003eWords: clinton, computer, chemical, biological, weapon\",\"\\u003cb\\u003eTopic 46\\u003c\\u002fb\\u003e\\u003cbr\\u003eWords: sheik, omar, clinton, nuclear, chirac\"],\"marker\":{\"color\":\"#0072B2\"},\"mode\":\"lines\",\"name\":\"46_clinton_president_computer_bomb\",\"x\":[1992.0,1994.0,1996.0,1998.0,2004.0],\"y\":[0.00011019688510138113,0.00036154976557579716,0.0003495362818660577,0.00017726059392726058,1.42571998859424e-05],\"type\":\"scatter\"},{\"hoverinfo\":\"text\",\"hovertext\":[\"\\u003cb\\u003eTopic 57\\u003c\\u002fb\\u003e\\u003cbr\\u003eWords: mahoney, saudi, ratshot, shoot, deputy\",\"\\u003cb\\u003eTopic 57\\u003c\\u002fb\\u003e\\u003cbr\\u003eWords: pensacola, saudi, shoot, naval, alshamrani\"],\"marker\":{\"color\":\"#CC79A7\"},\"mode\":\"lines\",\"name\":\"57_pensacola_saudi_shoot_naval\",\"x\":[1990.0,2018.0],\"y\":[2.0938023450586266e-05,0.0002767302073545879],\"type\":\"scatter\"},{\"hoverinfo\":\"text\",\"hovertext\":[\"\\u003cb\\u003eTopic 58\\u003c\\u002fb\\u003e\\u003cbr\\u003eWords: ryan, penalty, illinois, death, governor\",\"\\u003cb\\u003eTopic 58\\u003c\\u002fb\\u003e\\u003cbr\\u003eWords: illinois, ryan, grady, penalty, library\",\"\\u003cb\\u003eTopic 58\\u003c\\u002fb\\u003e\\u003cbr\\u003eWords: illinois, veteran, ryan, terek, meister\",\"\\u003cb\\u003eTopic 58\\u003c\\u002fb\\u003e\\u003cbr\\u003eWords: penalty, death, punishment, connecticut, ryan\",\"\\u003cb\\u003eTopic 58\\u003c\\u002fb\\u003e\\u003cbr\\u003eWords: illinois, cadigan, ryan, lang, skokie\"],\"marker\":{\"color\":\"#E69F00\"},\"mode\":\"lines\",\"name\":\"58_ryan_penalty_illinois_death\",\"x\":[2000.0,2004.0,2008.0,2010.0,2016.0],\"y\":[0.00026388888888888886,1.42571998859424e-05,1.4228799089356859e-05,7.316359379572725e-06,1.3778659611992945e-05],\"type\":\"scatter\"},{\"hoverinfo\":\"text\",\"hovertext\":[\"\\u003cb\\u003eTopic 59\\u003c\\u002fb\\u003e\\u003cbr\\u003eWords: ressam, algeria, canada, arrest, explosive\",\"\\u003cb\\u003eTopic 59\\u003c\\u002fb\\u003e\\u003cbr\\u003eWords: ressam, meskini, algeria, canada, seattle\",\"\\u003cb\\u003eTopic 59\\u003c\\u002fb\\u003e\\u003cbr\\u003eWords: lng, tanker, markey, boston, connection\",\"\\u003cb\\u003eTopic 59\\u003c\\u002fb\\u003e\\u003cbr\\u003eWords: ressam, coughenour, judge, hilly, sentence\"],\"marker\":{\"color\":\"#56B4E9\"},\"mode\":\"lines\",\"name\":\"59_ressam_algeria_canada_arrest\",\"x\":[1998.0,2000.0,2002.0,2004.0],\"y\":[0.00038580246913580245,2.777777777777778e-05,7.135721421435707e-06,7.1285999429712e-06],\"type\":\"scatter\"}],                        {\"template\":{\"data\":{\"barpolar\":[{\"marker\":{\"line\":{\"color\":\"white\",\"width\":0.5},\"pattern\":{\"fillmode\":\"overlay\",\"size\":10,\"solidity\":0.2}},\"type\":\"barpolar\"}],\"bar\":[{\"error_x\":{\"color\":\"rgb(36,36,36)\"},\"error_y\":{\"color\":\"rgb(36,36,36)\"},\"marker\":{\"line\":{\"color\":\"white\",\"width\":0.5},\"pattern\":{\"fillmode\":\"overlay\",\"size\":10,\"solidity\":0.2}},\"type\":\"bar\"}],\"carpet\":[{\"aaxis\":{\"endlinecolor\":\"rgb(36,36,36)\",\"gridcolor\":\"white\",\"linecolor\":\"white\",\"minorgridcolor\":\"white\",\"startlinecolor\":\"rgb(36,36,36)\"},\"baxis\":{\"endlinecolor\":\"rgb(36,36,36)\",\"gridcolor\":\"white\",\"linecolor\":\"white\",\"minorgridcolor\":\"white\",\"startlinecolor\":\"rgb(36,36,36)\"},\"type\":\"carpet\"}],\"choropleth\":[{\"colorbar\":{\"outlinewidth\":1,\"tickcolor\":\"rgb(36,36,36)\",\"ticks\":\"outside\"},\"type\":\"choropleth\"}],\"contourcarpet\":[{\"colorbar\":{\"outlinewidth\":1,\"tickcolor\":\"rgb(36,36,36)\",\"ticks\":\"outside\"},\"type\":\"contourcarpet\"}],\"contour\":[{\"colorbar\":{\"outlinewidth\":1,\"tickcolor\":\"rgb(36,36,36)\",\"ticks\":\"outside\"},\"colorscale\":[[0.0,\"#440154\"],[0.1111111111111111,\"#482878\"],[0.2222222222222222,\"#3e4989\"],[0.3333333333333333,\"#31688e\"],[0.4444444444444444,\"#26828e\"],[0.5555555555555556,\"#1f9e89\"],[0.6666666666666666,\"#35b779\"],[0.7777777777777778,\"#6ece58\"],[0.8888888888888888,\"#b5de2b\"],[1.0,\"#fde725\"]],\"type\":\"contour\"}],\"heatmapgl\":[{\"colorbar\":{\"outlinewidth\":1,\"tickcolor\":\"rgb(36,36,36)\",\"ticks\":\"outside\"},\"colorscale\":[[0.0,\"#440154\"],[0.1111111111111111,\"#482878\"],[0.2222222222222222,\"#3e4989\"],[0.3333333333333333,\"#31688e\"],[0.4444444444444444,\"#26828e\"],[0.5555555555555556,\"#1f9e89\"],[0.6666666666666666,\"#35b779\"],[0.7777777777777778,\"#6ece58\"],[0.8888888888888888,\"#b5de2b\"],[1.0,\"#fde725\"]],\"type\":\"heatmapgl\"}],\"heatmap\":[{\"colorbar\":{\"outlinewidth\":1,\"tickcolor\":\"rgb(36,36,36)\",\"ticks\":\"outside\"},\"colorscale\":[[0.0,\"#440154\"],[0.1111111111111111,\"#482878\"],[0.2222222222222222,\"#3e4989\"],[0.3333333333333333,\"#31688e\"],[0.4444444444444444,\"#26828e\"],[0.5555555555555556,\"#1f9e89\"],[0.6666666666666666,\"#35b779\"],[0.7777777777777778,\"#6ece58\"],[0.8888888888888888,\"#b5de2b\"],[1.0,\"#fde725\"]],\"type\":\"heatmap\"}],\"histogram2dcontour\":[{\"colorbar\":{\"outlinewidth\":1,\"tickcolor\":\"rgb(36,36,36)\",\"ticks\":\"outside\"},\"colorscale\":[[0.0,\"#440154\"],[0.1111111111111111,\"#482878\"],[0.2222222222222222,\"#3e4989\"],[0.3333333333333333,\"#31688e\"],[0.4444444444444444,\"#26828e\"],[0.5555555555555556,\"#1f9e89\"],[0.6666666666666666,\"#35b779\"],[0.7777777777777778,\"#6ece58\"],[0.8888888888888888,\"#b5de2b\"],[1.0,\"#fde725\"]],\"type\":\"histogram2dcontour\"}],\"histogram2d\":[{\"colorbar\":{\"outlinewidth\":1,\"tickcolor\":\"rgb(36,36,36)\",\"ticks\":\"outside\"},\"colorscale\":[[0.0,\"#440154\"],[0.1111111111111111,\"#482878\"],[0.2222222222222222,\"#3e4989\"],[0.3333333333333333,\"#31688e\"],[0.4444444444444444,\"#26828e\"],[0.5555555555555556,\"#1f9e89\"],[0.6666666666666666,\"#35b779\"],[0.7777777777777778,\"#6ece58\"],[0.8888888888888888,\"#b5de2b\"],[1.0,\"#fde725\"]],\"type\":\"histogram2d\"}],\"histogram\":[{\"marker\":{\"line\":{\"color\":\"white\",\"width\":0.6}},\"type\":\"histogram\"}],\"mesh3d\":[{\"colorbar\":{\"outlinewidth\":1,\"tickcolor\":\"rgb(36,36,36)\",\"ticks\":\"outside\"},\"type\":\"mesh3d\"}],\"parcoords\":[{\"line\":{\"colorbar\":{\"outlinewidth\":1,\"tickcolor\":\"rgb(36,36,36)\",\"ticks\":\"outside\"}},\"type\":\"parcoords\"}],\"pie\":[{\"automargin\":true,\"type\":\"pie\"}],\"scatter3d\":[{\"line\":{\"colorbar\":{\"outlinewidth\":1,\"tickcolor\":\"rgb(36,36,36)\",\"ticks\":\"outside\"}},\"marker\":{\"colorbar\":{\"outlinewidth\":1,\"tickcolor\":\"rgb(36,36,36)\",\"ticks\":\"outside\"}},\"type\":\"scatter3d\"}],\"scattercarpet\":[{\"marker\":{\"colorbar\":{\"outlinewidth\":1,\"tickcolor\":\"rgb(36,36,36)\",\"ticks\":\"outside\"}},\"type\":\"scattercarpet\"}],\"scattergeo\":[{\"marker\":{\"colorbar\":{\"outlinewidth\":1,\"tickcolor\":\"rgb(36,36,36)\",\"ticks\":\"outside\"}},\"type\":\"scattergeo\"}],\"scattergl\":[{\"marker\":{\"colorbar\":{\"outlinewidth\":1,\"tickcolor\":\"rgb(36,36,36)\",\"ticks\":\"outside\"}},\"type\":\"scattergl\"}],\"scattermapbox\":[{\"marker\":{\"colorbar\":{\"outlinewidth\":1,\"tickcolor\":\"rgb(36,36,36)\",\"ticks\":\"outside\"}},\"type\":\"scattermapbox\"}],\"scatterpolargl\":[{\"marker\":{\"colorbar\":{\"outlinewidth\":1,\"tickcolor\":\"rgb(36,36,36)\",\"ticks\":\"outside\"}},\"type\":\"scatterpolargl\"}],\"scatterpolar\":[{\"marker\":{\"colorbar\":{\"outlinewidth\":1,\"tickcolor\":\"rgb(36,36,36)\",\"ticks\":\"outside\"}},\"type\":\"scatterpolar\"}],\"scatter\":[{\"fillpattern\":{\"fillmode\":\"overlay\",\"size\":10,\"solidity\":0.2},\"type\":\"scatter\"}],\"scatterternary\":[{\"marker\":{\"colorbar\":{\"outlinewidth\":1,\"tickcolor\":\"rgb(36,36,36)\",\"ticks\":\"outside\"}},\"type\":\"scatterternary\"}],\"surface\":[{\"colorbar\":{\"outlinewidth\":1,\"tickcolor\":\"rgb(36,36,36)\",\"ticks\":\"outside\"},\"colorscale\":[[0.0,\"#440154\"],[0.1111111111111111,\"#482878\"],[0.2222222222222222,\"#3e4989\"],[0.3333333333333333,\"#31688e\"],[0.4444444444444444,\"#26828e\"],[0.5555555555555556,\"#1f9e89\"],[0.6666666666666666,\"#35b779\"],[0.7777777777777778,\"#6ece58\"],[0.8888888888888888,\"#b5de2b\"],[1.0,\"#fde725\"]],\"type\":\"surface\"}],\"table\":[{\"cells\":{\"fill\":{\"color\":\"rgb(237,237,237)\"},\"line\":{\"color\":\"white\"}},\"header\":{\"fill\":{\"color\":\"rgb(217,217,217)\"},\"line\":{\"color\":\"white\"}},\"type\":\"table\"}]},\"layout\":{\"annotationdefaults\":{\"arrowhead\":0,\"arrowwidth\":1},\"autotypenumbers\":\"strict\",\"coloraxis\":{\"colorbar\":{\"outlinewidth\":1,\"tickcolor\":\"rgb(36,36,36)\",\"ticks\":\"outside\"}},\"colorscale\":{\"diverging\":[[0.0,\"rgb(103,0,31)\"],[0.1,\"rgb(178,24,43)\"],[0.2,\"rgb(214,96,77)\"],[0.3,\"rgb(244,165,130)\"],[0.4,\"rgb(253,219,199)\"],[0.5,\"rgb(247,247,247)\"],[0.6,\"rgb(209,229,240)\"],[0.7,\"rgb(146,197,222)\"],[0.8,\"rgb(67,147,195)\"],[0.9,\"rgb(33,102,172)\"],[1.0,\"rgb(5,48,97)\"]],\"sequential\":[[0.0,\"#440154\"],[0.1111111111111111,\"#482878\"],[0.2222222222222222,\"#3e4989\"],[0.3333333333333333,\"#31688e\"],[0.4444444444444444,\"#26828e\"],[0.5555555555555556,\"#1f9e89\"],[0.6666666666666666,\"#35b779\"],[0.7777777777777778,\"#6ece58\"],[0.8888888888888888,\"#b5de2b\"],[1.0,\"#fde725\"]],\"sequentialminus\":[[0.0,\"#440154\"],[0.1111111111111111,\"#482878\"],[0.2222222222222222,\"#3e4989\"],[0.3333333333333333,\"#31688e\"],[0.4444444444444444,\"#26828e\"],[0.5555555555555556,\"#1f9e89\"],[0.6666666666666666,\"#35b779\"],[0.7777777777777778,\"#6ece58\"],[0.8888888888888888,\"#b5de2b\"],[1.0,\"#fde725\"]]},\"colorway\":[\"#1F77B4\",\"#FF7F0E\",\"#2CA02C\",\"#D62728\",\"#9467BD\",\"#8C564B\",\"#E377C2\",\"#7F7F7F\",\"#BCBD22\",\"#17BECF\"],\"font\":{\"color\":\"rgb(36,36,36)\"},\"geo\":{\"bgcolor\":\"white\",\"lakecolor\":\"white\",\"landcolor\":\"white\",\"showlakes\":true,\"showland\":true,\"subunitcolor\":\"white\"},\"hoverlabel\":{\"align\":\"left\"},\"hovermode\":\"closest\",\"mapbox\":{\"style\":\"light\"},\"paper_bgcolor\":\"white\",\"plot_bgcolor\":\"white\",\"polar\":{\"angularaxis\":{\"gridcolor\":\"rgb(232,232,232)\",\"linecolor\":\"rgb(36,36,36)\",\"showgrid\":false,\"showline\":true,\"ticks\":\"outside\"},\"bgcolor\":\"white\",\"radialaxis\":{\"gridcolor\":\"rgb(232,232,232)\",\"linecolor\":\"rgb(36,36,36)\",\"showgrid\":false,\"showline\":true,\"ticks\":\"outside\"}},\"scene\":{\"xaxis\":{\"backgroundcolor\":\"white\",\"gridcolor\":\"rgb(232,232,232)\",\"gridwidth\":2,\"linecolor\":\"rgb(36,36,36)\",\"showbackground\":true,\"showgrid\":false,\"showline\":true,\"ticks\":\"outside\",\"zeroline\":false,\"zerolinecolor\":\"rgb(36,36,36)\"},\"yaxis\":{\"backgroundcolor\":\"white\",\"gridcolor\":\"rgb(232,232,232)\",\"gridwidth\":2,\"linecolor\":\"rgb(36,36,36)\",\"showbackground\":true,\"showgrid\":false,\"showline\":true,\"ticks\":\"outside\",\"zeroline\":false,\"zerolinecolor\":\"rgb(36,36,36)\"},\"zaxis\":{\"backgroundcolor\":\"white\",\"gridcolor\":\"rgb(232,232,232)\",\"gridwidth\":2,\"linecolor\":\"rgb(36,36,36)\",\"showbackground\":true,\"showgrid\":false,\"showline\":true,\"ticks\":\"outside\",\"zeroline\":false,\"zerolinecolor\":\"rgb(36,36,36)\"}},\"shapedefaults\":{\"fillcolor\":\"black\",\"line\":{\"width\":0},\"opacity\":0.3},\"ternary\":{\"aaxis\":{\"gridcolor\":\"rgb(232,232,232)\",\"linecolor\":\"rgb(36,36,36)\",\"showgrid\":false,\"showline\":true,\"ticks\":\"outside\"},\"baxis\":{\"gridcolor\":\"rgb(232,232,232)\",\"linecolor\":\"rgb(36,36,36)\",\"showgrid\":false,\"showline\":true,\"ticks\":\"outside\"},\"bgcolor\":\"white\",\"caxis\":{\"gridcolor\":\"rgb(232,232,232)\",\"linecolor\":\"rgb(36,36,36)\",\"showgrid\":false,\"showline\":true,\"ticks\":\"outside\"}},\"title\":{\"x\":0.05},\"xaxis\":{\"automargin\":true,\"gridcolor\":\"rgb(232,232,232)\",\"linecolor\":\"rgb(36,36,36)\",\"showgrid\":false,\"showline\":true,\"ticks\":\"outside\",\"title\":{\"standoff\":15},\"zeroline\":false,\"zerolinecolor\":\"rgb(36,36,36)\"},\"yaxis\":{\"automargin\":true,\"gridcolor\":\"rgb(232,232,232)\",\"linecolor\":\"rgb(36,36,36)\",\"showgrid\":false,\"showline\":true,\"ticks\":\"outside\",\"title\":{\"standoff\":15},\"zeroline\":false,\"zerolinecolor\":\"rgb(36,36,36)\"}}},\"xaxis\":{\"showgrid\":true},\"yaxis\":{\"showgrid\":true,\"title\":{\"text\":\"Frequency\"}},\"title\":{\"font\":{\"size\":22,\"color\":\"Black\"},\"text\":\"\\u003cb\\u003eTopics over Time\\u003c\\u002fb\\u003e\",\"y\":0.95,\"x\":0.4,\"xanchor\":\"center\",\"yanchor\":\"top\"},\"hoverlabel\":{\"font\":{\"size\":16,\"family\":\"Rockwell\"},\"bgcolor\":\"white\"},\"width\":1200,\"height\":800,\"legend\":{\"title\":{\"text\":\"\\u003cb\\u003eGlobal Topic Representation\"}}},                        {\"responsive\": true}                    ).then(function(){\n                            \nvar gd = document.getElementById('10f063e0-69d5-4ec1-866e-73fee3ae28bc');\nvar x = new MutationObserver(function (mutations, observer) {{\n        var display = window.getComputedStyle(gd).display;\n        if (!display || display === 'none') {{\n            console.log([gd, 'removed!']);\n            Plotly.purge(gd);\n            observer.disconnect();\n        }}\n}});\n\n// Listen for the removal of the full notebook cells\nvar notebookContainer = gd.closest('#notebook-container');\nif (notebookContainer) {{\n    x.observe(notebookContainer, {childList: true});\n}}\n\n// Listen for the clearing of the current output cell\nvar outputEl = gd.closest('.output');\nif (outputEl) {{\n    x.observe(outputEl, {childList: true});\n}}\n\n                        })                };                });            </script>        </div>"
     },
     "metadata": {},
     "output_type": "display_data"
    }
   ],
   "source": [
    "topics_over_time_filtered = topics_over_time.groupby('Topic').filter(lambda x:  np.std(x.Frequency)  > 0.0001)\n",
    "fig = topic_model.visualize_topics_over_time(topics_over_time_filtered)\n",
    "# enlarge the size of the plot\n",
    "fig.update_layout(width=1200, height=800)\n",
    "fig.write_image('output/dtm/topics_over_time_100.png', engine=\"orca\")\n",
    "fig.show()"
   ],
   "metadata": {
    "collapsed": false,
    "ExecuteTime": {
     "end_time": "2024-05-22T17:53:18.630464Z",
     "start_time": "2024-05-22T17:53:18.310964Z"
    }
   },
   "id": "903a59475a5f1b8e",
   "execution_count": 138
  },
  {
   "cell_type": "markdown",
   "source": [
    "# Dynamic Topic Modeling by Media"
   ],
   "metadata": {
    "collapsed": false
   },
   "id": "cdbaace95f403055"
  },
  {
   "cell_type": "code",
   "outputs": [],
   "source": [
    "def get_topics_by_classes(df_news):\n",
    "    news = df_news['cleaned_text_stem'].tolist()\n",
    "    topic_model = BERTopic(verbose=True)\n",
    "    topics, probs = topic_model.fit_transform(news)\n",
    "    classes = df_news['publisher'].tolist()\n",
    "    topics_per_class = topic_model.topics_per_class(news, classes=classes)\n",
    "    topics_per_class_media_groupby = topics_per_class.groupby('Class').apply(lambda x: x['Frequency'] / x['Frequency'].sum())\n",
    "    topics_per_class['Frequency'] = topics_per_class_media_groupby.values\n",
    "    \n",
    "    # join topics_per_class with topic_model_media.get_topic_info() on topic column to add Name column to topics_per_class\n",
    "    topics_per_class = topics_per_class.merge(topic_model.get_topic_info(), left_on='Topic', right_on='Topic')\n",
    "    return topic_model, topics_per_class"
   ],
   "metadata": {
    "collapsed": false,
    "ExecuteTime": {
     "end_time": "2024-05-23T09:34:47.035037Z",
     "start_time": "2024-05-23T09:34:47.030288Z"
    }
   },
   "id": "addfe3f7bf6ce1d2",
   "execution_count": 30
  },
  {
   "cell_type": "code",
   "outputs": [],
   "source": [
    "df_nyt = df.loc[df['publisher'] == 'the new york times'] \n",
    "df_nyt['publisher'] = 'NYT'\n",
    "df_ppg = df.loc[df['publisher'] == 'pittsburgh post-gazette'] \n",
    "df_ppg['publisher'] = 'PPG'\n"
   ],
   "metadata": {
    "collapsed": false,
    "ExecuteTime": {
     "end_time": "2024-05-23T09:36:35.057084Z",
     "start_time": "2024-05-23T09:36:35.012901Z"
    }
   },
   "id": "4249ce596f8a9690",
   "execution_count": 35
  },
  {
   "cell_type": "code",
   "outputs": [
    {
     "name": "stderr",
     "output_type": "stream",
     "text": [
      "2024-05-23 11:36:37,947 - BERTopic - Embedding - Transforming documents to embeddings.\n"
     ]
    },
    {
     "data": {
      "text/plain": "Batches:   0%|          | 0/196 [00:00<?, ?it/s]",
      "application/vnd.jupyter.widget-view+json": {
       "version_major": 2,
       "version_minor": 0,
       "model_id": "fcac6d7b377640efb21af10df55937a9"
      }
     },
     "metadata": {},
     "output_type": "display_data"
    },
    {
     "name": "stderr",
     "output_type": "stream",
     "text": [
      "2024-05-23 11:37:08,901 - BERTopic - Embedding - Completed ✓\n",
      "2024-05-23 11:37:08,902 - BERTopic - Dimensionality - Fitting the dimensionality reduction algorithm\n",
      "2024-05-23 11:37:12,306 - BERTopic - Dimensionality - Completed ✓\n",
      "2024-05-23 11:37:12,307 - BERTopic - Cluster - Start clustering the reduced embeddings\n",
      "2024-05-23 11:37:12,432 - BERTopic - Cluster - Completed ✓\n",
      "2024-05-23 11:37:12,436 - BERTopic - Representation - Extracting topics from clusters using representation models.\n",
      "2024-05-23 11:37:14,820 - BERTopic - Representation - Completed ✓\n",
      "2it [00:01,  1.43it/s]\n",
      "/var/folders/dm/hs6ffqd576v39l4vtyx6rpg00000gn/T/ipykernel_50080/3714157194.py:7: DeprecationWarning:\n",
      "\n",
      "DataFrameGroupBy.apply operated on the grouping columns. This behavior is deprecated, and in a future version of pandas the grouping columns will be excluded from the operation. Either pass `include_groups=False` to exclude the groupings or explicitly select the grouping columns after groupby to silence this warning.\n",
      "\n"
     ]
    },
    {
     "data": {
      "text/plain": "     Topic  Count                                   Name  \\\n0       -1   1896         -1_mr_said_terrorism_terrorist   \n1        0    284      0_israel_palestinian_arafat_peace   \n2        1    221    1_pakistan_india_indian_afghanistan   \n3        2    167           2_france_paris_macron_attack   \n4        3    163             3_shoot_gun_white_domestic   \n..     ...    ...                                    ...   \n105    104     11  104_soviet_union_webster_intelligence   \n106    105     11  105_extradite_ireland_northern_treaty   \n107    106     10       106_port_cargo_customs_container   \n108    107     10          107_assad_syria_peace_clinton   \n109    108     10  108_lebanon_hezbollah_israel_ammonium   \n\n                                        Representation  \\\n0    [mr, said, terrorism, terrorist, america, atta...   \n1    [israel, palestinian, arafat, peace, arab, jew...   \n2    [pakistan, india, indian, afghanistan, mumbai,...   \n3    [france, paris, macron, attack, police, strasb...   \n4    [shoot, gun, white, domestic, mass, violence, ...   \n..                                                 ...   \n105  [soviet, union, webster, intelligence, agency,...   \n106  [extradite, ireland, northern, treaty, britain...   \n107  [port, cargo, customs, container, ship, securi...   \n108  [assad, syria, peace, clinton, israel, christo...   \n109  [lebanon, hezbollah, israel, ammonium, nitrate...   \n\n                                   Representative_Docs  \n0    [certainly image oratory last week fast spread...  \n1    [yasir arafat p l committed seek politics dest...  \n2    [prime minister india pakistan agree cooperate...  \n3    [man knife kill three people church nice assau...  \n4    [washington law enforce official sound alarm m...  \n..                                                 ...  \n105  [soviet union agree meet united states discuss...  \n106  [joseph p doherty member extremist provisional...  \n107  [could imagine post world united states govern...  \n108  [president clinton made one day venture shuttl...  \n109  [little decade emergence unleash one deadliest...  \n\n[110 rows x 5 columns]",
      "text/html": "<div>\n<style scoped>\n    .dataframe tbody tr th:only-of-type {\n        vertical-align: middle;\n    }\n\n    .dataframe tbody tr th {\n        vertical-align: top;\n    }\n\n    .dataframe thead th {\n        text-align: right;\n    }\n</style>\n<table border=\"1\" class=\"dataframe\">\n  <thead>\n    <tr style=\"text-align: right;\">\n      <th></th>\n      <th>Topic</th>\n      <th>Count</th>\n      <th>Name</th>\n      <th>Representation</th>\n      <th>Representative_Docs</th>\n    </tr>\n  </thead>\n  <tbody>\n    <tr>\n      <th>0</th>\n      <td>-1</td>\n      <td>1896</td>\n      <td>-1_mr_said_terrorism_terrorist</td>\n      <td>[mr, said, terrorism, terrorist, america, atta...</td>\n      <td>[certainly image oratory last week fast spread...</td>\n    </tr>\n    <tr>\n      <th>1</th>\n      <td>0</td>\n      <td>284</td>\n      <td>0_israel_palestinian_arafat_peace</td>\n      <td>[israel, palestinian, arafat, peace, arab, jew...</td>\n      <td>[yasir arafat p l committed seek politics dest...</td>\n    </tr>\n    <tr>\n      <th>2</th>\n      <td>1</td>\n      <td>221</td>\n      <td>1_pakistan_india_indian_afghanistan</td>\n      <td>[pakistan, india, indian, afghanistan, mumbai,...</td>\n      <td>[prime minister india pakistan agree cooperate...</td>\n    </tr>\n    <tr>\n      <th>3</th>\n      <td>2</td>\n      <td>167</td>\n      <td>2_france_paris_macron_attack</td>\n      <td>[france, paris, macron, attack, police, strasb...</td>\n      <td>[man knife kill three people church nice assau...</td>\n    </tr>\n    <tr>\n      <th>4</th>\n      <td>3</td>\n      <td>163</td>\n      <td>3_shoot_gun_white_domestic</td>\n      <td>[shoot, gun, white, domestic, mass, violence, ...</td>\n      <td>[washington law enforce official sound alarm m...</td>\n    </tr>\n    <tr>\n      <th>...</th>\n      <td>...</td>\n      <td>...</td>\n      <td>...</td>\n      <td>...</td>\n      <td>...</td>\n    </tr>\n    <tr>\n      <th>105</th>\n      <td>104</td>\n      <td>11</td>\n      <td>104_soviet_union_webster_intelligence</td>\n      <td>[soviet, union, webster, intelligence, agency,...</td>\n      <td>[soviet union agree meet united states discuss...</td>\n    </tr>\n    <tr>\n      <th>106</th>\n      <td>105</td>\n      <td>11</td>\n      <td>105_extradite_ireland_northern_treaty</td>\n      <td>[extradite, ireland, northern, treaty, britain...</td>\n      <td>[joseph p doherty member extremist provisional...</td>\n    </tr>\n    <tr>\n      <th>107</th>\n      <td>106</td>\n      <td>10</td>\n      <td>106_port_cargo_customs_container</td>\n      <td>[port, cargo, customs, container, ship, securi...</td>\n      <td>[could imagine post world united states govern...</td>\n    </tr>\n    <tr>\n      <th>108</th>\n      <td>107</td>\n      <td>10</td>\n      <td>107_assad_syria_peace_clinton</td>\n      <td>[assad, syria, peace, clinton, israel, christo...</td>\n      <td>[president clinton made one day venture shuttl...</td>\n    </tr>\n    <tr>\n      <th>109</th>\n      <td>108</td>\n      <td>10</td>\n      <td>108_lebanon_hezbollah_israel_ammonium</td>\n      <td>[lebanon, hezbollah, israel, ammonium, nitrate...</td>\n      <td>[little decade emergence unleash one deadliest...</td>\n    </tr>\n  </tbody>\n</table>\n<p>110 rows × 5 columns</p>\n</div>"
     },
     "execution_count": 36,
     "metadata": {},
     "output_type": "execute_result"
    }
   ],
   "source": [
    "# concat df_nyt and df_ppg\n",
    "df_media = pd.concat([df_nyt, df_ppg])\n",
    "topic_model_media, topics_per_class_media = get_topics_by_classes(df_media)\n",
    "topic_model_media.get_topic_info()"
   ],
   "metadata": {
    "collapsed": false,
    "ExecuteTime": {
     "end_time": "2024-05-23T09:37:17.580796Z",
     "start_time": "2024-05-23T09:36:37.942070Z"
    }
   },
   "id": "a5217cd1da7b3a4d",
   "execution_count": 36
  },
  {
   "cell_type": "code",
   "outputs": [
    {
     "data": {
      "text/plain": "     Topic                                          Words  Frequency Class  \\\n0       -1        mr, said, terrorism, terrorist, america   0.300787   NYT   \n1        0       israel, palestinian, arafat, peace, arab   0.045165   NYT   \n2        1  pakistan, india, indian, afghanistan, kashmir   0.034295   NYT   \n3        2          france, paris, macron, attack, police   0.029798   NYT   \n4        3              shoot, gun, white, domestic, mass   0.027361   NYT   \n..     ...                                            ...        ...   ...   \n202     99      tunisia, morocco, email, consulate, tunis   0.002198   PPG   \n203    102            boim, lewin, damages, salah, appeal   0.001099   PPG   \n204    103       africa, mali, somalia, troops, continent   0.004396   PPG   \n205    107           assad, clinton, syria, peace, israel   0.003297   PPG   \n206    108        hezbollah, lebanon, shiite, israel, mau   0.001099   PPG   \n\n     Count                                   Name  \\\n0     1896         -1_mr_said_terrorism_terrorist   \n1      284      0_israel_palestinian_arafat_peace   \n2      221    1_pakistan_india_indian_afghanistan   \n3      167           2_france_paris_macron_attack   \n4      163             3_shoot_gun_white_domestic   \n..     ...                                    ...   \n202     12         99_tunisia_morocco_tunis_niqab   \n203     11      102_punitive_court_appeal_damages   \n204     11        103_africa_mali_troops_pentagon   \n205     10          107_assad_syria_peace_clinton   \n206     10  108_lebanon_hezbollah_israel_ammonium   \n\n                                        Representation  \\\n0    [mr, said, terrorism, terrorist, america, atta...   \n1    [israel, palestinian, arafat, peace, arab, jew...   \n2    [pakistan, india, indian, afghanistan, mumbai,...   \n3    [france, paris, macron, attack, police, strasb...   \n4    [shoot, gun, white, domestic, mass, violence, ...   \n..                                                 ...   \n202  [tunisia, morocco, tunis, niqab, ennahda, sous...   \n203  [punitive, court, appeal, damages, judge, ruli...   \n204  [africa, mali, troops, pentagon, somalia, sene...   \n205  [assad, syria, peace, clinton, israel, christo...   \n206  [lebanon, hezbollah, israel, ammonium, nitrate...   \n\n                                   Representative_Docs  \n0    [certainly image oratory last week fast spread...  \n1    [yasir arafat p l committed seek politics dest...  \n2    [prime minister india pakistan agree cooperate...  \n3    [man knife kill three people church nice assau...  \n4    [washington law enforce official sound alarm m...  \n..                                                 ...  \n202  [tunis tunisia prime minister youssef chahe tu...  \n203  [federal appeal court tuesday threw terrorism ...  \n204  [niamey niger nearly every day sometimes twice...  \n205  [president clinton made one day venture shuttl...  \n206  [little decade emergence unleash one deadliest...  \n\n[207 rows x 8 columns]",
      "text/html": "<div>\n<style scoped>\n    .dataframe tbody tr th:only-of-type {\n        vertical-align: middle;\n    }\n\n    .dataframe tbody tr th {\n        vertical-align: top;\n    }\n\n    .dataframe thead th {\n        text-align: right;\n    }\n</style>\n<table border=\"1\" class=\"dataframe\">\n  <thead>\n    <tr style=\"text-align: right;\">\n      <th></th>\n      <th>Topic</th>\n      <th>Words</th>\n      <th>Frequency</th>\n      <th>Class</th>\n      <th>Count</th>\n      <th>Name</th>\n      <th>Representation</th>\n      <th>Representative_Docs</th>\n    </tr>\n  </thead>\n  <tbody>\n    <tr>\n      <th>0</th>\n      <td>-1</td>\n      <td>mr, said, terrorism, terrorist, america</td>\n      <td>0.300787</td>\n      <td>NYT</td>\n      <td>1896</td>\n      <td>-1_mr_said_terrorism_terrorist</td>\n      <td>[mr, said, terrorism, terrorist, america, atta...</td>\n      <td>[certainly image oratory last week fast spread...</td>\n    </tr>\n    <tr>\n      <th>1</th>\n      <td>0</td>\n      <td>israel, palestinian, arafat, peace, arab</td>\n      <td>0.045165</td>\n      <td>NYT</td>\n      <td>284</td>\n      <td>0_israel_palestinian_arafat_peace</td>\n      <td>[israel, palestinian, arafat, peace, arab, jew...</td>\n      <td>[yasir arafat p l committed seek politics dest...</td>\n    </tr>\n    <tr>\n      <th>2</th>\n      <td>1</td>\n      <td>pakistan, india, indian, afghanistan, kashmir</td>\n      <td>0.034295</td>\n      <td>NYT</td>\n      <td>221</td>\n      <td>1_pakistan_india_indian_afghanistan</td>\n      <td>[pakistan, india, indian, afghanistan, mumbai,...</td>\n      <td>[prime minister india pakistan agree cooperate...</td>\n    </tr>\n    <tr>\n      <th>3</th>\n      <td>2</td>\n      <td>france, paris, macron, attack, police</td>\n      <td>0.029798</td>\n      <td>NYT</td>\n      <td>167</td>\n      <td>2_france_paris_macron_attack</td>\n      <td>[france, paris, macron, attack, police, strasb...</td>\n      <td>[man knife kill three people church nice assau...</td>\n    </tr>\n    <tr>\n      <th>4</th>\n      <td>3</td>\n      <td>shoot, gun, white, domestic, mass</td>\n      <td>0.027361</td>\n      <td>NYT</td>\n      <td>163</td>\n      <td>3_shoot_gun_white_domestic</td>\n      <td>[shoot, gun, white, domestic, mass, violence, ...</td>\n      <td>[washington law enforce official sound alarm m...</td>\n    </tr>\n    <tr>\n      <th>...</th>\n      <td>...</td>\n      <td>...</td>\n      <td>...</td>\n      <td>...</td>\n      <td>...</td>\n      <td>...</td>\n      <td>...</td>\n      <td>...</td>\n    </tr>\n    <tr>\n      <th>202</th>\n      <td>99</td>\n      <td>tunisia, morocco, email, consulate, tunis</td>\n      <td>0.002198</td>\n      <td>PPG</td>\n      <td>12</td>\n      <td>99_tunisia_morocco_tunis_niqab</td>\n      <td>[tunisia, morocco, tunis, niqab, ennahda, sous...</td>\n      <td>[tunis tunisia prime minister youssef chahe tu...</td>\n    </tr>\n    <tr>\n      <th>203</th>\n      <td>102</td>\n      <td>boim, lewin, damages, salah, appeal</td>\n      <td>0.001099</td>\n      <td>PPG</td>\n      <td>11</td>\n      <td>102_punitive_court_appeal_damages</td>\n      <td>[punitive, court, appeal, damages, judge, ruli...</td>\n      <td>[federal appeal court tuesday threw terrorism ...</td>\n    </tr>\n    <tr>\n      <th>204</th>\n      <td>103</td>\n      <td>africa, mali, somalia, troops, continent</td>\n      <td>0.004396</td>\n      <td>PPG</td>\n      <td>11</td>\n      <td>103_africa_mali_troops_pentagon</td>\n      <td>[africa, mali, troops, pentagon, somalia, sene...</td>\n      <td>[niamey niger nearly every day sometimes twice...</td>\n    </tr>\n    <tr>\n      <th>205</th>\n      <td>107</td>\n      <td>assad, clinton, syria, peace, israel</td>\n      <td>0.003297</td>\n      <td>PPG</td>\n      <td>10</td>\n      <td>107_assad_syria_peace_clinton</td>\n      <td>[assad, syria, peace, clinton, israel, christo...</td>\n      <td>[president clinton made one day venture shuttl...</td>\n    </tr>\n    <tr>\n      <th>206</th>\n      <td>108</td>\n      <td>hezbollah, lebanon, shiite, israel, mau</td>\n      <td>0.001099</td>\n      <td>PPG</td>\n      <td>10</td>\n      <td>108_lebanon_hezbollah_israel_ammonium</td>\n      <td>[lebanon, hezbollah, israel, ammonium, nitrate...</td>\n      <td>[little decade emergence unleash one deadliest...</td>\n    </tr>\n  </tbody>\n</table>\n<p>207 rows × 8 columns</p>\n</div>"
     },
     "execution_count": 37,
     "metadata": {},
     "output_type": "execute_result"
    }
   ],
   "source": [
    "topics_per_class_media.to_csv('output/dtm/topics_per_media.csv', index=False)\n",
    "topics_per_class_media"
   ],
   "metadata": {
    "collapsed": false,
    "ExecuteTime": {
     "end_time": "2024-05-23T09:37:30.053661Z",
     "start_time": "2024-05-23T09:37:29.980803Z"
    }
   },
   "id": "e7c27c9c4fbf8ba5",
   "execution_count": 37
  },
  {
   "cell_type": "code",
   "outputs": [
    {
     "data": {
      "application/vnd.plotly.v1+json": {
       "data": [
        {
         "name": "NYT",
         "x": [
          "14_muslim_islam_america_king",
          "18_syria_assad_damascus_lebanon",
          "19_ireland_northern_ira_britain",
          "20_bill_senate_clinton_oklahoma",
          "23_bush_iraq_war_democracy",
          "2_france_paris_macron_attack",
          "38_emergency_county_bulletin_drill",
          "3_shoot_gun_white_domestic",
          "43_clinton_president_america_computer",
          "4_detainee_guantanamo_obama_prison",
          "6_libya_qaddafi_colonel_america",
          "7_turkey_armenia_istanbul_coup",
          "9_spain_basque_madrid_eta"
         ],
         "y": [
          0.008058470764617692,
          0.010119940029985007,
          0.006934032983508246,
          0.006371814092953523,
          0.006184407796101949,
          0.0297976011994003,
          0.0011244377811094452,
          0.027361319340329836,
          0.0037481259370314842,
          0.02586206896551724,
          0.019677661169415293,
          0.017241379310344827,
          0.015367316341829085
         ],
         "type": "bar"
        },
        {
         "name": "PPG",
         "x": [
          "14_muslim_islam_america_king",
          "18_syria_assad_damascus_lebanon",
          "19_ireland_northern_ira_britain",
          "20_bill_senate_clinton_oklahoma",
          "23_bush_iraq_war_democracy",
          "2_france_paris_macron_attack",
          "38_emergency_county_bulletin_drill",
          "3_shoot_gun_white_domestic",
          "43_clinton_president_america_computer",
          "4_detainee_guantanamo_obama_prison",
          "6_libya_qaddafi_colonel_america",
          "7_turkey_armenia_istanbul_coup",
          "9_spain_basque_madrid_eta"
         ],
         "y": [
          0.01978021978021978,
          0.001098901098901099,
          0.01978021978021978,
          0.02197802197802198,
          0.01868131868131868,
          0.008791208791208791,
          0.03296703296703297,
          0.01868131868131868,
          0.013186813186813187,
          0.016483516483516484,
          0.0032967032967032967,
          0.004395604395604396,
          0.005494505494505495
         ],
         "type": "bar"
        }
       ],
       "layout": {
        "template": {
         "data": {
          "barpolar": [
           {
            "marker": {
             "line": {
              "color": "white",
              "width": 0.5
             },
             "pattern": {
              "fillmode": "overlay",
              "size": 10,
              "solidity": 0.2
             }
            },
            "type": "barpolar"
           }
          ],
          "bar": [
           {
            "error_x": {
             "color": "#2a3f5f"
            },
            "error_y": {
             "color": "#2a3f5f"
            },
            "marker": {
             "line": {
              "color": "white",
              "width": 0.5
             },
             "pattern": {
              "fillmode": "overlay",
              "size": 10,
              "solidity": 0.2
             }
            },
            "type": "bar"
           }
          ],
          "carpet": [
           {
            "aaxis": {
             "endlinecolor": "#2a3f5f",
             "gridcolor": "#C8D4E3",
             "linecolor": "#C8D4E3",
             "minorgridcolor": "#C8D4E3",
             "startlinecolor": "#2a3f5f"
            },
            "baxis": {
             "endlinecolor": "#2a3f5f",
             "gridcolor": "#C8D4E3",
             "linecolor": "#C8D4E3",
             "minorgridcolor": "#C8D4E3",
             "startlinecolor": "#2a3f5f"
            },
            "type": "carpet"
           }
          ],
          "choropleth": [
           {
            "colorbar": {
             "outlinewidth": 0,
             "ticks": ""
            },
            "type": "choropleth"
           }
          ],
          "contourcarpet": [
           {
            "colorbar": {
             "outlinewidth": 0,
             "ticks": ""
            },
            "type": "contourcarpet"
           }
          ],
          "contour": [
           {
            "colorbar": {
             "outlinewidth": 0,
             "ticks": ""
            },
            "colorscale": [
             [
              0.0,
              "#0d0887"
             ],
             [
              0.1111111111111111,
              "#46039f"
             ],
             [
              0.2222222222222222,
              "#7201a8"
             ],
             [
              0.3333333333333333,
              "#9c179e"
             ],
             [
              0.4444444444444444,
              "#bd3786"
             ],
             [
              0.5555555555555556,
              "#d8576b"
             ],
             [
              0.6666666666666666,
              "#ed7953"
             ],
             [
              0.7777777777777778,
              "#fb9f3a"
             ],
             [
              0.8888888888888888,
              "#fdca26"
             ],
             [
              1.0,
              "#f0f921"
             ]
            ],
            "type": "contour"
           }
          ],
          "heatmapgl": [
           {
            "colorbar": {
             "outlinewidth": 0,
             "ticks": ""
            },
            "colorscale": [
             [
              0.0,
              "#0d0887"
             ],
             [
              0.1111111111111111,
              "#46039f"
             ],
             [
              0.2222222222222222,
              "#7201a8"
             ],
             [
              0.3333333333333333,
              "#9c179e"
             ],
             [
              0.4444444444444444,
              "#bd3786"
             ],
             [
              0.5555555555555556,
              "#d8576b"
             ],
             [
              0.6666666666666666,
              "#ed7953"
             ],
             [
              0.7777777777777778,
              "#fb9f3a"
             ],
             [
              0.8888888888888888,
              "#fdca26"
             ],
             [
              1.0,
              "#f0f921"
             ]
            ],
            "type": "heatmapgl"
           }
          ],
          "heatmap": [
           {
            "colorbar": {
             "outlinewidth": 0,
             "ticks": ""
            },
            "colorscale": [
             [
              0.0,
              "#0d0887"
             ],
             [
              0.1111111111111111,
              "#46039f"
             ],
             [
              0.2222222222222222,
              "#7201a8"
             ],
             [
              0.3333333333333333,
              "#9c179e"
             ],
             [
              0.4444444444444444,
              "#bd3786"
             ],
             [
              0.5555555555555556,
              "#d8576b"
             ],
             [
              0.6666666666666666,
              "#ed7953"
             ],
             [
              0.7777777777777778,
              "#fb9f3a"
             ],
             [
              0.8888888888888888,
              "#fdca26"
             ],
             [
              1.0,
              "#f0f921"
             ]
            ],
            "type": "heatmap"
           }
          ],
          "histogram2dcontour": [
           {
            "colorbar": {
             "outlinewidth": 0,
             "ticks": ""
            },
            "colorscale": [
             [
              0.0,
              "#0d0887"
             ],
             [
              0.1111111111111111,
              "#46039f"
             ],
             [
              0.2222222222222222,
              "#7201a8"
             ],
             [
              0.3333333333333333,
              "#9c179e"
             ],
             [
              0.4444444444444444,
              "#bd3786"
             ],
             [
              0.5555555555555556,
              "#d8576b"
             ],
             [
              0.6666666666666666,
              "#ed7953"
             ],
             [
              0.7777777777777778,
              "#fb9f3a"
             ],
             [
              0.8888888888888888,
              "#fdca26"
             ],
             [
              1.0,
              "#f0f921"
             ]
            ],
            "type": "histogram2dcontour"
           }
          ],
          "histogram2d": [
           {
            "colorbar": {
             "outlinewidth": 0,
             "ticks": ""
            },
            "colorscale": [
             [
              0.0,
              "#0d0887"
             ],
             [
              0.1111111111111111,
              "#46039f"
             ],
             [
              0.2222222222222222,
              "#7201a8"
             ],
             [
              0.3333333333333333,
              "#9c179e"
             ],
             [
              0.4444444444444444,
              "#bd3786"
             ],
             [
              0.5555555555555556,
              "#d8576b"
             ],
             [
              0.6666666666666666,
              "#ed7953"
             ],
             [
              0.7777777777777778,
              "#fb9f3a"
             ],
             [
              0.8888888888888888,
              "#fdca26"
             ],
             [
              1.0,
              "#f0f921"
             ]
            ],
            "type": "histogram2d"
           }
          ],
          "histogram": [
           {
            "marker": {
             "pattern": {
              "fillmode": "overlay",
              "size": 10,
              "solidity": 0.2
             }
            },
            "type": "histogram"
           }
          ],
          "mesh3d": [
           {
            "colorbar": {
             "outlinewidth": 0,
             "ticks": ""
            },
            "type": "mesh3d"
           }
          ],
          "parcoords": [
           {
            "line": {
             "colorbar": {
              "outlinewidth": 0,
              "ticks": ""
             }
            },
            "type": "parcoords"
           }
          ],
          "pie": [
           {
            "automargin": true,
            "type": "pie"
           }
          ],
          "scatter3d": [
           {
            "line": {
             "colorbar": {
              "outlinewidth": 0,
              "ticks": ""
             }
            },
            "marker": {
             "colorbar": {
              "outlinewidth": 0,
              "ticks": ""
             }
            },
            "type": "scatter3d"
           }
          ],
          "scattercarpet": [
           {
            "marker": {
             "colorbar": {
              "outlinewidth": 0,
              "ticks": ""
             }
            },
            "type": "scattercarpet"
           }
          ],
          "scattergeo": [
           {
            "marker": {
             "colorbar": {
              "outlinewidth": 0,
              "ticks": ""
             }
            },
            "type": "scattergeo"
           }
          ],
          "scattergl": [
           {
            "marker": {
             "colorbar": {
              "outlinewidth": 0,
              "ticks": ""
             }
            },
            "type": "scattergl"
           }
          ],
          "scattermapbox": [
           {
            "marker": {
             "colorbar": {
              "outlinewidth": 0,
              "ticks": ""
             }
            },
            "type": "scattermapbox"
           }
          ],
          "scatterpolargl": [
           {
            "marker": {
             "colorbar": {
              "outlinewidth": 0,
              "ticks": ""
             }
            },
            "type": "scatterpolargl"
           }
          ],
          "scatterpolar": [
           {
            "marker": {
             "colorbar": {
              "outlinewidth": 0,
              "ticks": ""
             }
            },
            "type": "scatterpolar"
           }
          ],
          "scatter": [
           {
            "fillpattern": {
             "fillmode": "overlay",
             "size": 10,
             "solidity": 0.2
            },
            "type": "scatter"
           }
          ],
          "scatterternary": [
           {
            "marker": {
             "colorbar": {
              "outlinewidth": 0,
              "ticks": ""
             }
            },
            "type": "scatterternary"
           }
          ],
          "surface": [
           {
            "colorbar": {
             "outlinewidth": 0,
             "ticks": ""
            },
            "colorscale": [
             [
              0.0,
              "#0d0887"
             ],
             [
              0.1111111111111111,
              "#46039f"
             ],
             [
              0.2222222222222222,
              "#7201a8"
             ],
             [
              0.3333333333333333,
              "#9c179e"
             ],
             [
              0.4444444444444444,
              "#bd3786"
             ],
             [
              0.5555555555555556,
              "#d8576b"
             ],
             [
              0.6666666666666666,
              "#ed7953"
             ],
             [
              0.7777777777777778,
              "#fb9f3a"
             ],
             [
              0.8888888888888888,
              "#fdca26"
             ],
             [
              1.0,
              "#f0f921"
             ]
            ],
            "type": "surface"
           }
          ],
          "table": [
           {
            "cells": {
             "fill": {
              "color": "#EBF0F8"
             },
             "line": {
              "color": "white"
             }
            },
            "header": {
             "fill": {
              "color": "#C8D4E3"
             },
             "line": {
              "color": "white"
             }
            },
            "type": "table"
           }
          ]
         },
         "layout": {
          "annotationdefaults": {
           "arrowcolor": "#2a3f5f",
           "arrowhead": 0,
           "arrowwidth": 1
          },
          "autotypenumbers": "strict",
          "coloraxis": {
           "colorbar": {
            "outlinewidth": 0,
            "ticks": ""
           }
          },
          "colorscale": {
           "diverging": [
            [
             0,
             "#8e0152"
            ],
            [
             0.1,
             "#c51b7d"
            ],
            [
             0.2,
             "#de77ae"
            ],
            [
             0.3,
             "#f1b6da"
            ],
            [
             0.4,
             "#fde0ef"
            ],
            [
             0.5,
             "#f7f7f7"
            ],
            [
             0.6,
             "#e6f5d0"
            ],
            [
             0.7,
             "#b8e186"
            ],
            [
             0.8,
             "#7fbc41"
            ],
            [
             0.9,
             "#4d9221"
            ],
            [
             1,
             "#276419"
            ]
           ],
           "sequential": [
            [
             0.0,
             "#0d0887"
            ],
            [
             0.1111111111111111,
             "#46039f"
            ],
            [
             0.2222222222222222,
             "#7201a8"
            ],
            [
             0.3333333333333333,
             "#9c179e"
            ],
            [
             0.4444444444444444,
             "#bd3786"
            ],
            [
             0.5555555555555556,
             "#d8576b"
            ],
            [
             0.6666666666666666,
             "#ed7953"
            ],
            [
             0.7777777777777778,
             "#fb9f3a"
            ],
            [
             0.8888888888888888,
             "#fdca26"
            ],
            [
             1.0,
             "#f0f921"
            ]
           ],
           "sequentialminus": [
            [
             0.0,
             "#0d0887"
            ],
            [
             0.1111111111111111,
             "#46039f"
            ],
            [
             0.2222222222222222,
             "#7201a8"
            ],
            [
             0.3333333333333333,
             "#9c179e"
            ],
            [
             0.4444444444444444,
             "#bd3786"
            ],
            [
             0.5555555555555556,
             "#d8576b"
            ],
            [
             0.6666666666666666,
             "#ed7953"
            ],
            [
             0.7777777777777778,
             "#fb9f3a"
            ],
            [
             0.8888888888888888,
             "#fdca26"
            ],
            [
             1.0,
             "#f0f921"
            ]
           ]
          },
          "colorway": [
           "#636efa",
           "#EF553B",
           "#00cc96",
           "#ab63fa",
           "#FFA15A",
           "#19d3f3",
           "#FF6692",
           "#B6E880",
           "#FF97FF",
           "#FECB52"
          ],
          "font": {
           "color": "#2a3f5f"
          },
          "geo": {
           "bgcolor": "white",
           "lakecolor": "white",
           "landcolor": "white",
           "showlakes": true,
           "showland": true,
           "subunitcolor": "#C8D4E3"
          },
          "hoverlabel": {
           "align": "left"
          },
          "hovermode": "closest",
          "mapbox": {
           "style": "light"
          },
          "paper_bgcolor": "white",
          "plot_bgcolor": "white",
          "polar": {
           "angularaxis": {
            "gridcolor": "#EBF0F8",
            "linecolor": "#EBF0F8",
            "ticks": ""
           },
           "bgcolor": "white",
           "radialaxis": {
            "gridcolor": "#EBF0F8",
            "linecolor": "#EBF0F8",
            "ticks": ""
           }
          },
          "scene": {
           "xaxis": {
            "backgroundcolor": "white",
            "gridcolor": "#DFE8F3",
            "gridwidth": 2,
            "linecolor": "#EBF0F8",
            "showbackground": true,
            "ticks": "",
            "zerolinecolor": "#EBF0F8"
           },
           "yaxis": {
            "backgroundcolor": "white",
            "gridcolor": "#DFE8F3",
            "gridwidth": 2,
            "linecolor": "#EBF0F8",
            "showbackground": true,
            "ticks": "",
            "zerolinecolor": "#EBF0F8"
           },
           "zaxis": {
            "backgroundcolor": "white",
            "gridcolor": "#DFE8F3",
            "gridwidth": 2,
            "linecolor": "#EBF0F8",
            "showbackground": true,
            "ticks": "",
            "zerolinecolor": "#EBF0F8"
           }
          },
          "shapedefaults": {
           "line": {
            "color": "#2a3f5f"
           }
          },
          "ternary": {
           "aaxis": {
            "gridcolor": "#DFE8F3",
            "linecolor": "#A2B1C6",
            "ticks": ""
           },
           "baxis": {
            "gridcolor": "#DFE8F3",
            "linecolor": "#A2B1C6",
            "ticks": ""
           },
           "bgcolor": "white",
           "caxis": {
            "gridcolor": "#DFE8F3",
            "linecolor": "#A2B1C6",
            "ticks": ""
           }
          },
          "title": {
           "x": 0.05
          },
          "xaxis": {
           "automargin": true,
           "gridcolor": "#EBF0F8",
           "linecolor": "#EBF0F8",
           "ticks": "",
           "title": {
            "standoff": 15
           },
           "zerolinecolor": "#EBF0F8",
           "zerolinewidth": 2
          },
          "yaxis": {
           "automargin": true,
           "gridcolor": "#EBF0F8",
           "linecolor": "#EBF0F8",
           "ticks": "",
           "title": {
            "standoff": 15
           },
           "zerolinecolor": "#EBF0F8",
           "zerolinewidth": 2
          }
         }
        },
        "barmode": "group",
        "width": 1200,
        "height": 800,
        "title": {
         "text": "Frequency of Topics (NYT vs PPG)"
        },
        "xaxis": {
         "title": {
          "text": "Name"
         }
        },
        "yaxis": {
         "title": {
          "text": "Frequency"
         }
        }
       },
       "config": {
        "plotlyServerURL": "https://plot.ly"
       }
      },
      "text/html": "<div>                            <div id=\"ee4a0554-7f0d-44b3-b4f6-b06d4b555b59\" class=\"plotly-graph-div\" style=\"height:800px; width:1200px;\"></div>            <script type=\"text/javascript\">                require([\"plotly\"], function(Plotly) {                    window.PLOTLYENV=window.PLOTLYENV || {};                                    if (document.getElementById(\"ee4a0554-7f0d-44b3-b4f6-b06d4b555b59\")) {                    Plotly.newPlot(                        \"ee4a0554-7f0d-44b3-b4f6-b06d4b555b59\",                        [{\"name\":\"NYT\",\"x\":[\"14_muslim_islam_america_king\",\"18_syria_assad_damascus_lebanon\",\"19_ireland_northern_ira_britain\",\"20_bill_senate_clinton_oklahoma\",\"23_bush_iraq_war_democracy\",\"2_france_paris_macron_attack\",\"38_emergency_county_bulletin_drill\",\"3_shoot_gun_white_domestic\",\"43_clinton_president_america_computer\",\"4_detainee_guantanamo_obama_prison\",\"6_libya_qaddafi_colonel_america\",\"7_turkey_armenia_istanbul_coup\",\"9_spain_basque_madrid_eta\"],\"y\":[0.008058470764617692,0.010119940029985007,0.006934032983508246,0.006371814092953523,0.006184407796101949,0.0297976011994003,0.0011244377811094452,0.027361319340329836,0.0037481259370314842,0.02586206896551724,0.019677661169415293,0.017241379310344827,0.015367316341829085],\"type\":\"bar\"},{\"name\":\"PPG\",\"x\":[\"14_muslim_islam_america_king\",\"18_syria_assad_damascus_lebanon\",\"19_ireland_northern_ira_britain\",\"20_bill_senate_clinton_oklahoma\",\"23_bush_iraq_war_democracy\",\"2_france_paris_macron_attack\",\"38_emergency_county_bulletin_drill\",\"3_shoot_gun_white_domestic\",\"43_clinton_president_america_computer\",\"4_detainee_guantanamo_obama_prison\",\"6_libya_qaddafi_colonel_america\",\"7_turkey_armenia_istanbul_coup\",\"9_spain_basque_madrid_eta\"],\"y\":[0.01978021978021978,0.001098901098901099,0.01978021978021978,0.02197802197802198,0.01868131868131868,0.008791208791208791,0.03296703296703297,0.01868131868131868,0.013186813186813187,0.016483516483516484,0.0032967032967032967,0.004395604395604396,0.005494505494505495],\"type\":\"bar\"}],                        {\"template\":{\"data\":{\"barpolar\":[{\"marker\":{\"line\":{\"color\":\"white\",\"width\":0.5},\"pattern\":{\"fillmode\":\"overlay\",\"size\":10,\"solidity\":0.2}},\"type\":\"barpolar\"}],\"bar\":[{\"error_x\":{\"color\":\"#2a3f5f\"},\"error_y\":{\"color\":\"#2a3f5f\"},\"marker\":{\"line\":{\"color\":\"white\",\"width\":0.5},\"pattern\":{\"fillmode\":\"overlay\",\"size\":10,\"solidity\":0.2}},\"type\":\"bar\"}],\"carpet\":[{\"aaxis\":{\"endlinecolor\":\"#2a3f5f\",\"gridcolor\":\"#C8D4E3\",\"linecolor\":\"#C8D4E3\",\"minorgridcolor\":\"#C8D4E3\",\"startlinecolor\":\"#2a3f5f\"},\"baxis\":{\"endlinecolor\":\"#2a3f5f\",\"gridcolor\":\"#C8D4E3\",\"linecolor\":\"#C8D4E3\",\"minorgridcolor\":\"#C8D4E3\",\"startlinecolor\":\"#2a3f5f\"},\"type\":\"carpet\"}],\"choropleth\":[{\"colorbar\":{\"outlinewidth\":0,\"ticks\":\"\"},\"type\":\"choropleth\"}],\"contourcarpet\":[{\"colorbar\":{\"outlinewidth\":0,\"ticks\":\"\"},\"type\":\"contourcarpet\"}],\"contour\":[{\"colorbar\":{\"outlinewidth\":0,\"ticks\":\"\"},\"colorscale\":[[0.0,\"#0d0887\"],[0.1111111111111111,\"#46039f\"],[0.2222222222222222,\"#7201a8\"],[0.3333333333333333,\"#9c179e\"],[0.4444444444444444,\"#bd3786\"],[0.5555555555555556,\"#d8576b\"],[0.6666666666666666,\"#ed7953\"],[0.7777777777777778,\"#fb9f3a\"],[0.8888888888888888,\"#fdca26\"],[1.0,\"#f0f921\"]],\"type\":\"contour\"}],\"heatmapgl\":[{\"colorbar\":{\"outlinewidth\":0,\"ticks\":\"\"},\"colorscale\":[[0.0,\"#0d0887\"],[0.1111111111111111,\"#46039f\"],[0.2222222222222222,\"#7201a8\"],[0.3333333333333333,\"#9c179e\"],[0.4444444444444444,\"#bd3786\"],[0.5555555555555556,\"#d8576b\"],[0.6666666666666666,\"#ed7953\"],[0.7777777777777778,\"#fb9f3a\"],[0.8888888888888888,\"#fdca26\"],[1.0,\"#f0f921\"]],\"type\":\"heatmapgl\"}],\"heatmap\":[{\"colorbar\":{\"outlinewidth\":0,\"ticks\":\"\"},\"colorscale\":[[0.0,\"#0d0887\"],[0.1111111111111111,\"#46039f\"],[0.2222222222222222,\"#7201a8\"],[0.3333333333333333,\"#9c179e\"],[0.4444444444444444,\"#bd3786\"],[0.5555555555555556,\"#d8576b\"],[0.6666666666666666,\"#ed7953\"],[0.7777777777777778,\"#fb9f3a\"],[0.8888888888888888,\"#fdca26\"],[1.0,\"#f0f921\"]],\"type\":\"heatmap\"}],\"histogram2dcontour\":[{\"colorbar\":{\"outlinewidth\":0,\"ticks\":\"\"},\"colorscale\":[[0.0,\"#0d0887\"],[0.1111111111111111,\"#46039f\"],[0.2222222222222222,\"#7201a8\"],[0.3333333333333333,\"#9c179e\"],[0.4444444444444444,\"#bd3786\"],[0.5555555555555556,\"#d8576b\"],[0.6666666666666666,\"#ed7953\"],[0.7777777777777778,\"#fb9f3a\"],[0.8888888888888888,\"#fdca26\"],[1.0,\"#f0f921\"]],\"type\":\"histogram2dcontour\"}],\"histogram2d\":[{\"colorbar\":{\"outlinewidth\":0,\"ticks\":\"\"},\"colorscale\":[[0.0,\"#0d0887\"],[0.1111111111111111,\"#46039f\"],[0.2222222222222222,\"#7201a8\"],[0.3333333333333333,\"#9c179e\"],[0.4444444444444444,\"#bd3786\"],[0.5555555555555556,\"#d8576b\"],[0.6666666666666666,\"#ed7953\"],[0.7777777777777778,\"#fb9f3a\"],[0.8888888888888888,\"#fdca26\"],[1.0,\"#f0f921\"]],\"type\":\"histogram2d\"}],\"histogram\":[{\"marker\":{\"pattern\":{\"fillmode\":\"overlay\",\"size\":10,\"solidity\":0.2}},\"type\":\"histogram\"}],\"mesh3d\":[{\"colorbar\":{\"outlinewidth\":0,\"ticks\":\"\"},\"type\":\"mesh3d\"}],\"parcoords\":[{\"line\":{\"colorbar\":{\"outlinewidth\":0,\"ticks\":\"\"}},\"type\":\"parcoords\"}],\"pie\":[{\"automargin\":true,\"type\":\"pie\"}],\"scatter3d\":[{\"line\":{\"colorbar\":{\"outlinewidth\":0,\"ticks\":\"\"}},\"marker\":{\"colorbar\":{\"outlinewidth\":0,\"ticks\":\"\"}},\"type\":\"scatter3d\"}],\"scattercarpet\":[{\"marker\":{\"colorbar\":{\"outlinewidth\":0,\"ticks\":\"\"}},\"type\":\"scattercarpet\"}],\"scattergeo\":[{\"marker\":{\"colorbar\":{\"outlinewidth\":0,\"ticks\":\"\"}},\"type\":\"scattergeo\"}],\"scattergl\":[{\"marker\":{\"colorbar\":{\"outlinewidth\":0,\"ticks\":\"\"}},\"type\":\"scattergl\"}],\"scattermapbox\":[{\"marker\":{\"colorbar\":{\"outlinewidth\":0,\"ticks\":\"\"}},\"type\":\"scattermapbox\"}],\"scatterpolargl\":[{\"marker\":{\"colorbar\":{\"outlinewidth\":0,\"ticks\":\"\"}},\"type\":\"scatterpolargl\"}],\"scatterpolar\":[{\"marker\":{\"colorbar\":{\"outlinewidth\":0,\"ticks\":\"\"}},\"type\":\"scatterpolar\"}],\"scatter\":[{\"fillpattern\":{\"fillmode\":\"overlay\",\"size\":10,\"solidity\":0.2},\"type\":\"scatter\"}],\"scatterternary\":[{\"marker\":{\"colorbar\":{\"outlinewidth\":0,\"ticks\":\"\"}},\"type\":\"scatterternary\"}],\"surface\":[{\"colorbar\":{\"outlinewidth\":0,\"ticks\":\"\"},\"colorscale\":[[0.0,\"#0d0887\"],[0.1111111111111111,\"#46039f\"],[0.2222222222222222,\"#7201a8\"],[0.3333333333333333,\"#9c179e\"],[0.4444444444444444,\"#bd3786\"],[0.5555555555555556,\"#d8576b\"],[0.6666666666666666,\"#ed7953\"],[0.7777777777777778,\"#fb9f3a\"],[0.8888888888888888,\"#fdca26\"],[1.0,\"#f0f921\"]],\"type\":\"surface\"}],\"table\":[{\"cells\":{\"fill\":{\"color\":\"#EBF0F8\"},\"line\":{\"color\":\"white\"}},\"header\":{\"fill\":{\"color\":\"#C8D4E3\"},\"line\":{\"color\":\"white\"}},\"type\":\"table\"}]},\"layout\":{\"annotationdefaults\":{\"arrowcolor\":\"#2a3f5f\",\"arrowhead\":0,\"arrowwidth\":1},\"autotypenumbers\":\"strict\",\"coloraxis\":{\"colorbar\":{\"outlinewidth\":0,\"ticks\":\"\"}},\"colorscale\":{\"diverging\":[[0,\"#8e0152\"],[0.1,\"#c51b7d\"],[0.2,\"#de77ae\"],[0.3,\"#f1b6da\"],[0.4,\"#fde0ef\"],[0.5,\"#f7f7f7\"],[0.6,\"#e6f5d0\"],[0.7,\"#b8e186\"],[0.8,\"#7fbc41\"],[0.9,\"#4d9221\"],[1,\"#276419\"]],\"sequential\":[[0.0,\"#0d0887\"],[0.1111111111111111,\"#46039f\"],[0.2222222222222222,\"#7201a8\"],[0.3333333333333333,\"#9c179e\"],[0.4444444444444444,\"#bd3786\"],[0.5555555555555556,\"#d8576b\"],[0.6666666666666666,\"#ed7953\"],[0.7777777777777778,\"#fb9f3a\"],[0.8888888888888888,\"#fdca26\"],[1.0,\"#f0f921\"]],\"sequentialminus\":[[0.0,\"#0d0887\"],[0.1111111111111111,\"#46039f\"],[0.2222222222222222,\"#7201a8\"],[0.3333333333333333,\"#9c179e\"],[0.4444444444444444,\"#bd3786\"],[0.5555555555555556,\"#d8576b\"],[0.6666666666666666,\"#ed7953\"],[0.7777777777777778,\"#fb9f3a\"],[0.8888888888888888,\"#fdca26\"],[1.0,\"#f0f921\"]]},\"colorway\":[\"#636efa\",\"#EF553B\",\"#00cc96\",\"#ab63fa\",\"#FFA15A\",\"#19d3f3\",\"#FF6692\",\"#B6E880\",\"#FF97FF\",\"#FECB52\"],\"font\":{\"color\":\"#2a3f5f\"},\"geo\":{\"bgcolor\":\"white\",\"lakecolor\":\"white\",\"landcolor\":\"white\",\"showlakes\":true,\"showland\":true,\"subunitcolor\":\"#C8D4E3\"},\"hoverlabel\":{\"align\":\"left\"},\"hovermode\":\"closest\",\"mapbox\":{\"style\":\"light\"},\"paper_bgcolor\":\"white\",\"plot_bgcolor\":\"white\",\"polar\":{\"angularaxis\":{\"gridcolor\":\"#EBF0F8\",\"linecolor\":\"#EBF0F8\",\"ticks\":\"\"},\"bgcolor\":\"white\",\"radialaxis\":{\"gridcolor\":\"#EBF0F8\",\"linecolor\":\"#EBF0F8\",\"ticks\":\"\"}},\"scene\":{\"xaxis\":{\"backgroundcolor\":\"white\",\"gridcolor\":\"#DFE8F3\",\"gridwidth\":2,\"linecolor\":\"#EBF0F8\",\"showbackground\":true,\"ticks\":\"\",\"zerolinecolor\":\"#EBF0F8\"},\"yaxis\":{\"backgroundcolor\":\"white\",\"gridcolor\":\"#DFE8F3\",\"gridwidth\":2,\"linecolor\":\"#EBF0F8\",\"showbackground\":true,\"ticks\":\"\",\"zerolinecolor\":\"#EBF0F8\"},\"zaxis\":{\"backgroundcolor\":\"white\",\"gridcolor\":\"#DFE8F3\",\"gridwidth\":2,\"linecolor\":\"#EBF0F8\",\"showbackground\":true,\"ticks\":\"\",\"zerolinecolor\":\"#EBF0F8\"}},\"shapedefaults\":{\"line\":{\"color\":\"#2a3f5f\"}},\"ternary\":{\"aaxis\":{\"gridcolor\":\"#DFE8F3\",\"linecolor\":\"#A2B1C6\",\"ticks\":\"\"},\"baxis\":{\"gridcolor\":\"#DFE8F3\",\"linecolor\":\"#A2B1C6\",\"ticks\":\"\"},\"bgcolor\":\"white\",\"caxis\":{\"gridcolor\":\"#DFE8F3\",\"linecolor\":\"#A2B1C6\",\"ticks\":\"\"}},\"title\":{\"x\":0.05},\"xaxis\":{\"automargin\":true,\"gridcolor\":\"#EBF0F8\",\"linecolor\":\"#EBF0F8\",\"ticks\":\"\",\"title\":{\"standoff\":15},\"zerolinecolor\":\"#EBF0F8\",\"zerolinewidth\":2},\"yaxis\":{\"automargin\":true,\"gridcolor\":\"#EBF0F8\",\"linecolor\":\"#EBF0F8\",\"ticks\":\"\",\"title\":{\"standoff\":15},\"zerolinecolor\":\"#EBF0F8\",\"zerolinewidth\":2}}},\"barmode\":\"group\",\"width\":1200,\"height\":800,\"title\":{\"text\":\"Frequency of Topics (NYT vs PPG)\"},\"xaxis\":{\"title\":{\"text\":\"Name\"}},\"yaxis\":{\"title\":{\"text\":\"Frequency\"}}},                        {\"responsive\": true}                    ).then(function(){\n                            \nvar gd = document.getElementById('ee4a0554-7f0d-44b3-b4f6-b06d4b555b59');\nvar x = new MutationObserver(function (mutations, observer) {{\n        var display = window.getComputedStyle(gd).display;\n        if (!display || display === 'none') {{\n            console.log([gd, 'removed!']);\n            Plotly.purge(gd);\n            observer.disconnect();\n        }}\n}});\n\n// Listen for the removal of the full notebook cells\nvar notebookContainer = gd.closest('#notebook-container');\nif (notebookContainer) {{\n    x.observe(notebookContainer, {childList: true});\n}}\n\n// Listen for the clearing of the current output cell\nvar outputEl = gd.closest('.output');\nif (outputEl) {{\n    x.observe(outputEl, {childList: true});\n}}\n\n                        })                };                });            </script>        </div>"
     },
     "metadata": {},
     "output_type": "display_data"
    }
   ],
   "source": [
    "topics_per_class_media_filtered = topics_per_class_media.groupby('Topic').filter(lambda x:  np.std(x.Frequency)  > 0.004)\n",
    "# filter out Topic -1\n",
    "topics_per_class_media_filtered = topics_per_class_media_filtered.loc[topics_per_class_media_filtered['Topic'] != -1]\n",
    "\n",
    "# Pivot the DataFrame\n",
    "df_pivot = topics_per_class_media_filtered.pivot(index='Name', columns='Class', values='Frequency').reset_index()\n",
    "\n",
    "# Create the plot\n",
    "fig = go.Figure()\n",
    "\n",
    "# Add NYT scores\n",
    "fig.add_trace(go.Bar(\n",
    "    x=df_pivot['Name'],\n",
    "    y=df_pivot['NYT'],\n",
    "    name='NYT'\n",
    "))\n",
    "\n",
    "# Add PPG scores\n",
    "fig.add_trace(go.Bar(\n",
    "    x=df_pivot['Name'],\n",
    "    y=df_pivot['PPG'],\n",
    "    name='PPG'\n",
    "))\n",
    "\n",
    "# Update layout for grouped bars\n",
    "fig.update_layout(\n",
    "    barmode='group',\n",
    "    width=1200, height=800, \n",
    "    title='Frequency of Topics (NYT vs PPG)',\n",
    "    xaxis_title='Name',\n",
    "    yaxis_title='Frequency',\n",
    "    template='plotly_white'\n",
    ")\n",
    "\n",
    "fig.write_image('output/dtm/topics_per_media.png')\n",
    "fig.show()"
   ],
   "metadata": {
    "collapsed": false,
    "ExecuteTime": {
     "end_time": "2024-05-23T09:40:00.328600Z",
     "start_time": "2024-05-23T09:40:00.097662Z"
    }
   },
   "id": "8425a0891c2ec48",
   "execution_count": 41
  },
  {
   "cell_type": "code",
   "outputs": [],
   "source": [],
   "metadata": {
    "collapsed": false
   },
   "id": "3a9d4290b6b58553"
  }
 ],
 "metadata": {
  "kernelspec": {
   "display_name": "Python 3",
   "language": "python",
   "name": "python3"
  },
  "language_info": {
   "codemirror_mode": {
    "name": "ipython",
    "version": 2
   },
   "file_extension": ".py",
   "mimetype": "text/x-python",
   "name": "python",
   "nbconvert_exporter": "python",
   "pygments_lexer": "ipython2",
   "version": "2.7.6"
  }
 },
 "nbformat": 4,
 "nbformat_minor": 5
}
